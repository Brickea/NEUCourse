{
 "cells": [
  {
   "cell_type": "markdown",
   "metadata": {},
   "source": [
    "# Decision Trees"
   ]
  },
  {
   "cell_type": "markdown",
   "metadata": {},
   "source": [
    "## Learning outcomes"
   ]
  },
  {
   "cell_type": "markdown",
   "metadata": {},
   "source": [
    "At the end of this lesson, you should be able:\n",
    "    \n",
    "_Explain how a decision tree  tofunctions and how to build one by hand._\n",
    "\n",
    "Note: The appendices have an example of builidng a decision tree in python.   \n"
   ]
  },
  {
   "cell_type": "markdown",
   "metadata": {},
   "source": [
    "## 20 Questions"
   ]
  },
  {
   "cell_type": "markdown",
   "metadata": {},
   "source": [
    "In the traditional [20 Questions](https://en.wikipedia.org/wiki/Twenty_Questions) game, one player is chosen to be the answerer. That person chooses a subject (object) but does not reveal this to the others. All other players are questioners. They each take turns asking a question which can be answered with a simple \"Yes\" or \"No.\" The questioners try to guess the answerers subject (object).\n",
    "\n",
    "The Two Rules \n",
    "\n",
    "  Rule 1: Questioners ask Yes-or-No questions     \n",
    "  Rule 2: Answerer responds with a Yes or a No    \n",
    "\n",
    "Traditionally,first question is something like the following: \n",
    "\n",
    "  * \"Is it animal?\"  \n",
    "  * \"Is it vegetable?\"  \n",
    "  * \"Is it mineral?\"  \n",
    "  \n",
    "Suppose the answer is \"Justin Bieber?\"\n",
    "\n",
    "Which would be a better first question?\n",
    "\n",
    "\"Is it Taylor Swift?\" or \"Is it animal?\"   \n",
    "\n"
   ]
  },
  {
   "cell_type": "markdown",
   "metadata": {},
   "source": [
    "## What is a tree?"
   ]
  },
  {
   "cell_type": "markdown",
   "metadata": {},
   "source": [
    "What is a tree?  In mathematics, and more specifically in graph theory, a [tree](https://en.wikipedia.org/wiki/Tree_(graph_theory)) is a directed or an undirected graph in which any two vertices are connected by exactly one path. In other words, any acyclic connected graph is a tree.\n",
    "\n",
    "A tree is an undirected graph G that satisfies any of the following equivalent conditions:  \n",
    "* G is connected and has no cycles.   \n",
    "* G is acyclic, and a simple cycle is formed if any edge is added to G.  \n",
    "* G is connected, but is not connected if any single edge is removed from G.  \n",
    "\n",
    "A rooted tree is a tree in which one vertex/node has been designated the root. The edges of a rooted tree can be assigned a natural orientation, either away from or towards the root, in which case the structure becomes a directed rooted tree. \n",
    "\n",
    "A vertex/node that does not split is called Leaf or Terminal node.     \n",
    "\n",
    "A sub section of entire tree is called branch or sub-tree.  \n",
    "\n",
    "A vertex/node, which is divided into sub-nodes is called parent node of sub-nodes where as sub-nodes are the child of parent node.   \n",
    "\n",
    "![rooted tree](http://nikbearbrown.com/YouTube/MachineLearning/DecisionTrees/rooted_digraph.png )  \n",
    "*Rooted Tree*"
   ]
  },
  {
   "cell_type": "markdown",
   "metadata": {},
   "source": [
    "## What are Decision Trees?"
   ]
  },
  {
   "cell_type": "markdown",
   "metadata": {},
   "source": [
    "A [decision tree](https://en.wikipedia.org/wiki/Decision_tree) is a [supervised learning](https://en.wikipedia.org/wiki/Supervised_learning) algorithm that uses a tree-like graph or model of decisions and their outcomes.  The decision tree can be linearized into decision rules, where the outcome is the contents of the leaf node, and the conditions along the path form a conjunction in the if clause. In general, the rules have the form:\n",
    "\n",
    "$if \\quad condition1 \\quad and \\quad condition2 \\quad and \\quad condition3 \\quad then \\quad outcome$\n",
    "\n",
    "Each node in the tree is a decisions/tests. Each path from the tree root to a leaf corresponds to a conjunction of attribute decisions/tests. The tree itself corresponds to a disjunction of these conjunctions."
   ]
  },
  {
   "cell_type": "code",
   "execution_count": 1,
   "metadata": {},
   "outputs": [],
   "source": [
    "from __future__ import print_function\n",
    "import warnings\n",
    "warnings.filterwarnings('ignore')\n",
    "%matplotlib inline\n",
    "\n",
    "import os\n",
    "import subprocess\n",
    "\n",
    "import pandas as pd\n",
    "import numpy as np\n",
    "from sklearn.tree import DecisionTreeClassifier, export_graphviz\n",
    "\n",
    "import matplotlib.pyplot as plt"
   ]
  },
  {
   "cell_type": "code",
   "execution_count": 2,
   "metadata": {},
   "outputs": [
    {
     "name": "stdout",
     "output_type": "stream",
     "text": [
      "-- writing to local play.csv file\n",
      "      Date  Temp   Outlook Humidity  Windy Play\n",
      "0    5-Mar   hot     sunny     high  False   no\n",
      "1    6-Mar   hot     sunny     high   True   no\n",
      "2    7-Mar   hot  overcast     high  False  yes\n",
      "3    8-Mar  cool      rain   normal  False  yes\n",
      "4    9-Mar  cool  overcast   normal   True  yes\n",
      "5   10-Mar  mild     sunny     high  False   no\n",
      "6   11-Mar  cool     sunny   normal  False  yes\n",
      "7   12-Mar  mild      rain   normal  False  yes\n",
      "8   13-Mar  mild     sunny   normal   True  yes\n",
      "9   14-Mar  mild  overcast     high   True  yes\n",
      "10  15-Mar   hot  overcast   normal  False  yes\n",
      "11  16-Mar  mild      rain     high   True   no\n",
      "12  17-Mar  cool      rain   normal   True   no\n",
      "13  18-Mar  mild      rain     high  False  yes\n",
      "\n"
     ]
    }
   ],
   "source": [
    "def get_play_data():\n",
    "    \"\"\"Get the play data, from local csv or http://nikbearbrown.com.\"\"\"\n",
    "    if os.path.exists(\"play.csv\"):\n",
    "        df = pd.read_csv(\"play.csv\", index_col=0)\n",
    "    else:\n",
    "        url = \"http://nikbearbrown.com/YouTube/MachineLearning/DecisionTrees/play.csv\"\n",
    "        try:\n",
    "            df = pd.read_csv(url)\n",
    "        except:\n",
    "            exit(\"-- Unable to download play.csv\")\n",
    "\n",
    "        with open(\"play.csv\", 'w') as f:\n",
    "            print(\"-- writing to local play.csv file\")\n",
    "            df.to_csv(f)\n",
    "\n",
    "    return df\n",
    "\n",
    "df_play = get_play_data()\n",
    "print(df_play.to_string(), sep=\"\\n\", end=\"\\n\\n\")"
   ]
  },
  {
   "cell_type": "markdown",
   "metadata": {},
   "source": [
    "![decision tree play or n](http://nikbearbrown.com/YouTube/MachineLearning/DecisionTrees/Decision_Trees_C.png)"
   ]
  },
  {
   "cell_type": "markdown",
   "metadata": {},
   "source": [
    "### Computing Entropy"
   ]
  },
  {
   "cell_type": "markdown",
   "metadata": {},
   "source": [
    "To calculate entropy, we can calculate the information difference, $-p_1 \\log p_1 - p_2 \\log p_2$. Generalizing this to n events, we get:\n",
    "\n",
    "$$\n",
    "entropy(p_1, p_2, ... p_n) = -p_1 \\log p_1 - p_2 \\log p_2 ...  - p_n \\log p_n \n",
    "$$\n",
    "\n",
    "which is just the Shannon entropy\n",
    "\n",
    "$$\n",
    "H_1 (X) = - \\sum_{i=1}^n p_i \\log p_i. \n",
    "$$\n",
    "\n",
    "For example, if entropy = $-1.0 \\log (1.0) - 0.0 \\log (0.0) = 0$ then this provides no information. If entropy = $-0.5 \\log (0.5) - 0.5 \\log (0.5) = 1.0$ then this provides one “bit” of information.  Note that when $P(X)$ is 0.5 one is most uncertain and the Shannon entropy is highest (i.e. 1). When $P(X)$ is either 0.0 or 1.0 one is most certain and the Shannon entropy is lowest (i.e. 0)"
   ]
  },
  {
   "cell_type": "code",
   "execution_count": 3,
   "metadata": {},
   "outputs": [
    {
     "data": {
      "text/plain": [
       "Play\n",
       "no     5\n",
       "yes    9\n",
       "dtype: int64"
      ]
     },
     "execution_count": 3,
     "metadata": {},
     "output_type": "execute_result"
    }
   ],
   "source": [
    "df_play.groupby('Play').size()"
   ]
  },
  {
   "cell_type": "markdown",
   "metadata": {},
   "source": [
    "#### Shannon entropy of Play (our outcome variable) \n",
    "\n",
    "For Play there are 9 \"yes\" and 5 are \"no\" and then\n",
    "\n",
    "$$\n",
    "ShannonEntropy[9,5]= -9/14 \\log (9/14) - 5/14 \\log (5/14) = 0.94  \\quad bits\n",
    "$$\n",
    "\n",
    "This means that without a model one is very uncertain whether play is \"yes\" or \"no\"?\n",
    "\n",
    "\n",
    "Suppose that for Play there are 13 \"yes\" and 1 are \"no\" and then \n",
    "\n",
    "$$\n",
    "ShannonEntropy[13,1]= -13/14 \\log (13/14) - 1/14 \\log (1/14) = 0.37  \\quad bits\n",
    "$$ \n",
    "\n",
    "This means that even without a model one is very much more certain that play is \"yes.\"\n"
   ]
  },
  {
   "cell_type": "markdown",
   "metadata": {},
   "source": [
    "### Shannon entropy"
   ]
  },
  {
   "cell_type": "markdown",
   "metadata": {},
   "source": [
    "The notion of using entropy as a measure of change in system state and dynamics comes both from [statistical physics](https://en.wikipedia.org/wiki/Entropy) and from [information theory](https://en.wikipedia.org/wiki/Entropy_(information_theory)). In statistical physics, entropy is a measure of disorder and uncertainty in a random variable; the higher the entropy, the greater the disorder. In the statistical physics context, the term usually refers to [Gibbs entropy](https://en.wikipedia.org/wiki/Entropy_(statistical_thermodynamics)), which measures the macroscopic state of the system as defined by a distribution of atoms and molecules in a thermodynamic system. Gibbs entropy is a measure of the disorder in the arrangements of its particles. As the position of a particle becomes less predictable, the entropy increases. For a classical system (i.e., a collection of classical particles) with a discrete set of microstates, if $E_i$ is the energy of microstate $i$, and $p_i$ is the probability that it occurs during the system's fluctuations, then the entropy of the system is\n",
    "\n",
    "$$\n",
    "S = -k_\\text{B}\\,\\sum_i p_i \\ln \\,p_i\n",
    "$$\n",
    "\n",
    "The quantity $k_\\text{B}$ is a physical constant known as [Boltzmann's constant](https://en.wikipedia.org/wiki/Boltzmann_constant), which, like the entropy, has units of heat capacity. The logarithm is dimensionless.\n",
    "\n",
    "In information theory, entropy is also a measure of the uncertainty in a random variable. In this context, however, the term usually refers to the [Shannon entropy](https://en.wikipedia.org/wiki/Entropy_(information_theory)), which quantifies the expected value of the information contained in a message (or the expected value of the information of the probability distribution). The concept was introduced by [Claude E. Shannon](https://en.wikipedia.org/wiki/Claude_Shannon) in his 1948 paper \"A Mathematical Theory of Communication.\" Shannon entropy establishes the limits to possible data compression and channel capacity.  That is, the entropy gives a lower bound for the efficiency of an encoding scheme (in other words, a lower bound on the possible compression of a data stream). Typically this is expressed in the number of ‘bits’ or ‘nats’ that are required to encode a given message. Given the probability of each of n events, the information required to predict an event is the distribution’s entropy. \n",
    "\n",
    "Low entropy means the system is very ordered, that is, very predictable. High entropy means the system is mixed, that is, very unpredictable; a lot of information is needed for prediction. \n",
    "\n",
    "The Shannon entropy can explicitly be written as\n",
    "\n",
    "$$\n",
    "E(X) = \\sum_{i} {\\mathrm{P}(x_i)\\,\\mathrm{I}(x_i)} = -\\sum_{i} {\\mathrm{P}(x_i) \\log_b \\mathrm{P}(x_i)},\n",
    "$$\n",
    "\n",
    "where b is the base of the logarithm used. Common values of b are 2, Euler's number $e$, and 10, and the unit of entropy is shannon for b = 2, nat for b = e, and hartley for b = 10.When b = 2, the units of entropy are also commonly referred to as bits.\n",
    "\n",
    "The Shannon entropy is by far the most common information-theoretic measure there are others. Other information-theoretic measures include: plog,Rényi entropy, Hartley entropy, collision entropy, min-entropy, Kullback-Leibler divergence and the information dimension.\n",
    "\n",
    "The Shannon entropy is the Rényi entropy with an alpha of one (see appendix). The Shannon entropy is a simple estimate of the expected value of the information contained in a message. It assumes independence and identically distributed random variables, which is a simplification when applied to word counts. In this sense it is analogous to naïve Bayes, in that it is very commonly used and thought to work well in spite of violating some assumptions upon which it is based.\n",
    "\n",
    "The limiting value of $H_\\alpha as \\alpha \\rightarrow 1$ is the Shannon entropy:\n",
    "\n",
    "$$\n",
    "H_1(X) = - \\sum_{i=1}^n p_i \\log p_i. \n",
    "$$\n"
   ]
  },
  {
   "cell_type": "markdown",
   "metadata": {},
   "source": [
    "### Shannon entropy distribution "
   ]
  },
  {
   "cell_type": "code",
   "execution_count": 6,
   "metadata": {},
   "outputs": [
    {
     "data": {
      "image/png": "[encoded data removed]",
      "text/plain": [
       "<Figure size 432x288 with 1 Axes>"
      ]
     },
     "metadata": {
      "needs_background": "light"
     },
     "output_type": "display_data"
    }
   ],
   "source": [
    "def shannon_entropy(p):   \n",
    "    return (-p *np.log2(p) - (1-p)*np.log2(1-p))\n",
    "\n",
    "base=0.0000000001\n",
    "x = np.arange(base, 1.0-base, 0.01)\n",
    "\n",
    "\n",
    "plt.figure(1)\n",
    "plt.plot(x, shannon_entropy(x), 'go', x, shannon_entropy(x), 'k')\n",
    "plt.ylabel('Shannon entropy(X)')\n",
    "plt.xlabel('X')\n",
    "plt.show()"
   ]
  },
  {
   "cell_type": "markdown",
   "metadata": {},
   "source": [
    "Notice that when $P(X)$ is 0.5 one is most uncertain and the Shannon entropy is highest (i.e. 1). When $P(X)$ is either 0.0 or 1.0 one is most certain and the Shannon entropy is lowest (i.e. 0)"
   ]
  },
  {
   "cell_type": "markdown",
   "metadata": {},
   "source": [
    "### Computing Information Gain"
   ]
  },
  {
   "cell_type": "markdown",
   "metadata": {},
   "source": [
    "$$\n",
    "Information Gain = entropy(parent) – [average entropy(children)]\n",
    "$$\n",
    "\n",
    "Note that since the entropy(parent) doesn't change the child node for which entropy is minimum is, equivalently, the child node for which information gain is maximum.  \n",
    "\n",
    "Intuitively, low entropy means certainty and high entropy means uncertainty. A high information gain is equivalent to going from uncertainty to certainty.\n"
   ]
  },
  {
   "cell_type": "markdown",
   "metadata": {},
   "source": [
    "### Let's Build a Decision Tree by Computing Information Gain"
   ]
  },
  {
   "cell_type": "markdown",
   "metadata": {},
   "source": [
    "Building a decision tree is a simple algorithm once one understands the concept of entropy and information gain.  \n",
    "\n",
    "1. Calculate the entropy of every attribute using the data set S, using the Shannon entropy.\n",
    "2. Split the set S into subsets using the attribute for which entropy is minimum (or, equivalently, information gain is maximum)  \n",
    "3. Make the decision tree (or sub-tree) root node that attribute.  \n",
    "4. Recur on subsets using remaining attributes.  "
   ]
  },
  {
   "cell_type": "code",
   "execution_count": 7,
   "metadata": {},
   "outputs": [
    {
     "data": {
      "text/html": [
       "<div>\n",
       "<style scoped>\n",
       "    .dataframe tbody tr th:only-of-type {\n",
       "        vertical-align: middle;\n",
       "    }\n",
       "\n",
       "    .dataframe tbody tr th {\n",
       "        vertical-align: top;\n",
       "    }\n",
       "\n",
       "    .dataframe thead th {\n",
       "        text-align: right;\n",
       "    }\n",
       "</style>\n",
       "<table border=\"1\" class=\"dataframe\">\n",
       "  <thead>\n",
       "    <tr style=\"text-align: right;\">\n",
       "      <th></th>\n",
       "      <th>Date</th>\n",
       "      <th>Temp</th>\n",
       "      <th>Outlook</th>\n",
       "      <th>Humidity</th>\n",
       "      <th>Windy</th>\n",
       "      <th>Play</th>\n",
       "    </tr>\n",
       "  </thead>\n",
       "  <tbody>\n",
       "    <tr>\n",
       "      <td>count</td>\n",
       "      <td>14</td>\n",
       "      <td>14</td>\n",
       "      <td>14</td>\n",
       "      <td>14</td>\n",
       "      <td>14</td>\n",
       "      <td>14</td>\n",
       "    </tr>\n",
       "    <tr>\n",
       "      <td>unique</td>\n",
       "      <td>14</td>\n",
       "      <td>3</td>\n",
       "      <td>3</td>\n",
       "      <td>2</td>\n",
       "      <td>2</td>\n",
       "      <td>2</td>\n",
       "    </tr>\n",
       "    <tr>\n",
       "      <td>top</td>\n",
       "      <td>5-Mar</td>\n",
       "      <td>mild</td>\n",
       "      <td>rain</td>\n",
       "      <td>high</td>\n",
       "      <td>False</td>\n",
       "      <td>yes</td>\n",
       "    </tr>\n",
       "    <tr>\n",
       "      <td>freq</td>\n",
       "      <td>1</td>\n",
       "      <td>6</td>\n",
       "      <td>5</td>\n",
       "      <td>7</td>\n",
       "      <td>8</td>\n",
       "      <td>9</td>\n",
       "    </tr>\n",
       "  </tbody>\n",
       "</table>\n",
       "</div>"
      ],
      "text/plain": [
       "         Date  Temp Outlook Humidity  Windy Play\n",
       "count      14    14      14       14     14   14\n",
       "unique     14     3       3        2      2    2\n",
       "top     5-Mar  mild    rain     high  False  yes\n",
       "freq        1     6       5        7      8    9"
      ]
     },
     "execution_count": 7,
     "metadata": {},
     "output_type": "execute_result"
    }
   ],
   "source": [
    "df_play.describe()"
   ]
  },
  {
   "cell_type": "code",
   "execution_count": 9,
   "metadata": {},
   "outputs": [
    {
     "data": {
      "text/html": [
       "<div>\n",
       "<style scoped>\n",
       "    .dataframe tbody tr th:only-of-type {\n",
       "        vertical-align: middle;\n",
       "    }\n",
       "\n",
       "    .dataframe tbody tr th {\n",
       "        vertical-align: top;\n",
       "    }\n",
       "\n",
       "    .dataframe thead th {\n",
       "        text-align: right;\n",
       "    }\n",
       "</style>\n",
       "<table border=\"1\" class=\"dataframe\">\n",
       "  <thead>\n",
       "    <tr style=\"text-align: right;\">\n",
       "      <th></th>\n",
       "      <th>count</th>\n",
       "      <th>unique</th>\n",
       "      <th>top</th>\n",
       "      <th>freq</th>\n",
       "    </tr>\n",
       "  </thead>\n",
       "  <tbody>\n",
       "    <tr>\n",
       "      <td>Date</td>\n",
       "      <td>14</td>\n",
       "      <td>14</td>\n",
       "      <td>5-Mar</td>\n",
       "      <td>1</td>\n",
       "    </tr>\n",
       "    <tr>\n",
       "      <td>Temp</td>\n",
       "      <td>14</td>\n",
       "      <td>3</td>\n",
       "      <td>mild</td>\n",
       "      <td>6</td>\n",
       "    </tr>\n",
       "    <tr>\n",
       "      <td>Outlook</td>\n",
       "      <td>14</td>\n",
       "      <td>3</td>\n",
       "      <td>rain</td>\n",
       "      <td>5</td>\n",
       "    </tr>\n",
       "    <tr>\n",
       "      <td>Humidity</td>\n",
       "      <td>14</td>\n",
       "      <td>2</td>\n",
       "      <td>high</td>\n",
       "      <td>7</td>\n",
       "    </tr>\n",
       "    <tr>\n",
       "      <td>Windy</td>\n",
       "      <td>14</td>\n",
       "      <td>2</td>\n",
       "      <td>False</td>\n",
       "      <td>8</td>\n",
       "    </tr>\n",
       "    <tr>\n",
       "      <td>Play</td>\n",
       "      <td>14</td>\n",
       "      <td>2</td>\n",
       "      <td>yes</td>\n",
       "      <td>9</td>\n",
       "    </tr>\n",
       "  </tbody>\n",
       "</table>\n",
       "</div>"
      ],
      "text/plain": [
       "         count unique    top freq\n",
       "Date        14     14  5-Mar    1\n",
       "Temp        14      3   mild    6\n",
       "Outlook     14      3   rain    5\n",
       "Humidity    14      2   high    7\n",
       "Windy       14      2  False    8\n",
       "Play        14      2    yes    9"
      ]
     },
     "execution_count": 9,
     "metadata": {},
     "output_type": "execute_result"
    }
   ],
   "source": [
    "df_play.describe().transpose()"
   ]
  },
  {
   "cell_type": "code",
   "execution_count": 10,
   "metadata": {},
   "outputs": [
    {
     "name": "stdout",
     "output_type": "stream",
     "text": [
      "      Date  Temp   Outlook Humidity  Windy Play\n",
      "2    7-Mar   hot  overcast     high  False  yes\n",
      "3    8-Mar  cool      rain   normal  False  yes\n",
      "4    9-Mar  cool  overcast   normal   True  yes\n",
      "6   11-Mar  cool     sunny   normal  False  yes\n",
      "7   12-Mar  mild      rain   normal  False  yes\n",
      "8   13-Mar  mild     sunny   normal   True  yes\n",
      "9   14-Mar  mild  overcast     high   True  yes\n",
      "10  15-Mar   hot  overcast   normal  False  yes\n",
      "13  18-Mar  mild      rain     high  False  yes\n",
      "\n"
     ]
    }
   ],
   "source": [
    "df_play_yes=df_play.loc[df_play['Play'] == 'yes']\n",
    "print(df_play_yes.to_string(), sep=\"\\n\", end=\"\\n\\n\")"
   ]
  },
  {
   "cell_type": "code",
   "execution_count": 11,
   "metadata": {},
   "outputs": [
    {
     "name": "stdout",
     "output_type": "stream",
     "text": [
      "      Date  Temp Outlook Humidity  Windy Play\n",
      "0    5-Mar   hot   sunny     high  False   no\n",
      "1    6-Mar   hot   sunny     high   True   no\n",
      "5   10-Mar  mild   sunny     high  False   no\n",
      "11  16-Mar  mild    rain     high   True   no\n",
      "12  17-Mar  cool    rain   normal   True   no\n",
      "\n"
     ]
    }
   ],
   "source": [
    "df_play_no=df_play.loc[df_play['Play'] == 'no']\n",
    "print(df_play_no.to_string(), sep=\"\\n\", end=\"\\n\\n\")"
   ]
  },
  {
   "cell_type": "markdown",
   "metadata": {},
   "source": [
    "### Information gain for the for attribute Outlook"
   ]
  },
  {
   "cell_type": "code",
   "execution_count": 12,
   "metadata": {},
   "outputs": [
    {
     "data": {
      "text/plain": [
       "Outlook\n",
       "overcast    4\n",
       "rain        3\n",
       "sunny       2\n",
       "dtype: int64"
      ]
     },
     "execution_count": 12,
     "metadata": {},
     "output_type": "execute_result"
    }
   ],
   "source": [
    "df_play_yes.groupby('Outlook').size()"
   ]
  },
  {
   "cell_type": "code",
   "execution_count": 13,
   "metadata": {},
   "outputs": [
    {
     "data": {
      "text/plain": [
       "Outlook\n",
       "rain     2\n",
       "sunny    3\n",
       "dtype: int64"
      ]
     },
     "execution_count": 13,
     "metadata": {},
     "output_type": "execute_result"
    }
   ],
   "source": [
    "df_play_no.groupby('Outlook').size()"
   ]
  },
  {
   "cell_type": "markdown",
   "metadata": {},
   "source": [
    "#### Outlook is Sunny \n",
    "\n",
    "For Outlook = Sunny are there are 5 Sunny rows of which  2 are \"yes\" and 3 are \"no\" and then \n",
    "\n",
    "$$\n",
    "ShannonEntropy[2,3]= -2/5 \\log (2/5) - 3/5 \\log (3/5) = 0.97  \\quad bits\n",
    "$$   \n",
    "\n",
    "#### Outlook is Overcast\n",
    "\n",
    "For Outlook = Overcast are there are 4 Overcast rows of which  4 are \"yes\" and 0 are \"no\" and then \n",
    "\n",
    "$$\n",
    "ShannonEntropy[4,0]= - 1 \\log (1) = 0.0 -0 \\log (0)\\quad bits  \n",
    "$$\n",
    "#### Outlook is Rain\n",
    "\n",
    "For Outlook = Rain are there are 5 Rainy rows of which  3 are \"yes\" and 2 are \"no\" and then \n",
    "\n",
    "$$\n",
    "ShannonEntropy[3,2]= - 3/5 \\log (3/5) -2/5 \\log (2/5)= 0.97  \\quad bits\n",
    "$$\n",
    "\n",
    "\n",
    "#### Shannon entropy for the for attribute Outlook\n",
    "\n",
    "So the Shannon entropy for the for attribute Outlook would be,\n",
    "\n",
    "$$\n",
    "ShannonEntropy([2,3],[0,4][3,2])= \\frac{5}{14} \\times 0.97 + \\frac{4}{14} \\times 0.0 + \\frac{5}{14} \\times 0.97 = 0.69 \\quad bits\n",
    "$$\n",
    "\n",
    "\n",
    "#### Information gain for the for attribute Outlook\n",
    "\n",
    "The information gain for the for attribute Outlook would be, (assuming [play has an entropy of 0.94)\n",
    "\n",
    "$$\n",
    " InfoGain([play],[outlook])= 0.94 - 0.69 = 0.25 \\quad bits\n",
    "$$"
   ]
  },
  {
   "cell_type": "markdown",
   "metadata": {},
   "source": [
    "### Double check our math in python"
   ]
  },
  {
   "cell_type": "code",
   "execution_count": 14,
   "metadata": {},
   "outputs": [
    {
     "name": "stdout",
     "output_type": "stream",
     "text": [
      "ShannonEntropy[2,3]= -2/5 log2(2/5) - 3/5 log2(3/5) = 0.97\n",
      "ShannonEntropy[4,0]= -4/4 log2(4/4) - 0/4 log2(0/4) = 0.00\n",
      "ShannonEntropy[3,2]= -3/5 log2(3/5) - 2/5 log2(2/5) = 0.97\n",
      "ShannonEntropy[3,2],[0,4],[3,2]) = 0.69 bits\n"
     ]
    }
   ],
   "source": [
    "print(\"ShannonEntropy[2,3]= -2/5 log2(2/5) - 3/5 log2(3/5) = %.2f\" % (shannon_entropy((2.0/5.0))))# Outlook is Sunny \n",
    "print(\"ShannonEntropy[4,0]= -4/4 log2(4/4) - 0/4 log2(0/4) = %.2f\" % (0.0))# Outlook is Overcast\n",
    "print(\"ShannonEntropy[3,2]= -3/5 log2(3/5) - 2/5 log2(2/5) = %.2f\" % (shannon_entropy((3.0/5.0))))# Outlook is Rainy \n",
    "print(\"ShannonEntropy[3,2],[0,4],[3,2]) = %.2f bits\" % ((5.0/14)*0.97+0.0+(5.0/14)*0.97)) # Outlook InfoGain"
   ]
  },
  {
   "cell_type": "markdown",
   "metadata": {},
   "source": [
    "### Your turn.  Calculate  Information gain for the for attribute Windy"
   ]
  },
  {
   "cell_type": "code",
   "execution_count": 15,
   "metadata": {},
   "outputs": [
    {
     "data": {
      "text/plain": [
       "Windy\n",
       "False    6\n",
       "True     3\n",
       "dtype: int64"
      ]
     },
     "execution_count": 15,
     "metadata": {},
     "output_type": "execute_result"
    }
   ],
   "source": [
    "df_play_yes.groupby('Windy').size()"
   ]
  },
  {
   "cell_type": "code",
   "execution_count": 16,
   "metadata": {},
   "outputs": [
    {
     "data": {
      "text/plain": [
       "Windy\n",
       "False    2\n",
       "True     3\n",
       "dtype: int64"
      ]
     },
     "execution_count": 16,
     "metadata": {},
     "output_type": "execute_result"
    }
   ],
   "source": [
    "df_play_no.groupby('Windy').size()"
   ]
  },
  {
   "cell_type": "markdown",
   "metadata": {},
   "source": [
    "#### Windy is Yes \n",
    "\n",
    "For Windy is yes,  Shannon_entropy[]= ?.   \n",
    "\n",
    "\n",
    "#### Windy is No\n",
    "\n",
    "For Windy is no,  Shannon_entropy[]= ?.   \n",
    "\n",
    "#### Shannon_entropy for the for attribute Windy\n",
    "\n",
    "So the Shannon_entropy gain for the for attribute Windy would be,\n",
    "\n",
    "$$\n",
    " ShannonEntropy([],[])= ?\n",
    "$$\n",
    "\n",
    "#### Information gain for the for attribute Windy\n",
    "\n",
    "The information gain for the for attribute Windy would be, (assuming [play has an entropy of 0.94)\n",
    "\n",
    "$$\n",
    " InfoGain([play],[windy])= ? \\quad bits\n",
    "$$"
   ]
  },
  {
   "cell_type": "markdown",
   "metadata": {},
   "source": [
    "### Quiz Answer.  Calculate Information gain for the for attribute Windy"
   ]
  },
  {
   "cell_type": "markdown",
   "metadata": {},
   "source": [
    "#### Windy is Yes \n",
    "\n",
    "For Windy is yes, there are 3 \"True\" and 6 are \"False\" and then \n",
    "\n",
    "$$\n",
    "ShannonEntropy[3,6]= -3/9 \\log (3/9) - 6/9 \\log (6/9) = 0.92  \\quad bits  \n",
    "$$\n",
    "\n",
    "#### Windy is No\n",
    "\n",
    "For Windy is no, there are 3 \"True\" and 2 are \"False\" and then \n",
    "\n",
    "$$\n",
    "ShannonEntropy[3,2]= -3/5 \\log (3/5) - 2/5 \\log (2/5) = 0.97  \\quad bits    \n",
    "$$\n",
    "\n",
    "#### Shannon entropy for the for attribute Windy\n",
    "\n",
    "The Shannon entropy for the for attribute Outlook would be,\n",
    "\n",
    "$$\n",
    " ShannonEntropy([3,6],[3,2])= \\frac{9}{14} \\times 0.92 + \\frac{5}{14} \\times 0.97 = 0.94 \\quad bits\n",
    "$$\n",
    "\n",
    "#### Information gain for the for attribute Windy\n",
    "\n",
    "\n",
    "The information gain for the for attribute Outlook would be, (assuming [play has an entropy of 0.94)\n",
    "\n",
    "$$\n",
    " InfoGain([play],[outlook])= 0.94 - 0.94 = 0.0 \\quad bits\n",
    "$$"
   ]
  },
  {
   "cell_type": "markdown",
   "metadata": {},
   "source": [
    "### Double check our math in python"
   ]
  },
  {
   "cell_type": "code",
   "execution_count": 14,
   "metadata": {},
   "outputs": [
    {
     "name": "stdout",
     "output_type": "stream",
     "text": [
      "ShannonEntropy[3,6]= -3/9 log2(3/9) - 6/9 log2(6/9) = 0.92\n",
      "ShannonEntropy[3,2]= -3/5 log2(3/5) - 2/5 log2(2/5) = 0.97\n",
      "ShannonEntropy[3,6],[3,2]) = 0.94 bits\n"
     ]
    }
   ],
   "source": [
    "print(\"ShannonEntropy[3,6]= -3/9 log2(3/9) - 6/9 log2(6/9) = %.2f\" % (shannon_entropy((6.0/9.0)))) # Windy is Yes \n",
    "print(\"ShannonEntropy[3,2]= -3/5 log2(3/5) - 2/5 log2(2/5) = %.2f\" % (shannon_entropy((3.0/5.0)))) # Windy is No\n",
    "print(\"ShannonEntropy[3,6],[3,2]) = %.2f bits\" % ((9.0/14)*0.92+(5.0/14)*0.97)) # Windy InfoGain"
   ]
  },
  {
   "cell_type": "markdown",
   "metadata": {},
   "source": [
    "### Recap decision trees"
   ]
  },
  {
   "cell_type": "markdown",
   "metadata": {},
   "source": [
    "  \n",
    "* What is a tree?   \n",
    "* What is meant by information gain?  \n",
    "* How ia Shannon entropy calculated?  \n",
    "* How easy is it read and interpret decision trees?  \n",
    "* Could decision trees be used to identify most significant variables?  \n",
    "* Could decision trees be used to identify a relation between two or more variables?   \n",
    "* What assumptions are being made?  \n",
    "* Might decision trees be susepable to over fitting? \n",
    "\n"
   ]
  },
  {
   "cell_type": "markdown",
   "metadata": {},
   "source": [
    "## Random forests\n",
    "\n",
    "[Random forests](https://en.wikipedia.org/wiki/Random_forest) or random decision forests are an ensemble learning method for classification, regression and other tasks, that operate by constructing a multitude of decision trees at training time and outputting the class that is the mode of the classes (classification) or mean prediction (regression) of the individual trees. Random decision forests correct for decision trees' habit of overfitting to their training set.\n",
    "\n",
    "\n",
    "### Tree bagging \n",
    "\n",
    "\n",
    "The training algorithm for random forests applies the general technique of [bootstrap aggregating](https://en.wikipedia.org/wiki/Bootstrap_aggregating), or bagging, to tree learners. Given a training set $X = x_1, ..., x_n$ with responses $Y = y_1, ..., y_n$, bagging repeatedly ($B$ times) selects a random sample with replacement of the training set and fits trees to these samples \n",
    "\n",
    " For $b = 1, ..., B$ \n",
    " - Sample, with replacement, $B$ training examples from $X, Y$; call these $X_b, Y_b$.\n",
    " - Train a decision or regression tree $f_b \\quad on \\quad X_b, Y_b$.\n",
    "\n",
    "After training, predictions for unseen samples ${mvar|x'}$ can be made by averaging the predictions from all the individual regression trees on ${mvar|x'}$ \n",
    "\n",
    " $$\\hat{f} = \\frac{1}{B} \\sum_{b=1}^Bf_b (x')$$\n",
    "\n",
    "or by taking the majority vote in the case of decision trees.\n",
    "\n",
    "This bootstrapping procedure leads to better model performance because it decreases the [Bias–variance dilemma](https://en.wikipedia.org/wiki/Bias%E2%80%93variance_tradeoff) of the model, without increasing the bias. This means that while the predictions of a single tree are highly sensitive to noise in its training set, the average of many trees is not, as long as the trees are not correlated. Simply training many trees on a single training set would give strongly correlated trees (or even the same tree many times, if the training algorithm is deterministic); bootstrap sampling is a way of de-correlating the trees by showing them different training sets.\n",
    "\n",
    "The number of samples/trees, $B$, is a free parameter. Typically, a few hundred to several thousand trees are used, depending on the size and nature of the training set. An optimal number of trees $B$ can be found using cross-validation, or by observing the _out-of-bag error_ the mean prediction error on each training sample $x_i$, using only the trees that did not have $x_i$ in their bootstrap sample. The training and test error tend to level off after some number of trees have been fit.\n",
    "\n",
    "\n",
    "\n",
    "\n",
    "\n"
   ]
  },
  {
   "cell_type": "markdown",
   "metadata": {},
   "source": [
    "## Appendix"
   ]
  },
  {
   "cell_type": "markdown",
   "metadata": {},
   "source": [
    "## Entropy and information gain"
   ]
  },
  {
   "cell_type": "markdown",
   "metadata": {},
   "source": [
    "#### Plog\n",
    "\n",
    "Plog (which we pronounce ‘plog, ’ for positive log) is simply the negative log of the frequency. As the value of plog increases, the frequency decreases. \n",
    "\n",
    "$$\n",
    "E(X) = -\\sum\\ln{p_i}\n",
    "$$\n",
    "\n",
    "\n",
    "\n",
    "freq  | (base 2)  \n",
    "----  | -------------  \n",
    "0.5   |  1  \n",
    "0.25  |  2  \n",
    "1/16  |  5  \n",
    "\n",
    "  \n",
    "\n",
    "Big plog means low frequency.\n",
    "\n",
    "#### Rényi entropies  \n",
    "\n",
    "The [Rényi entropies](https://en.wikipedia.org/wiki/R%C3%A9nyi_entropy) generalize the Shannon entropy, the Hartley entropy, the min-entropy, and the collision entropy. As such, these entropies as an ensemble are often called the Rényi entropies (or the Rényi entropy, even though this usually refers to a class of entropies). The difference between these entropies is in the respective value for each of an order parameter called alpha: the values of alpha are greater than or equal to zero but cannot equal one. The Renyi entropy ordering is related to the underlying probability distributions and allows more probable events to be weighted more heavily. As alpha approaches zero, the Rényi entropy increasingly weighs all possible events more equally, regardless of their probabilities. A higher alpha (a) weighs more probable events more heavily. The base used to calculate entropies is usually base 2 or Euler's number base $e$. If the base of the logarithm is 2, then the uncertainty is measured in bits. If it is the natural logarithm, then the unit is nats. \n",
    "\n",
    "#### Rényi entropies\t \n",
    "\n",
    "The Rényi entropy of order $\\alpha$, where $\\alpha \\geq 0$  and $\\alpha \\neq 1$ , is defined as\n",
    "\n",
    "$$\n",
    "H_\\alpha(X) = \\frac{1}{1-\\alpha}\\log\\Bigg(\\sum_{i=1}^n p_i^\\alpha\\Bigg)\n",
    "$$\n",
    "\n",
    "Here, X is a discrete random variable with possible outcomes 1,2,...,n and corresponding probabilities $p_i \\doteq \\Pr(X=i) for i=1,\\dots,n,$ and the logarithm is base 2. \n",
    "\n",
    "\n",
    "#### Hartley entropy\n",
    "\n",
    "The Hartley entropy is the Rényi entropy with an alpha of zero. \n",
    "\n",
    "the probabilities are nonzero, $H_0$ is the logarithm of the cardinality of X, sometimes called the Hartley entropy of X:  \n",
    "\n",
    "$$\n",
    "H_0 (X) = \\log n = \\log |X|\n",
    "$$\n",
    "\n",
    "#### Shannon entropy \n",
    "\n",
    "The Shannon entropy is the Rényi entropy with an alpha of one. The Shannon entropy is a simple estimate of the expected value of the information contained in a message. It assumes independence and identically distributed random variables, which is a simplification when applied to word counts. In this sense it is analogous to naïve Bayes, in that it is very commonly used and thought to work well in spite of violating some assumptions upon which it is based.\n",
    "\n",
    "The limiting value of $H_\\alpha as \\alpha \\rightarrow 1$ is the Shannon entropy:\n",
    "\n",
    "$$\n",
    "H_1 (X) = - \\sum_{i=1}^n p_i \\log p_i. \n",
    "$$\n",
    "\n",
    "#### collision entropy\n",
    "\n",
    "The collision entropy is the Rényi entropy with an alpha of two and is sometimes just called \"Rényi entropy,\" refers to the case $\\alpha = 2$,\n",
    "\n",
    "$$\n",
    "H_2 (X) = - \\log \\sum_{i=1}^n p_i^2 = - \\log P(X = Y)\n",
    "$$\n",
    "\n",
    "where $X$ and $Y$ are independent and identically distributed. \n",
    "\n",
    "#### min-entropy\n",
    "\n",
    "The min-entropy is the Rényi entropy as the limit of alpha approaches infinity. The name min-entropy stems from the fact that it is the smallest entropy measure in the Rényi family of entropies. In the limit as $\\alpha \\rightarrow \\infty$, the Rényi entropy $H_\\alpha converges to the min-entropy H_\\infty$:\n",
    "\n",
    "$$\n",
    "H_\\infty(X) \\doteq \\min_i (-\\log p_i) = -(\\max_i \\log p_i) = -\\log \\max_i p_i\\,.\n",
    "$$\n",
    "\n",
    "Equivalently, the min-entropy $H_\\infty(X)$ is the largest real number b such that all events occur with probability at most $2^{-b}$.\n",
    "\n",
    "\n",
    "#### Kullback-Leibler divergence\n",
    "\n",
    "[Kullback-Leibler divergence](https://en.wikipedia.org/wiki/Kullback%E2%80%93Leibler_divergence) is a non-symmetric measure of the difference between two probability distributions. The Kullback-Leibler measure goes by several names: relative entropy, discrimination information, Kullback-Leibler (KL) number, directed divergence, informational divergence, and cross entropy. Kullback-Leibler divergence is a measure of the difference between the observed entropy and its excepted entropy. We calculate the KL divergence by weighting one distribution (like an observed frequency distribution) by the log of probabilities of some other distribution D2. For discrete probability distributions P and Q, the Kullback–Leibler divergence of Q from P is defined to be\n",
    "\n",
    "$$\n",
    "D_{\\mathrm{KL}}(P\\|Q) = \\sum_i P(i) \\, \\ln\\frac{P(i)}{Q(i)}\n",
    "$$\n",
    "\n",
    "In words, it is the expectation of the logarithmic difference between the probabilities P and Q, where the expectation is taken using the probabilities P.\n",
    "\n",
    "\n",
    "#### Mutual Information\n",
    "\n",
    "[Mutual information](https://en.wikipedia.org/wiki/Mutual_information) quantifies the mutual dependence of the two random variables. It is a measure of the “stickiness” between two items. It measures how much knowing one of these variables reduces uncertainty about the other. We can use mutual information to quantify the association between two tags. Mutual information is given by:\n",
    "\n",
    "the mutual information of two discrete random variables X and Y can be defined as:\n",
    "\n",
    "$$\n",
    " I(X;Y) = \\sum_{y \\in Y} \\sum_{x \\in X} \n",
    "                 p(x,y) \\log{ \\left(\\frac{p(x,y)}{p(x)\\,p(y)}\n",
    "                              \\right) }, \\,\\!\n",
    "$$                              \n",
    "                              \n",
    "where $p(x,y)$ is the joint probability distribution function of $X$ and $Y$, and $p(x)$ and $p(y)$ are the marginal probability distribution functions of $X$ and $Y$ respectively. In the case of continuous random variables, the summation is replaced by a definite double integral:\n",
    "\n",
    "$$\n",
    " I(X;Y) = \\int_Y \\int_X \n",
    "                 p(x,y) \\log{ \\left(\\frac{p(x,y)}{p(x)\\,p(y)}\n",
    "                              \\right) } \\; dx \\,dy,\n",
    "$$\n",
    " \n",
    "where $p(x,y)$ is now the joint probability density function of $X$ and $Y$, and $p(x$) and $p(y)$ are the marginal probability density functions of $X$ and $Y$ respectively.\n",
    "\n"
   ]
  },
  {
   "cell_type": "markdown",
   "metadata": {},
   "source": [
    "### Gini Index"
   ]
  },
  {
   "cell_type": "markdown",
   "metadata": {},
   "source": [
    "The [Gini coefficient](https://en.wikipedia.org/wiki/Gini_coefficient) (sometimes expressed as a Gini ratio or a normalized Gini index) is a measure of homogeneity. A Gini coefficient (G) of zero expresses perfect equality, where all values are the same. A Gini coefficient of 1 (or 100%) expresses maximal inequality among values. G is a measure of inequality, defined as the mean of absolute differences between all pairs of individuals for some measure.\n"
   ]
  },
  {
   "cell_type": "markdown",
   "metadata": {},
   "source": [
    "### Chi-Square"
   ]
  },
  {
   "cell_type": "markdown",
   "metadata": {},
   "source": [
    "A [chi-squared test](https://en.wikipedia.org/wiki/Chi-squared_test), also written as $\\chi^2$ test, is any statistical hypothesis test wherein the sampling distribution of the test statistic is a chi-squared distribution when the null hypothesis is true. It is used to test the statistical significance between the differences between sub-nodes and parent node. \n",
    "\n",
    "We measure it by sum of squares of standardized differences between observed and expected frequencies of sample population. Chi-squared tests are often constructed from a sum of squared errors, or through the sample variance. Test statistics that follow a chi-squared distribution arise from an assumption of independent normally distributed data. A chi-squared test can be used to attempt rejection of the null hypothesis that the data are independent.\n",
    "\n",
    "The higher the value of Chi-Square, the higher the statistical significance of differences between two populations.\n",
    "\n",
    "Chi-Square of each node is calculated using formula and the observed, $O$, and expected, $E$, frequencies of sample population.\n",
    "\n",
    "$$\n",
    "\\tilde{\\chi}^2=\\frac{1}{d}\\sum_{k=1}^{n} \\frac{(O_k - E_k)^2}{E_k}\\\n",
    "$$"
   ]
  },
  {
   "cell_type": "markdown",
   "metadata": {},
   "source": [
    "### Reduction in Variance"
   ]
  },
  {
   "cell_type": "markdown",
   "metadata": {},
   "source": [
    "\n",
    "Reduction in variance is often used to calculate information gain when one has continuous variables rather than categorical variables.\n",
    "\n",
    "The variance reduction of a node $N$ is defined as the total reduction of the variance of the target variable $x$ due to the split at this node:\n",
    "\n",
    "$$\n",
    "I_{V}(N) = \\frac{1}{|S|^2}\\sum_{i\\in S} \\sum_{j\\in S} \\frac{1}{2}(x_i - x_j)^2 - \\left(\\frac{1}{|S_t|^2}\\sum_{i\\in S_t} \\sum_{j\\in S_t} \\frac{1}{2}(x_i - x_j)^2 + \\frac{1}{|S_f|^2}\\sum_{i\\in S_f} \\sum_{j\\in S_f} \\frac{1}{2}(x_i - x_j)^2\\right)\n",
    "$$\n",
    "\n",
    "where $S$, $S_t$, and $S_f$ are the set of presplit sample indices, set of sample indices for which the split test is true, and set of sample indices for which the split test is false, respectively. Each of the above summands are indeed [variance](https://en.wikipedia.org/wiki/Variance) estimates, though, written in a form without directly referring to the mean.\n",
    "\n"
   ]
  },
  {
   "cell_type": "markdown",
   "metadata": {},
   "source": [
    "### ID3 algorithm"
   ]
  },
  {
   "cell_type": "markdown",
   "metadata": {},
   "source": [
    "This idea of iteratively finding the attribute with the most information gain to find a root in decision tree learning is called the  [ID3 (Iterative Dichotomiser 3)](https://en.wikipedia.org/wiki/ID3_algorithm) algorithm. The invented by [Ross Quinlan](https://en.wikipedia.org/wiki/Ross_Quinlan). It is a simple algorithm once one understands the concept of entropy and information gain.  \n",
    "\n",
    "1.  Calculate the entropy of every attribute using the data set S, using the Shannon entropy.\n",
    "2. Split the set S into subsets using the attribute for which entropy is minimum (or, equivalently, information gain is maximum)  \n",
    "3. Make the decision tree (or sub-tree) root node that attribute.  \n",
    "4. Recur on subsets using remaining attributes.  \n"
   ]
  },
  {
   "cell_type": "markdown",
   "metadata": {},
   "source": [
    "### C4.5 algorithm"
   ]
  },
  {
   "cell_type": "markdown",
   "metadata": {},
   "source": [
    "[C4.5](https://en.wikipedia.org/wiki/C4.5_algorithm) is an extension of Quinlan's earlier ID3 algorithm. The splitting criterion is based on statistical confidence estimates. This technique has the advantage that it allows all of the available labeled data to be used for training. To generate this confidence one calculates the error rate over $n$ labled training instances. The observed error rate $e$ is analaogous to the observed fraction of heads in $n$  tosses of a biased coin (i.e. the probability of heads may not be 0.5). One wishes to estimate the true error rate, $p$ from the observed error rate $e$.   \n",
    "\n",
    "The confidence interval, is calculated as follows, if one chooses a level of confidence $z$ then \n",
    "\n",
    "$$\n",
    "p = e + z \\times \\sqrt{e \\times \\frac{1-e}{n}}\n",
    "$$  \n",
    "\n",
    "Paired values for z and confidence levels (z,confidence) are in the following lists: (0.67 z, 50% confidence), (1.0 z, 68% confidence) , (1.64 z, 90% confidence) and (1.96 z, 95% confidence).\n"
   ]
  },
  {
   "cell_type": "markdown",
   "metadata": {},
   "source": [
    "### Constraints on Tree Size"
   ]
  },
  {
   "cell_type": "markdown",
   "metadata": {},
   "source": [
    "When creating a decision tree, there is a trade-off between its simplicity and predictive power. A deep tree with many leaves is usually over-fitting the training data. In contrast, a shallow tree may not have high training accuracy. \n",
    "\n",
    "One wants a tree that is deep enough to be accurate on the training data while being shallow enough to be predictive on a wide range of data. As a rule of thumb, a depth of the square root of the total number of features should be in the ballpark but we should always check the tree through cross-validatiion and how sensible the rules generated are."
   ]
  },
  {
   "cell_type": "markdown",
   "metadata": {},
   "source": [
    "### Overfitting"
   ]
  },
  {
   "cell_type": "markdown",
   "metadata": {},
   "source": [
    "The idea of overfitting means that your prediction model is too biased towards your training data. To limit overfitting two things are usually done:\n",
    "\n",
    "  * Limit the tree size (see above)    \n",
    "  * Prune the decision trees (see below)   "
   ]
  },
  {
   "cell_type": "markdown",
   "metadata": {},
   "source": [
    "### Pruning"
   ]
  },
  {
   "cell_type": "markdown",
   "metadata": {},
   "source": [
    "The [pruning](https://en.wikipedia.org/wiki/Pruning_(decision_trees)) (of a node) in a decision tree, reduces the size of decision trees by removing sections of the tree that provide little power to classify instances. Pruning reduces the complexity of the final classifier, and hence improves predictive accuracy by the reduction of overfitting.\n",
    "\n",
    "Pruning can occur in a top down or bottom up fashion. A top down pruning will traverse nodes and trim subtrees starting at the root, while a bottom up pruning will start at the leaf nodes. Below are several popular pruning algorithms.\n",
    "\n",
    "#### Reduced error pruning  \n",
    "\n",
    "One of the simplest forms of pruning is reduced error pruning. Starting at the leaves, each node is replaced with its most popular class. If the prediction accuracy is not affected then the change is kept. While somewhat naive, reduced error pruning has the advantage of simplicity and speed.\n",
    "\n",
    "#### Cost complexity pruning\n",
    "\n",
    "Cost complexity pruning generates a series of trees $T_0 . . . T_m$ where $T_0$ is the initial tree and $T_m$ is the root alone. At step $i$ the tree is created by removing a subtree from tree $i-1$ and replacing it with a leaf node with value chosen as in the tree building algorithm. The subtree that is removed is chosen as follows. Define the error rate of tree $T$ over data set $S$ as $err(T,S)$. The subtree that minimizes \n",
    "\n",
    "$$\\frac{err(prune(T,t),S)-err(T,S)}{|leaves(T)|-|leaves(prune(T,t))|}$$\n",
    "\n",
    "is chosen for removal. The function prune(T,t) defines the tree gotten by pruning the subtrees t from the tree T. Once the series of trees has been created, the best tree is chosen by generalized accuracy as measured by a training set or cross-validation.\n",
    "\n"
   ]
  },
  {
   "cell_type": "markdown",
   "metadata": {},
   "source": [
    "### Classification vs Regression Trees"
   ]
  },
  {
   "cell_type": "markdown",
   "metadata": {},
   "source": [
    "Types of decision tree is based on the type of target variable we have. It can be of two types:\n",
    "\n",
    "Classification Tree (Categorical Response Variable Decision Tree): Decision Tree which separates the dataset into classes belonging to the categorical target variable. Usually the response variable has two classes: Yes or No (1 or 0).  \n",
    "\n",
    "Regression trees (Continuous Response Variable Decision Tree): If a decision Tree has continuous target variable it is applicable for prediction type of problems as opposed to classification.\n"
   ]
  },
  {
   "cell_type": "markdown",
   "metadata": {},
   "source": [
    "### Decision Trees Pros and Cons"
   ]
  },
  {
   "cell_type": "markdown",
   "metadata": {},
   "source": [
    "#### Advantages\n",
    "\n",
    "Easy to Understand: Decision tree output is very easy to interpret. One can often check the rules to see if they make sense.\n",
    "\n",
    "Significant Variables: Decision tree is one of the fastest way to identify most significant variables and relation between two or more variables. \n",
    "\n",
    "Non Parametric: Decision treea are usually created with non-parametric algorithms. Non-parametric models do not require the modeler to make any assumptions about the distribution of the population, and so are sometimes referred to as a distribution-free method. \n",
    "\n",
    "#### Disadvantages\n",
    "\n",
    "Over fitting: Over fitting is easy with decision trees. Limiting the tree depth, cross-validation and pruning are essential to creating robust trees. \n",
    " "
   ]
  },
  {
   "cell_type": "markdown",
   "metadata": {},
   "source": [
    "### Random forests"
   ]
  },
  {
   "cell_type": "markdown",
   "metadata": {},
   "source": [
    "[Random forests](https://en.wikipedia.org/wiki/Random_forest) or random decision forests are an ensemble learning method for classification, regression and other tasks, that operate by constructing a multitude of decision trees at training time and outputting the class that is the mode of the classes (classification) or mean prediction (regression) of the individual trees. Random decision forests correct for decision trees' habit of overfitting to their training set. \n",
    "\n",
    "The training algorithm for random forests applies the general technique of bootstrap aggregating, or bagging, to tree learners. Given a training set $X = x_1, ..., x_n$ with responses $Y = y_1, ..., y_n$, bagging repeatedly (B times) selects a random sample with replacement of the training set and fits trees to these samples:\n",
    "\n",
    "For $b = 1, ..., B$:   \n",
    "\n",
    "*  Sample, with replacement, B training examples from $X, Y$; call these $X_b, Y_b$.   \n",
    "*  Train a decision or regression tree $f_b on X_b, Y_b$.  \n",
    "*  After training, predictions for unseen samples $x'$ can be made by averaging the predictions from all the individual regression trees on $x'$:  \n",
    "\n",
    "$$\n",
    "\\hat{f} = \\frac{1}{B} \\sum_{b=1}^Bf_b (x')\n",
    "$$\n",
    "\n",
    "or by taking the majority vote in the case of decision trees.\n",
    "\n",
    "This bootstrapping procedure leads to better model performance because it decreases the variance of the model, without increasing the bias. This means that while the predictions of a single tree are highly sensitive to noise in its training set, the average of many trees is not, as long as the trees are not correlated. Simply training many trees on a single training set would give strongly correlated trees (or even the same tree many times, if the training algorithm is deterministic); bootstrap sampling is a way of de-correlating the trees by showing them different training sets.\n",
    "\n",
    "The number of samples/trees, $B$, is a free parameter. Typically, a few hundred to several thousand trees are used, depending on the size and nature of the training set. An optimal number of trees $B$ can be found using cross-validation, or by observing the out-of-bag error: the mean prediction error on each training sample $x_i$, using only the trees that did not have $x_i$ in their bootstrap sample. The training and test error tend to level off after some number of trees have been fit.\n"
   ]
  },
  {
   "cell_type": "markdown",
   "metadata": {},
   "source": [
    "### Decision Trees in python"
   ]
  },
  {
   "cell_type": "code",
   "execution_count": 15,
   "metadata": {},
   "outputs": [
    {
     "name": "stdout",
     "output_type": "stream",
     "text": [
      "[[ 5.1  3.5  1.4  0.2]\n",
      " [ 4.9  3.   1.4  0.2]\n",
      " [ 4.7  3.2  1.3  0.2]\n",
      " [ 4.6  3.1  1.5  0.2]\n",
      " [ 5.   3.6  1.4  0.2]\n",
      " [ 5.4  3.9  1.7  0.4]\n",
      " [ 4.6  3.4  1.4  0.3]\n",
      " [ 5.   3.4  1.5  0.2]\n",
      " [ 4.4  2.9  1.4  0.2]\n",
      " [ 4.9  3.1  1.5  0.1]\n",
      " [ 5.4  3.7  1.5  0.2]\n",
      " [ 4.8  3.4  1.6  0.2]\n",
      " [ 4.8  3.   1.4  0.1]\n",
      " [ 4.3  3.   1.1  0.1]\n",
      " [ 5.8  4.   1.2  0.2]\n",
      " [ 5.7  4.4  1.5  0.4]\n",
      " [ 5.4  3.9  1.3  0.4]\n",
      " [ 5.1  3.5  1.4  0.3]\n",
      " [ 5.7  3.8  1.7  0.3]\n",
      " [ 5.1  3.8  1.5  0.3]\n",
      " [ 5.4  3.4  1.7  0.2]\n",
      " [ 5.1  3.7  1.5  0.4]\n",
      " [ 4.6  3.6  1.   0.2]\n",
      " [ 5.1  3.3  1.7  0.5]\n",
      " [ 4.8  3.4  1.9  0.2]\n",
      " [ 5.   3.   1.6  0.2]\n",
      " [ 5.   3.4  1.6  0.4]\n",
      " [ 5.2  3.5  1.5  0.2]\n",
      " [ 5.2  3.4  1.4  0.2]\n",
      " [ 4.7  3.2  1.6  0.2]\n",
      " [ 4.8  3.1  1.6  0.2]\n",
      " [ 5.4  3.4  1.5  0.4]\n",
      " [ 5.2  4.1  1.5  0.1]\n",
      " [ 5.5  4.2  1.4  0.2]\n",
      " [ 4.9  3.1  1.5  0.1]\n",
      " [ 5.   3.2  1.2  0.2]\n",
      " [ 5.5  3.5  1.3  0.2]\n",
      " [ 4.9  3.1  1.5  0.1]\n",
      " [ 4.4  3.   1.3  0.2]\n",
      " [ 5.1  3.4  1.5  0.2]\n",
      " [ 5.   3.5  1.3  0.3]\n",
      " [ 4.5  2.3  1.3  0.3]\n",
      " [ 4.4  3.2  1.3  0.2]\n",
      " [ 5.   3.5  1.6  0.6]\n",
      " [ 5.1  3.8  1.9  0.4]\n",
      " [ 4.8  3.   1.4  0.3]\n",
      " [ 5.1  3.8  1.6  0.2]\n",
      " [ 4.6  3.2  1.4  0.2]\n",
      " [ 5.3  3.7  1.5  0.2]\n",
      " [ 5.   3.3  1.4  0.2]\n",
      " [ 7.   3.2  4.7  1.4]\n",
      " [ 6.4  3.2  4.5  1.5]\n",
      " [ 6.9  3.1  4.9  1.5]\n",
      " [ 5.5  2.3  4.   1.3]\n",
      " [ 6.5  2.8  4.6  1.5]\n",
      " [ 5.7  2.8  4.5  1.3]\n",
      " [ 6.3  3.3  4.7  1.6]\n",
      " [ 4.9  2.4  3.3  1. ]\n",
      " [ 6.6  2.9  4.6  1.3]\n",
      " [ 5.2  2.7  3.9  1.4]\n",
      " [ 5.   2.   3.5  1. ]\n",
      " [ 5.9  3.   4.2  1.5]\n",
      " [ 6.   2.2  4.   1. ]\n",
      " [ 6.1  2.9  4.7  1.4]\n",
      " [ 5.6  2.9  3.6  1.3]\n",
      " [ 6.7  3.1  4.4  1.4]\n",
      " [ 5.6  3.   4.5  1.5]\n",
      " [ 5.8  2.7  4.1  1. ]\n",
      " [ 6.2  2.2  4.5  1.5]\n",
      " [ 5.6  2.5  3.9  1.1]\n",
      " [ 5.9  3.2  4.8  1.8]\n",
      " [ 6.1  2.8  4.   1.3]\n",
      " [ 6.3  2.5  4.9  1.5]\n",
      " [ 6.1  2.8  4.7  1.2]\n",
      " [ 6.4  2.9  4.3  1.3]\n",
      " [ 6.6  3.   4.4  1.4]\n",
      " [ 6.8  2.8  4.8  1.4]\n",
      " [ 6.7  3.   5.   1.7]\n",
      " [ 6.   2.9  4.5  1.5]\n",
      " [ 5.7  2.6  3.5  1. ]\n",
      " [ 5.5  2.4  3.8  1.1]\n",
      " [ 5.5  2.4  3.7  1. ]\n",
      " [ 5.8  2.7  3.9  1.2]\n",
      " [ 6.   2.7  5.1  1.6]\n",
      " [ 5.4  3.   4.5  1.5]\n",
      " [ 6.   3.4  4.5  1.6]\n",
      " [ 6.7  3.1  4.7  1.5]\n",
      " [ 6.3  2.3  4.4  1.3]\n",
      " [ 5.6  3.   4.1  1.3]\n",
      " [ 5.5  2.5  4.   1.3]\n",
      " [ 5.5  2.6  4.4  1.2]\n",
      " [ 6.1  3.   4.6  1.4]\n",
      " [ 5.8  2.6  4.   1.2]\n",
      " [ 5.   2.3  3.3  1. ]\n",
      " [ 5.6  2.7  4.2  1.3]\n",
      " [ 5.7  3.   4.2  1.2]\n",
      " [ 5.7  2.9  4.2  1.3]\n",
      " [ 6.2  2.9  4.3  1.3]\n",
      " [ 5.1  2.5  3.   1.1]\n",
      " [ 5.7  2.8  4.1  1.3]\n",
      " [ 6.3  3.3  6.   2.5]\n",
      " [ 5.8  2.7  5.1  1.9]\n",
      " [ 7.1  3.   5.9  2.1]\n",
      " [ 6.3  2.9  5.6  1.8]\n",
      " [ 6.5  3.   5.8  2.2]\n",
      " [ 7.6  3.   6.6  2.1]\n",
      " [ 4.9  2.5  4.5  1.7]\n",
      " [ 7.3  2.9  6.3  1.8]\n",
      " [ 6.7  2.5  5.8  1.8]\n",
      " [ 7.2  3.6  6.1  2.5]\n",
      " [ 6.5  3.2  5.1  2. ]\n",
      " [ 6.4  2.7  5.3  1.9]\n",
      " [ 6.8  3.   5.5  2.1]\n",
      " [ 5.7  2.5  5.   2. ]\n",
      " [ 5.8  2.8  5.1  2.4]\n",
      " [ 6.4  3.2  5.3  2.3]\n",
      " [ 6.5  3.   5.5  1.8]\n",
      " [ 7.7  3.8  6.7  2.2]\n",
      " [ 7.7  2.6  6.9  2.3]\n",
      " [ 6.   2.2  5.   1.5]\n",
      " [ 6.9  3.2  5.7  2.3]\n",
      " [ 5.6  2.8  4.9  2. ]\n",
      " [ 7.7  2.8  6.7  2. ]\n",
      " [ 6.3  2.7  4.9  1.8]\n",
      " [ 6.7  3.3  5.7  2.1]\n",
      " [ 7.2  3.2  6.   1.8]\n",
      " [ 6.2  2.8  4.8  1.8]\n",
      " [ 6.1  3.   4.9  1.8]\n",
      " [ 6.4  2.8  5.6  2.1]\n",
      " [ 7.2  3.   5.8  1.6]\n",
      " [ 7.4  2.8  6.1  1.9]\n",
      " [ 7.9  3.8  6.4  2. ]\n",
      " [ 6.4  2.8  5.6  2.2]\n",
      " [ 6.3  2.8  5.1  1.5]\n",
      " [ 6.1  2.6  5.6  1.4]\n",
      " [ 7.7  3.   6.1  2.3]\n",
      " [ 6.3  3.4  5.6  2.4]\n",
      " [ 6.4  3.1  5.5  1.8]\n",
      " [ 6.   3.   4.8  1.8]\n",
      " [ 6.9  3.1  5.4  2.1]\n",
      " [ 6.7  3.1  5.6  2.4]\n",
      " [ 6.9  3.1  5.1  2.3]\n",
      " [ 5.8  2.7  5.1  1.9]\n",
      " [ 6.8  3.2  5.9  2.3]\n",
      " [ 6.7  3.3  5.7  2.5]\n",
      " [ 6.7  3.   5.2  2.3]\n",
      " [ 6.3  2.5  5.   1.9]\n",
      " [ 6.5  3.   5.2  2. ]\n",
      " [ 6.2  3.4  5.4  2.3]\n",
      " [ 5.9  3.   5.1  1.8]]\n",
      "[0 0 0 0 0 0 0 0 0 0 0 0 0 0 0 0 0 0 0 0 0 0 0 0 0 0 0 0 0 0 0 0 0 0 0 0 0\n",
      " 0 0 0 0 0 0 0 0 0 0 0 0 0 1 1 1 1 1 1 1 1 1 1 1 1 1 1 1 1 1 1 1 1 1 1 1 1\n",
      " 1 1 1 1 1 1 1 1 1 1 1 1 1 1 1 1 1 1 1 1 1 1 1 1 1 1 2 2 2 2 2 2 2 2 2 2 2\n",
      " 2 2 2 2 2 2 2 2 2 2 2 2 2 2 2 2 2 2 2 2 2 2 2 2 2 2 2 2 2 2 2 2 2 2 2 2 2\n",
      " 2 2]\n"
     ]
    }
   ],
   "source": [
    "# Example from sklearn documentaion http://scikit-learn.org/stable/modules/tree.html\n",
    "from sklearn.datasets import load_iris\n",
    "from sklearn import tree\n",
    "iris = load_iris()\n",
    "print(iris.data)\n",
    "print(iris.target)"
   ]
  },
  {
   "cell_type": "code",
   "execution_count": 16,
   "metadata": {
    "collapsed": true,
    "jupyter": {
     "outputs_hidden": true
    }
   },
   "outputs": [],
   "source": [
    "clf = tree.DecisionTreeClassifier()\n",
    "clf = clf.fit(iris.data, iris.target)"
   ]
  },
  {
   "cell_type": "code",
   "execution_count": 17,
   "metadata": {
    "collapsed": true,
    "jupyter": {
     "outputs_hidden": true
    }
   },
   "outputs": [],
   "source": [
    "def visualize_tree(tree,f):\n",
    "    \"\"\"Create tree png using graphviz.\n",
    "\n",
    "    Args\n",
    "    ----\n",
    "    tree -- scikit-learn DecsisionTree.\n",
    "    \"\"\"  \n",
    "    with open(f, 'w') as f:\n",
    "        export_graphviz(tree, out_file=f) \n",
    "    command = [\"dot\", \"-Tpng\", f, \"-o\", \"o.png\"]\n",
    "    try:\n",
    "        subprocess.check_call(command)\n",
    "    except:\n",
    "        exit(\"Could not run dot, ie graphviz, to \"\n",
    "             \"produce visualization\")"
   ]
  },
  {
   "cell_type": "code",
   "execution_count": 18,
   "metadata": {
    "collapsed": true,
    "jupyter": {
     "outputs_hidden": true
    }
   },
   "outputs": [],
   "source": [
    "visualize_tree(clf, \"iris.dot\")"
   ]
  },
  {
   "cell_type": "markdown",
   "metadata": {},
   "source": [
    "![decision tree iris data](http://nikbearbrown.com/YouTube/MachineLearning/DecisionTrees/iris_clf.png)![rooted tree] \n",
    "*decision tree iris data*"
   ]
  },
  {
   "cell_type": "markdown",
   "metadata": {},
   "source": [
    "Last update September 13, 2017"
   ]
  }
 ],
 "metadata": {
  "kernelspec": {
   "display_name": "Python 3",
   "language": "python",
   "name": "python3"
  },
  "language_info": {
   "codemirror_mode": {
    "name": "ipython",
    "version": 3
   },
   "file_extension": ".py",
   "mimetype": "text/x-python",
   "name": "python",
   "nbconvert_exporter": "python",
   "pygments_lexer": "ipython3",
   "version": "3.7.4"
  }
 },
 "nbformat": 4,
 "nbformat_minor": 4
}
