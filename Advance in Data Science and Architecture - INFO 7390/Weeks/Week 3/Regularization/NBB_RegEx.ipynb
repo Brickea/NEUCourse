{
 "cells": [
  {
   "cell_type": "markdown",
   "metadata": {},
   "source": [
    "# Regular Expressions"
   ]
  },
  {
   "cell_type": "markdown",
   "metadata": {},
   "source": [
    "## Regular Expressions and Grep\n",
    "\n",
    "In theoretical computer science and formal language theory, a [regular expression](https://en.wikipedia.org/wiki/Regular_expression) (abbreviated regex or regexp and sometimes called a rational expression) is a sequence of characters that define a search pattern, mainly for use in pattern matching with strings, or string matching, i.e. \"find and replace\"-like operations. The concept arose in the 1950s, when the American mathematician Stephen Kleene formalized the description of a regular language, and came into common use with the Unix text processing utilities ed, an editor, and [grep](https://en.wikipedia.org/wiki/Grep) (global regular expression print), a filter.\n",
    "\n",
    "grep is a command-line utility for searching plain-text data sets for lines matching a regular expression. Grep was originally developed for the Unix operating system, but is available today for all Unix-like systems and is built in to languages like python and Perl.\n",
    "\n",
    "# Regular Expressions Examples\n",
    "\n",
    "Basic regex syntax\n",
    "\n",
    "```\n",
    ".\tNormally matches any character except a newline.  \n",
    "\n",
    "When you match a pattern within parentheses, you can use any of $1, $2, ... later to refer to the previously matched pattern.\t\n",
    "\n",
    "+\tMatches the preceding pattern element one or more times.  \t\n",
    "?\tMatches the preceding pattern element zero or one times.  \t\n",
    "*\tMatches the preceding pattern element zero or more times.  \n",
    "|\tSeparates alternate possibilities.\t \n",
    "\n",
    "\\w\tMatches an alphanumeric character, including \"_\";  same as [A-Za-z0-9_] in ASCII, and\n",
    "[\\p{Alphabetic}\\p{GC=Mark}\\p{GC=Decimal_Number}\\p{GC=Connector_Punctuation}]  \n",
    "\n",
    "\\W\tMatches a non-alphanumeric character, excluding \"_\";\n",
    "same as [^A-Za-z0-9_] in ASCII, and\n",
    "[^\\p{Alphabetic}\\p{GC=Mark}\\p{GC=Decimal_Number}\\p{GC=Connector_Punctuation}]  \n",
    "\n",
    "\\s\tMatches a whitespace character,\n",
    "which in ASCII are tab, line feed, form feed, carriage return, and space;  \n",
    "\n",
    "\\S\tMatches anything BUT a whitespace.\t \n",
    "\n",
    "\\d\tMatches a digit;\n",
    "same as [0-9] in ASCII;  \n",
    "\n",
    "\\D\tMatches a non-digit;\n",
    "\n",
    "^\tMatches the beginning of a line or string.\t  \n",
    "\n",
    "$\tMatches the end of a line or string.\t  \n",
    "```\n",
    "\n",
    "Some simple regex examples \n",
    "\n",
    "```\n",
    " {^[-+]?[0-9]*\\.?[0-9]+([eE][-+]?[0-9]+)?$}  # Floating Point Number\n",
    "\n",
    "{^[A-Za-z]+$}   # Only letters.\n",
    "\n",
    " {^[[:alpha?:]]+$} # Only letters, the Unicode way.\n",
    "\n",
    " {(.)\\1{3}} $string {\\1} result # Back References \n",
    "\n",
    "(\\[0-9]{1,3})\\.(\\[0-9]{1,3})\\.(\\[0-9]{1,3})\\.(\\[0-9]{1,3}) # IP Numbers \n",
    "```\n",
    "\n",
    "\n",
    "Some useful RegEx:\n",
    "\n",
    "| Character | Description                 || Character | Description                     |\n",
    "|-----------|-----------------------------||-----------|---------------------------------|\n",
    "| ``\"\\d\"``  | Match any digit             || ``\"\\D\"``  | Match any non-digit             |\n",
    "| ``\"\\s\"``  | Match any whitespace        || ``\"\\S\"``  | Match any non-whitespace        |\n",
    "| ``\"\\w\"``  | Match any alphanumeric char || ``\"\\W\"``  | Match any non-alphanumeric char |\n",
    "\n",
    "See Python's [regular expression syntax documentation](https://docs.python.org/3/library/re.html#re-syntax)."
   ]
  },
  {
   "cell_type": "code",
   "execution_count": 53,
   "metadata": {
    "collapsed": true
   },
   "outputs": [],
   "source": [
    "%matplotlib inline \n",
    "import matplotlib.pyplot as plt\n",
    "import numpy as np\n",
    "import pandas as pd\n",
    "from scipy import stats\n",
    "import seaborn as sns\n",
    "import warnings\n",
    "import random\n",
    "from datetime import datetime\n",
    "random.seed(datetime.now())\n",
    "warnings.filterwarnings('ignore')\n",
    "\n",
    "# Make plots larger\n",
    "plt.rcParams['figure.figsize'] = (10, 6)"
   ]
  },
  {
   "cell_type": "code",
   "execution_count": 54,
   "metadata": {
    "scrolled": true
   },
   "outputs": [
    {
     "data": {
      "text/plain": [
       "['the', 'quick', 'brown', 'fox', 'jumped', 'over', 'the', 'lazy', 'dog']"
      ]
     },
     "execution_count": 54,
     "metadata": {},
     "output_type": "execute_result"
    }
   ],
   "source": [
    "import re\n",
    "s='the quick brown fox jumped over the lazy dog'\n",
    "regex = re.compile('\\s+')\n",
    "w=regex.split(s)\n",
    "w"
   ]
  },
  {
   "cell_type": "markdown",
   "metadata": {},
   "source": [
    "prog = re.compile(pattern)\n",
    "result = prog.match(string)\n",
    "\n",
    "is equivalent to\n",
    "\n",
    "result = re.match(pattern, string)"
   ]
  },
  {
   "cell_type": "code",
   "execution_count": 55,
   "metadata": {},
   "outputs": [
    {
     "name": "stdout",
     "output_type": "stream",
     "text": [
      "Testing  the\n",
      "'the' does not match\n",
      "Testing  quick\n",
      "'quick' does not match\n",
      "Testing  brown\n",
      "'brown' matches\n",
      "Testing  fox\n",
      "'fox' matches\n",
      "Testing  jumped\n",
      "'jumped' does not match\n",
      "Testing  over\n",
      "'over' matches\n",
      "Testing  the\n",
      "'the' does not match\n",
      "Testing  lazy\n",
      "'lazy' does not match\n",
      "Testing  dog\n",
      "'dog' matches\n"
     ]
    }
   ],
   "source": [
    "pattern='o'\n",
    "for t in w:\n",
    "    print (\"Testing \", t)\n",
    "    if re.search(pattern,t):\n",
    "        print(repr(t), \"matches\")\n",
    "    else:\n",
    "        print(repr(t), \"does not match\")"
   ]
  },
  {
   "cell_type": "markdown",
   "metadata": {},
   "source": [
    "### Matching Versus Searching\n",
    "\n",
    "Python offers two different primitive operations based on regular expressions: match checks for a match only at the beginning of the string, while search checks for a match anywhere in the string (this is what Perl does by default)\n",
    "\n",
    "\n",
    "| Method/Attribute \t| Purpose                                                                      |\n",
    "|-------------------|------------------------------------------------------------------------------|\n",
    "| match()           | Determine if the RE matches at the beginning of the string.                  |\n",
    "| search() \t        | Scan through a string, looking for any location where this RE matches.       |\n",
    "| findall() \t    | Find all substrings where the RE matches, and returns them as a list.        |\n",
    "| finditer() \t    | Find all substrings where the RE matches, and returns them as an iterator(*).|\n",
    "\n",
    "(*) an iterator works very much like a list in that for instance you can loop over it, but items are computed on the fly as they are needed, so it is more memory-efficient.\n"
   ]
  },
  {
   "cell_type": "code",
   "execution_count": 56,
   "metadata": {},
   "outputs": [
    {
     "name": "stdout",
     "output_type": "stream",
     "text": [
      "Testing  the\n",
      "'the' does not match\n",
      "Testing  quick\n",
      "'quick' does not match\n",
      "Testing  brown\n",
      "'brown' does not match\n",
      "Testing  fox\n",
      "'fox' does not match\n",
      "Testing  jumped\n",
      "'jumped' does not match\n",
      "Testing  over\n",
      "'over' matches\n",
      "Testing  the\n",
      "'the' does not match\n",
      "Testing  lazy\n",
      "'lazy' does not match\n",
      "Testing  dog\n",
      "'dog' does not match\n"
     ]
    }
   ],
   "source": [
    "pattern='o'\n",
    "for t in w:\n",
    "    print (\"Testing \", t)\n",
    "    if re.match(pattern,t):\n",
    "        print(repr(t), \"matches\")\n",
    "    else:\n",
    "        print(repr(t), \"does not match\")"
   ]
  },
  {
   "cell_type": "code",
   "execution_count": 57,
   "metadata": {},
   "outputs": [
    {
     "data": {
      "text/plain": [
       "'the quick brown BEAR jumped over the lazy dog'"
      ]
     },
     "execution_count": 57,
     "metadata": {},
     "output_type": "execute_result"
    }
   ],
   "source": [
    "f = re.compile('fox')\n",
    "s2=f.sub('BEAR', s)\n",
    "s2"
   ]
  },
  {
   "cell_type": "markdown",
   "metadata": {
    "collapsed": true
   },
   "source": [
    "## e-mail - \\w+@\\w+\\.[a-z]{3}\n",
    "\n",
    "\\w+@\\w+\\.[a-z]{3}\n",
    "\n",
    "\n",
    "\\w+ matches any word character (equal to [a-zA-Z0-9_])   \n",
    "\n",
    "+ Quantifier — Matches between one and unlimited times, as many times as possible, giving back as needed (greedy)\n",
    "\n",
    "@ matches the chr @ literally (case sensitive)aracte\n",
    "\n",
    "\\w+ matches any word character (equal to [a-zA-Z0-9_])\n",
    "\n",
    "+ Quantifier — Matches between one and unlimited times, as many times as possible, giving back as needed (greedy)\n",
    "\n",
    "\\. matches the character . literally (case sensitive)\n",
    "\n",
    "Match a single character present in the list below [a-z]{3}\n",
    "{3} Quantifier — Matches exactly 3 times\n",
    "a-z a single character in the range between a (index 97) and z (index 122) (case sensitive)\n"
   ]
  },
  {
   "cell_type": "code",
   "execution_count": 58,
   "metadata": {},
   "outputs": [
    {
     "data": {
      "text/plain": [
       "['nikbearbrown@gmail.com', 'nik@ucla.edu']"
      ]
     },
     "execution_count": 58,
     "metadata": {},
     "output_type": "execute_result"
    }
   ],
   "source": [
    "email = re.compile('\\w+@\\w+\\.[a-z]{3}')\n",
    "e='Professor Bear is awesome! E-mail him nikbearbrown@gmail.com or nik@ucla.edu if you have questions'\n",
    "email.findall(e)"
   ]
  },
  {
   "cell_type": "code",
   "execution_count": 59,
   "metadata": {},
   "outputs": [
    {
     "data": {
      "text/plain": [
       "['Hallo', 'hello']"
      ]
     },
     "execution_count": 59,
     "metadata": {},
     "output_type": "execute_result"
    }
   ],
   "source": [
    "re.findall(\"[Hh][ea]llo\", \"Hallo Bear, hello Nik!\")"
   ]
  },
  {
   "cell_type": "markdown",
   "metadata": {},
   "source": [
    "#### Parentheses indicate *groups* to extract\n",
    "\n",
    "If one wants to extract components rather than the full match, then one uses parentheses to *group* the results."
   ]
  },
  {
   "cell_type": "code",
   "execution_count": 60,
   "metadata": {},
   "outputs": [
    {
     "data": {
      "text/plain": [
       "[('nikbearbrown', 'gmail', 'com'), ('nik', 'ucla', 'edu')]"
      ]
     },
     "execution_count": 60,
     "metadata": {},
     "output_type": "execute_result"
    }
   ],
   "source": [
    "email2 = re.compile(r'([\\w.]+)@(\\w+)\\.([a-z]{3})')\n",
    "email2.findall(e)"
   ]
  },
  {
   "cell_type": "code",
   "execution_count": 61,
   "metadata": {},
   "outputs": [
    {
     "data": {
      "text/plain": [
       "['You have brains in your head.',\n",
       " 'You have feet in your shoes.',\n",
       " 'You can steer yourself any direction you choose.',\n",
       " \"You're on your own.\",\n",
       " 'And you know what you know.',\n",
       " \"And YOU are the one who'll decide where to go...\",\n",
       " '- Dr. Seuss']"
      ]
     },
     "execution_count": 61,
     "metadata": {},
     "output_type": "execute_result"
    }
   ],
   "source": [
    "seuss = [\"You have brains in your head.\",\n",
    "           \"You have feet in your shoes.\", \n",
    "           \"You can steer yourself any direction you choose.\",            \n",
    "           \"You're on your own.\", \n",
    "           \"And you know what you know.\", \n",
    "           \"And YOU are the one who'll decide where to go...\",            \n",
    "           \"- Dr. Seuss\"]\n",
    "seuss"
   ]
  },
  {
   "cell_type": "code",
   "execution_count": 62,
   "metadata": {},
   "outputs": [
    {
     "data": {
      "text/plain": [
       "['you']"
      ]
     },
     "execution_count": 62,
     "metadata": {},
     "output_type": "execute_result"
    }
   ],
   "source": [
    "re.findall(\"you\",seuss[0])"
   ]
  },
  {
   "cell_type": "code",
   "execution_count": 63,
   "metadata": {},
   "outputs": [
    {
     "data": {
      "text/plain": [
       "['You', 'you']"
      ]
     },
     "execution_count": 63,
     "metadata": {},
     "output_type": "execute_result"
    }
   ],
   "source": [
    "re.findall(\"you\",seuss[0],re.IGNORECASE)"
   ]
  },
  {
   "cell_type": "code",
   "execution_count": 64,
   "metadata": {},
   "outputs": [
    {
     "name": "stdout",
     "output_type": "stream",
     "text": [
      "And YOU are the one who'll decide where to go...\n",
      "And YOU r th n wh'll dcd whr t g...\n"
     ]
    }
   ],
   "source": [
    "print(seuss[5])\n",
    "vowel_pattern = re.compile(r\"a|e|o|u|i\")\n",
    "no_vowels = vowel_pattern.sub('', seuss[5])\n",
    "print(no_vowels)"
   ]
  },
  {
   "cell_type": "code",
   "execution_count": 65,
   "metadata": {},
   "outputs": [
    {
     "name": "stdout",
     "output_type": "stream",
     "text": [
      "nd Y r th n wh'll dcd whr t g...\n"
     ]
    }
   ],
   "source": [
    "vowel_pattern_cap = re.compile(r\"a|A|e|E|o|O|u|U|i|I\")\n",
    "no_vowels = vowel_pattern_cap.sub('', seuss[5])\n",
    "print(no_vowels)"
   ]
  },
  {
   "cell_type": "markdown",
   "metadata": {},
   "source": [
    "### Search and Replace\n",
    "One of the most important re methods that use regular expressions is sub.\n",
    "\n",
    "Syntax\n",
    "re.sub(pattern, repl, string, max=0)\n",
    "This method replaces all occurrences of the RE pattern in string with repl, substituting all occurrences unless max is provided. This method returns modified string."
   ]
  },
  {
   "cell_type": "code",
   "execution_count": 66,
   "metadata": {
    "collapsed": true
   },
   "outputs": [],
   "source": [
    "no_wspace='You have brains in your head.'\n",
    "wspace='     You have brains in your head.      '"
   ]
  },
  {
   "cell_type": "code",
   "execution_count": 67,
   "metadata": {},
   "outputs": [
    {
     "name": "stdout",
     "output_type": "stream",
     "text": [
      "40\n",
      "     You have brains in your head.      \n",
      "34\n",
      "     You have brains in your head.\n",
      "29\n",
      "You have brains in your head.\n"
     ]
    }
   ],
   "source": [
    "print (len(wspace))\n",
    "print (wspace)\n",
    "st=re.sub('[ ]+$','',wspace)\n",
    "print (len(st))\n",
    "print (st)\n",
    "st=re.sub(\"^[ ]+\",'',st)\n",
    "print (len(st))\n",
    "print (st)"
   ]
  },
  {
   "cell_type": "code",
   "execution_count": 68,
   "metadata": {},
   "outputs": [
    {
     "name": "stdout",
     "output_type": "stream",
     "text": [
      "None\n",
      "None\n",
      "None\n",
      "<_sre.SRE_Match object; span=(0, 3), match='xxx'>\n",
      "<_sre.SRE_Match object; span=(0, 4), match='xxxx'>\n",
      "<_sre.SRE_Match object; span=(0, 5), match='xxxxx'>\n",
      "<_sre.SRE_Match object; span=(0, 5), match='xxxxx'>\n",
      "<_sre.SRE_Match object; span=(0, 5), match='xxxxx'>\n"
     ]
    }
   ],
   "source": [
    "pattern = re.compile(r\"x{3,5}\")\n",
    "print(pattern.match(\"\"))\n",
    "print(pattern.match(\"x\"))\n",
    "print(pattern.match(\"xx\"))\n",
    "print(pattern.match(\"xxx\"))\n",
    "print(pattern.match(\"xxxx\"))\n",
    "print(pattern.match(\"xxxxx\"))\n",
    "print(pattern.match(\"xxxxxx\"))\n",
    "print(pattern.match(\"xxxxxxxx\"))"
   ]
  },
  {
   "cell_type": "markdown",
   "metadata": {},
   "source": [
    "The letter 'x' if it occurs 3,4 or 5 times in a row"
   ]
  },
  {
   "cell_type": "markdown",
   "metadata": {},
   "source": [
    "Last update October 3, 2017\n",
    "\n",
    "The text is released under the [CC-BY-NC-ND license](https://creativecommons.org/licenses/by-nc-nd/3.0/us/legalcode), and code is released under the [MIT license](https://opensource.org/licenses/MIT)."
   ]
  }
 ],
 "metadata": {
  "kernelspec": {
   "display_name": "Python 3",
   "language": "python",
   "name": "python3"
  },
  "language_info": {
   "codemirror_mode": {
    "name": "ipython",
    "version": 3
   },
   "file_extension": ".py",
   "mimetype": "text/x-python",
   "name": "python",
   "nbconvert_exporter": "python",
   "pygments_lexer": "ipython3",
   "version": "3.6.1"
  }
 },
 "nbformat": 4,
 "nbformat_minor": 2
}
