{
 "cells": [
  {
   "cell_type": "markdown",
   "metadata": {},
   "source": [
    "## Intro to Python"
   ]
  },
  {
   "cell_type": "markdown",
   "metadata": {},
   "source": [
    "### Learning tips.\n",
    "\n",
    "* Practice, practice, practice.  \n",
    "\n",
    "* Get used to making mistakes! It’s OK.  \n",
    "\n",
    "* Don’t memorize. There are thousands packages in python.  Learn to read documentation.  \n"
   ]
  },
  {
   "cell_type": "markdown",
   "metadata": {},
   "source": [
    "## Switching between python versions"
   ]
  },
  {
   "cell_type": "markdown",
   "metadata": {},
   "source": [
    "### Anaconda Install\n",
    "\n",
    "[https://docs.continuum.io/anaconda/install](https://docs.continuum.io/anaconda/install)\n",
    "\n",
    "### Anaconda Docs  \n",
    "\n",
    "[https://conda.io/docs/](https://conda.io/docs/)\n",
    "\n",
    "[https://conda.io/docs/py2or3.html](https://conda.io/docs/py2or3.html)\n",
    "\n",
    "### Create a Python 3.5 environment\n",
    "\n",
    "conda create -n py35 python=3.5 anaconda\n",
    "\n",
    "\n",
    " To activate this environment, use:\n",
    " > source activate py35\n",
    "\n",
    " To deactivate this environment, use:\n",
    " > source deactivate py35\n",
    "\n",
    "### Create a Python 2.7 environment\n",
    "\n",
    "conda create -n py27 python=2.7 anaconda\n",
    "\n",
    " To activate this environment, use:\n",
    " > source activate py27\n",
    "\n",
    " To deactivate this environment, use:\n",
    " > source deactivate py27\n",
    "\n",
    "### Update or Upgrade Python  \n",
    "\n",
    "conda update python\n"
   ]
  },
  {
   "cell_type": "markdown",
   "metadata": {},
   "source": [
    "###  Simple calculator"
   ]
  },
  {
   "cell_type": "code",
   "execution_count": 1,
   "metadata": {},
   "outputs": [
    {
     "name": "stdout",
     "output_type": "stream",
     "text": [
      "38\n"
     ]
    }
   ],
   "source": [
    "from __future__ import print_function\n",
    "print(33+5)"
   ]
  },
  {
   "cell_type": "code",
   "execution_count": 2,
   "metadata": {},
   "outputs": [
    {
     "name": "stdout",
     "output_type": "stream",
     "text": [
      "605\n"
     ]
    }
   ],
   "source": [
    "print(55*11)"
   ]
  },
  {
   "cell_type": "code",
   "execution_count": 3,
   "metadata": {},
   "outputs": [
    {
     "name": "stdout",
     "output_type": "stream",
     "text": [
      "32\n"
     ]
    }
   ],
   "source": [
    "print(2**5)"
   ]
  },
  {
   "cell_type": "code",
   "execution_count": 61,
   "metadata": {},
   "outputs": [
    {
     "name": "stdout",
     "output_type": "stream",
     "text": [
      "0.6\n"
     ]
    }
   ],
   "source": [
    "print(3/5)"
   ]
  },
  {
   "cell_type": "code",
   "execution_count": 62,
   "metadata": {},
   "outputs": [
    {
     "name": "stdout",
     "output_type": "stream",
     "text": [
      "0.6\n"
     ]
    }
   ],
   "source": [
    "print(3.0/5)"
   ]
  },
  {
   "cell_type": "code",
   "execution_count": 6,
   "metadata": {},
   "outputs": [
    {
     "name": "stdout",
     "output_type": "stream",
     "text": [
      "1.0\n"
     ]
    }
   ],
   "source": [
    "# To discard the fractional part and do integer division, you can use a double slash.\n",
    "print(5.5//3.3)"
   ]
  },
  {
   "cell_type": "code",
   "execution_count": 7,
   "metadata": {},
   "outputs": [
    {
     "name": "stdout",
     "output_type": "stream",
     "text": [
      "1.6666666666666667\n"
     ]
    }
   ],
   "source": [
    "print(5.5/3.3)"
   ]
  },
  {
   "cell_type": "code",
   "execution_count": 8,
   "metadata": {},
   "outputs": [
    {
     "name": "stdout",
     "output_type": "stream",
     "text": [
      "7\n"
     ]
    }
   ],
   "source": [
    "print(2^5) # XOR (exclusive OR).\n",
    "# 0010  # 2 (binary)\n",
    "# 0101  # 5 (binary)\n",
    "# ----  # APPLY XOR ('vertically')\n",
    "# 0111  # result = 7 (binary)"
   ]
  },
  {
   "cell_type": "code",
   "execution_count": 9,
   "metadata": {},
   "outputs": [
    {
     "name": "stdout",
     "output_type": "stream",
     "text": [
      "1\n"
     ]
    }
   ],
   "source": [
    "print(3%2) # Modulo"
   ]
  },
  {
   "cell_type": "code",
   "execution_count": 10,
   "metadata": {},
   "outputs": [
    {
     "name": "stdout",
     "output_type": "stream",
     "text": [
      "173\n"
     ]
    }
   ],
   "source": [
    "print(0xAD) # Hexadecimal"
   ]
  },
  {
   "cell_type": "code",
   "execution_count": 11,
   "metadata": {},
   "outputs": [
    {
     "name": "stdout",
     "output_type": "stream",
     "text": [
      "73\n"
     ]
    }
   ],
   "source": [
    "print(0o111) # Octal"
   ]
  },
  {
   "cell_type": "code",
   "execution_count": 12,
   "metadata": {},
   "outputs": [
    {
     "name": "stdout",
     "output_type": "stream",
     "text": [
      "7\n"
     ]
    }
   ],
   "source": [
    "print(0b0111) # Binary"
   ]
  },
  {
   "cell_type": "code",
   "execution_count": 13,
   "metadata": {},
   "outputs": [
    {
     "name": "stdout",
     "output_type": "stream",
     "text": [
      "33612.978963185575\n"
     ]
    }
   ],
   "source": [
    "value = (3.55 / 0.11)**3\n",
    "print(value)"
   ]
  },
  {
   "cell_type": "markdown",
   "metadata": {},
   "source": [
    "## Data types"
   ]
  },
  {
   "cell_type": "code",
   "execution_count": 14,
   "metadata": {},
   "outputs": [
    {
     "name": "stdout",
     "output_type": "stream",
     "text": [
      "<class 'list'>\n",
      "<class 'float'>\n",
      "13\n",
      "1.0\n",
      "December\n"
     ]
    }
   ],
   "source": [
    "months = [\n",
    "1.0,    \n",
    "'January',\n",
    "'February',\n",
    "'March',\n",
    "'April',\n",
    "'May',\n",
    "'June',\n",
    "'July',\n",
    "'August',\n",
    "'September',\n",
    "'October',\n",
    "'November',\n",
    "'December'\n",
    "]\n",
    "print (type(months))\n",
    "print (type(months[0]))\n",
    "print (len(months))\n",
    "# print (class(months))\n",
    "print(months[0])\n",
    "print(months[-1])"
   ]
  },
  {
   "cell_type": "code",
   "execution_count": 15,
   "metadata": {},
   "outputs": [
    {
     "name": "stdout",
     "output_type": "stream",
     "text": [
      "December\n"
     ]
    }
   ],
   "source": [
    "print(months[len(months)-1])"
   ]
  },
  {
   "cell_type": "code",
   "execution_count": 16,
   "metadata": {},
   "outputs": [
    {
     "name": "stdout",
     "output_type": "stream",
     "text": [
      "[1.0, 'January', 'February', 'March', 'April', 'May', 'June', 'July', 'August', 'September', 'October', 'November', 'December']\n",
      "['January', 'February', 'March', 'April', 'May', 'June', 'July', 'August', 'September', 'October', 'November', 'December']\n"
     ]
    }
   ],
   "source": [
    "print(months)\n",
    "del months[0]\n",
    "print(months)"
   ]
  },
  {
   "cell_type": "code",
   "execution_count": 17,
   "metadata": {},
   "outputs": [
    {
     "name": "stdout",
     "output_type": "stream",
     "text": [
      "['October', 'November']\n"
     ]
    }
   ],
   "source": [
    "print(months[9:11])"
   ]
  },
  {
   "cell_type": "code",
   "execution_count": 18,
   "metadata": {},
   "outputs": [
    {
     "name": "stdout",
     "output_type": "stream",
     "text": [
      "['October', 'November', 'December']\n"
     ]
    }
   ],
   "source": [
    "print(months[9:])"
   ]
  },
  {
   "cell_type": "code",
   "execution_count": 19,
   "metadata": {},
   "outputs": [
    {
     "name": "stdout",
     "output_type": "stream",
     "text": [
      "['January', 'February', 'March', 'April', 'May', 'June', 'July', 'August', 'September', 'October', 'November', 'December']\n",
      "['January', 'March', 'May', 'July', 'September', 'November']\n"
     ]
    }
   ],
   "source": [
    "print(months[:]) # Print everything\n",
    "print(months[::2]) # Print every other - i.e. skip by 2"
   ]
  },
  {
   "cell_type": "code",
   "execution_count": 20,
   "metadata": {},
   "outputs": [
    {
     "name": "stdout",
     "output_type": "stream",
     "text": [
      "December\n",
      "October\n",
      "['October', 'November']\n"
     ]
    }
   ],
   "source": [
    "print(months[-1])\n",
    "print(months[-3])\n",
    "print(months[-3:-1])  # Print second to last to third to last"
   ]
  },
  {
   "cell_type": "code",
   "execution_count": 21,
   "metadata": {},
   "outputs": [
    {
     "name": "stdout",
     "output_type": "stream",
     "text": [
      "['November', 'August', 'May']\n"
     ]
    }
   ],
   "source": [
    "print(months[10:1:-3]) # Print 10 to 1 - i.e. skip by 3"
   ]
  },
  {
   "cell_type": "code",
   "execution_count": 22,
   "metadata": {},
   "outputs": [
    {
     "name": "stdout",
     "output_type": "stream",
     "text": [
      "['November', 'October', 'September', 'August', 'July', 'June', 'May', 'April', 'March']\n"
     ]
    }
   ],
   "source": [
    "print(months[10:1:-1])  # Print 10 to 1 - i.e. no skip but descending"
   ]
  },
  {
   "cell_type": "code",
   "execution_count": 23,
   "metadata": {},
   "outputs": [
    {
     "name": "stdout",
     "output_type": "stream",
     "text": [
      "[1, 2, 3, 4, 5, 6]\n"
     ]
    }
   ],
   "source": [
    "print([1, 2, 3] + [4, 5, 6]) # join two lists"
   ]
  },
  {
   "cell_type": "code",
   "execution_count": 63,
   "metadata": {},
   "outputs": [
    {
     "ename": "TypeError",
     "evalue": "unsupported operand type(s) for -: 'list' and 'list'",
     "output_type": "error",
     "traceback": [
      "\u001b[0;31m---------------------------------------------------------------------------\u001b[0m",
      "\u001b[0;31mTypeError\u001b[0m                                 Traceback (most recent call last)",
      "\u001b[0;32m<ipython-input-63-fd01ef43f222>\u001b[0m in \u001b[0;36m<module>\u001b[0;34m()\u001b[0m\n\u001b[0;32m----> 1\u001b[0;31m \u001b[0mprint\u001b[0m\u001b[0;34m(\u001b[0m\u001b[0;34m[\u001b[0m\u001b[0;36m1\u001b[0m\u001b[0;34m,\u001b[0m \u001b[0;36m2\u001b[0m\u001b[0;34m,\u001b[0m \u001b[0;36m3\u001b[0m\u001b[0;34m]\u001b[0m \u001b[0;34m-\u001b[0m \u001b[0;34m[\u001b[0m\u001b[0;36m4\u001b[0m\u001b[0;34m,\u001b[0m \u001b[0;36m5\u001b[0m\u001b[0;34m,\u001b[0m \u001b[0;36m6\u001b[0m\u001b[0;34m]\u001b[0m\u001b[0;34m)\u001b[0m\u001b[0;34m\u001b[0m\u001b[0m\n\u001b[0m",
      "\u001b[0;31mTypeError\u001b[0m: unsupported operand type(s) for -: 'list' and 'list'"
     ]
    }
   ],
   "source": [
    "#  print([1, 2, 3] - [4, 5, 6])"
   ]
  },
  {
   "cell_type": "code",
   "execution_count": 24,
   "metadata": {},
   "outputs": [
    {
     "name": "stdout",
     "output_type": "stream",
     "text": [
      "Hello, world!\n"
     ]
    }
   ],
   "source": [
    "print('Hello, ' + 'world!')  # concatenate two strings"
   ]
  },
  {
   "cell_type": "code",
   "execution_count": 25,
   "metadata": {},
   "outputs": [
    {
     "name": "stdout",
     "output_type": "stream",
     "text": [
      "BearBearBearBearBear\n"
     ]
    }
   ],
   "source": [
    "name='Bear' # Create string 'Bear'\n",
    "print(name*5) # concatenate 5 times"
   ]
  },
  {
   "cell_type": "code",
   "execution_count": 26,
   "metadata": {},
   "outputs": [
    {
     "name": "stdout",
     "output_type": "stream",
     "text": [
      "True\n",
      "False\n"
     ]
    }
   ],
   "source": [
    "print('B' in name) # Test if B in Bear\n",
    "print('b' in name)  # Test if b in Bear"
   ]
  },
  {
   "cell_type": "code",
   "execution_count": 27,
   "metadata": {},
   "outputs": [
    {
     "name": "stdout",
     "output_type": "stream",
     "text": [
      "range(1, 6)\n"
     ]
    }
   ],
   "source": [
    "s=range(1,6) # Range doesn't create lists in python 3\n",
    "print(s)"
   ]
  },
  {
   "cell_type": "code",
   "execution_count": 28,
   "metadata": {},
   "outputs": [
    {
     "name": "stdout",
     "output_type": "stream",
     "text": [
      "[1, 2, 3, 4, 5, 6, 7, 8]\n",
      "[1, 2, 5, 4, 5, 6, 7, 8]\n"
     ]
    }
   ],
   "source": [
    "s=list(range(1,9)) # Using range to create lists in python 3\n",
    "print(s)\n",
    "s[2]=5\n",
    "print(s)"
   ]
  },
  {
   "cell_type": "code",
   "execution_count": 29,
   "metadata": {},
   "outputs": [
    {
     "name": "stdout",
     "output_type": "stream",
     "text": [
      "[1, 2, 4, 5, 6, 7, 8]\n",
      "[1, 2, 6, 7, 8]\n"
     ]
    }
   ],
   "source": [
    "del s[2] # Delete an item\n",
    "print(s)\n",
    "del s[2:4] # Delete more than one item\n",
    "print(s)"
   ]
  },
  {
   "cell_type": "code",
   "execution_count": 30,
   "metadata": {},
   "outputs": [
    {
     "name": "stdout",
     "output_type": "stream",
     "text": [
      "[1, 2, 3, 4, 5]\n"
     ]
    }
   ],
   "source": [
    "t=[1, 2, 3, 4, 5] #  Create a list\n",
    "print(t)"
   ]
  },
  {
   "cell_type": "code",
   "execution_count": 31,
   "metadata": {},
   "outputs": [
    {
     "name": "stdout",
     "output_type": "stream",
     "text": [
      "(1, 2, 3, 4, 5)\n"
     ]
    }
   ],
   "source": [
    "t=(1, 2, 3, 4, 5) #  Create a tuple\n",
    "print(t)"
   ]
  },
  {
   "cell_type": "code",
   "execution_count": 32,
   "metadata": {},
   "outputs": [
    {
     "name": "stdout",
     "output_type": "stream",
     "text": [
      "(1, 2, 3, 4, 5)\n"
     ]
    }
   ],
   "source": [
    "# del t[2]\n",
    "print(t)"
   ]
  },
  {
   "cell_type": "code",
   "execution_count": 33,
   "metadata": {},
   "outputs": [
    {
     "name": "stdout",
     "output_type": "stream",
     "text": [
      "32\n"
     ]
    }
   ],
   "source": [
    "print(2 ** 5) # Power"
   ]
  },
  {
   "cell_type": "code",
   "execution_count": 34,
   "metadata": {},
   "outputs": [
    {
     "name": "stdout",
     "output_type": "stream",
     "text": [
      "32\n"
     ]
    }
   ],
   "source": [
    "print(pow(2, 5)) # Power using function"
   ]
  },
  {
   "cell_type": "code",
   "execution_count": 35,
   "metadata": {},
   "outputs": [
    {
     "name": "stdout",
     "output_type": "stream",
     "text": [
      "34\n"
     ]
    }
   ],
   "source": [
    "import math # Some common math functions\n",
    "print(math.ceil(33.3))"
   ]
  },
  {
   "cell_type": "code",
   "execution_count": 36,
   "metadata": {},
   "outputs": [
    {
     "name": "stdout",
     "output_type": "stream",
     "text": [
      "3.0\n"
     ]
    }
   ],
   "source": [
    "print(math.sqrt(9))"
   ]
  },
  {
   "cell_type": "code",
   "execution_count": 37,
   "metadata": {},
   "outputs": [
    {
     "name": "stdout",
     "output_type": "stream",
     "text": [
      "3.0\n"
     ]
    }
   ],
   "source": [
    "from math import sqrt\n",
    "print(sqrt(9))"
   ]
  },
  {
   "cell_type": "markdown",
   "metadata": {},
   "source": [
    "## List Methods\n",
    "\n",
    "* list.append(elem) -- adds a single element to the end of the list. Common error: does not return the new list, just modifies the original.\n",
    "* list.insert(index, elem) -- inserts the element at the given index, shifting elements to the right.\n",
    "* list.extend(list2) adds the elements in list2 to the end of the list. Using + or += on a list is similar to using extend().\n",
    "* list.index(elem) -- searches for the given element from the start of the list and returns its index. Throws a ValueError if the element does not appear (use \"in\" to check without a ValueError).\n",
    "* list.remove(elem) -- searches for the first instance of the given element and removes it (throws ValueError if not present)\n",
    "* list.sort() -- sorts the list in place (does not return it). (The sorted() function shown below is preferred.)\n",
    "* list.reverse() -- reverses the list in place (does not return it)\n",
    "* list.pop(index) -- removes and returns the element at the given index. Returns the rightmost element if index is omitted (roughly the opposite of append()).\n"
   ]
  },
  {
   "cell_type": "code",
   "execution_count": 38,
   "metadata": {},
   "outputs": [
    {
     "name": "stdout",
     "output_type": "stream",
     "text": [
      "['Rick Sanchez', 'Morty Smith', 'Mr. Meeseeks']\n",
      "['Rick Sanchez', 'Morty Smith', 'Mr. Meeseeks', 'Doofus Rick']\n",
      "['Scary Terry', 'Rick Sanchez', 'Morty Smith', 'Mr. Meeseeks', 'Doofus Rick']\n",
      "['Scary Terry', 'Rick Sanchez', 'Morty Smith', 'Mr. Meeseeks', 'Doofus Rick', 'Squanchy', 'Mr. Poopybutthole']\n",
      "2\n",
      "['Scary Terry', 'Rick Sanchez', 'Morty Smith', 'Mr. Meeseeks', 'Doofus Rick', 'Squanchy', 'Mr. Poopybutthole']\n",
      "['Scary Terry', 'Rick Sanchez', 'Mr. Meeseeks', 'Doofus Rick', 'Squanchy', 'Mr. Poopybutthole']\n",
      "Rick Sanchez\n",
      "['Scary Terry', 'Mr. Meeseeks', 'Doofus Rick', 'Squanchy', 'Mr. Poopybutthole']\n"
     ]
    }
   ],
   "source": [
    "l = ['Rick Sanchez', 'Morty Smith', 'Mr. Meeseeks']\n",
    "print (l)    \n",
    "l.append('Doofus Rick')         ## append item at end\n",
    "print (l)\n",
    "l.insert(0, 'Scary Terry')        ## insert item at index 0\n",
    "print (l)\n",
    "l.extend(['Squanchy', 'Mr. Poopybutthole'])  ## add list of items at end\n",
    "print (l)\n",
    "print (l.index('Morty Smith'))   \n",
    "print (l)\n",
    "l.remove('Morty Smith') ## search and remove an item\n",
    "print (l)\n",
    "print(l.pop(1)) ## removes and returns 'Rick Sanchez' second item\n",
    "print (l)  ## ['Scary Terry', 'Mr. Meeseeks', 'Doofus Rick', 'Squanchy', 'Mr. Poopybutthole']"
   ]
  },
  {
   "cell_type": "markdown",
   "metadata": {},
   "source": [
    "## Dictionaries"
   ]
  },
  {
   "cell_type": "code",
   "execution_count": 64,
   "metadata": {},
   "outputs": [
    {
     "name": "stdout",
     "output_type": "stream",
     "text": [
      "dict_keys(['python', 'R', 'C++'])\n"
     ]
    }
   ],
   "source": [
    "d={\"python\": 333, \"R\": 222, \"C++\": 111} # Create a dictionary\n",
    "print(d.keys())"
   ]
  },
  {
   "cell_type": "code",
   "execution_count": 40,
   "metadata": {},
   "outputs": [
    {
     "name": "stdout",
     "output_type": "stream",
     "text": [
      "333\n"
     ]
    }
   ],
   "source": [
    "print(d[\"python\"]) # List value with key \"python\""
   ]
  },
  {
   "cell_type": "code",
   "execution_count": 41,
   "metadata": {},
   "outputs": [
    {
     "name": "stdout",
     "output_type": "stream",
     "text": [
      "False\n"
     ]
    }
   ],
   "source": [
    "print(\"java\" in d) # Check if \"java\" in dictionary"
   ]
  },
  {
   "cell_type": "code",
   "execution_count": 42,
   "metadata": {},
   "outputs": [
    {
     "name": "stdout",
     "output_type": "stream",
     "text": [
      "True\n"
     ]
    }
   ],
   "source": [
    "print(\"python\" in d) # Check if \"python\" in dictionary"
   ]
  },
  {
   "cell_type": "code",
   "execution_count": 43,
   "metadata": {},
   "outputs": [
    {
     "name": "stdout",
     "output_type": "stream",
     "text": [
      "{'java': 33, 'C#': 22, 'Scala': 11}\n"
     ]
    }
   ],
   "source": [
    "d2={\"java\": 33, \"C#\": 22, \"Scala\": 11} # Create a dictionary\n",
    "print(d2)"
   ]
  },
  {
   "cell_type": "code",
   "execution_count": 44,
   "metadata": {},
   "outputs": [
    {
     "name": "stdout",
     "output_type": "stream",
     "text": [
      "{'python': 333, 'R': 222, 'C++': 111, 'java': 33, 'C#': 22, 'Scala': 11}\n"
     ]
    }
   ],
   "source": [
    "d.update(d2) # add dictionary to another dictionary\n",
    "print(d)"
   ]
  },
  {
   "cell_type": "code",
   "execution_count": 45,
   "metadata": {},
   "outputs": [
    {
     "name": "stdout",
     "output_type": "stream",
     "text": [
      "python\n",
      "R\n",
      "C++\n",
      "java\n",
      "C#\n",
      "Scala\n",
      "dict_keys(['python', 'R', 'C++', 'java', 'C#', 'Scala'])\n"
     ]
    }
   ],
   "source": [
    "for key in d: # List keys in dictionary\n",
    "  print(key)\n",
    "print(d.keys())"
   ]
  },
  {
   "cell_type": "code",
   "execution_count": 46,
   "metadata": {},
   "outputs": [
    {
     "name": "stdout",
     "output_type": "stream",
     "text": [
      "333\n",
      "222\n",
      "111\n",
      "33\n",
      "22\n",
      "11\n",
      "dict_values([333, 222, 111, 33, 22, 11])\n"
     ]
    }
   ],
   "source": [
    "for key in d: # List values in dictionary\n",
    "  print(d[key])\n",
    "print(d.values())"
   ]
  },
  {
   "cell_type": "code",
   "execution_count": 47,
   "metadata": {},
   "outputs": [
    {
     "name": "stdout",
     "output_type": "stream",
     "text": [
      "{'python': 333, 'R': 222, 'C++': 111, 'java': 33, 'C#': 22, 'Scala': 11}\n"
     ]
    }
   ],
   "source": [
    "d_backup = d.copy() # Create  dictionary copy\n",
    "print(d_backup)"
   ]
  },
  {
   "cell_type": "code",
   "execution_count": 48,
   "metadata": {},
   "outputs": [
    {
     "name": "stdout",
     "output_type": "stream",
     "text": [
      "{'python': 333, 'R': 222, 'C++': 55, 'java': 33, 'C#': 22, 'Scala': 11}\n",
      "{'python': 333, 'R': 222, 'C++': 111, 'java': 33, 'C#': 22, 'Scala': 11}\n"
     ]
    }
   ],
   "source": [
    "d['C++']=55\n",
    "print(d)\n",
    "print(d_backup)"
   ]
  },
  {
   "cell_type": "markdown",
   "metadata": {},
   "source": [
    "### Note:\n",
    "\n",
    "* A shallow copy constructs a new compound object and then (to the extent possible) inserts references into it to the objects found in the original.\n",
    "* A deep copy constructs a new compound object and then, recursively, inserts copies into it of the objects found in the original."
   ]
  },
  {
   "cell_type": "code",
   "execution_count": 49,
   "metadata": {},
   "outputs": [
    {
     "name": "stdout",
     "output_type": "stream",
     "text": [
      "0\n",
      "{'python': 333, 'R': 222, 'C++': 111, 'C#': 22, 'Scala': 11}\n"
     ]
    }
   ],
   "source": [
    "print(len(d)-len(d_backup))\n",
    "del d_backup[\"java\"]\n",
    "print(d_backup)"
   ]
  },
  {
   "cell_type": "code",
   "execution_count": 50,
   "metadata": {},
   "outputs": [
    {
     "name": "stdout",
     "output_type": "stream",
     "text": [
      "1\n"
     ]
    }
   ],
   "source": [
    "print(len(d)-len(d_backup))  # Note original isn't changed"
   ]
  },
  {
   "cell_type": "markdown",
   "metadata": {},
   "source": [
    "## Dictionary Methods\n",
    "\n",
    "* d.fromkeys() - Create a new dictonary with keys from seq and values set to value.\n",
    "* d.get(key, default=None) - For any key, returns value or default if key not in dictonary\n",
    "* d.has_key(key) - Removed, use the in operation instead.\n",
    "* d.items() - Returns a list of d.s (key, value) tuple pairs\n",
    "* d.keys() - Returns list of dictonary d's keys\n",
    "* d.setdefault(key, default = None) - Similar to get(), but will set d.key] = default if key is not already in dict\n",
    "* d.update(d2) - Adds dictonary d2's key-values pairs to dict\n",
    "* d.values() - Returns list of dictonary d's values\n",
    "* d.clear() - Removes all elements of dictonary d\n",
    "\n",
    "Note:\n",
    "\n",
    "* A shallow copy constructs a new compound object and then (to the extent possible) inserts references into it to the objects found in the original.\n",
    "* A deep copy constructs a new compound object and then, recursively, inserts copies into it of the objects found in the original."
   ]
  },
  {
   "cell_type": "markdown",
   "metadata": {},
   "source": [
    "## Excercise \n",
    "\n",
    "Try the above methods on a  dictonary that you create."
   ]
  },
  {
   "cell_type": "markdown",
   "metadata": {},
   "source": [
    "## Indentation\n",
    "\n",
    "One unusual Python feature is that the whitespace indentation of a piece of code affects its meaning. A logical block of statements such as the ones that make up a function should all have the same indentation, set in from the indentation of their parent function or \"if\" or whatever. If one of the lines in a group has a different indentation, it is flagged as a syntax error."
   ]
  },
  {
   "cell_type": "markdown",
   "metadata": {},
   "source": [
    "## Conditionals"
   ]
  },
  {
   "cell_type": "code",
   "execution_count": 51,
   "metadata": {},
   "outputs": [
    {
     "name": "stdout",
     "output_type": "stream",
     "text": [
      "Oh no!!!\n",
      "Whew!!!\n",
      "Oooo yeah, caaan doo!!!!\n"
     ]
    }
   ],
   "source": [
    "l=['Scary Terry', 'Rick Sanchez', 'Morty Smith', 'Mr. Meeseeks', 'Doofus Rick', 'Squanchy', 'Mr. Poopybutthole']\n",
    "if 'Scary Terry' in l:\n",
    "    print (\"Oh no!!!\")\n",
    "    \n",
    "if 'Scary Tarry' in l:\n",
    "    print (\"Oh no!!!\") \n",
    "else:\n",
    "    print (\"Whew!!!\")\n",
    "    \n",
    "if 'Scary Tarry' in l:\n",
    "    print (\"Oh no!!!\") \n",
    "elif 'Mr. Meeseeks' in l:\n",
    "    print (\"Oooo yeah, caaan doo!!!!\")     \n",
    "else:\n",
    "    print (\"Whew!!!\")    "
   ]
  },
  {
   "cell_type": "markdown",
   "metadata": {},
   "source": [
    "## Comparison Operators\n",
    "\n",
    "* x == y x equals y.\n",
    "* x < y x is less than y.\n",
    "* x > y x is greater than y.\n",
    "* x >= y x is greater than or equal to y.\n",
    "* x <= y x is less than or equal to y.\n",
    "* x != y x is not equal to y.\n",
    "* x is y x and y are the same object.\n",
    "* x is not y x and y are different objects.\n",
    "* x in y x is a member of the container (e.g., sequence) y.\n",
    "* x not in y x is not a member of the container (e.g., sequence) y."
   ]
  },
  {
   "cell_type": "markdown",
   "metadata": {},
   "source": [
    "## Loops\n",
    "\n",
    "### For loops "
   ]
  },
  {
   "cell_type": "code",
   "execution_count": 52,
   "metadata": {},
   "outputs": [
    {
     "name": "stdout",
     "output_type": "stream",
     "text": [
      "Scary Terry\n",
      "Rick Sanchez\n",
      "Morty Smith\n",
      "Mr. Meeseeks\n",
      "Doofus Rick\n",
      "Squanchy\n",
      "Mr. Poopybutthole\n"
     ]
    }
   ],
   "source": [
    "for name in l:\n",
    "    print(name)"
   ]
  },
  {
   "cell_type": "markdown",
   "metadata": {},
   "source": [
    "### While loops "
   ]
  },
  {
   "cell_type": "code",
   "execution_count": 53,
   "metadata": {},
   "outputs": [
    {
     "name": "stdout",
     "output_type": "stream",
     "text": [
      "1\n",
      "2\n",
      "3\n",
      "4\n",
      "5\n"
     ]
    }
   ],
   "source": [
    "x = 1\n",
    "while x <= 5:\n",
    "    print(x)\n",
    "    x += 1"
   ]
  },
  {
   "cell_type": "code",
   "execution_count": 54,
   "metadata": {},
   "outputs": [
    {
     "name": "stdout",
     "output_type": "stream",
     "text": [
      "2\n",
      "4\n",
      "6\n"
     ]
    }
   ],
   "source": [
    "x = 1\n",
    "while x <= 5:\n",
    "    x += 1 \n",
    "    if (x%2==0):\n",
    "      print(x)\n"
   ]
  },
  {
   "cell_type": "code",
   "execution_count": 55,
   "metadata": {},
   "outputs": [
    {
     "name": "stdout",
     "output_type": "stream",
     "text": [
      "2\n",
      "3\n"
     ]
    }
   ],
   "source": [
    "x = 1\n",
    "while x <= 5:\n",
    "    x += 1    \n",
    "    print(x)\n",
    "    if (x==3): break"
   ]
  },
  {
   "cell_type": "markdown",
   "metadata": {},
   "source": [
    "## help(), and dir()\n",
    "\n",
    "here are a variety of ways to get help for Python.\n",
    "\n",
    "Do a Google search, starting with the word \"python\", like \"python list\" or \"python string lowercase\". The first hit is often the answer. This technique seems to work better for Python than it does for other languages for some reason.\n",
    "The official Python docs site — docs.python.org — has high quality docs. Nonetheless, I often find a Google search of a couple words to be quicker.\n",
    "There is also an official Tutor mailing list specifically designed for those who are new to Python and/or programming!\n",
    "Many questions (and answers) can be found on StackOverflow and Quora.\n",
    "Use the help() and dir() functions (see below).\n",
    "Inside the Python interpreter, the help() function pulls up documentation strings for various modules, functions, and methods. These doc strings are similar to Java's javadoc. The dir() function tells you what the attributes of an object are. Below are some ways to call help() and dir() from the interpreter:\n",
    "\n",
    "help(len) — help string for the built-in len() function; note that it's \"len\" not \"len()\", which is a call to the function, which we don't want\n",
    "help(sys) — help string for the sys module (must do an import sys first)\n",
    "dir(sys) — dir() is like help() but just gives a quick list of its defined symbols, or \"attributes\"\n",
    "help(sys.exit) — help string for the exit() function in the sys module\n",
    "help('xyz'.split) — help string for the split() method for string objects. You can call help() with that object itself or an example of that object, plus its attribute. For example, calling help('xyz'.split) is the same as calling help(str.split).\n",
    "help(list) — help string for list objects\n",
    "dir(list) — displays list object attributes, including its methods\n",
    "help(list.append) — help string for the append() method for list objects"
   ]
  },
  {
   "cell_type": "markdown",
   "metadata": {},
   "source": [
    "## Functions"
   ]
  },
  {
   "cell_type": "code",
   "execution_count": 56,
   "metadata": {},
   "outputs": [
    {
     "name": "stdout",
     "output_type": "stream",
     "text": [
      "[0, 1, 1, 2, 3, 5, 8, 13, 21]\n"
     ]
    }
   ],
   "source": [
    "def fibonacci_seq(n):  # Function syntax\n",
    "  result = [0, 1]\n",
    "  for i in range(n-2):\n",
    "    result.append(result[-2] + result[-1])\n",
    "  return result\n",
    "print(fibonacci_seq(9))"
   ]
  },
  {
   "cell_type": "code",
   "execution_count": 57,
   "metadata": {},
   "outputs": [
    {
     "name": "stdout",
     "output_type": "stream",
     "text": [
      "[1, 1, 1, 2, 3, 5, 8, 13, 21]\n"
     ]
    }
   ],
   "source": [
    "def fibA(n):\n",
    " a,b = 1,1\n",
    " for i in range(n-1):\n",
    "  a,b = b,a+b\n",
    " return a\n",
    "print([fibA(i) for i in range(9)])  # Repeatedly calling a function"
   ]
  },
  {
   "cell_type": "markdown",
   "metadata": {},
   "source": [
    "## Python Tutorials \n",
    "\n",
    "* [“Dive into Python” (Chapters 2 to 4)] (http://diveintopython.org/)\n",
    "\n",
    "* [Python 101 – Beginning Python] (http://www.rexx.com/~dkuhlman/python_101/python_101.html) \n",
    "\n",
    "* [Nice free CS/python book] (https://www.cs.hmc.edu/csforall/index.html)\n",
    "\n",
    "\n",
    "### Things to refer to \n",
    "\n",
    "* [The Official Python Tutorial] (http://www.python.org/doc/current/tut/tut.html) \n",
    "* [The Python Quick Reference] (http://rgruet.free.fr/PQR2.3.html) \n",
    "\n",
    "### YouTube Python Tutorials \n",
    "\n",
    "* [Python Fundamentals Training – Classes] (http://www.youtube.com/watch?v=rKzZEtxIX14)\n",
    "* [Python 2.7 Tutorial Derek Banas] (http://www.youtube.com/watch?v=UQi-L-_chcc)\n",
    "* [Python Programming Tutorial - thenewboston] \n",
    "(http://www.youtube.com/watch?v=4Mf0h3HphEA)\n",
    "* [Google Python Class](http://www.youtube.com/watch?v=tKTZoB2Vjuk) \n",
    "\n",
    "\n",
    "### datacamp.com\n",
    "\n",
    "* [datacamp.com] (https://www.datacamp.com/tracks/python-developer)"
   ]
  },
  {
   "cell_type": "markdown",
   "metadata": {
    "collapsed": true
   },
   "source": [
    "Last update September 5, 2017"
   ]
  }
 ],
 "metadata": {
  "kernelspec": {
   "display_name": "Python 3",
   "language": "python",
   "name": "python3"
  },
  "language_info": {
   "codemirror_mode": {
    "name": "ipython",
    "version": 3
   },
   "file_extension": ".py",
   "mimetype": "text/x-python",
   "name": "python",
   "nbconvert_exporter": "python",
   "pygments_lexer": "ipython3",
   "version": "3.6.1"
  }
 },
 "nbformat": 4,
 "nbformat_minor": 2
}
