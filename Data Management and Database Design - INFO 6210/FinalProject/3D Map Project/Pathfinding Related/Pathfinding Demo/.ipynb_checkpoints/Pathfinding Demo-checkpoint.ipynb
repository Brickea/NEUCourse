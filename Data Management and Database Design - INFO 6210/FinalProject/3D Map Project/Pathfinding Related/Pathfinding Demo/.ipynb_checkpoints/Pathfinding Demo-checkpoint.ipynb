{
 "cells": [
  {
   "cell_type": "markdown",
   "metadata": {},
   "source": [
    "<div style=\"text-align:right;\">Team Bravo </div>\n",
    "<div style=\"text-align:right;\">Brickea, 2020.2.17 </div>\n",
    "<div style=\"text-align:right;\">Pathfinding Demo </div>"
   ]
  },
  {
   "cell_type": "code",
   "execution_count": 1,
   "metadata": {},
   "outputs": [],
   "source": [
    "from queue import *\n",
    "import numpy as np\n",
    "from matplotlib import pyplot as plt\n",
    "import networkx as nx"
   ]
  },
  {
   "cell_type": "markdown",
   "metadata": {},
   "source": [
    "# Methodology\n",
    "\n",
    "[Introduction to the A* Algorithm](https://www.redblobgames.com/pathfinding/a-star/introduction.html)\n",
    "* Breadth First Search\n",
    "* Dijkstra’s Algorithm\n",
    "* A*"
   ]
  },
  {
   "cell_type": "markdown",
   "metadata": {},
   "source": [
    "## ~~Import the coordinate data~~"
   ]
  },
  {
   "cell_type": "markdown",
   "metadata": {},
   "source": [
    "## Simluation data"
   ]
  },
  {
   "cell_type": "markdown",
   "metadata": {},
   "source": [
    "![](./res/simulated_map.png)"
   ]
  },
  {
   "cell_type": "markdown",
   "metadata": {},
   "source": [
    "During the simulation, the map node will have three states\n",
    "* 0 : Not been visited by algorithm\n",
    "* 1 : Have been visited by algorithm\n",
    "* 2 : Have a wall so it cannot pass through"
   ]
  },
  {
   "cell_type": "code",
   "execution_count": 83,
   "metadata": {},
   "outputs": [
    {
     "data": {
      "text/plain": [
       "(15, 15)"
      ]
     },
     "execution_count": 83,
     "metadata": {},
     "output_type": "execute_result"
    }
   ],
   "source": [
    "# Initiate the map for 15 X 15\n",
    "# The (0,0) is the top left element\n",
    "simulate_map = np.zeros((15,15))\n",
    "simulate_map.shape"
   ]
  },
  {
   "cell_type": "code",
   "execution_count": 84,
   "metadata": {},
   "outputs": [],
   "source": [
    "def init_wall(start,end,current_map):\n",
    "    if start[0] == end[0]:\n",
    "        # The wall is in a row\n",
    "        for i in range(start[1],end[1]+1):\n",
    "            current_map[start[0]][i] = 2\n",
    "    else:\n",
    "        # The wall is in a column\n",
    "        for j in range(start[0],end[0]+1):\n",
    "            current_map[j][start[1]] = 2\n",
    "        "
   ]
  },
  {
   "cell_type": "code",
   "execution_count": 85,
   "metadata": {},
   "outputs": [
    {
     "data": {
      "text/plain": [
       "array([[0., 0., 0., 0., 0., 0., 0., 0., 0., 0., 0., 0., 0., 0., 0.],\n",
       "       [0., 0., 0., 0., 0., 0., 0., 0., 0., 0., 0., 0., 0., 0., 0.],\n",
       "       [0., 0., 0., 0., 0., 2., 2., 2., 2., 2., 2., 2., 2., 0., 0.],\n",
       "       [0., 0., 0., 0., 0., 0., 0., 0., 0., 0., 0., 0., 2., 0., 0.],\n",
       "       [0., 0., 0., 0., 0., 0., 0., 0., 0., 0., 0., 0., 2., 0., 0.],\n",
       "       [0., 0., 0., 0., 0., 0., 0., 0., 0., 0., 0., 0., 2., 0., 0.],\n",
       "       [0., 0., 0., 0., 0., 0., 0., 0., 0., 0., 0., 0., 2., 0., 0.],\n",
       "       [0., 0., 0., 0., 0., 0., 0., 0., 0., 0., 0., 0., 2., 0., 0.],\n",
       "       [0., 0., 0., 0., 0., 0., 0., 0., 0., 0., 0., 0., 2., 0., 0.],\n",
       "       [0., 0., 0., 0., 0., 0., 0., 0., 0., 0., 0., 0., 2., 0., 0.],\n",
       "       [0., 0., 0., 0., 0., 0., 0., 0., 0., 0., 0., 0., 2., 0., 0.],\n",
       "       [0., 0., 0., 0., 0., 0., 0., 0., 0., 0., 0., 0., 2., 0., 0.],\n",
       "       [0., 0., 2., 2., 2., 2., 2., 2., 2., 2., 2., 2., 2., 0., 0.],\n",
       "       [0., 0., 0., 0., 0., 0., 0., 0., 0., 0., 0., 0., 0., 0., 0.],\n",
       "       [0., 0., 0., 0., 0., 0., 0., 0., 0., 0., 0., 0., 0., 0., 0.]])"
      ]
     },
     "execution_count": 85,
     "metadata": {},
     "output_type": "execute_result"
    }
   ],
   "source": [
    "# Initiate the wall \n",
    "# From (12,2) to (12,12)\n",
    "init_wall((12,2),(12,12),simulate_map)\n",
    "# From (12,12) to (2,12)\n",
    "init_wall((2,12),(12,12),simulate_map)\n",
    "# From (2,5) to (2,12)\n",
    "init_wall((2,5),(2,12),simulate_map)\n",
    "simulate_map"
   ]
  },
  {
   "cell_type": "markdown",
   "metadata": {},
   "source": [
    "## Breadth First Search Algorithm"
   ]
  },
  {
   "cell_type": "code",
   "execution_count": 86,
   "metadata": {},
   "outputs": [],
   "source": [
    "class BFS_PathFind(object):\n",
    "    def __init__(self,start,end,current_map):\n",
    "        # Start,end should be a tuple with x,y\n",
    "        # current_map should be a 2-D array\n",
    "        self.start = start\n",
    "        self.end = end\n",
    "        self.current_map = current_map\n",
    "        self.map_shape = current_map.shape\n",
    "        self.came_from = [[() for i in range(current_map.shape[0])] for j in range(current_map.shape[1])]\n",
    "        \n",
    "        \n",
    "    def is_have_came_from(self,point):\n",
    "        return not self.came_from[point[0]][point[1]] == ()\n",
    "    \n",
    "    def calculate_came_from(self):\n",
    "        frontier = []\n",
    "        frontier.append(self.start)\n",
    "        self.came_from[self.start[0]][self.start[1]] = self.start\n",
    "        while len(frontier)!=0:\n",
    "            current = frontier.pop(0)\n",
    "            \n",
    "            if current == self.end:\n",
    "                # If we found the end point the exit the algorithm\n",
    "                return self.came_from\n",
    "            \n",
    "            # Neiborhood\n",
    "            top = (current[0]-1,current[1])\n",
    "            left = (current[0],current[1]-1)\n",
    "            buttom = (current[0]+1,current[1])\n",
    "            right = (current[0],current[1]+1)\n",
    "            \n",
    "            # Top path within map and is not a wall\n",
    "            if top[0] > -1 and self.current_map[top[0]][top[1]]!=2:\n",
    "                if not self.is_have_came_from(top):\n",
    "                    # If we dont have came from for this point\n",
    "                    self.came_from[top[0]][top[1]] = current\n",
    "                    frontier.append(top)\n",
    "            \n",
    "            # Left path within map and is not a wall\n",
    "            if left[1] > -1 and self.current_map[left[0]][left[1]]!=2:\n",
    "                if not self.is_have_came_from(left):\n",
    "                    # If we dont have came from for this point\n",
    "                    self.came_from[left[0]][left[1]] = current\n",
    "                    frontier.append(left)\n",
    "                    \n",
    "            # Buttom path within map and is not a wall\n",
    "            if buttom[0] < self.map_shape[0] and self.current_map[buttom[0]][buttom[1]]!=2:\n",
    "                if not self.is_have_came_from(buttom):\n",
    "                    # If we dont have came from for this point\n",
    "                    self.came_from[buttom[0]][buttom[1]] = current\n",
    "                    frontier.append(buttom)\n",
    "                    \n",
    "            # Right path within map and is not a wall\n",
    "            if right[1] < self.map_shape[1] and self.current_map[right[0]][right[1]]!=2:\n",
    "                if not self.is_have_came_from(right):\n",
    "                    # If we dont have came from for this point\n",
    "                    self.came_from[right[0]][right[1]] = current\n",
    "                    frontier.append(right)\n",
    "        return self.came_from\n",
    "            \n",
    "    def find_path(self):\n",
    "        current = self.end\n",
    "        while current != self.start:\n",
    "            self.current_map[current[0]][current[1]] = 1\n",
    "            current = self.came_from[current[0]][current[1]]\n",
    "        self.current_map[current[0]][current[1]] = 1\n",
    "        return self.current_map"
   ]
  },
  {
   "cell_type": "code",
   "execution_count": 82,
   "metadata": {},
   "outputs": [
    {
     "name": "stdout",
     "output_type": "stream",
     "text": [
      "CPU times: user 744 µs, sys: 2 µs, total: 746 µs\n",
      "Wall time: 749 µs\n"
     ]
    },
    {
     "data": {
      "text/plain": [
       "array([[0., 0., 0., 0., 0., 0., 0., 0., 0., 0., 0., 0., 0., 0., 0.],\n",
       "       [0., 0., 0., 0., 1., 1., 1., 1., 1., 1., 1., 1., 0., 0., 0.],\n",
       "       [0., 0., 0., 0., 1., 2., 2., 2., 2., 2., 2., 2., 2., 0., 0.],\n",
       "       [0., 0., 0., 0., 1., 1., 1., 1., 0., 0., 0., 0., 2., 0., 0.],\n",
       "       [0., 0., 0., 0., 0., 0., 0., 1., 0., 0., 0., 0., 2., 0., 0.],\n",
       "       [0., 0., 0., 0., 0., 0., 0., 1., 0., 0., 0., 0., 2., 0., 0.],\n",
       "       [0., 0., 0., 0., 0., 0., 0., 0., 0., 0., 0., 0., 2., 0., 0.],\n",
       "       [0., 0., 0., 0., 0., 0., 0., 0., 0., 0., 0., 0., 2., 0., 0.],\n",
       "       [0., 0., 0., 0., 0., 0., 0., 0., 0., 0., 0., 0., 2., 0., 0.],\n",
       "       [0., 0., 0., 0., 0., 0., 0., 0., 0., 0., 0., 0., 2., 0., 0.],\n",
       "       [0., 0., 0., 0., 0., 0., 0., 0., 0., 0., 0., 0., 2., 0., 0.],\n",
       "       [0., 0., 0., 0., 0., 0., 0., 0., 0., 0., 0., 0., 2., 0., 0.],\n",
       "       [0., 0., 2., 2., 2., 2., 2., 2., 2., 2., 2., 2., 2., 0., 0.],\n",
       "       [0., 0., 0., 0., 0., 0., 0., 0., 0., 0., 0., 0., 0., 0., 0.],\n",
       "       [0., 0., 0., 0., 0., 0., 0., 0., 0., 0., 0., 0., 0., 0., 0.]])"
      ]
     },
     "execution_count": 82,
     "metadata": {},
     "output_type": "execute_result"
    }
   ],
   "source": [
    "%%time\n",
    "test = BFS_PathFind((5,7),(1,11),simulate_map)\n",
    "test.calculate_came_from()\n",
    "test.find_path()"
   ]
  },
  {
   "cell_type": "code",
   "execution_count": null,
   "metadata": {},
   "outputs": [],
   "source": []
  }
 ],
 "metadata": {
  "kernelspec": {
   "display_name": "Python 3",
   "language": "python",
   "name": "python3"
  },
  "language_info": {
   "codemirror_mode": {
    "name": "ipython",
    "version": 3
   },
   "file_extension": ".py",
   "mimetype": "text/x-python",
   "name": "python",
   "nbconvert_exporter": "python",
   "pygments_lexer": "ipython3",
   "version": "3.7.3"
  }
 },
 "nbformat": 4,
 "nbformat_minor": 4
}
