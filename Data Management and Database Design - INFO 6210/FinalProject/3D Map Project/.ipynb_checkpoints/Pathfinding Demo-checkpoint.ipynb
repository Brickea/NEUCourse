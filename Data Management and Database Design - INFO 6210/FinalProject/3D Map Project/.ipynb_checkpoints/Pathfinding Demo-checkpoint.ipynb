{
 "cells": [
  {
   "cell_type": "markdown",
   "metadata": {},
   "source": [
    "<div style=\"text-align:right;\">Team Bravo </div>\n",
    "<div style=\"text-align:right;\">Brickea, 2020.2.17 </div>\n",
    "<div style=\"text-align:right;\">Pathfinding Demo </div>"
   ]
  },
  {
   "cell_type": "code",
   "execution_count": 1,
   "metadata": {},
   "outputs": [],
   "source": [
    "from queue import *\n",
    "import numpy as np\n",
    "from matplotlib import pyplot as plt\n",
    "import networkx as nx"
   ]
  },
  {
   "cell_type": "markdown",
   "metadata": {},
   "source": [
    "# Methodology\n",
    "\n",
    "[Introduction to the A* Algorithm](https://www.redblobgames.com/pathfinding/a-star/introduction.html)\n",
    "* Breadth First Search\n",
    "* Dijkstra’s Algorithm\n",
    "* A*"
   ]
  },
  {
   "cell_type": "markdown",
   "metadata": {},
   "source": [
    "## ~~Import the coordinate data~~"
   ]
  },
  {
   "cell_type": "markdown",
   "metadata": {},
   "source": [
    "## Simluation data"
   ]
  },
  {
   "cell_type": "markdown",
   "metadata": {},
   "source": [
    "![](./res/simulated_map.png)"
   ]
  },
  {
   "cell_type": "markdown",
   "metadata": {},
   "source": [
    "During the simulation, the map node will have three states\n",
    "* 0 : Not been visited by algorithm\n",
    "* 1 : Have been visited by algorithm\n",
    "* 2 : Have a wall so it cannot pass through"
   ]
  },
  {
   "cell_type": "code",
   "execution_count": 20,
   "metadata": {},
   "outputs": [
    {
     "data": {
      "text/plain": [
       "(15, 15)"
      ]
     },
     "execution_count": 20,
     "metadata": {},
     "output_type": "execute_result"
    }
   ],
   "source": [
    "# Initiate the map for 15 X 15\n",
    "# The (0,0) is the top left element\n",
    "simulate_map = np.zeros((15,15))\n",
    "simulate_map.shape"
   ]
  },
  {
   "cell_type": "code",
   "execution_count": 9,
   "metadata": {},
   "outputs": [],
   "source": [
    "def init_wall(start,end,current_map):\n",
    "    if start[0] == end[0]:\n",
    "        # The wall is in a row\n",
    "        for i in range(start[1],end[1]+1):\n",
    "            current_map[start[0]][i] = 2\n",
    "    else:\n",
    "        # The wall is in a column\n",
    "        for j in range(start[0],end[0]+1):\n",
    "            current_map[j][start[1]] = 2\n",
    "        "
   ]
  },
  {
   "cell_type": "code",
   "execution_count": 11,
   "metadata": {},
   "outputs": [
    {
     "data": {
      "text/plain": [
       "array([[0., 0., 0., 0., 0., 0., 0., 0., 0., 0., 0., 0., 0., 0., 0.],\n",
       "       [0., 0., 0., 0., 0., 0., 0., 0., 0., 0., 0., 0., 0., 0., 0.],\n",
       "       [0., 0., 0., 0., 0., 2., 2., 2., 2., 2., 2., 2., 2., 0., 0.],\n",
       "       [0., 0., 0., 0., 0., 0., 0., 0., 0., 0., 0., 0., 2., 0., 0.],\n",
       "       [0., 0., 0., 0., 0., 0., 0., 0., 0., 0., 0., 0., 2., 0., 0.],\n",
       "       [0., 0., 0., 0., 0., 0., 0., 0., 0., 0., 0., 0., 2., 0., 0.],\n",
       "       [0., 0., 0., 0., 0., 0., 0., 0., 0., 0., 0., 0., 2., 0., 0.],\n",
       "       [0., 0., 0., 0., 0., 0., 0., 0., 0., 0., 0., 0., 2., 0., 0.],\n",
       "       [0., 0., 0., 0., 0., 0., 0., 0., 0., 0., 0., 0., 2., 0., 0.],\n",
       "       [0., 0., 0., 0., 0., 0., 0., 0., 0., 0., 0., 0., 2., 0., 0.],\n",
       "       [0., 0., 0., 0., 0., 0., 0., 0., 0., 0., 0., 0., 2., 0., 0.],\n",
       "       [0., 0., 0., 0., 0., 0., 0., 0., 0., 0., 0., 0., 2., 0., 0.],\n",
       "       [0., 0., 2., 2., 2., 2., 2., 2., 2., 2., 2., 2., 2., 0., 0.],\n",
       "       [0., 0., 0., 0., 0., 0., 0., 0., 0., 0., 0., 0., 0., 0., 0.],\n",
       "       [0., 0., 0., 0., 0., 0., 0., 0., 0., 0., 0., 0., 0., 0., 0.]])"
      ]
     },
     "execution_count": 11,
     "metadata": {},
     "output_type": "execute_result"
    }
   ],
   "source": [
    "# Initiate the wall \n",
    "# From (12,2) to (12,12)\n",
    "init_wall((12,2),(12,12),simulate_map)\n",
    "# From (12,12) to (2,12)\n",
    "init_wall((2,12),(12,12),simulate_map)\n",
    "# From (2,5) to (2,12)\n",
    "init_wall((2,5),(2,12),simulate_map)\n",
    "simulate_map"
   ]
  },
  {
   "cell_type": "markdown",
   "metadata": {},
   "source": [
    "## Breadth First Search Algorithm"
   ]
  },
  {
   "cell_type": "code",
   "execution_count": 35,
   "metadata": {},
   "outputs": [
    {
     "data": {
      "text/plain": [
       "False"
      ]
     },
     "execution_count": 35,
     "metadata": {},
     "output_type": "execute_result"
    }
   ],
   "source": [
    "a = [[() for i in range(3)] for j in range(3)]\n",
    "a[0][0] == (1,2)"
   ]
  },
  {
   "cell_type": "code",
   "execution_count": 43,
   "metadata": {},
   "outputs": [],
   "source": [
    "class BFS_PathFind(object):\n",
    "    def __init__(self,start,end,current_map):\n",
    "        # Start,end should be a tuple with x,y\n",
    "        # current_map should be a 2-D array\n",
    "        self.start = start\n",
    "        self.end = end\n",
    "        self.current_map = current_map\n",
    "        self.map_shape = current_map.shape\n",
    "        self.came_from = [[() for i in range(current_map.shape[0])] for j in range(current_map.shape[1])]\n",
    "        \n",
    "        \n",
    "    def is_have_came_from(self,point):\n",
    "        return not self.came_from[point[0]][point[1]] == ()\n",
    "    \n",
    "    def calculate_came_from(self):\n",
    "        frontier = []\n",
    "        frontier.append(self.start)\n",
    "        self.came_from[self.start[0]][self.start[1]] = self.start\n",
    "        while len(frontier)!=0:\n",
    "            current = frontier.pop(0)\n",
    "            \n",
    "            if current == self.end:\n",
    "                # If we found the end point the exit the algorithm\n",
    "                return self.came_from\n",
    "            \n",
    "            # Neiborhood\n",
    "            top = (current[0]-1,current[1])\n",
    "            left = (current[0],current[1]-1)\n",
    "            buttom = (current[0]+1,current[1])\n",
    "            right = (current[0],current[1]+1)\n",
    "            \n",
    "            # Top path within map and is not a wall\n",
    "            if top[0] > -1 and self.current_map[top[0]][top[1]]!=2:\n",
    "                if not self.is_have_came_from(top):\n",
    "                    # If we dont have came from for this point\n",
    "                    self.came_from[top[0]][top[1]] = current\n",
    "                    frontier.append(top)\n",
    "            \n",
    "            # Left path within map and is not a wall\n",
    "            if left[1] > -1 and self.current_map[left[0]][left[1]]!=2:\n",
    "                if not self.is_have_came_from(left):\n",
    "                    # If we dont have came from for this point\n",
    "                    self.came_from[left[0]][left[1]] = current\n",
    "                    frontier.append(left)\n",
    "                    \n",
    "            # Buttom path within map and is not a wall\n",
    "            if buttom[0] < self.map_shape[0] and self.current_map[buttom[0]][buttom[1]]!=2:\n",
    "                if not self.is_have_came_from(buttom):\n",
    "                    # If we dont have came from for this point\n",
    "                    self.came_from[buttom[0]][buttom[1]] = current\n",
    "                    frontier.append(buttom)\n",
    "                    \n",
    "            # Right path within map and is not a wall\n",
    "            if right[1] < self.map_shape[1] and self.current_map[right[0]][right[1]]!=2:\n",
    "                if not self.is_have_came_from(right):\n",
    "                    # If we dont have came from for this point\n",
    "                    self.came_from[right[0]][right[1]] = current\n",
    "                    frontier.append(right)\n",
    "        return self.came_from\n",
    "            \n",
    "    def find_path(self):\n",
    "        self.current_map[self.end[0]][self.end[1]] = 1\n",
    "        current = self.end\n",
    "        while current != self.start:\n",
    "            self.current_map[cu]"
   ]
  },
  {
   "cell_type": "code",
   "execution_count": 44,
   "metadata": {},
   "outputs": [
    {
     "data": {
      "text/plain": [
       "[[(0, 1),\n",
       "  (0, 2),\n",
       "  (0, 3),\n",
       "  (0, 4),\n",
       "  (0, 5),\n",
       "  (0, 6),\n",
       "  (0, 7),\n",
       "  (0, 8),\n",
       "  (0, 9),\n",
       "  (0, 10),\n",
       "  (0, 11),\n",
       "  (0, 12),\n",
       "  (1, 12),\n",
       "  (0, 12),\n",
       "  (0, 13)],\n",
       " [(1, 1),\n",
       "  (1, 2),\n",
       "  (1, 3),\n",
       "  (1, 4),\n",
       "  (1, 5),\n",
       "  (1, 6),\n",
       "  (1, 7),\n",
       "  (1, 8),\n",
       "  (1, 9),\n",
       "  (1, 10),\n",
       "  (1, 11),\n",
       "  (1, 12),\n",
       "  (1, 12),\n",
       "  (1, 12),\n",
       "  (1, 13)],\n",
       " [(),\n",
       "  (1, 1),\n",
       "  (1, 2),\n",
       "  (1, 3),\n",
       "  (1, 4),\n",
       "  (1, 5),\n",
       "  (1, 6),\n",
       "  (1, 7),\n",
       "  (1, 8),\n",
       "  (1, 9),\n",
       "  (1, 10),\n",
       "  (1, 11),\n",
       "  (1, 12),\n",
       "  (2, 12),\n",
       "  (2, 13)],\n",
       " [(),\n",
       "  (),\n",
       "  (2, 2),\n",
       "  (2, 3),\n",
       "  (2, 4),\n",
       "  (2, 5),\n",
       "  (2, 6),\n",
       "  (2, 7),\n",
       "  (2, 8),\n",
       "  (2, 9),\n",
       "  (2, 10),\n",
       "  (2, 11),\n",
       "  (2, 12),\n",
       "  (3, 12),\n",
       "  (3, 13)],\n",
       " [(),\n",
       "  (),\n",
       "  (),\n",
       "  (3, 3),\n",
       "  (3, 4),\n",
       "  (3, 5),\n",
       "  (3, 6),\n",
       "  (3, 7),\n",
       "  (3, 8),\n",
       "  (3, 9),\n",
       "  (3, 10),\n",
       "  (3, 11),\n",
       "  (3, 12),\n",
       "  (4, 12),\n",
       "  (4, 13)],\n",
       " [(),\n",
       "  (),\n",
       "  (),\n",
       "  (),\n",
       "  (4, 4),\n",
       "  (4, 5),\n",
       "  (4, 6),\n",
       "  (4, 7),\n",
       "  (4, 8),\n",
       "  (4, 9),\n",
       "  (4, 10),\n",
       "  (4, 11),\n",
       "  (4, 12),\n",
       "  (5, 12),\n",
       "  (5, 13)],\n",
       " [(),\n",
       "  (),\n",
       "  (),\n",
       "  (),\n",
       "  (),\n",
       "  (5, 5),\n",
       "  (5, 6),\n",
       "  (5, 7),\n",
       "  (5, 8),\n",
       "  (5, 9),\n",
       "  (5, 10),\n",
       "  (5, 11),\n",
       "  (5, 12),\n",
       "  (6, 12),\n",
       "  (6, 13)],\n",
       " [(),\n",
       "  (),\n",
       "  (),\n",
       "  (),\n",
       "  (),\n",
       "  (),\n",
       "  (6, 6),\n",
       "  (6, 7),\n",
       "  (6, 8),\n",
       "  (6, 9),\n",
       "  (6, 10),\n",
       "  (6, 11),\n",
       "  (6, 12),\n",
       "  (7, 12),\n",
       "  (7, 13)],\n",
       " [(),\n",
       "  (),\n",
       "  (),\n",
       "  (),\n",
       "  (),\n",
       "  (),\n",
       "  (),\n",
       "  (7, 7),\n",
       "  (7, 8),\n",
       "  (7, 9),\n",
       "  (7, 10),\n",
       "  (7, 11),\n",
       "  (7, 12),\n",
       "  (8, 12),\n",
       "  (8, 13)],\n",
       " [(),\n",
       "  (),\n",
       "  (),\n",
       "  (),\n",
       "  (),\n",
       "  (),\n",
       "  (),\n",
       "  (),\n",
       "  (8, 8),\n",
       "  (8, 9),\n",
       "  (8, 10),\n",
       "  (8, 11),\n",
       "  (8, 12),\n",
       "  (9, 12),\n",
       "  (9, 13)],\n",
       " [(),\n",
       "  (),\n",
       "  (),\n",
       "  (),\n",
       "  (),\n",
       "  (),\n",
       "  (),\n",
       "  (),\n",
       "  (),\n",
       "  (9, 9),\n",
       "  (9, 10),\n",
       "  (9, 11),\n",
       "  (9, 12),\n",
       "  (10, 12),\n",
       "  (10, 13)],\n",
       " [(),\n",
       "  (),\n",
       "  (),\n",
       "  (),\n",
       "  (),\n",
       "  (),\n",
       "  (),\n",
       "  (),\n",
       "  (),\n",
       "  (),\n",
       "  (10, 10),\n",
       "  (10, 11),\n",
       "  (10, 12),\n",
       "  (11, 12),\n",
       "  (11, 13)],\n",
       " [(),\n",
       "  (),\n",
       "  (),\n",
       "  (),\n",
       "  (),\n",
       "  (),\n",
       "  (),\n",
       "  (),\n",
       "  (),\n",
       "  (),\n",
       "  (),\n",
       "  (11, 11),\n",
       "  (11, 12),\n",
       "  (12, 12),\n",
       "  ()],\n",
       " [(), (), (), (), (), (), (), (), (), (), (), (), (12, 12), (), ()],\n",
       " [(), (), (), (), (), (), (), (), (), (), (), (), (), (), ()]]"
      ]
     },
     "execution_count": 44,
     "metadata": {},
     "output_type": "execute_result"
    }
   ],
   "source": [
    "test = BFS_PathFind((1,12),(1,0),simulate_map)\n",
    "test.calculate_came_from()"
   ]
  },
  {
   "cell_type": "code",
   "execution_count": null,
   "metadata": {},
   "outputs": [],
   "source": []
  }
 ],
 "metadata": {
  "kernelspec": {
   "display_name": "Python 3",
   "language": "python",
   "name": "python3"
  },
  "language_info": {
   "codemirror_mode": {
    "name": "ipython",
    "version": 3
   },
   "file_extension": ".py",
   "mimetype": "text/x-python",
   "name": "python",
   "nbconvert_exporter": "python",
   "pygments_lexer": "ipython3",
   "version": "3.7.4"
  }
 },
 "nbformat": 4,
 "nbformat_minor": 4
}
