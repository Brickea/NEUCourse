{
 "cells": [
  {
   "cell_type": "markdown",
   "metadata": {
    "button": false,
    "new_sheet": false,
    "run_control": {
     "read_only": false
    }
   },
   "source": [
    "<div style=\"text-align: right\">INFO 6105 Data Sci Engineering Methods and Tools, Week 3 Lecture 1</div>\n",
    "<div style=\"text-align: right\">Dino Konstantopoulos, 16 September 2019, with material from Peter Norvig and Cam Davidson-Pilon</div>\n",
    "\n",
    "# Always do for all classes:\n",
    "Please unzip all images from each week's `images.zip` on blackboard onto your `C:/Users/<username>/ipynb.images` folder (*create it if it doesn't exist!*). If there's ever a `data.zip` file on blackboard, unzip its contents onto your `C:/Users/<username>/data` folder (*create it if it doesn't exist!*).\n",
    "\n",
    "# Expectation\n",
    "At the end of this week, you should a good understanding of ***probabilities***, ***python list comprehensions***, ***python lambda arithmetic***, and how to ***compute probabilities***.\n",
    "![Bayes](http://img1.ph.126.net/xKZAzeOv_mI8a4Lwq7PHmw==/2547911489202312541.jpg)\n",
    "<center><a href=\"https://en.wikipedia.org/wiki/Thomas_Bayes\">Rev. Thomas Bayes</a><br>1701-1761\n",
    "</center>\n",
    "\n",
    "# 1. Probability\n",
    "\n",
    "In 1814, Pierre-Simon, marquis de Laplace (23 March 1749 – 5 March 1827), a French scholar whose work was important to the development of mathematics, statistics, physics and astronomy, [wrote](https://en.wikipedia.org/wiki/Classical_definition_of_probability):\n",
    "\n",
    ">*Probability ... is thus simply a fraction whose numerator is the number of favorable cases and whose denominator is the number of all the cases possible ... when nothing leads us to expect that any one of these cases should occur more than any other.*\n",
    "\n",
    "\n",
    "Here's some vocabulary:\n",
    "\n",
    "- **[Experiment](https://en.wikipedia.org/wiki/Experiment_(probability_theory%29):**\n",
    "  An occurrence with an uncertain outcome that we can observe.\n",
    "  <br>*For example, rolling a die.*\n",
    "- **[Outcome](https://en.wikipedia.org/wiki/Outcome_(probability%29):**\n",
    "  The result of an experiment; one particular state of the world. What Laplace calls a \"case.\"\n",
    "  <br>*For example:* `4`.\n",
    "- **[Sample Space](https://en.wikipedia.org/wiki/Sample_space):**\n",
    "  The set of all possible outcomes for the experiment. \n",
    "  <br>*For example,* `{1, 2, 3, 4, 5, 6}`.\n",
    "- **[Event](https://en.wikipedia.org/wiki/Event_(probability_theory%29):**\n",
    "  A subset of possible outcomes that together have some property we are interested in.\n",
    "  <br>*For example, the event \"even die roll\" is the set of outcomes* `{2, 4, 6}`. \n",
    "  \n",
    "Here's a little game: What's the probability that you roll a one if you roll a die? How about at least a one of you roll two dice? Three dice? Four dice? How about snake-eyes for two dice?\n",
    "\n",
    "Now what's the probability of landing **heads**? How about **tails**? How about a sequence of 4 **heads**? Why is that different from the many dies use case above?\n",
    "\n",
    "Here's a little game: What's the probability that someone in this classroom shares your birthday? \n",
    "Each person can have your birthday with probability 1/365. There are n−1 people other than yourself, so the probability that someone shares your birthday is ...\n",
    "\n",
    "Now, what is the probability that *two* students in this classroom have the *same* birthday? Which one of the two you think is higher?\n"
   ]
  },
  {
   "cell_type": "markdown",
   "metadata": {},
   "source": [
    "<div style=\"display:none;\">\n",
    "\n",
    "- What is the probability that someone in this classroom shares your birthday? \n",
    "\n",
    "Each person can have your birthday with probability 1/365. There are n-1 people other than yourself, so the probability that someone shares your birthday is the **sum** of all probabilities, it's the sum because these are **parallel events**: It's the **union** of possibilities which have no intersection. The sum is (n-1)/ 365.\n",
    "\n",
    "- What is the probability that two students in this classroom have the same birthday? \n",
    "\n",
    "For 2 students to share a birthday, this problem is best approached the other way around, because probability that no two people have the same birthday is easier to ﬁnd.\n",
    "\n",
    "Let A be the event that two people have the same birthday. Then Ac is the event that no two people have the same birthday. Note that P(A) = 1−P(Ac).\n",
    "\n",
    "We start with person 1, he has a birthday.\n",
    "\n",
    "The second person can only have a birthday on the 364 days out of the year that hasn’t been ‘taken\n",
    "By assumption of random birthdays, and of uniform probability, the chance that this person has any of the 364 birthdays is 364/365.\n",
    "\n",
    "A third person can only have a birthday out of the 353 days not ‘taken,’ and the corresponding probability of such an event is 363/365.\n",
    "\n",
    "This continues until we’ve covered all n people.\n",
    "\n",
    "Since this is a **sequence of events**, or an **intersection of events**. So probabilities **multiply**.\n",
    "\n",
    "</div>"
   ]
  },
  {
   "cell_type": "code",
   "execution_count": null,
   "metadata": {},
   "outputs": [],
   "source": [
    "from operator import mul\n",
    "from functools import reduce\n",
    "\n",
    "# assume 10 people in class\n",
    "def probSomeoneShares():\n",
    "    return 9/365\n",
    "\n",
    "def prob2StudentsShare():\n",
    "    \"\"\"return 1 minus the negation (students NOT sharing a common birthday)\"\"\"\n",
    "    \"\"\"return 1 - (364 * 363 * 362 * 361 * 360 * 359 * 358 * 357 * 356)/ (365 ** 10)\"\"\"\n",
    "    l = [n for n in range(365, 355, -1)]\n",
    "    return 1 - (reduce(mul, l, 1) / (365 ** 10))\n",
    "\n",
    "print(\"Shares: \" + str(probSomeoneShares()))\n",
    "print(\"2 share: \" + str(prob2StudentsShare()))"
   ]
  },
  {
   "cell_type": "markdown",
   "metadata": {},
   "source": [
    "Out of curiosity, what happens if there are 23 students in class?\n",
    "\n",
    "<br />\n",
    "<center>\n",
    "    <img src=\"ipynb.images/whaaaaat.png\" width=300 />\n",
    "</center>\n",
    "\n",
    "For more about the math behind probabilities, read the **probability1-birthdays** notebook. But don't be scared if you don't understand the math and don't fight it..\n",
    "\n",
    "<br />\n",
    "<center>\n",
    "    <img src=\"ipynb.images/minions-fight.jpg\" width=300 />\n",
    "</center>\n",
    "\n",
    "..because in this class we'll write python programs to do the math for us :-)\n",
    "\n",
    "<br />\n",
    "<center>\n",
    "    <img src=\"ipynb.images/minions-happy.jpg\" width=300 />\n",
    "</center>\n"
   ]
  },
  {
   "cell_type": "markdown",
   "metadata": {
    "button": false,
    "new_sheet": false,
    "run_control": {
     "read_only": false
    }
   },
   "source": [
    "# 2. Dice (singular: Die) \n",
    "\n",
    "<br />\n",
    "<center>\n",
    "    <img src=\"ipynb.images/dice.jpg\" width=300 />\n",
    "</center>\n",
    "\n",
    "`p` is the traditional name for the Probability function:\n",
    "```python\n",
    "from fractions import Fraction\n",
    "def p(event, space): \n",
    "    \"The probability of an event, given a sample space of equiprobable outcomes.\"\n",
    "    return Fraction(len(event & space), \n",
    "                    len(space))\n",
    "```\n",
    "\n",
    "To note:\n",
    "* We use ```Fraction``` rather than regular division because I want exact answers like 1/3, not 0.3333333333333333.\n",
    "* `&` is the python set *intersection* operation, while `|` is the python *union* operation.\n",
    "\n",
    "**Exercise**: What's the probability of rolling an even number with a single six-sided fair die? Use python tuples (unordered collection with no duplicate elements), since we don't expect them to change.\n",
    "\n",
    "Define the sample space D:\n",
    "```D    = {...}```\n",
    "\n",
    "and the event even:\n",
    "```even = {...}```\n",
    "\n",
    "and compute the probability:\n",
    "```p(even, D)```\n",
    "\n",
    "Copy and paste the code above in the cell below, and replace ```...``` with the right values!"
   ]
  },
  {
   "cell_type": "code",
   "execution_count": null,
   "metadata": {
    "button": false,
    "new_sheet": false,
    "run_control": {
     "read_only": false
    }
   },
   "outputs": [],
   "source": [
    "from fractions import Fraction\n",
    "def p(event, space): \n",
    "    \"The probability of an event, given a sample space of equiprobable outcomes.\"\n",
    "    return Fraction(len(event & space), \n",
    "                    len(space))\n",
    "\n",
    "D    = {1,2,3,4,5,6}\n",
    "even = {2,4,6}\n",
    "p(even, D)"
   ]
  },
  {
   "cell_type": "code",
   "execution_count": null,
   "metadata": {},
   "outputs": [],
   "source": [
    "even = {2, 4, 6, 8, 10, 12, 14, 16, 18, 20}\n",
    "p(even, D)"
   ]
  },
  {
   "cell_type": "markdown",
   "metadata": {
    "button": false,
    "new_sheet": false,
    "run_control": {
     "read_only": false
    }
   },
   "source": [
    "What happens if you specify ```even = {2, 4, 6, 8, 10, 12, 14, 16, 18, 20}```?\n",
    "\n",
    "To note:\n",
    "* The definition of ```p``` uses ```len(event & space)``` rather than ```len(event)``` because I don't want to count outcomes that were specified in event but aren't actually in the sample space."
   ]
  },
  {
   "cell_type": "code",
   "execution_count": null,
   "metadata": {},
   "outputs": [],
   "source": []
  },
  {
   "cell_type": "markdown",
   "metadata": {
    "button": false,
    "new_sheet": false,
    "run_control": {
     "read_only": false
    }
   },
   "source": []
  },
  {
   "cell_type": "markdown",
   "metadata": {
    "button": false,
    "new_sheet": false,
    "run_control": {
     "read_only": false
    }
   },
   "source": [
    "# 3. Urns, permutations, and combinations\n",
    "\n",
    "<br />\n",
    "<center>\n",
    "<img src=\"https://upload.wikimedia.org/wikipedia/commons/thumb/3/3c/Urn_problem_qtl6.svg/200px-Urn_problem_qtl6.svg.png\"/>\n",
    "</center>\n",
    "\n",
    "\n",
    "Around 1700, [Jacob Bernoulli](https://en.wikipedia.org/wiki/Jacob_Bernoulli) wrote about removing colored balls from an urn in his landmark treatise *[Ars Conjectandi](https://en.wikipedia.org/wiki/Ars_Conjectandi)*\n",
    "\n",
    "Here is a three-part problem [adapted](http://mathforum.org/library/drmath/view/69151.html) from **mathforum.org**:\n",
    "\n",
    "> An urn contains 23 balls: 8 white, 6 blue, and 9 red.  We select six balls at random (each possible selection is equally likely). What is the probability of each of these possible outcomes:\n",
    "\n",
    "> 1. All balls are red\n",
    "2. 3 are blue, 2 are white, and 1 is red\n",
    "3. Exactly 4 balls are white\n",
    "\n",
    "So, outcome = set of 6 balls, sample space = set of all possible 6 ball combinations. \n",
    "\n",
    "We'll mark our balls `'W1'` through `'W8'`, `'B1'` through `'B6'`, and `'R1'` through `'R9'`.\n",
    "\n",
    "To note:\n",
    "- An outcome is a *set* of balls, where order doesn't matter, not a *sequence*, where order matters. When order **matters**, the set of outcomes is called all **permutations**. When order **does not matter**, the set of outcomes is called all **combinations**.\n",
    "\n",
    "The number of *combinations* of balls is the number of *permutations* divided by `c!`, where *c* is the number of balls. So there are less combinations and more permutations possible. If I want to choose 2 white balls from the 8 available, there are 8 ways to choose a first white ball and 7 ways to choose a second (because the first one has been picked and not available in the sample space anymore), and therefore 8 &times; 7 = 56 permutations of two white balls. But there are only 56 / 2 = 28 combinations, because `(W1, W2)` is the same combination as `(W2, W1)`.\n",
    "\n",
    "Hehe... hate math? That's ok, because we'll write a **program** to do the coutning for us!\n",
    "\n",
    "We'll start by defining the contents of the urn, and we'll use a python `set` (unordered collection with no duplicate elements), since we don't expect them to change. Since we're passing in strings, the `+` operator will concatenate strings together.\n",
    "\n",
    "```python\n",
    "def cross(A, B):\n",
    "    \"\"\"The set of ways of concatenating one item from collection A with one from B.\"\"\"\n",
    "    return {a + b \n",
    "            for a ... for b ...}  # fill in the ...\n",
    "\n",
    "urn = cross('W', '12345678') | cross('B', ...) | cross('R', ...)\n",
    "urn\n",
    "len(urn)\n",
    "```"
   ]
  },
  {
   "cell_type": "code",
   "execution_count": null,
   "metadata": {
    "button": false,
    "new_sheet": false,
    "run_control": {
     "read_only": false
    }
   },
   "outputs": [],
   "source": [
    "def cross(A, B):\n",
    "    \"\"\"The set of ways of concatenating one item from collection A with \n",
    "    one from B.\"\"\"\n",
    "    return {a + b \n",
    "            for a in A for b in B}  \n",
    "\n",
    "urn = cross('W', '12345678') | cross('B', '123456') | cross('R', '123456789') #fill in the ...\n",
    "urn\n"
   ]
  },
  {
   "cell_type": "markdown",
   "metadata": {
    "button": false,
    "new_sheet": false,
    "run_control": {
     "read_only": false
    }
   },
   "source": [
    "Now let's define the sample space, `U6`, as the set of all 6-ball ***combinations*** (physicists define all forces in nature in terms of similar sample spaces where the number of samples is the number of symmetries in the behavior of the objects that the forces act upon. Read [here](https://arxiv.org/pdf/hep-th/9712154.pdf) for a good introduction to symmetry groups in physics).\n",
    "\n",
    "This is all possible *n* combinations of *items*:\n",
    "```(python)\n",
    "itertools.combinations(items, n)\n",
    "```\n",
    "\n",
    "We will use the python `itertools.combinations` package to generate the combinations, and then join each combination into a string:\n",
    "\n",
    "```python\n",
    "import itertools\n",
    "\n",
    "def combinations(items, n):\n",
    "    \"All combinations of n items; each combination as a concatenated str.\"\n",
    "    return {' '.join(combo) \n",
    "            for combo in itertools.combinations(items, n)}\n",
    "\n",
    "U6 = combinations(urn, 6)\n",
    "len(U6)\n",
    "```"
   ]
  },
  {
   "cell_type": "code",
   "execution_count": null,
   "metadata": {
    "button": false,
    "new_sheet": false,
    "run_control": {
     "read_only": false
    }
   },
   "outputs": [],
   "source": [
    "import itertools\n",
    "\n",
    "def combinations(items, n):\n",
    "    \"All combinations of n items; each combination as a concatenated str.\"\n",
    "    return {' '.join(combo) \n",
    "            for combo in itertools.combinations(items, n)}\n",
    "\n",
    "U6 = combinations(urn, 6)\n",
    "len(U6)"
   ]
  },
  {
   "cell_type": "markdown",
   "metadata": {
    "button": false,
    "new_sheet": false,
    "run_control": {
     "read_only": false
    }
   },
   "source": [
    "You should find that there are 100,947 members in our sample space. To take a peek at a random sample of 10 of them (you should always take a peek at big datasets in Data Science. *Always*):\n",
    "\n",
    "```python\n",
    "import random\n",
    "random.sample(U6, 10)\n",
    "```"
   ]
  },
  {
   "cell_type": "code",
   "execution_count": null,
   "metadata": {
    "button": false,
    "new_sheet": false,
    "run_control": {
     "read_only": false
    }
   },
   "outputs": [],
   "source": [
    "import random\n",
    "random.sample(U6, 10)"
   ]
  },
  {
   "cell_type": "markdown",
   "metadata": {
    "button": false,
    "new_sheet": false,
    "run_control": {
     "read_only": false
    }
   },
   "source": [
    "Now, let's verify with math.\n",
    "\n",
    "We can pick any of 23 balls for the first item, any of 22 for the second, ..., and any of 18 for the sixth. But since we don't care about the ordering of the six items, we divide the product by 6! (the number of possible combinations of 6 things) and thus:\n",
    "\n",
    "$$23 ~\\mbox{choose}~ 6 = \\frac{23 \\cdot 22 \\cdot 21 \\cdot 20 \\cdot 19 \\cdot 18}{6!} = 100947$$\n",
    "\n",
    "But since $23 \\cdot 22 \\cdot 21 \\cdot 20 \\cdot 19 \\cdot 18 = 23! \\;/\\; 17!$, we can write:\n",
    "\n",
    "$$n ~\\mbox{choose}~ c = \\frac{n!}{(n - c)! \\cdot c!}$$\n",
    "\n",
    "To translate that to code, use the following, and note that\n",
    "* Python has two division operators, a single slash `/` character for classic division and a double-slash `//` for *floor* division (rounds down to nearest whole number). Classic division means that if the operands are both integers, it will perform floor division, while for floating point numbers, it represents true division.\n",
    "\n",
    "```python\n",
    "from math import factorial\n",
    "\n",
    "def choose(n, c):\n",
    "    \"\"\"Number of ways to choose c items from a list of n items.\"\"\"\n",
    "    return factorial(n) // (factorial(n - c) * factorial(c))\n",
    "choose(23, 6)\n",
    "```\n"
   ]
  },
  {
   "cell_type": "code",
   "execution_count": null,
   "metadata": {
    "button": false,
    "new_sheet": false,
    "run_control": {
     "read_only": false
    }
   },
   "outputs": [],
   "source": [
    "from math import factorial\n",
    "\n",
    "def choose(n, c):\n",
    "    \"\"\"Number of ways to choose c items from a list of n items.\"\"\"\n",
    "    return factorial(n) // (factorial(n - c) * factorial(c))\n",
    "choose(23, 6)"
   ]
  },
  {
   "cell_type": "markdown",
   "metadata": {
    "button": false,
    "new_sheet": false,
    "run_control": {
     "read_only": false
    }
   },
   "source": [
    "To note:\n",
    "* `count()` is the python function that returns the *cardinal* (a.k.a *length*) of a sequence (a.k.a. list/set/tuple/dict), filtered by an argument. True statement: ```'foobar'.count('o') == 2```. \n",
    "\n",
    "Now we're ready to answer the 4 problems: \n",
    "\n",
    "### Urn Problem 1: what's the probability of selecting 6 red balls? \n",
    "\n",
    "```python\n",
    "red6 = {b for b in U6 if b.count(...) == ...}  # fill in the ...\n",
    "print(red6)\n",
    "p(red6, U6)\n",
    "```\n",
    "\n",
    "Go ahead, cut and paste below and replace `...` with the right answer. Then verify your answer by running the code below and ensuring that it's the probability for picking 6 our of 9 balls in an unordered fashion out of sample space U6:\n",
    "```python\n",
    "p(red6, U6) == Fraction(choose(9, 6), \n",
    "                        len(U6))\n",
    "```"
   ]
  },
  {
   "cell_type": "code",
   "execution_count": null,
   "metadata": {
    "button": false,
    "new_sheet": false,
    "run_control": {
     "read_only": false
    }
   },
   "outputs": [],
   "source": [
    "red6 = {b for b in U6 if b.count('R') == 6}  # fill in the ...\n",
    "#print(red6)\n",
    "p(red6, U6)"
   ]
  },
  {
   "cell_type": "markdown",
   "metadata": {
    "button": false,
    "new_sheet": false,
    "run_control": {
     "read_only": false
    }
   },
   "source": [
    "### Urn Problem 2: what is the probability of selecting 3 blue, 2 white, and 1 red?\n",
    "\n",
    "```python\n",
    "b3w2r1 = {s for s in U6 if ...}\n",
    "p(b3w2r1, U6)\n",
    "```\n",
    "\n",
    "and verify that it's equal to the probability of picking 3 blue out of 6 and 2 white out of 8 and 1 red out of 9:\n",
    "```python\n",
    "p(b3w2r1, U6) == Fraction(choose(6, 3) * choose(8, 2) * choose(9, 1), \n",
    "                          len(U6))\n",
    "```\n",
    "\n",
    "You can also reason that there are 6 ways to pick the first blue, 5 ways to pick the second blue, and 4 ways to pick the third. Then 8 ways to pick the first white and 7 to pick the second. Then 9 ways to pick a red. But the order 'B1, B2, B3' should count as the same as 'B2, B3, B1' and all the other orderings; so divide by 3! to account for the permutations of blues, by 2! to account for the permutations of whites, and finally by 100947 to get a probability."
   ]
  },
  {
   "cell_type": "code",
   "execution_count": null,
   "metadata": {
    "button": false,
    "new_sheet": false,
    "run_control": {
     "read_only": false
    }
   },
   "outputs": [],
   "source": [
    "b3w2r1 = {s for s in U6 if s.count('B') == 3 and s.count('W') == 2 and s.count('R') == 1}\n",
    "p(b3w2r1, U6)"
   ]
  },
  {
   "cell_type": "code",
   "execution_count": null,
   "metadata": {},
   "outputs": [],
   "source": [
    "Fraction(choose(6, 3) * choose(8, 2) * choose(9, 1), \n",
    "                          len(U6))"
   ]
  },
  {
   "cell_type": "markdown",
   "metadata": {
    "button": false,
    "new_sheet": false,
    "run_control": {
     "read_only": false
    }
   },
   "source": [
    "### Urn Problem 3: What is the probability of exactly 4 white balls?\n",
    "\n",
    "In other words, choosing 4 out of the 8 white balls and 2 out of the 15 non-white balls.\n",
    "```python\n",
    "w4 = {s for s in U6 if\n",
    "      s.count('W') == 4}\n",
    "\n",
    "P(w4, U6)\n",
    "\n",
    "P(w4, U6) == Fraction(choose(8, 4) * choose(15, 2),\n",
    "                      len(U6))\n",
    "\n",
    "P(w4, U6) == Fraction((8 * 7 * 6 * 5) * (15 * 14),\n",
    "                      factorial(4) * factorial(2) * len(U6))\n",
    "```"
   ]
  },
  {
   "cell_type": "code",
   "execution_count": null,
   "metadata": {
    "button": false,
    "new_sheet": false,
    "run_control": {
     "read_only": false
    }
   },
   "outputs": [],
   "source": [
    "w4 = {s for s in U6 if\n",
    "      s.count('W') == 4}\n",
    "len(w4)\n",
    "p(w4, U6)"
   ]
  },
  {
   "cell_type": "markdown",
   "metadata": {
    "button": false,
    "new_sheet": false,
    "run_control": {
     "read_only": false
    }
   },
   "source": [
    "# 4. Working with transformations instead of collections\n",
    "\n",
    "<br />\n",
    "<center>\n",
    "<img src=\"http://agilitrix.com/wp-content/uploads/2013/02/1-Transformation.jpg\"  width=\"500\" />\n",
    "</center>\n",
    "\n",
    "Sometimes we don't have a straightforward way to easily enumerate all possible samples in a sample space, but we have an easy way of defining a **transformation** that will yield a desired sample. In other words, we want to work with **lambdas** instead of **objects**. \n",
    "\n",
    "Here's a ***generator*** for natural numbers, a compact, transformation-based way of defining natural numbers so that we don't have to write a lot of data:"
   ]
  },
  {
   "cell_type": "code",
   "execution_count": null,
   "metadata": {},
   "outputs": [],
   "source": [
    "def numbers():\n",
    "    i = 0\n",
    "    while True:\n",
    "        yield i\n",
    "        i += 1"
   ]
  },
  {
   "cell_type": "markdown",
   "metadata": {},
   "source": [
    "And here's how to consume the generator (a bit ugly, granted, can you improve on this, i.e. no `break` statement?):"
   ]
  },
  {
   "cell_type": "code",
   "execution_count": null,
   "metadata": {},
   "outputs": [],
   "source": [
    "import queue as Q\n",
    "q = Q.Queue()\n",
    "for index, item in enumerate(numbers()):\n",
    "    q.put(item)\n",
    "    if index == 100:\n",
    "        break\n",
    "print(list(q.queue))"
   ]
  },
  {
   "cell_type": "markdown",
   "metadata": {},
   "source": [
    "In the case of the die roll, I can define an `even` lambda: "
   ]
  },
  {
   "cell_type": "code",
   "execution_count": null,
   "metadata": {
    "button": false,
    "new_sheet": false,
    "run_control": {
     "read_only": false
    }
   },
   "outputs": [],
   "source": [
    "def even(n): return n % 2 == 0"
   ]
  },
  {
   "cell_type": "markdown",
   "metadata": {
    "button": false,
    "new_sheet": false,
    "run_control": {
     "read_only": false
    }
   },
   "source": [
    "So how do we change our probability function `p` so that instead of having the first element be the set of all favorable outcomes, we have the first element be a ***transformation*** that yields the set of favorable events? The second element remains the set of *all possible events***.\n",
    "\n",
    "In order to make `p(even, D)` work, I'll have to modify `p` to accept an event as either\n",
    "a *set* of outcomes (as before), or a *predicate* over outcomes&mdash;a function that returns true for an outcome that is in the event.\n",
    "\n",
    "Please write down the new function `p(event, space)` using an `if` clause, and the following helper function `such_that` which applies a transformation (using a ***predicate*** argument, and a ***collection*** argument) to all possible outcomes to yield just the desired ones. \n",
    "\n",
    "A predicate is just a function that returns **true** or **false**.\n",
    "\n",
    "```(python)\n",
    "def such_that(predicate, collection): \n",
    "    \"\"\"The subset of elements in the collection for which the predicate is true.\"\"\"\n",
    "    return {e for e in collection if predicate(e)}\n",
    "```\n",
    "\n",
    "Here's another hint: In python, to determine if something is a function, run the `callable` function on it, like so:\n",
    "```(python)\n",
    "callable(whatsthis)\n",
    "```"
   ]
  },
  {
   "cell_type": "code",
   "execution_count": null,
   "metadata": {
    "button": false,
    "new_sheet": false,
    "run_control": {
     "read_only": false
    }
   },
   "outputs": [],
   "source": [
    "def p(event, space): \n",
    "    \"\"\"The probability of an event, given a sample space of equiprobable outcomes.\n",
    "    event can be either a set of outcomes, or a predicate (true for outcomes in the event).\"\"\"\n",
    "    if is_predicate(event):\n",
    "        event = such_that(event, space)\n",
    "    return Fraction(len(event & space), len(space))\n",
    "\n",
    "is_predicate = callable\n",
    "\n",
    "def such_that(predicate, collection): \n",
    "    \"\"\"The subset of elements in the collection for which the predicate is true.\"\"\"\n",
    "    return {e for e in collection if predicate(e)}"
   ]
  },
  {
   "cell_type": "markdown",
   "metadata": {
    "button": false,
    "new_sheet": false,
    "run_control": {
     "read_only": false
    }
   },
   "source": [
    "Here below we see how `such_that`, the new `even` predicate, and the new `p` work:"
   ]
  },
  {
   "cell_type": "code",
   "execution_count": null,
   "metadata": {
    "button": false,
    "new_sheet": false,
    "run_control": {
     "read_only": false
    }
   },
   "outputs": [],
   "source": [
    "such_that(even, D)"
   ]
  },
  {
   "cell_type": "code",
   "execution_count": null,
   "metadata": {
    "button": false,
    "new_sheet": false,
    "run_control": {
     "read_only": false
    }
   },
   "outputs": [],
   "source": [
    "p(even, D)"
   ]
  },
  {
   "cell_type": "code",
   "execution_count": null,
   "metadata": {
    "button": false,
    "new_sheet": false,
    "run_control": {
     "read_only": false
    }
   },
   "outputs": [],
   "source": [
    "D12 = {1, 2, 3, 4, 5, 6, 7, 8, 9, 10, 11, 12}\n",
    "\n",
    "such_that(even, D12)"
   ]
  },
  {
   "cell_type": "code",
   "execution_count": null,
   "metadata": {
    "button": false,
    "new_sheet": false,
    "run_control": {
     "read_only": false
    }
   },
   "outputs": [],
   "source": [
    "p(even, D12)"
   ]
  },
  {
   "cell_type": "markdown",
   "metadata": {
    "button": false,
    "new_sheet": false,
    "run_control": {
     "read_only": false
    }
   },
   "source": [
    "Note: `such_that` is just like the built-in python function `filter` (recall that we talked about the most important built-in functions in python for Data Science: `map`, `reduce`, and `filter`), except that `such_that` returns a *set*.\n",
    "\n",
    "We can now define more interesting events using predicates; for example we can determine the probability that the sum of a three-dice roll is *prime*:\n",
    "\n",
    "```python\n",
    "D = {1,2,3,4,5,6}\n",
    "\n",
    "D3 = {(d1, d2, d3) for d1 in D for d2 in D for d3 in D}\n",
    "\n",
    "def prime_sum(outcome): return is_prime(sum(outcome))\n",
    "\n",
    "def is_prime(n): return ...  # implement is_prime()!\n",
    "\n",
    "p(prime_sum, D3)\n",
    "```\n",
    "\n",
    "Go ahead, please implement `is_prime()`, a predicate function"
   ]
  },
  {
   "cell_type": "code",
   "execution_count": null,
   "metadata": {
    "button": false,
    "new_sheet": false,
    "run_control": {
     "read_only": false
    }
   },
   "outputs": [],
   "source": []
  },
  {
   "cell_type": "markdown",
   "metadata": {},
   "source": [
    "# Conclusion of Week 3, Lecture 1\n",
    "We talked about **frequentist** and **Bayesian** statistics, defined each, and took a first peek at **Bayes' Theorem**, a pillar of Data Science. **Probabilities** is all about *counting*: What's the number of alternate (quantum) universes that can exist? Computers are essentially counting machines. So we built a counting framework to let computers do the counting for us :-)\n",
    "\n",
    "We'll continue on probabilities next lecture. In the meantime, make sure you understand everything we did in this notebook, because our data science will get more complicated.\n",
    "\n",
    "<br />\n",
    "<center>\n",
    "    <img src=\"ipynb.images/complicated.jpg\" width=400 />**Complicated**</a><br>unknown artist\n",
    "</center>"
   ]
  }
 ],
 "metadata": {
  "kernelspec": {
   "display_name": "Python 3",
   "language": "python",
   "name": "python3"
  },
  "language_info": {
   "codemirror_mode": {
    "name": "ipython",
    "version": 3
   },
   "file_extension": ".py",
   "mimetype": "text/x-python",
   "name": "python",
   "nbconvert_exporter": "python",
   "pygments_lexer": "ipython3",
   "version": "3.7.3"
  }
 },
 "nbformat": 4,
 "nbformat_minor": 1
}
