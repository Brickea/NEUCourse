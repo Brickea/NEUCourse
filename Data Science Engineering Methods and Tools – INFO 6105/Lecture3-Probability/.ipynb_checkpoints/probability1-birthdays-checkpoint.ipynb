{
 "cells": [
  {
   "cell_type": "markdown",
   "metadata": {
    "button": false,
    "new_sheet": false,
    "run_control": {
     "read_only": false
    }
   },
   "source": [
    "<div style=\"text-align: right\">INFO 6105 Data Sci Engineering Methods and Tools, Week 3 Lecture 1</div>\n",
    "<div style=\"text-align: right\">Dino Konstantopoulos, 16 September 2019</div>\n",
    "\n",
    "\n",
    "# 1. The Birthday paradox\n",
    "  \n",
    "Our game was: What's the probability that someone in this classroom shares your birthday? \n",
    "\n",
    "Each person can have your birthday with probability 1/365. There are n−1 people other than yourself, so the probability that someone shares your birthday is ...\n",
    "\n",
    "Now, what is the probability that *two* students in this classroom have the *same* birthday? Which one of the two you think is higher?"
   ]
  },
  {
   "cell_type": "markdown",
   "metadata": {},
   "source": [
    "### Probability that someone in this classroom shares your birthday? \n",
    "\n",
    "Each person can have your birthday with probability 1/365. There are n-1 people other than yourself, so the probability that someone shares your birthday is (n-1)/ 365. \n",
    "\n",
    "Why do we add probabilities? Because it's the **union** of two possibilities, which have no intersection.\n",
    "\n",
    "Hmm, what happens where there are 365 people in class?\n",
    "\n",
    "### Probability that two students in this classroom have the same birthday? \n",
    "\n",
    "For 2 students to share a birthday, this problem is best approached the other way around, because probability that no two people have the same birthday is easier to ﬁnd.\n",
    "\n",
    "Let A be the event that two people have the same birthday. Then Ac is the event that no two people have the same birthday. Note that P(A) = 1−P(Ac).\n",
    "\n",
    "We start with person 1; this person can have any 1 of 365 days out of the year.\n",
    "\n",
    "A second person can only have a birthday on the 364 days out of the year that hasn’t been ‘taken\n",
    "By assumption of random birthdays, and of uniform probability, the chance that this person has any of the 364 birthdays is 364/365.\n",
    "\n",
    "A third person can only have a birthday out of the 353 days not ‘taken,’ and the corresponding probability of such an event is 363/365.\n",
    "\n",
    "This continues until we’ve covered all n people.\n",
    "\n",
    "Since this is an **intersection** of events, probabilities multiply.\n"
   ]
  },
  {
   "cell_type": "code",
   "execution_count": 1,
   "metadata": {},
   "outputs": [
    {
     "name": "stdout",
     "output_type": "stream",
     "text": [
      "Shares: 0.06027397260273973\n",
      "2 share: 0.5072972343239854\n"
     ]
    }
   ],
   "source": [
    "from operator import mul\n",
    "from functools import reduce\n",
    "\n",
    "# assume 23 people in class\n",
    "def probSomeoneShares():\n",
    "    return 22/365\n",
    "def prob2StudentsShare():\n",
    "    \"\"\"return 1 minus the negation (students NOT sharing a common birthday)\"\"\"\n",
    "    \"\"\"return 1 - (365 * 364 * 363 * 362 * 361 * 360 * 359 * 358 * 357 * 356 *...)/ (365 ** 23)\"\"\"\n",
    "    l = [n for n in range(365, 365-23, -1)]\n",
    "    return 1 - (reduce(mul, l, 1) / (365 ** 23))\n",
    "\n",
    "print(\"Shares: \" + str(probSomeoneShares()))\n",
    "print(\"2 share: \" + str(prob2StudentsShare()))"
   ]
  },
  {
   "cell_type": "markdown",
   "metadata": {},
   "source": [
    "Wow, 50%??\n",
    "\n",
    "### Another approach\n",
    "\n",
    "We should compare ***everyone*** to ***everyone else***! \n",
    "\n",
    "The chance of 2 people having *different* birthdays is:\n",
    "\n",
    "$$ 1 - \\frac{1}{365} = \\frac{364}{365} = .997$$\n",
    "\n",
    "oh... so the chance of your friend having a different birthday than *you* is:\n",
    "\n",
    "$$ 1 - \\frac{1}{365} = \\frac{364}{365} = .997$$\n",
    "\n",
    "what is the chance of 2 people having different birthdays than you? The product of each:\n",
    "\n",
    "$$ (1 - \\frac{1}{365})^2$$\n",
    "\n",
    "And so the chance of $n$ people having different birthdays than you must be:\n",
    "\n",
    "$$ (1 - \\frac{1}{365})^n$$\n",
    "\n",
    "And so the chance of people having different birthdays than you in a classroom of $n$ people must be:\n",
    "\n",
    "$$ (1 - \\frac{1}{365})^{n-1}$$\n",
    "\n",
    "And so the chance of people in a classroom of $n$ people having the the *same* birthday than you must be:\n",
    "\n",
    "$$ 1 - (1 - \\frac{1}{365})^{n-1}$$\n",
    "\n",
    "And we see than when $n=365$, the real probability *probSomeoneShares* is actually:\n"
   ]
  },
  {
   "cell_type": "code",
   "execution_count": 2,
   "metadata": {},
   "outputs": [
    {
     "data": {
      "text/plain": [
       "0.6326250793368262"
      ]
     },
     "execution_count": 2,
     "metadata": {},
     "output_type": "execute_result"
    }
   ],
   "source": [
    "1 - (1 - 1/365) ** 365"
   ]
  },
  {
   "cell_type": "markdown",
   "metadata": {},
   "source": [
    "Now, with 23 people we have 253 pairs: \n",
    "\n",
    "$$\\frac{23 * 22}{2} = 253$$ \n",
    "\n",
    "Once again, the chance of 2 people having *different* birthdays is:\n",
    "\n",
    "$$ 1 - \\frac{1}{365} = \\frac{364}{365} = .997$$\n",
    "\n",
    "Making 253 comparisons and having them all be different is like getting one of heads or tails 253 times in a row:\n",
    "\n",
    "$$(\\frac{364}{365})^{253} = .499$$\n",
    "\n",
    "So the chance we find a match is: 1 – 49.95% = 50.05%, or just over half.\n",
    "\n",
    "The probability of a match for any number of people $n$ the formula is:\n",
    "\n",
    "$$1 - (\\frac{364}{365})^{n(n-1)/2}$$\n",
    "\n",
    "In fact, $\\sqrt{n}$ is roughly the number you need to have a 50% chance of a match with $n$ items.\n",
    "\n",
    "### Note \n",
    "\n",
    "For n = 30, the odds of a common birthday increase to 70.6%, and most people still find it hard to believe that among 30 people there are probably two who have the same birthday! The table below lists various values of n and the probabilities, 1 − Pn, that at least two people have a common birthday.\n",
    "\n",
    "|n |10| 20| 23| 30| 50| 60| 70| 100|\n",
    "|--|--|--|--|--|--|--|--|--|--|--|\n",
    "|1 − Pn| 11.7%| 41.1%| 50.7%| 70.6%| 97.0%| 99.4%| 99.92%| 99.9994%|"
   ]
  },
  {
   "cell_type": "markdown",
   "metadata": {},
   "source": [
    "### Course Correction\n",
    "\n",
    "Remember how we assumed birthdays are independent in class? Well, ***they aren’t!***\n",
    "\n",
    "<br />\n",
    "<center>\n",
    "    <img src=\"images/slam-brakes.jpg\" width=400 />\n",
    "</center>\n",
    "\n",
    "If Person A and Person B match birthday-wise, and Person B and C match too, we know that A and C must match also. The outcome of matching A and C thus depends on their results with B, so the probabilities aren’t independent! If truly independent, A and C would have a 1/365 chance of matching even if they both match with B, yet we know it's a 100% guaranteed match!\n",
    "\n",
    "When counting pairs, we treated birthday matches like coin flips, multiplying the same probability over and over. This assumption isn’t strictly true even though it’s good enough for a small number of people (23) compared to the sample size (365). It’s unlikely to have multiple people match and screw up the independence, so it’s a good approximation.\n",
    "\n",
    "It’s unlikely, but it can happen. Let’s figure out the ***real*** chances of each person having a different birthday:\n",
    "\n",
    "* The first person has a 100% chance of a unique birthday (of course)\n",
    "* The second has a (1 – 1/365) chance (all but 1 number from the 365)\n",
    "* The third has a (1 – 2/365) chance (all but 2 birthdays)\n",
    "* ...\n",
    "* The 23rd has a (1 – 22/365) (all but 22 birthdays)\n",
    "\n",
    "And so:\n",
    "\n",
    "$$p(\\text{different}) = 1.(1 - \\frac{1}{365}).(1 - \\frac{2}{365})...(1 - \\frac{22}{365})$$\n",
    "\n",
    "### Why the Odds are Higher than you think\n",
    "\n",
    "One person has a 1/365 chance of meeting someone with the same birthday.\n",
    "\n",
    "Two people have a 1/183 chance of meeting someone with the same birthday. But those two people might *also* have the same birthday, so you have to add odds of 1/365 for that. \n",
    "\n",
    "The odds become 1/365 + 1/182.5 = 0.008, or .8 percent.\n",
    "\n",
    "Four people (lets call them ABCD) have a 1/91 chance, but there are 6 possible combinations (AB AC AD BD BC CD) so the probability becomes 1/91 + 6/365…and so on.\n",
    "\n",
    "### Want more?\n",
    "\n",
    "[Wikipedia](https://en.wikipedia.org/wiki/Birthday_problem)"
   ]
  }
 ],
 "metadata": {
  "kernelspec": {
   "display_name": "Python 3",
   "language": "python",
   "name": "python3"
  },
  "language_info": {
   "codemirror_mode": {
    "name": "ipython",
    "version": 3
   },
   "file_extension": ".py",
   "mimetype": "text/x-python",
   "name": "python",
   "nbconvert_exporter": "python",
   "pygments_lexer": "ipython3",
   "version": "3.7.3"
  }
 },
 "nbformat": 4,
 "nbformat_minor": 1
}
