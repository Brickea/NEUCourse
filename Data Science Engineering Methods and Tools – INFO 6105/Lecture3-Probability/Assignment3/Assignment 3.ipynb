{
 "cells": [
  {
   "cell_type": "markdown",
   "metadata": {},
   "source": [
    "<div style=\"text-align: right\">INFO 6105 Data Sci Engineering Methods and Tools, Assignment 3</div>\n",
    "<div style=\"text-align: right\">Zixiao Wang, 22 September 2019</div>"
   ]
  },
  {
   "cell_type": "markdown",
   "metadata": {},
   "source": [
    "# Homework: Introduction to Data Science for Sports\n",
    "\n",
    "<br />\n",
    "<center>\n",
    "    <img src=\"../images/f1races.png\" width=800 />\n",
    "</center>\n",
    "\n",
    "You need to provide *proof* for your answers. `I think it's one in a million because Mercedes sucks and I like Ferrari a lot more` is not a good answer. Leverage the counting framework in this workbook!"
   ]
  },
  {
   "cell_type": "markdown",
   "metadata": {},
   "source": [
    "Hint: Use SingaporeanGrandPrix, or `SGP` to denote the Probability Distribution given by F1 driver wins. Write driver initials as keys and driver wins as values in a dictionary that you pass to our function `ProbDist`..\n",
    "\n",
    "### Preparation"
   ]
  },
  {
   "cell_type": "code",
   "execution_count": 1,
   "metadata": {},
   "outputs": [],
   "source": [
    "class ProbDist(dict):\n",
    "    \"\"\"A Probability Distribution; an {outcome: probability} mapping.\"\"\"\n",
    "    def __init__(self, mapping=(), **kwargs):\n",
    "        self.update(mapping, **kwargs)\n",
    "        # Make probabilities sum to 1.0; assert no negative probabilities\n",
    "        total = sum(self.values())\n",
    "        for outcome in self:\n",
    "            self[outcome] = self[outcome] / total\n",
    "            assert self[outcome] >= 0"
   ]
  },
  {
   "cell_type": "code",
   "execution_count": 2,
   "metadata": {
    "scrolled": true
   },
   "outputs": [
    {
     "data": {
      "text/plain": [
       "{'HAM': 0.1935905820797907,\n",
       " 'BOT': 0.1510791366906475,\n",
       " 'LEC': 0.13080444735120994,\n",
       " 'VER': 0.13080444735120994,\n",
       " 'VET': 0.12688031393067364,\n",
       " 'GAS': 0.04512753433616743,\n",
       " 'SAI': 0.03793328973185088,\n",
       " 'ALB': 0.027468933943754086,\n",
       " 'RIC': 0.02223675604970569,\n",
       " 'KVY': 0.02158273381294964,\n",
       " 'HUL': 0.02158273381294964,\n",
       " 'NOR': 0.020274689339437543,\n",
       " 'RAI': 0.020274689339437543,\n",
       " 'PER': 0.01765860039241334,\n",
       " 'STR': 0.012426422498364944,\n",
       " 'MAG': 0.011772400261608895,\n",
       " 'GRO': 0.005232177894048398,\n",
       " 'GIO': 0.002616088947024199,\n",
       " 'KUB': 0.0006540222367560497,\n",
       " 'RUS': 0.0}"
      ]
     },
     "execution_count": 2,
     "metadata": {},
     "output_type": "execute_result"
    }
   ],
   "source": [
    "SGP = ProbDist(\n",
    "    HAM = 296,# MERCEDES\n",
    "    BOT = 231,# MERCEDES\n",
    "    LEC = 200,# FERRARI\n",
    "    VER = 200,# RED BULL\n",
    "    VET = 194,# FERRARI\n",
    "    GAS = 69,\n",
    "    SAI = 58,\n",
    "    ALB = 42,# RED BULL\n",
    "    RIC = 34,# RENAULT\n",
    "    KVY = 33,\n",
    "    HUL = 33,# RENAULT\n",
    "    NOR = 31,\n",
    "    RAI = 31,\n",
    "    PER = 27,\n",
    "    STR = 19,\n",
    "    MAG = 18,\n",
    "    GRO = 8,\n",
    "    GIO = 4,\n",
    "    KUB = 1,\n",
    "    RUS = 0)\n",
    "SGP"
   ]
  },
  {
   "cell_type": "code",
   "execution_count": 8,
   "metadata": {},
   "outputs": [
    {
     "data": {
      "text/plain": [
       "[0.03747731346999218,\n",
       " 0.02282490554319135,\n",
       " 0.017109803446855452,\n",
       " 0.017109803446855452,\n",
       " 0.016098614063146298,\n",
       " 0.0020364943552619703,\n",
       " 0.0014389344698805435,\n",
       " 0.0007545423320063254,\n",
       " 0.0004944733196141227,\n",
       " 0.00046581439884063976,\n",
       " 0.00046581439884063976,\n",
       " 0.00041106302781070234,\n",
       " 0.00041106302781070234,\n",
       " 0.0003118261678189406,\n",
       " 0.00015441597610787045,\n",
       " 0.00013858940791952918,\n",
       " 2.737568551496873e-05,\n",
       " 6.843921378742182e-06,\n",
       " 4.277450861713864e-07,\n",
       " 0.0]"
      ]
     },
     "execution_count": 8,
     "metadata": {},
     "output_type": "execute_result"
    }
   ],
   "source": [
    "[x**2 for x in list(SGP.values())]\n"
   ]
  },
  {
   "cell_type": "code",
   "execution_count": 11,
   "metadata": {},
   "outputs": [
    {
     "ename": "SyntaxError",
     "evalue": "invalid syntax (<ipython-input-11-401cd1bb0b8b>, line 1)",
     "output_type": "error",
     "traceback": [
      "\u001b[0;36m  File \u001b[0;32m\"<ipython-input-11-401cd1bb0b8b>\"\u001b[0;36m, line \u001b[0;32m1\u001b[0m\n\u001b[0;31m    {HAM = 296,# MERCEDES\u001b[0m\n\u001b[0m         ^\u001b[0m\n\u001b[0;31mSyntaxError\u001b[0m\u001b[0;31m:\u001b[0m invalid syntax\n"
     ]
    }
   ],
   "source": []
  },
  {
   "cell_type": "markdown",
   "metadata": {},
   "source": [
    "## Question 1.1 (20 points) \n",
    "\n",
    "There are a number of F1 races coming up: \n",
    "- Singapore GP: Date: Sun, Sep 22, 8:10 AM\n",
    "- Russian GP: Date: Sun, Sep 29, 7:10 AM\n",
    "- Japanese GP: Date: Sun, Oct 13, 1:10 AM\n",
    "- Mexican GP Date: Sun, Oct 13, 1:10 AM\n",
    "\n",
    "The Singaporean Grand Prix this weekend and the Russian Grand Prix the weekend after, as you can see [here](https://www.formula1.com/en/racing/2019.html). \n",
    "\n",
    "The 2019 driver standings are given [here](https://www.formula1.com/en/results.html/2019/drivers.html). Given these standings (please do not use team standings given onthe same Web site, use driver standings), what is the Probability Distribution for each F1 driver to win the Singaporean Grand Prix? What is the Probability Distribution for each F1 driver to win *both* the Singaporean and Russian Grand Prix? What is the probability for Mercedes to win both races? What is the probability for Mercedes to win at least one race? Note that Mercedes, and each other racing team, has two drivers per race."
   ]
  },
  {
   "cell_type": "markdown",
   "metadata": {},
   "source": [
    "### 1.1.1 Probability Distribution for each F1 driver to win the Singaporean Grand Prix"
   ]
  },
  {
   "cell_type": "code",
   "execution_count": 3,
   "metadata": {},
   "outputs": [
    {
     "data": {
      "text/plain": [
       "(['HAM',\n",
       "  'BOT',\n",
       "  'LEC',\n",
       "  'VER',\n",
       "  'VET',\n",
       "  'GAS',\n",
       "  'SAI',\n",
       "  'ALB',\n",
       "  'RIC',\n",
       "  'KVY',\n",
       "  'HUL',\n",
       "  'NOR',\n",
       "  'RAI',\n",
       "  'PER',\n",
       "  'STR',\n",
       "  'MAG',\n",
       "  'GRO',\n",
       "  'GIO',\n",
       "  'KUB',\n",
       "  'RUS'],\n",
       " [0.1935905820797907,\n",
       "  0.1510791366906475,\n",
       "  0.13080444735120994,\n",
       "  0.13080444735120994,\n",
       "  0.12688031393067364,\n",
       "  0.04512753433616743,\n",
       "  0.03793328973185088,\n",
       "  0.027468933943754086,\n",
       "  0.02223675604970569,\n",
       "  0.02158273381294964,\n",
       "  0.02158273381294964,\n",
       "  0.020274689339437543,\n",
       "  0.020274689339437543,\n",
       "  0.01765860039241334,\n",
       "  0.012426422498364944,\n",
       "  0.011772400261608895,\n",
       "  0.005232177894048398,\n",
       "  0.002616088947024199,\n",
       "  0.0006540222367560497,\n",
       "  0.0])"
      ]
     },
     "execution_count": 3,
     "metadata": {},
     "output_type": "execute_result"
    },
    {
     "data": {
      "image/png": "[encoded data removed]",
      "text/plain": [
       "<Figure size 864x270 with 1 Axes>"
      ]
     },
     "metadata": {
      "needs_background": "light"
     },
     "output_type": "display_data"
    }
   ],
   "source": [
    "from matplotlib import pyplot as plt\n",
    "%matplotlib inline\n",
    "\n",
    "fig, ax = plt.subplots(figsize=(12, 3.75))\n",
    "x = list(SGP.keys())\n",
    "y = list(SGP.values())\n",
    "plt.plot(x,y)\n",
    "(x,y)"
   ]
  },
  {
   "cell_type": "markdown",
   "metadata": {},
   "source": [
    "### 1.1.2 Probability Distribution for each F1 driver to win both the Singaporean and Russian Grand Prix? "
   ]
  },
  {
   "cell_type": "code",
   "execution_count": 4,
   "metadata": {},
   "outputs": [
    {
     "data": {
      "text/plain": [
       "(['HAM',\n",
       "  'BOT',\n",
       "  'LEC',\n",
       "  'VER',\n",
       "  'VET',\n",
       "  'GAS',\n",
       "  'SAI',\n",
       "  'ALB',\n",
       "  'RIC',\n",
       "  'KVY',\n",
       "  'HUL',\n",
       "  'NOR',\n",
       "  'RAI',\n",
       "  'PER',\n",
       "  'STR',\n",
       "  'MAG',\n",
       "  'GRO',\n",
       "  'GIO',\n",
       "  'KUB',\n",
       "  'RUS'],\n",
       " [0.03747731346999218,\n",
       "  0.02282490554319135,\n",
       "  0.017109803446855452,\n",
       "  0.017109803446855452,\n",
       "  0.016098614063146298,\n",
       "  0.0020364943552619703,\n",
       "  0.0014389344698805435,\n",
       "  0.0007545423320063254,\n",
       "  0.0004944733196141227,\n",
       "  0.00046581439884063976,\n",
       "  0.00046581439884063976,\n",
       "  0.00041106302781070234,\n",
       "  0.00041106302781070234,\n",
       "  0.0003118261678189406,\n",
       "  0.00015441597610787045,\n",
       "  0.00013858940791952918,\n",
       "  2.737568551496873e-05,\n",
       "  6.843921378742182e-06,\n",
       "  4.277450861713864e-07,\n",
       "  0.0])"
      ]
     },
     "execution_count": 4,
     "metadata": {},
     "output_type": "execute_result"
    },
    {
     "data": {
      "image/png": "[encoded data removed]",
      "text/plain": [
       "<Figure size 864x270 with 1 Axes>"
      ]
     },
     "metadata": {
      "needs_background": "light"
     },
     "output_type": "display_data"
    }
   ],
   "source": [
    "from matplotlib import pyplot as plt\n",
    "%matplotlib inline\n",
    "\n",
    "fig, ax = plt.subplots(figsize=(12, 3.75))\n",
    "x = list(SGP.keys())\n",
    "y = list([i**2 for i in SGP.values()])\n",
    "plt.plot(x,y)\n",
    "\n",
    "(x,y)"
   ]
  },
  {
   "cell_type": "markdown",
   "metadata": {},
   "source": [
    "### 1.1.3  The probability for Mercedes to win both races"
   ]
  },
  {
   "cell_type": "code",
   "execution_count": 5,
   "metadata": {},
   "outputs": [
    {
     "name": "stdout",
     "output_type": "stream",
     "text": [
      "The probility of Mercedes to win a match: 0.3446697188\n",
      "The probility of Mercedes to win both races: 0.1187972150\n"
     ]
    }
   ],
   "source": [
    "# There are two drivers of Mercedes\n",
    "# HAM and BOT\n",
    "\n",
    "# Let A = HAM wins the race\n",
    "# Let B = BOT wins the race\n",
    "\n",
    "# Let C = Mercedes wins a race\n",
    "\n",
    "# Because HAM and BOT can't win a same race\n",
    "# So C = the probability of (HAM won but BOT lost) and (HAM lost but BOT won)\n",
    "# P(C) = P(A) + P(B)\n",
    "\n",
    "# The probability for Mercedes to win a race\n",
    "Mercedes_win = SGP['HAM'] + SGP['BOT']\n",
    "print(\"The probility of Mercedes to win a match: {0:.10f}\".format(Mercedes_win))\n",
    "\n",
    "# The probability for Mercedes to win two races\n",
    "print(\"The probility of Mercedes to win both races: {0:.10f}\".format(Mercedes_win**2))"
   ]
  },
  {
   "cell_type": "markdown",
   "metadata": {},
   "source": [
    "### 1.1.4 The probability for Mercedes to win at least one race"
   ]
  },
  {
   "cell_type": "code",
   "execution_count": 6,
   "metadata": {},
   "outputs": [
    {
     "name": "stdout",
     "output_type": "stream",
     "text": [
      "The probability of Mercedes to win at least one race: 0.5705422225\n"
     ]
    }
   ],
   "source": [
    "# Let A = Mercedes to win at least one race\n",
    "# The counter event of A is Merceds win no race\n",
    "# Let B = the counter event of A\n",
    "\n",
    "# The probability of Mercedes to win no race\n",
    "Mercedes_lost_all = (1-Mercedes_win)**2\n",
    "\n",
    "# The probability of Mercedes to win at least one race\n",
    "result = 1 - Mercedes_lost_all\n",
    "\n",
    "print(\"The probability of Mercedes to win at least one race: {0:.10f}\".format(result))"
   ]
  },
  {
   "cell_type": "markdown",
   "metadata": {},
   "source": [
    "##  1.2  Question(30 points) \n",
    "\n",
    "If Mercedes wins the first race, what is the probability that Mercedes wins the next one? If Mercedes wins at least one of these two races, what is the probability Mercedes wins both races? How about Ferrari, Red Bull, and Renault?"
   ]
  },
  {
   "cell_type": "markdown",
   "metadata": {},
   "source": [
    "### 1.2.1 If Mercedes wins the first race, what is the probability that Mercedes wins the next one?"
   ]
  },
  {
   "cell_type": "code",
   "execution_count": 7,
   "metadata": {},
   "outputs": [
    {
     "name": "stdout",
     "output_type": "stream",
     "text": [
      "If Mercedes wins the first race,the probability that Mercedes wins the next one is: 0.3446697188\n"
     ]
    }
   ],
   "source": [
    "# Let A = Mercedes wins the first race\n",
    "# Let B = Mercedes wins the second race\n",
    "\n",
    "# If Mercedes wins the first race,the probability that Mercedes wins the next one\n",
    "# P(B) = the probability of Mercedes to win a race\n",
    "pB = Mercedes_win\n",
    "\n",
    "print(\"If Mercedes wins the first race,the probability that Mercedes wins the next one is: {0:.10f}\".format(pB))"
   ]
  },
  {
   "cell_type": "markdown",
   "metadata": {},
   "source": [
    "### 1.2.2 If Mercedes wins at least one of these two races, what is the probability Mercedes wins both races? How about Ferrari, Red Bull, and Renault?"
   ]
  },
  {
   "cell_type": "code",
   "execution_count": 8,
   "metadata": {},
   "outputs": [
    {
     "name": "stdout",
     "output_type": "stream",
     "text": [
      "If Mercedes wins at least one of these two races, the probability Mercedes wins both races is: 0.2082180956\n",
      "If Ferrari wins at least one of these two races, the probability Ferrari wins both races is: 0.1478978979\n",
      "If RedBull wins at least one of these two races, the probability RedBull wins both races is: 0.0859375000\n",
      "If Renault wins at least one of these two races, the probability Renault wins both races is: 0.0224005349\n"
     ]
    }
   ],
   "source": [
    "# The probility of Mercedes, Ferrari, Red Bull and Renault to win one race\n",
    "Ferrari_win = SGP['LEC'] + SGP['VET']\n",
    "RedBull_win = SGP['VER'] + SGP['ALB']\n",
    "Renault_win = SGP['RIC'] + SGP['HUL']\n",
    "\n",
    "teams = {'Mercedes':Mercedes_win,'Ferrari':Ferrari_win,\"RedBull\":RedBull_win,\"Renault\":Renault_win}\n",
    "\n",
    "# If Mercedes wins at least one of these two races, the probability Mercedes wins both races\n",
    "# p(AB|1-(1-A)(1-B))\n",
    "\n",
    "for team in teams.keys():\n",
    "    print(\"If {0} wins at least one of these two races, the probability {0} wins both races is: {1:.10f}\".format(team,(((teams[team])**2)/(1-(1-teams[team])**2))))"
   ]
  },
  {
   "cell_type": "markdown",
   "metadata": {},
   "source": [
    "### Question 1.3 (50 points)\n",
    "\n",
    "Mercedes wins one of these two races on a rainy day. What is the probability Mercedes wins both races, assuming races can be held on either rainy, sunny, cloudy, snowy or foggy days? Assume that rain, sun, clouds, snow, and fog are the only possible weather conditions on race tracks."
   ]
  },
  {
   "cell_type": "code",
   "execution_count": 9,
   "metadata": {},
   "outputs": [
    {
     "name": "stdout",
     "output_type": "stream",
     "text": [
      "Mercedes wins one of these two races on a rainy day.The probability Mercedes wins both races is: 0.3212761634\n"
     ]
    }
   ],
   "source": [
    "# Let A = Mercedes wins the first race\n",
    "A = Mercedes_win\n",
    "\n",
    "# Let B = Mercedes wins the second race\n",
    "B = Mercedes_win\n",
    "\n",
    "# Let C = One of weathers = 1/5\n",
    "C = 1/5\n",
    "\n",
    "# Let D = Mercedes wins one of these two races on a rainy day.\n",
    "pD = (A*C)*(1-B) + (1-A)*(B*C) + (A*C)*B + ((1-C)*A)*(B*1/5)\n",
    "\n",
    "# Let E = Mercedes wins all races\n",
    "# Mercedes wins one of these two races on a rainy day.The probability Mercedes wins both races is p(E|D)\n",
    "\n",
    "print(\"Mercedes wins one of these two races on a rainy day.The probability Mercedes wins both races is: {0:.10f}\".format((A*C*B+A*(1-C)*B*C)/pD))\n",
    "\n",
    "\n"
   ]
  }
 ],
 "metadata": {
  "kernelspec": {
   "display_name": "Python 3",
   "language": "python",
   "name": "python3"
  },
  "language_info": {
   "codemirror_mode": {
    "name": "ipython",
    "version": 3
   },
   "file_extension": ".py",
   "mimetype": "text/x-python",
   "name": "python",
   "nbconvert_exporter": "python",
   "pygments_lexer": "ipython3",
   "version": "3.7.4"
  }
 },
 "nbformat": 4,
 "nbformat_minor": 4
}
