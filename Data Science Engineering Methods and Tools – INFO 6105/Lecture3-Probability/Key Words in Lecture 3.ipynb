{
 "cells": [
  {
   "cell_type": "markdown",
   "metadata": {},
   "source": [
    "<div style=\"text-align: right\">INFO 6105 Data Science Eng Methods and Tools, key words for week 3 \"Probability\"</div>\n",
    "<div style=\"text-align: right\">Zixiao Wang , 28 October 2019, with material from Dino Konstantopoulos</div>\n",
    "\n",
    "# Key words for Week 3 \"Probability\"\n",
    "\n",
    "You should a good understanding of ***probabilities***, ***python list comprehensions***, ***python lambda arithmetic***, and how to ***compute probabilities***.\n",
    "\n",
    "You should a good understanding of how to estimate probabilities for outcomes of different frequency and sample spaces, and how to use Bayes' theorem to answer typical interview questions involving probabilities. You are ready for an introduction to sport analytics."
   ]
  },
  {
   "cell_type": "markdown",
   "metadata": {},
   "source": [
    "## Mathematical concept"
   ]
  },
  {
   "cell_type": "markdown",
   "metadata": {},
   "source": [
    "### 1. Probability\n",
    "\n",
    "Here's some vocabulary:\n",
    "\n",
    "- [Experiment](https://en.wikipedia.org/wiki/Experiment_(probability_theory%29)):\n",
    "  An occurrence with an uncertain outcome that we can observe.\n",
    "  <br>*For example, rolling a die.*\n",
    "- [Outcome](https://en.wikipedia.org/wiki/Outcome_(probability%29)):\n",
    "  The result of an experiment; one particular state of the world. What Laplace calls a \"case.\"\n",
    "  <br>*For example:* `4`.\n",
    "- [Sample Space](https://en.wikipedia.org/wiki/Sample_space):\n",
    "  The set of all possible outcomes for the experiment. \n",
    "  <br>*For example,* `{1, 2, 3, 4, 5, 6}`.\n",
    "- [Event](https://en.wikipedia.org/wiki/Event_(probability_theory%29)):\n",
    "  A subset of possible outcomes that together have some property we are interested in.\n",
    "  <br>*For example, the event \"even die roll\" is the set of outcomes* `{2, 4, 6}`. \n",
    "  "
   ]
  },
  {
   "cell_type": "markdown",
   "metadata": {},
   "source": [
    "### 2. Probability Distributions\n",
    "\n",
    "#### 2.1 Binomial Distributions\n",
    "\n",
    "<center>\n",
    "<img src=\"http://statistics.wdfiles.com/local--files/ch6/binomial.png\" width=\"400\" />\n",
    "Binomial\n",
    "</center>\n",
    "\n",
    "For a single trial, i.e., n = 1, the binomial distribution is a **Bernoulli distribution**. \n",
    "\n",
    "The probability of getting exactly k successes in n trials is given by the probability mass function:\n",
    "\n",
    "</p>\n",
    "<center>\n",
    "    <img src=\"images/binom.png\" width=500 />\n",
    "</center>\n",
    "\n",
    "Because of unequiprobably outcomes (not all urns yield Blue/Red/White balls with equiprobable chances), we need to introduce three more definitions:\n",
    "\n",
    "* [Frequency](https://en.wikipedia.org/wiki/Frequency_%28statistics%29): a number describing **how often** an outcome occurs. Can be a count like 121801, or a ratio like 0.515.\n",
    "\n",
    "* [Distribution](http://mathworld.wolfram.com/StatisticalDistribution.html): A **mapping** from outcome to frequency for each possible outcome in a sample space. \n",
    "\n",
    "* [Probability Distribution](https://en.wikipedia.org/wiki/Probability_distribution): The distribution above, which has been ***normalized*** so that the sum of the frequencies is 1."
   ]
  },
  {
   "cell_type": "markdown",
   "metadata": {},
   "source": [
    "### 3. Bayes Formula\n",
    "\n",
    "    P(A|B) = P(B|A)P(A)/P(B)\n",
    "    \n",
    "> The blue M&M was introduced in 1995.  Before then, the color mix in a bag of plain M&Ms was (30% Brown, 20% Yellow, 20% Red, 10% Green, 10% Orange, 10% Tan).  Afterward it was (24% Blue , 20% Green, 16% Orange, 14% Yellow, 13% Red, 13% Brown). \n",
    "A friend of mine has two bags of M&Ms, and he tells me that one is from 1994 and one from 1996.  He won't tell me which is which, but he gives me one M&M from each bag.  One is yellow and one is green.  What is the probability that the yellow M&M came from the 1994 bag? Well, the old M&M bags' yellow count was higher, so it must be higher, right? But how to count?\n",
    "\n",
    "So there is a 74% chance that the yellow comes from the 1994 bag. We were *right* about our hunch :-)\n",
    "\n",
    "Answering this question was straightforward: just like all the other probability problems, we simply create a sample space, and use `p` to pick out the probability of the event in question, given what we know about the outcome. This is the 'mechanistic' way of obtaining our answer.\n",
    "\n",
    "We can *also* solve it using *Bayes' Theorem*, and this is as good as any's introduction to **naive Bayes theory**: We are asked about the probability of an event (M&M94 --> M&M96) *given the evidence* (M&M94 is yellow, M&M96 green), which is not immediately available. However the probability of the evidence, given the event (***the inverse!***) is readily available!  \n",
    "\n",
    "Before we see the colors of the M&Ms, there are two hypotheses, `A` and `B`, both with equal probability:\n",
    "\n",
    "    A: first M&M from 94 bag, second from 96 bag\n",
    "    B: first M&M from 96 bag, second from 94 bag\n",
    "    P(A) = P(B) = 0.5\n",
    "    \n",
    "Then we get some evidence:\n",
    "    \n",
    "    E: first M&M yellow, second green\n",
    "    \n",
    "We want to know the probability of hypothesis `A`, given the evidence:\n",
    "    \n",
    "    P(A | E)\n",
    "    \n",
    "That's not easy to calculate (except by enumerating the sample space with python and a laptop, which is what we did above). But Bayes Theorem says:\n",
    "    \n",
    "    P(A | E) = P(E | A) * P(A) / P(E)\n",
    "    \n",
    "The quantities on the *right-hand-side* are easier to calculate:\n",
    "    \n",
    "    P(E | A) = 20/100 * 20/100 = 0.04\n",
    "    P(E | B) = 10/100 * 14/100 = 0.014\n",
    "    P(A)     = 0.5\n",
    "    P(B)     = 0.5\n",
    "    P(E)     = P(E | A) * P(A) + P(E | B) * P(B) \n",
    "             = 0.04     * 0.5  + 0.014    * 0.5   =   0.027\n",
    "             \n",
    "Where did the probability of the evidence P(E) formula come from?\n",
    "\n",
    "There are two possibilities of getting the evidence: A and B, a *union* and so we sum their probabilities. The joint probability of the evidence *and* case A is a succession or *intersection*, so it must be a product of their probabilities: P(E|A).P(A). Likewise for the case B: P(E|B).P(B) \n",
    "    \n",
    "And so we can get a final answer:\n",
    "    \n",
    "    P(A | E) = P(E | A) * P(A) / P(E) \n",
    "             = 0.04     * 0.5  / 0.027 \n",
    "             = 0.7407407407\n",
    "             \n",
    "Bayes Theorem allows you to do less calculation at the cost of more algebra; that is a great trade-off if you are working with pencil and paper (like in ***interview situations!!!***). Enumerating the state space allows you to do less algebra at the cost of more calculation; often a good trade-off if you have a computer. \n",
    "\n",
    "Regardless of the approach you use, it is important to understand Bayes theorem and how it works."
   ]
  },
  {
   "cell_type": "markdown",
   "metadata": {},
   "source": [
    "## Implements"
   ]
  },
  {
   "cell_type": "markdown",
   "metadata": {},
   "source": [
    "### 1. Probability\n",
    "\n",
    "#### 1.1 Birthday\n",
    "\n",
    "What is the probability that *two* students in this classroom have the *same* birthday? Which one of the two you think is higher?"
   ]
  },
  {
   "cell_type": "code",
   "execution_count": 190,
   "metadata": {},
   "outputs": [],
   "source": [
    "# Suppose there are 10 people in class\n",
    "N = 23;\n",
    "def shareBirthday():\n",
    "    #  the probability that *one* students in this classroom have the *same* birthday with you\n",
    "    return (N-1)/365"
   ]
  },
  {
   "cell_type": "code",
   "execution_count": 191,
   "metadata": {},
   "outputs": [],
   "source": [
    "from operator import mul\n",
    "from functools import reduce\n",
    "def share2Birthday():\n",
    "    # the probability that *two* students in this classroom have the *same* birthday\n",
    "    # probability = 1 - 365*364**...*356/356**2\n",
    "    l = [i for i in range(365,365-N,-1)]\n",
    "    return 1-(reduce(mul,l,1)/(365**N))\n",
    "    \n"
   ]
  },
  {
   "cell_type": "code",
   "execution_count": 192,
   "metadata": {},
   "outputs": [
    {
     "data": {
      "text/plain": [
       "0.06027397260273973"
      ]
     },
     "execution_count": 192,
     "metadata": {},
     "output_type": "execute_result"
    }
   ],
   "source": [
    "shareBirthday()"
   ]
  },
  {
   "cell_type": "code",
   "execution_count": 193,
   "metadata": {},
   "outputs": [
    {
     "data": {
      "text/plain": [
       "0.5072972343239854"
      ]
     },
     "execution_count": 193,
     "metadata": {},
     "output_type": "execute_result"
    }
   ],
   "source": [
    "share2Birthday()"
   ]
  },
  {
   "cell_type": "markdown",
   "metadata": {},
   "source": [
    "---\n",
    "## Note\n",
    "### reduce function garmmar:\n",
    "\n",
    "```reduce(function, iterable[, initializer])```\n",
    "\n",
    "for example\n",
    "\n",
    "```python\n",
    ">>>def add(x, y) :            # sum two numbers\n",
    "...     return x + y\n",
    "... \n",
    ">>> reduce(add, [1,2,3,4,5])   # calculate the sum of list: 1+2+3+4+5\n",
    "15\n",
    ">>> reduce(lambda x, y: x+y, [1,2,3,4,5])  # use lambda anonymous function\n",
    "15\n",
    "```\n",
    "\n",
    "\n",
    "### operator.mul :\n",
    "\n",
    "mul is multiply function of operator library\n",
    "\n",
    "[more information can be seen here](https://www.cnblogs.com/lixiang1013/articles/9031336.html)\n",
    "\n",
    "---\n"
   ]
  },
  {
   "cell_type": "markdown",
   "metadata": {},
   "source": [
    "#### 1.2 Dice (singular: Die)\n",
    "\n",
    "To note:\n",
    "* We use ```Fraction``` rather than regular division because I want exact answers like 1/3, not 0.3333333333333333.\n",
    "    * ```from fractions import Fraction```\n",
    "* `&` is the python set *intersection* operation, while `|` is the python *union* operation.\n",
    "\n",
    "**Exercise**: What's the probability of rolling an even number with a single six-sided fair die? Use python tuples (unordered collection with no duplicate elements), since we don't expect them to change.\n",
    "\n",
    "Define the sample space D:\n",
    "```D    = {...}```\n",
    "\n",
    "and the event even:\n",
    "```even = {...}```\n",
    "\n",
    "and compute the probability:\n",
    "```p(even, D)```\n",
    "\n",
    "Copy and paste the code above in the cell below, and replace ```...``` with the right values!"
   ]
  },
  {
   "cell_type": "code",
   "execution_count": 194,
   "metadata": {},
   "outputs": [],
   "source": [
    "from fractions import Fraction\n",
    "D = {1,2,3,4,5,6}\n",
    "even = {2,4,6}\n",
    "\n",
    "def p(event,space):\n",
    "    return Fraction(len(event&space),len(space))"
   ]
  },
  {
   "cell_type": "code",
   "execution_count": 195,
   "metadata": {},
   "outputs": [
    {
     "data": {
      "text/plain": [
       "Fraction(1, 2)"
      ]
     },
     "execution_count": 195,
     "metadata": {},
     "output_type": "execute_result"
    }
   ],
   "source": [
    "p(even,D)"
   ]
  },
  {
   "cell_type": "markdown",
   "metadata": {},
   "source": [
    "#### 1.3 Urns, permutations, and combinations"
   ]
  },
  {
   "cell_type": "markdown",
   "metadata": {},
   "source": [
    "> An urn contains 23 balls: 8 white, 6 blue, and 9 red.  We select six balls at random (each possible selection is equally likely). What is the probability of each of these possible outcomes:\n",
    "\n",
    "> 1. All balls are red\n",
    "2. 3 are blue, 2 are white, and 1 is red\n",
    "3. Exactly 4 balls are white"
   ]
  },
  {
   "cell_type": "code",
   "execution_count": 196,
   "metadata": {},
   "outputs": [
    {
     "data": {
      "text/plain": [
       "({'B1',\n",
       "  'B2',\n",
       "  'B3',\n",
       "  'B4',\n",
       "  'B5',\n",
       "  'B6',\n",
       "  'R1',\n",
       "  'R2',\n",
       "  'R3',\n",
       "  'R4',\n",
       "  'R5',\n",
       "  'R6',\n",
       "  'R7',\n",
       "  'R8',\n",
       "  'R9',\n",
       "  'W1',\n",
       "  'W2',\n",
       "  'W3',\n",
       "  'W4',\n",
       "  'W5',\n",
       "  'W6',\n",
       "  'W7',\n",
       "  'W8'},\n",
       " 23)"
      ]
     },
     "execution_count": 196,
     "metadata": {},
     "output_type": "execute_result"
    }
   ],
   "source": [
    "# Init the balls color\n",
    "def cross(A,B):\n",
    "    return {a+b for a in A for b in B}\n",
    "balls = cross(\"W\",\"12345678\")|cross(\"B\",\"123456\")|cross(\"R\",\"123456789\")\n",
    "balls,len(balls)"
   ]
  },
  {
   "cell_type": "code",
   "execution_count": 197,
   "metadata": {},
   "outputs": [],
   "source": [
    "# Sample space\n",
    "import itertools\n",
    "def combinations(item,number):\n",
    "    return {\"\".join(combo) for combo in itertools.combinations(item,number)}\n"
   ]
  },
  {
   "cell_type": "code",
   "execution_count": 198,
   "metadata": {},
   "outputs": [],
   "source": [
    "combos = combinations(balls,6)\n",
    "# len(combos),combos"
   ]
  },
  {
   "cell_type": "code",
   "execution_count": 199,
   "metadata": {},
   "outputs": [],
   "source": [
    "# Calculate the number of combination\n",
    "from math import factorial\n",
    "def choose(n, c):\n",
    "    \"\"\"Number of ways to choose c items from a list of n items.\"\"\"\n",
    "    return factorial(n) // (factorial(n - c) * factorial(c))"
   ]
  },
  {
   "cell_type": "code",
   "execution_count": 200,
   "metadata": {},
   "outputs": [
    {
     "data": {
      "text/plain": [
       "100947"
      ]
     },
     "execution_count": 200,
     "metadata": {},
     "output_type": "execute_result"
    }
   ],
   "source": [
    "choose(23,6)"
   ]
  },
  {
   "cell_type": "markdown",
   "metadata": {},
   "source": [
    "---\n",
    "## Note -- ```count()```\n",
    "\n",
    "* `count()` is the python function that returns the *cardinal* (a.k.a *length*) of a sequence (a.k.a. list/set/tuple/dict), filtered by an argument. True statement: ```'foobar'.count('o') == 2```. \n",
    "\n",
    "---"
   ]
  },
  {
   "cell_type": "markdown",
   "metadata": {},
   "source": [
    "#### All balls are red"
   ]
  },
  {
   "cell_type": "code",
   "execution_count": 201,
   "metadata": {},
   "outputs": [],
   "source": [
    "red6 = {combo for combo in combos if combo.count(\"R\")==6}"
   ]
  },
  {
   "cell_type": "code",
   "execution_count": 212,
   "metadata": {},
   "outputs": [],
   "source": [
    "# print(red6)"
   ]
  },
  {
   "cell_type": "code",
   "execution_count": 203,
   "metadata": {},
   "outputs": [
    {
     "data": {
      "text/plain": [
       "Fraction(4, 4807)"
      ]
     },
     "execution_count": 203,
     "metadata": {},
     "output_type": "execute_result"
    }
   ],
   "source": [
    "p(red6,combos)"
   ]
  },
  {
   "cell_type": "markdown",
   "metadata": {},
   "source": [
    "#### 3 are blue, 2 are white, and 1 is red"
   ]
  },
  {
   "cell_type": "code",
   "execution_count": 204,
   "metadata": {},
   "outputs": [],
   "source": [
    "blue3white2red1 = {combo for combo in combos if combo.count(\"R\")==1 and combo.count(\"W\")==2 and combo.count(\"B\")==3}\n",
    "# blue3white2red1"
   ]
  },
  {
   "cell_type": "code",
   "execution_count": 205,
   "metadata": {},
   "outputs": [
    {
     "data": {
      "text/plain": [
       "Fraction(240, 4807)"
      ]
     },
     "execution_count": 205,
     "metadata": {},
     "output_type": "execute_result"
    }
   ],
   "source": [
    "p(blue3white2red1,combos)"
   ]
  },
  {
   "cell_type": "markdown",
   "metadata": {},
   "source": [
    "#### What is the probability of exactly 4 white balls"
   ]
  },
  {
   "cell_type": "code",
   "execution_count": 206,
   "metadata": {},
   "outputs": [],
   "source": [
    "white4 = {combo for combo in combos if combo.count(\"W\")==4}\n",
    "# white4"
   ]
  },
  {
   "cell_type": "code",
   "execution_count": 207,
   "metadata": {},
   "outputs": [
    {
     "data": {
      "text/plain": [
       "Fraction(350, 4807)"
      ]
     },
     "execution_count": 207,
     "metadata": {},
     "output_type": "execute_result"
    }
   ],
   "source": [
    "p(white4,combos)"
   ]
  },
  {
   "cell_type": "markdown",
   "metadata": {},
   "source": [
    "#### 1.4 Work with transform\n",
    "\n",
    "<center>\n",
    "<img src=\"http://agilitrix.com/wp-content/uploads/2013/02/1-Transformation.jpg\"  width=\"500\" />\n",
    "</center>\n",
    "\n",
    "\n",
    "Sometimes we don't have a straightforward way to easily enumerate all possible samples in a sample space, but we have an easy way of defining a **transformation** that will yield a desired sample. In other words, we want to work with **lambdas** instead of **objects**. \n",
    "\n",
    "Here's a ***generator*** for natural numbers, a compact, transformation-based way of defining natural numbers so that we don't have to write a lot of data:"
   ]
  },
  {
   "cell_type": "code",
   "execution_count": 208,
   "metadata": {},
   "outputs": [],
   "source": [
    "# Take even for example\n",
    "# Defiine a transformation of event\n",
    "def even(n): return n % 2 == 0"
   ]
  },
  {
   "cell_type": "code",
   "execution_count": 209,
   "metadata": {},
   "outputs": [],
   "source": [
    "# The calculation function need to judge if the event inputed is a transformation\n",
    "def p(event, space): \n",
    "    \"\"\"The probability of an event, given a sample space of equiprobable outcomes.\n",
    "    event can be either a set of outcomes, or a predicate (true for outcomes in the event).\"\"\"\n",
    "    if is_predicate(event):\n",
    "        return Fraction(len(such_that(event,space)&space),len(space))\n",
    "    return Fraction(len(event&space),len(space))\n",
    "is_predicate = callable\n",
    "\n",
    "# Such that function is used to get the result from transformation\n",
    "def such_that(predicate, collection): \n",
    "    \"\"\"The subset of elements in the collection for which the predicate is true.\"\"\"\n",
    "    return {e for e in collection if predicate(e)}"
   ]
  },
  {
   "cell_type": "code",
   "execution_count": 210,
   "metadata": {},
   "outputs": [
    {
     "data": {
      "text/plain": [
       "{2, 4, 6}"
      ]
     },
     "execution_count": 210,
     "metadata": {},
     "output_type": "execute_result"
    }
   ],
   "source": [
    "such_that(even, D)"
   ]
  },
  {
   "cell_type": "code",
   "execution_count": 211,
   "metadata": {
    "scrolled": true
   },
   "outputs": [
    {
     "data": {
      "text/plain": [
       "Fraction(1, 2)"
      ]
     },
     "execution_count": 211,
     "metadata": {},
     "output_type": "execute_result"
    }
   ],
   "source": [
    "p(even, D)"
   ]
  },
  {
   "cell_type": "markdown",
   "metadata": {},
   "source": [
    "### 2. Probability Distributions\n",
    "\n",
    "#### 2.1 Binomial Distribution"
   ]
  },
  {
   "cell_type": "code",
   "execution_count": 189,
   "metadata": {},
   "outputs": [
    {
     "data": {
      "image/png": "[encoded data removed]",
      "text/plain": [
       "<Figure size 360x270 with 1 Axes>"
      ]
     },
     "metadata": {
      "needs_background": "light"
     },
     "output_type": "display_data"
    }
   ],
   "source": [
    "# first, let's plot a few binomial distributions\n",
    "import numpy as np\n",
    "from scipy.stats import binom\n",
    "from matplotlib import pyplot as plt\n",
    "%matplotlib inline\n",
    "\n",
    "n_values = [20, 25, 40]\n",
    "p_values = [0.5, 0.5, 0.5]\n",
    "x = np.arange(0, 50)\n",
    "\n",
    "fig, ax = plt.subplots(figsize=(5, 3.75))\n",
    "\n",
    "for (n, p) in zip(n_values, p_values):\n",
    "    # create a binomial distribution\n",
    "    dist = binom(n, p)\n",
    "\n",
    "    plt.plot(x, dist.pmf(x))"
   ]
  },
  {
   "cell_type": "markdown",
   "metadata": {},
   "source": [
    "---\n",
    "## Note--```range()``` or ```arange()```\n",
    "```range()``` return range object, but ```np.nrange()``` return ```numpy.adarray()```\n",
    "\n",
    "they both divide evenly\n",
    "```range()``` can be used in iteration. ```np.arange``` can not only be used in interation but also it can be used as vector.\n",
    "```range()``` doesn't support float number step. ```np.arange``` support float number step\n",
    "\n",
    "they have same parameters: ```[first, last)``` or ```[first:step:last)```\n",
    "\n",
    "## Note--matplotlib ```%matplotlib inline```\n",
    "\n",
    "[document](https://matplotlib.org/api/pyplot_api.html)\n",
    "\n",
    "> %matplotlib inline是一个魔法函数（Magic Functions）。官方给出的定义是：IPython有一组预先定义好的所谓的魔法函数（Magic Functions），你可以通过命令行的语法形式来访问它们。\n"
   ]
  },
  {
   "cell_type": "markdown",
   "metadata": {},
   "source": [
    "#### 2.2 The birth rate of boys and girls\n",
    "\n",
    "In real life however, we often get outcomes that are **not** equiprobable. For example, the probability of picking a royal in a deck of cards is not the same as the probability of picking a number. The probability of a child being a girl is not exactly 1/2, and the probability is slightly different for a second child. Give a read to this data science [article](http://people.kzoo.edu/barth/math105/moreboys.pdf) that gives the following *counts* for **two-child** families in Denmark, where `GB` means a family where the first child is a girl and the second a boy:\n",
    "\n",
    "    GG: 121801    GB: 126840\n",
    "    BG: 127123    BB: 135138"
   ]
  },
  {
   "cell_type": "code",
   "execution_count": 217,
   "metadata": {},
   "outputs": [],
   "source": [
    "# Build the Probability dictionary\n",
    "class ProbDic(dict):\n",
    "    def __init__(self,mapping=(),**kwargs):\n",
    "        self.update(mapping,**kwargs)\n",
    "        # Calculate the probability of each component\n",
    "        # Make probabilities sum to 1.0; assert no negative probabilities\n",
    "        total = sum(self.values())\n",
    "        for outcome in self:\n",
    "            self[outcome] = self[outcome]/total\n",
    "            # Make sure the probability is not less than zero\n",
    "            assert self[outcome] >= 0"
   ]
  },
  {
   "cell_type": "code",
   "execution_count": 224,
   "metadata": {},
   "outputs": [],
   "source": [
    "def such_that(predicate,space):\n",
    "    # Get the set that the predication is true\n",
    "    if isinstance(space, ProbDic):\n",
    "        return ProbDic({o:space[o] for o in space if predicate(o)})\n",
    "    else:\n",
    "        return {o for o in sapce if predicate(o)}\n",
    "    \n",
    "is_predicate = callable\n",
    "\n",
    "# Define the event probability function\n",
    "def p (event,space):\n",
    "    # Judge if the event is predicate(transformation)\n",
    "    if(is_predicate(event)):\n",
    "        # unroll the event as collection\n",
    "        event = such_that(event,space)\n",
    "    \n",
    "    # if space is not an equiprobably collection (a simple set), \n",
    "    # but a probability distribution instead (a dictionary set),\n",
    "    # then add (union) the probabilities for all favorable outcomes\n",
    "    if isinstance(space, ProbDic):\n",
    "        return sum(space[o] for o in space if o in event)\n",
    "    \n",
    "    # simplest case: what we played with in our previous lesson\n",
    "    else:\n",
    "        return Fraction(len(event & space), len(space))\n",
    "\n"
   ]
  },
  {
   "cell_type": "code",
   "execution_count": 225,
   "metadata": {},
   "outputs": [
    {
     "data": {
      "text/plain": [
       "{'GG': 0.23840384261560926,\n",
       " 'GB': 0.24826679089140383,\n",
       " 'BG': 0.24882071317004043,\n",
       " 'BB': 0.2645086533229465}"
      ]
     },
     "execution_count": 225,
     "metadata": {},
     "output_type": "execute_result"
    }
   ],
   "source": [
    "# All probability of child birth\n",
    "DK = ProbDic(GG=121801, GB=126840,\n",
    "              BG=127123, BB=135138)\n",
    "DK"
   ]
  },
  {
   "cell_type": "code",
   "execution_count": 226,
   "metadata": {},
   "outputs": [],
   "source": [
    "# Define all prediacte of child birth\n",
    "def first_girl(outcome): return outcome[0] == \"G\"\n",
    "def second_girl(outcome): return outcome[1] == \"G\"\n",
    "def first_boy(outcome): return outcome[0] == \"B\"\n",
    "def second_boy(outcome): return outcome[1] == \"B\"\n",
    "def both_girl(outcome): return outcome[0]==\"G\" and outcome[1]==\"G\""
   ]
  },
  {
   "cell_type": "code",
   "execution_count": 227,
   "metadata": {},
   "outputs": [
    {
     "data": {
      "text/plain": [
       "0.4866706335070131"
      ]
     },
     "execution_count": 227,
     "metadata": {},
     "output_type": "execute_result"
    }
   ],
   "source": [
    "# Some rate\n",
    "p(first_girl,DK)"
   ]
  },
  {
   "cell_type": "code",
   "execution_count": 228,
   "metadata": {},
   "outputs": [
    {
     "data": {
      "text/plain": [
       "0.4872245557856497"
      ]
     },
     "execution_count": 228,
     "metadata": {},
     "output_type": "execute_result"
    }
   ],
   "source": [
    "p(second_girl,DK)"
   ]
  },
  {
   "cell_type": "code",
   "execution_count": 229,
   "metadata": {},
   "outputs": [
    {
     "data": {
      "text/plain": [
       "0.5133293664929869"
      ]
     },
     "execution_count": 229,
     "metadata": {},
     "output_type": "execute_result"
    }
   ],
   "source": [
    "p(first_boy,DK)"
   ]
  },
  {
   "cell_type": "code",
   "execution_count": 230,
   "metadata": {},
   "outputs": [
    {
     "data": {
      "text/plain": [
       "0.5127754442143503"
      ]
     },
     "execution_count": 230,
     "metadata": {},
     "output_type": "execute_result"
    }
   ],
   "source": [
    "p(second_boy,DK)"
   ]
  },
  {
   "cell_type": "code",
   "execution_count": 231,
   "metadata": {},
   "outputs": [
    {
     "data": {
      "text/plain": [
       "0.23840384261560926"
      ]
     },
     "execution_count": 231,
     "metadata": {},
     "output_type": "execute_result"
    }
   ],
   "source": [
    "p(both_girl,DK)"
   ]
  },
  {
   "cell_type": "markdown",
   "metadata": {},
   "source": [
    "The above says that the probability of a girl is somewhere between 48% and 49%, but that it is *slightly different* between the first or second child.\n",
    "\n",
    "Now answer the question as to whether the sex of the second child is *more likely* or *less likely* to be the same as the first child, by evaluating first:\n",
    "\n",
    "- The probability of a second girl given that the first child was a girl (a joint probability)\n",
    "- The probability of a second girl given that the first child was a boy (a joint probability)\n",
    "- The probability of a second boy given that the first child was a boy (a joint probability)\n",
    "- The probability of a second boy given that the first child was a girl (a joint probability)\n",
    "\n",
    "The average of the first two probabilities above represents the probability of a second girl, a [**marginal probability**](https://en.wikipedia.org/wiki/Marginal_distribution) in our problem.\n",
    "\n",
    "The avergage of the last two probabilities above represents the probability of a second boy, a **marginal probability** in our problem."
   ]
  },
  {
   "cell_type": "code",
   "execution_count": 232,
   "metadata": {},
   "outputs": [
    {
     "data": {
      "text/plain": [
       "(0.4898669165584115, 0.48471942072973107)"
      ]
     },
     "execution_count": 232,
     "metadata": {},
     "output_type": "execute_result"
    }
   ],
   "source": [
    "p(second_girl,such_that(first_girl,DK)),p(second_girl,such_that(first_boy,DK))"
   ]
  },
  {
   "cell_type": "code",
   "execution_count": 233,
   "metadata": {
    "scrolled": true
   },
   "outputs": [
    {
     "data": {
      "text/plain": [
       "(0.5101330834415885, 0.5152805792702689)"
      ]
     },
     "execution_count": 233,
     "metadata": {},
     "output_type": "execute_result"
    }
   ],
   "source": [
    "p(second_boy,such_that(first_girl,DK)),p(second_boy,such_that(first_boy,DK))"
   ]
  }
 ],
 "metadata": {
  "kernelspec": {
   "display_name": "Python 3",
   "language": "python",
   "name": "python3"
  },
  "language_info": {
   "codemirror_mode": {
    "name": "ipython",
    "version": 3
   },
   "file_extension": ".py",
   "mimetype": "text/x-python",
   "name": "python",
   "nbconvert_exporter": "python",
   "pygments_lexer": "ipython3",
   "version": "3.7.4"
  }
 },
 "nbformat": 4,
 "nbformat_minor": 4
}
