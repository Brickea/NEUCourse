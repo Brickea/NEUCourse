{
 "cells": [
  {
   "cell_type": "markdown",
   "metadata": {},
   "source": [
    "![output](output.jpg)"
   ]
  },
  {
   "cell_type": "code",
   "execution_count": 9,
   "metadata": {},
   "outputs": [
    {
     "name": "stdout",
     "output_type": "stream",
     "text": [
      "width:1280, height:720\n",
      "used time : 11 second, pix_count : 102480\n",
      "102480\n"
     ]
    }
   ],
   "source": [
    "#-*- coding: UTF-8 -*- \n",
    "from PIL import Image \n",
    "from PIL import ImageDraw \n",
    "from PIL import ImageFont\n",
    "import matplotlib.pyplot as plt\n",
    "import numpy as np\n",
    "import time\n",
    " \n",
    "def happyNewYear(srd_img_file_path, dst_img_file_path = None, scale = 2, sample_step = 3):\n",
    "    start_time = int(time.time())\n",
    " \n",
    "    #读取图片信息\n",
    "    old_img = Image.open(srd_img_file_path)\n",
    "    pix = old_img.load()\n",
    "    width = old_img.size[0]\n",
    "    height = old_img.size[1]\n",
    "    print (\"width:%d, height:%d\" % (width, height))\n",
    " \n",
    "    #创建新图片\n",
    "    canvas = np.ndarray((height*scale, width*scale, 3), np.uint8)\n",
    "    canvas[:, :, :] = 255\n",
    "    new_image = Image.fromarray(canvas)\n",
    "    draw = ImageDraw.Draw(new_image)\n",
    " \n",
    "    #创建绘制对象\n",
    "    font = ImageFont.truetype(\"consola.ttf\", 10, encoding=\"unic\")\n",
    "    char_table = list('happy new year ')\n",
    "    # font = ImageFont.truetype('simsun.ttc', 10)\n",
    "    # char_table = list(u'新年快乐')\n",
    " \n",
    "    #开始绘制\n",
    "    pix_count = 0\n",
    "    table_len = len(char_table)\n",
    "    for y in range(height):\n",
    "        for x in range(width):\n",
    "            if x % sample_step == 0 and y % sample_step == 0:\n",
    "                draw.text((x*scale, y*scale), char_table[pix_count % table_len], pix[x, y], font)\n",
    "                pix_count += 1\n",
    "    # 保存\n",
    "    if dst_img_file_path is not None:\n",
    "        new_image.save(dst_img_file_path)\n",
    " \n",
    "    print(\"used time : %d second, pix_count : %d\" % ((int(time.time()) - start_time), pix_count))\n",
    "    print(pix_count)\n",
    "    new_image.show()\n",
    " \n",
    " \n",
    "happyNewYear(\"test.jpg\", \"output.jpg\",scale=1)"
   ]
  },
  {
   "cell_type": "code",
   "execution_count": null,
   "metadata": {},
   "outputs": [],
   "source": []
  }
 ],
 "metadata": {
  "kernelspec": {
   "display_name": "Python 3",
   "language": "python",
   "name": "python3"
  },
  "language_info": {
   "codemirror_mode": {
    "name": "ipython",
    "version": 3
   },
   "file_extension": ".py",
   "mimetype": "text/x-python",
   "name": "python",
   "nbconvert_exporter": "python",
   "pygments_lexer": "ipython3",
   "version": "3.7.3"
  }
 },
 "nbformat": 4,
 "nbformat_minor": 2
}
