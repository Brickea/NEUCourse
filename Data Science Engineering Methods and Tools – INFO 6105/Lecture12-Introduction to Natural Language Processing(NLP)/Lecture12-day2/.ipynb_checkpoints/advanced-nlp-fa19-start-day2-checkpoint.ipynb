{
 "cells": [
  {
   "cell_type": "markdown",
   "metadata": {},
   "source": [
    "<div style=\"text-align: right\">INFO 6105 Data Science Eng Methods and Tools, Lecture12</div>\n",
    "<div style=\"text-align: right\">Dino Konstantopoulos, 2 December 2019, with material from Matt Rocklin, J. Nunez-Iglesias, </div>\n",
    "<div style=\"text-align: right\">Frank McSherry, Kiefer Katovich, Joseph Nelson, Charlie Greenbacker, Dan Jurafsky, the NLTK people,</div>\n",
    "<div style=\"text-align: right\">and the European Digital Research Infrastructure for the Arts and Humanities consortium, DARIAH-DE initiative, German branch of DARIAH-EU</div>\n",
    "\n",
    "<br />\n",
    "\n",
    "I like good plots, and I think this one depicts **Data Science** pretty well (movies to movie genres):\n",
    "<br />\n",
    "<left>\n",
    "<img src=\"ipynb.images/movie-genres.png\" width=400 />\n",
    "    <center>Dimensionality Reduction</center>\n",
    "</left>\n",
    "\n",
    "Thw whole point of your brain is to model your life'e experiences into lower-dimensional models so that you can learn from them and be able to better plan and predict. That's also the objective of data science, albeit with a more limited scope!\n",
    "\n",
    "Here's what you can look forward to when you finish school and start your first [job](https://onezero.medium.com/leak-of-microsoft-salaries-shows-fight-for-higher-compensation-3010c589b41e).\n",
    "\n",
    "This week, we study Natural Language Processing in the context of Data Science, to help you with your final project. This is a loooooooooooooooooooooooooong notebook..\n",
    "\n",
    "## Notebook Contents:\n",
    "- Part 1: [Introduction to Natural Language Processing (NLP)](#section1)\n",
    "- Part 2: [Big Data processing: Optimizations often required for NLP](#section2)\n",
    "- Part 3: [NLP with the Reuters dataset](#section3)\n",
    "- Part 4: [Words 2 Vectors](#section4)\n",
    "- Part 5: [NLP-ing Litterature](#section5)"
   ]
  },
  {
   "cell_type": "markdown",
   "metadata": {},
   "source": [
    "<a id='section1'></a>"
   ]
  },
  {
   "cell_type": "markdown",
   "metadata": {},
   "source": [
    "\n",
    "# Part 1: Introduction to Natural Language Processing (NLP)\n",
    "\n",
    "<br />\n",
    "<left>\n",
    "<img src=\"ipynb.images/nlp.jpg\" width=600 />\n",
    "</left>"
   ]
  },
  {
   "cell_type": "markdown",
   "metadata": {},
   "source": [
    "Natural language processing is the task of **extracting** information and ***meaning*** (semantics) from text documents.\n",
    "\n",
    "These tasks may range from simple classification tasks, such as deciding what category a piece of text falls into, to more complex tasks like translating or summarizing text.\n",
    "\n",
    "Here are some examples:\n",
    "- [Chatbots](https://dialogflow.com/)\n",
    "- [Text to speech](https://www.google.com/intl/en/chrome/demos/speech.html)\n",
    "\n",
    "For most tasks, a fair amount of pre-processing is required to make the text digestible for algorithms.  We typically need to add **structure** to our *unstructured* data. [Here](http://www.aaai.org/Magazine/Watson/watson.php) is why, about [IBM's Watson](https://en.wikipedia.org/wiki/Watson_(computer)).\n",
    "\n",
    "> **SIRI**: A system like Siri uses voice-to-transcription to record a command and then various **advanced** NLP algorithms to identify the question asked and possible answers\n",
    "\n",
    "The main **challenges** of NLP are **ambiguity** and **knowledge**:\n",
    "- **Ambiguity**:\n",
    "    - *Hospitals Are Sued by 7 Foot Doctors*\n",
    "    - *Juvenile Court to Try Shooting Defendant*\n",
    "    - *Local High School Dropouts Cut in Half*\n",
    "- **Knowledge:** \n",
    "    - *Mary and Sue are sisters, Mary and Sue are mothers*.\n",
    "\n",
    "**Tokenization** is the task of separating a sentence into its constituent parts, or **tokens**. *Example*: Data Science is the future! → [`Data Science`, `is`, `the future`].\n",
    "\n",
    "**Stemming** and **lemmatization** help identify common roots of words. Stemming is a crude process of removing common endings from sentences, such as `s`, `es`, `ly`, `ing`, and `ed`. *Example*: `badly` → `bad`. Lemmatization is a more refined process that uses specific language and grammar rules to derive the root of a word. *Example*: Best and better are the enemy of good → [`Most good` and `more good` are the enemy of good].  \n",
    "\n",
    "**Tagging** and **parsing** is the process of understanding the **grammar** of a sentence: We need to **tag** important topics and **parse** their dependencies.  \n",
    "\n",
    "<br />\n",
    "<left>\n",
    "<img src=\"ipynb.images/john-hit-the-ball.png\" width=250 />\n",
    "</left>\n",
    "\n",
    "Our goal is to identify the actors and actions in the text in order to extract meaning.\n",
    "\n",
    "Tagging and parsing is made up of a few overlapping subproblems:\n",
    "\n",
    "- **Parts of speech** (POS) tagging: What are the parts of speech in a sentence (e.g. noun, verb, adjective, etc)?\n",
    "\n",
    "- **Chunking**: Can we identify the pieces of the sentence that go together in meaningful chunks (e.g. noun or verb phrases)?\n",
    "\n",
    "- **Named entity recognition**: Can we identify specific proper nouns?  Can we pick out people and locations?\n",
    "\n",
    "The consortium [Universal Dependencies](https://universaldependencies.org/) a framework for consistent annotation of grammar (parts of speech, morphological features, and syntactic dependencies) across different human languages. UD is an open community effort with over 200 contributors producing more than 100 treebanks in over 70 languages, including english, hindi, chinese, and ancient and modern greek: ***One*** framework, ***many*** languages. [Google](https://ai.googleblog.com/2016/05/announcing-syntaxnet-worlds-most.html) and [Microsoft](https://www.microsoft.com/en-us/research/group/natural-language-processing/) dominate this field with implementations. Google's implementation has a *funny* name: Parsey McParseface (`Parse`y Mc`Parse`face). It is a joke from the [Boaty McBoatface](https://www.nytimes.com/2016/03/22/world/europe/boaty-mcboatface-what-you-get-when-you-let-the-internet-decide.html) debacle. [Try it out](https://deepai.org/machine-learning-model/parseymcparseface) on a Web page. Here's how to try it out on a command line:\n",
    "\n",
    ">**CURLing**: curl \\\n",
    "    -F 'sentence=YOUR_TEXT_URL' \\\n",
    "    -H 'api-key:quickstart-QUdJIGlzIGNvbWluZy4uLi4K' \\\n",
    "    https://api.deepai.org/api/parseymcparseface \n",
    "    \n",
    "Here are Parsey's [cousins](https://ai.googleblog.com/2016/08/meet-parseys-cousins-syntax-for-40.html), for POS-tagging in other languages like chinese, greek, and hindi. And yes, Parsey has been renamed **SyntaxNet** (so sad!)."
   ]
  },
  {
   "cell_type": "markdown",
   "metadata": {},
   "source": [
    "## 1. Text classification with BAG-OF-WORDS\n",
    "\n",
    "**Text classification** is the task of predicting which category or topic a text sample is from. Typically, this is done by using the text as features and the label as the target output.  This is referred to as [bag-of-words](https://en.wikipedia.org/wiki/Bag-of-words_model) classification.\n",
    "\n",
    "For example, we may want to identify:\n",
    "- Is an article a sports or business story?\n",
    "- Does an email have positive or negative sentiment?\n",
    "- Is the rating of a recipe 1, 2, 3, 4, or 5 stars?\n",
    "\n",
    "To include text as features, we usually create a binary feature for each word, i.e. does this piece of text contain that word? To create binary text features, we first create a vocabulary to account for all possible words in our universe. But you need to consider several things to decide if bag-of-words is appropriate:\n",
    "\n",
    "- Does order of words matter?\n",
    "- Does punctuation matter?\n",
    "- Does upper or lower case matter?\n",
    "\n",
    "`Scikit-learn`, in package `sklearn.preprocessing.text`, has many pre-processing utilities that simplify tasks required to convert text into features for a model.\n",
    "\n",
    "`CountVectorizer` converts a collection of text into a matrix of features.  Each row will be a sample (an article or piece of text) and each column will be a text feature (usually a count or binary feature per word).\n",
    "\n",
    "> **OVERFITTING**: Using all of the words can be useful, but YOU may need to use regularization to avoid overfitting.  Otherwise, rare words may cause the model to overfit and not generalize.\n",
    "\n",
    "`CountVectorizer` code:\n",
    "```(PYTHON)\n",
    "from sklearn.feature_extraction.text import CountVectorizer\n",
    "vectorizer = CountVectorizer(max_features = 1000, \n",
    "    ngram_range=(1, 2), \n",
    "    stop_words='english',\n",
    "    binary=True)\n",
    "\n",
    "ngram_range - a range of word phrases to use\n",
    "(1,1) means use all single words\n",
    "(1,2) means use all singles +  contiguous pairs of word\n",
    "(1,3) means use all singles + pairs + triples\n",
    "\n",
    "stop_words=’english’\n",
    "Stop words are non-content words (e.g. ‘to’, ‘the’, ‘it’, etc).  They aren’t helpful for prediction, so they get removed!\n",
    "\n",
    "max_features=1000\n",
    "Maximum number of words to consider (uses the first N most frequent)\n",
    "\n",
    "binary=True\n",
    "To use a dummy column as the entry (1 or 0, as opposed to the count).  This is useful if you think a word appearing 10 times is no more important than whether the word appears at all.\n",
    "```\n",
    "\n",
    "`Vectorizer`s are like other transformers in scikit-learn (e.g. `StandardScaler`). We create a vectorizer object with the parameters of our feature space. We fit a vectorizer to learn the vocabulary. We transform a set of text into that feature space.\n",
    "\n",
    "> Note: there is a distinction between `fit` and `transform`. We `fit` from our training set.  This is part of the model building process, so we don’t look at our test set. We `transform` our test set using our model fit on the training set.\n",
    "\n",
    "`fit` and `transform` code:\n",
    "```(python)\n",
    "titles = data['title'].fillna('')\n",
    "\n",
    "from sklearn.feature_extraction.text import CountVectorizer\n",
    "\n",
    "vectorizer = CountVectorizer(max_features = 1000, \n",
    "                ngram_range=(1, 2), \n",
    "                stop_words='english',\n",
    "                binary=True)\n",
    "               \n",
    "# Use `fit` to learn the vocabulary of the titles \n",
    "vectorizer.fit(titles)\n",
    "\n",
    "# Use `tranform` to generate the sample X word matrix - one column per feature (word or n-grams)\n",
    "X = vectorizer.transform(titles)\n",
    "```"
   ]
  },
  {
   "cell_type": "markdown",
   "metadata": {},
   "source": [
    "## 2. Text classification with TFIDF\n",
    "\n",
    "An alternative bag-of-words approach to CountVectorizer is a [Term Frequency - Inverse Document Frequency](https://en.wikipedia.org/wiki/Tf%E2%80%93idf) (TF-IDF) representation.\n",
    "\n",
    "TF-IDF uses the product of two intermediate values, the **Term Frequency** and **Inverse Document Frequency**.\n",
    "\n",
    "Term Frequency is equivalent to CountVectorizer features, just the number of times a word appears in the document (i.e. count).\n",
    "\n",
    "Document Frequency is the percentage of documents that a particular word appears in and Inverse Document Frequency is just 1/Document Frequency.\n",
    "\n",
    "Combining, TF-IDF = Term Frequency * Inverse Document Frequency or TF-IDF = Term Frequency / Document Frequency\n",
    "\n",
    "The intuition is that the words that have high weight are those that either appear frequently in this document or appear rarely in other documents (and are therefore unique to this document).  \n",
    "\n",
    "This is a good alternative to using a static set of “stop” words.\n",
    "```(python)\n",
    "from sklearn.feature_extraction.text import TfidfVectorizer\n",
    "vectorizer = TfidfVectorizer()\n",
    "```"
   ]
  },
  {
   "cell_type": "markdown",
   "metadata": {},
   "source": [
    "## 3. Build a random forest model to predict words\n",
    "\n",
    "We may want to build a **predictive text box**, the way Google does it on their Web page. In that case, the **independent variable** is a partial (incomplete) sequence, and the **dependent variable** (y) is a word: \n",
    "```(python)\n",
    "from sklearn.ensemble import RandomForestClassifier\n",
    "model = RandomForestClassifier(n_estimators = 20)\n",
    "\n",
    "# Use `fit` to learn the vocabulary of the titles (titles is a vector of sentences)\n",
    "titles = data['title'].fillna('')\n",
    "vectorizer.fit(titles)\n",
    "\n",
    "# Use `tranform` to generate the sample x word matrix - one column per feature (word or n-grams)\n",
    "X = vectorizer.transform(titles)\n",
    "\n",
    "# learn\n",
    "y = data['label']\n",
    "model.fit(X, y)\n",
    "\n",
    "from sklearn.cross_validation import cross_val_score\n",
    "scores = cross_val_score(model, X, y, scoring='roc_auc')\n",
    "print('CV AUC {}, Average AUC {}'.format(scores, scores.mean()))\n",
    "```"
   ]
  },
  {
   "cell_type": "markdown",
   "metadata": {},
   "source": [
    "## 4. *More* than Binary: Vectorization\n",
    "\n",
    "When building a machine learning model, we typically must transform our data into **numeric** features. We already talked about the simple example of creating a binary feature (0 or 1, True or False) per word.If you do this in ***multiple dimensions***, then this process of transforming non-numeric data into numeric features is called [**vectorization**](https://en.wikipedia.org/wiki/Word_embedding). \n",
    "\n",
    "### Install TextBlob\n",
    "\n",
    "This is an **introductory** class to Data Science. So we learn the ***simplest*** things (sometimes you think professor is crazy because GPs are not the simplest things). But when you'll start working you will understand that professor was very gentle on you, teaching you the simplest things, first!\n",
    "\n",
    "The `TextBlob` Python library provides a simplified interface for exploring common NLP tasks including `part-of-speech tagging`, `noun phrase extraction`, `sentiment analysis`, `classification`, `translation`, and more. Another popular python NLP library is [Spacy](https://spacy.io).\n",
    "\n",
    "First, install TextBlob.\n",
    "\n",
    "**To install textblob run:**\n",
    "\n",
    "> `conda install -c conda-forge textblob`\n",
    "\n",
    "**Or:**\n",
    "\n",
    "> `pip install textblob`\n",
    "\n",
    "> `python -m textblob.download_corpora lite`"
   ]
  },
  {
   "cell_type": "markdown",
   "metadata": {},
   "source": [
    "## 5. Classic NLP use case: Yelp reviews and spam filtering\n",
    "\n",
    "A [corpus](https://en.wikipedia.org/wiki/Corpus) is a collection of documents (derived from the Latin word for \"body\"). **corpora** is the plural form of corpus. We'll use a CountVectorizer on the yelp dataset on blackboard. [Here](http://scikit-learn.org/stable/modules/generated/sklearn.feature_extraction.text.CountVectorizer.html) is CountVectorizer's documentation."
   ]
  },
  {
   "cell_type": "code",
   "execution_count": 290,
   "metadata": {},
   "outputs": [],
   "source": [
    "import pandas as pd\n",
    "import numpy as np\n",
    "import scipy as sp\n",
    "from sklearn.model_selection import train_test_split\n",
    "from sklearn.feature_extraction.text import CountVectorizer, TfidfVectorizer\n",
    "from sklearn.naive_bayes import MultinomialNB         # Naive Bayes\n",
    "from sklearn.linear_model import LogisticRegression\n",
    "from sklearn import metrics\n",
    "from textblob import TextBlob, Word\n",
    "from nltk.stem.snowball import SnowballStemmer\n",
    "\n",
    "%matplotlib inline"
   ]
  },
  {
   "cell_type": "code",
   "execution_count": 291,
   "metadata": {},
   "outputs": [],
   "source": [
    "# Read yelp.csv into a DataFrame.\n",
    "path = r'data/yelp.csv'\n",
    "yelp = pd.read_csv(path)\n",
    "\n",
    "# Create a new DataFrame that only contains the 5-star (good) and 1-star (bad) reviews\n",
    "yelp_best_worst = yelp[(yelp.stars==5) | (yelp.stars==1)]\n",
    "\n",
    "# Define X and y.\n",
    "X = yelp_best_worst.text\n",
    "y = yelp_best_worst.stars\n",
    "\n",
    "# Split the new DataFrame into training and testing sets.\n",
    "X_train, X_test, y_train, y_test = train_test_split(X, y, random_state=1)"
   ]
  },
  {
   "cell_type": "code",
   "execution_count": 292,
   "metadata": {},
   "outputs": [
    {
     "data": {
      "text/html": [
       "<div>\n",
       "<style scoped>\n",
       "    .dataframe tbody tr th:only-of-type {\n",
       "        vertical-align: middle;\n",
       "    }\n",
       "\n",
       "    .dataframe tbody tr th {\n",
       "        vertical-align: top;\n",
       "    }\n",
       "\n",
       "    .dataframe thead th {\n",
       "        text-align: right;\n",
       "    }\n",
       "</style>\n",
       "<table border=\"1\" class=\"dataframe\">\n",
       "  <thead>\n",
       "    <tr style=\"text-align: right;\">\n",
       "      <th></th>\n",
       "      <th>business_id</th>\n",
       "      <th>date</th>\n",
       "      <th>review_id</th>\n",
       "      <th>stars</th>\n",
       "      <th>text</th>\n",
       "      <th>type</th>\n",
       "      <th>user_id</th>\n",
       "      <th>cool</th>\n",
       "      <th>useful</th>\n",
       "      <th>funny</th>\n",
       "    </tr>\n",
       "  </thead>\n",
       "  <tbody>\n",
       "    <tr>\n",
       "      <th>0</th>\n",
       "      <td>9yKzy9PApeiPPOUJEtnvkg</td>\n",
       "      <td>2011-01-26</td>\n",
       "      <td>fWKvX83p0-ka4JS3dc6E5A</td>\n",
       "      <td>5</td>\n",
       "      <td>My wife took me here on my birthday for breakfast and it was excellent.  The weather was perfect which made sitting ...</td>\n",
       "      <td>review</td>\n",
       "      <td>rLtl8ZkDX5vH5nAx9C3q5Q</td>\n",
       "      <td>2</td>\n",
       "      <td>5</td>\n",
       "      <td>0</td>\n",
       "    </tr>\n",
       "    <tr>\n",
       "      <th>1</th>\n",
       "      <td>ZRJwVLyzEJq1VAihDhYiow</td>\n",
       "      <td>2011-07-27</td>\n",
       "      <td>IjZ33sJrzXqU-0X6U8NwyA</td>\n",
       "      <td>5</td>\n",
       "      <td>I have no idea why some people give bad reviews about this place. It goes to show you, you can please everyone. They...</td>\n",
       "      <td>review</td>\n",
       "      <td>0a2KyEL0d3Yb1V6aivbIuQ</td>\n",
       "      <td>0</td>\n",
       "      <td>0</td>\n",
       "      <td>0</td>\n",
       "    </tr>\n",
       "    <tr>\n",
       "      <th>2</th>\n",
       "      <td>6oRAC4uyJCsJl1X0WZpVSA</td>\n",
       "      <td>2012-06-14</td>\n",
       "      <td>IESLBzqUCLdSzSqm0eCSxQ</td>\n",
       "      <td>4</td>\n",
       "      <td>love the gyro plate. Rice is so good and I also dig their candy selection :)</td>\n",
       "      <td>review</td>\n",
       "      <td>0hT2KtfLiobPvh6cDC8JQg</td>\n",
       "      <td>0</td>\n",
       "      <td>1</td>\n",
       "      <td>0</td>\n",
       "    </tr>\n",
       "    <tr>\n",
       "      <th>3</th>\n",
       "      <td>_1QQZuf4zZOyFCvXc0o6Vg</td>\n",
       "      <td>2010-05-27</td>\n",
       "      <td>G-WvGaISbqqaMHlNnByodA</td>\n",
       "      <td>5</td>\n",
       "      <td>Rosie, Dakota, and I LOVE Chaparral Dog Park!!! It's very convenient and surrounded by a lot of paths, a desert xeri...</td>\n",
       "      <td>review</td>\n",
       "      <td>uZetl9T0NcROGOyFfughhg</td>\n",
       "      <td>1</td>\n",
       "      <td>2</td>\n",
       "      <td>0</td>\n",
       "    </tr>\n",
       "    <tr>\n",
       "      <th>4</th>\n",
       "      <td>6ozycU1RpktNG2-1BroVtw</td>\n",
       "      <td>2012-01-05</td>\n",
       "      <td>1uJFq2r5QfJG_6ExMRCaGw</td>\n",
       "      <td>5</td>\n",
       "      <td>General Manager Scott Petello is a good egg!!! Not to go into detail, but let me assure you if you have any issues (...</td>\n",
       "      <td>review</td>\n",
       "      <td>vYmM4KTsC8ZfQBg-j5MWkw</td>\n",
       "      <td>0</td>\n",
       "      <td>0</td>\n",
       "      <td>0</td>\n",
       "    </tr>\n",
       "  </tbody>\n",
       "</table>\n",
       "</div>"
      ],
      "text/plain": [
       "              business_id        date               review_id  stars  \\\n",
       "0  9yKzy9PApeiPPOUJEtnvkg  2011-01-26  fWKvX83p0-ka4JS3dc6E5A      5   \n",
       "1  ZRJwVLyzEJq1VAihDhYiow  2011-07-27  IjZ33sJrzXqU-0X6U8NwyA      5   \n",
       "2  6oRAC4uyJCsJl1X0WZpVSA  2012-06-14  IESLBzqUCLdSzSqm0eCSxQ      4   \n",
       "3  _1QQZuf4zZOyFCvXc0o6Vg  2010-05-27  G-WvGaISbqqaMHlNnByodA      5   \n",
       "4  6ozycU1RpktNG2-1BroVtw  2012-01-05  1uJFq2r5QfJG_6ExMRCaGw      5   \n",
       "\n",
       "                                                                                                                      text  \\\n",
       "0  My wife took me here on my birthday for breakfast and it was excellent.  The weather was perfect which made sitting ...   \n",
       "1  I have no idea why some people give bad reviews about this place. It goes to show you, you can please everyone. They...   \n",
       "2                                             love the gyro plate. Rice is so good and I also dig their candy selection :)   \n",
       "3  Rosie, Dakota, and I LOVE Chaparral Dog Park!!! It's very convenient and surrounded by a lot of paths, a desert xeri...   \n",
       "4  General Manager Scott Petello is a good egg!!! Not to go into detail, but let me assure you if you have any issues (...   \n",
       "\n",
       "     type                 user_id  cool  useful  funny  \n",
       "0  review  rLtl8ZkDX5vH5nAx9C3q5Q     2       5      0  \n",
       "1  review  0a2KyEL0d3Yb1V6aivbIuQ     0       0      0  \n",
       "2  review  0hT2KtfLiobPvh6cDC8JQg     0       1      0  \n",
       "3  review  uZetl9T0NcROGOyFfughhg     1       2      0  \n",
       "4  review  vYmM4KTsC8ZfQBg-j5MWkw     0       0      0  "
      ]
     },
     "execution_count": 292,
     "metadata": {},
     "output_type": "execute_result"
    }
   ],
   "source": [
    "# Head of the original data\n",
    "yelp.head()"
   ]
  },
  {
   "cell_type": "markdown",
   "metadata": {},
   "source": [
    "A [document-term matrix](https://en.wikipedia.org/wiki/Document-term_matrix) is a mathematical matrix that describes the **frequency** of **terms** (words) that occur in a collection of documents. In a document-term matrix, **rows** correspond to **documents** in the collection and **columns** correspond to **terms**. \n",
    "\n",
    "`CountVectorizer` has a `fit()` and a `transform()` method to create a document-term matrix from text.\n",
    "\n",
    "> `CountVectorizer`'s `fit()` method, when applied to the training dataset, learns model parameters (for example, mean and standard deviation). We then need to apply the `transform()` method on the training dataset to get the transformed (scaled) training dataset. We could also perform both of this steps in one step by applying `fit_transform()` on the training dataset.\n",
    "\n",
    ">Then why do we need 2 separate methods: `fit()` and `transform()` ?\n",
    "\n",
    ">In practice we need to have a separate training and testing dataset and that is where having a separate fit and transform method helps. We apply `fit()` on the training dataset and use the `transform()` method on both - the training dataset and the test dataset. Thus the training as well as the test dataset are then transformed (scaled) using model parameters that were learnt by applying the `fit()` method on the training dataset."
   ]
  },
  {
   "cell_type": "code",
   "execution_count": 293,
   "metadata": {},
   "outputs": [],
   "source": [
    "# Use CountVectorizer to create document-term matrices from X_train and X_test\n",
    "vect = CountVectorizer()\n",
    "X_train_dtm = vect.fit_transform(X_train)\n",
    "X_test_dtm = vect.transform(X_test)"
   ]
  },
  {
   "cell_type": "code",
   "execution_count": 294,
   "metadata": {},
   "outputs": [
    {
     "data": {
      "text/plain": [
       "(3064, 16825)"
      ]
     },
     "execution_count": 294,
     "metadata": {},
     "output_type": "execute_result"
    }
   ],
   "source": [
    "# Rows are documents, columns are terms (aka \"tokens\" or \"features\", individual words in this situation)\n",
    "X_train_dtm.shape"
   ]
  },
  {
   "cell_type": "code",
   "execution_count": 296,
   "metadata": {},
   "outputs": [
    {
     "name": "stdout",
     "output_type": "stream",
     "text": [
      "['yyyyy', 'z11', 'za', 'zabba', 'zach', 'zam', 'zanella', 'zankou', 'zappos', 'zatsiki', 'zen', 'zero', 'zest', 'zexperience', 'zha', 'zhou', 'zia', 'zihuatenejo', 'zilch', 'zin', 'zinburger', 'zinburgergeist', 'zinc', 'zinfandel', 'zing', 'zip', 'zipcar', 'zipper', 'zippers', 'zipps', 'ziti', 'zoe', 'zombi', 'zombies', 'zone', 'zones', 'zoning', 'zoo', 'zoyo', 'zucca', 'zucchini', 'zuchinni', 'zumba', 'zupa', 'zuzu', 'zwiebel', 'zzed', 'éclairs', 'école', 'ém']\n"
     ]
    }
   ],
   "source": [
    "# Last 50 features\n",
    "print((vect.get_feature_names()[-50:]))"
   ]
  },
  {
   "cell_type": "code",
   "execution_count": 297,
   "metadata": {},
   "outputs": [
    {
     "data": {
      "text/plain": [
       "CountVectorizer(analyzer='word', binary=False, decode_error='strict',\n",
       "                dtype=<class 'numpy.int64'>, encoding='utf-8', input='content',\n",
       "                lowercase=True, max_df=1.0, max_features=None, min_df=1,\n",
       "                ngram_range=(1, 1), preprocessor=None, stop_words=None,\n",
       "                strip_accents=None, token_pattern='(?u)\\\\b\\\\w\\\\w+\\\\b',\n",
       "                tokenizer=None, vocabulary=None)"
      ]
     },
     "execution_count": 297,
     "metadata": {},
     "output_type": "execute_result"
    }
   ],
   "source": [
    "# Show vectorizer options.\n",
    "vect"
   ]
  },
  {
   "cell_type": "markdown",
   "metadata": {},
   "source": [
    "When building models, **dimensionality reduction** is paramount. Brain cells, whether natural are artificial are *limited*!\n",
    "\n",
    "One common method of reducing the number of features is converting all text to lowercase before generating features! Note that to a computer, `aPPle` is a different token/\"word\" than `apple`. So, by converting both to lowercase letters, it ensures fewer features will be generated. \n",
    "\n",
    "Sometimes though, when capitalization matters, it is better ***not*** to convert them to lowercase:"
   ]
  },
  {
   "cell_type": "code",
   "execution_count": 298,
   "metadata": {},
   "outputs": [
    {
     "data": {
      "text/plain": [
       "['Z11',\n",
       " 'ZERO',\n",
       " 'ZExperience',\n",
       " 'ZIA',\n",
       " 'ZIn',\n",
       " 'Zabba',\n",
       " 'Zach',\n",
       " 'Zam',\n",
       " 'Zanella',\n",
       " 'Zankou',\n",
       " 'Zappos',\n",
       " 'Zatsiki',\n",
       " 'Zen',\n",
       " 'Zero',\n",
       " 'Zha',\n",
       " 'Zihuatenejo',\n",
       " 'Zinburger',\n",
       " 'Zinburgergeist',\n",
       " 'Zinfandel',\n",
       " 'Zipcar',\n",
       " 'Zippers',\n",
       " 'Zipps',\n",
       " 'Ziti',\n",
       " 'Zoe',\n",
       " 'Zombi',\n",
       " 'Zombies',\n",
       " 'Zoo',\n",
       " 'Zoyo',\n",
       " 'ZuZu',\n",
       " 'Zucca',\n",
       " 'Zumba']"
      ]
     },
     "execution_count": 298,
     "metadata": {},
     "output_type": "execute_result"
    }
   ],
   "source": [
    "# Don't convert to lowercase.\n",
    "vect = CountVectorizer(lowercase=False)\n",
    "X_train_dtm = vect.fit_transform(X_train)\n",
    "X_train_dtm.shape\n",
    "[word for word in vect.get_feature_names() if word.startswith('Z')]"
   ]
  },
  {
   "cell_type": "markdown",
   "metadata": {},
   "source": [
    "### Naive Bayes\n",
    "\n",
    "Let's use [Naive Bayes](https://en.wikipedia.org/wiki/Naive_Bayes_classifier) to predict star rating. Naive Bayes is a simple probabilistic classifier based on applying Bayes' theorem with strong (naïve) independence assumptions between the features. We'll first learn star rating. Then we'll be able to predict just by reading a review.\n",
    "\n",
    "Naive Bayes is a popular classifier because it has minimal storage requirements, is fast, can be tuned easily with more data and has found very useful applications in text classificaton. Paul Graham originally proposed using Naive Bayes to detect spam in his [Plan for Spam](http://www.paulgraham.com/spam.html).\n",
    "\n",
    ">**NOTE**: The ***naive*** assumption of Naive Bayes, that features are **conditionally independent**, that the normalization constant (the denominator) can be ignored since it's the same for all classes, and that t The prior probability is much less relevant once you have a lot of features are ***critical*** to making these calculations simple\n",
    "\n",
    "Recall that Bayes is all about adjusting probabilities as more data is gathered:\n",
    "\n",
    "$$P(A \\ | \\ B) = \\frac {P(B \\ | \\ A) \\times P(A)} {P(B)}$$\n",
    "\n",
    "- **$P(A \\ | \\ B)$** : Probability of `Event A` occurring given `Event B` has occurred.\n",
    "- **$P(B \\ | \\ A)$** : Probability of `Event B` occurring given `Event A` has occurred.\n",
    "- **$P(A)$** : Probability of `Event A` occurring.\n",
    "- **$P(B)$** : Probability of `Event B` occurring.\n",
    "\n",
    "Advantages of Naive Bayes are:\n",
    "\n",
    "- Model training and prediction are very fast.\n",
    "- It's somewhat interpretable.\n",
    "- No tuning is required.\n",
    "- Features don't need scaling.\n",
    "- It's insensitive to irrelevant features (with enough observations).\n",
    "- It performs better than logistic regression when the training set is very small.\n",
    "\n",
    "Disadvantages of Naive Bayes are:\n",
    "\n",
    "- If \"spam\" is dependent on non-independent combinations of individual words, it may not work well.\n",
    "- Predicted probabilities are not well calibrated.\n",
    "- Correlated features can be problematic (due to the independence assumption).\n",
    "- It can't handle negative features (with Multinomial Naive Bayes).\n",
    "- It has a higher \"asymptotic error\" than logistic regression."
   ]
  },
  {
   "cell_type": "markdown",
   "metadata": {},
   "source": [
    "### How it works\n",
    "\n",
    "Let's pretend we have an email with three words: \"Send money now.\" We'll use Naive Bayes to classify it as **ham or spam** (*ham* means not spam; it can include emails that look like spam but you opt into).\n",
    "\n",
    "$$P(spam \\ | \\ \\text{send money now}) = \\frac {P(\\text{send money now} \\ | \\ spam) \\times P(spam)} {P(\\text{send money now})}$$\n",
    "\n",
    "By assuming that features (words) are **conditionally independent**, we can simplify the likelihood function:\n",
    "\n",
    "$$P(spam \\ | \\ \\text{send money now}) \\approx \\frac {P(\\text{send} \\ | \\ spam) \\times P(\\text{money} \\ | \\ spam) \\times P(\\text{now} \\ | \\ spam) \\times P(spam)} {P(\\text{send money now})}$$\n",
    "\n",
    "Note that each conditional probability in the numerator is easily calculated directly from training data!\n",
    "\n",
    "So, we can calculate all of the values in the numerator by examining a corpus of spam email:\n",
    "\n",
    "$$P(spam \\ | \\ \\text{send money now}) \\approx \\frac {0.2 \\times 0.1 \\times 0.1 \\times 0.9} {P(\\text{send money now})} = \\frac {0.0018} {P(\\text{send money now})}$$\n",
    "\n",
    "Now repeat this process with a corpus of ham email:\n",
    "\n",
    "$$P(ham \\ | \\ \\text{send money now}) \\approx \\frac {0.05 \\times 0.01 \\times 0.1 \\times 0.1} {P(\\text{send money now})} = \\frac {0.000005} {P(\\text{send money now})}$$\n",
    "\n",
    "All we care about is whether spam or ham has the higher probability, $P(\\text{send money now}))$ is the same on both equations, and so we predict that the email is spam!"
   ]
  },
  {
   "cell_type": "code",
   "execution_count": 299,
   "metadata": {},
   "outputs": [
    {
     "name": "stdout",
     "output_type": "stream",
     "text": [
      "0.9187866927592955\n"
     ]
    }
   ],
   "source": [
    "# Use default options for CountVectorizer\n",
    "vect = CountVectorizer()\n",
    "\n",
    "# Create document-term matrices\n",
    "X_train_dtm = vect.fit_transform(X_train)\n",
    "X_test_dtm = vect.transform(X_test)\n",
    "\n",
    "# Use Naive Bayes to predict the star rating\n",
    "nb = MultinomialNB()\n",
    "nb.fit(X_train_dtm, y_train)\n",
    "y_pred_class = nb.predict(X_test_dtm)\n",
    "\n",
    "# Calculate accuracy\n",
    "print((metrics.accuracy_score(y_test, y_pred_class)))"
   ]
  },
  {
   "cell_type": "code",
   "execution_count": 300,
   "metadata": {},
   "outputs": [
    {
     "data": {
      "text/plain": [
       "5    838\n",
       "1    184\n",
       "Name: stars, dtype: int64"
      ]
     },
     "execution_count": 300,
     "metadata": {},
     "output_type": "execute_result"
    }
   ],
   "source": [
    "y_test.value_counts()"
   ]
  },
  {
   "cell_type": "code",
   "execution_count": 301,
   "metadata": {},
   "outputs": [
    {
     "data": {
      "text/plain": [
       "5    0.819961\n",
       "1    0.180039\n",
       "Name: stars, dtype: float64"
      ]
     },
     "execution_count": 301,
     "metadata": {},
     "output_type": "execute_result"
    }
   ],
   "source": [
    "y_test.value_counts(normalize=True)"
   ]
  },
  {
   "cell_type": "code",
   "execution_count": 302,
   "metadata": {},
   "outputs": [
    {
     "name": "stdout",
     "output_type": "stream",
     "text": [
      "Percent 5 Stars: 0.8199608610567515\n",
      "Percent 1 Stars: 0.18003913894324852\n"
     ]
    }
   ],
   "source": [
    "# Calculate null accuracy.\n",
    "y_test_binary = np.where(y_test==5, 1, 0) # five stars become 1, one stars become 0\n",
    "print('Percent 5 Stars:', y_test_binary.mean())\n",
    "print('Percent 1 Stars:', 1 - y_test_binary.mean())"
   ]
  },
  {
   "cell_type": "markdown",
   "metadata": {},
   "source": [
    " Notice how the data was transformed into this sparse matrix with 1,022 datapoints and 16,825 features:\n",
    "   - Recall that vectorizations of text will be **mostly zeros**, since only a few unique words are in each document.\n",
    "   - For that reason, instead of storing all the zeros we only store non-zero values (inside the 'sparse matrix' data structure!)\n",
    "   - We have 3064 Yelp reviews in our training set\n",
    "   - 16,825 unique words were found across all documents"
   ]
  },
  {
   "cell_type": "code",
   "execution_count": 303,
   "metadata": {},
   "outputs": [
    {
     "data": {
      "text/plain": [
       "<3064x16825 sparse matrix of type '<class 'numpy.int64'>'\n",
       "\twith 237720 stored elements in Compressed Sparse Row format>"
      ]
     },
     "execution_count": 303,
     "metadata": {},
     "output_type": "execute_result"
    }
   ],
   "source": [
    "X_train_dtm"
   ]
  },
  {
   "cell_type": "markdown",
   "metadata": {},
   "source": [
    "Let's take a look at the vocabulary that was generated, containing 16,825 unique words. 'vocabulary_' is a dictionary that converts each word to its index in the sparse matrix. For example, the word `only` is index \\#10362 in the sparse matrix."
   ]
  },
  {
   "cell_type": "code",
   "execution_count": null,
   "metadata": {},
   "outputs": [],
   "source": [
    "vect."
   ]
  },
  {
   "cell_type": "code",
   "execution_count": 19,
   "metadata": {},
   "outputs": [
    {
     "data": {
      "text/plain": [
       "{'filly': 5773,\n",
       " 'only': 10362,\n",
       " 'reviews': 12465,\n",
       " 'nine': 10069,\n",
       " 'now': 10180,\n",
       " 'wow': 16612,\n",
       " 'do': 4631,\n",
       " 'miss': 9578,\n",
       " 'this': 15093,\n",
       " 'place': 11186,\n",
       " '24hrs': 136,\n",
       " 'drive': 4809,\n",
       " 'thru': 15136,\n",
       " 'or': 10413,\n",
       " 'walk': 16195,\n",
       " 'up': 15834,\n",
       " 'ridiculously': 12514,\n",
       " 'cheap': 2789,\n",
       " 'tasty': 14838,\n",
       " 'of': 10286,\n",
       " 'course': 3679,\n",
       " 'the': 15032,\n",
       " 'arizona': 1018,\n",
       " 'burritos': 2286,\n",
       " 'are': 1003,\n",
       " 'good': 6571,\n",
       " 'everything': 5342,\n",
       " 'is': 7956,\n",
       " 'used': 15885,\n",
       " 'to': 15228,\n",
       " 'love': 8899,\n",
       " 'one': 10354,\n",
       " 'combos': 3233,\n",
       " 'you': 16727,\n",
       " 'get': 6433,\n",
       " 'beef': 1564,\n",
       " 'burrito': 2285,\n",
       " 'taco': 14720,\n",
       " 'rice': 12489,\n",
       " 'and': 805,\n",
       " 'beans': 1528,\n",
       " 'for': 6028,\n",
       " 'under': 15683,\n",
       " 'color': 3213,\n",
       " 'me': 9301,\n",
       " 'silly': 13462,\n",
       " 'call': 2398,\n",
       " 'sally': 12808,\n",
       " 'they': 15067,\n",
       " 'have': 7023,\n",
       " 'bomb': 1902,\n",
       " 'horchata': 7345,\n",
       " 'too': 15281,\n",
       " 'really': 12038,\n",
       " 'fresh': 6154,\n",
       " 'flautas': 5882,\n",
       " 'rolled': 12622,\n",
       " 'tacos': 14721,\n",
       " 'breakfast': 2069,\n",
       " 'damn': 3999,\n",
       " 'here': 7149,\n",
       " 'whether': 16394,\n",
       " 'drunk': 4837,\n",
       " 'sober': 13745,\n",
       " 'my': 9868,\n",
       " 'husband': 7476,\n",
       " 'absolutely': 353,\n",
       " 'restaurant': 12410,\n",
       " 'anytime': 889,\n",
       " 'find': 5790,\n",
       " 'myself': 9871,\n",
       " 'craving': 3757,\n",
       " 'mexican': 9440,\n",
       " 'food': 6006,\n",
       " 'first': 5828,\n",
       " 'that': 15027,\n",
       " 'pops': 11347,\n",
       " 'in': 7619,\n",
       " 'head': 7042,\n",
       " 'salsa': 12814,\n",
       " 'blanca': 1780,\n",
       " 'we': 16306,\n",
       " 'always': 735,\n",
       " 'encountered': 5144,\n",
       " 'friendly': 6171,\n",
       " 'welcoming': 16355,\n",
       " 'staff': 14107,\n",
       " 'amazing': 752,\n",
       " 'fulfilling': 6251,\n",
       " 'what': 16377,\n",
       " 'more': 9735,\n",
       " 'could': 3655,\n",
       " 'ask': 1101,\n",
       " 'went': 16361,\n",
       " 'today': 15237,\n",
       " 'after': 563,\n",
       " 'lunch': 8945,\n",
       " 'got': 6605,\n",
       " 'usual': 15893,\n",
       " 'lime': 8707,\n",
       " 'basil': 1477,\n",
       " 'real': 12029,\n",
       " 'mint': 9540,\n",
       " 'chip': 2896,\n",
       " 'which': 16396,\n",
       " 'leaves': 8570,\n",
       " 'hubby': 7420,\n",
       " 'chocolate': 2914,\n",
       " 'guiness': 6820,\n",
       " 'four': 6089,\n",
       " 'peaks': 10866,\n",
       " 'hop': 7329,\n",
       " 'knot': 8348,\n",
       " 'best': 1657,\n",
       " 'ice': 7503,\n",
       " 'cream': 3766,\n",
       " 'phoenix': 11045,\n",
       " 'super': 14545,\n",
       " 'nice': 10041,\n",
       " 'give': 6481,\n",
       " 'us': 15879,\n",
       " 'bags': 1345,\n",
       " 'take': 14743,\n",
       " 'our': 10493,\n",
       " 'home': 7283,\n",
       " 'totally': 15327,\n",
       " 'dissapointed': 4585,\n",
       " 'had': 6868,\n",
       " 'purchased': 11785,\n",
       " 'coupon': 3676,\n",
       " 'from': 6195,\n",
       " 'travelzoo': 15435,\n",
       " 'try': 15520,\n",
       " 'out': 10496,\n",
       " 'given': 6483,\n",
       " 'its': 7980,\n",
       " 'location': 8814,\n",
       " 'would': 16606,\n",
       " 'thought': 15104,\n",
       " 'it': 7971,\n",
       " 'was': 16252,\n",
       " 'going': 6551,\n",
       " 'be': 1522,\n",
       " 'very': 16032,\n",
       " 'upscale': 15861,\n",
       " 'were': 16362,\n",
       " 'expecting': 5440,\n",
       " 'whole': 16429,\n",
       " 'lot': 8881,\n",
       " 'service': 13193,\n",
       " 'great': 6693,\n",
       " 'but': 2312,\n",
       " 'not': 10148,\n",
       " 'worth': 16601,\n",
       " 'itself': 7981,\n",
       " 'outdated': 10500,\n",
       " '80': 284,\n",
       " 'crab': 3721,\n",
       " 'cakes': 2387,\n",
       " 'appertizer': 933,\n",
       " 'cold': 3192,\n",
       " 'when': 16389,\n",
       " 'served': 13188,\n",
       " 'told': 15254,\n",
       " 'waiter': 16181,\n",
       " 'who': 16425,\n",
       " 'turn': 15556,\n",
       " 'chef': 2828,\n",
       " 'message': 9416,\n",
       " 'passed': 10776,\n",
       " 'back': 1310,\n",
       " 'she': 13272,\n",
       " 'appologized': 957,\n",
       " 'ordred': 10434,\n",
       " '12oz': 52,\n",
       " 'new': 10013,\n",
       " 'york': 16724,\n",
       " 'strip': 14358,\n",
       " 'ala': 646,\n",
       " 'carte': 2573,\n",
       " '29': 153,\n",
       " '95': 307,\n",
       " 'oz': 10602,\n",
       " 'pure': 11789,\n",
       " 'fat': 5622,\n",
       " 'price': 11555,\n",
       " 'expect': 5435,\n",
       " 'meat': 9318,\n",
       " 'than': 15015,\n",
       " 'ordered': 10428,\n",
       " 'wild': 16461,\n",
       " 'mushroom': 9844,\n",
       " 'pizza': 11174,\n",
       " 'ok': 10322,\n",
       " 'needs': 9972,\n",
       " 'an': 797,\n",
       " 'over': 10532,\n",
       " 'haul': 7014,\n",
       " 'major': 9048,\n",
       " 'way': 16300,\n",
       " 'if': 7534,\n",
       " 'want': 16220,\n",
       " 'make': 9051,\n",
       " 'any': 879,\n",
       " 'money': 9689,\n",
       " 'at': 1157,\n",
       " 'saturday': 12905,\n",
       " 'night': 10052,\n",
       " '7pm': 282,\n",
       " 'empty': 5125,\n",
       " 'think': 15082,\n",
       " 'highlight': 7186,\n",
       " 'meal': 9303,\n",
       " 'bottle': 1981,\n",
       " 'cabinet': 2365,\n",
       " 'costco': 3635,\n",
       " 'travel': 15428,\n",
       " 'recently': 12073,\n",
       " 'returned': 12444,\n",
       " 'trip': 15483,\n",
       " 'big': 1704,\n",
       " 'island': 7958,\n",
       " 'hi': 7168,\n",
       " 'arranged': 1038,\n",
       " 'throught': 15130,\n",
       " 'shopping': 13361,\n",
       " 'around': 1033,\n",
       " 'found': 6083,\n",
       " 'their': 15039,\n",
       " 'prices': 11559,\n",
       " 'phone': 11049,\n",
       " 'able': 340,\n",
       " 'all': 679,\n",
       " 'arrangements': 1040,\n",
       " 'airfair': 621,\n",
       " 'condo': 3394,\n",
       " 'car': 2505,\n",
       " 'didn': 4411,\n",
       " 'with': 16526,\n",
       " 'bs': 2197,\n",
       " 'on': 10352,\n",
       " 'hilo': 7206,\n",
       " 'adjust': 485,\n",
       " 'dates': 4053,\n",
       " 'according': 398,\n",
       " 'plan': 11196,\n",
       " 'being': 1599,\n",
       " 'accurate': 405,\n",
       " 'outstanding': 10527,\n",
       " 'value': 15939,\n",
       " 'gas': 6356,\n",
       " 'did': 4409,\n",
       " 'some': 13798,\n",
       " 'souvenier': 13885,\n",
       " 'kona': 8363,\n",
       " 'again': 573,\n",
       " 'saved': 12923,\n",
       " 've': 15968,\n",
       " 'shopped': 13358,\n",
       " 'years': 16679,\n",
       " 'becoming': 1555,\n",
       " 'groupie': 6766,\n",
       " 'been': 1567,\n",
       " 'couple': 3672,\n",
       " 'there': 15057,\n",
       " 'advantages': 520,\n",
       " 'rarely': 11967,\n",
       " 'busy': 2311,\n",
       " 'larger': 8478,\n",
       " 'groups': 6770,\n",
       " 'last': 8490,\n",
       " 'few': 5720,\n",
       " 'times': 15190,\n",
       " 'experienced': 5448,\n",
       " 'average': 1253,\n",
       " 'lousy': 8897,\n",
       " 'joining': 8119,\n",
       " 'already': 719,\n",
       " 'seated': 13085,\n",
       " 'group': 6765,\n",
       " '28': 152,\n",
       " 'high': 7181,\n",
       " 'school': 12990,\n",
       " 'hostess': 7369,\n",
       " 'wagged': 16174,\n",
       " 'her': 7142,\n",
       " 'finger': 5800,\n",
       " 'face': 5528,\n",
       " 'like': 8695,\n",
       " 'east': 4943,\n",
       " 'german': 6428,\n",
       " 'border': 1953,\n",
       " 'guard': 6800,\n",
       " 'waffle': 16169,\n",
       " 'house': 7390,\n",
       " 'waitress': 16184,\n",
       " 'poked': 11295,\n",
       " 'shoulder': 13376,\n",
       " 'attention': 1197,\n",
       " 'wife': 16449,\n",
       " 'chicken': 2855,\n",
       " 'dish': 4540,\n",
       " 'sent': 13162,\n",
       " 'as': 1080,\n",
       " 'measly': 9314,\n",
       " 'pieces': 11099,\n",
       " 'beers': 1571,\n",
       " 'tap': 14792,\n",
       " 'garbage': 6337,\n",
       " 'muffler': 9815,\n",
       " 'shop': 13354,\n",
       " 'town': 15357,\n",
       " 'shops': 13362,\n",
       " 'trust': 15513,\n",
       " 'mighty': 9482,\n",
       " 'them': 15042,\n",
       " 'greg': 6714,\n",
       " 'has': 6999,\n",
       " 'worked': 16580,\n",
       " 'multiple': 9824,\n",
       " 'cars': 2571,\n",
       " 'done': 4687,\n",
       " 'job': 8105,\n",
       " 'ever': 5333,\n",
       " 'issues': 7968,\n",
       " 'he': 7041,\n",
       " 'takes': 14748,\n",
       " 'care': 2525,\n",
       " 'problem': 11605,\n",
       " 'no': 10084,\n",
       " 'questions': 11856,\n",
       " 'asked': 1102,\n",
       " 'just': 8189,\n",
       " 'start': 14159,\n",
       " 'off': 10287,\n",
       " 'by': 2346,\n",
       " 'saying': 12940,\n",
       " 'egg': 5023,\n",
       " 'salad': 12788,\n",
       " 'sandwiches': 12862,\n",
       " 'probably': 11603,\n",
       " 'tried': 15473,\n",
       " 'sandwich': 12860,\n",
       " 'anywhere': 892,\n",
       " 'serves': 13192,\n",
       " 'sacks': 12762,\n",
       " 'far': 5600,\n",
       " 'entitled': 5217,\n",
       " 'dali': 3991,\n",
       " 'life': 8673,\n",
       " 'live': 8775,\n",
       " 'north': 10136,\n",
       " 'will': 16470,\n",
       " 'literally': 8770,\n",
       " 'many': 9120,\n",
       " 'miles': 9493,\n",
       " 'eat': 4949,\n",
       " 'top': 15293,\n",
       " 'wonderful': 16554,\n",
       " 'menu': 9396,\n",
       " 'whenever': 16390,\n",
       " 'order': 10427,\n",
       " 'comes': 3237,\n",
       " 'little': 8773,\n",
       " 'cookie': 3558,\n",
       " 'cookies': 3559,\n",
       " 'can': 2435,\n",
       " 'purchase': 11784,\n",
       " 'dough': 4722,\n",
       " 'also': 721,\n",
       " 'other': 10485,\n",
       " 'delicious': 4220,\n",
       " 'dessert': 4342,\n",
       " 'bars': 1458,\n",
       " 'salads': 12789,\n",
       " 'sale': 12796,\n",
       " 'well': 16356,\n",
       " 'eating': 4958,\n",
       " 'least': 8566,\n",
       " '14': 56,\n",
       " 'hope': 7330,\n",
       " 'never': 10012,\n",
       " 'go': 6532,\n",
       " 'away': 1275,\n",
       " 'saw': 12934,\n",
       " 'triple': 15485,\n",
       " 'so': 13738,\n",
       " 'decided': 4131,\n",
       " 'expectations': 5438,\n",
       " 'arrived': 1048,\n",
       " 'shocked': 13339,\n",
       " 'thursday': 15145,\n",
       " 'morning': 9742,\n",
       " 'line': 8724,\n",
       " 'extra': 5494,\n",
       " 'long': 8842,\n",
       " 'wait': 16179,\n",
       " 'patiently': 10810,\n",
       " 'don': 4682,\n",
       " 'needless': 9971,\n",
       " 'say': 12938,\n",
       " 'because': 1548,\n",
       " 'quickly': 11864,\n",
       " 'pork': 11358,\n",
       " 'chop': 2938,\n",
       " 'eggs': 5030,\n",
       " 'hash': 7000,\n",
       " 'browns': 2168,\n",
       " 'fabulous': 5526,\n",
       " 'toast': 15229,\n",
       " 'made': 8998,\n",
       " 'grape': 6659,\n",
       " 'jelly': 8061,\n",
       " 'recommend': 12097,\n",
       " 'anyone': 885,\n",
       " 'downtown': 4743,\n",
       " 'area': 1004,\n",
       " 'sure': 14583,\n",
       " 'bacon': 1324,\n",
       " 'hit': 7232,\n",
       " 'wine': 16492,\n",
       " 'down': 4732,\n",
       " 'wednesday': 16325,\n",
       " 'happenin': 6955,\n",
       " 'tastings': 14837,\n",
       " 'courtesy': 3685,\n",
       " 'kyot': 8401,\n",
       " 'wrong': 16639,\n",
       " 'event': 5330,\n",
       " 'minutes': 9546,\n",
       " 'maybe': 9272,\n",
       " 'spot': 14035,\n",
       " 'case': 2583,\n",
       " 'hoppin': 7339,\n",
       " 'walked': 16197,\n",
       " 'looks': 8855,\n",
       " 'possibly': 11391,\n",
       " 'manager': 9088,\n",
       " 'owner': 10590,\n",
       " 'then': 15047,\n",
       " 'pointed': 11285,\n",
       " 'towards': 15350,\n",
       " 'room': 12641,\n",
       " 'where': 16391,\n",
       " 'held': 7114,\n",
       " 'about': 343,\n",
       " 'tables': 14711,\n",
       " 'people': 10927,\n",
       " 'talk': 14757,\n",
       " 'early': 4926,\n",
       " 'bird': 1735,\n",
       " 'gets': 6435,\n",
       " 'worm': 16591,\n",
       " 'finish': 5808,\n",
       " 'table': 14709,\n",
       " 'sit': 13510,\n",
       " 'patio': 10812,\n",
       " 'said': 12778,\n",
       " 'yes': 16698,\n",
       " 'right': 12522,\n",
       " 'help': 7124,\n",
       " 'meantime': 9312,\n",
       " 'another': 850,\n",
       " 'woman': 16548,\n",
       " 'friend': 6167,\n",
       " 'took': 15283,\n",
       " 'nearby': 9954,\n",
       " '20': 107,\n",
       " 'later': 8498,\n",
       " 'looking': 8853,\n",
       " 'came': 2417,\n",
       " 'helped': 7125,\n",
       " 'yet': 16701,\n",
       " 'left': 8583,\n",
       " 'return': 12443,\n",
       " 'small': 13638,\n",
       " 'happy': 6963,\n",
       " 'hour': 7388,\n",
       " 'flier': 5905,\n",
       " 'handed': 6914,\n",
       " 'distance': 4592,\n",
       " 'even': 5327,\n",
       " 'come': 3234,\n",
       " 'know': 8351,\n",
       " 're': 12013,\n",
       " 'wondering': 16557,\n",
       " 'why': 16440,\n",
       " '15': 60,\n",
       " 'wanted': 16222,\n",
       " 'see': 13113,\n",
       " 'how': 7404,\n",
       " 'bad': 1326,\n",
       " 'frankly': 6118,\n",
       " 'same': 12833,\n",
       " 'full': 6252,\n",
       " 'detailed': 4352,\n",
       " 'menus': 9398,\n",
       " 'deals': 4093,\n",
       " 'ready': 12028,\n",
       " 'um': 15635,\n",
       " 'gave': 6375,\n",
       " '10': 16,\n",
       " 'seconds': 13096,\n",
       " 'ago': 587,\n",
       " 'enjoy': 5179,\n",
       " 'look': 8851,\n",
       " 'app': 913,\n",
       " 'specialty': 13945,\n",
       " 'appetizer': 938,\n",
       " 'much': 9807,\n",
       " 'whatever': 16378,\n",
       " 'deal': 4087,\n",
       " 'drink': 4801,\n",
       " 'section': 13103,\n",
       " 'claim': 3029,\n",
       " 'glasses': 6497,\n",
       " 'excited': 5387,\n",
       " 'wines': 16493,\n",
       " 'reality': 12031,\n",
       " 'consisted': 3467,\n",
       " 'three': 15116,\n",
       " 'different': 4427,\n",
       " 'weren': 16363,\n",
       " 'women': 16549,\n",
       " 'outside': 10525,\n",
       " 'leave': 8569,\n",
       " 'having': 7026,\n",
       " 'enough': 5189,\n",
       " 'shenanigans': 13295,\n",
       " '30': 162,\n",
       " 'since': 13482,\n",
       " 'next': 10031,\n",
       " 'door': 4699,\n",
       " 'sprouts': 14064,\n",
       " 'apps': 978,\n",
       " 'own': 10588,\n",
       " 'bet': 1660,\n",
       " 'plenty': 11250,\n",
       " 'experiences': 5449,\n",
       " 'continue': 3514,\n",
       " 'visit': 16107,\n",
       " 'happily': 6961,\n",
       " 'experience': 5447,\n",
       " 'caused': 2628,\n",
       " 'write': 16632,\n",
       " 'usually': 15894,\n",
       " 'instance': 7807,\n",
       " 'wish': 16521,\n",
       " 'actually': 447,\n",
       " 'review': 12460,\n",
       " 'poor': 11337,\n",
       " 'substandard': 14446,\n",
       " 'giving': 6486,\n",
       " 'understand': 15696,\n",
       " 'isn': 7962,\n",
       " 'better': 1667,\n",
       " 'talented': 14753,\n",
       " 'others': 10486,\n",
       " 'however': 7407,\n",
       " 'business': 2300,\n",
       " 'should': 13375,\n",
       " 'customer': 3946,\n",
       " 'cliched': 3082,\n",
       " 'less': 8626,\n",
       " 'star': 14146,\n",
       " 'oh': 10310,\n",
       " 'yeah': 16674,\n",
       " 'slapped': 13575,\n",
       " 'yelped': 16689,\n",
       " 'card': 2516,\n",
       " 'pepperoni': 10937,\n",
       " 'amazed': 749,\n",
       " 'herb': 7143,\n",
       " 'vegetable': 15976,\n",
       " 'garden': 6340,\n",
       " 'front': 6197,\n",
       " 'ingredients': 7747,\n",
       " 'these': 15065,\n",
       " 'days': 4067,\n",
       " 'dishes': 4541,\n",
       " 'cheese': 2818,\n",
       " 'platters': 11225,\n",
       " 'mouth': 9782,\n",
       " 'watering': 16285,\n",
       " 'speak': 13926,\n",
       " 'day': 4064,\n",
       " 'll': 8788,\n",
       " 'keep': 8244,\n",
       " 'adding': 469,\n",
       " 'stay': 14186,\n",
       " 'tuned': 15547,\n",
       " 'btw': 2198,\n",
       " 'decor': 4149,\n",
       " 'reminds': 12272,\n",
       " 'vig': 16066,\n",
       " 'definitely': 4188,\n",
       " 'spacious': 13898,\n",
       " 'dining': 4462,\n",
       " 'sushi': 14612,\n",
       " 'time': 15184,\n",
       " 'garlic': 6346,\n",
       " 'knots': 8350,\n",
       " 'favorite': 5643,\n",
       " 'alot': 716,\n",
       " 'panda': 10687,\n",
       " 'family': 5581,\n",
       " 'run': 12728,\n",
       " 'chinese': 2894,\n",
       " 'most': 9757,\n",
       " 'importantly': 7596,\n",
       " 'style': 14421,\n",
       " 'meals': 9304,\n",
       " 'personal': 10987,\n",
       " 'empress': 5122,\n",
       " 'sweeter': 14655,\n",
       " 'orange': 10415,\n",
       " 'flavor': 5884,\n",
       " 'melts': 9371,\n",
       " 'your': 16732,\n",
       " 'kung': 8396,\n",
       " 'pao': 10705,\n",
       " 'two': 15598,\n",
       " 'shrimp': 13403,\n",
       " 'leftovers': 8585,\n",
       " 'thanks': 15024,\n",
       " 'generous': 6407,\n",
       " 'portions': 11369,\n",
       " 'selection': 13131,\n",
       " 'sake': 12784,\n",
       " 'beer': 1570,\n",
       " 'everyone': 5340,\n",
       " 'else': 5078,\n",
       " 'checks': 2809,\n",
       " 'man': 9083,\n",
       " 'leaving': 8571,\n",
       " 'six': 13519,\n",
       " 'half': 6889,\n",
       " 'search': 13073,\n",
       " 'gotten': 6610,\n",
       " 'point': 11283,\n",
       " 'settled': 13205,\n",
       " 'decent': 4125,\n",
       " 'work': 16579,\n",
       " 'colleague': 3202,\n",
       " 'suggested': 14496,\n",
       " 'dine': 4454,\n",
       " 'corporate': 3610,\n",
       " 'meeting': 9348,\n",
       " 'while': 16398,\n",
       " 'realized': 12033,\n",
       " 'native': 9933,\n",
       " 'metro': 9435,\n",
       " 'thing': 15077,\n",
       " 'trusted': 15514,\n",
       " 'his': 7227,\n",
       " 'palate': 10656,\n",
       " 'sense': 13156,\n",
       " 'pleased': 11243,\n",
       " 'diners': 4458,\n",
       " 'predominately': 11467,\n",
       " 'asian': 1098,\n",
       " 'knew': 8337,\n",
       " 'market': 9165,\n",
       " 'things': 15079,\n",
       " 'signaled': 13445,\n",
       " 'thrilled': 15123,\n",
       " 'familiar': 5579,\n",
       " 'dim': 4448,\n",
       " 'sum': 14510,\n",
       " 'carts': 2578,\n",
       " 'rolling': 12624,\n",
       " 'through': 15128,\n",
       " 'party': 10768,\n",
       " 'shared': 13254,\n",
       " 'fantastic': 5596,\n",
       " 'succulent': 14469,\n",
       " 'orders': 10431,\n",
       " 'equally': 5244,\n",
       " 'veggies': 15981,\n",
       " 'brightly': 2120,\n",
       " 'colored': 3215,\n",
       " 'tastes': 14830,\n",
       " 'distinctive': 4598,\n",
       " 'hot': 7374,\n",
       " 'sour': 13871,\n",
       " 'soup': 13868,\n",
       " 'perfect': 10949,\n",
       " 'filled': 5766,\n",
       " 'kinds': 8310,\n",
       " 'mushrooms': 9845,\n",
       " 'etc': 5301,\n",
       " 'delighted': 4226,\n",
       " 'reminisced': 12273,\n",
       " 'dinners': 4466,\n",
       " 'chinatown': 2893,\n",
       " 'ny': 10224,\n",
       " 'comparable': 3290,\n",
       " 'close': 3108,\n",
       " 'regular': 12197,\n",
       " 'chandler': 2741,\n",
       " 'clear': 3067,\n",
       " 'side': 13428,\n",
       " 'world': 16588,\n",
       " 'figure': 5750,\n",
       " 'marco': 9133,\n",
       " 'polo': 11314,\n",
       " 'palace': 10653,\n",
       " 'prompt': 11671,\n",
       " 'rounded': 12678,\n",
       " 'hooray': 7326,\n",
       " 'stayed': 14189,\n",
       " 'hotel': 7377,\n",
       " 'tuscany': 15566,\n",
       " 'scallops': 12951,\n",
       " 'pasta': 10788,\n",
       " 'excellent': 5374,\n",
       " 'server': 13189,\n",
       " 'bliss': 1820,\n",
       " 'haven': 7024,\n",
       " 'quality': 11833,\n",
       " 'dinner': 4465,\n",
       " 'stupendous': 14413,\n",
       " 'every': 5336,\n",
       " 'cent': 2674,\n",
       " 'must': 9856,\n",
       " 'yin': 16705,\n",
       " 'yang': 16663,\n",
       " 'martini': 9195,\n",
       " 'creative': 3779,\n",
       " 'presented': 11514,\n",
       " 'smiles': 13664,\n",
       " 'smores': 13684,\n",
       " 'desert': 4315,\n",
       " 'hands': 6928,\n",
       " 'connosiuer': 3444,\n",
       " 'critical': 3821,\n",
       " 'college': 3209,\n",
       " 'kids': 8288,\n",
       " 'ra': 11887,\n",
       " 'mediocre': 9341,\n",
       " 'list': 8755,\n",
       " 'irk': 7938,\n",
       " 'during': 4891,\n",
       " 'co': 3145,\n",
       " 'workers': 16582,\n",
       " 'packed': 10616,\n",
       " 'extremely': 5503,\n",
       " 'meet': 9347,\n",
       " 'coworkers': 3708,\n",
       " 'tired': 15214,\n",
       " 'chill': 2878,\n",
       " 'past': 10787,\n",
       " 'friends': 6172,\n",
       " 'alone': 710,\n",
       " 'quite': 11877,\n",
       " 'bit': 1749,\n",
       " 'servings': 13197,\n",
       " 'obviously': 10256,\n",
       " 'low': 8911,\n",
       " 'zen': 16785,\n",
       " '32': 172,\n",
       " 'choice': 2922,\n",
       " 'sakebomber': 12785,\n",
       " 'loud': 8886,\n",
       " 'noises': 10098,\n",
       " 'trying': 15521,\n",
       " 'louder': 8887,\n",
       " 'music': 9848,\n",
       " 'person': 10985,\n",
       " 'overall': 10533,\n",
       " 'tip': 15207,\n",
       " 'priced': 11556,\n",
       " 'works': 16587,\n",
       " 'horrible': 7351,\n",
       " 'twice': 15586,\n",
       " 'gone': 6564,\n",
       " 'messing': 9420,\n",
       " 'starbucks': 14148,\n",
       " 'hard': 6969,\n",
       " 'believe': 1604,\n",
       " 'attitude': 1202,\n",
       " 'lady': 8427,\n",
       " 'doesn': 4648,\n",
       " 'ordering': 10429,\n",
       " 'someone': 13803,\n",
       " 'fix': 5846,\n",
       " 'known': 8356,\n",
       " 'ya': 16655,\n",
       " 'employees': 5117,\n",
       " 'rude': 12708,\n",
       " 'makes': 9055,\n",
       " 'anymore': 884,\n",
       " 'stopped': 14290,\n",
       " 'still': 14252,\n",
       " 'mom': 9679,\n",
       " 'goes': 6549,\n",
       " 'coffee': 3182,\n",
       " 'coast': 3151,\n",
       " 'deli': 4210,\n",
       " 'west': 16365,\n",
       " 'appalachians': 914,\n",
       " 'creams': 3771,\n",
       " 'pricy': 11566,\n",
       " 'apparently': 921,\n",
       " 'free': 6134,\n",
       " 'summer': 14515,\n",
       " 'kept': 8256,\n",
       " 'stars': 14158,\n",
       " 'frown': 6207,\n",
       " 'birthday': 1739,\n",
       " 'spirits': 13998,\n",
       " 'written': 16637,\n",
       " 'clarity': 3042,\n",
       " 'margaritas': 9140,\n",
       " 'strong': 14376,\n",
       " 'check': 2797,\n",
       " '18': 75,\n",
       " 'mahi': 9025,\n",
       " 'each': 4917,\n",
       " '24': 135,\n",
       " 'rancid': 11948,\n",
       " 'yup': 16765,\n",
       " 'fajitas': 5564,\n",
       " 'jumbo': 8173,\n",
       " 'charge': 2763,\n",
       " 'entree': 5222,\n",
       " 'pay': 10844,\n",
       " 'onions': 10360,\n",
       " 'once': 10353,\n",
       " 'week': 16329,\n",
       " 'asada': 1081,\n",
       " 'enchilada': 5138,\n",
       " 'avocado': 1260,\n",
       " 'lover': 8905,\n",
       " 'ripest': 12542,\n",
       " 'avocados': 1261,\n",
       " 'f724': 5521,\n",
       " 'bother': 1975,\n",
       " 'asking': 1104,\n",
       " 'entering': 5201,\n",
       " 'reply': 12331,\n",
       " 'spoke': 14020,\n",
       " 'acknowledged': 419,\n",
       " 'presence': 11511,\n",
       " 'ticket': 15153,\n",
       " 'happened': 6954,\n",
       " 'effort': 5020,\n",
       " 'tell': 14925,\n",
       " 'scathing': 12969,\n",
       " 'deplorable': 4288,\n",
       " 'sadly': 12768,\n",
       " 'dmv': 4628,\n",
       " 'modeled': 9641,\n",
       " 'agonizing': 588,\n",
       " 'depths': 4297,\n",
       " 'hell': 7117,\n",
       " 'musac': 9837,\n",
       " 'score': 13009,\n",
       " 'playing': 11233,\n",
       " 'voracious': 16143,\n",
       " 'stench': 14221,\n",
       " 'air': 619,\n",
       " 'spastic': 13921,\n",
       " 'children': 2869,\n",
       " 'running': 12731,\n",
       " 'version': 16028,\n",
       " 'politicians': 11310,\n",
       " 'campaigning': 2426,\n",
       " 'late': 8496,\n",
       " 'complete': 3331,\n",
       " 'emissions': 5104,\n",
       " 'test': 14990,\n",
       " 'those': 15101,\n",
       " 'dmvs': 4629,\n",
       " 'open': 10379,\n",
       " 'saturdays': 12906,\n",
       " 'map': 9121,\n",
       " 'precious': 11458,\n",
       " 'fortunate': 6071,\n",
       " 'near': 9953,\n",
       " 'seriously': 13180,\n",
       " 'entire': 5215,\n",
       " 'valley': 15936,\n",
       " 'receiving': 12071,\n",
       " 'such': 14471,\n",
       " 'magnificent': 9018,\n",
       " 'welcome': 16352,\n",
       " 'among': 781,\n",
       " 'painful': 10633,\n",
       " 'simplify': 13476,\n",
       " 'let': 8630,\n",
       " 'feel': 5678,\n",
       " 'constitutes': 3479,\n",
       " 'acceptable': 371,\n",
       " 'behavior': 1594,\n",
       " 'public': 11732,\n",
       " 'bathe': 1492,\n",
       " 'combination': 3227,\n",
       " 'water': 16280,\n",
       " 'soap': 13742,\n",
       " 'along': 711,\n",
       " 'massaging': 9221,\n",
       " 'skin': 13553,\n",
       " 'creates': 3775,\n",
       " 'outcome': 10499,\n",
       " 'pleasing': 11244,\n",
       " 'scrub': 13050,\n",
       " 'behind': 1595,\n",
       " 'ears': 4932,\n",
       " 'reference': 12142,\n",
       " 'website': 16318,\n",
       " 'notorious': 10164,\n",
       " 'http': 7416,\n",
       " 'www': 16645,\n",
       " 'craigslist': 3740,\n",
       " 'org': 10443,\n",
       " 'htf': 7414,\n",
       " '755891987': 278,\n",
       " 'html': 7415,\n",
       " 'waiting': 16183,\n",
       " 'tapping': 14800,\n",
       " 'foot': 6022,\n",
       " 'rocking': 12609,\n",
       " 'forth': 6070,\n",
       " 'chair': 2712,\n",
       " 'bouncing': 1999,\n",
       " 'leg': 8586,\n",
       " 'aren': 1006,\n",
       " 'faster': 5620,\n",
       " 'watching': 16279,\n",
       " 'clock': 3102,\n",
       " 'anxious': 877,\n",
       " 'leash': 8563,\n",
       " 'cannot': 2465,\n",
       " 'quietly': 11868,\n",
       " 'winter': 16506,\n",
       " 'fine': 5794,\n",
       " 'cute': 3953,\n",
       " 'monster': 9702,\n",
       " 'aisles': 634,\n",
       " 'honey': 7307,\n",
       " 'bun': 2261,\n",
       " 'squeezing': 14083,\n",
       " 'between': 1671,\n",
       " 'fingers': 5805,\n",
       " 'fake': 5566,\n",
       " 'falls': 5575,\n",
       " 'five': 5845,\n",
       " 'row': 12686,\n",
       " 'maintain': 9039,\n",
       " 'quiet': 11866,\n",
       " 'tones': 15272,\n",
       " 'ensure': 5197,\n",
       " 'appropriate': 973,\n",
       " 'conversations': 3541,\n",
       " 'taking': 14749,\n",
       " 'making': 9060,\n",
       " 'calls': 2404,\n",
       " 'sorry': 13851,\n",
       " 'stripping': 14366,\n",
       " 'popped': 11342,\n",
       " 'into': 7877,\n",
       " 'mind': 9515,\n",
       " 'failed': 5550,\n",
       " 'audition': 1218,\n",
       " 'le': 8539,\n",
       " 'girl': 6470,\n",
       " 'continued': 3515,\n",
       " 'conversation': 3539,\n",
       " 'woodworker': 16571,\n",
       " 'acknowledge': 418,\n",
       " 'humans': 7440,\n",
       " 'fact': 5540,\n",
       " 'sideways': 13435,\n",
       " 'disappear': 4490,\n",
       " 'quit': 11876,\n",
       " 'bumping': 2259,\n",
       " 'hitting': 7235,\n",
       " 'unless': 15770,\n",
       " 'flirting': 5917,\n",
       " 'need': 9966,\n",
       " 'level': 8636,\n",
       " 'brilliant': 2122,\n",
       " 'recipe': 12083,\n",
       " 'dashing': 4050,\n",
       " 'dreams': 4778,\n",
       " 'gutting': 6850,\n",
       " 'humanity': 7439,\n",
       " 'manage': 9084,\n",
       " 'painfully': 10634,\n",
       " 'lit': 8766,\n",
       " 'reeks': 12137,\n",
       " 'brother': 2158,\n",
       " 'old': 10328,\n",
       " 'gym': 6853,\n",
       " 'shoes': 13345,\n",
       " 'dad': 3979,\n",
       " 'dirty': 4486,\n",
       " 'underwear': 15703,\n",
       " 'award': 1271,\n",
       " ...}"
      ]
     },
     "execution_count": 19,
     "metadata": {},
     "output_type": "execute_result"
    }
   ],
   "source": [
    "vect.vocabulary_"
   ]
  },
  {
   "cell_type": "markdown",
   "metadata": {},
   "source": [
    "Finally, let's convert the sparse matrix to a typical ndarray using `.toarray()`. Remember, this takes up ***a lot*** more memory than the sparse matrix! However, this conversion is sometimes necessary."
   ]
  },
  {
   "cell_type": "code",
   "execution_count": 213,
   "metadata": {},
   "outputs": [],
   "source": [
    "X_test_dtm_dense = X_test_dtm.toarray()"
   ]
  },
  {
   "cell_type": "markdown",
   "metadata": {},
   "source": [
    "We will use this function below for simplicity:"
   ]
  },
  {
   "cell_type": "code",
   "execution_count": 214,
   "metadata": {},
   "outputs": [],
   "source": [
    "# Define a function that accepts a vectorizer and calculates accuracy\n",
    "def tokenize_test(vect):\n",
    "    X_train_dtm = vect.fit_transform(X_train)\n",
    "    print(('Features: ', X_train_dtm.shape[1]))\n",
    "    X_test_dtm = vect.transform(X_test)\n",
    "    nb = MultinomialNB()\n",
    "    nb.fit(X_train_dtm, y_train)\n",
    "    y_pred_class = nb.predict(X_test_dtm)\n",
    "    print(('Accuracy: ', metrics.accuracy_score(y_test, y_pred_class)))"
   ]
  },
  {
   "cell_type": "markdown",
   "metadata": {},
   "source": [
    "`min_df` ignores words that occur less than twice (`df` means **document frequency**)."
   ]
  },
  {
   "cell_type": "code",
   "execution_count": 215,
   "metadata": {},
   "outputs": [
    {
     "name": "stdout",
     "output_type": "stream",
     "text": [
      "('Features: ', 8783)\n",
      "('Accuracy: ', 0.9246575342465754)\n"
     ]
    }
   ],
   "source": [
    "vect = CountVectorizer(min_df=2, max_features=10000)\n",
    "tokenize_test(vect)"
   ]
  },
  {
   "cell_type": "markdown",
   "metadata": {},
   "source": [
    "### N-Grams\n",
    "\n",
    "N-grams are features which consist of N consecutive words. This is useful because, for example, when using the bag-of-words model, treating `data scientist` as a single feature has more meaning than having two independent features `data` and `scientist`.\n",
    "\n",
    "Example:\n",
    "```\n",
    "my cat is awesome\n",
    "Unigrams (1-grams): 'my', 'cat', 'is', 'awesome'\n",
    "Bigrams (2-grams): 'my cat', 'cat is', 'is awesome'\n",
    "Trigrams (3-grams): 'my cat is', 'cat is awesome'\n",
    "4-grams: 'my cat is awesome'\n",
    "```\n",
    "\n",
    "- **ngram_range:** tuple (min_n, max_n)\n",
    "- The lower and upper boundary of the range of n-values for different n-grams to be extracted. All values of n such that min_n <= n <= max_n will be used."
   ]
  },
  {
   "cell_type": "code",
   "execution_count": null,
   "metadata": {},
   "outputs": [],
   "source": [
    "vect."
   ]
  },
  {
   "cell_type": "code",
   "execution_count": 306,
   "metadata": {},
   "outputs": [
    {
     "data": {
      "text/plain": [
       "(3064, 150034)"
      ]
     },
     "execution_count": 306,
     "metadata": {},
     "output_type": "execute_result"
    }
   ],
   "source": [
    "# Include 1-grams and 2-grams\n",
    "vect = CountVectorizer(ngram_range=(1, 2), stop_words = 'english')\n",
    "X_train_dtm = vect.fit_transform(X_train)\n",
    "X_train_dtm.shape"
   ]
  },
  {
   "cell_type": "markdown",
   "metadata": {},
   "source": [
    "We can start to see how supplementing our features with n-grams can lead to more feature columns: When we produce n-grams from a document with $W$ words, we add an additional $(n-W+1)$ features (at most)! This is similar to what is traditionally done with CNN ANNs, where we additionally train the model with rotated pictures of the stock training data set.\n",
    "\n",
    "That said, be careful — when we compute n-grams from an entire corpus, the number of ***unique*** n-grams could be vastly higher than the number of unique unigrams! This could cause an undesired feature explosion.\n",
    "\n",
    "Although we sometimes add important new features that have meaning such as `data scientist`, many of the new features could just be noise. So, particularly if we do not have much data, adding n-grams can actually decrease model performance. This is because if each n-gram is only present once or twice in the training set, we are effectively adding mostly noisy features to the mix. So, be careful.."
   ]
  },
  {
   "cell_type": "code",
   "execution_count": 220,
   "metadata": {},
   "outputs": [
    {
     "name": "stdout",
     "output_type": "stream",
     "text": [
      "['yummy things', 'yummy today', 'yummy too', 'yummy toppings', 'yummy ve', 'yummy vittles', 'yummy we', 'yummy when', 'yummy wonder', 'yummy would', 'yummy you', 'yummy yummy', 'yumness', 'yumness and', 'yung', 'yung and', 'yung egg', 'yung than', 'yung to', 'yup', 'yup it', 'yup people', 'yup plastic', 'yup reviewing', 'yup said', 'yup that', 'yupha', 'yupha is', 'yupha steal', 'yuppies', 'yuppies around', 'yusefs', 'yusefs now', 'yuukk', 'yuukk that', 'yuuuummmmae', 'yuuuummmmae unfortunately', 'yuuuuummmmmyyy', 'yuuuuummmmmyyy you', 'yuuuuuuum', 'yuyuyummy', 'yuyuyummy also', 'yuzu', 'yuzu marinated', 'yyyyy', 'yyyyy one', 'z11', 'z11 and', 'za', 'za balls', 'zabba', 'zabba bars', 'zach', 'zach and', 'zach even', 'zach our', 'zach that', 'zach was', 'zam', 'zam world', 'zam zam', 'zanella', 'zanella slacks', 'zankou', 'zankou chicken', 'zappos', 'zappos next', 'zatsiki', 'zatsiki sauce', 'zen', 'zen 32', 'zen like', 'zen road', 'zen with', 'zen yard', 'zero', 'zero attitude', 'zero bars', 'zero but', 'zero charm', 'zero effing', 'zero excuse', 'zero extra', 'zero flavour', 'zero in', 'zero jeans', 'zero out', 'zero point', 'zero security', 'zero star', 'zero stars', 'zest', 'zest puts', 'zest the', 'zexperience', 'zexperience was', 'zha', 'zha jiang', 'zhou', 'zhou or', 'zia', 'zia and', 'zihuatenejo', 'zihuatenejo awaited', 'zilch', 'zilch to', 'zin', 'zin that', 'zinburger', 'zinburger all', 'zinburger are', 'zinburger last', 'zinburger truffle', 'zinburger very', 'zinburger was', 'zinburgergeist', 'zinburgergeist and', 'zinc', 'zinc lozenge', 'zinc supplementation', 'zinfandel', 'zinfandel for', 'zinfandel have', 'zing', 'zing to', 'zip', 'zip code', 'zip up', 'zipcar', 'zipcar at', 'zipper', 'zipper at', 'zippers', 'zippers flipstick', 'zipps', 'zipps decided', 'zipps or', 'ziti', 'ziti and', 'ziti stayed', 'zoe', 'zoe and', 'zoe kitchen', 'zombi', 'zombi has', 'zombi up', 'zombies', 'zombies the', 'zone', 'zone of', 'zone out', 'zone when', 'zones', 'zones dolls', 'zoning', 'zoning issues', 'zoo', 'zoo and', 'zoo is', 'zoo not', 'zoo the', 'zoo ve', 'zoyo', 'zoyo for', 'zucca', 'zucca appetizer', 'zucchini', 'zucchini and', 'zucchini bread', 'zucchini broccoli', 'zucchini carrots', 'zucchini fries', 'zucchini pieces', 'zucchini strips', 'zucchini veal', 'zucchini very', 'zucchini with', 'zuchinni', 'zuchinni again', 'zuchinni the', 'zumba', 'zumba class', 'zumba or', 'zumba yogalates', 'zupa', 'zupa flavors', 'zuzu', 'zuzu in', 'zuzu is', 'zuzu the', 'zwiebel', 'zwiebel kräuter', 'zzed', 'zzed in', 'éclairs', 'éclairs napoleons', 'école', 'école lenôtre', 'ém', 'ém all']\n"
     ]
    }
   ],
   "source": [
    "# Last 50 features\n",
    "print((vect.get_feature_names()[-200:]))"
   ]
  },
  {
   "cell_type": "markdown",
   "metadata": {},
   "source": [
    "### Stop-Word Removal\n",
    "\n",
    "[Stop-word](https://en.wikipedia.org/wiki/Stop_words) removal is used to remove common words that will likely appear in any text. Because common words exist in ***most*** documents, they likely only add noise to your model and should be removed.\n",
    "\n",
    "**Stop words** are some of the most common words in a language. They are used so that a sentence makes sense grammatically, such as prepositions and determiners, e.g., \"to,\" \"the,\" \"and.\" However, they are so commonly used that they are generally worthless for predicting the class of a document. Since `a` appears in spam and non-spam emails, for example, it would only contribute noise to our model.\n",
    "\n",
    "Example: \n",
    "\n",
    "> 1. Original sentence: \"The dog jumped over the fence\"  \n",
    "> 2. After stop-word removal: \"dog jumped over fence\"\n",
    "\n",
    "The fact that there is a fence and a dog jumped over it can be derived with or without stop words."
   ]
  },
  {
   "cell_type": "code",
   "execution_count": 308,
   "metadata": {},
   "outputs": [
    {
     "data": {
      "text/plain": [
       "CountVectorizer(analyzer='word', binary=False, decode_error='strict',\n",
       "                dtype=<class 'numpy.int64'>, encoding='utf-8', input='content',\n",
       "                lowercase=True, max_df=1.0, max_features=None, min_df=1,\n",
       "                ngram_range=(1, 2), preprocessor=None, stop_words='english',\n",
       "                strip_accents=None, token_pattern='(?u)\\\\b\\\\w\\\\w+\\\\b',\n",
       "                tokenizer=None, vocabulary=None)"
      ]
     },
     "execution_count": 308,
     "metadata": {},
     "output_type": "execute_result"
    }
   ],
   "source": [
    "# Show vectorizer options.\n",
    "vect"
   ]
  },
  {
   "cell_type": "markdown",
   "metadata": {},
   "source": [
    "- **stop_words:** string {`english`}, list, or None (default)\n",
    "- If `english`, a built-in stop word list for English is used.\n",
    "- If a list, that list is assumed to contain stop words, all of which will be removed from the resulting tokens.\n",
    "- If None, no stop words will be used. `max_df` can be set to a value in the range [0.7, 1.0) to automatically detect and filter stop words based on intra corpus document frequency of terms. (If `max_df` = 0.7, then if > 70% of documents contain a word it will not be included in the feature set!)"
   ]
  },
  {
   "cell_type": "code",
   "execution_count": 307,
   "metadata": {},
   "outputs": [
    {
     "name": "stdout",
     "output_type": "stream",
     "text": [
      "frozenset({'us', 'yourself', 'already', 'describe', 'whoever', 'twenty', 'though', 'full', 'afterwards', 'five', 'less', 'towards', 'also', 'sometimes', 'he', 'next', 'whereafter', 'alone', 'always', 'etc', 'meanwhile', 'fifty', 'somewhere', 'can', 'either', 'amoungst', 'system', 'when', 'name', 'sixty', 'fill', 'latter', 'every', 'we', 'above', 'whom', 'found', 'his', 'thin', 'are', 'below', 'thence', 'anyone', 'via', 'will', 'eight', 'nevertheless', 'once', 'him', 'de', 'wherever', 'please', 'move', 'these', 'up', 'your', 'very', 'against', 'her', 'could', 'six', 'at', 'whatever', 'empty', 'hundred', 'with', 'himself', 'since', 'you', 'take', 'due', 're', 'perhaps', 'everyone', 'as', 'from', 'ours', 'across', 'many', 'must', 'whereby', 'front', 'show', 'whereas', 'hereafter', 'formerly', 'who', 'more', 'before', 'all', 'might', 'it', 'nothing', 'other', 'over', 'therein', 'yet', 'three', 'myself', 'seems', 'forty', 'first', 'been', 'eg', 'hereupon', 'had', 'anywhere', 'into', 'on', 'was', 'became', 'ever', 'here', 'may', 'should', 'thus', 'much', 'where', 'whole', 'she', 'upon', 'ltd', 'become', 'beforehand', 'do', 'cannot', 'few', 'among', 'nobody', 'because', 'except', 'beyond', 'down', 'interest', 'i', 'seemed', 'whither', 'several', 'yourselves', 'hence', 'eleven', 'nowhere', 'some', 'behind', 'top', 'get', 'own', 'than', 'thru', 'whereupon', 'within', 'couldnt', 'ie', 'is', 'everything', 'a', 'wherein', 'why', 'along', 'which', 'an', 'together', 'everywhere', 'others', 'mostly', 'never', 'none', 'such', 'per', 'too', 'amount', 'neither', 'twelve', 'co', 'cant', 'my', 'of', 'and', 'around', 'by', 'find', 'for', 'noone', 'un', 'toward', 'again', 'thereupon', 'becoming', 'call', 'have', 'namely', 'any', 'herself', 'or', 'ten', 'amongst', 'give', 'under', 'detail', 'out', 'another', 'not', 'mine', 'only', 'done', 'otherwise', 'however', 'so', 'themselves', 'further', 'this', 'after', 'those', 'go', 'to', 'each', 'am', 'what', 'bottom', 'enough', 'put', 'something', 'throughout', 'inc', 'somehow', 'same', 'see', 'beside', 'bill', 'four', 'about', 'hereby', 'anyhow', 'keep', 'in', 'still', 'else', 'back', 'least', 'whence', 'yours', 'latterly', 'elsewhere', 'often', 'besides', 'anyway', 'both', 'anything', 'but', 'off', 'the', 'almost', 'its', 'me', 'nor', 'although', 'sincere', 'their', 'be', 'fifteen', 'third', 'without', 'no', 'fire', 'rather', 'whether', 'then', 'sometime', 'now', 'hers', 'them', 'being', 'onto', 'that', 'while', 'serious', 'how', 'our', 'has', 'part', 'until', 'if', 'herein', 'itself', 'indeed', 'moreover', 'most', 'someone', 'thick', 'even', 'there', 'they', 'would', 'mill', 'during', 'ourselves', 'thereafter', 'two', 'cry', 'well', 'one', 'former', 'seem', 'seeming', 'thereby', 'side', 'therefore', 'between', 'hasnt', 'becomes', 'last', 'made', 'con', 'nine', 'through', 'whose', 'whenever', 'were'})\n"
     ]
    }
   ],
   "source": [
    "# Set of stop words\n",
    "print((vect.get_stop_words()))"
   ]
  },
  {
   "cell_type": "markdown",
   "metadata": {},
   "source": [
    "Let's remove English stop words:"
   ]
  },
  {
   "cell_type": "code",
   "execution_count": 228,
   "metadata": {},
   "outputs": [
    {
     "name": "stdout",
     "output_type": "stream",
     "text": [
      "('Features: ', 16528)\n",
      "('Accuracy: ', 0.9158512720156555)\n"
     ]
    },
    {
     "data": {
      "text/plain": [
       "{'analyzer': 'word',\n",
       " 'binary': False,\n",
       " 'decode_error': 'strict',\n",
       " 'dtype': numpy.int64,\n",
       " 'encoding': 'utf-8',\n",
       " 'input': 'content',\n",
       " 'lowercase': True,\n",
       " 'max_df': 1.0,\n",
       " 'max_features': None,\n",
       " 'min_df': 1,\n",
       " 'ngram_range': (1, 1),\n",
       " 'preprocessor': None,\n",
       " 'stop_words': 'english',\n",
       " 'strip_accents': None,\n",
       " 'token_pattern': '(?u)\\\\b\\\\w\\\\w+\\\\b',\n",
       " 'tokenizer': None,\n",
       " 'vocabulary': None}"
      ]
     },
     "execution_count": 228,
     "metadata": {},
     "output_type": "execute_result"
    }
   ],
   "source": [
    "vect = CountVectorizer(stop_words='english')\n",
    "tokenize_test(vect)\n",
    "vect.get_params()"
   ]
  },
  {
   "cell_type": "markdown",
   "metadata": {},
   "source": [
    "### Other CountVectorizer Options\n",
    "\n",
    "- `max_features`: int or None, default=None\n",
    "\n",
    "If not None, build a vocabulary that only consider the top `max_features` ordered by term frequency across the corpus. This allows us to keep more common n-grams and remove ones that may appear once. If we include words that only occur once, this can lead to said features being highly associated with a class and cause overfitting."
   ]
  },
  {
   "cell_type": "code",
   "execution_count": 230,
   "metadata": {},
   "outputs": [
    {
     "name": "stdout",
     "output_type": "stream",
     "text": [
      "('Features: ', 100)\n",
      "('Accuracy: ', 0.8698630136986302)\n"
     ]
    }
   ],
   "source": [
    "# Remove English stop words and only keep 100 features.\n",
    "vect = CountVectorizer(stop_words='english', max_features=100)\n",
    "tokenize_test(vect)"
   ]
  },
  {
   "cell_type": "code",
   "execution_count": 231,
   "metadata": {},
   "outputs": [
    {
     "name": "stdout",
     "output_type": "stream",
     "text": [
      "['amazing', 'area', 'atmosphere', 'awesome', 'bad', 'bar', 'best', 'better', 'big', 'came', 'cheese', 'chicken', 'clean', 'coffee', 'come', 'day', 'definitely', 'delicious', 'did', 'didn', 'dinner', 'don', 'eat', 'excellent', 'experience', 'favorite', 'feel', 'food', 'free', 'fresh', 'friendly', 'friends', 'going', 'good', 'got', 'great', 'happy', 'home', 'hot', 'hour', 'just', 'know', 'like', 'little', 'll', 'location', 'long', 'looking', 'lot', 'love', 'lunch', 'make', 'meal', 'menu', 'minutes', 'need', 'new', 'nice', 'night', 'order', 'ordered', 'people', 'perfect', 'phoenix', 'pizza', 'place', 'pretty', 'prices', 'really', 'recommend', 'restaurant', 'right', 'said', 'salad', 'sandwich', 'sauce', 'say', 'service', 'staff', 'store', 'sure', 'table', 'thing', 'things', 'think', 'time', 'times', 'took', 'town', 'tried', 'try', 've', 'wait', 'want', 'way', 'went', 'wine', 'work', 'worth', 'years']\n"
     ]
    }
   ],
   "source": [
    "# All 100 features\n",
    "print((vect.get_feature_names()))"
   ]
  },
  {
   "cell_type": "markdown",
   "metadata": {},
   "source": [
    "Just like with all other models, more features does not mean a better model. So, we must tune our feature generator to remove features whose predictive capability is none or very low.\n",
    "\n",
    "In this case, there is roughly a 1.6% increase in accuracy when we double the n-gram size and increase our max features by 1,000-fold. Note that if we restrict it to only unigrams, then the accuracy increases even more! So, bigrams were very likely adding more noise than signal. \n",
    "\n",
    "In the end, by only using 16,000 unigram features we came away with a much smaller, simpler, and easier-to-think-about model which also resulted in higher accuracy."
   ]
  },
  {
   "cell_type": "code",
   "execution_count": 232,
   "metadata": {},
   "outputs": [
    {
     "name": "stdout",
     "output_type": "stream",
     "text": [
      "1-grams and 2-grams, up to 100K features:\n",
      "('Features: ', 100000)\n",
      "('Accuracy: ', 0.8855185909980431)\n",
      "\n",
      "1-grams only, up to 100K features:\n",
      "('Features: ', 16825)\n",
      "('Accuracy: ', 0.9187866927592955)\n"
     ]
    }
   ],
   "source": [
    "# Include 1-grams and 2-grams, and limit the number of features\n",
    "\n",
    "print('1-grams and 2-grams, up to 100K features:')\n",
    "vect = CountVectorizer(ngram_range=(1, 2), max_features=100000)\n",
    "tokenize_test(vect)\n",
    "\n",
    "print()\n",
    "print('1-grams only, up to 100K features:')\n",
    "vect = CountVectorizer(ngram_range=(1, 1), max_features=100000)\n",
    "tokenize_test(vect)"
   ]
  },
  {
   "cell_type": "markdown",
   "metadata": {},
   "source": [
    "- `min_df`: Float in range [0.0, 1.0] or int, default=1\n",
    "\n",
    "When building the vocabulary, ignore terms that have a document frequency strictly lower than the given threshold. This value is also called **cut-off** in the literature. If float, the parameter represents a *proportion of documents*, integer absolute counts."
   ]
  },
  {
   "cell_type": "code",
   "execution_count": 31,
   "metadata": {},
   "outputs": [
    {
     "name": "stdout",
     "output_type": "stream",
     "text": [
      "('Features: ', 43957)\n",
      "('Accuracy: ', 0.9324853228962818)\n"
     ]
    }
   ],
   "source": [
    "# Include 1-grams and 2-grams, and only include terms that appear at least two times.\n",
    "vect = CountVectorizer(ngram_range=(1, 2), min_df=2)\n",
    "tokenize_test(vect)"
   ]
  },
  {
   "cell_type": "markdown",
   "metadata": {},
   "source": [
    "### Term Frequency–Inverse Document Frequency (TF–IDF)\n",
    "\n",
    "While a Count Vectorizer simply totals up the number of times a word appears in a document, the more complex **TF-IDF Vectorizer** analyzes the uniqueness of words ***between documents** to find distinguishing characteristics. \n",
    "     \n",
    "Term frequency–inverse document frequency (TF–IDF) computes the \"relative frequency\" with which a word appears in a document, compared to its frequency across all documents. It's more useful than \"term frequency\" for identifying \"important\" words in each document (high frequency in that document, low frequency in other documents). It's most often arch-engine scoring, text summarization, and document clustering."
   ]
  },
  {
   "cell_type": "code",
   "execution_count": 283,
   "metadata": {},
   "outputs": [
    {
     "data": {
      "text/html": [
       "<div>\n",
       "<style scoped>\n",
       "    .dataframe tbody tr th:only-of-type {\n",
       "        vertical-align: middle;\n",
       "    }\n",
       "\n",
       "    .dataframe tbody tr th {\n",
       "        vertical-align: top;\n",
       "    }\n",
       "\n",
       "    .dataframe thead th {\n",
       "        text-align: right;\n",
       "    }\n",
       "</style>\n",
       "<table border=\"1\" class=\"dataframe\">\n",
       "  <thead>\n",
       "    <tr style=\"text-align: right;\">\n",
       "      <th></th>\n",
       "      <th>cab</th>\n",
       "      <th>call</th>\n",
       "      <th>me</th>\n",
       "      <th>please</th>\n",
       "      <th>tonight</th>\n",
       "      <th>you</th>\n",
       "    </tr>\n",
       "  </thead>\n",
       "  <tbody>\n",
       "    <tr>\n",
       "      <th>0</th>\n",
       "      <td>0</td>\n",
       "      <td>1</td>\n",
       "      <td>0</td>\n",
       "      <td>0</td>\n",
       "      <td>1</td>\n",
       "      <td>1</td>\n",
       "    </tr>\n",
       "    <tr>\n",
       "      <th>1</th>\n",
       "      <td>1</td>\n",
       "      <td>1</td>\n",
       "      <td>1</td>\n",
       "      <td>0</td>\n",
       "      <td>0</td>\n",
       "      <td>0</td>\n",
       "    </tr>\n",
       "    <tr>\n",
       "      <th>2</th>\n",
       "      <td>0</td>\n",
       "      <td>1</td>\n",
       "      <td>1</td>\n",
       "      <td>2</td>\n",
       "      <td>0</td>\n",
       "      <td>0</td>\n",
       "    </tr>\n",
       "  </tbody>\n",
       "</table>\n",
       "</div>"
      ],
      "text/plain": [
       "   cab  call  me  please  tonight  you\n",
       "0    0     1   0       0        1    1\n",
       "1    1     1   1       0        0    0\n",
       "2    0     1   1       2        0    0"
      ]
     },
     "execution_count": 283,
     "metadata": {},
     "output_type": "execute_result"
    }
   ],
   "source": [
    "# Example documents\n",
    "simple_train = ['call you tonight', 'Call me a cab', 'please call me... PLEASE!']\n",
    "\n",
    "# Term frequency\n",
    "vect = CountVectorizer()\n",
    "tf = pd.DataFrame(vect.fit_transform(simple_train).toarray(), columns=vect.get_feature_names())\n",
    "tf"
   ]
  },
  {
   "cell_type": "code",
   "execution_count": 284,
   "metadata": {},
   "outputs": [
    {
     "data": {
      "text/html": [
       "<div>\n",
       "<style scoped>\n",
       "    .dataframe tbody tr th:only-of-type {\n",
       "        vertical-align: middle;\n",
       "    }\n",
       "\n",
       "    .dataframe tbody tr th {\n",
       "        vertical-align: top;\n",
       "    }\n",
       "\n",
       "    .dataframe thead th {\n",
       "        text-align: right;\n",
       "    }\n",
       "</style>\n",
       "<table border=\"1\" class=\"dataframe\">\n",
       "  <thead>\n",
       "    <tr style=\"text-align: right;\">\n",
       "      <th></th>\n",
       "      <th>cab</th>\n",
       "      <th>call</th>\n",
       "      <th>me</th>\n",
       "      <th>please</th>\n",
       "      <th>tonight</th>\n",
       "      <th>you</th>\n",
       "    </tr>\n",
       "  </thead>\n",
       "  <tbody>\n",
       "    <tr>\n",
       "      <th>0</th>\n",
       "      <td>1</td>\n",
       "      <td>3</td>\n",
       "      <td>2</td>\n",
       "      <td>1</td>\n",
       "      <td>1</td>\n",
       "      <td>1</td>\n",
       "    </tr>\n",
       "  </tbody>\n",
       "</table>\n",
       "</div>"
      ],
      "text/plain": [
       "   cab  call  me  please  tonight  you\n",
       "0    1     3   2       1        1    1"
      ]
     },
     "execution_count": 284,
     "metadata": {},
     "output_type": "execute_result"
    }
   ],
   "source": [
    "# Document frequency\n",
    "vect = CountVectorizer(binary=True)\n",
    "df = vect.fit_transform(simple_train).toarray().sum(axis=0)\n",
    "pd.DataFrame(df.reshape(1, 6), columns=vect.get_feature_names())"
   ]
  },
  {
   "cell_type": "code",
   "execution_count": 285,
   "metadata": {},
   "outputs": [
    {
     "data": {
      "text/html": [
       "<div>\n",
       "<style scoped>\n",
       "    .dataframe tbody tr th:only-of-type {\n",
       "        vertical-align: middle;\n",
       "    }\n",
       "\n",
       "    .dataframe tbody tr th {\n",
       "        vertical-align: top;\n",
       "    }\n",
       "\n",
       "    .dataframe thead th {\n",
       "        text-align: right;\n",
       "    }\n",
       "</style>\n",
       "<table border=\"1\" class=\"dataframe\">\n",
       "  <thead>\n",
       "    <tr style=\"text-align: right;\">\n",
       "      <th></th>\n",
       "      <th>cab</th>\n",
       "      <th>call</th>\n",
       "      <th>me</th>\n",
       "      <th>please</th>\n",
       "      <th>tonight</th>\n",
       "      <th>you</th>\n",
       "    </tr>\n",
       "  </thead>\n",
       "  <tbody>\n",
       "    <tr>\n",
       "      <th>0</th>\n",
       "      <td>0.0</td>\n",
       "      <td>0.333333</td>\n",
       "      <td>0.0</td>\n",
       "      <td>0.0</td>\n",
       "      <td>1.0</td>\n",
       "      <td>1.0</td>\n",
       "    </tr>\n",
       "    <tr>\n",
       "      <th>1</th>\n",
       "      <td>1.0</td>\n",
       "      <td>0.333333</td>\n",
       "      <td>0.5</td>\n",
       "      <td>0.0</td>\n",
       "      <td>0.0</td>\n",
       "      <td>0.0</td>\n",
       "    </tr>\n",
       "    <tr>\n",
       "      <th>2</th>\n",
       "      <td>0.0</td>\n",
       "      <td>0.333333</td>\n",
       "      <td>0.5</td>\n",
       "      <td>2.0</td>\n",
       "      <td>0.0</td>\n",
       "      <td>0.0</td>\n",
       "    </tr>\n",
       "  </tbody>\n",
       "</table>\n",
       "</div>"
      ],
      "text/plain": [
       "   cab      call   me  please  tonight  you\n",
       "0  0.0  0.333333  0.0     0.0      1.0  1.0\n",
       "1  1.0  0.333333  0.5     0.0      0.0  0.0\n",
       "2  0.0  0.333333  0.5     2.0      0.0  0.0"
      ]
     },
     "execution_count": 285,
     "metadata": {},
     "output_type": "execute_result"
    }
   ],
   "source": [
    "# Term frequency–inverse document frequency (simple version)\n",
    "tf/df"
   ]
  },
  {
   "cell_type": "markdown",
   "metadata": {},
   "source": [
    "The ***higher*** the TF–IDF value, the more ***important*** the word is to that specific document. \n",
    "\n",
    "Here, `cab` is the most important and unique word in document 1, while `please` is the most important and unique word in document 2. TF–IDF is often used for training as a replacement for word count."
   ]
  },
  {
   "cell_type": "code",
   "execution_count": 286,
   "metadata": {},
   "outputs": [
    {
     "data": {
      "text/html": [
       "<div>\n",
       "<style scoped>\n",
       "    .dataframe tbody tr th:only-of-type {\n",
       "        vertical-align: middle;\n",
       "    }\n",
       "\n",
       "    .dataframe tbody tr th {\n",
       "        vertical-align: top;\n",
       "    }\n",
       "\n",
       "    .dataframe thead th {\n",
       "        text-align: right;\n",
       "    }\n",
       "</style>\n",
       "<table border=\"1\" class=\"dataframe\">\n",
       "  <thead>\n",
       "    <tr style=\"text-align: right;\">\n",
       "      <th></th>\n",
       "      <th>cab</th>\n",
       "      <th>call</th>\n",
       "      <th>me</th>\n",
       "      <th>please</th>\n",
       "      <th>tonight</th>\n",
       "      <th>you</th>\n",
       "    </tr>\n",
       "  </thead>\n",
       "  <tbody>\n",
       "    <tr>\n",
       "      <th>0</th>\n",
       "      <td>0.000000</td>\n",
       "      <td>0.385372</td>\n",
       "      <td>0.000000</td>\n",
       "      <td>0.000000</td>\n",
       "      <td>0.652491</td>\n",
       "      <td>0.652491</td>\n",
       "    </tr>\n",
       "    <tr>\n",
       "      <th>1</th>\n",
       "      <td>0.720333</td>\n",
       "      <td>0.425441</td>\n",
       "      <td>0.547832</td>\n",
       "      <td>0.000000</td>\n",
       "      <td>0.000000</td>\n",
       "      <td>0.000000</td>\n",
       "    </tr>\n",
       "    <tr>\n",
       "      <th>2</th>\n",
       "      <td>0.000000</td>\n",
       "      <td>0.266075</td>\n",
       "      <td>0.342620</td>\n",
       "      <td>0.901008</td>\n",
       "      <td>0.000000</td>\n",
       "      <td>0.000000</td>\n",
       "    </tr>\n",
       "  </tbody>\n",
       "</table>\n",
       "</div>"
      ],
      "text/plain": [
       "        cab      call        me    please   tonight       you\n",
       "0  0.000000  0.385372  0.000000  0.000000  0.652491  0.652491\n",
       "1  0.720333  0.425441  0.547832  0.000000  0.000000  0.000000\n",
       "2  0.000000  0.266075  0.342620  0.901008  0.000000  0.000000"
      ]
     },
     "execution_count": 286,
     "metadata": {},
     "output_type": "execute_result"
    }
   ],
   "source": [
    "# TfidfVectorizer\n",
    "vect = TfidfVectorizer()\n",
    "pd.DataFrame(vect.fit_transform(simple_train).toarray(), columns=vect.get_feature_names())"
   ]
  },
  {
   "cell_type": "markdown",
   "metadata": {},
   "source": [
    "Let's use TF–IDF to Summarize a Yelp Review. "
   ]
  },
  {
   "cell_type": "code",
   "execution_count": 309,
   "metadata": {},
   "outputs": [
    {
     "data": {
      "text/plain": [
       "(10000, 28880)"
      ]
     },
     "execution_count": 309,
     "metadata": {},
     "output_type": "execute_result"
    }
   ],
   "source": [
    "# Create a document-term matrix using TF–IDF.\n",
    "vect = TfidfVectorizer(stop_words='english')\n",
    "\n",
    "# Fit transform Yelp data.\n",
    "dtm = vect.fit_transform(yelp.text)\n",
    "features = vect.get_feature_names()\n",
    "dtm.shape"
   ]
  },
  {
   "cell_type": "code",
   "execution_count": 310,
   "metadata": {},
   "outputs": [],
   "source": [
    "def summarize():\n",
    "    \n",
    "    # Choose a random review that is at least 300 characters long\n",
    "    review_length = 0\n",
    "    while review_length < 300:\n",
    "        review_id = np.random.randint(0, len(yelp))\n",
    "        review_text = yelp.text[review_id]\n",
    "        #review_text = unicode(yelp.text[review_id], 'utf-8')\n",
    "        review_length = len(review_text)\n",
    "    \n",
    "    # Create a dictionary of words and their TF–IDF scores\n",
    "    word_scores = {}\n",
    "    for word in TextBlob(review_text).words:\n",
    "        word = word.lower()\n",
    "        if word in features:\n",
    "            word_scores[word] = dtm[review_id, features.index(word)]\n",
    "    \n",
    "    # Print words with the top five TF–IDF scores\n",
    "    print('TOP SCORING WORDS:')\n",
    "    top_scores = sorted(list(word_scores.items()), key=lambda x: x[1], reverse=True)[:5]\n",
    "    for word, score in top_scores:\n",
    "        print(word)\n",
    "    \n",
    "    # Print five random words\n",
    "    print(('\\n' + 'RANDOM WORDS:'))\n",
    "    random_words = np.random.choice(list(word_scores.keys()), size=5, replace=False)\n",
    "    for word in random_words:\n",
    "        print(word)\n",
    "    \n",
    "    # Print the review\n",
    "    print(('\\n' + review_text))"
   ]
  },
  {
   "cell_type": "code",
   "execution_count": 311,
   "metadata": {},
   "outputs": [
    {
     "name": "stdout",
     "output_type": "stream",
     "text": [
      "TOP SCORING WORDS:\n",
      "free\n",
      "golf\n",
      "staying\n",
      "scotches\n",
      "firepits\n",
      "\n",
      "RANDOM WORDS:\n",
      "tub\n",
      "excellent\n",
      "food\n",
      "costs\n",
      "time\n",
      "\n",
      "Had a great time staying here for a few days.  Golf course was amazing (payed twilight for $75 on the desert course starting at 1pm).   Was able to do a nice long 3 hour hike Camelback mountain.\n",
      "\n",
      "Service is excellent here and accomodations are lovely.  24 hour pools and hot tubs are nice. As are the fire pits... But nothing is cheap here for sure! $22-27 scotches by the firepits.   $10 bagel sandwiches at the ice cream parlor by the lobby.   Don't come here if you don't like to spend money!  Also, i would avoid eating the meals here. Food is not the best and it costs an arm and a leg.   Would love to come back for some more golf and hiking. \n",
      "\n",
      "You def. get more perks staying at Canyon Suites (free wifi, free access to business center, nicer and more private pool and hot tub area, better free wine tasting, and nice amenities like free cider, arnold palmer, fruit, and cookies throughout the day.\n"
     ]
    }
   ],
   "source": [
    "summarize()"
   ]
  },
  {
   "cell_type": "markdown",
   "metadata": {},
   "source": [
    "<a id='textblob'></a>\n",
    "### Introduction to TextBlob\n",
    "\n",
    "`TextBlob`, which we already installed, is a Python library used to explore common NLP tasks. You can read more about TextBlob [here](https://textblob.readthedocs.io/en/dev/)."
   ]
  },
  {
   "cell_type": "code",
   "execution_count": 313,
   "metadata": {},
   "outputs": [
    {
     "name": "stdout",
     "output_type": "stream",
     "text": [
      "My wife took me here on my birthday for breakfast and it was excellent.  The weather was perfect which made sitting outside overlooking their grounds an absolute pleasure.  Our waitress was excellent and our food arrived quickly on the semi-busy Saturday morning.  It looked like the place fills up pretty quickly so the earlier you get here the better.\n",
      "\n",
      "Do yourself a favor and get their Bloody Mary.  It was phenomenal and simply the best I've ever had.  I'm pretty sure they only use ingredients from their garden and blend them fresh when you order it.  It was amazing.\n",
      "\n",
      "While EVERYTHING on the menu looks excellent, I had the white truffle scrambled eggs vegetable skillet and it was tasty and delicious.  It came with 2 pieces of their griddled bread with was amazing and it absolutely made the meal complete.  It was the best \"toast\" I've ever had.\n",
      "\n",
      "Anyway, I can't wait to go back!\n"
     ]
    }
   ],
   "source": [
    "# Print the first review.\n",
    "print((yelp_best_worst.text[0]))"
   ]
  },
  {
   "cell_type": "markdown",
   "metadata": {},
   "source": [
    "Let's save it as a `TextBlob` object:"
   ]
  },
  {
   "cell_type": "code",
   "execution_count": 314,
   "metadata": {},
   "outputs": [],
   "source": [
    "review1 = TextBlob(yelp_best_worst.text[0])"
   ]
  },
  {
   "cell_type": "code",
   "execution_count": 315,
   "metadata": {},
   "outputs": [
    {
     "data": {
      "text/plain": [
       "[('My', 'PRP$'),\n",
       " ('wife', 'NN'),\n",
       " ('took', 'VBD'),\n",
       " ('me', 'PRP'),\n",
       " ('here', 'RB'),\n",
       " ('on', 'IN'),\n",
       " ('my', 'PRP$'),\n",
       " ('birthday', 'NN'),\n",
       " ('for', 'IN'),\n",
       " ('breakfast', 'NN'),\n",
       " ('and', 'CC'),\n",
       " ('it', 'PRP'),\n",
       " ('was', 'VBD'),\n",
       " ('excellent', 'JJ'),\n",
       " ('The', 'DT'),\n",
       " ('weather', 'NN'),\n",
       " ('was', 'VBD'),\n",
       " ('perfect', 'JJ'),\n",
       " ('which', 'WDT'),\n",
       " ('made', 'VBD'),\n",
       " ('sitting', 'VBG'),\n",
       " ('outside', 'IN'),\n",
       " ('overlooking', 'VBG'),\n",
       " ('their', 'PRP$'),\n",
       " ('grounds', 'NNS'),\n",
       " ('an', 'DT'),\n",
       " ('absolute', 'JJ'),\n",
       " ('pleasure', 'NN'),\n",
       " ('Our', 'PRP$'),\n",
       " ('waitress', 'NN'),\n",
       " ('was', 'VBD'),\n",
       " ('excellent', 'JJ'),\n",
       " ('and', 'CC'),\n",
       " ('our', 'PRP$'),\n",
       " ('food', 'NN'),\n",
       " ('arrived', 'VBD'),\n",
       " ('quickly', 'RB'),\n",
       " ('on', 'IN'),\n",
       " ('the', 'DT'),\n",
       " ('semi-busy', 'JJ'),\n",
       " ('Saturday', 'NNP'),\n",
       " ('morning', 'NN'),\n",
       " ('It', 'PRP'),\n",
       " ('looked', 'VBD'),\n",
       " ('like', 'IN'),\n",
       " ('the', 'DT'),\n",
       " ('place', 'NN'),\n",
       " ('fills', 'VBZ'),\n",
       " ('up', 'RP'),\n",
       " ('pretty', 'RB'),\n",
       " ('quickly', 'RB'),\n",
       " ('so', 'IN'),\n",
       " ('the', 'DT'),\n",
       " ('earlier', 'JJR'),\n",
       " ('you', 'PRP'),\n",
       " ('get', 'VBP'),\n",
       " ('here', 'RB'),\n",
       " ('the', 'DT'),\n",
       " ('better', 'JJR'),\n",
       " ('Do', 'VB'),\n",
       " ('yourself', 'PRP'),\n",
       " ('a', 'DT'),\n",
       " ('favor', 'NN'),\n",
       " ('and', 'CC'),\n",
       " ('get', 'VB'),\n",
       " ('their', 'PRP$'),\n",
       " ('Bloody', 'NNP'),\n",
       " ('Mary', 'NNP'),\n",
       " ('It', 'PRP'),\n",
       " ('was', 'VBD'),\n",
       " ('phenomenal', 'JJ'),\n",
       " ('and', 'CC'),\n",
       " ('simply', 'RB'),\n",
       " ('the', 'DT'),\n",
       " ('best', 'JJS'),\n",
       " ('I', 'PRP'),\n",
       " (\"'ve\", 'VBP'),\n",
       " ('ever', 'RB'),\n",
       " ('had', 'VBN'),\n",
       " ('I', 'PRP'),\n",
       " (\"'m\", 'VBP'),\n",
       " ('pretty', 'JJ'),\n",
       " ('sure', 'NN'),\n",
       " ('they', 'PRP'),\n",
       " ('only', 'RB'),\n",
       " ('use', 'VBP'),\n",
       " ('ingredients', 'NNS'),\n",
       " ('from', 'IN'),\n",
       " ('their', 'PRP$'),\n",
       " ('garden', 'NN'),\n",
       " ('and', 'CC'),\n",
       " ('blend', 'VB'),\n",
       " ('them', 'PRP'),\n",
       " ('fresh', 'JJ'),\n",
       " ('when', 'WRB'),\n",
       " ('you', 'PRP'),\n",
       " ('order', 'NN'),\n",
       " ('it', 'PRP'),\n",
       " ('It', 'PRP'),\n",
       " ('was', 'VBD'),\n",
       " ('amazing', 'VBG'),\n",
       " ('While', 'IN'),\n",
       " ('EVERYTHING', 'NN'),\n",
       " ('on', 'IN'),\n",
       " ('the', 'DT'),\n",
       " ('menu', 'NN'),\n",
       " ('looks', 'VBZ'),\n",
       " ('excellent', 'JJ'),\n",
       " ('I', 'PRP'),\n",
       " ('had', 'VBD'),\n",
       " ('the', 'DT'),\n",
       " ('white', 'JJ'),\n",
       " ('truffle', 'NN'),\n",
       " ('scrambled', 'VBD'),\n",
       " ('eggs', 'NNS'),\n",
       " ('vegetable', 'JJ'),\n",
       " ('skillet', 'NN'),\n",
       " ('and', 'CC'),\n",
       " ('it', 'PRP'),\n",
       " ('was', 'VBD'),\n",
       " ('tasty', 'JJ'),\n",
       " ('and', 'CC'),\n",
       " ('delicious', 'JJ'),\n",
       " ('It', 'PRP'),\n",
       " ('came', 'VBD'),\n",
       " ('with', 'IN'),\n",
       " ('2', 'CD'),\n",
       " ('pieces', 'NNS'),\n",
       " ('of', 'IN'),\n",
       " ('their', 'PRP$'),\n",
       " ('griddled', 'VBN'),\n",
       " ('bread', 'NN'),\n",
       " ('with', 'IN'),\n",
       " ('was', 'VBD'),\n",
       " ('amazing', 'VBG'),\n",
       " ('and', 'CC'),\n",
       " ('it', 'PRP'),\n",
       " ('absolutely', 'RB'),\n",
       " ('made', 'VBD'),\n",
       " ('the', 'DT'),\n",
       " ('meal', 'JJ'),\n",
       " ('complete', 'JJ'),\n",
       " ('It', 'PRP'),\n",
       " ('was', 'VBD'),\n",
       " ('the', 'DT'),\n",
       " ('best', 'JJS'),\n",
       " ('toast', 'NN'),\n",
       " ('I', 'PRP'),\n",
       " (\"'ve\", 'VBP'),\n",
       " ('ever', 'RB'),\n",
       " ('had', 'VBN'),\n",
       " ('Anyway', 'RB'),\n",
       " ('I', 'PRP'),\n",
       " ('ca', 'MD'),\n",
       " (\"n't\", 'RB'),\n",
       " ('wait', 'VB'),\n",
       " ('to', 'TO'),\n",
       " ('go', 'VB'),\n",
       " ('back', 'RB')]"
      ]
     },
     "execution_count": 315,
     "metadata": {},
     "output_type": "execute_result"
    }
   ],
   "source": [
    "review1.pos_tags"
   ]
  },
  {
   "cell_type": "markdown",
   "metadata": {},
   "source": [
    "Let's list the words and sentences:"
   ]
  },
  {
   "cell_type": "code",
   "execution_count": 235,
   "metadata": {},
   "outputs": [
    {
     "data": {
      "text/plain": [
       "WordList(['My', 'wife', 'took', 'me', 'here', 'on', 'my', 'birthday', 'for', 'breakfast', 'and', 'it', 'was', 'excellent', 'The', 'weather', 'was', 'perfect', 'which', 'made', 'sitting', 'outside', 'overlooking', 'their', 'grounds', 'an', 'absolute', 'pleasure', 'Our', 'waitress', 'was', 'excellent', 'and', 'our', 'food', 'arrived', 'quickly', 'on', 'the', 'semi-busy', 'Saturday', 'morning', 'It', 'looked', 'like', 'the', 'place', 'fills', 'up', 'pretty', 'quickly', 'so', 'the', 'earlier', 'you', 'get', 'here', 'the', 'better', 'Do', 'yourself', 'a', 'favor', 'and', 'get', 'their', 'Bloody', 'Mary', 'It', 'was', 'phenomenal', 'and', 'simply', 'the', 'best', 'I', \"'ve\", 'ever', 'had', 'I', \"'m\", 'pretty', 'sure', 'they', 'only', 'use', 'ingredients', 'from', 'their', 'garden', 'and', 'blend', 'them', 'fresh', 'when', 'you', 'order', 'it', 'It', 'was', 'amazing', 'While', 'EVERYTHING', 'on', 'the', 'menu', 'looks', 'excellent', 'I', 'had', 'the', 'white', 'truffle', 'scrambled', 'eggs', 'vegetable', 'skillet', 'and', 'it', 'was', 'tasty', 'and', 'delicious', 'It', 'came', 'with', '2', 'pieces', 'of', 'their', 'griddled', 'bread', 'with', 'was', 'amazing', 'and', 'it', 'absolutely', 'made', 'the', 'meal', 'complete', 'It', 'was', 'the', 'best', 'toast', 'I', \"'ve\", 'ever', 'had', 'Anyway', 'I', 'ca', \"n't\", 'wait', 'to', 'go', 'back'])"
      ]
     },
     "execution_count": 235,
     "metadata": {},
     "output_type": "execute_result"
    }
   ],
   "source": [
    "review1.words"
   ]
  },
  {
   "cell_type": "code",
   "execution_count": 316,
   "metadata": {},
   "outputs": [
    {
     "data": {
      "text/plain": [
       "[Sentence(\"My wife took me here on my birthday for breakfast and it was excellent.\"),\n",
       " Sentence(\"The weather was perfect which made sitting outside overlooking their grounds an absolute pleasure.\"),\n",
       " Sentence(\"Our waitress was excellent and our food arrived quickly on the semi-busy Saturday morning.\"),\n",
       " Sentence(\"It looked like the place fills up pretty quickly so the earlier you get here the better.\"),\n",
       " Sentence(\"Do yourself a favor and get their Bloody Mary.\"),\n",
       " Sentence(\"It was phenomenal and simply the best I've ever had.\"),\n",
       " Sentence(\"I'm pretty sure they only use ingredients from their garden and blend them fresh when you order it.\"),\n",
       " Sentence(\"It was amazing.\"),\n",
       " Sentence(\"While EVERYTHING on the menu looks excellent, I had the white truffle scrambled eggs vegetable skillet and it was tasty and delicious.\"),\n",
       " Sentence(\"It came with 2 pieces of their griddled bread with was amazing and it absolutely made the meal complete.\"),\n",
       " Sentence(\"It was the best \"toast\" I've ever had.\"),\n",
       " Sentence(\"Anyway, I can't wait to go back!\")]"
      ]
     },
     "execution_count": 316,
     "metadata": {},
     "output_type": "execute_result"
    }
   ],
   "source": [
    "review1.sentences"
   ]
  },
  {
   "cell_type": "markdown",
   "metadata": {},
   "source": [
    "Some string methods are immediately available:"
   ]
  },
  {
   "cell_type": "code",
   "execution_count": 317,
   "metadata": {},
   "outputs": [
    {
     "data": {
      "text/plain": [
       "TextBlob(\"my wife took me here on my birthday for breakfast and it was excellent.  the weather was perfect which made sitting outside overlooking their grounds an absolute pleasure.  our waitress was excellent and our food arrived quickly on the semi-busy saturday morning.  it looked like the place fills up pretty quickly so the earlier you get here the better.\n",
       "\n",
       "do yourself a favor and get their bloody mary.  it was phenomenal and simply the best i've ever had.  i'm pretty sure they only use ingredients from their garden and blend them fresh when you order it.  it was amazing.\n",
       "\n",
       "while everything on the menu looks excellent, i had the white truffle scrambled eggs vegetable skillet and it was tasty and delicious.  it came with 2 pieces of their griddled bread with was amazing and it absolutely made the meal complete.  it was the best \"toast\" i've ever had.\n",
       "\n",
       "anyway, i can't wait to go back!\")"
      ]
     },
     "execution_count": 317,
     "metadata": {},
     "output_type": "execute_result"
    }
   ],
   "source": [
    "review1.lower()"
   ]
  },
  {
   "cell_type": "markdown",
   "metadata": {},
   "source": [
    "### Stemming and Lemmatization\n",
    "\n",
    "As we saw before, **stemming** is a crude process of removing common endings from sentences, such as \"s\", \"es\", \"ly\", \"ing\", and \"ed\". This intelligently reduces the number of features by grouping together (hopefully) related words. Stemming uses a simple and fast rule-based approach, stemmed words are usually not shown to users (used for analysis/indexing), and some search engines treat words with the same stem as synonyms."
   ]
  },
  {
   "cell_type": "code",
   "execution_count": 238,
   "metadata": {},
   "outputs": [
    {
     "name": "stdout",
     "output_type": "stream",
     "text": [
      "159\n",
      "['my', 'wife', 'took', 'me', 'here', 'on', 'my', 'birthday', 'for', 'breakfast', 'and', 'it', 'was', 'excel', 'the', 'weather', 'was', 'perfect', 'which', 'made', 'sit', 'outsid', 'overlook', 'their', 'ground', 'an', 'absolut', 'pleasur', 'our', 'waitress', 'was', 'excel', 'and', 'our', 'food', 'arriv', 'quick', 'on', 'the', 'semi-busi', 'saturday', 'morn', 'it', 'look', 'like', 'the', 'place', 'fill', 'up', 'pretti', 'quick', 'so', 'the', 'earlier', 'you', 'get', 'here', 'the', 'better', 'do', 'yourself', 'a', 'favor', 'and', 'get', 'their', 'bloodi', 'mari', 'it', 'was', 'phenomen', 'and', 'simpli', 'the', 'best', 'i', 've', 'ever', 'had', 'i', \"'m\", 'pretti', 'sure', 'they', 'onli', 'use', 'ingredi', 'from', 'their', 'garden', 'and', 'blend', 'them', 'fresh', 'when', 'you', 'order', 'it', 'it', 'was', 'amaz', 'while', 'everyth', 'on', 'the', 'menu', 'look', 'excel', 'i', 'had', 'the', 'white', 'truffl', 'scrambl', 'egg', 'veget', 'skillet', 'and', 'it', 'was', 'tasti', 'and', 'delici', 'it', 'came', 'with', '2', 'piec', 'of', 'their', 'griddl', 'bread', 'with', 'was', 'amaz', 'and', 'it', 'absolut', 'made', 'the', 'meal', 'complet', 'it', 'was', 'the', 'best', 'toast', 'i', 've', 'ever', 'had', 'anyway', 'i', 'ca', \"n't\", 'wait', 'to', 'go', 'back']\n"
     ]
    }
   ],
   "source": [
    "# Initialize stemmer.\n",
    "stemmer = SnowballStemmer('english')\n",
    "\n",
    "# Stem each word.\n",
    "stemmed1 = [stemmer.stem(word) for word in review1.words]\n",
    "print(len(stemmed1))\n",
    "print(stemmed1)"
   ]
  },
  {
   "cell_type": "markdown",
   "metadata": {},
   "source": [
    "**Lemmatization** is a more refined process that uses specific language and grammar rules to derive the root of a word.  \n",
    "\n",
    "This is useful for words that do not share an obvious root such as \"better\" and \"best\". Lemmatization derives the **canonical form** (\"lemma\") of a word. It can be better than stemming. It uses a dictionary-based approach (slower than stemming). But we need to first assume whether words are nouns or verbs:"
   ]
  },
  {
   "cell_type": "code",
   "execution_count": 318,
   "metadata": {},
   "outputs": [
    {
     "name": "stdout",
     "output_type": "stream",
     "text": [
      "159\n",
      "['My', 'wife', 'took', 'me', 'here', 'on', 'my', 'birthday', 'for', 'breakfast', 'and', 'it', 'wa', 'excellent', 'The', 'weather', 'wa', 'perfect', 'which', 'made', 'sitting', 'outside', 'overlooking', 'their', 'ground', 'an', 'absolute', 'pleasure', 'Our', 'waitress', 'wa', 'excellent', 'and', 'our', 'food', 'arrived', 'quickly', 'on', 'the', 'semi-busy', 'Saturday', 'morning', 'It', 'looked', 'like', 'the', 'place', 'fill', 'up', 'pretty', 'quickly', 'so', 'the', 'earlier', 'you', 'get', 'here', 'the', 'better', 'Do', 'yourself', 'a', 'favor', 'and', 'get', 'their', 'Bloody', 'Mary', 'It', 'wa', 'phenomenal', 'and', 'simply', 'the', 'best', 'I', \"'ve\", 'ever', 'had', 'I', \"'m\", 'pretty', 'sure', 'they', 'only', 'use', 'ingredient', 'from', 'their', 'garden', 'and', 'blend', 'them', 'fresh', 'when', 'you', 'order', 'it', 'It', 'wa', 'amazing', 'While', 'EVERYTHING', 'on', 'the', 'menu', 'look', 'excellent', 'I', 'had', 'the', 'white', 'truffle', 'scrambled', 'egg', 'vegetable', 'skillet', 'and', 'it', 'wa', 'tasty', 'and', 'delicious', 'It', 'came', 'with', '2', 'piece', 'of', 'their', 'griddled', 'bread', 'with', 'wa', 'amazing', 'and', 'it', 'absolutely', 'made', 'the', 'meal', 'complete', 'It', 'wa', 'the', 'best', 'toast', 'I', \"'ve\", 'ever', 'had', 'Anyway', 'I', 'ca', \"n't\", 'wait', 'to', 'go', 'back']\n"
     ]
    }
   ],
   "source": [
    "# Assume every word is a noun\n",
    "lemmatized1 = [word.lemmatize() for word in review1.words]\n",
    "print(len(lemmatized1))\n",
    "print(lemmatized1)"
   ]
  },
  {
   "cell_type": "code",
   "execution_count": 46,
   "metadata": {},
   "outputs": [
    {
     "name": "stdout",
     "output_type": "stream",
     "text": [
      "159\n",
      "['My', 'wife', 'take', 'me', 'here', 'on', 'my', 'birthday', 'for', 'breakfast', 'and', 'it', 'be', 'excellent', 'The', 'weather', 'be', 'perfect', 'which', 'make', 'sit', 'outside', 'overlook', 'their', 'ground', 'an', 'absolute', 'pleasure', 'Our', 'waitress', 'be', 'excellent', 'and', 'our', 'food', 'arrive', 'quickly', 'on', 'the', 'semi-busy', 'Saturday', 'morning', 'It', 'look', 'like', 'the', 'place', 'fill', 'up', 'pretty', 'quickly', 'so', 'the', 'earlier', 'you', 'get', 'here', 'the', 'better', 'Do', 'yourself', 'a', 'favor', 'and', 'get', 'their', 'Bloody', 'Mary', 'It', 'be', 'phenomenal', 'and', 'simply', 'the', 'best', 'I', \"'ve\", 'ever', 'have', 'I', \"'m\", 'pretty', 'sure', 'they', 'only', 'use', 'ingredients', 'from', 'their', 'garden', 'and', 'blend', 'them', 'fresh', 'when', 'you', 'order', 'it', 'It', 'be', 'amaze', 'While', 'EVERYTHING', 'on', 'the', 'menu', 'look', 'excellent', 'I', 'have', 'the', 'white', 'truffle', 'scramble', 'egg', 'vegetable', 'skillet', 'and', 'it', 'be', 'tasty', 'and', 'delicious', 'It', 'come', 'with', '2', 'piece', 'of', 'their', 'griddle', 'bread', 'with', 'be', 'amaze', 'and', 'it', 'absolutely', 'make', 'the', 'meal', 'complete', 'It', 'be', 'the', 'best', 'toast', 'I', \"'ve\", 'ever', 'have', 'Anyway', 'I', 'ca', \"n't\", 'wait', 'to', 'go', 'back']\n"
     ]
    }
   ],
   "source": [
    "# Assume every word is a verb\n",
    "lemmatized1v = [word.lemmatize(pos='v') for word in review1.words]\n",
    "print(len(lemmatized1v))\n",
    "print(lemmatized1v)"
   ]
  },
  {
   "cell_type": "markdown",
   "metadata": {},
   "source": [
    "Some examples you can see are `took` lemmatized to `take` and `was` lemmatized to `be`.\n",
    "\n",
    "Assuming Parts of Speech, means we need to do a POS analysis, first!"
   ]
  },
  {
   "cell_type": "code",
   "execution_count": 240,
   "metadata": {},
   "outputs": [
    {
     "name": "stdout",
     "output_type": "stream",
     "text": [
      "('Features: ', 16444)\n",
      "('Accuracy: ', 0.9207436399217221)\n",
      "['yuyuyummy', 'yuzu', 'z', 'z-grill', 'z11', 'zach', 'zam', 'zanella', 'zankou', 'zappos', 'zatsiki', 'zen', 'zen-like', 'zero', 'zero-star', 'zest', 'zexperience', 'zha', 'zhou', 'zia', 'zilch', 'zin', 'zinburger', 'zinburgergeist', 'zinc', 'zinfandel', 'zing', 'zip', 'zipcar', 'zipper', 'zipps', 'ziti', 'zoe', 'zombi', 'zombie', 'zone', 'zoning', 'zoo', 'zoyo', 'zucca', 'zucchini', 'zuchinni', 'zumba', 'zupa', 'zuzu', 'zwiebel-kräuter', 'zzed', 'éclairs', 'école', 'ém']\n"
     ]
    }
   ],
   "source": [
    "# Define a function that accepts text and returns a list of lemmas.\n",
    "def split_into_lemmas(text):\n",
    "    text = text.lower()\n",
    "    words = TextBlob(text).words\n",
    "    return [word.lemmatize() for word in words]\n",
    "\n",
    "# Use split_into_lemmas as the feature extraction function (Warning: SLOW!).\n",
    "vect = CountVectorizer(analyzer=split_into_lemmas, decode_error='replace')\n",
    "tokenize_test(vect)\n",
    "\n",
    "# Last 50 features\n",
    "print((vect.get_feature_names()[-50:]))"
   ]
  },
  {
   "cell_type": "markdown",
   "metadata": {},
   "source": [
    "With all available options for `CountVectorizer()`, you may wonder how to decide which to use! It's true that you can sometimes reason about which preprocessing techniques might work best. However, you will often not know for sure without trying out many different combinations and comparing their accuracies. \n",
    "\n",
    "> **NOTE**: Keep in mind that you should constantly be thinking about the result of each preprocessing step instead of blindly trying them without thinking. Does each type of preprocessing \"makes sense\" with the input data you are using? Is it likely to keep intact the signal and remove noise?"
   ]
  },
  {
   "cell_type": "markdown",
   "metadata": {},
   "source": [
    "### Sentiment Analysis\n",
    "\n",
    "Sentiment Analysis is understanding how **positive** or **negative** a review is. There are many ways in practice to compute a sentiment value. For example:\n",
    "\n",
    "- Have a list of positive words and a list of negative words and count how many occur in a document. \n",
    "- Train a classifier given many examples of positive documents and negative documents. \n",
    "    - Note that this technique is often just an automated way to derive the first (e.g., using bag-of-words with logistic regression, a coefficient is assigned to each word!).\n",
    "\n",
    "For the most accurate sentiment analysis, you will want to train a custom sentiment model based on documents that are particular ***to your application***. Generic models (such as the one we are about to use) often do not work as well as hoped.\n",
    "\n",
    "As we will do below, always make sure you double-check that the algorithm is working by manually verifying that scores correctly correspond to positive/negative reviews! Otherwise, you may be using numbers that are not accurate!\n",
    "\n",
    "Let's go back to our yelp reviews."
   ]
  },
  {
   "cell_type": "code",
   "execution_count": 319,
   "metadata": {},
   "outputs": [
    {
     "name": "stdout",
     "output_type": "stream",
     "text": [
      "My wife took me here on my birthday for breakfast and it was excellent.  The weather was perfect which made sitting outside overlooking their grounds an absolute pleasure.  Our waitress was excellent and our food arrived quickly on the semi-busy Saturday morning.  It looked like the place fills up pretty quickly so the earlier you get here the better.\n",
      "\n",
      "Do yourself a favor and get their Bloody Mary.  It was phenomenal and simply the best I've ever had.  I'm pretty sure they only use ingredients from their garden and blend them fresh when you order it.  It was amazing.\n",
      "\n",
      "While EVERYTHING on the menu looks excellent, I had the white truffle scrambled eggs vegetable skillet and it was tasty and delicious.  It came with 2 pieces of their griddled bread with was amazing and it absolutely made the meal complete.  It was the best \"toast\" I've ever had.\n",
      "\n",
      "Anyway, I can't wait to go back!\n"
     ]
    }
   ],
   "source": [
    "print(review1)"
   ]
  },
  {
   "cell_type": "code",
   "execution_count": 324,
   "metadata": {},
   "outputs": [
    {
     "data": {
      "text/plain": [
       "0.40246913580246907"
      ]
     },
     "execution_count": 324,
     "metadata": {},
     "output_type": "execute_result"
    }
   ],
   "source": [
    "# Polarity ranges from -1 (most negative) to 1 (most positive).\n",
    "review1.sentiment.polarity"
   ]
  },
  {
   "cell_type": "code",
   "execution_count": 325,
   "metadata": {},
   "outputs": [
    {
     "data": {
      "text/html": [
       "<div>\n",
       "<style scoped>\n",
       "    .dataframe tbody tr th:only-of-type {\n",
       "        vertical-align: middle;\n",
       "    }\n",
       "\n",
       "    .dataframe tbody tr th {\n",
       "        vertical-align: top;\n",
       "    }\n",
       "\n",
       "    .dataframe thead th {\n",
       "        text-align: right;\n",
       "    }\n",
       "</style>\n",
       "<table border=\"1\" class=\"dataframe\">\n",
       "  <thead>\n",
       "    <tr style=\"text-align: right;\">\n",
       "      <th></th>\n",
       "      <th>business_id</th>\n",
       "      <th>date</th>\n",
       "      <th>review_id</th>\n",
       "      <th>stars</th>\n",
       "      <th>text</th>\n",
       "      <th>type</th>\n",
       "      <th>user_id</th>\n",
       "      <th>cool</th>\n",
       "      <th>useful</th>\n",
       "      <th>funny</th>\n",
       "      <th>sentiment</th>\n",
       "      <th>length</th>\n",
       "    </tr>\n",
       "  </thead>\n",
       "  <tbody>\n",
       "    <tr>\n",
       "      <th>0</th>\n",
       "      <td>9yKzy9PApeiPPOUJEtnvkg</td>\n",
       "      <td>2011-01-26</td>\n",
       "      <td>fWKvX83p0-ka4JS3dc6E5A</td>\n",
       "      <td>5</td>\n",
       "      <td>My wife took me here on my birthday for breakfast and it was excellent.  The weather was perfect which made sitting ...</td>\n",
       "      <td>review</td>\n",
       "      <td>rLtl8ZkDX5vH5nAx9C3q5Q</td>\n",
       "      <td>2</td>\n",
       "      <td>5</td>\n",
       "      <td>0</td>\n",
       "      <td>0.402469</td>\n",
       "      <td>889</td>\n",
       "    </tr>\n",
       "  </tbody>\n",
       "</table>\n",
       "</div>"
      ],
      "text/plain": [
       "              business_id        date               review_id  stars  \\\n",
       "0  9yKzy9PApeiPPOUJEtnvkg  2011-01-26  fWKvX83p0-ka4JS3dc6E5A      5   \n",
       "\n",
       "                                                                                                                      text  \\\n",
       "0  My wife took me here on my birthday for breakfast and it was excellent.  The weather was perfect which made sitting ...   \n",
       "\n",
       "     type                 user_id  cool  useful  funny  sentiment  length  \n",
       "0  review  rLtl8ZkDX5vH5nAx9C3q5Q     2       5      0   0.402469     889  "
      ]
     },
     "execution_count": 325,
     "metadata": {},
     "output_type": "execute_result"
    }
   ],
   "source": [
    "# Understanding the apply method\n",
    "yelp['length'] = yelp.text.apply(len)\n",
    "yelp.head(1)"
   ]
  },
  {
   "cell_type": "code",
   "execution_count": 326,
   "metadata": {},
   "outputs": [],
   "source": [
    "# Define a function that accepts text and returns the polarity\n",
    "def detect_sentiment(text):\n",
    "    return TextBlob(text).sentiment.polarity"
   ]
  },
  {
   "cell_type": "code",
   "execution_count": 327,
   "metadata": {},
   "outputs": [],
   "source": [
    "# Create a new DataFrame column for sentiment (Warning: SLOW!).\n",
    "yelp['sentiment'] = yelp.text.apply(detect_sentiment)"
   ]
  },
  {
   "cell_type": "code",
   "execution_count": 328,
   "metadata": {},
   "outputs": [
    {
     "data": {
      "text/plain": [
       "<matplotlib.axes._subplots.AxesSubplot at 0x2475295d320>"
      ]
     },
     "execution_count": 328,
     "metadata": {},
     "output_type": "execute_result"
    },
    {
     "data": {
      "image/png": "[encoded data removed]",
      "text/plain": [
       "<Figure size 432x288 with 1 Axes>"
      ]
     },
     "metadata": {
      "needs_background": "light"
     },
     "output_type": "display_data"
    }
   ],
   "source": [
    "# Box plot of sentiment grouped by stars\n",
    "yelp.boxplot(column='sentiment', by='stars')"
   ]
  },
  {
   "cell_type": "code",
   "execution_count": 332,
   "metadata": {},
   "outputs": [
    {
     "data": {
      "text/plain": [
       "254                                                              Our server Gary was awesome. Food was amazing...an experience.\n",
       "347                                                  3 syllables for this place. \\nA-MAZ-ING!\\n\\nThe best Phoenix has to offer.\n",
       "420                                                                                                           LOVE the food!!!!\n",
       "459     Love it!!! Wish we still lived in Arizona as Chino is the one thing we miss. Every time I think about Chino Bandido ...\n",
       "679                                                                                                            Excellent burger\n",
       "748                                                                    Excellent service and food.  Best tex-mex in the valley.\n",
       "1136                                                                                               Best donuts I have ever had.\n",
       "1179                                   Excellent food, top-notch service, exorbitantly priced.  Not for budget minded diners...\n",
       "1474                                                                                                      The best bar in town.\n",
       "1496                                                                                                Yum best donuts in Phoenix.\n",
       "Name: text, dtype: object"
      ]
     },
     "execution_count": 332,
     "metadata": {},
     "output_type": "execute_result"
    }
   ],
   "source": [
    "# Reviews with most positive sentiment\n",
    "yelp[yelp.sentiment == 1].text.head(10)"
   ]
  },
  {
   "cell_type": "code",
   "execution_count": 259,
   "metadata": {},
   "outputs": [
    {
     "data": {
      "text/plain": [
       "773     This was absolutely horrible. I got the supreme pizza with the mystery meats.  I threw it in the trash. I will wait ...\n",
       "1517                                                                                        Nasty workers and over priced trash\n",
       "3266                                                           Absolutely awful... these guys have NO idea what they are doing!\n",
       "4766                                                                                                             Very bad food!\n",
       "5812                                                                              I wouldn't send my worst enemy to this place.\n",
       "Name: text, dtype: object"
      ]
     },
     "execution_count": 259,
     "metadata": {},
     "output_type": "execute_result"
    }
   ],
   "source": [
    "# Reviews with most negative sentiment\n",
    "yelp[yelp.sentiment == -1].text.head()"
   ]
  },
  {
   "cell_type": "code",
   "execution_count": 258,
   "metadata": {},
   "outputs": [],
   "source": [
    "# Widen the column display.\n",
    "pd.set_option('max_colwidth', 120)"
   ]
  },
  {
   "cell_type": "code",
   "execution_count": 260,
   "metadata": {},
   "outputs": [
    {
     "data": {
      "text/html": [
       "<div>\n",
       "<style scoped>\n",
       "    .dataframe tbody tr th:only-of-type {\n",
       "        vertical-align: middle;\n",
       "    }\n",
       "\n",
       "    .dataframe tbody tr th {\n",
       "        vertical-align: top;\n",
       "    }\n",
       "\n",
       "    .dataframe thead th {\n",
       "        text-align: right;\n",
       "    }\n",
       "</style>\n",
       "<table border=\"1\" class=\"dataframe\">\n",
       "  <thead>\n",
       "    <tr style=\"text-align: right;\">\n",
       "      <th></th>\n",
       "      <th>business_id</th>\n",
       "      <th>date</th>\n",
       "      <th>review_id</th>\n",
       "      <th>stars</th>\n",
       "      <th>text</th>\n",
       "      <th>type</th>\n",
       "      <th>user_id</th>\n",
       "      <th>cool</th>\n",
       "      <th>useful</th>\n",
       "      <th>funny</th>\n",
       "      <th>sentiment</th>\n",
       "    </tr>\n",
       "  </thead>\n",
       "  <tbody>\n",
       "    <tr>\n",
       "      <th>390</th>\n",
       "      <td>106JT5p8e8Chtd0CZpcARw</td>\n",
       "      <td>2009-08-06</td>\n",
       "      <td>KowGVoP_gygzdSu6Mt3zKQ</td>\n",
       "      <td>5</td>\n",
       "      <td>RIP AZ Coffee Connection.  :(  I stopped by two days ago unaware that they had closed.  I am severely bummed.  This ...</td>\n",
       "      <td>review</td>\n",
       "      <td>jKeaOrPyJ-dI9SNeVqrbww</td>\n",
       "      <td>1</td>\n",
       "      <td>0</td>\n",
       "      <td>0</td>\n",
       "      <td>-0.302083</td>\n",
       "    </tr>\n",
       "  </tbody>\n",
       "</table>\n",
       "</div>"
      ],
      "text/plain": [
       "                business_id        date               review_id  stars  \\\n",
       "390  106JT5p8e8Chtd0CZpcARw  2009-08-06  KowGVoP_gygzdSu6Mt3zKQ      5   \n",
       "\n",
       "                                                                                                                        text  \\\n",
       "390  RIP AZ Coffee Connection.  :(  I stopped by two days ago unaware that they had closed.  I am severely bummed.  This ...   \n",
       "\n",
       "       type                 user_id  cool  useful  funny  sentiment  \n",
       "390  review  jKeaOrPyJ-dI9SNeVqrbww     1       0      0  -0.302083  "
      ]
     },
     "execution_count": 260,
     "metadata": {},
     "output_type": "execute_result"
    }
   ],
   "source": [
    "# Negative sentiment in a 5-star review\n",
    "yelp[(yelp.stars == 5) & (yelp.sentiment < -0.3)].head(1)"
   ]
  },
  {
   "cell_type": "code",
   "execution_count": 67,
   "metadata": {},
   "outputs": [
    {
     "data": {
      "text/html": [
       "<div>\n",
       "<style scoped>\n",
       "    .dataframe tbody tr th:only-of-type {\n",
       "        vertical-align: middle;\n",
       "    }\n",
       "\n",
       "    .dataframe tbody tr th {\n",
       "        vertical-align: top;\n",
       "    }\n",
       "\n",
       "    .dataframe thead th {\n",
       "        text-align: right;\n",
       "    }\n",
       "</style>\n",
       "<table border=\"1\" class=\"dataframe\">\n",
       "  <thead>\n",
       "    <tr style=\"text-align: right;\">\n",
       "      <th></th>\n",
       "      <th>business_id</th>\n",
       "      <th>date</th>\n",
       "      <th>review_id</th>\n",
       "      <th>stars</th>\n",
       "      <th>text</th>\n",
       "      <th>type</th>\n",
       "      <th>user_id</th>\n",
       "      <th>cool</th>\n",
       "      <th>useful</th>\n",
       "      <th>funny</th>\n",
       "      <th>length</th>\n",
       "      <th>sentiment</th>\n",
       "    </tr>\n",
       "  </thead>\n",
       "  <tbody>\n",
       "    <tr>\n",
       "      <th>1781</th>\n",
       "      <td>53YGfwmbW73JhFiemNeyzQ</td>\n",
       "      <td>2012-06-22</td>\n",
       "      <td>Gi-4O3EhE175vujbFGDIew</td>\n",
       "      <td>1</td>\n",
       "      <td>If you like the stuck up Scottsdale vibe this is a good place for you. The food isn't impressive. Nice outdoor seating.</td>\n",
       "      <td>review</td>\n",
       "      <td>Hqgx3IdJAAaoQjvrUnbNvw</td>\n",
       "      <td>0</td>\n",
       "      <td>1</td>\n",
       "      <td>2</td>\n",
       "      <td>119</td>\n",
       "      <td>0.766667</td>\n",
       "    </tr>\n",
       "  </tbody>\n",
       "</table>\n",
       "</div>"
      ],
      "text/plain": [
       "                 business_id        date               review_id  stars  \\\n",
       "1781  53YGfwmbW73JhFiemNeyzQ  2012-06-22  Gi-4O3EhE175vujbFGDIew      1   \n",
       "\n",
       "                                                                                                                         text  \\\n",
       "1781  If you like the stuck up Scottsdale vibe this is a good place for you. The food isn't impressive. Nice outdoor seating.   \n",
       "\n",
       "        type                 user_id  cool  useful  funny  length  sentiment  \n",
       "1781  review  Hqgx3IdJAAaoQjvrUnbNvw     0       1      2     119   0.766667  "
      ]
     },
     "execution_count": 67,
     "metadata": {},
     "output_type": "execute_result"
    }
   ],
   "source": [
    "# Positive sentiment in a 1-star review\n",
    "yelp[(yelp.stars == 1) & (yelp.sentiment > 0.5)].head(1)"
   ]
  },
  {
   "cell_type": "code",
   "execution_count": 68,
   "metadata": {},
   "outputs": [],
   "source": [
    "# Reset the column display width.\n",
    "pd.reset_option('max_colwidth')"
   ]
  },
  {
   "cell_type": "markdown",
   "metadata": {},
   "source": [
    "### Adding Features to a Document-Term Matrix\n",
    "\n",
    "Let's add additional features to our `CountVectorizer()`-generated feature set to hopefully improve our model.\n",
    "\n",
    "To make the best models, you will want to supplement the auto-generated features with new features you think might be important. After all, `CountVectorizer()` typically lowercases text and removes all associations between words. Or, you may have metadata to add in addition to just the text.\n",
    "\n",
    "> **NOTE**: Although you may have hundreds of thousands of features, each data point is extremely sparse. So, if you add in a new feature, e.g., one that detects if the text is all capital letters, this new feature can still have a huge effect on  model outcome!"
   ]
  },
  {
   "cell_type": "code",
   "execution_count": 69,
   "metadata": {},
   "outputs": [],
   "source": [
    "# Create a DataFrame that only contains the 5-star and 1-star reviews.\n",
    "yelp_best_worst = yelp[(yelp.stars==5) | (yelp.stars==1)]\n",
    "\n",
    "# define X and y\n",
    "feature_cols = ['text', 'sentiment', 'cool', 'useful', 'funny']\n",
    "X = yelp_best_worst[feature_cols]\n",
    "y = yelp_best_worst.stars\n",
    "\n",
    "# split into training and testing sets\n",
    "X_train, X_test, y_train, y_test = train_test_split(X, y, random_state=1)"
   ]
  },
  {
   "cell_type": "code",
   "execution_count": 70,
   "metadata": {},
   "outputs": [
    {
     "name": "stdout",
     "output_type": "stream",
     "text": [
      "(3064, 16825)\n",
      "(1022, 16825)\n"
     ]
    }
   ],
   "source": [
    "# Use CountVectorizer with text column only.\n",
    "vect = CountVectorizer()\n",
    "X_train_dtm = vect.fit_transform(X_train.text)\n",
    "X_test_dtm = vect.transform(X_test.text)\n",
    "print((X_train_dtm.shape))\n",
    "print((X_test_dtm.shape))"
   ]
  },
  {
   "cell_type": "code",
   "execution_count": 71,
   "metadata": {},
   "outputs": [
    {
     "data": {
      "text/plain": [
       "(3064, 4)"
      ]
     },
     "execution_count": 71,
     "metadata": {},
     "output_type": "execute_result"
    }
   ],
   "source": [
    "# Shape of other four feature columns\n",
    "X_train.drop('text', axis=1).shape"
   ]
  },
  {
   "cell_type": "code",
   "execution_count": 72,
   "metadata": {},
   "outputs": [
    {
     "data": {
      "text/plain": [
       "(3064, 4)"
      ]
     },
     "execution_count": 72,
     "metadata": {},
     "output_type": "execute_result"
    }
   ],
   "source": [
    "# Cast other feature columns to float and convert to a sparse matrix\n",
    "extra = sp.sparse.csr_matrix(X_train.drop('text', axis=1).astype(float))\n",
    "extra.shape"
   ]
  },
  {
   "cell_type": "code",
   "execution_count": 73,
   "metadata": {},
   "outputs": [
    {
     "data": {
      "text/plain": [
       "(3064, 16829)"
      ]
     },
     "execution_count": 73,
     "metadata": {},
     "output_type": "execute_result"
    }
   ],
   "source": [
    "# Combine sparse matrices\n",
    "X_train_dtm_extra = sp.sparse.hstack((X_train_dtm, extra))\n",
    "X_train_dtm_extra.shape"
   ]
  },
  {
   "cell_type": "code",
   "execution_count": 74,
   "metadata": {},
   "outputs": [
    {
     "data": {
      "text/plain": [
       "(1022, 16829)"
      ]
     },
     "execution_count": 74,
     "metadata": {},
     "output_type": "execute_result"
    }
   ],
   "source": [
    "# Repeat for testing set\n",
    "extra = sp.sparse.csr_matrix(X_test.drop('text', axis=1).astype(float))\n",
    "X_test_dtm_extra = sp.sparse.hstack((X_test_dtm, extra))\n",
    "X_test_dtm_extra.shape"
   ]
  },
  {
   "cell_type": "code",
   "execution_count": 75,
   "metadata": {},
   "outputs": [
    {
     "name": "stderr",
     "output_type": "stream",
     "text": [
      "d:\\Anaconda3.5.1\\lib\\site-packages\\sklearn\\linear_model\\logistic.py:432: FutureWarning: Default solver will be changed to 'lbfgs' in 0.22. Specify a solver to silence this warning.\n",
      "  FutureWarning)\n"
     ]
    },
    {
     "name": "stdout",
     "output_type": "stream",
     "text": [
      "0.9178082191780822\n"
     ]
    }
   ],
   "source": [
    "# Use logistic regression with text column only\n",
    "logreg = LogisticRegression(C=1e9)\n",
    "logreg.fit(X_train_dtm, y_train)\n",
    "y_pred_class = logreg.predict(X_test_dtm)\n",
    "print((metrics.accuracy_score(y_test, y_pred_class)))"
   ]
  },
  {
   "cell_type": "code",
   "execution_count": 76,
   "metadata": {},
   "outputs": [
    {
     "name": "stdout",
     "output_type": "stream",
     "text": [
      "0.9227005870841487\n"
     ]
    }
   ],
   "source": [
    "# Use logistic regression with all features\n",
    "logreg = LogisticRegression(C=1e9)\n",
    "logreg.fit(X_train_dtm_extra, y_train)\n",
    "y_pred_class = logreg.predict(X_test_dtm_extra)\n",
    "print((metrics.accuracy_score(y_test, y_pred_class)))"
   ]
  },
  {
   "cell_type": "markdown",
   "metadata": {},
   "source": [
    "### More TextBlob Features"
   ]
  },
  {
   "cell_type": "code",
   "execution_count": 79,
   "metadata": {},
   "outputs": [
    {
     "data": {
      "text/plain": [
       "TextBlob(\"15 minutes late\")"
      ]
     },
     "execution_count": 79,
     "metadata": {},
     "output_type": "execute_result"
    }
   ],
   "source": [
    "# Spelling correction\n",
    "TextBlob('15 minuets late').correct()"
   ]
  },
  {
   "cell_type": "code",
   "execution_count": 80,
   "metadata": {},
   "outputs": [
    {
     "data": {
      "text/plain": [
       "[('part', 0.9929478138222849), ('parrot', 0.007052186177715092)]"
      ]
     },
     "execution_count": 80,
     "metadata": {},
     "output_type": "execute_result"
    }
   ],
   "source": [
    "# Spellcheck\n",
    "Word('parot').spellcheck()"
   ]
  },
  {
   "cell_type": "code",
   "execution_count": 81,
   "metadata": {},
   "outputs": [
    {
     "data": {
      "text/plain": [
       "['tip laterally',\n",
       " 'enclose with a bank',\n",
       " 'do business with a bank or keep an account at a bank',\n",
       " 'act as the banker in a game or in gambling',\n",
       " 'be in the banking business',\n",
       " 'put into a bank account',\n",
       " 'cover with ashes so to control the rate of burning',\n",
       " 'have confidence or faith in']"
      ]
     },
     "execution_count": 81,
     "metadata": {},
     "output_type": "execute_result"
    }
   ],
   "source": [
    "# Definitions\n",
    "Word('bank').define('v')"
   ]
  },
  {
   "cell_type": "code",
   "execution_count": 333,
   "metadata": {},
   "outputs": [
    {
     "data": {
      "text/plain": [
       "'el'"
      ]
     },
     "execution_count": 333,
     "metadata": {},
     "output_type": "execute_result"
    }
   ],
   "source": [
    "# Language identification\n",
    "TextBlob('’Είπε ο γάιδαρος τον πετεινό κεφάλα').detect_language()"
   ]
  },
  {
   "cell_type": "code",
   "execution_count": 334,
   "metadata": {},
   "outputs": [
    {
     "data": {
      "text/plain": [
       "TextBlob(\"Said the donkey with its flying head\")"
      ]
     },
     "execution_count": 334,
     "metadata": {},
     "output_type": "execute_result"
    }
   ],
   "source": [
    "# translation\n",
    "TextBlob('’Είπε ο γάιδαρος τον πετεινό κεφάλα').translate(to=\"en\") "
   ]
  },
  {
   "cell_type": "markdown",
   "metadata": {},
   "source": [
    ">**NOTE**: The correct translation is *the donkey called the rooster big-headed*."
   ]
  },
  {
   "cell_type": "code",
   "execution_count": 335,
   "metadata": {},
   "outputs": [
    {
     "data": {
      "text/plain": [
       "'hi'"
      ]
     },
     "execution_count": 335,
     "metadata": {},
     "output_type": "execute_result"
    }
   ],
   "source": [
    "TextBlob('जंगल में मोर नाचा किस ने देखा ?').detect_language()"
   ]
  },
  {
   "cell_type": "code",
   "execution_count": 336,
   "metadata": {},
   "outputs": [
    {
     "data": {
      "text/plain": [
       "TextBlob(\"Wood In A Wilderness ?\")"
      ]
     },
     "execution_count": 336,
     "metadata": {},
     "output_type": "execute_result"
    }
   ],
   "source": [
    "TextBlob('जंगल में मोर नाचा किस ने देखा ?').translate(to=\"en\") "
   ]
  },
  {
   "cell_type": "markdown",
   "metadata": {},
   "source": [
    ">**NOTE**: The correct translation is *Who saw a peacock dance in the woods?*."
   ]
  },
  {
   "cell_type": "code",
   "execution_count": 337,
   "metadata": {},
   "outputs": [
    {
     "data": {
      "text/plain": [
       "'zh-CN'"
      ]
     },
     "execution_count": 337,
     "metadata": {},
     "output_type": "execute_result"
    }
   ],
   "source": [
    "TextBlob('授人以鱼不如授人以渔').detect_language()"
   ]
  },
  {
   "cell_type": "code",
   "execution_count": 338,
   "metadata": {},
   "outputs": [
    {
     "data": {
      "text/plain": [
       "TextBlob(\"It is better to teach people to fish\")"
      ]
     },
     "execution_count": 338,
     "metadata": {},
     "output_type": "execute_result"
    }
   ],
   "source": [
    "TextBlob('授人以鱼不如授人以渔').translate(to=\"en\") "
   ]
  },
  {
   "cell_type": "markdown",
   "metadata": {},
   "source": [
    ">**NOTE**: The more litteral translation is *Giving a man a fish is not equal to teaching a man to fish*."
   ]
  },
  {
   "cell_type": "markdown",
   "metadata": {},
   "source": [
    "<a id='section2'></a>"
   ]
  },
  {
   "cell_type": "markdown",
   "metadata": {},
   "source": [
    "## Notebook Contents:\n",
    "- Part 1: [Introduction to Natural Language Processing (NLP)](#section1)\n",
    "- Part 2: [Big Data processing: Optimizations often required for NLP](#section2)\n",
    "- Part 3: [NLP with the Reuters dataset](#section3)\n",
    "- Part 4: [Words 2 Vectors](#section4)\n",
    "- Part 5: [NLP-ing Litterature](#section5)"
   ]
  },
  {
   "cell_type": "markdown",
   "metadata": {},
   "source": [
    "\n",
    "# Part 2: Big Data processing: Optimizations often required for NLP\n",
    "\n",
    "Artificial Neural Networks (ANN) learning to do Natural Language Processing (NLP) require tons of data to learn correctly. So I need to show you some Big Data techniques.\n",
    "\n",
    "<br />\n",
    "<left>\n",
    "<img src=\"ipynb.images/big-data.png\" width=600 />\n",
    "</left>\n",
    "\n",
    "**Streaming** is not a `SciPy` feature per se, but rather an approach that\n",
    "allows you to efficiently process large datasets, like those often\n",
    "seen in science or in Natural Langiage Processing. \n",
    "\n",
    "The Python language contains some useful primitives\n",
    "for streaming data processing, and these can be combined with the\n",
    "`Toolz` library to generate elegant, concise code that is extremely\n",
    "memory-efficient. \n",
    "\n",
    "Let's apply these streaming concepts to enable you to \n",
    "handle much larger datasets than can fit in your computer's RAM.\n",
    "\n",
    "You have probably already done some streaming, perhaps without thinking about it in these terms.\n",
    "The simplest form is probably iterating through lines in a files, processing each line without ever reading the entire file into memory.\n",
    "\n",
    "For example a loop like this to calculate the mean of each row and sum them:"
   ]
  },
  {
   "cell_type": "code",
   "execution_count": 339,
   "metadata": {},
   "outputs": [
    {
     "name": "stdout",
     "output_type": "stream",
     "text": [
      "1463.0\n"
     ]
    }
   ],
   "source": [
    "import numpy as np\n",
    "with open('data/expr.tsv') as f:\n",
    "    sum_of_means = 0\n",
    "    for line in f:\n",
    "        sum_of_means += np.mean(np.fromstring(line, dtype=int, sep='\\t'))\n",
    "print(sum_of_means)"
   ]
  },
  {
   "cell_type": "markdown",
   "metadata": {},
   "source": [
    "This strategy works really well for cases where your problem can be neatly solved with by-row processing.\n",
    "But things can quickly get out of hand when your code becomes more sophisticated.\n",
    "\n",
    "In streaming programs, a function processes *some* of the input data, returns the\n",
    "processed chunk, then, while downstream functions are dealing with that chunk,\n",
    "the function receives a bit more, and so on...\n",
    "\n",
    "<br />\n",
    "<left>\n",
    "<img src=\"ipynb.images/processing.jpg\" width=400 />\n",
    "</left>\n",
    "\n",
    "Constructs in the `toolz` library make streaming programs easy and elegant to write.\n",
    "\n",
    "Suppose you have some data in a text file, and you want to compute the column-wise average of $\\log(x+1)$ of the values.\n",
    "The common way to do this would be to use `NumPy` to load the values, compute the `log` function for all values in the full matrix, and then take the mean over the 1st axis:"
   ]
  },
  {
   "cell_type": "code",
   "execution_count": 340,
   "metadata": {},
   "outputs": [
    {
     "data": {
      "text/plain": [
       "array([3.118, 2.487, 2.196, 2.36 , 2.701, 2.647, 2.437, 3.285, 2.054,\n",
       "       2.372, 3.855, 3.949, 2.467, 2.363, 3.184, 2.644, 2.63 , 2.848,\n",
       "       2.617, 4.125])"
      ]
     },
     "execution_count": 340,
     "metadata": {},
     "output_type": "execute_result"
    }
   ],
   "source": [
    "import numpy as np\n",
    "expr = np.loadtxt('data/expr.tsv')\n",
    "logexpr = np.log(expr + 1)\n",
    "np.mean(logexpr, axis=0)"
   ]
  },
  {
   "cell_type": "markdown",
   "metadata": {},
   "source": [
    "This works, and it follows a reassuringly familiar input-output model of computation.\n",
    "But it's pretty ***inefficient***:\n",
    "\n",
    "- We load the full matrix into memory (1), \n",
    "- then make a copy with 1 added to each value (2), \n",
    "- then make another copy to compute the log (3), \n",
    "- before finally passing it on to `np.mean`.\n",
    "\n",
    "That's ***three*** instances of the data array, to perform an operation that doesn't require keeping even *one* instance in memory.\n",
    "\n",
    "For any kind of **big data** operation, this approach won't work.\n",
    "\n",
    "Python's creators knew this, and built-in the **yield** keyword (first made widely available in C#), which enables a function to process just one ***sip*** of the data, pass the result on to the next process, and *let the chain of processing complete* for that one piece of data before moving on to the next one.\n",
    "\n",
    "**Yield** is a rather nice name for it: the function *yields* control to the next function, waiting to resume processing the data until all the downstream steps have processed that data point. The yield construct is what makes *generators* or *coroutines* possible: the ability to leave a funcion midstream, and then when you call the function again you don't enter through the start of the function, but where you left off: at *yield return*. That is why generators and coroutines return collections: each item of that collection is the return of a single *yield return*.\n",
    "\n",
    "## Streaming with `yield`\n",
    "\n",
    "Here's another way to think about it: for every processing function that would normally take a list (a collection of data) and transform that list, you can rewrite that function as taking a *stream* and *yielding* the result of *every element* in that stream.\n",
    "\n",
    "Here's an example where we take the log of each element in a list, using either a standard data-copying method or a streaming method:"
   ]
  },
  {
   "cell_type": "code",
   "execution_count": 341,
   "metadata": {},
   "outputs": [],
   "source": [
    "def log_all_standard(input):\n",
    "    output = []\n",
    "    for elem in input:\n",
    "        output.append(np.log(elem))\n",
    "    return output\n",
    "\n",
    "def log_all_streaming(input_stream):\n",
    "    for elem in input_stream:\n",
    "        yield np.log(elem)"
   ]
  },
  {
   "cell_type": "markdown",
   "metadata": {},
   "source": [
    "Let's check that we get the same result with both methods:"
   ]
  },
  {
   "cell_type": "code",
   "execution_count": 342,
   "metadata": {},
   "outputs": [
    {
     "name": "stdout",
     "output_type": "stream",
     "text": [
      "Batch result:  -48.2409194560661\n",
      "Stream result:  -48.2409194560661\n"
     ]
    }
   ],
   "source": [
    "# We set the random seed so we will get consistent results\n",
    "np.random.seed(seed=7)\n",
    "# Set print options to show only 3 significant digits\n",
    "np.set_printoptions(precision=3, suppress=True)\n",
    "\n",
    "arr = np.random.rand(1000) + 0.5\n",
    "result_batch = sum(log_all_standard(arr))\n",
    "print('Batch result: ', result_batch)\n",
    "result_stream = sum(log_all_streaming(arr))\n",
    "print('Stream result: ', result_stream)"
   ]
  },
  {
   "cell_type": "markdown",
   "metadata": {},
   "source": [
    "The advantage of the streaming approach is that elements of a stream ***aren't processed until they're needed***, whether it's for computing a running sum, or for writing out to disk, or something else. This is called **lazy processing**, or [lazy initialization](https://en.wikipedia.org/wiki/Lazy_initialization).\n",
    "\n",
    "This can conserve a lot of memory when you have many input items, or when each item is very big.\n",
    "This quote from one of Matt Rocklin's (author of `Toolz`) blog posts very succinctly summarizes the utility of streaming data analysis:\n",
    "\n",
    "> In my brief experience people rarely take this [streaming] route.\n",
    "They use single-threaded in-memory Python until it breaks, and then seek out Big Data Infrastructure like Hadoop/Spark at relatively high productivity overhead.\n",
    "\n",
    "Yup, pretty classic: *Professor, we need to learn spark because that's the only way we can do bigdata processing*. Nope, not the right answer. The answer is streaming, sparse matrices, and elegant algorithms in `SciPy`.\n",
    "\n",
    "In some cases, streaming can get you there even faster than the supercomputing approach, by eliminating the overhead of multi-core communication and random-access to databases. See this [post](http://www.frankmcsherry.org/graph/scalability/cost/2015/02/04/COST2.html) by Frank McSherry, and then [this](http://www.frankmcsherry.org/graph/scalability/cost/2015/02/04/COST2.html) one, where he processes a 128 billion edge graph on his laptop *faster* than using a graph database on a supercomputer (open the Web page, but don't read it now because if i say what's going to be on your final exam next, you're going to miss it).\n",
    "\n",
    "Then stop and think.\n",
    "\n",
    "</br >\n",
    "<center>\n",
    "<img src=\"ipynb.images/snake-oil-salesman.jpg\" width=300 />\n",
    "    Buddy, you really need to use xyz framework, it will solve all your problems bro!\n",
    "</center>\n",
    "\n",
    "To clarify the flow of control when using streaming-style functions, it's useful to make *verbose* versions of the functions, which print out a message with each operation, slow down the throttle to give you the time to read the messages, and use `tqdm` to show progress.\n",
    "```(python)\n",
    "pip install tqdm\n",
    "```\n",
    "\n",
    "Here below, we ***simulate*** reading from a big file using python `sleep()` statements."
   ]
  },
  {
   "cell_type": "code",
   "execution_count": 343,
   "metadata": {},
   "outputs": [],
   "source": [
    "import numpy as np\n",
    "import os\n",
    "from time import sleep\n",
    "from tqdm import tqdm\n",
    "\n",
    "def tsv_line_to_array(line):\n",
    "    lst = [float(elem) for elem in line.rstrip().split('\\t')]\n",
    "    return np.array(lst)\n",
    "\n",
    "def readtsv(filename):\n",
    "    print('starting readtsv')\n",
    "    num_lines = 0\n",
    "    #statinfo = os.stat(filename)\n",
    "    #statinfo.st_size\n",
    "    with open(filename, 'r') as f:\n",
    "        for line in f:\n",
    "            num_lines += 1\n",
    "    with tqdm(total=num_lines) as pbar:\n",
    "        with open(filename) as fin:\n",
    "            for i, line in enumerate(fin):\n",
    "                print(f'reading line {i}')\n",
    "                sleep(2)\n",
    "                pbar.update(1)\n",
    "                yield tsv_line_to_array(line)\n",
    "    print('finished readtsv')\n",
    "\n",
    "def add1(arrays_iter):\n",
    "    print('starting adding 1')\n",
    "    for i, arr in enumerate(arrays_iter):\n",
    "        print(f'adding 1 to line {i}')\n",
    "        yield arr + 1\n",
    "    print('finished adding 1')\n",
    "\n",
    "def log(arrays_iter):\n",
    "    print('starting log')\n",
    "    for i, arr in enumerate(arrays_iter):\n",
    "        print(f'taking log of array {i}')\n",
    "        yield np.log(arr)\n",
    "    print('finished log')\n",
    "\n",
    "def running_mean(arrays_iter):\n",
    "    print('starting running mean')\n",
    "    for i, arr in enumerate(arrays_iter):\n",
    "        if i == 0:\n",
    "            mean = arr\n",
    "        mean += (arr - mean) / (i + 1)\n",
    "        print(f'adding line {i} to the running mean')\n",
    "    print('returning mean')\n",
    "    return mean"
   ]
  },
  {
   "cell_type": "markdown",
   "metadata": {},
   "source": [
    "Let's see it in action for a small sample file. We slow everything down with `sleep()`, and leverage `tqdm`. For efficiency, you would go in and remove the `sleep` calls when reading in a big file."
   ]
  },
  {
   "cell_type": "code",
   "execution_count": 344,
   "metadata": {},
   "outputs": [
    {
     "name": "stdout",
     "output_type": "stream",
     "text": [
      "Creating lines iterator\n",
      "Creating loglines iterator\n",
      "Computing mean\n",
      "starting running mean\n",
      "starting log\n",
      "starting adding 1\n",
      "starting readtsv\n"
     ]
    },
    {
     "name": "stderr",
     "output_type": "stream",
     "text": [
      "  0%|          | 0/5 [00:00<?, ?it/s]"
     ]
    },
    {
     "name": "stdout",
     "output_type": "stream",
     "text": [
      "reading line 0\n"
     ]
    },
    {
     "name": "stderr",
     "output_type": "stream",
     "text": [
      " 20%|██        | 1/5 [00:02<00:08,  2.00s/it]"
     ]
    },
    {
     "name": "stdout",
     "output_type": "stream",
     "text": [
      "adding 1 to line 0\n",
      "taking log of array 0\n",
      "adding line 0 to the running mean\n",
      "reading line 1\n"
     ]
    },
    {
     "name": "stderr",
     "output_type": "stream",
     "text": [
      " 40%|████      | 2/5 [00:04<00:06,  2.00s/it]"
     ]
    },
    {
     "name": "stdout",
     "output_type": "stream",
     "text": [
      "adding 1 to line 1\n",
      "taking log of array 1\n",
      "adding line 1 to the running mean\n",
      "reading line 2\n"
     ]
    },
    {
     "name": "stderr",
     "output_type": "stream",
     "text": [
      " 60%|██████    | 3/5 [00:06<00:04,  2.01s/it]"
     ]
    },
    {
     "name": "stdout",
     "output_type": "stream",
     "text": [
      "adding 1 to line 2\n",
      "taking log of array 2\n",
      "adding line 2 to the running mean\n",
      "reading line 3\n"
     ]
    },
    {
     "name": "stderr",
     "output_type": "stream",
     "text": [
      " 80%|████████  | 4/5 [00:08<00:02,  2.01s/it]"
     ]
    },
    {
     "name": "stdout",
     "output_type": "stream",
     "text": [
      "adding 1 to line 3\n",
      "taking log of array 3\n",
      "adding line 3 to the running mean\n",
      "reading line 4\n"
     ]
    },
    {
     "name": "stderr",
     "output_type": "stream",
     "text": [
      "100%|██████████| 5/5 [00:10<00:00,  2.01s/it]"
     ]
    },
    {
     "name": "stdout",
     "output_type": "stream",
     "text": [
      "adding 1 to line 4\n",
      "taking log of array 4\n",
      "adding line 4 to the running mean\n"
     ]
    },
    {
     "name": "stderr",
     "output_type": "stream",
     "text": [
      "100%|██████████| 5/5 [00:10<00:00,  2.01s/it]\n"
     ]
    },
    {
     "name": "stdout",
     "output_type": "stream",
     "text": [
      "finished readtsv\n",
      "finished adding 1\n",
      "finished log\n",
      "returning mean\n",
      "the mean log-row is: [3.118 2.487 2.196 2.36  2.701 2.647 2.437 3.285 2.054 2.372 3.855 3.949\n",
      " 2.467 2.363 3.184 2.644 2.63  2.848 2.617 4.125]\n"
     ]
    }
   ],
   "source": [
    "fin = 'data/expr.tsv'\n",
    "print('Creating lines iterator')\n",
    "lines = readtsv(fin)\n",
    "print('Creating loglines iterator')\n",
    "loglines = log(add1(lines))\n",
    "print('Computing mean')\n",
    "mean = running_mean(loglines)\n",
    "print(f'the mean log-row is: {mean}')"
   ]
  },
  {
   "cell_type": "markdown",
   "metadata": {},
   "source": [
    "Note:\n",
    "\n",
    "- None of the computation is run when creating the lines and loglines iterators. This is because iterators are *lazy*, meaning they are not evaluated (or *consumed*) until a result is needed.\n",
    "- When the computation is finally triggered, by the call to `running_mean`, it jumps back and forth between all the functions, as various computations are performed on each line, before moving on to the next line.\n",
    "\n",
    "## Use case: The Toolz streaming library\n",
    "\n",
    "I'm giving you this use case to study, but we won't do this together in class today (no time). I taught a class in **Life sciences with python** at Harvard, and this is an example I studied with Harvard students.\n",
    "\n",
    "Matt Rocklin wrote `Toolz` and illustrates the library with a Markov model from a human genome in under 5 minutes on a laptop, using a few lines of code.\n",
    "\n",
    "J. Nunez Iglesias applied the algorithm to a fly genome (about 1/20 the size), so this is better for class.\n",
    "\n",
    "Please download the genome from [here](http://hgdownload-test.cse.ucsc.edu/goldenPath/dm6/bigZips/): the file `dm6.fa.gz`, and uncompress it with 7-zip to `dm6.fa`."
   ]
  },
  {
   "cell_type": "code",
   "execution_count": 92,
   "metadata": {},
   "outputs": [],
   "source": [
    "import toolz as tz\n",
    "from toolz import curried as c\n",
    "from glob import glob\n",
    "import itertools as it\n",
    "\n",
    "# Adenine, Cytosine, Guanine, Tyramine:\n",
    "LDICT = dict(zip('ACGTacgt', range(8)))\n",
    "PDICT = {(a, b): (LDICT[a], LDICT[b])\n",
    "         for a, b in it.product(LDICT, LDICT)}\n",
    "\n",
    "def is_sequence(line):\n",
    "    return not line.startswith('>')\n",
    "\n",
    "def is_nucleotide(letter):\n",
    "    return letter in LDICT  # ignore 'N'\n",
    "\n",
    "@tz.curry\n",
    "def increment_model(model, index):\n",
    "    model[index] += 1\n",
    "\n",
    "    \n",
    "def genome(file_pattern):\n",
    "    \"\"\"Stream a genome, letter by letter, from a list of FASTA filenames.\"\"\"\n",
    "    return tz.pipe(file_pattern, glob, sorted,  # Filenames\n",
    "                   c.map(open),  # lines\n",
    "                   # concatenate lines from all files:\n",
    "                   tz.concat,\n",
    "                   # drop header from each sequence\n",
    "                   c.filter(is_sequence),\n",
    "                   # concatenate characters from all lines\n",
    "                   tz.concat,\n",
    "                   # discard newlines and 'N'\n",
    "                   c.filter(is_nucleotide))\n",
    "\n",
    "\n",
    "def markov(seq):\n",
    "    \"\"\"Get a 1st-order Markov model from a sequence of nucleotides.\"\"\"\n",
    "    model = np.zeros((8, 8))\n",
    "    tz.last(tz.pipe(seq,\n",
    "                    c.sliding_window(2),        # each successive tuple\n",
    "                    c.map(PDICT.__getitem__),   # location in matrix of tuple\n",
    "                    c.map(increment_model(model))))  # increment matrix\n",
    "    # convert counts to transition probability matrix\n",
    "    model /= np.sum(model, axis=1)[:, np.newaxis]\n",
    "    return model"
   ]
  },
  {
   "cell_type": "markdown",
   "metadata": {},
   "source": [
    "We can then do the following to obtain a Markov model of repetitive sequences\n",
    "in the fruit-fly genome:"
   ]
  },
  {
   "cell_type": "code",
   "execution_count": 18,
   "metadata": {},
   "outputs": [
    {
     "name": "stdout",
     "output_type": "stream",
     "text": [
      "11.1 s ± 0 ns per loop (mean ± std. dev. of 1 run, 1 loop each)\n"
     ]
    }
   ],
   "source": [
    "%%timeit -r 1 -n 1\n",
    "dm = 'data/dm6.fa'\n",
    "model = tz.pipe(dm, genome, c.take(10**7), markov)\n",
    "# we use `take` to just run on the first 10 million bases, to speed things up.\n",
    "# the take step can just be removed if you have ~5-10 mins to wait."
   ]
  },
  {
   "cell_type": "markdown",
   "metadata": {},
   "source": [
    "There are many functions in the [Toolz](http://toolz.readthedocs.org/en/latest/) library.\n",
    "For example: `pipe`, `sliding_window`, `frequencies`, and a curried version of `map`.\n",
    "Toolz is written specifically to take advantage of Python's iterators and easily manipulate streams.\n",
    "\n",
    "`pipe` is simply syntactic sugar to make nested function calls easier to read.\n",
    "This is important because that pattern becomes increasingly common when dealing with iterators.\n",
    "\n",
    "As a simple example, let's rewrite the running mean example using `pipe`:"
   ]
  },
  {
   "cell_type": "code",
   "execution_count": 93,
   "metadata": {},
   "outputs": [
    {
     "name": "stdout",
     "output_type": "stream",
     "text": [
      "starting running mean\n",
      "starting log\n",
      "starting adding 1\n",
      "starting readtsv\n"
     ]
    },
    {
     "name": "stderr",
     "output_type": "stream",
     "text": [
      "  0%|          | 0/5 [00:00<?, ?it/s]"
     ]
    },
    {
     "name": "stdout",
     "output_type": "stream",
     "text": [
      "reading line 0\n"
     ]
    },
    {
     "name": "stderr",
     "output_type": "stream",
     "text": [
      " 20%|██        | 1/5 [00:02<00:08,  2.00s/it]"
     ]
    },
    {
     "name": "stdout",
     "output_type": "stream",
     "text": [
      "adding 1 to line 0\n",
      "taking log of array 0\n",
      "adding line 0 to the running mean\n",
      "reading line 1\n"
     ]
    },
    {
     "name": "stderr",
     "output_type": "stream",
     "text": [
      " 40%|████      | 2/5 [00:04<00:06,  2.00s/it]"
     ]
    },
    {
     "name": "stdout",
     "output_type": "stream",
     "text": [
      "adding 1 to line 1\n",
      "taking log of array 1\n",
      "adding line 1 to the running mean\n",
      "reading line 2\n"
     ]
    },
    {
     "name": "stderr",
     "output_type": "stream",
     "text": [
      " 60%|██████    | 3/5 [00:06<00:04,  2.01s/it]"
     ]
    },
    {
     "name": "stdout",
     "output_type": "stream",
     "text": [
      "adding 1 to line 2\n",
      "taking log of array 2\n",
      "adding line 2 to the running mean\n",
      "reading line 3\n"
     ]
    },
    {
     "name": "stderr",
     "output_type": "stream",
     "text": [
      " 80%|████████  | 4/5 [00:08<00:02,  2.01s/it]"
     ]
    },
    {
     "name": "stdout",
     "output_type": "stream",
     "text": [
      "adding 1 to line 3\n",
      "taking log of array 3\n",
      "adding line 3 to the running mean\n",
      "reading line 4\n"
     ]
    },
    {
     "name": "stderr",
     "output_type": "stream",
     "text": [
      "100%|██████████| 5/5 [00:10<00:00,  2.01s/it]"
     ]
    },
    {
     "name": "stdout",
     "output_type": "stream",
     "text": [
      "adding 1 to line 4\n",
      "taking log of array 4\n",
      "adding line 4 to the running mean\n"
     ]
    },
    {
     "name": "stderr",
     "output_type": "stream",
     "text": [
      "100%|██████████| 5/5 [00:10<00:00,  2.01s/it]\n"
     ]
    },
    {
     "name": "stdout",
     "output_type": "stream",
     "text": [
      "finished readtsv\n",
      "finished adding 1\n",
      "finished log\n",
      "returning mean\n"
     ]
    }
   ],
   "source": [
    "import toolz as tz\n",
    "filename = 'data/expr.tsv'\n",
    "mean = tz.pipe(filename, readtsv, add1, log, running_mean)\n",
    "\n",
    "# This is equivalent to nesting the functions like this:\n",
    "# running_mean(log(add1(readtsv(filename))))"
   ]
  },
  {
   "cell_type": "markdown",
   "metadata": {},
   "source": [
    "What was originally multiple lines, or an unwieldy mess of parentheses, is now a clean description of the sequential transformations of the input data.\n",
    "\n",
    "Much easier to understand! Note that this operator is not the genius of Matt Rockland, but it's actually a port of the `pipe` operator in `R`. I briefly mentionned it in our first lecture together, and told you that it's a *rockin'* operator.\n",
    "\n",
    "This strategy also has an advantage over the original NumPy implementation: if we scale our data to millions or billions of rows, our computer might struggle to hold all the data in memory.\n",
    "In contrast, here we are only loading lines from disk one at a time, and maintaining only a single line's worth of data!"
   ]
  },
  {
   "cell_type": "markdown",
   "metadata": {},
   "source": [
    "## k-mer counting and error correction\n",
    "\n",
    "Your genetic information is encoded as a sequence of chemical *bases* in your *genome*.\n",
    "These are really tiny and you also can't read a long string of them: errors accumulate and the readout becomes unusable.\n",
    "Luckily, every one of your cells has an identical copy of your genome, so what we can do is shred those copies into tiny segments (about 100 bases long), and then assemble those like an enormous puzzle of 30 million pieces.\n",
    "\n",
    "Before performing assembly, it is vital to perform read correction.\n",
    "During DNA sequencing some bases are incorrectly read out, and must be fixed, or they will mess up the assembly.\n",
    "\n",
    "One correction strategy is to find similar reads in your dataset and fix the error by grabbing the correct information from those reads. Or alternatively, you may choose to completely discard the reads containing errors.\n",
    "\n",
    "However, this is a very inefficient way to do it, because finding similar reads means you would compare each read to every other read.\n",
    "This takes $N^2$ operations, or $9 \\times 10^{14}$ for a 30 million read dataset!\n",
    "\n",
    "There is another way.\n",
    "[Pavel Pevzner et al](http://www.pnas.org/content/98/17/9748.full) realized that reads could be broken down into smaller, overlapping *k-mers*, substrings of length k, which can then be stored in a hash table (a dictionary).\n",
    "\n",
    "The main advantage is that instead of computing on the total number of reads, which can be arbitrarily large, we can compute on the total number of k-mers, which can only be as large as the genome itself, usually 1-2 orders of magnitude smaller than the reads.\n",
    "\n",
    "If we choose a value for k that is large enough to ensure any k-mer appears only once in the genome, the number of times a k-mer appears is exactly the number of reads that originate from that part of the genome. This is called the *coverage* of that region.\n",
    "\n",
    "If a read has an error in it, there is a high probability that the k-mers overlapping the error will be unique or close to unique in the genome.\n",
    "\n",
    "Think of the equivalent in English: if you were to take reads from Shakespeare, and one read was \"to be or knot to be\", the 7-mer \"knot to\" will appear rarely or not at all, whereas \"not to\" will be very frequent.\n",
    "\n",
    "This is the basis for k-mer error correction: split the reads into k-mers, count the occurrence of each k-mer, and use some logic to replace rare k-mers in reads with similar common ones\n",
    "(or, alternatively, discard reads with erroneous k-mers, possible because reads are so abundant that we can afford to toss out erroneous data).\n",
    "\n",
    "By the way, this is also the subject of a good interview question ;-)\n",
    "\n",
    "And you actually already did this exercise when you did `R` word clouds and you discarded words that appear only a few times in the corpus. \n",
    "\n",
    "This is also an example in which streaming is *essential*. As mentioned before, the number of reads can be enormous, so we don't want to store them in memory."
   ]
  },
  {
   "cell_type": "markdown",
   "metadata": {},
   "source": [
    "DNA sequence data is commonly represented in `FASTA` format.\n",
    "This is a plaintext format, consisting of one or many DNA sequences per file, each with a name and the actual sequence.\n",
    "\n",
    "A sample FASTA file from [here](http://molb7621.github.io/workshop/Miscellaneous/data.html):\n",
    "```python\n",
    ">derice\n",
    "ACTGACTAGCTAGCTAACTG\n",
    ">sanka\n",
    "GCATCGTAGCTAGCTACGAT\n",
    ">junior\n",
    "CATCGATCGTACGTACGTAG\n",
    ">yul\n",
    "ATCGATCGATCGTACGATCG\n",
    "```"
   ]
  },
  {
   "cell_type": "markdown",
   "metadata": {},
   "source": [
    "You now have the required information to convert a stream of lines from a FASTA file to a count of k-mers:\n",
    "\n",
    "- filter lines so that only sequence lines are used\n",
    "- for each sequence line, produce a stream of k-mers\n",
    "- add each k-mer to a dictionary counter\n",
    "\n",
    "Here's how you would do this in pure Python, using nothing but built-ins:"
   ]
  },
  {
   "cell_type": "code",
   "execution_count": 94,
   "metadata": {},
   "outputs": [],
   "source": [
    "def is_sequence(line):\n",
    "    line = line.rstrip()  # remove '\\n' at end of line\n",
    "    return len(line) > 0 and not line.startswith('>')\n",
    "\n",
    "def reads_to_kmers(reads_iter, k=7):\n",
    "     for read in reads_iter:\n",
    "         for start in range(0, len(read) - k):\n",
    "             yield read[start : start + k]  # note yield, so this is a generator\n",
    "\n",
    "def kmer_counter(kmer_iter):\n",
    "    counts = {}\n",
    "    for kmer in kmer_iter:\n",
    "        if kmer not in counts:\n",
    "            counts[kmer] = 0\n",
    "        counts[kmer] += 1\n",
    "    return counts\n",
    "\n",
    "with open('data/sample.fasta') as fin:\n",
    "    reads = filter(is_sequence, fin)\n",
    "    kmers = reads_to_kmers(reads)\n",
    "    counts = kmer_counter(kmers)"
   ]
  },
  {
   "cell_type": "markdown",
   "metadata": {},
   "source": [
    "Reads are loaded from disk one at a time and piped through the k-mer converter and to the k-mer counter. We can then plot a histogram of the counts, and confirm that there are indeed two well-separated populations of correct and erroneous k-mers:"
   ]
  },
  {
   "cell_type": "code",
   "execution_count": 95,
   "metadata": {},
   "outputs": [],
   "source": [
    "# Make plots appear inline, set custom plotting style\n",
    "%matplotlib inline\n",
    "import matplotlib.pyplot as plt\n",
    "plt.style.use('style/elegant.mplstyle')"
   ]
  },
  {
   "cell_type": "code",
   "execution_count": 96,
   "metadata": {},
   "outputs": [
    {
     "data": {
      "image/png": "[encoded data removed]",
      "text/plain": [
       "<Figure size 1440x1080 with 1 Axes>"
      ]
     },
     "metadata": {},
     "output_type": "display_data"
    }
   ],
   "source": [
    "def integer_histogram(counts, normed=True, xlim=[], ylim=[],\n",
    "                      *args, **kwargs):\n",
    "    hist = np.bincount(counts)\n",
    "    if normed:\n",
    "        hist = hist / np.sum(hist)\n",
    "    fig, ax = plt.subplots()\n",
    "    ax.plot(np.arange(hist.size), hist, *args, **kwargs)\n",
    "    ax.set_xlabel('counts')\n",
    "    ax.set_ylabel('frequency')\n",
    "    ax.set_xlim(*xlim)\n",
    "    ax.set_ylim(*ylim)\n",
    "\n",
    "counts_arr = np.fromiter(counts.values(), dtype=int, count=len(counts))\n",
    "integer_histogram(counts_arr, xlim=(-1, 250))"
   ]
  },
  {
   "cell_type": "markdown",
   "metadata": {},
   "source": [
    "Notice the nice distribution of k-mer frequencies, along with a spike of very unique (small count) of k-mers at the left of the plot. Such low frequency k-mers are likely to be errors.\n",
    "\n",
    "We can leverage Principal Component Analysis (PCA) and Latent Dirichlet Allocation (LDA) to continue this use case. "
   ]
  },
  {
   "cell_type": "markdown",
   "metadata": {},
   "source": [
    "## Speeding up a computation with cython\n",
    "\n",
    "We're going to showcase NLP computations using the `spacy` package, which relies on `cython` to speed up computations. I got most of the code from [this](https://medium.com/huggingface/100-times-faster-natural-language-processing-in-python-ee32033bdced) post. So get to an anaconda prompt and install the package:\n",
    "```(python)\n",
    "pip install spacy\n",
    "```\n",
    "\n",
    "<br />\n",
    "<center>\n",
    "<img src=\"ipynb.images/spacy.png\" width=600 />\n",
    "</center>\n",
    "\n",
    "[Here's](https://spacy.io/usage) how to use spacy.\n",
    "\n",
    "Now, suppose we have a large set of rectangles that we store as a list of Python objects, e.g. instances of a Rectangle class. The main job of our module is to iterate over this list in order to count how many rectangles have an area larger than a specific threshold.\n",
    "\n",
    "<br />\n",
    "<center>\n",
    "<img src=\"ipynb.images/mondrian.jpg\" width=500 />\n",
    "</center>"
   ]
  },
  {
   "cell_type": "code",
   "execution_count": 345,
   "metadata": {},
   "outputs": [],
   "source": [
    "from random import random\n",
    "\n",
    "class Rectangle:\n",
    "    def __init__(self, w, h):\n",
    "        self.w = w\n",
    "        self.h = h\n",
    "    def area(self):\n",
    "        return self.w * self.h\n",
    "\n",
    "def check_rectangles_py(rectangles, threshold):\n",
    "    n_out = 0\n",
    "    for rectangle in rectangles:\n",
    "        if rectangle.area() > threshold:\n",
    "            n_out += 1\n",
    "    return n_out\n",
    "\n",
    "def main_rectangles_slow():\n",
    "    n_rectangles = 10000000\n",
    "    rectangles = list(Rectangle(random(), random()) for i in range(n_rectangles))\n",
    "    n_out = check_rectangles_py(rectangles, threshold=0.25)\n",
    "    print(n_out)"
   ]
  },
  {
   "cell_type": "code",
   "execution_count": 346,
   "metadata": {},
   "outputs": [
    {
     "name": "stdout",
     "output_type": "stream",
     "text": [
      "4035823\n",
      "Wall time: 18.4 s\n"
     ]
    }
   ],
   "source": [
    "%%time\n",
    "# Let's run it:\n",
    "main_rectangles_slow()"
   ]
  },
  {
   "cell_type": "markdown",
   "metadata": {},
   "source": [
    "The `check_rectangles()` function which loops over a large number of Python objects is the bottleneck.\n",
    "\n",
    "Let's write it in [Cython](https://cython.org/). If you are really excited about this possibility, here are some [labs](https://alan-turing-institute.github.io/rsd-engineeringcourse/ch08performance/040cython.html).\n",
    "\n",
    "We indicate the cell is a Cython cell by using the %%cython magic command. When the cell is run, the cython code will be written in a temporary file, compiled and reimported in the iPython space. The Cython code thus has to be self-contained.\n",
    "\n",
    "But before, if your cython is version < **29.14**, ***uprade*** your cython:\n",
    "```(python)\n",
    "pip install --upgrade --user cython\n",
    "```\n",
    "\n",
    "Then, load the cython extension:"
   ]
  },
  {
   "cell_type": "code",
   "execution_count": 349,
   "metadata": {},
   "outputs": [
    {
     "name": "stdout",
     "output_type": "stream",
     "text": [
      "The Cython extension is already loaded. To reload it, use:\n",
      "  %reload_ext Cython\n"
     ]
    }
   ],
   "source": [
    "%load_ext Cython"
   ]
  },
  {
   "cell_type": "markdown",
   "metadata": {},
   "source": [
    "To reload:\n",
    "```(python)\n",
    "%reload_ext Cython\n",
    "```"
   ]
  },
  {
   "cell_type": "markdown",
   "metadata": {},
   "source": [
    "Verify that your cython is version >= **29.14**:"
   ]
  },
  {
   "cell_type": "code",
   "execution_count": 347,
   "metadata": {},
   "outputs": [
    {
     "data": {
      "text/plain": [
       "'0.29.14'"
      ]
     },
     "execution_count": 347,
     "metadata": {},
     "output_type": "execute_result"
    }
   ],
   "source": [
    "import cython as c\n",
    "c.__version__"
   ]
  },
  {
   "cell_type": "markdown",
   "metadata": {},
   "source": [
    "If it isn't, then **run the following** on an anaconda prompt:\n",
    "```(python)\n",
    "pip install --upgrade --user cython\n",
    "```\n",
    "If the cell below fails, then **exit anaconda navigator** (or your notebook), restart, then reload the current notebook. Unfortunately, the C-engine needs to be restarted from scratch."
   ]
  },
  {
   "cell_type": "code",
   "execution_count": 348,
   "metadata": {},
   "outputs": [],
   "source": [
    "%%cython\n",
    "from cymem.cymem cimport Pool"
   ]
  },
  {
   "cell_type": "markdown",
   "metadata": {},
   "source": [
    "The `%%cython` magic command is what prompts the notebook to run the cell using the C engine. You need to add it to every cell you want to supercharge with C code."
   ]
  },
  {
   "cell_type": "code",
   "execution_count": 350,
   "metadata": {
    "scrolled": true
   },
   "outputs": [],
   "source": [
    "%%cython\n",
    "from cymem.cymem cimport Pool\n",
    "from random import random\n",
    "\n",
    "cdef struct Rectangle:\n",
    "    float w\n",
    "    float h\n",
    "\n",
    "cdef int check_rectangles_cy(Rectangle* rectangles, int n_rectangles, float threshold):\n",
    "    cdef int n_out = 0\n",
    "    # C arrays contain no size information => we need to state it explicitly\n",
    "    for rectangle in rectangles[:n_rectangles]:\n",
    "        if rectangle.w * rectangle.h > threshold:\n",
    "            n_out += 1\n",
    "    return n_out\n",
    "\n",
    "def main_rectangles_fast():\n",
    "    cdef int n_rectangles = 10000000\n",
    "    cdef float threshold = 0.25\n",
    "    cdef Pool mem = Pool()\n",
    "    cdef Rectangle* rectangles = <Rectangle*>mem.alloc(n_rectangles, sizeof(Rectangle))\n",
    "    for i in range(n_rectangles):\n",
    "        rectangles[i].w = random()\n",
    "        rectangles[i].h = random()\n",
    "    n_out = check_rectangles_cy(rectangles, n_rectangles, threshold)\n",
    "    print(n_out)"
   ]
  },
  {
   "cell_type": "code",
   "execution_count": 351,
   "metadata": {},
   "outputs": [
    {
     "name": "stdout",
     "output_type": "stream",
     "text": [
      "4032983\n",
      "Wall time: 889 ms\n"
     ]
    }
   ],
   "source": [
    "%%time\n",
    "main_rectangles_fast()"
   ]
  },
  {
   "cell_type": "markdown",
   "metadata": {},
   "source": [
    "We are about ***20 times faster*** in Cython!\n",
    "\n",
    "The ratio of improvement depends a lot on the specific syntax of the Python program. While the speed in Cython is rather predictible once your code make only use of C level objects (it is usually directly the fastest possible speed), the speed of Python can vary a lot depending on how your program is written and how much overhead the interpreter will add.\n",
    "\n",
    "How can you be sure you Cython program makes only use of C level structures? Use the `-a` or `--annotate` flag in the `%%cython` magic command to display a code analysis with the line accessing and using Python objects highlighted in yellow."
   ]
  },
  {
   "cell_type": "code",
   "execution_count": 352,
   "metadata": {},
   "outputs": [
    {
     "data": {
      "text/html": [
       "<!DOCTYPE html>\n",
       "<!-- Generated by Cython 0.29.14 -->\n",
       "<html>\n",
       "<head>\n",
       "    <meta http-equiv=\"Content-Type\" content=\"text/html; charset=utf-8\" />\n",
       "    <title>Cython: _cython_magic_f19dff2be7e3d4bbd2f599250d093502.pyx</title>\n",
       "    <style type=\"text/css\">\n",
       "    \n",
       "body.cython { font-family: courier; font-size: 12; }\n",
       "\n",
       ".cython.tag  {  }\n",
       ".cython.line { margin: 0em }\n",
       ".cython.code { font-size: 9; color: #444444; display: none; margin: 0px 0px 0px 8px; border-left: 8px none; }\n",
       "\n",
       ".cython.line .run { background-color: #B0FFB0; }\n",
       ".cython.line .mis { background-color: #FFB0B0; }\n",
       ".cython.code.run  { border-left: 8px solid #B0FFB0; }\n",
       ".cython.code.mis  { border-left: 8px solid #FFB0B0; }\n",
       "\n",
       ".cython.code .py_c_api  { color: red; }\n",
       ".cython.code .py_macro_api  { color: #FF7000; }\n",
       ".cython.code .pyx_c_api  { color: #FF3000; }\n",
       ".cython.code .pyx_macro_api  { color: #FF7000; }\n",
       ".cython.code .refnanny  { color: #FFA000; }\n",
       ".cython.code .trace  { color: #FFA000; }\n",
       ".cython.code .error_goto  { color: #FFA000; }\n",
       "\n",
       ".cython.code .coerce  { color: #008000; border: 1px dotted #008000 }\n",
       ".cython.code .py_attr { color: #FF0000; font-weight: bold; }\n",
       ".cython.code .c_attr  { color: #0000FF; }\n",
       ".cython.code .py_call { color: #FF0000; font-weight: bold; }\n",
       ".cython.code .c_call  { color: #0000FF; }\n",
       "\n",
       ".cython.score-0 {background-color: #FFFFff;}\n",
       ".cython.score-1 {background-color: #FFFFe7;}\n",
       ".cython.score-2 {background-color: #FFFFd4;}\n",
       ".cython.score-3 {background-color: #FFFFc4;}\n",
       ".cython.score-4 {background-color: #FFFFb6;}\n",
       ".cython.score-5 {background-color: #FFFFaa;}\n",
       ".cython.score-6 {background-color: #FFFF9f;}\n",
       ".cython.score-7 {background-color: #FFFF96;}\n",
       ".cython.score-8 {background-color: #FFFF8d;}\n",
       ".cython.score-9 {background-color: #FFFF86;}\n",
       ".cython.score-10 {background-color: #FFFF7f;}\n",
       ".cython.score-11 {background-color: #FFFF79;}\n",
       ".cython.score-12 {background-color: #FFFF73;}\n",
       ".cython.score-13 {background-color: #FFFF6e;}\n",
       ".cython.score-14 {background-color: #FFFF6a;}\n",
       ".cython.score-15 {background-color: #FFFF66;}\n",
       ".cython.score-16 {background-color: #FFFF62;}\n",
       ".cython.score-17 {background-color: #FFFF5e;}\n",
       ".cython.score-18 {background-color: #FFFF5b;}\n",
       ".cython.score-19 {background-color: #FFFF57;}\n",
       ".cython.score-20 {background-color: #FFFF55;}\n",
       ".cython.score-21 {background-color: #FFFF52;}\n",
       ".cython.score-22 {background-color: #FFFF4f;}\n",
       ".cython.score-23 {background-color: #FFFF4d;}\n",
       ".cython.score-24 {background-color: #FFFF4b;}\n",
       ".cython.score-25 {background-color: #FFFF48;}\n",
       ".cython.score-26 {background-color: #FFFF46;}\n",
       ".cython.score-27 {background-color: #FFFF44;}\n",
       ".cython.score-28 {background-color: #FFFF43;}\n",
       ".cython.score-29 {background-color: #FFFF41;}\n",
       ".cython.score-30 {background-color: #FFFF3f;}\n",
       ".cython.score-31 {background-color: #FFFF3e;}\n",
       ".cython.score-32 {background-color: #FFFF3c;}\n",
       ".cython.score-33 {background-color: #FFFF3b;}\n",
       ".cython.score-34 {background-color: #FFFF39;}\n",
       ".cython.score-35 {background-color: #FFFF38;}\n",
       ".cython.score-36 {background-color: #FFFF37;}\n",
       ".cython.score-37 {background-color: #FFFF36;}\n",
       ".cython.score-38 {background-color: #FFFF35;}\n",
       ".cython.score-39 {background-color: #FFFF34;}\n",
       ".cython.score-40 {background-color: #FFFF33;}\n",
       ".cython.score-41 {background-color: #FFFF32;}\n",
       ".cython.score-42 {background-color: #FFFF31;}\n",
       ".cython.score-43 {background-color: #FFFF30;}\n",
       ".cython.score-44 {background-color: #FFFF2f;}\n",
       ".cython.score-45 {background-color: #FFFF2e;}\n",
       ".cython.score-46 {background-color: #FFFF2d;}\n",
       ".cython.score-47 {background-color: #FFFF2c;}\n",
       ".cython.score-48 {background-color: #FFFF2b;}\n",
       ".cython.score-49 {background-color: #FFFF2b;}\n",
       ".cython.score-50 {background-color: #FFFF2a;}\n",
       ".cython.score-51 {background-color: #FFFF29;}\n",
       ".cython.score-52 {background-color: #FFFF29;}\n",
       ".cython.score-53 {background-color: #FFFF28;}\n",
       ".cython.score-54 {background-color: #FFFF27;}\n",
       ".cython.score-55 {background-color: #FFFF27;}\n",
       ".cython.score-56 {background-color: #FFFF26;}\n",
       ".cython.score-57 {background-color: #FFFF26;}\n",
       ".cython.score-58 {background-color: #FFFF25;}\n",
       ".cython.score-59 {background-color: #FFFF24;}\n",
       ".cython.score-60 {background-color: #FFFF24;}\n",
       ".cython.score-61 {background-color: #FFFF23;}\n",
       ".cython.score-62 {background-color: #FFFF23;}\n",
       ".cython.score-63 {background-color: #FFFF22;}\n",
       ".cython.score-64 {background-color: #FFFF22;}\n",
       ".cython.score-65 {background-color: #FFFF22;}\n",
       ".cython.score-66 {background-color: #FFFF21;}\n",
       ".cython.score-67 {background-color: #FFFF21;}\n",
       ".cython.score-68 {background-color: #FFFF20;}\n",
       ".cython.score-69 {background-color: #FFFF20;}\n",
       ".cython.score-70 {background-color: #FFFF1f;}\n",
       ".cython.score-71 {background-color: #FFFF1f;}\n",
       ".cython.score-72 {background-color: #FFFF1f;}\n",
       ".cython.score-73 {background-color: #FFFF1e;}\n",
       ".cython.score-74 {background-color: #FFFF1e;}\n",
       ".cython.score-75 {background-color: #FFFF1e;}\n",
       ".cython.score-76 {background-color: #FFFF1d;}\n",
       ".cython.score-77 {background-color: #FFFF1d;}\n",
       ".cython.score-78 {background-color: #FFFF1c;}\n",
       ".cython.score-79 {background-color: #FFFF1c;}\n",
       ".cython.score-80 {background-color: #FFFF1c;}\n",
       ".cython.score-81 {background-color: #FFFF1c;}\n",
       ".cython.score-82 {background-color: #FFFF1b;}\n",
       ".cython.score-83 {background-color: #FFFF1b;}\n",
       ".cython.score-84 {background-color: #FFFF1b;}\n",
       ".cython.score-85 {background-color: #FFFF1a;}\n",
       ".cython.score-86 {background-color: #FFFF1a;}\n",
       ".cython.score-87 {background-color: #FFFF1a;}\n",
       ".cython.score-88 {background-color: #FFFF1a;}\n",
       ".cython.score-89 {background-color: #FFFF19;}\n",
       ".cython.score-90 {background-color: #FFFF19;}\n",
       ".cython.score-91 {background-color: #FFFF19;}\n",
       ".cython.score-92 {background-color: #FFFF19;}\n",
       ".cython.score-93 {background-color: #FFFF18;}\n",
       ".cython.score-94 {background-color: #FFFF18;}\n",
       ".cython.score-95 {background-color: #FFFF18;}\n",
       ".cython.score-96 {background-color: #FFFF18;}\n",
       ".cython.score-97 {background-color: #FFFF17;}\n",
       ".cython.score-98 {background-color: #FFFF17;}\n",
       ".cython.score-99 {background-color: #FFFF17;}\n",
       ".cython.score-100 {background-color: #FFFF17;}\n",
       ".cython.score-101 {background-color: #FFFF16;}\n",
       ".cython.score-102 {background-color: #FFFF16;}\n",
       ".cython.score-103 {background-color: #FFFF16;}\n",
       ".cython.score-104 {background-color: #FFFF16;}\n",
       ".cython.score-105 {background-color: #FFFF16;}\n",
       ".cython.score-106 {background-color: #FFFF15;}\n",
       ".cython.score-107 {background-color: #FFFF15;}\n",
       ".cython.score-108 {background-color: #FFFF15;}\n",
       ".cython.score-109 {background-color: #FFFF15;}\n",
       ".cython.score-110 {background-color: #FFFF15;}\n",
       ".cython.score-111 {background-color: #FFFF15;}\n",
       ".cython.score-112 {background-color: #FFFF14;}\n",
       ".cython.score-113 {background-color: #FFFF14;}\n",
       ".cython.score-114 {background-color: #FFFF14;}\n",
       ".cython.score-115 {background-color: #FFFF14;}\n",
       ".cython.score-116 {background-color: #FFFF14;}\n",
       ".cython.score-117 {background-color: #FFFF14;}\n",
       ".cython.score-118 {background-color: #FFFF13;}\n",
       ".cython.score-119 {background-color: #FFFF13;}\n",
       ".cython.score-120 {background-color: #FFFF13;}\n",
       ".cython.score-121 {background-color: #FFFF13;}\n",
       ".cython.score-122 {background-color: #FFFF13;}\n",
       ".cython.score-123 {background-color: #FFFF13;}\n",
       ".cython.score-124 {background-color: #FFFF13;}\n",
       ".cython.score-125 {background-color: #FFFF12;}\n",
       ".cython.score-126 {background-color: #FFFF12;}\n",
       ".cython.score-127 {background-color: #FFFF12;}\n",
       ".cython.score-128 {background-color: #FFFF12;}\n",
       ".cython.score-129 {background-color: #FFFF12;}\n",
       ".cython.score-130 {background-color: #FFFF12;}\n",
       ".cython.score-131 {background-color: #FFFF12;}\n",
       ".cython.score-132 {background-color: #FFFF11;}\n",
       ".cython.score-133 {background-color: #FFFF11;}\n",
       ".cython.score-134 {background-color: #FFFF11;}\n",
       ".cython.score-135 {background-color: #FFFF11;}\n",
       ".cython.score-136 {background-color: #FFFF11;}\n",
       ".cython.score-137 {background-color: #FFFF11;}\n",
       ".cython.score-138 {background-color: #FFFF11;}\n",
       ".cython.score-139 {background-color: #FFFF11;}\n",
       ".cython.score-140 {background-color: #FFFF11;}\n",
       ".cython.score-141 {background-color: #FFFF10;}\n",
       ".cython.score-142 {background-color: #FFFF10;}\n",
       ".cython.score-143 {background-color: #FFFF10;}\n",
       ".cython.score-144 {background-color: #FFFF10;}\n",
       ".cython.score-145 {background-color: #FFFF10;}\n",
       ".cython.score-146 {background-color: #FFFF10;}\n",
       ".cython.score-147 {background-color: #FFFF10;}\n",
       ".cython.score-148 {background-color: #FFFF10;}\n",
       ".cython.score-149 {background-color: #FFFF10;}\n",
       ".cython.score-150 {background-color: #FFFF0f;}\n",
       ".cython.score-151 {background-color: #FFFF0f;}\n",
       ".cython.score-152 {background-color: #FFFF0f;}\n",
       ".cython.score-153 {background-color: #FFFF0f;}\n",
       ".cython.score-154 {background-color: #FFFF0f;}\n",
       ".cython.score-155 {background-color: #FFFF0f;}\n",
       ".cython.score-156 {background-color: #FFFF0f;}\n",
       ".cython.score-157 {background-color: #FFFF0f;}\n",
       ".cython.score-158 {background-color: #FFFF0f;}\n",
       ".cython.score-159 {background-color: #FFFF0f;}\n",
       ".cython.score-160 {background-color: #FFFF0f;}\n",
       ".cython.score-161 {background-color: #FFFF0e;}\n",
       ".cython.score-162 {background-color: #FFFF0e;}\n",
       ".cython.score-163 {background-color: #FFFF0e;}\n",
       ".cython.score-164 {background-color: #FFFF0e;}\n",
       ".cython.score-165 {background-color: #FFFF0e;}\n",
       ".cython.score-166 {background-color: #FFFF0e;}\n",
       ".cython.score-167 {background-color: #FFFF0e;}\n",
       ".cython.score-168 {background-color: #FFFF0e;}\n",
       ".cython.score-169 {background-color: #FFFF0e;}\n",
       ".cython.score-170 {background-color: #FFFF0e;}\n",
       ".cython.score-171 {background-color: #FFFF0e;}\n",
       ".cython.score-172 {background-color: #FFFF0e;}\n",
       ".cython.score-173 {background-color: #FFFF0d;}\n",
       ".cython.score-174 {background-color: #FFFF0d;}\n",
       ".cython.score-175 {background-color: #FFFF0d;}\n",
       ".cython.score-176 {background-color: #FFFF0d;}\n",
       ".cython.score-177 {background-color: #FFFF0d;}\n",
       ".cython.score-178 {background-color: #FFFF0d;}\n",
       ".cython.score-179 {background-color: #FFFF0d;}\n",
       ".cython.score-180 {background-color: #FFFF0d;}\n",
       ".cython.score-181 {background-color: #FFFF0d;}\n",
       ".cython.score-182 {background-color: #FFFF0d;}\n",
       ".cython.score-183 {background-color: #FFFF0d;}\n",
       ".cython.score-184 {background-color: #FFFF0d;}\n",
       ".cython.score-185 {background-color: #FFFF0d;}\n",
       ".cython.score-186 {background-color: #FFFF0d;}\n",
       ".cython.score-187 {background-color: #FFFF0c;}\n",
       ".cython.score-188 {background-color: #FFFF0c;}\n",
       ".cython.score-189 {background-color: #FFFF0c;}\n",
       ".cython.score-190 {background-color: #FFFF0c;}\n",
       ".cython.score-191 {background-color: #FFFF0c;}\n",
       ".cython.score-192 {background-color: #FFFF0c;}\n",
       ".cython.score-193 {background-color: #FFFF0c;}\n",
       ".cython.score-194 {background-color: #FFFF0c;}\n",
       ".cython.score-195 {background-color: #FFFF0c;}\n",
       ".cython.score-196 {background-color: #FFFF0c;}\n",
       ".cython.score-197 {background-color: #FFFF0c;}\n",
       ".cython.score-198 {background-color: #FFFF0c;}\n",
       ".cython.score-199 {background-color: #FFFF0c;}\n",
       ".cython.score-200 {background-color: #FFFF0c;}\n",
       ".cython.score-201 {background-color: #FFFF0c;}\n",
       ".cython.score-202 {background-color: #FFFF0c;}\n",
       ".cython.score-203 {background-color: #FFFF0b;}\n",
       ".cython.score-204 {background-color: #FFFF0b;}\n",
       ".cython.score-205 {background-color: #FFFF0b;}\n",
       ".cython.score-206 {background-color: #FFFF0b;}\n",
       ".cython.score-207 {background-color: #FFFF0b;}\n",
       ".cython.score-208 {background-color: #FFFF0b;}\n",
       ".cython.score-209 {background-color: #FFFF0b;}\n",
       ".cython.score-210 {background-color: #FFFF0b;}\n",
       ".cython.score-211 {background-color: #FFFF0b;}\n",
       ".cython.score-212 {background-color: #FFFF0b;}\n",
       ".cython.score-213 {background-color: #FFFF0b;}\n",
       ".cython.score-214 {background-color: #FFFF0b;}\n",
       ".cython.score-215 {background-color: #FFFF0b;}\n",
       ".cython.score-216 {background-color: #FFFF0b;}\n",
       ".cython.score-217 {background-color: #FFFF0b;}\n",
       ".cython.score-218 {background-color: #FFFF0b;}\n",
       ".cython.score-219 {background-color: #FFFF0b;}\n",
       ".cython.score-220 {background-color: #FFFF0b;}\n",
       ".cython.score-221 {background-color: #FFFF0b;}\n",
       ".cython.score-222 {background-color: #FFFF0a;}\n",
       ".cython.score-223 {background-color: #FFFF0a;}\n",
       ".cython.score-224 {background-color: #FFFF0a;}\n",
       ".cython.score-225 {background-color: #FFFF0a;}\n",
       ".cython.score-226 {background-color: #FFFF0a;}\n",
       ".cython.score-227 {background-color: #FFFF0a;}\n",
       ".cython.score-228 {background-color: #FFFF0a;}\n",
       ".cython.score-229 {background-color: #FFFF0a;}\n",
       ".cython.score-230 {background-color: #FFFF0a;}\n",
       ".cython.score-231 {background-color: #FFFF0a;}\n",
       ".cython.score-232 {background-color: #FFFF0a;}\n",
       ".cython.score-233 {background-color: #FFFF0a;}\n",
       ".cython.score-234 {background-color: #FFFF0a;}\n",
       ".cython.score-235 {background-color: #FFFF0a;}\n",
       ".cython.score-236 {background-color: #FFFF0a;}\n",
       ".cython.score-237 {background-color: #FFFF0a;}\n",
       ".cython.score-238 {background-color: #FFFF0a;}\n",
       ".cython.score-239 {background-color: #FFFF0a;}\n",
       ".cython.score-240 {background-color: #FFFF0a;}\n",
       ".cython.score-241 {background-color: #FFFF0a;}\n",
       ".cython.score-242 {background-color: #FFFF0a;}\n",
       ".cython.score-243 {background-color: #FFFF0a;}\n",
       ".cython.score-244 {background-color: #FFFF0a;}\n",
       ".cython.score-245 {background-color: #FFFF0a;}\n",
       ".cython.score-246 {background-color: #FFFF09;}\n",
       ".cython.score-247 {background-color: #FFFF09;}\n",
       ".cython.score-248 {background-color: #FFFF09;}\n",
       ".cython.score-249 {background-color: #FFFF09;}\n",
       ".cython.score-250 {background-color: #FFFF09;}\n",
       ".cython.score-251 {background-color: #FFFF09;}\n",
       ".cython.score-252 {background-color: #FFFF09;}\n",
       ".cython.score-253 {background-color: #FFFF09;}\n",
       ".cython.score-254 {background-color: #FFFF09;}\n",
       ".cython .hll { background-color: #ffffcc }\n",
       ".cython  { background: #f8f8f8; }\n",
       ".cython .c { color: #408080; font-style: italic } /* Comment */\n",
       ".cython .err { border: 1px solid #FF0000 } /* Error */\n",
       ".cython .k { color: #008000; font-weight: bold } /* Keyword */\n",
       ".cython .o { color: #666666 } /* Operator */\n",
       ".cython .ch { color: #408080; font-style: italic } /* Comment.Hashbang */\n",
       ".cython .cm { color: #408080; font-style: italic } /* Comment.Multiline */\n",
       ".cython .cp { color: #BC7A00 } /* Comment.Preproc */\n",
       ".cython .cpf { color: #408080; font-style: italic } /* Comment.PreprocFile */\n",
       ".cython .c1 { color: #408080; font-style: italic } /* Comment.Single */\n",
       ".cython .cs { color: #408080; font-style: italic } /* Comment.Special */\n",
       ".cython .gd { color: #A00000 } /* Generic.Deleted */\n",
       ".cython .ge { font-style: italic } /* Generic.Emph */\n",
       ".cython .gr { color: #FF0000 } /* Generic.Error */\n",
       ".cython .gh { color: #000080; font-weight: bold } /* Generic.Heading */\n",
       ".cython .gi { color: #00A000 } /* Generic.Inserted */\n",
       ".cython .go { color: #888888 } /* Generic.Output */\n",
       ".cython .gp { color: #000080; font-weight: bold } /* Generic.Prompt */\n",
       ".cython .gs { font-weight: bold } /* Generic.Strong */\n",
       ".cython .gu { color: #800080; font-weight: bold } /* Generic.Subheading */\n",
       ".cython .gt { color: #0044DD } /* Generic.Traceback */\n",
       ".cython .kc { color: #008000; font-weight: bold } /* Keyword.Constant */\n",
       ".cython .kd { color: #008000; font-weight: bold } /* Keyword.Declaration */\n",
       ".cython .kn { color: #008000; font-weight: bold } /* Keyword.Namespace */\n",
       ".cython .kp { color: #008000 } /* Keyword.Pseudo */\n",
       ".cython .kr { color: #008000; font-weight: bold } /* Keyword.Reserved */\n",
       ".cython .kt { color: #B00040 } /* Keyword.Type */\n",
       ".cython .m { color: #666666 } /* Literal.Number */\n",
       ".cython .s { color: #BA2121 } /* Literal.String */\n",
       ".cython .na { color: #7D9029 } /* Name.Attribute */\n",
       ".cython .nb { color: #008000 } /* Name.Builtin */\n",
       ".cython .nc { color: #0000FF; font-weight: bold } /* Name.Class */\n",
       ".cython .no { color: #880000 } /* Name.Constant */\n",
       ".cython .nd { color: #AA22FF } /* Name.Decorator */\n",
       ".cython .ni { color: #999999; font-weight: bold } /* Name.Entity */\n",
       ".cython .ne { color: #D2413A; font-weight: bold } /* Name.Exception */\n",
       ".cython .nf { color: #0000FF } /* Name.Function */\n",
       ".cython .nl { color: #A0A000 } /* Name.Label */\n",
       ".cython .nn { color: #0000FF; font-weight: bold } /* Name.Namespace */\n",
       ".cython .nt { color: #008000; font-weight: bold } /* Name.Tag */\n",
       ".cython .nv { color: #19177C } /* Name.Variable */\n",
       ".cython .ow { color: #AA22FF; font-weight: bold } /* Operator.Word */\n",
       ".cython .w { color: #bbbbbb } /* Text.Whitespace */\n",
       ".cython .mb { color: #666666 } /* Literal.Number.Bin */\n",
       ".cython .mf { color: #666666 } /* Literal.Number.Float */\n",
       ".cython .mh { color: #666666 } /* Literal.Number.Hex */\n",
       ".cython .mi { color: #666666 } /* Literal.Number.Integer */\n",
       ".cython .mo { color: #666666 } /* Literal.Number.Oct */\n",
       ".cython .sa { color: #BA2121 } /* Literal.String.Affix */\n",
       ".cython .sb { color: #BA2121 } /* Literal.String.Backtick */\n",
       ".cython .sc { color: #BA2121 } /* Literal.String.Char */\n",
       ".cython .dl { color: #BA2121 } /* Literal.String.Delimiter */\n",
       ".cython .sd { color: #BA2121; font-style: italic } /* Literal.String.Doc */\n",
       ".cython .s2 { color: #BA2121 } /* Literal.String.Double */\n",
       ".cython .se { color: #BB6622; font-weight: bold } /* Literal.String.Escape */\n",
       ".cython .sh { color: #BA2121 } /* Literal.String.Heredoc */\n",
       ".cython .si { color: #BB6688; font-weight: bold } /* Literal.String.Interpol */\n",
       ".cython .sx { color: #008000 } /* Literal.String.Other */\n",
       ".cython .sr { color: #BB6688 } /* Literal.String.Regex */\n",
       ".cython .s1 { color: #BA2121 } /* Literal.String.Single */\n",
       ".cython .ss { color: #19177C } /* Literal.String.Symbol */\n",
       ".cython .bp { color: #008000 } /* Name.Builtin.Pseudo */\n",
       ".cython .fm { color: #0000FF } /* Name.Function.Magic */\n",
       ".cython .vc { color: #19177C } /* Name.Variable.Class */\n",
       ".cython .vg { color: #19177C } /* Name.Variable.Global */\n",
       ".cython .vi { color: #19177C } /* Name.Variable.Instance */\n",
       ".cython .vm { color: #19177C } /* Name.Variable.Magic */\n",
       ".cython .il { color: #666666 } /* Literal.Number.Integer.Long */\n",
       "    </style>\n",
       "</head>\n",
       "<body class=\"cython\">\n",
       "<p><span style=\"border-bottom: solid 1px grey;\">Generated by Cython 0.29.14</span></p>\n",
       "<p>\n",
       "    <span style=\"background-color: #FFFF00\">Yellow lines</span> hint at Python interaction.<br />\n",
       "    Click on a line that starts with a \"<code>+</code>\" to see the C code that Cython generated for it.\n",
       "</p>\n",
       "<div class=\"cython\"><pre class=\"cython line score-0\">&#xA0;<span class=\"\">01</span>: <span class=\"k\">from</span> <span class=\"nn\">cymem.cymem</span> <span class=\"k\">cimport</span> <span class=\"n\">Pool</span></pre>\n",
       "<pre class=\"cython line score-19\" onclick=\"(function(s){s.display=s.display==='block'?'none':'block'})(this.nextElementSibling.style)\">+<span class=\"\">02</span>: <span class=\"k\">from</span> <span class=\"nn\">random</span> <span class=\"k\">import</span> <span class=\"n\">random</span></pre>\n",
       "<pre class='cython code score-19 '>  __pyx_t_1 = <span class='py_c_api'>PyList_New</span>(1);<span class='error_goto'> if (unlikely(!__pyx_t_1)) __PYX_ERR(0, 2, __pyx_L1_error)</span>\n",
       "  <span class='refnanny'>__Pyx_GOTREF</span>(__pyx_t_1);\n",
       "  <span class='pyx_macro_api'>__Pyx_INCREF</span>(__pyx_n_s_random);\n",
       "  <span class='refnanny'>__Pyx_GIVEREF</span>(__pyx_n_s_random);\n",
       "  <span class='py_macro_api'>PyList_SET_ITEM</span>(__pyx_t_1, 0, __pyx_n_s_random);\n",
       "  __pyx_t_2 = <span class='pyx_c_api'>__Pyx_Import</span>(__pyx_n_s_random, __pyx_t_1, 0);<span class='error_goto'> if (unlikely(!__pyx_t_2)) __PYX_ERR(0, 2, __pyx_L1_error)</span>\n",
       "  <span class='refnanny'>__Pyx_GOTREF</span>(__pyx_t_2);\n",
       "  <span class='pyx_macro_api'>__Pyx_DECREF</span>(__pyx_t_1); __pyx_t_1 = 0;\n",
       "  __pyx_t_1 = <span class='pyx_c_api'>__Pyx_ImportFrom</span>(__pyx_t_2, __pyx_n_s_random);<span class='error_goto'> if (unlikely(!__pyx_t_1)) __PYX_ERR(0, 2, __pyx_L1_error)</span>\n",
       "  <span class='refnanny'>__Pyx_GOTREF</span>(__pyx_t_1);\n",
       "  if (<span class='py_c_api'>PyDict_SetItem</span>(__pyx_d, __pyx_n_s_random, __pyx_t_1) &lt; 0) <span class='error_goto'>__PYX_ERR(0, 2, __pyx_L1_error)</span>\n",
       "  <span class='pyx_macro_api'>__Pyx_DECREF</span>(__pyx_t_1); __pyx_t_1 = 0;\n",
       "  <span class='pyx_macro_api'>__Pyx_DECREF</span>(__pyx_t_2); __pyx_t_2 = 0;\n",
       "</pre><pre class=\"cython line score-0\">&#xA0;<span class=\"\">03</span>: </pre>\n",
       "<pre class=\"cython line score-0\" onclick=\"(function(s){s.display=s.display==='block'?'none':'block'})(this.nextElementSibling.style)\">+<span class=\"\">04</span>: <span class=\"k\">cdef</span> <span class=\"k\">struct</span> <span class=\"nf\">Rectangle</span><span class=\"p\">:</span></pre>\n",
       "<pre class='cython code score-0 '>struct __pyx_t_46_cython_magic_f19dff2be7e3d4bbd2f599250d093502_Rectangle {\n",
       "  float w;\n",
       "  float h;\n",
       "};\n",
       "</pre><pre class=\"cython line score-0\">&#xA0;<span class=\"\">05</span>:     <span class=\"nb\">float</span> <span class=\"n\">w</span></pre>\n",
       "<pre class=\"cython line score-0\">&#xA0;<span class=\"\">06</span>:     <span class=\"nb\">float</span> <span class=\"n\">h</span></pre>\n",
       "<pre class=\"cython line score-0\">&#xA0;<span class=\"\">07</span>: </pre>\n",
       "<pre class=\"cython line score-0\" onclick=\"(function(s){s.display=s.display==='block'?'none':'block'})(this.nextElementSibling.style)\">+<span class=\"\">08</span>: <span class=\"k\">cdef</span> <span class=\"kt\">int</span> <span class=\"nf\">check_rectangles_cy</span><span class=\"p\">(</span><span class=\"n\">Rectangle</span><span class=\"o\">*</span> <span class=\"n\">rectangles</span><span class=\"p\">,</span> <span class=\"nb\">int</span> <span class=\"n\">n_rectangles</span><span class=\"p\">,</span> <span class=\"nb\">float</span> <span class=\"n\">threshold</span><span class=\"p\">):</span></pre>\n",
       "<pre class='cython code score-0 '>static int __pyx_f_46_cython_magic_f19dff2be7e3d4bbd2f599250d093502_check_rectangles_cy(struct __pyx_t_46_cython_magic_f19dff2be7e3d4bbd2f599250d093502_Rectangle *__pyx_v_rectangles, int __pyx_v_n_rectangles, float __pyx_v_threshold) {\n",
       "  int __pyx_v_n_out;\n",
       "  struct __pyx_t_46_cython_magic_f19dff2be7e3d4bbd2f599250d093502_Rectangle __pyx_v_rectangle;\n",
       "  int __pyx_r;\n",
       "  <span class='refnanny'>__Pyx_RefNannyDeclarations</span>\n",
       "  <span class='refnanny'>__Pyx_RefNannySetupContext</span>(\"check_rectangles_cy\", 0);\n",
       "/* … */\n",
       "  /* function exit code */\n",
       "  __pyx_L0:;\n",
       "  <span class='refnanny'>__Pyx_RefNannyFinishContext</span>();\n",
       "  return __pyx_r;\n",
       "}\n",
       "</pre><pre class=\"cython line score-0\" onclick=\"(function(s){s.display=s.display==='block'?'none':'block'})(this.nextElementSibling.style)\">+<span class=\"\">09</span>:     <span class=\"k\">cdef</span> <span class=\"kt\">int</span> <span class=\"nf\">n_out</span> <span class=\"o\">=</span> <span class=\"mf\">0</span></pre>\n",
       "<pre class='cython code score-0 '>  __pyx_v_n_out = 0;\n",
       "</pre><pre class=\"cython line score-0\">&#xA0;<span class=\"\">10</span>:     <span class=\"c\"># C arrays contain no size information =&gt; we need to state it explicitly</span></pre>\n",
       "<pre class=\"cython line score-0\" onclick=\"(function(s){s.display=s.display==='block'?'none':'block'})(this.nextElementSibling.style)\">+<span class=\"\">11</span>:     <span class=\"k\">for</span> <span class=\"n\">rectangle</span> <span class=\"ow\">in</span> <span class=\"n\">rectangles</span><span class=\"p\">[:</span><span class=\"n\">n_rectangles</span><span class=\"p\">]:</span></pre>\n",
       "<pre class='cython code score-0 '>  __pyx_t_2 = (__pyx_v_rectangles + __pyx_v_n_rectangles);\n",
       "  for (__pyx_t_3 = __pyx_v_rectangles; __pyx_t_3 &lt; __pyx_t_2; __pyx_t_3++) {\n",
       "    __pyx_t_1 = __pyx_t_3;\n",
       "    __pyx_v_rectangle = (__pyx_t_1[0]);\n",
       "</pre><pre class=\"cython line score-0\" onclick=\"(function(s){s.display=s.display==='block'?'none':'block'})(this.nextElementSibling.style)\">+<span class=\"\">12</span>:         <span class=\"k\">if</span> <span class=\"n\">rectangle</span><span class=\"o\">.</span><span class=\"n\">w</span> <span class=\"o\">*</span> <span class=\"n\">rectangle</span><span class=\"o\">.</span><span class=\"n\">h</span> <span class=\"o\">&gt;</span> <span class=\"n\">threshold</span><span class=\"p\">:</span></pre>\n",
       "<pre class='cython code score-0 '>    __pyx_t_4 = (((__pyx_v_rectangle.w * __pyx_v_rectangle.h) &gt; __pyx_v_threshold) != 0);\n",
       "    if (__pyx_t_4) {\n",
       "/* … */\n",
       "    }\n",
       "  }\n",
       "</pre><pre class=\"cython line score-0\" onclick=\"(function(s){s.display=s.display==='block'?'none':'block'})(this.nextElementSibling.style)\">+<span class=\"\">13</span>:             <span class=\"n\">n_out</span> <span class=\"o\">+=</span> <span class=\"mf\">1</span></pre>\n",
       "<pre class='cython code score-0 '>      __pyx_v_n_out = (__pyx_v_n_out + 1);\n",
       "</pre><pre class=\"cython line score-0\" onclick=\"(function(s){s.display=s.display==='block'?'none':'block'})(this.nextElementSibling.style)\">+<span class=\"\">14</span>:     <span class=\"k\">return</span> <span class=\"n\">n_out</span></pre>\n",
       "<pre class='cython code score-0 '>  __pyx_r = __pyx_v_n_out;\n",
       "  goto __pyx_L0;\n",
       "</pre><pre class=\"cython line score-0\">&#xA0;<span class=\"\">15</span>: </pre>\n",
       "<pre class=\"cython line score-11\" onclick=\"(function(s){s.display=s.display==='block'?'none':'block'})(this.nextElementSibling.style)\">+<span class=\"\">16</span>: <span class=\"k\">cpdef</span> <span class=\"nf\">main_rectangles_fast</span><span class=\"p\">():</span></pre>\n",
       "<pre class='cython code score-11 '>static PyObject *__pyx_pw_46_cython_magic_f19dff2be7e3d4bbd2f599250d093502_1main_rectangles_fast(PyObject *__pyx_self, CYTHON_UNUSED PyObject *unused); /*proto*/\n",
       "static PyObject *__pyx_f_46_cython_magic_f19dff2be7e3d4bbd2f599250d093502_main_rectangles_fast(CYTHON_UNUSED int __pyx_skip_dispatch) {\n",
       "  int __pyx_v_n_rectangles;\n",
       "  float __pyx_v_threshold;\n",
       "  struct __pyx_obj_5cymem_5cymem_Pool *__pyx_v_mem = 0;\n",
       "  struct __pyx_t_46_cython_magic_f19dff2be7e3d4bbd2f599250d093502_Rectangle *__pyx_v_rectangles;\n",
       "  int __pyx_v_i;\n",
       "  int __pyx_v_n_out;\n",
       "  PyObject *__pyx_r = NULL;\n",
       "  <span class='refnanny'>__Pyx_RefNannyDeclarations</span>\n",
       "  <span class='refnanny'>__Pyx_RefNannySetupContext</span>(\"main_rectangles_fast\", 0);\n",
       "/* … */\n",
       "  /* function exit code */\n",
       "  __pyx_r = Py_None; <span class='pyx_macro_api'>__Pyx_INCREF</span>(Py_None);\n",
       "  goto __pyx_L0;\n",
       "  __pyx_L1_error:;\n",
       "  <span class='pyx_macro_api'>__Pyx_XDECREF</span>(__pyx_t_1);\n",
       "  <span class='pyx_macro_api'>__Pyx_XDECREF</span>(__pyx_t_6);\n",
       "  <span class='pyx_macro_api'>__Pyx_XDECREF</span>(__pyx_t_7);\n",
       "  <span class='pyx_c_api'>__Pyx_AddTraceback</span>(\"_cython_magic_f19dff2be7e3d4bbd2f599250d093502.main_rectangles_fast\", __pyx_clineno, __pyx_lineno, __pyx_filename);\n",
       "  __pyx_r = 0;\n",
       "  __pyx_L0:;\n",
       "  <span class='pyx_macro_api'>__Pyx_XDECREF</span>((PyObject *)__pyx_v_mem);\n",
       "  <span class='refnanny'>__Pyx_XGIVEREF</span>(__pyx_r);\n",
       "  <span class='refnanny'>__Pyx_RefNannyFinishContext</span>();\n",
       "  return __pyx_r;\n",
       "}\n",
       "\n",
       "/* Python wrapper */\n",
       "static PyObject *__pyx_pw_46_cython_magic_f19dff2be7e3d4bbd2f599250d093502_1main_rectangles_fast(PyObject *__pyx_self, CYTHON_UNUSED PyObject *unused); /*proto*/\n",
       "static PyObject *__pyx_pw_46_cython_magic_f19dff2be7e3d4bbd2f599250d093502_1main_rectangles_fast(PyObject *__pyx_self, CYTHON_UNUSED PyObject *unused) {\n",
       "  PyObject *__pyx_r = 0;\n",
       "  <span class='refnanny'>__Pyx_RefNannyDeclarations</span>\n",
       "  <span class='refnanny'>__Pyx_RefNannySetupContext</span>(\"main_rectangles_fast (wrapper)\", 0);\n",
       "  __pyx_r = __pyx_pf_46_cython_magic_f19dff2be7e3d4bbd2f599250d093502_main_rectangles_fast(__pyx_self);\n",
       "\n",
       "  /* function exit code */\n",
       "  <span class='refnanny'>__Pyx_RefNannyFinishContext</span>();\n",
       "  return __pyx_r;\n",
       "}\n",
       "\n",
       "static PyObject *__pyx_pf_46_cython_magic_f19dff2be7e3d4bbd2f599250d093502_main_rectangles_fast(CYTHON_UNUSED PyObject *__pyx_self) {\n",
       "  PyObject *__pyx_r = NULL;\n",
       "  <span class='refnanny'>__Pyx_RefNannyDeclarations</span>\n",
       "  <span class='refnanny'>__Pyx_RefNannySetupContext</span>(\"main_rectangles_fast\", 0);\n",
       "  <span class='pyx_macro_api'>__Pyx_XDECREF</span>(__pyx_r);\n",
       "  __pyx_t_1 = __pyx_f_46_cython_magic_f19dff2be7e3d4bbd2f599250d093502_main_rectangles_fast(0);<span class='error_goto'> if (unlikely(!__pyx_t_1)) __PYX_ERR(0, 16, __pyx_L1_error)</span>\n",
       "  <span class='refnanny'>__Pyx_GOTREF</span>(__pyx_t_1);\n",
       "  __pyx_r = __pyx_t_1;\n",
       "  __pyx_t_1 = 0;\n",
       "  goto __pyx_L0;\n",
       "\n",
       "  /* function exit code */\n",
       "  __pyx_L1_error:;\n",
       "  <span class='pyx_macro_api'>__Pyx_XDECREF</span>(__pyx_t_1);\n",
       "  <span class='pyx_c_api'>__Pyx_AddTraceback</span>(\"_cython_magic_f19dff2be7e3d4bbd2f599250d093502.main_rectangles_fast\", __pyx_clineno, __pyx_lineno, __pyx_filename);\n",
       "  __pyx_r = NULL;\n",
       "  __pyx_L0:;\n",
       "  <span class='refnanny'>__Pyx_XGIVEREF</span>(__pyx_r);\n",
       "  <span class='refnanny'>__Pyx_RefNannyFinishContext</span>();\n",
       "  return __pyx_r;\n",
       "}\n",
       "</pre><pre class=\"cython line score-0\" onclick=\"(function(s){s.display=s.display==='block'?'none':'block'})(this.nextElementSibling.style)\">+<span class=\"\">17</span>:     <span class=\"k\">cdef</span> <span class=\"kt\">int</span> <span class=\"nf\">n_rectangles</span> <span class=\"o\">=</span> <span class=\"mf\">10000000</span></pre>\n",
       "<pre class='cython code score-0 '>  __pyx_v_n_rectangles = 0x989680;\n",
       "</pre><pre class=\"cython line score-0\" onclick=\"(function(s){s.display=s.display==='block'?'none':'block'})(this.nextElementSibling.style)\">+<span class=\"\">18</span>:     <span class=\"k\">cdef</span> <span class=\"kt\">float</span> <span class=\"nf\">threshold</span> <span class=\"o\">=</span> <span class=\"mf\">0.25</span></pre>\n",
       "<pre class='cython code score-0 '>  __pyx_v_threshold = 0.25;\n",
       "</pre><pre class=\"cython line score-2\" onclick=\"(function(s){s.display=s.display==='block'?'none':'block'})(this.nextElementSibling.style)\">+<span class=\"\">19</span>:     <span class=\"k\">cdef</span> <span class=\"kt\">Pool</span> <span class=\"nf\">mem</span> <span class=\"o\">=</span> <span class=\"n\">Pool</span><span class=\"p\">()</span></pre>\n",
       "<pre class='cython code score-2 '>  __pyx_t_1 = <span class='pyx_c_api'>__Pyx_PyObject_CallNoArg</span>(((PyObject *)__pyx_ptype_5cymem_5cymem_Pool));<span class='error_goto'> if (unlikely(!__pyx_t_1)) __PYX_ERR(0, 19, __pyx_L1_error)</span>\n",
       "  <span class='refnanny'>__Pyx_GOTREF</span>(__pyx_t_1);\n",
       "  __pyx_v_mem = ((struct __pyx_obj_5cymem_5cymem_Pool *)__pyx_t_1);\n",
       "  __pyx_t_1 = 0;\n",
       "</pre><pre class=\"cython line score-0\" onclick=\"(function(s){s.display=s.display==='block'?'none':'block'})(this.nextElementSibling.style)\">+<span class=\"\">20</span>:     <span class=\"k\">cdef</span> <span class=\"kt\">Rectangle</span>* <span class=\"nf\">rectangles</span> <span class=\"o\">=</span> <span class=\"o\">&lt;</span><span class=\"n\">Rectangle</span><span class=\"o\">*&gt;</span><span class=\"n\">mem</span><span class=\"o\">.</span><span class=\"n\">alloc</span><span class=\"p\">(</span><span class=\"n\">n_rectangles</span><span class=\"p\">,</span> <span class=\"n\">sizeof</span><span class=\"p\">(</span><span class=\"n\">Rectangle</span><span class=\"p\">))</span></pre>\n",
       "<pre class='cython code score-0 '>  __pyx_t_2 = ((struct __pyx_vtabstruct_5cymem_5cymem_Pool *)__pyx_v_mem-&gt;__pyx_vtab)-&gt;alloc(__pyx_v_mem, __pyx_v_n_rectangles, (sizeof(struct __pyx_t_46_cython_magic_f19dff2be7e3d4bbd2f599250d093502_Rectangle)));<span class='error_goto'> if (unlikely(__pyx_t_2 == ((void *)NULL))) __PYX_ERR(0, 20, __pyx_L1_error)</span>\n",
       "  __pyx_v_rectangles = ((struct __pyx_t_46_cython_magic_f19dff2be7e3d4bbd2f599250d093502_Rectangle *)__pyx_t_2);\n",
       "</pre><pre class=\"cython line score-0\" onclick=\"(function(s){s.display=s.display==='block'?'none':'block'})(this.nextElementSibling.style)\">+<span class=\"\">21</span>:     <span class=\"k\">for</span> <span class=\"n\">i</span> <span class=\"ow\">in</span> <span class=\"nb\">range</span><span class=\"p\">(</span><span class=\"n\">n_rectangles</span><span class=\"p\">):</span></pre>\n",
       "<pre class='cython code score-0 '>  __pyx_t_3 = __pyx_v_n_rectangles;\n",
       "  __pyx_t_4 = __pyx_t_3;\n",
       "  for (__pyx_t_5 = 0; __pyx_t_5 &lt; __pyx_t_4; __pyx_t_5+=1) {\n",
       "    __pyx_v_i = __pyx_t_5;\n",
       "</pre><pre class=\"cython line score-29\" onclick=\"(function(s){s.display=s.display==='block'?'none':'block'})(this.nextElementSibling.style)\">+<span class=\"\">22</span>:         <span class=\"n\">rectangles</span><span class=\"p\">[</span><span class=\"n\">i</span><span class=\"p\">]</span><span class=\"o\">.</span><span class=\"n\">w</span> <span class=\"o\">=</span> <span class=\"n\">random</span><span class=\"p\">()</span></pre>\n",
       "<pre class='cython code score-29 '>    <span class='pyx_c_api'>__Pyx_GetModuleGlobalName</span>(__pyx_t_6, __pyx_n_s_random);<span class='error_goto'> if (unlikely(!__pyx_t_6)) __PYX_ERR(0, 22, __pyx_L1_error)</span>\n",
       "    <span class='refnanny'>__Pyx_GOTREF</span>(__pyx_t_6);\n",
       "    __pyx_t_7 = NULL;\n",
       "    if (CYTHON_UNPACK_METHODS &amp;&amp; unlikely(<span class='py_c_api'>PyMethod_Check</span>(__pyx_t_6))) {\n",
       "      __pyx_t_7 = <span class='py_macro_api'>PyMethod_GET_SELF</span>(__pyx_t_6);\n",
       "      if (likely(__pyx_t_7)) {\n",
       "        PyObject* function = <span class='py_macro_api'>PyMethod_GET_FUNCTION</span>(__pyx_t_6);\n",
       "        <span class='pyx_macro_api'>__Pyx_INCREF</span>(__pyx_t_7);\n",
       "        <span class='pyx_macro_api'>__Pyx_INCREF</span>(function);\n",
       "        <span class='pyx_macro_api'>__Pyx_DECREF_SET</span>(__pyx_t_6, function);\n",
       "      }\n",
       "    }\n",
       "    __pyx_t_1 = (__pyx_t_7) ? <span class='pyx_c_api'>__Pyx_PyObject_CallOneArg</span>(__pyx_t_6, __pyx_t_7) : <span class='pyx_c_api'>__Pyx_PyObject_CallNoArg</span>(__pyx_t_6);\n",
       "    <span class='pyx_macro_api'>__Pyx_XDECREF</span>(__pyx_t_7); __pyx_t_7 = 0;\n",
       "    if (unlikely(!__pyx_t_1)) <span class='error_goto'>__PYX_ERR(0, 22, __pyx_L1_error)</span>\n",
       "    <span class='refnanny'>__Pyx_GOTREF</span>(__pyx_t_1);\n",
       "    <span class='pyx_macro_api'>__Pyx_DECREF</span>(__pyx_t_6); __pyx_t_6 = 0;\n",
       "    __pyx_t_8 = __pyx_<span class='py_c_api'>PyFloat_AsFloat</span>(__pyx_t_1); if (unlikely((__pyx_t_8 == (float)-1) &amp;&amp; <span class='py_c_api'>PyErr_Occurred</span>())) <span class='error_goto'>__PYX_ERR(0, 22, __pyx_L1_error)</span>\n",
       "    <span class='pyx_macro_api'>__Pyx_DECREF</span>(__pyx_t_1); __pyx_t_1 = 0;\n",
       "    (__pyx_v_rectangles[__pyx_v_i]).w = __pyx_t_8;\n",
       "</pre><pre class=\"cython line score-29\" onclick=\"(function(s){s.display=s.display==='block'?'none':'block'})(this.nextElementSibling.style)\">+<span class=\"\">23</span>:         <span class=\"n\">rectangles</span><span class=\"p\">[</span><span class=\"n\">i</span><span class=\"p\">]</span><span class=\"o\">.</span><span class=\"n\">h</span> <span class=\"o\">=</span> <span class=\"n\">random</span><span class=\"p\">()</span></pre>\n",
       "<pre class='cython code score-29 '>    <span class='pyx_c_api'>__Pyx_GetModuleGlobalName</span>(__pyx_t_6, __pyx_n_s_random);<span class='error_goto'> if (unlikely(!__pyx_t_6)) __PYX_ERR(0, 23, __pyx_L1_error)</span>\n",
       "    <span class='refnanny'>__Pyx_GOTREF</span>(__pyx_t_6);\n",
       "    __pyx_t_7 = NULL;\n",
       "    if (CYTHON_UNPACK_METHODS &amp;&amp; unlikely(<span class='py_c_api'>PyMethod_Check</span>(__pyx_t_6))) {\n",
       "      __pyx_t_7 = <span class='py_macro_api'>PyMethod_GET_SELF</span>(__pyx_t_6);\n",
       "      if (likely(__pyx_t_7)) {\n",
       "        PyObject* function = <span class='py_macro_api'>PyMethod_GET_FUNCTION</span>(__pyx_t_6);\n",
       "        <span class='pyx_macro_api'>__Pyx_INCREF</span>(__pyx_t_7);\n",
       "        <span class='pyx_macro_api'>__Pyx_INCREF</span>(function);\n",
       "        <span class='pyx_macro_api'>__Pyx_DECREF_SET</span>(__pyx_t_6, function);\n",
       "      }\n",
       "    }\n",
       "    __pyx_t_1 = (__pyx_t_7) ? <span class='pyx_c_api'>__Pyx_PyObject_CallOneArg</span>(__pyx_t_6, __pyx_t_7) : <span class='pyx_c_api'>__Pyx_PyObject_CallNoArg</span>(__pyx_t_6);\n",
       "    <span class='pyx_macro_api'>__Pyx_XDECREF</span>(__pyx_t_7); __pyx_t_7 = 0;\n",
       "    if (unlikely(!__pyx_t_1)) <span class='error_goto'>__PYX_ERR(0, 23, __pyx_L1_error)</span>\n",
       "    <span class='refnanny'>__Pyx_GOTREF</span>(__pyx_t_1);\n",
       "    <span class='pyx_macro_api'>__Pyx_DECREF</span>(__pyx_t_6); __pyx_t_6 = 0;\n",
       "    __pyx_t_8 = __pyx_<span class='py_c_api'>PyFloat_AsFloat</span>(__pyx_t_1); if (unlikely((__pyx_t_8 == (float)-1) &amp;&amp; <span class='py_c_api'>PyErr_Occurred</span>())) <span class='error_goto'>__PYX_ERR(0, 23, __pyx_L1_error)</span>\n",
       "    <span class='pyx_macro_api'>__Pyx_DECREF</span>(__pyx_t_1); __pyx_t_1 = 0;\n",
       "    (__pyx_v_rectangles[__pyx_v_i]).h = __pyx_t_8;\n",
       "  }\n",
       "</pre><pre class=\"cython line score-0\" onclick=\"(function(s){s.display=s.display==='block'?'none':'block'})(this.nextElementSibling.style)\">+<span class=\"\">24</span>:     <span class=\"n\">n_out</span> <span class=\"o\">=</span> <span class=\"n\">check_rectangles_cy</span><span class=\"p\">(</span><span class=\"n\">rectangles</span><span class=\"p\">,</span> <span class=\"n\">n_rectangles</span><span class=\"p\">,</span> <span class=\"n\">threshold</span><span class=\"p\">)</span></pre>\n",
       "<pre class='cython code score-0 '>  __pyx_v_n_out = __pyx_f_46_cython_magic_f19dff2be7e3d4bbd2f599250d093502_check_rectangles_cy(__pyx_v_rectangles, __pyx_v_n_rectangles, __pyx_v_threshold);\n",
       "</pre><pre class=\"cython line score-6\" onclick=\"(function(s){s.display=s.display==='block'?'none':'block'})(this.nextElementSibling.style)\">+<span class=\"\">25</span>:     <span class=\"k\">print</span><span class=\"p\">(</span><span class=\"n\">n_out</span><span class=\"p\">)</span></pre>\n",
       "<pre class='cython code score-6 '>  __pyx_t_1 = <span class='pyx_c_api'>__Pyx_PyInt_From_int</span>(__pyx_v_n_out);<span class='error_goto'> if (unlikely(!__pyx_t_1)) __PYX_ERR(0, 25, __pyx_L1_error)</span>\n",
       "  <span class='refnanny'>__Pyx_GOTREF</span>(__pyx_t_1);\n",
       "  __pyx_t_6 = <span class='pyx_c_api'>__Pyx_PyObject_CallOneArg</span>(__pyx_builtin_print, __pyx_t_1);<span class='error_goto'> if (unlikely(!__pyx_t_6)) __PYX_ERR(0, 25, __pyx_L1_error)</span>\n",
       "  <span class='refnanny'>__Pyx_GOTREF</span>(__pyx_t_6);\n",
       "  <span class='pyx_macro_api'>__Pyx_DECREF</span>(__pyx_t_1); __pyx_t_1 = 0;\n",
       "  <span class='pyx_macro_api'>__Pyx_DECREF</span>(__pyx_t_6); __pyx_t_6 = 0;\n",
       "</pre></div></body></html>"
      ],
      "text/plain": [
       "<IPython.core.display.HTML object>"
      ]
     },
     "execution_count": 352,
     "metadata": {},
     "output_type": "execute_result"
    }
   ],
   "source": [
    "%%cython -a\n",
    "from cymem.cymem cimport Pool\n",
    "from random import random\n",
    "\n",
    "cdef struct Rectangle:\n",
    "    float w\n",
    "    float h\n",
    "\n",
    "cdef int check_rectangles_cy(Rectangle* rectangles, int n_rectangles, float threshold):\n",
    "    cdef int n_out = 0\n",
    "    # C arrays contain no size information => we need to state it explicitly\n",
    "    for rectangle in rectangles[:n_rectangles]:\n",
    "        if rectangle.w * rectangle.h > threshold:\n",
    "            n_out += 1\n",
    "    return n_out\n",
    "\n",
    "cpdef main_rectangles_fast():\n",
    "    cdef int n_rectangles = 10000000\n",
    "    cdef float threshold = 0.25\n",
    "    cdef Pool mem = Pool()\n",
    "    cdef Rectangle* rectangles = <Rectangle*>mem.alloc(n_rectangles, sizeof(Rectangle))\n",
    "    for i in range(n_rectangles):\n",
    "        rectangles[i].w = random()\n",
    "        rectangles[i].h = random()\n",
    "    n_out = check_rectangles_cy(rectangles, n_rectangles, threshold)\n",
    "    print(n_out)"
   ]
  },
  {
   "cell_type": "markdown",
   "metadata": {},
   "source": [
    "Click on a line that starts with a `+` to see the C code that Cython generated for it!\n",
    "\n",
    "Here is an example of the previous cython program ***not optimized*** (with Python objects in the loop):"
   ]
  },
  {
   "cell_type": "code",
   "execution_count": 353,
   "metadata": {},
   "outputs": [
    {
     "data": {
      "text/html": [
       "<!DOCTYPE html>\n",
       "<!-- Generated by Cython 0.29.14 -->\n",
       "<html>\n",
       "<head>\n",
       "    <meta http-equiv=\"Content-Type\" content=\"text/html; charset=utf-8\" />\n",
       "    <title>Cython: _cython_magic_230d8b91180a7a280a62af194c9a7138.pyx</title>\n",
       "    <style type=\"text/css\">\n",
       "    \n",
       "body.cython { font-family: courier; font-size: 12; }\n",
       "\n",
       ".cython.tag  {  }\n",
       ".cython.line { margin: 0em }\n",
       ".cython.code { font-size: 9; color: #444444; display: none; margin: 0px 0px 0px 8px; border-left: 8px none; }\n",
       "\n",
       ".cython.line .run { background-color: #B0FFB0; }\n",
       ".cython.line .mis { background-color: #FFB0B0; }\n",
       ".cython.code.run  { border-left: 8px solid #B0FFB0; }\n",
       ".cython.code.mis  { border-left: 8px solid #FFB0B0; }\n",
       "\n",
       ".cython.code .py_c_api  { color: red; }\n",
       ".cython.code .py_macro_api  { color: #FF7000; }\n",
       ".cython.code .pyx_c_api  { color: #FF3000; }\n",
       ".cython.code .pyx_macro_api  { color: #FF7000; }\n",
       ".cython.code .refnanny  { color: #FFA000; }\n",
       ".cython.code .trace  { color: #FFA000; }\n",
       ".cython.code .error_goto  { color: #FFA000; }\n",
       "\n",
       ".cython.code .coerce  { color: #008000; border: 1px dotted #008000 }\n",
       ".cython.code .py_attr { color: #FF0000; font-weight: bold; }\n",
       ".cython.code .c_attr  { color: #0000FF; }\n",
       ".cython.code .py_call { color: #FF0000; font-weight: bold; }\n",
       ".cython.code .c_call  { color: #0000FF; }\n",
       "\n",
       ".cython.score-0 {background-color: #FFFFff;}\n",
       ".cython.score-1 {background-color: #FFFFe7;}\n",
       ".cython.score-2 {background-color: #FFFFd4;}\n",
       ".cython.score-3 {background-color: #FFFFc4;}\n",
       ".cython.score-4 {background-color: #FFFFb6;}\n",
       ".cython.score-5 {background-color: #FFFFaa;}\n",
       ".cython.score-6 {background-color: #FFFF9f;}\n",
       ".cython.score-7 {background-color: #FFFF96;}\n",
       ".cython.score-8 {background-color: #FFFF8d;}\n",
       ".cython.score-9 {background-color: #FFFF86;}\n",
       ".cython.score-10 {background-color: #FFFF7f;}\n",
       ".cython.score-11 {background-color: #FFFF79;}\n",
       ".cython.score-12 {background-color: #FFFF73;}\n",
       ".cython.score-13 {background-color: #FFFF6e;}\n",
       ".cython.score-14 {background-color: #FFFF6a;}\n",
       ".cython.score-15 {background-color: #FFFF66;}\n",
       ".cython.score-16 {background-color: #FFFF62;}\n",
       ".cython.score-17 {background-color: #FFFF5e;}\n",
       ".cython.score-18 {background-color: #FFFF5b;}\n",
       ".cython.score-19 {background-color: #FFFF57;}\n",
       ".cython.score-20 {background-color: #FFFF55;}\n",
       ".cython.score-21 {background-color: #FFFF52;}\n",
       ".cython.score-22 {background-color: #FFFF4f;}\n",
       ".cython.score-23 {background-color: #FFFF4d;}\n",
       ".cython.score-24 {background-color: #FFFF4b;}\n",
       ".cython.score-25 {background-color: #FFFF48;}\n",
       ".cython.score-26 {background-color: #FFFF46;}\n",
       ".cython.score-27 {background-color: #FFFF44;}\n",
       ".cython.score-28 {background-color: #FFFF43;}\n",
       ".cython.score-29 {background-color: #FFFF41;}\n",
       ".cython.score-30 {background-color: #FFFF3f;}\n",
       ".cython.score-31 {background-color: #FFFF3e;}\n",
       ".cython.score-32 {background-color: #FFFF3c;}\n",
       ".cython.score-33 {background-color: #FFFF3b;}\n",
       ".cython.score-34 {background-color: #FFFF39;}\n",
       ".cython.score-35 {background-color: #FFFF38;}\n",
       ".cython.score-36 {background-color: #FFFF37;}\n",
       ".cython.score-37 {background-color: #FFFF36;}\n",
       ".cython.score-38 {background-color: #FFFF35;}\n",
       ".cython.score-39 {background-color: #FFFF34;}\n",
       ".cython.score-40 {background-color: #FFFF33;}\n",
       ".cython.score-41 {background-color: #FFFF32;}\n",
       ".cython.score-42 {background-color: #FFFF31;}\n",
       ".cython.score-43 {background-color: #FFFF30;}\n",
       ".cython.score-44 {background-color: #FFFF2f;}\n",
       ".cython.score-45 {background-color: #FFFF2e;}\n",
       ".cython.score-46 {background-color: #FFFF2d;}\n",
       ".cython.score-47 {background-color: #FFFF2c;}\n",
       ".cython.score-48 {background-color: #FFFF2b;}\n",
       ".cython.score-49 {background-color: #FFFF2b;}\n",
       ".cython.score-50 {background-color: #FFFF2a;}\n",
       ".cython.score-51 {background-color: #FFFF29;}\n",
       ".cython.score-52 {background-color: #FFFF29;}\n",
       ".cython.score-53 {background-color: #FFFF28;}\n",
       ".cython.score-54 {background-color: #FFFF27;}\n",
       ".cython.score-55 {background-color: #FFFF27;}\n",
       ".cython.score-56 {background-color: #FFFF26;}\n",
       ".cython.score-57 {background-color: #FFFF26;}\n",
       ".cython.score-58 {background-color: #FFFF25;}\n",
       ".cython.score-59 {background-color: #FFFF24;}\n",
       ".cython.score-60 {background-color: #FFFF24;}\n",
       ".cython.score-61 {background-color: #FFFF23;}\n",
       ".cython.score-62 {background-color: #FFFF23;}\n",
       ".cython.score-63 {background-color: #FFFF22;}\n",
       ".cython.score-64 {background-color: #FFFF22;}\n",
       ".cython.score-65 {background-color: #FFFF22;}\n",
       ".cython.score-66 {background-color: #FFFF21;}\n",
       ".cython.score-67 {background-color: #FFFF21;}\n",
       ".cython.score-68 {background-color: #FFFF20;}\n",
       ".cython.score-69 {background-color: #FFFF20;}\n",
       ".cython.score-70 {background-color: #FFFF1f;}\n",
       ".cython.score-71 {background-color: #FFFF1f;}\n",
       ".cython.score-72 {background-color: #FFFF1f;}\n",
       ".cython.score-73 {background-color: #FFFF1e;}\n",
       ".cython.score-74 {background-color: #FFFF1e;}\n",
       ".cython.score-75 {background-color: #FFFF1e;}\n",
       ".cython.score-76 {background-color: #FFFF1d;}\n",
       ".cython.score-77 {background-color: #FFFF1d;}\n",
       ".cython.score-78 {background-color: #FFFF1c;}\n",
       ".cython.score-79 {background-color: #FFFF1c;}\n",
       ".cython.score-80 {background-color: #FFFF1c;}\n",
       ".cython.score-81 {background-color: #FFFF1c;}\n",
       ".cython.score-82 {background-color: #FFFF1b;}\n",
       ".cython.score-83 {background-color: #FFFF1b;}\n",
       ".cython.score-84 {background-color: #FFFF1b;}\n",
       ".cython.score-85 {background-color: #FFFF1a;}\n",
       ".cython.score-86 {background-color: #FFFF1a;}\n",
       ".cython.score-87 {background-color: #FFFF1a;}\n",
       ".cython.score-88 {background-color: #FFFF1a;}\n",
       ".cython.score-89 {background-color: #FFFF19;}\n",
       ".cython.score-90 {background-color: #FFFF19;}\n",
       ".cython.score-91 {background-color: #FFFF19;}\n",
       ".cython.score-92 {background-color: #FFFF19;}\n",
       ".cython.score-93 {background-color: #FFFF18;}\n",
       ".cython.score-94 {background-color: #FFFF18;}\n",
       ".cython.score-95 {background-color: #FFFF18;}\n",
       ".cython.score-96 {background-color: #FFFF18;}\n",
       ".cython.score-97 {background-color: #FFFF17;}\n",
       ".cython.score-98 {background-color: #FFFF17;}\n",
       ".cython.score-99 {background-color: #FFFF17;}\n",
       ".cython.score-100 {background-color: #FFFF17;}\n",
       ".cython.score-101 {background-color: #FFFF16;}\n",
       ".cython.score-102 {background-color: #FFFF16;}\n",
       ".cython.score-103 {background-color: #FFFF16;}\n",
       ".cython.score-104 {background-color: #FFFF16;}\n",
       ".cython.score-105 {background-color: #FFFF16;}\n",
       ".cython.score-106 {background-color: #FFFF15;}\n",
       ".cython.score-107 {background-color: #FFFF15;}\n",
       ".cython.score-108 {background-color: #FFFF15;}\n",
       ".cython.score-109 {background-color: #FFFF15;}\n",
       ".cython.score-110 {background-color: #FFFF15;}\n",
       ".cython.score-111 {background-color: #FFFF15;}\n",
       ".cython.score-112 {background-color: #FFFF14;}\n",
       ".cython.score-113 {background-color: #FFFF14;}\n",
       ".cython.score-114 {background-color: #FFFF14;}\n",
       ".cython.score-115 {background-color: #FFFF14;}\n",
       ".cython.score-116 {background-color: #FFFF14;}\n",
       ".cython.score-117 {background-color: #FFFF14;}\n",
       ".cython.score-118 {background-color: #FFFF13;}\n",
       ".cython.score-119 {background-color: #FFFF13;}\n",
       ".cython.score-120 {background-color: #FFFF13;}\n",
       ".cython.score-121 {background-color: #FFFF13;}\n",
       ".cython.score-122 {background-color: #FFFF13;}\n",
       ".cython.score-123 {background-color: #FFFF13;}\n",
       ".cython.score-124 {background-color: #FFFF13;}\n",
       ".cython.score-125 {background-color: #FFFF12;}\n",
       ".cython.score-126 {background-color: #FFFF12;}\n",
       ".cython.score-127 {background-color: #FFFF12;}\n",
       ".cython.score-128 {background-color: #FFFF12;}\n",
       ".cython.score-129 {background-color: #FFFF12;}\n",
       ".cython.score-130 {background-color: #FFFF12;}\n",
       ".cython.score-131 {background-color: #FFFF12;}\n",
       ".cython.score-132 {background-color: #FFFF11;}\n",
       ".cython.score-133 {background-color: #FFFF11;}\n",
       ".cython.score-134 {background-color: #FFFF11;}\n",
       ".cython.score-135 {background-color: #FFFF11;}\n",
       ".cython.score-136 {background-color: #FFFF11;}\n",
       ".cython.score-137 {background-color: #FFFF11;}\n",
       ".cython.score-138 {background-color: #FFFF11;}\n",
       ".cython.score-139 {background-color: #FFFF11;}\n",
       ".cython.score-140 {background-color: #FFFF11;}\n",
       ".cython.score-141 {background-color: #FFFF10;}\n",
       ".cython.score-142 {background-color: #FFFF10;}\n",
       ".cython.score-143 {background-color: #FFFF10;}\n",
       ".cython.score-144 {background-color: #FFFF10;}\n",
       ".cython.score-145 {background-color: #FFFF10;}\n",
       ".cython.score-146 {background-color: #FFFF10;}\n",
       ".cython.score-147 {background-color: #FFFF10;}\n",
       ".cython.score-148 {background-color: #FFFF10;}\n",
       ".cython.score-149 {background-color: #FFFF10;}\n",
       ".cython.score-150 {background-color: #FFFF0f;}\n",
       ".cython.score-151 {background-color: #FFFF0f;}\n",
       ".cython.score-152 {background-color: #FFFF0f;}\n",
       ".cython.score-153 {background-color: #FFFF0f;}\n",
       ".cython.score-154 {background-color: #FFFF0f;}\n",
       ".cython.score-155 {background-color: #FFFF0f;}\n",
       ".cython.score-156 {background-color: #FFFF0f;}\n",
       ".cython.score-157 {background-color: #FFFF0f;}\n",
       ".cython.score-158 {background-color: #FFFF0f;}\n",
       ".cython.score-159 {background-color: #FFFF0f;}\n",
       ".cython.score-160 {background-color: #FFFF0f;}\n",
       ".cython.score-161 {background-color: #FFFF0e;}\n",
       ".cython.score-162 {background-color: #FFFF0e;}\n",
       ".cython.score-163 {background-color: #FFFF0e;}\n",
       ".cython.score-164 {background-color: #FFFF0e;}\n",
       ".cython.score-165 {background-color: #FFFF0e;}\n",
       ".cython.score-166 {background-color: #FFFF0e;}\n",
       ".cython.score-167 {background-color: #FFFF0e;}\n",
       ".cython.score-168 {background-color: #FFFF0e;}\n",
       ".cython.score-169 {background-color: #FFFF0e;}\n",
       ".cython.score-170 {background-color: #FFFF0e;}\n",
       ".cython.score-171 {background-color: #FFFF0e;}\n",
       ".cython.score-172 {background-color: #FFFF0e;}\n",
       ".cython.score-173 {background-color: #FFFF0d;}\n",
       ".cython.score-174 {background-color: #FFFF0d;}\n",
       ".cython.score-175 {background-color: #FFFF0d;}\n",
       ".cython.score-176 {background-color: #FFFF0d;}\n",
       ".cython.score-177 {background-color: #FFFF0d;}\n",
       ".cython.score-178 {background-color: #FFFF0d;}\n",
       ".cython.score-179 {background-color: #FFFF0d;}\n",
       ".cython.score-180 {background-color: #FFFF0d;}\n",
       ".cython.score-181 {background-color: #FFFF0d;}\n",
       ".cython.score-182 {background-color: #FFFF0d;}\n",
       ".cython.score-183 {background-color: #FFFF0d;}\n",
       ".cython.score-184 {background-color: #FFFF0d;}\n",
       ".cython.score-185 {background-color: #FFFF0d;}\n",
       ".cython.score-186 {background-color: #FFFF0d;}\n",
       ".cython.score-187 {background-color: #FFFF0c;}\n",
       ".cython.score-188 {background-color: #FFFF0c;}\n",
       ".cython.score-189 {background-color: #FFFF0c;}\n",
       ".cython.score-190 {background-color: #FFFF0c;}\n",
       ".cython.score-191 {background-color: #FFFF0c;}\n",
       ".cython.score-192 {background-color: #FFFF0c;}\n",
       ".cython.score-193 {background-color: #FFFF0c;}\n",
       ".cython.score-194 {background-color: #FFFF0c;}\n",
       ".cython.score-195 {background-color: #FFFF0c;}\n",
       ".cython.score-196 {background-color: #FFFF0c;}\n",
       ".cython.score-197 {background-color: #FFFF0c;}\n",
       ".cython.score-198 {background-color: #FFFF0c;}\n",
       ".cython.score-199 {background-color: #FFFF0c;}\n",
       ".cython.score-200 {background-color: #FFFF0c;}\n",
       ".cython.score-201 {background-color: #FFFF0c;}\n",
       ".cython.score-202 {background-color: #FFFF0c;}\n",
       ".cython.score-203 {background-color: #FFFF0b;}\n",
       ".cython.score-204 {background-color: #FFFF0b;}\n",
       ".cython.score-205 {background-color: #FFFF0b;}\n",
       ".cython.score-206 {background-color: #FFFF0b;}\n",
       ".cython.score-207 {background-color: #FFFF0b;}\n",
       ".cython.score-208 {background-color: #FFFF0b;}\n",
       ".cython.score-209 {background-color: #FFFF0b;}\n",
       ".cython.score-210 {background-color: #FFFF0b;}\n",
       ".cython.score-211 {background-color: #FFFF0b;}\n",
       ".cython.score-212 {background-color: #FFFF0b;}\n",
       ".cython.score-213 {background-color: #FFFF0b;}\n",
       ".cython.score-214 {background-color: #FFFF0b;}\n",
       ".cython.score-215 {background-color: #FFFF0b;}\n",
       ".cython.score-216 {background-color: #FFFF0b;}\n",
       ".cython.score-217 {background-color: #FFFF0b;}\n",
       ".cython.score-218 {background-color: #FFFF0b;}\n",
       ".cython.score-219 {background-color: #FFFF0b;}\n",
       ".cython.score-220 {background-color: #FFFF0b;}\n",
       ".cython.score-221 {background-color: #FFFF0b;}\n",
       ".cython.score-222 {background-color: #FFFF0a;}\n",
       ".cython.score-223 {background-color: #FFFF0a;}\n",
       ".cython.score-224 {background-color: #FFFF0a;}\n",
       ".cython.score-225 {background-color: #FFFF0a;}\n",
       ".cython.score-226 {background-color: #FFFF0a;}\n",
       ".cython.score-227 {background-color: #FFFF0a;}\n",
       ".cython.score-228 {background-color: #FFFF0a;}\n",
       ".cython.score-229 {background-color: #FFFF0a;}\n",
       ".cython.score-230 {background-color: #FFFF0a;}\n",
       ".cython.score-231 {background-color: #FFFF0a;}\n",
       ".cython.score-232 {background-color: #FFFF0a;}\n",
       ".cython.score-233 {background-color: #FFFF0a;}\n",
       ".cython.score-234 {background-color: #FFFF0a;}\n",
       ".cython.score-235 {background-color: #FFFF0a;}\n",
       ".cython.score-236 {background-color: #FFFF0a;}\n",
       ".cython.score-237 {background-color: #FFFF0a;}\n",
       ".cython.score-238 {background-color: #FFFF0a;}\n",
       ".cython.score-239 {background-color: #FFFF0a;}\n",
       ".cython.score-240 {background-color: #FFFF0a;}\n",
       ".cython.score-241 {background-color: #FFFF0a;}\n",
       ".cython.score-242 {background-color: #FFFF0a;}\n",
       ".cython.score-243 {background-color: #FFFF0a;}\n",
       ".cython.score-244 {background-color: #FFFF0a;}\n",
       ".cython.score-245 {background-color: #FFFF0a;}\n",
       ".cython.score-246 {background-color: #FFFF09;}\n",
       ".cython.score-247 {background-color: #FFFF09;}\n",
       ".cython.score-248 {background-color: #FFFF09;}\n",
       ".cython.score-249 {background-color: #FFFF09;}\n",
       ".cython.score-250 {background-color: #FFFF09;}\n",
       ".cython.score-251 {background-color: #FFFF09;}\n",
       ".cython.score-252 {background-color: #FFFF09;}\n",
       ".cython.score-253 {background-color: #FFFF09;}\n",
       ".cython.score-254 {background-color: #FFFF09;}\n",
       ".cython .hll { background-color: #ffffcc }\n",
       ".cython  { background: #f8f8f8; }\n",
       ".cython .c { color: #408080; font-style: italic } /* Comment */\n",
       ".cython .err { border: 1px solid #FF0000 } /* Error */\n",
       ".cython .k { color: #008000; font-weight: bold } /* Keyword */\n",
       ".cython .o { color: #666666 } /* Operator */\n",
       ".cython .ch { color: #408080; font-style: italic } /* Comment.Hashbang */\n",
       ".cython .cm { color: #408080; font-style: italic } /* Comment.Multiline */\n",
       ".cython .cp { color: #BC7A00 } /* Comment.Preproc */\n",
       ".cython .cpf { color: #408080; font-style: italic } /* Comment.PreprocFile */\n",
       ".cython .c1 { color: #408080; font-style: italic } /* Comment.Single */\n",
       ".cython .cs { color: #408080; font-style: italic } /* Comment.Special */\n",
       ".cython .gd { color: #A00000 } /* Generic.Deleted */\n",
       ".cython .ge { font-style: italic } /* Generic.Emph */\n",
       ".cython .gr { color: #FF0000 } /* Generic.Error */\n",
       ".cython .gh { color: #000080; font-weight: bold } /* Generic.Heading */\n",
       ".cython .gi { color: #00A000 } /* Generic.Inserted */\n",
       ".cython .go { color: #888888 } /* Generic.Output */\n",
       ".cython .gp { color: #000080; font-weight: bold } /* Generic.Prompt */\n",
       ".cython .gs { font-weight: bold } /* Generic.Strong */\n",
       ".cython .gu { color: #800080; font-weight: bold } /* Generic.Subheading */\n",
       ".cython .gt { color: #0044DD } /* Generic.Traceback */\n",
       ".cython .kc { color: #008000; font-weight: bold } /* Keyword.Constant */\n",
       ".cython .kd { color: #008000; font-weight: bold } /* Keyword.Declaration */\n",
       ".cython .kn { color: #008000; font-weight: bold } /* Keyword.Namespace */\n",
       ".cython .kp { color: #008000 } /* Keyword.Pseudo */\n",
       ".cython .kr { color: #008000; font-weight: bold } /* Keyword.Reserved */\n",
       ".cython .kt { color: #B00040 } /* Keyword.Type */\n",
       ".cython .m { color: #666666 } /* Literal.Number */\n",
       ".cython .s { color: #BA2121 } /* Literal.String */\n",
       ".cython .na { color: #7D9029 } /* Name.Attribute */\n",
       ".cython .nb { color: #008000 } /* Name.Builtin */\n",
       ".cython .nc { color: #0000FF; font-weight: bold } /* Name.Class */\n",
       ".cython .no { color: #880000 } /* Name.Constant */\n",
       ".cython .nd { color: #AA22FF } /* Name.Decorator */\n",
       ".cython .ni { color: #999999; font-weight: bold } /* Name.Entity */\n",
       ".cython .ne { color: #D2413A; font-weight: bold } /* Name.Exception */\n",
       ".cython .nf { color: #0000FF } /* Name.Function */\n",
       ".cython .nl { color: #A0A000 } /* Name.Label */\n",
       ".cython .nn { color: #0000FF; font-weight: bold } /* Name.Namespace */\n",
       ".cython .nt { color: #008000; font-weight: bold } /* Name.Tag */\n",
       ".cython .nv { color: #19177C } /* Name.Variable */\n",
       ".cython .ow { color: #AA22FF; font-weight: bold } /* Operator.Word */\n",
       ".cython .w { color: #bbbbbb } /* Text.Whitespace */\n",
       ".cython .mb { color: #666666 } /* Literal.Number.Bin */\n",
       ".cython .mf { color: #666666 } /* Literal.Number.Float */\n",
       ".cython .mh { color: #666666 } /* Literal.Number.Hex */\n",
       ".cython .mi { color: #666666 } /* Literal.Number.Integer */\n",
       ".cython .mo { color: #666666 } /* Literal.Number.Oct */\n",
       ".cython .sa { color: #BA2121 } /* Literal.String.Affix */\n",
       ".cython .sb { color: #BA2121 } /* Literal.String.Backtick */\n",
       ".cython .sc { color: #BA2121 } /* Literal.String.Char */\n",
       ".cython .dl { color: #BA2121 } /* Literal.String.Delimiter */\n",
       ".cython .sd { color: #BA2121; font-style: italic } /* Literal.String.Doc */\n",
       ".cython .s2 { color: #BA2121 } /* Literal.String.Double */\n",
       ".cython .se { color: #BB6622; font-weight: bold } /* Literal.String.Escape */\n",
       ".cython .sh { color: #BA2121 } /* Literal.String.Heredoc */\n",
       ".cython .si { color: #BB6688; font-weight: bold } /* Literal.String.Interpol */\n",
       ".cython .sx { color: #008000 } /* Literal.String.Other */\n",
       ".cython .sr { color: #BB6688 } /* Literal.String.Regex */\n",
       ".cython .s1 { color: #BA2121 } /* Literal.String.Single */\n",
       ".cython .ss { color: #19177C } /* Literal.String.Symbol */\n",
       ".cython .bp { color: #008000 } /* Name.Builtin.Pseudo */\n",
       ".cython .fm { color: #0000FF } /* Name.Function.Magic */\n",
       ".cython .vc { color: #19177C } /* Name.Variable.Class */\n",
       ".cython .vg { color: #19177C } /* Name.Variable.Global */\n",
       ".cython .vi { color: #19177C } /* Name.Variable.Instance */\n",
       ".cython .vm { color: #19177C } /* Name.Variable.Magic */\n",
       ".cython .il { color: #666666 } /* Literal.Number.Integer.Long */\n",
       "    </style>\n",
       "</head>\n",
       "<body class=\"cython\">\n",
       "<p><span style=\"border-bottom: solid 1px grey;\">Generated by Cython 0.29.14</span></p>\n",
       "<p>\n",
       "    <span style=\"background-color: #FFFF00\">Yellow lines</span> hint at Python interaction.<br />\n",
       "    Click on a line that starts with a \"<code>+</code>\" to see the C code that Cython generated for it.\n",
       "</p>\n",
       "<div class=\"cython\"><pre class=\"cython line score-0\">&#xA0;<span class=\"\">01</span>: <span class=\"k\">from</span> <span class=\"nn\">cymem.cymem</span> <span class=\"k\">cimport</span> <span class=\"n\">Pool</span></pre>\n",
       "<pre class=\"cython line score-19\" onclick=\"(function(s){s.display=s.display==='block'?'none':'block'})(this.nextElementSibling.style)\">+<span class=\"\">02</span>: <span class=\"k\">from</span> <span class=\"nn\">random</span> <span class=\"k\">import</span> <span class=\"n\">random</span></pre>\n",
       "<pre class='cython code score-19 '>  __pyx_t_1 = <span class='py_c_api'>PyList_New</span>(1);<span class='error_goto'> if (unlikely(!__pyx_t_1)) __PYX_ERR(0, 2, __pyx_L1_error)</span>\n",
       "  <span class='refnanny'>__Pyx_GOTREF</span>(__pyx_t_1);\n",
       "  <span class='pyx_macro_api'>__Pyx_INCREF</span>(__pyx_n_s_random);\n",
       "  <span class='refnanny'>__Pyx_GIVEREF</span>(__pyx_n_s_random);\n",
       "  <span class='py_macro_api'>PyList_SET_ITEM</span>(__pyx_t_1, 0, __pyx_n_s_random);\n",
       "  __pyx_t_2 = <span class='pyx_c_api'>__Pyx_Import</span>(__pyx_n_s_random, __pyx_t_1, 0);<span class='error_goto'> if (unlikely(!__pyx_t_2)) __PYX_ERR(0, 2, __pyx_L1_error)</span>\n",
       "  <span class='refnanny'>__Pyx_GOTREF</span>(__pyx_t_2);\n",
       "  <span class='pyx_macro_api'>__Pyx_DECREF</span>(__pyx_t_1); __pyx_t_1 = 0;\n",
       "  __pyx_t_1 = <span class='pyx_c_api'>__Pyx_ImportFrom</span>(__pyx_t_2, __pyx_n_s_random);<span class='error_goto'> if (unlikely(!__pyx_t_1)) __PYX_ERR(0, 2, __pyx_L1_error)</span>\n",
       "  <span class='refnanny'>__Pyx_GOTREF</span>(__pyx_t_1);\n",
       "  if (<span class='py_c_api'>PyDict_SetItem</span>(__pyx_d, __pyx_n_s_random, __pyx_t_1) &lt; 0) <span class='error_goto'>__PYX_ERR(0, 2, __pyx_L1_error)</span>\n",
       "  <span class='pyx_macro_api'>__Pyx_DECREF</span>(__pyx_t_1); __pyx_t_1 = 0;\n",
       "  <span class='pyx_macro_api'>__Pyx_DECREF</span>(__pyx_t_2); __pyx_t_2 = 0;\n",
       "</pre><pre class=\"cython line score-0\">&#xA0;<span class=\"\">03</span>: </pre>\n",
       "<pre class=\"cython line score-0\" onclick=\"(function(s){s.display=s.display==='block'?'none':'block'})(this.nextElementSibling.style)\">+<span class=\"\">04</span>: <span class=\"k\">cdef</span> <span class=\"k\">struct</span> <span class=\"nf\">Rectangle</span><span class=\"p\">:</span></pre>\n",
       "<pre class='cython code score-0 '>struct __pyx_t_46_cython_magic_230d8b91180a7a280a62af194c9a7138_Rectangle {\n",
       "  float w;\n",
       "  float h;\n",
       "};\n",
       "</pre><pre class=\"cython line score-0\">&#xA0;<span class=\"\">05</span>:     <span class=\"nb\">float</span> <span class=\"n\">w</span></pre>\n",
       "<pre class=\"cython line score-0\">&#xA0;<span class=\"\">06</span>:     <span class=\"nb\">float</span> <span class=\"n\">h</span></pre>\n",
       "<pre class=\"cython line score-0\">&#xA0;<span class=\"\">07</span>: </pre>\n",
       "<pre class=\"cython line score-4\" onclick=\"(function(s){s.display=s.display==='block'?'none':'block'})(this.nextElementSibling.style)\">+<span class=\"\">08</span>: <span class=\"k\">cdef</span> <span class=\"kt\">int</span> <span class=\"nf\">check_rectangles_cy</span><span class=\"p\">(</span><span class=\"n\">Rectangle</span><span class=\"o\">*</span> <span class=\"n\">rectangles</span><span class=\"p\">,</span> <span class=\"nb\">int</span> <span class=\"n\">n_rectangles</span><span class=\"p\">,</span> <span class=\"nb\">float</span> <span class=\"n\">threshold</span><span class=\"p\">):</span></pre>\n",
       "<pre class='cython code score-4 '>static int __pyx_f_46_cython_magic_230d8b91180a7a280a62af194c9a7138_check_rectangles_cy(struct __pyx_t_46_cython_magic_230d8b91180a7a280a62af194c9a7138_Rectangle *__pyx_v_rectangles, int __pyx_v_n_rectangles, float __pyx_v_threshold) {\n",
       "  PyObject *__pyx_v_n_out = NULL;\n",
       "  struct __pyx_t_46_cython_magic_230d8b91180a7a280a62af194c9a7138_Rectangle __pyx_v_rectangle;\n",
       "  int __pyx_r;\n",
       "  <span class='refnanny'>__Pyx_RefNannyDeclarations</span>\n",
       "  <span class='refnanny'>__Pyx_RefNannySetupContext</span>(\"check_rectangles_cy\", 0);\n",
       "/* … */\n",
       "  /* function exit code */\n",
       "  __pyx_L1_error:;\n",
       "  <span class='pyx_macro_api'>__Pyx_XDECREF</span>(__pyx_t_5);\n",
       "  <span class='pyx_c_api'>__Pyx_WriteUnraisable</span>(\"_cython_magic_230d8b91180a7a280a62af194c9a7138.check_rectangles_cy\", __pyx_clineno, __pyx_lineno, __pyx_filename, 1, 0);\n",
       "  __pyx_r = 0;\n",
       "  __pyx_L0:;\n",
       "  <span class='pyx_macro_api'>__Pyx_XDECREF</span>(__pyx_v_n_out);\n",
       "  <span class='refnanny'>__Pyx_RefNannyFinishContext</span>();\n",
       "  return __pyx_r;\n",
       "}\n",
       "</pre><pre class=\"cython line score-0\">&#xA0;<span class=\"\">09</span>:     <span class=\"c\"># ========== MODIFICATION ===========</span></pre>\n",
       "<pre class=\"cython line score-0\">&#xA0;<span class=\"\">10</span>:     <span class=\"c\"># We changed the following line from `cdef int n_out = 0` to</span></pre>\n",
       "<pre class=\"cython line score-1\" onclick=\"(function(s){s.display=s.display==='block'?'none':'block'})(this.nextElementSibling.style)\">+<span class=\"\">11</span>:     <span class=\"n\">n_out</span> <span class=\"o\">=</span> <span class=\"mf\">0</span></pre>\n",
       "<pre class='cython code score-1 '>  <span class='pyx_macro_api'>__Pyx_INCREF</span>(__pyx_int_0);\n",
       "  __pyx_v_n_out = __pyx_int_0;\n",
       "</pre><pre class=\"cython line score-0\">&#xA0;<span class=\"\">12</span>:     <span class=\"c\"># n_out is not defined as an `int` anymore and is now thus a regular Python object</span></pre>\n",
       "<pre class=\"cython line score-0\">&#xA0;<span class=\"\">13</span>:     <span class=\"c\"># ===================================</span></pre>\n",
       "<pre class=\"cython line score-0\" onclick=\"(function(s){s.display=s.display==='block'?'none':'block'})(this.nextElementSibling.style)\">+<span class=\"\">14</span>:     <span class=\"k\">for</span> <span class=\"n\">rectangle</span> <span class=\"ow\">in</span> <span class=\"n\">rectangles</span><span class=\"p\">[:</span><span class=\"n\">n_rectangles</span><span class=\"p\">]:</span></pre>\n",
       "<pre class='cython code score-0 '>  __pyx_t_2 = (__pyx_v_rectangles + __pyx_v_n_rectangles);\n",
       "  for (__pyx_t_3 = __pyx_v_rectangles; __pyx_t_3 &lt; __pyx_t_2; __pyx_t_3++) {\n",
       "    __pyx_t_1 = __pyx_t_3;\n",
       "    __pyx_v_rectangle = (__pyx_t_1[0]);\n",
       "</pre><pre class=\"cython line score-0\" onclick=\"(function(s){s.display=s.display==='block'?'none':'block'})(this.nextElementSibling.style)\">+<span class=\"\">15</span>:         <span class=\"k\">if</span> <span class=\"n\">rectangle</span><span class=\"o\">.</span><span class=\"n\">w</span> <span class=\"o\">*</span> <span class=\"n\">rectangle</span><span class=\"o\">.</span><span class=\"n\">h</span> <span class=\"o\">&gt;</span> <span class=\"n\">threshold</span><span class=\"p\">:</span></pre>\n",
       "<pre class='cython code score-0 '>    __pyx_t_4 = (((__pyx_v_rectangle.w * __pyx_v_rectangle.h) &gt; __pyx_v_threshold) != 0);\n",
       "    if (__pyx_t_4) {\n",
       "/* … */\n",
       "    }\n",
       "  }\n",
       "</pre><pre class=\"cython line score-3\" onclick=\"(function(s){s.display=s.display==='block'?'none':'block'})(this.nextElementSibling.style)\">+<span class=\"\">16</span>:             <span class=\"n\">n_out</span> <span class=\"o\">+=</span> <span class=\"mf\">1</span></pre>\n",
       "<pre class='cython code score-3 '>      __pyx_t_5 = <span class='pyx_c_api'>__Pyx_PyInt_AddObjC</span>(__pyx_v_n_out, __pyx_int_1, 1, 1, 0);<span class='error_goto'> if (unlikely(!__pyx_t_5)) __PYX_ERR(0, 16, __pyx_L1_error)</span>\n",
       "      <span class='refnanny'>__Pyx_GOTREF</span>(__pyx_t_5);\n",
       "      <span class='pyx_macro_api'>__Pyx_DECREF_SET</span>(__pyx_v_n_out, __pyx_t_5);\n",
       "      __pyx_t_5 = 0;\n",
       "</pre><pre class=\"cython line score-7\" onclick=\"(function(s){s.display=s.display==='block'?'none':'block'})(this.nextElementSibling.style)\">+<span class=\"\">17</span>:     <span class=\"k\">return</span> <span class=\"n\">n_out</span></pre>\n",
       "<pre class='cython code score-7 '>  __pyx_t_6 = <span class='pyx_c_api'>__Pyx_PyInt_As_int</span>(__pyx_v_n_out); if (unlikely((__pyx_t_6 == (int)-1) &amp;&amp; <span class='py_c_api'>PyErr_Occurred</span>())) <span class='error_goto'>__PYX_ERR(0, 17, __pyx_L1_error)</span>\n",
       "  __pyx_r = __pyx_t_6;\n",
       "  goto __pyx_L0;\n",
       "</pre><pre class=\"cython line score-0\">&#xA0;<span class=\"\">18</span>: </pre>\n",
       "<pre class=\"cython line score-11\" onclick=\"(function(s){s.display=s.display==='block'?'none':'block'})(this.nextElementSibling.style)\">+<span class=\"\">19</span>: <span class=\"k\">cpdef</span> <span class=\"nf\">main_rectangles_not_so_fast</span><span class=\"p\">():</span></pre>\n",
       "<pre class='cython code score-11 '>static PyObject *__pyx_pw_46_cython_magic_230d8b91180a7a280a62af194c9a7138_1main_rectangles_not_so_fast(PyObject *__pyx_self, CYTHON_UNUSED PyObject *unused); /*proto*/\n",
       "static PyObject *__pyx_f_46_cython_magic_230d8b91180a7a280a62af194c9a7138_main_rectangles_not_so_fast(CYTHON_UNUSED int __pyx_skip_dispatch) {\n",
       "  int __pyx_v_n_rectangles;\n",
       "  float __pyx_v_threshold;\n",
       "  struct __pyx_obj_5cymem_5cymem_Pool *__pyx_v_mem = 0;\n",
       "  struct __pyx_t_46_cython_magic_230d8b91180a7a280a62af194c9a7138_Rectangle *__pyx_v_rectangles;\n",
       "  int __pyx_v_i;\n",
       "  int __pyx_v_n_out;\n",
       "  PyObject *__pyx_r = NULL;\n",
       "  <span class='refnanny'>__Pyx_RefNannyDeclarations</span>\n",
       "  <span class='refnanny'>__Pyx_RefNannySetupContext</span>(\"main_rectangles_not_so_fast\", 0);\n",
       "/* … */\n",
       "  /* function exit code */\n",
       "  __pyx_r = Py_None; <span class='pyx_macro_api'>__Pyx_INCREF</span>(Py_None);\n",
       "  goto __pyx_L0;\n",
       "  __pyx_L1_error:;\n",
       "  <span class='pyx_macro_api'>__Pyx_XDECREF</span>(__pyx_t_1);\n",
       "  <span class='pyx_macro_api'>__Pyx_XDECREF</span>(__pyx_t_6);\n",
       "  <span class='pyx_macro_api'>__Pyx_XDECREF</span>(__pyx_t_7);\n",
       "  <span class='pyx_c_api'>__Pyx_AddTraceback</span>(\"_cython_magic_230d8b91180a7a280a62af194c9a7138.main_rectangles_not_so_fast\", __pyx_clineno, __pyx_lineno, __pyx_filename);\n",
       "  __pyx_r = 0;\n",
       "  __pyx_L0:;\n",
       "  <span class='pyx_macro_api'>__Pyx_XDECREF</span>((PyObject *)__pyx_v_mem);\n",
       "  <span class='refnanny'>__Pyx_XGIVEREF</span>(__pyx_r);\n",
       "  <span class='refnanny'>__Pyx_RefNannyFinishContext</span>();\n",
       "  return __pyx_r;\n",
       "}\n",
       "\n",
       "/* Python wrapper */\n",
       "static PyObject *__pyx_pw_46_cython_magic_230d8b91180a7a280a62af194c9a7138_1main_rectangles_not_so_fast(PyObject *__pyx_self, CYTHON_UNUSED PyObject *unused); /*proto*/\n",
       "static PyObject *__pyx_pw_46_cython_magic_230d8b91180a7a280a62af194c9a7138_1main_rectangles_not_so_fast(PyObject *__pyx_self, CYTHON_UNUSED PyObject *unused) {\n",
       "  PyObject *__pyx_r = 0;\n",
       "  <span class='refnanny'>__Pyx_RefNannyDeclarations</span>\n",
       "  <span class='refnanny'>__Pyx_RefNannySetupContext</span>(\"main_rectangles_not_so_fast (wrapper)\", 0);\n",
       "  __pyx_r = __pyx_pf_46_cython_magic_230d8b91180a7a280a62af194c9a7138_main_rectangles_not_so_fast(__pyx_self);\n",
       "\n",
       "  /* function exit code */\n",
       "  <span class='refnanny'>__Pyx_RefNannyFinishContext</span>();\n",
       "  return __pyx_r;\n",
       "}\n",
       "\n",
       "static PyObject *__pyx_pf_46_cython_magic_230d8b91180a7a280a62af194c9a7138_main_rectangles_not_so_fast(CYTHON_UNUSED PyObject *__pyx_self) {\n",
       "  PyObject *__pyx_r = NULL;\n",
       "  <span class='refnanny'>__Pyx_RefNannyDeclarations</span>\n",
       "  <span class='refnanny'>__Pyx_RefNannySetupContext</span>(\"main_rectangles_not_so_fast\", 0);\n",
       "  <span class='pyx_macro_api'>__Pyx_XDECREF</span>(__pyx_r);\n",
       "  __pyx_t_1 = __pyx_f_46_cython_magic_230d8b91180a7a280a62af194c9a7138_main_rectangles_not_so_fast(0);<span class='error_goto'> if (unlikely(!__pyx_t_1)) __PYX_ERR(0, 19, __pyx_L1_error)</span>\n",
       "  <span class='refnanny'>__Pyx_GOTREF</span>(__pyx_t_1);\n",
       "  __pyx_r = __pyx_t_1;\n",
       "  __pyx_t_1 = 0;\n",
       "  goto __pyx_L0;\n",
       "\n",
       "  /* function exit code */\n",
       "  __pyx_L1_error:;\n",
       "  <span class='pyx_macro_api'>__Pyx_XDECREF</span>(__pyx_t_1);\n",
       "  <span class='pyx_c_api'>__Pyx_AddTraceback</span>(\"_cython_magic_230d8b91180a7a280a62af194c9a7138.main_rectangles_not_so_fast\", __pyx_clineno, __pyx_lineno, __pyx_filename);\n",
       "  __pyx_r = NULL;\n",
       "  __pyx_L0:;\n",
       "  <span class='refnanny'>__Pyx_XGIVEREF</span>(__pyx_r);\n",
       "  <span class='refnanny'>__Pyx_RefNannyFinishContext</span>();\n",
       "  return __pyx_r;\n",
       "}\n",
       "</pre><pre class=\"cython line score-0\" onclick=\"(function(s){s.display=s.display==='block'?'none':'block'})(this.nextElementSibling.style)\">+<span class=\"\">20</span>:     <span class=\"k\">cdef</span> <span class=\"kt\">int</span> <span class=\"nf\">n_rectangles</span> <span class=\"o\">=</span> <span class=\"mf\">10000000</span></pre>\n",
       "<pre class='cython code score-0 '>  __pyx_v_n_rectangles = 0x989680;\n",
       "</pre><pre class=\"cython line score-0\" onclick=\"(function(s){s.display=s.display==='block'?'none':'block'})(this.nextElementSibling.style)\">+<span class=\"\">21</span>:     <span class=\"k\">cdef</span> <span class=\"kt\">float</span> <span class=\"nf\">threshold</span> <span class=\"o\">=</span> <span class=\"mf\">0.25</span></pre>\n",
       "<pre class='cython code score-0 '>  __pyx_v_threshold = 0.25;\n",
       "</pre><pre class=\"cython line score-2\" onclick=\"(function(s){s.display=s.display==='block'?'none':'block'})(this.nextElementSibling.style)\">+<span class=\"\">22</span>:     <span class=\"k\">cdef</span> <span class=\"kt\">Pool</span> <span class=\"nf\">mem</span> <span class=\"o\">=</span> <span class=\"n\">Pool</span><span class=\"p\">()</span></pre>\n",
       "<pre class='cython code score-2 '>  __pyx_t_1 = <span class='pyx_c_api'>__Pyx_PyObject_CallNoArg</span>(((PyObject *)__pyx_ptype_5cymem_5cymem_Pool));<span class='error_goto'> if (unlikely(!__pyx_t_1)) __PYX_ERR(0, 22, __pyx_L1_error)</span>\n",
       "  <span class='refnanny'>__Pyx_GOTREF</span>(__pyx_t_1);\n",
       "  __pyx_v_mem = ((struct __pyx_obj_5cymem_5cymem_Pool *)__pyx_t_1);\n",
       "  __pyx_t_1 = 0;\n",
       "</pre><pre class=\"cython line score-0\" onclick=\"(function(s){s.display=s.display==='block'?'none':'block'})(this.nextElementSibling.style)\">+<span class=\"\">23</span>:     <span class=\"k\">cdef</span> <span class=\"kt\">Rectangle</span>* <span class=\"nf\">rectangles</span> <span class=\"o\">=</span> <span class=\"o\">&lt;</span><span class=\"n\">Rectangle</span><span class=\"o\">*&gt;</span><span class=\"n\">mem</span><span class=\"o\">.</span><span class=\"n\">alloc</span><span class=\"p\">(</span><span class=\"n\">n_rectangles</span><span class=\"p\">,</span> <span class=\"n\">sizeof</span><span class=\"p\">(</span><span class=\"n\">Rectangle</span><span class=\"p\">))</span></pre>\n",
       "<pre class='cython code score-0 '>  __pyx_t_2 = ((struct __pyx_vtabstruct_5cymem_5cymem_Pool *)__pyx_v_mem-&gt;__pyx_vtab)-&gt;alloc(__pyx_v_mem, __pyx_v_n_rectangles, (sizeof(struct __pyx_t_46_cython_magic_230d8b91180a7a280a62af194c9a7138_Rectangle)));<span class='error_goto'> if (unlikely(__pyx_t_2 == ((void *)NULL))) __PYX_ERR(0, 23, __pyx_L1_error)</span>\n",
       "  __pyx_v_rectangles = ((struct __pyx_t_46_cython_magic_230d8b91180a7a280a62af194c9a7138_Rectangle *)__pyx_t_2);\n",
       "</pre><pre class=\"cython line score-0\" onclick=\"(function(s){s.display=s.display==='block'?'none':'block'})(this.nextElementSibling.style)\">+<span class=\"\">24</span>:     <span class=\"k\">for</span> <span class=\"n\">i</span> <span class=\"ow\">in</span> <span class=\"nb\">range</span><span class=\"p\">(</span><span class=\"n\">n_rectangles</span><span class=\"p\">):</span></pre>\n",
       "<pre class='cython code score-0 '>  __pyx_t_3 = __pyx_v_n_rectangles;\n",
       "  __pyx_t_4 = __pyx_t_3;\n",
       "  for (__pyx_t_5 = 0; __pyx_t_5 &lt; __pyx_t_4; __pyx_t_5+=1) {\n",
       "    __pyx_v_i = __pyx_t_5;\n",
       "</pre><pre class=\"cython line score-29\" onclick=\"(function(s){s.display=s.display==='block'?'none':'block'})(this.nextElementSibling.style)\">+<span class=\"\">25</span>:         <span class=\"n\">rectangles</span><span class=\"p\">[</span><span class=\"n\">i</span><span class=\"p\">]</span><span class=\"o\">.</span><span class=\"n\">w</span> <span class=\"o\">=</span> <span class=\"n\">random</span><span class=\"p\">()</span></pre>\n",
       "<pre class='cython code score-29 '>    <span class='pyx_c_api'>__Pyx_GetModuleGlobalName</span>(__pyx_t_6, __pyx_n_s_random);<span class='error_goto'> if (unlikely(!__pyx_t_6)) __PYX_ERR(0, 25, __pyx_L1_error)</span>\n",
       "    <span class='refnanny'>__Pyx_GOTREF</span>(__pyx_t_6);\n",
       "    __pyx_t_7 = NULL;\n",
       "    if (CYTHON_UNPACK_METHODS &amp;&amp; unlikely(<span class='py_c_api'>PyMethod_Check</span>(__pyx_t_6))) {\n",
       "      __pyx_t_7 = <span class='py_macro_api'>PyMethod_GET_SELF</span>(__pyx_t_6);\n",
       "      if (likely(__pyx_t_7)) {\n",
       "        PyObject* function = <span class='py_macro_api'>PyMethod_GET_FUNCTION</span>(__pyx_t_6);\n",
       "        <span class='pyx_macro_api'>__Pyx_INCREF</span>(__pyx_t_7);\n",
       "        <span class='pyx_macro_api'>__Pyx_INCREF</span>(function);\n",
       "        <span class='pyx_macro_api'>__Pyx_DECREF_SET</span>(__pyx_t_6, function);\n",
       "      }\n",
       "    }\n",
       "    __pyx_t_1 = (__pyx_t_7) ? <span class='pyx_c_api'>__Pyx_PyObject_CallOneArg</span>(__pyx_t_6, __pyx_t_7) : <span class='pyx_c_api'>__Pyx_PyObject_CallNoArg</span>(__pyx_t_6);\n",
       "    <span class='pyx_macro_api'>__Pyx_XDECREF</span>(__pyx_t_7); __pyx_t_7 = 0;\n",
       "    if (unlikely(!__pyx_t_1)) <span class='error_goto'>__PYX_ERR(0, 25, __pyx_L1_error)</span>\n",
       "    <span class='refnanny'>__Pyx_GOTREF</span>(__pyx_t_1);\n",
       "    <span class='pyx_macro_api'>__Pyx_DECREF</span>(__pyx_t_6); __pyx_t_6 = 0;\n",
       "    __pyx_t_8 = __pyx_<span class='py_c_api'>PyFloat_AsFloat</span>(__pyx_t_1); if (unlikely((__pyx_t_8 == (float)-1) &amp;&amp; <span class='py_c_api'>PyErr_Occurred</span>())) <span class='error_goto'>__PYX_ERR(0, 25, __pyx_L1_error)</span>\n",
       "    <span class='pyx_macro_api'>__Pyx_DECREF</span>(__pyx_t_1); __pyx_t_1 = 0;\n",
       "    (__pyx_v_rectangles[__pyx_v_i]).w = __pyx_t_8;\n",
       "</pre><pre class=\"cython line score-29\" onclick=\"(function(s){s.display=s.display==='block'?'none':'block'})(this.nextElementSibling.style)\">+<span class=\"\">26</span>:         <span class=\"n\">rectangles</span><span class=\"p\">[</span><span class=\"n\">i</span><span class=\"p\">]</span><span class=\"o\">.</span><span class=\"n\">h</span> <span class=\"o\">=</span> <span class=\"n\">random</span><span class=\"p\">()</span></pre>\n",
       "<pre class='cython code score-29 '>    <span class='pyx_c_api'>__Pyx_GetModuleGlobalName</span>(__pyx_t_6, __pyx_n_s_random);<span class='error_goto'> if (unlikely(!__pyx_t_6)) __PYX_ERR(0, 26, __pyx_L1_error)</span>\n",
       "    <span class='refnanny'>__Pyx_GOTREF</span>(__pyx_t_6);\n",
       "    __pyx_t_7 = NULL;\n",
       "    if (CYTHON_UNPACK_METHODS &amp;&amp; unlikely(<span class='py_c_api'>PyMethod_Check</span>(__pyx_t_6))) {\n",
       "      __pyx_t_7 = <span class='py_macro_api'>PyMethod_GET_SELF</span>(__pyx_t_6);\n",
       "      if (likely(__pyx_t_7)) {\n",
       "        PyObject* function = <span class='py_macro_api'>PyMethod_GET_FUNCTION</span>(__pyx_t_6);\n",
       "        <span class='pyx_macro_api'>__Pyx_INCREF</span>(__pyx_t_7);\n",
       "        <span class='pyx_macro_api'>__Pyx_INCREF</span>(function);\n",
       "        <span class='pyx_macro_api'>__Pyx_DECREF_SET</span>(__pyx_t_6, function);\n",
       "      }\n",
       "    }\n",
       "    __pyx_t_1 = (__pyx_t_7) ? <span class='pyx_c_api'>__Pyx_PyObject_CallOneArg</span>(__pyx_t_6, __pyx_t_7) : <span class='pyx_c_api'>__Pyx_PyObject_CallNoArg</span>(__pyx_t_6);\n",
       "    <span class='pyx_macro_api'>__Pyx_XDECREF</span>(__pyx_t_7); __pyx_t_7 = 0;\n",
       "    if (unlikely(!__pyx_t_1)) <span class='error_goto'>__PYX_ERR(0, 26, __pyx_L1_error)</span>\n",
       "    <span class='refnanny'>__Pyx_GOTREF</span>(__pyx_t_1);\n",
       "    <span class='pyx_macro_api'>__Pyx_DECREF</span>(__pyx_t_6); __pyx_t_6 = 0;\n",
       "    __pyx_t_8 = __pyx_<span class='py_c_api'>PyFloat_AsFloat</span>(__pyx_t_1); if (unlikely((__pyx_t_8 == (float)-1) &amp;&amp; <span class='py_c_api'>PyErr_Occurred</span>())) <span class='error_goto'>__PYX_ERR(0, 26, __pyx_L1_error)</span>\n",
       "    <span class='pyx_macro_api'>__Pyx_DECREF</span>(__pyx_t_1); __pyx_t_1 = 0;\n",
       "    (__pyx_v_rectangles[__pyx_v_i]).h = __pyx_t_8;\n",
       "  }\n",
       "</pre><pre class=\"cython line score-0\" onclick=\"(function(s){s.display=s.display==='block'?'none':'block'})(this.nextElementSibling.style)\">+<span class=\"\">27</span>:     <span class=\"n\">n_out</span> <span class=\"o\">=</span> <span class=\"n\">check_rectangles_cy</span><span class=\"p\">(</span><span class=\"n\">rectangles</span><span class=\"p\">,</span> <span class=\"n\">n_rectangles</span><span class=\"p\">,</span> <span class=\"n\">threshold</span><span class=\"p\">)</span></pre>\n",
       "<pre class='cython code score-0 '>  __pyx_v_n_out = __pyx_f_46_cython_magic_230d8b91180a7a280a62af194c9a7138_check_rectangles_cy(__pyx_v_rectangles, __pyx_v_n_rectangles, __pyx_v_threshold);\n",
       "</pre><pre class=\"cython line score-6\" onclick=\"(function(s){s.display=s.display==='block'?'none':'block'})(this.nextElementSibling.style)\">+<span class=\"\">28</span>:     <span class=\"k\">print</span><span class=\"p\">(</span><span class=\"n\">n_out</span><span class=\"p\">)</span></pre>\n",
       "<pre class='cython code score-6 '>  __pyx_t_1 = <span class='pyx_c_api'>__Pyx_PyInt_From_int</span>(__pyx_v_n_out);<span class='error_goto'> if (unlikely(!__pyx_t_1)) __PYX_ERR(0, 28, __pyx_L1_error)</span>\n",
       "  <span class='refnanny'>__Pyx_GOTREF</span>(__pyx_t_1);\n",
       "  __pyx_t_6 = <span class='pyx_c_api'>__Pyx_PyObject_CallOneArg</span>(__pyx_builtin_print, __pyx_t_1);<span class='error_goto'> if (unlikely(!__pyx_t_6)) __PYX_ERR(0, 28, __pyx_L1_error)</span>\n",
       "  <span class='refnanny'>__Pyx_GOTREF</span>(__pyx_t_6);\n",
       "  <span class='pyx_macro_api'>__Pyx_DECREF</span>(__pyx_t_1); __pyx_t_1 = 0;\n",
       "  <span class='pyx_macro_api'>__Pyx_DECREF</span>(__pyx_t_6); __pyx_t_6 = 0;\n",
       "</pre></div></body></html>"
      ],
      "text/plain": [
       "<IPython.core.display.HTML object>"
      ]
     },
     "execution_count": 353,
     "metadata": {},
     "output_type": "execute_result"
    }
   ],
   "source": [
    "%%cython -a\n",
    "from cymem.cymem cimport Pool\n",
    "from random import random\n",
    "\n",
    "cdef struct Rectangle:\n",
    "    float w\n",
    "    float h\n",
    "\n",
    "cdef int check_rectangles_cy(Rectangle* rectangles, int n_rectangles, float threshold):\n",
    "    # ========== MODIFICATION ===========\n",
    "    # We changed the following line from `cdef int n_out = 0` to\n",
    "    n_out = 0\n",
    "    # n_out is not defined as an `int` anymore and is now thus a regular Python object\n",
    "    # ===================================\n",
    "    for rectangle in rectangles[:n_rectangles]:\n",
    "        if rectangle.w * rectangle.h > threshold:\n",
    "            n_out += 1\n",
    "    return n_out\n",
    "\n",
    "cpdef main_rectangles_not_so_fast():\n",
    "    cdef int n_rectangles = 10000000\n",
    "    cdef float threshold = 0.25\n",
    "    cdef Pool mem = Pool()\n",
    "    cdef Rectangle* rectangles = <Rectangle*>mem.alloc(n_rectangles, sizeof(Rectangle))\n",
    "    for i in range(n_rectangles):\n",
    "        rectangles[i].w = random()\n",
    "        rectangles[i].h = random()\n",
    "    n_out = check_rectangles_cy(rectangles, n_rectangles, threshold)\n",
    "    print(n_out)"
   ]
  },
  {
   "cell_type": "markdown",
   "metadata": {},
   "source": [
    "See how line 16 in the loop of check_rectangles_cy is ***highlighted***? This indicates that the Cython compiler had to add some Python API overhead.\n",
    "\n",
    "The important point here is that lines that run in a loop (e.g. 11 to 13 in the optimized version) should not be highlighted, meaning they will be running at the fastest possible speed. It's ok to have yellow lines in the main_rectangle_fast function as this function will only be called once when we execute our program anyway. The yellow lines 22 and 23 in the optimized version are initialization lines that we could avoid by using a C level random function like `stdlib rand()`."
   ]
  },
  {
   "cell_type": "markdown",
   "metadata": {},
   "source": [
    "## Using the `spacy` package\n",
    "\n",
    "The official [Cython documentation](https://cython.readthedocs.io/en/latest/) advises against the use of C strings: \n",
    "```(python)\n",
    "Generally speaking: unless you know what you are doing, avoid using C strings where possible and use Python string objects instead.\n",
    "```\n",
    "`spaCy` allows us us overcome this problem by converting all strings to 64-bit hashes using a look up between Python unicode strings and 64-bit hashes called the **StringStore**, giving us access to fully populated C level structures of the document and vocabulary called **TokenC** and **LexemeC**,\n",
    "\n",
    "The **StringStore** object is accessible from everywhere in `spaCy` and every object, e.g. as `nlp.vocab.strings`, `doc.vocab.strings` or `span.doc.vocab.string`:\n",
    "\n",
    "<br />\n",
    "<center>\n",
    "<img src=\"ipynb.images/spacy-nlp.png\" width=600 />\n",
    "</center>\n",
    "\n",
    "Here is now a simple example of NLP processing, albeit with lotsa text, in Cython.\n",
    "\n",
    "Let's build a list of big documents from `pytorch` data, and parse them using spaCy (this will take a few minutes).\n",
    "\n",
    "First, just like with `nltk`, we need to download the already-built (english) model. **Open an anaconda prompt and run**:\n",
    "```(python)\n",
    "python -m spacy download en\n",
    "```\n",
    "\n",
    "Then run the following cell:"
   ]
  },
  {
   "cell_type": "code",
   "execution_count": 354,
   "metadata": {},
   "outputs": [],
   "source": [
    "import urllib.request\n",
    "import spacy\n",
    "\n",
    "# Build a dataset of 10 parsed document extracted from the Wikitext-2 dataset\n",
    "with urllib.request.urlopen('https://raw.githubusercontent.com/pytorch/examples/master/word_language_model/data/wikitext-2/valid.txt') as response:\n",
    "   text = response.read()\n",
    "nlp = spacy.load('en')\n",
    "doc_list = list(nlp(text[:800000].decode('utf8')) for i in range(10))"
   ]
  },
  {
   "cell_type": "code",
   "execution_count": 355,
   "metadata": {},
   "outputs": [
    {
     "data": {
      "text/plain": [
       "1716200"
      ]
     },
     "execution_count": 355,
     "metadata": {},
     "output_type": "execute_result"
    }
   ],
   "source": [
    "sum(len(doc) for doc in doc_list)"
   ]
  },
  {
   "cell_type": "markdown",
   "metadata": {},
   "source": [
    "We have about 1.7 million tokens (words) in our dataset!\n",
    "\n",
    "Let's perform an NLP task on this dataset: Let's count the number of times the word `run` is used as a **noun** (not a verb) in the dataset (i.e. tagged with a \"NN\" Part-Of-Speech (POS) tag):"
   ]
  },
  {
   "cell_type": "code",
   "execution_count": 356,
   "metadata": {},
   "outputs": [],
   "source": [
    "def slow_loop(doc_list, word, tag):\n",
    "    n_out = 0\n",
    "    for doc in doc_list:\n",
    "        for tok in doc:\n",
    "            if tok.lower_ == word and tok.tag_ == tag:\n",
    "                n_out += 1\n",
    "    return n_out\n",
    "\n",
    "def main_nlp_slow(doc_list):\n",
    "    n_out = slow_loop(doc_list, 'run', 'NN')\n",
    "    print(n_out)"
   ]
  },
  {
   "cell_type": "code",
   "execution_count": 357,
   "metadata": {},
   "outputs": [
    {
     "name": "stdout",
     "output_type": "stream",
     "text": [
      "90\n",
      "Wall time: 1.35 s\n"
     ]
    }
   ],
   "source": [
    "%%time\n",
    "# quite slow!\n",
    "main_nlp_slow(doc_list)"
   ]
  },
  {
   "cell_type": "markdown",
   "metadata": {},
   "source": [
    "About one second on my ASUS STRIX Nvidia laptop. Let's try to speed this up with `spaCy` and `Cython`.\n",
    "\n",
    "First, we have to think about the data structure. We will need a C level array for the dataset, with pointers to each document's **TokenC** array. We'll also need to convert the strings we use for testing to 64-bit hashes: \"run\" and \"NN\". When all the data required for our processing is in C level objects, we can then iterate at full C speed over the dataset."
   ]
  },
  {
   "cell_type": "code",
   "execution_count": 358,
   "metadata": {},
   "outputs": [
    {
     "data": {
      "text/plain": [
       "'2.2.3'"
      ]
     },
     "execution_count": 358,
     "metadata": {},
     "output_type": "execute_result"
    }
   ],
   "source": [
    "import spacy as sp\n",
    "sp.__version__"
   ]
  },
  {
   "cell_type": "code",
   "execution_count": 359,
   "metadata": {},
   "outputs": [
    {
     "name": "stderr",
     "output_type": "stream",
     "text": [
      "\n",
      "Error compiling Cython file:\n",
      "------------------------------------------------------------\n",
      "...\n",
      "import numpy\n",
      "from spacy.tokens.doc cimport Doc\n",
      "^\n",
      "------------------------------------------------------------\n",
      "\n",
      ".ipython\\cython\\_cython_magic_361b94ccb9a1656bedbdc6e65a48c552.pyx:2:0: 'spacy\\tokens\\doc.pxd' not found\n",
      "\n",
      "Error compiling Cython file:\n",
      "------------------------------------------------------------\n",
      "...\n",
      "import numpy\n",
      "from spacy.tokens.doc cimport Doc\n",
      "^\n",
      "------------------------------------------------------------\n",
      "\n",
      ".ipython\\cython\\_cython_magic_361b94ccb9a1656bedbdc6e65a48c552.pyx:2:0: 'spacy\\tokens\\doc\\Doc.pxd' not found\n"
     ]
    }
   ],
   "source": [
    "%%cython -+\n",
    "import numpy\n",
    "from spacy.tokens.doc cimport Doc"
   ]
  },
  {
   "cell_type": "markdown",
   "metadata": {},
   "source": [
    "Unfortunately, I have a problem with my `cimport` above, which makes the code below moot. I have not been able to fix this :-( If ***you*** can, let me know, i'll give you bonus hw points :-)"
   ]
  },
  {
   "cell_type": "code",
   "execution_count": 30,
   "metadata": {},
   "outputs": [
    {
     "name": "stderr",
     "output_type": "stream",
     "text": [
      "\n",
      "Error compiling Cython file:\n",
      "------------------------------------------------------------\n",
      "...\n",
      "#import numpy # Sometime we have a fail to import numpy compilation error if we don't import numpy\n",
      "from cymem.cymem cimport Pool\n",
      "from spacy.tokens.doc cimport Doc\n",
      "^\n",
      "------------------------------------------------------------\n",
      "\n",
      ".ipython\\cython\\_cython_magic_b3607784f6cbf5d41e43a086f9f3c059.pyx:3:0: 'spacy\\tokens\\doc.pxd' not found\n",
      "\n",
      "Error compiling Cython file:\n",
      "------------------------------------------------------------\n",
      "...\n",
      "#import numpy # Sometime we have a fail to import numpy compilation error if we don't import numpy\n",
      "from cymem.cymem cimport Pool\n",
      "from spacy.tokens.doc cimport Doc\n",
      "^\n",
      "------------------------------------------------------------\n",
      "\n",
      ".ipython\\cython\\_cython_magic_b3607784f6cbf5d41e43a086f9f3c059.pyx:3:0: 'spacy\\tokens\\doc\\Doc.pxd' not found\n",
      "\n",
      "Error compiling Cython file:\n",
      "------------------------------------------------------------\n",
      "...\n",
      "#import numpy # Sometime we have a fail to import numpy compilation error if we don't import numpy\n",
      "from cymem.cymem cimport Pool\n",
      "from spacy.tokens.doc cimport Doc\n",
      "from spacy.typedefs cimport hash_t\n",
      "^\n",
      "------------------------------------------------------------\n",
      "\n",
      ".ipython\\cython\\_cython_magic_b3607784f6cbf5d41e43a086f9f3c059.pyx:4:0: 'spacy\\typedefs.pxd' not found\n",
      "\n",
      "Error compiling Cython file:\n",
      "------------------------------------------------------------\n",
      "...\n",
      "#import numpy # Sometime we have a fail to import numpy compilation error if we don't import numpy\n",
      "from cymem.cymem cimport Pool\n",
      "from spacy.tokens.doc cimport Doc\n",
      "from spacy.typedefs cimport hash_t\n",
      "^\n",
      "------------------------------------------------------------\n",
      "\n",
      ".ipython\\cython\\_cython_magic_b3607784f6cbf5d41e43a086f9f3c059.pyx:4:0: 'spacy\\typedefs\\hash_t.pxd' not found\n",
      "\n",
      "Error compiling Cython file:\n",
      "------------------------------------------------------------\n",
      "...\n",
      "#import numpy # Sometime we have a fail to import numpy compilation error if we don't import numpy\n",
      "from cymem.cymem cimport Pool\n",
      "from spacy.tokens.doc cimport Doc\n",
      "from spacy.typedefs cimport hash_t\n",
      "from spacy.structs cimport TokenC\n",
      "^\n",
      "------------------------------------------------------------\n",
      "\n",
      ".ipython\\cython\\_cython_magic_b3607784f6cbf5d41e43a086f9f3c059.pyx:5:0: 'spacy\\structs.pxd' not found\n",
      "\n",
      "Error compiling Cython file:\n",
      "------------------------------------------------------------\n",
      "...\n",
      "#import numpy # Sometime we have a fail to import numpy compilation error if we don't import numpy\n",
      "from cymem.cymem cimport Pool\n",
      "from spacy.tokens.doc cimport Doc\n",
      "from spacy.typedefs cimport hash_t\n",
      "from spacy.structs cimport TokenC\n",
      "^\n",
      "------------------------------------------------------------\n",
      "\n",
      ".ipython\\cython\\_cython_magic_b3607784f6cbf5d41e43a086f9f3c059.pyx:5:0: 'spacy\\structs\\TokenC.pxd' not found\n",
      "\n",
      "Error compiling Cython file:\n",
      "------------------------------------------------------------\n",
      "...\n",
      "from spacy.tokens.doc cimport Doc\n",
      "from spacy.typedefs cimport hash_t\n",
      "from spacy.structs cimport TokenC\n",
      "\n",
      "cdef struct DocElement:\n",
      "    TokenC* c\n",
      "   ^\n",
      "------------------------------------------------------------\n",
      "\n",
      ".ipython\\cython\\_cython_magic_b3607784f6cbf5d41e43a086f9f3c059.pyx:8:4: 'TokenC' is not a type identifier\n",
      "\n",
      "Error compiling Cython file:\n",
      "------------------------------------------------------------\n",
      "...\n",
      "\n",
      "cdef struct DocElement:\n",
      "    TokenC* c\n",
      "    int length\n",
      "\n",
      "cdef int fast_loop(DocElement* docs, int n_docs, hash_t word, hash_t tag):\n",
      "                                                ^\n",
      "------------------------------------------------------------\n",
      "\n",
      ".ipython\\cython\\_cython_magic_b3607784f6cbf5d41e43a086f9f3c059.pyx:11:49: 'hash_t' is not a type identifier\n",
      "\n",
      "Error compiling Cython file:\n",
      "------------------------------------------------------------\n",
      "...\n",
      "\n",
      "cdef struct DocElement:\n",
      "    TokenC* c\n",
      "    int length\n",
      "\n",
      "cdef int fast_loop(DocElement* docs, int n_docs, hash_t word, hash_t tag):\n",
      "                                                             ^\n",
      "------------------------------------------------------------\n",
      "\n",
      ".ipython\\cython\\_cython_magic_b3607784f6cbf5d41e43a086f9f3c059.pyx:11:62: 'hash_t' is not a type identifier\n",
      "\n",
      "Error compiling Cython file:\n",
      "------------------------------------------------------------\n",
      "...\n",
      "\n",
      "cpdef main_nlp_fast(doc_list):\n",
      "    cdef int i, n_out, n_docs = len(doc_list)\n",
      "    cdef Pool mem = Pool()\n",
      "    cdef DocElement* docs = <DocElement*>mem.alloc(n_docs, sizeof(DocElement))\n",
      "    cdef Doc doc\n",
      "        ^\n",
      "------------------------------------------------------------\n",
      "\n",
      ".ipython\\cython\\_cython_magic_b3607784f6cbf5d41e43a086f9f3c059.pyx:23:9: 'Doc' is not a type identifier\n",
      "\n",
      "Error compiling Cython file:\n",
      "------------------------------------------------------------\n",
      "...\n",
      "    cdef Pool mem = Pool()\n",
      "    cdef DocElement* docs = <DocElement*>mem.alloc(n_docs, sizeof(DocElement))\n",
      "    cdef Doc doc\n",
      "    for i, doc in enumerate(doc_list): # Populate our database structure\n",
      "        docs[i].c = doc.c\n",
      "        docs[i].length = (<Doc>doc).length\n",
      "                          ^\n",
      "------------------------------------------------------------\n",
      "\n",
      ".ipython\\cython\\_cython_magic_b3607784f6cbf5d41e43a086f9f3c059.pyx:26:27: 'Doc' is not a type identifier\n"
     ]
    }
   ],
   "source": [
    "%%cython -+\n",
    "#import numpy # Sometime we have a fail to import numpy compilation error if we don't import numpy\n",
    "from cymem.cymem cimport Pool\n",
    "from spacy.tokens.doc cimport Doc\n",
    "from spacy.typedefs cimport hash_t\n",
    "from spacy.structs cimport TokenC\n",
    "\n",
    "cdef struct DocElement:\n",
    "    TokenC* c\n",
    "    int length\n",
    "\n",
    "cdef int fast_loop(DocElement* docs, int n_docs, hash_t word, hash_t tag):\n",
    "    cdef int n_out = 0\n",
    "    for doc in docs[:n_docs]:\n",
    "        for c in doc.c[:doc.length]:\n",
    "            if c.lex.lower == word and c.tag == tag:\n",
    "                n_out += 1\n",
    "    return n_out\n",
    "\n",
    "cpdef main_nlp_fast(doc_list):\n",
    "    cdef int i, n_out, n_docs = len(doc_list)\n",
    "    cdef Pool mem = Pool()\n",
    "    cdef DocElement* docs = <DocElement*>mem.alloc(n_docs, sizeof(DocElement))\n",
    "    cdef Doc doc\n",
    "    for i, doc in enumerate(doc_list): # Populate our database structure\n",
    "        docs[i].c = doc.c\n",
    "        docs[i].length = (<Doc>doc).length\n",
    "    word_hash = doc.vocab.strings.add('run')\n",
    "    tag_hash = doc.vocab.strings.add('NN')\n",
    "    n_out = fast_loop(docs, n_docs, word_hash, tag_hash)\n",
    "    print(n_out)"
   ]
  },
  {
   "cell_type": "code",
   "execution_count": 13,
   "metadata": {},
   "outputs": [
    {
     "ename": "NameError",
     "evalue": "name 'main_nlp_fast' is not defined",
     "output_type": "error",
     "traceback": [
      "\u001b[1;31m---------------------------------------------------------------------------\u001b[0m",
      "\u001b[1;31mNameError\u001b[0m                                 Traceback (most recent call last)",
      "\u001b[1;32m<timed eval>\u001b[0m in \u001b[0;36m<module>\u001b[1;34m\u001b[0m\n",
      "\u001b[1;31mNameError\u001b[0m: name 'main_nlp_fast' is not defined"
     ]
    }
   ],
   "source": [
    "%%time\n",
    "main_nlp_fast(doc_list)"
   ]
  },
  {
   "cell_type": "markdown",
   "metadata": {},
   "source": [
    "Here's some more cool NLP with `spaCy`:"
   ]
  },
  {
   "cell_type": "code",
   "execution_count": 360,
   "metadata": {},
   "outputs": [
    {
     "data": {
      "text/plain": [
       "['The',\n",
       " 'big',\n",
       " 'grey',\n",
       " 'dog',\n",
       " 'ate',\n",
       " 'all',\n",
       " 'of',\n",
       " 'the',\n",
       " 'chocolate,',\n",
       " 'but',\n",
       " 'fortunately',\n",
       " 'he',\n",
       " \"wasn't\",\n",
       " 'sick!']"
      ]
     },
     "execution_count": 360,
     "metadata": {},
     "output_type": "execute_result"
    }
   ],
   "source": [
    "doc = nlp(\"The big grey dog ate all of the chocolate, but fortunately he wasn't sick!\")\n",
    "doc.text.split()"
   ]
  },
  {
   "cell_type": "markdown",
   "metadata": {},
   "source": [
    "Each token’s `.orth_` method returns a string representation of the token rather than a `spaCy` token object (`.orth` method):"
   ]
  },
  {
   "cell_type": "code",
   "execution_count": 32,
   "metadata": {},
   "outputs": [
    {
     "data": {
      "text/plain": [
       "['The',\n",
       " 'big',\n",
       " 'grey',\n",
       " 'dog',\n",
       " 'ate',\n",
       " 'all',\n",
       " 'of',\n",
       " 'the',\n",
       " 'chocolate',\n",
       " ',',\n",
       " 'but',\n",
       " 'fortunately',\n",
       " 'he',\n",
       " 'was',\n",
       " \"n't\",\n",
       " 'sick',\n",
       " '!']"
      ]
     },
     "execution_count": 32,
     "metadata": {},
     "output_type": "execute_result"
    }
   ],
   "source": [
    "[token.orth_ for token in doc]"
   ]
  },
  {
   "cell_type": "markdown",
   "metadata": {},
   "source": [
    "If you want to avoid returning tokens that are punctuation or white space, SpaCy provides convienence methods for this (as well as many other common text cleaning tasks — for example, to remove stop words you can call the `.is_stopmethod`):"
   ]
  },
  {
   "cell_type": "code",
   "execution_count": 34,
   "metadata": {},
   "outputs": [
    {
     "data": {
      "text/plain": [
       "['The',\n",
       " 'big',\n",
       " 'grey',\n",
       " 'dog',\n",
       " 'ate',\n",
       " 'all',\n",
       " 'of',\n",
       " 'the',\n",
       " 'chocolate',\n",
       " 'but',\n",
       " 'fortunately',\n",
       " 'he',\n",
       " 'was',\n",
       " \"n't\",\n",
       " 'sick']"
      ]
     },
     "execution_count": 34,
     "metadata": {},
     "output_type": "execute_result"
    }
   ],
   "source": [
    "[token.orth_ for token in doc if not token.is_punct | token.is_space] "
   ]
  },
  {
   "cell_type": "markdown",
   "metadata": {},
   "source": [
    "Here's **lemmatization**:"
   ]
  },
  {
   "cell_type": "code",
   "execution_count": 35,
   "metadata": {},
   "outputs": [
    {
     "data": {
      "text/plain": [
       "['the',\n",
       " 'big',\n",
       " 'grey',\n",
       " 'dog',\n",
       " 'eat',\n",
       " 'all',\n",
       " 'of',\n",
       " 'the',\n",
       " 'chocolate',\n",
       " ',',\n",
       " 'but',\n",
       " 'fortunately',\n",
       " '-PRON-',\n",
       " 'be',\n",
       " 'not',\n",
       " 'sick',\n",
       " '!']"
      ]
     },
     "execution_count": 35,
     "metadata": {},
     "output_type": "execute_result"
    }
   ],
   "source": [
    "[word.lemma_ for word in doc] "
   ]
  },
  {
   "cell_type": "markdown",
   "metadata": {},
   "source": [
    "## POS tagging\n",
    "\n",
    "Here's an example of Part-of-Speech (POS) tagging with `spacy`:"
   ]
  },
  {
   "cell_type": "code",
   "execution_count": 25,
   "metadata": {},
   "outputs": [
    {
     "data": {
      "text/plain": [
       "[(Barack, 'NNP'),\n",
       " (Obama, 'NNP'),\n",
       " (is, 'VBZ'),\n",
       " (an, 'DT'),\n",
       " (American, 'JJ'),\n",
       " (politician, 'NN'),\n",
       " (who, 'WP'),\n",
       " (served, 'VBD'),\n",
       " (as, 'IN'),\n",
       " (, '_SP'),\n",
       " (the, 'DT'),\n",
       " (44th, 'JJ'),\n",
       " (President, 'NNP'),\n",
       " (of, 'IN'),\n",
       " (the, 'DT'),\n",
       " (United, 'NNP'),\n",
       " (States, 'NNP'),\n",
       " (from, 'IN'),\n",
       " (2009, 'CD'),\n",
       " (to, 'IN'),\n",
       " (2017, 'CD'),\n",
       " (., '.'),\n",
       " (He, 'PRP'),\n",
       " (is, 'VBZ'),\n",
       " (the, 'DT'),\n",
       " (first, 'JJ'),\n",
       " ( , '_SP'),\n",
       " (African, 'NNP'),\n",
       " (American, 'NNP'),\n",
       " (to, 'TO'),\n",
       " (have, 'VB'),\n",
       " (served, 'VBN'),\n",
       " (as, 'IN'),\n",
       " (president, 'NN'),\n",
       " (,, ','),\n",
       " (as, 'RB'),\n",
       " (well, 'RB'),\n",
       " (as, 'IN'),\n",
       " (the, 'DT'),\n",
       " (first, 'RB'),\n",
       " (born, 'VBN'),\n",
       " (outside, 'IN'),\n",
       " (the, 'DT'),\n",
       " (contiguous, 'JJ'),\n",
       " (United, 'NNP'),\n",
       " (States, 'NNP'),\n",
       " (., '.')]"
      ]
     },
     "execution_count": 25,
     "metadata": {},
     "output_type": "execute_result"
    }
   ],
   "source": [
    "wiki_obama = \"\"\"Barack Obama is an American politician who served as \n",
    "the 44th President of the United States from 2009 to 2017. He is the first  \n",
    "African American to have served as president, as well as the first born outside the contiguous United States.\"\"\" \n",
    "\n",
    "nlp_obama = nlp(wiki_obama) \n",
    "\n",
    "pos_tags = [(i, i.tag_) for i in nlp_obama]\n",
    "pos_tags"
   ]
  },
  {
   "cell_type": "code",
   "execution_count": 361,
   "metadata": {},
   "outputs": [
    {
     "data": {
      "text/plain": [
       "[(Connor, 'NNP'),\n",
       " ('s, 'POS'),\n",
       " (dog, 'NN'),\n",
       " ('s, 'POS'),\n",
       " (toy, 'NN'),\n",
       " (was, 'VBD'),\n",
       " (hidden, 'VBN'),\n",
       " (under, 'IN'),\n",
       " (the, 'DT'),\n",
       " (man, 'NN'),\n",
       " ('s, 'POS'),\n",
       " (sofa, 'NN'),\n",
       " (in, 'IN'),\n",
       " (the, 'DT'),\n",
       " (woman, 'NN'),\n",
       " ('s, 'POS'),\n",
       " (house, 'NN')]"
      ]
     },
     "execution_count": 361,
     "metadata": {},
     "output_type": "execute_result"
    }
   ],
   "source": [
    "doc2 = nlp(\"Connor's dog's toy was hidden under the man's sofa in the woman's house\")\n",
    "\n",
    "pos_tags = [(i, i.tag_) for i in doc2]\n",
    "pos_tags"
   ]
  },
  {
   "cell_type": "markdown",
   "metadata": {},
   "source": [
    "By exploiting possessives, we can determine who owns what (providing the text is grammatically sound). SpaCy uses the popular [Penn Treebank](https://www.ling.upenn.edu/courses/Fall_2003/ling001/penn_treebank_pos.html) POS tags. With SpaCy you can access coarse and fine-grained POS tags with the .pos_ and .tag_ methods, respectively (here we access the fine grained POS tag).\n",
    "\n",
    "You can see that the `’s` tokens above are labelled as **POS**. This is how you can exploit this tag to extract the **owner** and the **object** they own:"
   ]
  },
  {
   "cell_type": "code",
   "execution_count": 362,
   "metadata": {},
   "outputs": [
    {
     "data": {
      "text/plain": [
       "[(Connor, dog), (dog, toy), (man, sofa), (woman, house)]"
      ]
     },
     "execution_count": 362,
     "metadata": {},
     "output_type": "execute_result"
    }
   ],
   "source": [
    "owners_possessions = [] \n",
    "for i in pos_tags: \n",
    "    if i[1] == \"POS\":\n",
    "        owner = i[0].nbor(-1) \n",
    "        possession = i[0].nbor(1) \n",
    "        owners_possessions.append((owner, possession))\n",
    "owners_possessions "
   ]
  },
  {
   "cell_type": "markdown",
   "metadata": {},
   "source": [
    "Nice! ***That's*** NLP!\n",
    "\n",
    "Here's an example of **named entity recognition** with `spacy`. \n",
    "\n",
    ">**NAMED ENTITY RECOGNITION**: the process of classifying named entities found in a text into pre-defined categories, such as persons, places, organizations, dates, etc. spaCy uses a statistical model to classify a broad range of entities, including persons, events, works-of-art and nationalities / religions (see [documentation](https://spacy.io/docs/usage/entity-recognition) for the full list)."
   ]
  },
  {
   "cell_type": "code",
   "execution_count": 21,
   "metadata": {},
   "outputs": [
    {
     "data": {
      "text/plain": [
       "[(American, 'NORP', 381),\n",
       " (44th, 'ORDINAL', 396),\n",
       " (the United States, 'GPE', 384),\n",
       " (2009 to 2017, 'DATE', 391),\n",
       " (first, 'ORDINAL', 396),\n",
       " (first, 'ORDINAL', 396),\n",
       " (United States, 'GPE', 384)]"
      ]
     },
     "execution_count": 21,
     "metadata": {},
     "output_type": "execute_result"
    }
   ],
   "source": [
    "[(i, i.label_, i.label) for i in nlp_obama.ents] "
   ]
  },
  {
   "cell_type": "markdown",
   "metadata": {},
   "source": [
    "It is not uncommon in NLP tasks to want to split a document into sentences. It is simple to do this with `spaCy` by accessing a Doc's .sents method:"
   ]
  },
  {
   "cell_type": "code",
   "execution_count": 29,
   "metadata": {},
   "outputs": [
    {
     "name": "stdout",
     "output_type": "stream",
     "text": [
      "Sentence number 1: Barack Obama is an American politician who served as \n",
      "the 44th President of the United States from 2009 to 2017.\n",
      "Sentence number 2: He is the first  \n",
      "African American to have served as president, as well as the first born outside the contiguous United States.\n"
     ]
    }
   ],
   "source": [
    "for ix, sent in enumerate(nlp_obama.sents, 1): \n",
    "    print(\"Sentence number {}: {}\".format(ix, sent))"
   ]
  },
  {
   "cell_type": "markdown",
   "metadata": {},
   "source": [
    "Find more interesting project ideas with `spaCy` [here](https://spacy.io/usage/processing-pipelines#_title)."
   ]
  },
  {
   "cell_type": "markdown",
   "metadata": {},
   "source": [
    "<a id='section3'></a>"
   ]
  },
  {
   "cell_type": "markdown",
   "metadata": {},
   "source": [
    "## Notebook Contents:\n",
    "- Part 1: [Introduction to Natural Language Processing (NLP)](#section1)\n",
    "- Part 2: [Big Data processing: Optimizations often required for NLP](#section2)\n",
    "- Part 3: [NLP with the Reuters dataset](#section3)\n",
    "- Part 4: [Words 2 Vectors](#section4)\n",
    "- Part 5: [NLP-ing Litterature](#section5)"
   ]
  },
  {
   "cell_type": "markdown",
   "metadata": {},
   "source": [
    "# Part 3: NLP with the Reuters dataset\n",
    "\n",
    "\n",
    "</br >\n",
    "<center>\n",
    "<img src=\"ipynb.images/wordcloud.png\" width=600 />\n",
    "</center>\n",
    "\n",
    "Microsoft's [NLTK](https://en.wikipedia.org/wiki/Natural_Language_Toolkit) (Natural Language Toolkit) is one of the better HLP frameworks and has many popular corpora available for download directly from the API. Let's use the Brown and Reuters corpora. "
   ]
  },
  {
   "cell_type": "markdown",
   "metadata": {},
   "source": [
    "Make sure the line `nltk.download()` below is ***uncommented*** (i.e. will run). Run the cell, this will produce a dialog prompting you what to download (I hope). Navigate to the `corpora` tab, and download `Brown`, `reuters`, and `stopwords`, then go to the `Models` tab and download `punkt`. Then comment the `nltk.download()` line out again, so if you rerun the cell below you won't have to do the downloads again. \n",
    "\n",
    "Then go to your corpora folder, and unzip the reuters folder if unzipped (in the same folder). For some reason, it did not automatically unzip on my machine."
   ]
  },
  {
   "cell_type": "code",
   "execution_count": 37,
   "metadata": {},
   "outputs": [],
   "source": [
    "%matplotlib inline\n",
    "import numpy as np\n",
    "import matplotlib.pyplot as plt\n",
    "import seaborn\n",
    "import nltk\n",
    "#nltk.download()"
   ]
  },
  {
   "cell_type": "markdown",
   "metadata": {},
   "source": [
    "The [Reuters corpus](https://martin-thoma.com/nlp-reuters/) is a collection of more than 10,000 news documents published in 1987 and categorized into 90 different topics. The corpus contains over 1.3 million words in total.\n",
    "\n",
    "NLTK's feature set is focused more on the linguistic aspect of natural language processing than the machine learning aspect, with functions for tasks such as tokenization, stemming, tagging, and parsing. Even so, there are some very useful functions we can take advantage of to get a sense of what's in this corpus.  Let's start by tabulating the number of unique words in the corpus. "
   ]
  },
  {
   "cell_type": "code",
   "execution_count": null,
   "metadata": {},
   "outputs": [],
   "source": [
    "from nltk.corpus import reuters\n",
    "len(reuters.words())"
   ]
  },
  {
   "cell_type": "code",
   "execution_count": null,
   "metadata": {},
   "outputs": [],
   "source": [
    "vocabulary = set(reuters.words())\n",
    "len(vocabulary)"
   ]
  },
  {
   "cell_type": "code",
   "execution_count": null,
   "metadata": {},
   "outputs": [],
   "source": [
    "len(reuters.sents())"
   ]
  },
  {
   "cell_type": "code",
   "execution_count": null,
   "metadata": {},
   "outputs": [],
   "source": [
    "len(reuters.paras())"
   ]
  },
  {
   "cell_type": "code",
   "execution_count": null,
   "metadata": {},
   "outputs": [],
   "source": [
    "len(reuters.categories())"
   ]
  },
  {
   "cell_type": "code",
   "execution_count": null,
   "metadata": {},
   "outputs": [],
   "source": [
    "reuters.readme()"
   ]
  },
  {
   "cell_type": "code",
   "execution_count": null,
   "metadata": {},
   "outputs": [],
   "source": [
    "reuters.paras()[3]"
   ]
  },
  {
   "cell_type": "code",
   "execution_count": null,
   "metadata": {},
   "outputs": [],
   "source": [
    "one_l = reuters.paras()[3][0]\n",
    "one_l"
   ]
  },
  {
   "cell_type": "code",
   "execution_count": null,
   "metadata": {},
   "outputs": [],
   "source": [
    "one = ' '.join(reuters.paras()[0][0])\n",
    "one"
   ]
  },
  {
   "cell_type": "markdown",
   "metadata": {},
   "source": [
    "Getting the first word in the subject:"
   ]
  },
  {
   "cell_type": "code",
   "execution_count": null,
   "metadata": {},
   "outputs": [],
   "source": [
    "for i, ele in enumerate(one_l): \n",
    "    if any(c in \"abcdefghijklmnopqrstuvwxyz\" for c in ele):\n",
    "        print(i, ele)\n",
    "        break"
   ]
  },
  {
   "cell_type": "markdown",
   "metadata": {},
   "source": [
    "Separating title and subject:"
   ]
  },
  {
   "cell_type": "code",
   "execution_count": null,
   "metadata": {},
   "outputs": [],
   "source": [
    "for i, ele in enumerate(one_l): \n",
    "    if any(c in \"abcdefghijklmnopqrstuvwxyz\" for c in ele):\n",
    "        end_of_subject = i\n",
    "        break\n",
    "print(' '.join(one_l[0:end_of_subject]))\n",
    "print(' '.join(one_l[end_of_subject:])) "
   ]
  },
  {
   "cell_type": "markdown",
   "metadata": {},
   "source": [
    "Doing this for every post:"
   ]
  },
  {
   "cell_type": "code",
   "execution_count": null,
   "metadata": {},
   "outputs": [],
   "source": [
    "items = dict()\n",
    "\n",
    "for p in reuters.paras():\n",
    "    # build subject\n",
    "    first_sentence = p[0]\n",
    "    end_of_subject = 0\n",
    "    for i, ele in enumerate(first_sentence): \n",
    "        if any(c in \"abcdefghijklmnopqrstuvwxyz\" for c in ele):\n",
    "            end_of_subject = i\n",
    "            break\n",
    "    subject = ' '.join(first_sentence[0:end_of_subject])\n",
    "    body = ' '.join(first_sentence[end_of_subject:])\n",
    "    # complete with rest of body\n",
    "    for s in p[1:]:\n",
    "        body += ' '.join(s)\n",
    "    # buld dictionary\n",
    "    items[subject] = body\n",
    "    \n",
    "print(list(items.keys())[0])\n",
    "print(list(items.values())[0])"
   ]
  },
  {
   "cell_type": "code",
   "execution_count": null,
   "metadata": {},
   "outputs": [],
   "source": [
    "print(list(items.keys())[1])\n",
    "print(list(items.values())[1])"
   ]
  },
  {
   "cell_type": "code",
   "execution_count": null,
   "metadata": {},
   "outputs": [],
   "source": [
    "import pandas as pd\n",
    "reuters_df = pd.DataFrame.from_dict(items, orient='index')\n",
    "reuters_df.head()"
   ]
  },
  {
   "cell_type": "code",
   "execution_count": null,
   "metadata": {},
   "outputs": [],
   "source": [
    "len(reuters_df[0])"
   ]
  },
  {
   "cell_type": "code",
   "execution_count": null,
   "metadata": {},
   "outputs": [],
   "source": [
    "vocabulary = set(reuters.words())\n",
    "len(vocabulary)"
   ]
  },
  {
   "cell_type": "markdown",
   "metadata": {},
   "source": [
    "We saw that there are 41,600 unique tokens in the corpus.  This doesn't tell us anything about the distribution of these tokens though.  NLTK has a built-in function to compute a frequency distribution for a text corpus."
   ]
  },
  {
   "cell_type": "code",
   "execution_count": 37,
   "metadata": {},
   "outputs": [
    {
     "name": "stdout",
     "output_type": "stream",
     "text": [
      "<FreqDist with 41600 samples and 1720901 outcomes>\n"
     ]
    }
   ],
   "source": [
    "fdist = nltk.FreqDist(reuters.words())\n",
    "print(fdist)"
   ]
  },
  {
   "cell_type": "code",
   "execution_count": null,
   "metadata": {},
   "outputs": [],
   "source": [
    "fdist.most_common(30)"
   ]
  },
  {
   "cell_type": "markdown",
   "metadata": {},
   "source": [
    "Plot these cumulatively to get a sense for how much of the corpus they represent."
   ]
  },
  {
   "cell_type": "code",
   "execution_count": null,
   "metadata": {},
   "outputs": [],
   "source": [
    "fig, ax = plt.subplots(figsize=(16,12))\n",
    "ax = fdist.plot(30, cumulative=True)"
   ]
  },
  {
   "cell_type": "markdown",
   "metadata": {},
   "source": [
    "Just 30 tokens make up around 35% of the entire corpus!  Moreover, most of these are things like punctuation and articles such as `and`, `to`, `of` and so on.  This is useful to know as we may want to strip out tokens like these.  You might also notice that the word 'the' appears on the list twice.  That's because the corpus contains both upper-case and lower-case words, and they are each counted separately.  Before we attempt to do anything with this data we'll need to correct these issues. The cell below will take a good minute to run, so please be patient."
   ]
  },
  {
   "cell_type": "code",
   "execution_count": null,
   "metadata": {},
   "outputs": [],
   "source": [
    "stopwords = nltk.corpus.stopwords.words()\n",
    "cleansed_words = [w.lower() for w in reuters.words() if w.isalnum() and w.lower() not in stopwords]\n",
    "vocabulary = set(cleansed_words)\n",
    "len(vocabulary)"
   ]
  },
  {
   "cell_type": "markdown",
   "metadata": {},
   "source": [
    "After converting everything to lowercase, removing punctuation, and removing **stop words** using a pre-defined list of words that do not add any semantic value, we've reduced the vocabulary from almost 42,000 to just over 30,000.  \n",
    "\n",
    "Note that we still didn't address things like singular vs. plural being different words. To handle this we'd have to get into topics like stemming, but for now let's leave as-is. Let's look at the top 30 again."
   ]
  },
  {
   "cell_type": "code",
   "execution_count": null,
   "metadata": {},
   "outputs": [],
   "source": [
    "fdist = nltk.FreqDist(cleansed_words)\n",
    "fdist.most_common(30)"
   ]
  },
  {
   "cell_type": "markdown",
   "metadata": {},
   "source": [
    "The list is more interesting now!  There's a lot more that we could do with NLTK, but since we're interested in using this data to build statistical models, we need to find ways to \"vectorize\" this data.  \n",
    "\n",
    "Recall from our first lecture that one common way to represent text data is called \"bag of words\" (BOW) representation.  \n",
    "\n",
    "A bag of words represents each document in a corpus as a series of features that ask a question about the document.  Most commonly, the features are the collection of all distinct words the vocabulary of the entire corpus.  The values are usually either binary (representing the presence or absence of that word in the document) or a count of the number of times that word appears in the document.  A corpus is then represented as a matrix with one row per document and one column per unique word."
   ]
  },
  {
   "cell_type": "code",
   "execution_count": null,
   "metadata": {},
   "outputs": [],
   "source": [
    "from sklearn.feature_extraction.text import CountVectorizer\n",
    "vectorizer = CountVectorizer(stop_words='english')\n",
    "vectorizer"
   ]
  },
  {
   "cell_type": "markdown",
   "metadata": {},
   "source": [
    "We'll start off using `scikit-learn`'s `CountVectorizer` class to transform our corpus into a **sparse** bag of words representation. This uses `scipy`'s sparse matrix calculus. `CountVectorizer` expects as input a list of raw strings containing the documents in the corpus.  It takes care of tokenization, transformation to lowercase, filtering stop words, building the vocabulary etc.  It also tabulates occurrance counts per document for each feature.\n",
    "\n",
    "Since `CountVectorizer` expects raw data as input, rather than the pre-processed data we were working with in NLTK, we need to create a list of documents to pass to the vectorizer."
   ]
  },
  {
   "cell_type": "code",
   "execution_count": 43,
   "metadata": {},
   "outputs": [
    {
     "data": {
      "text/plain": [
       "7769"
      ]
     },
     "execution_count": 43,
     "metadata": {},
     "output_type": "execute_result"
    }
   ],
   "source": [
    "files = [f for f in reuters.fileids() if 'training' in f]\n",
    "corpus = [reuters.raw(fileids=[f]) for f in files]\n",
    "len(corpus)"
   ]
  },
  {
   "cell_type": "markdown",
   "metadata": {},
   "source": [
    "Let's explore.."
   ]
  },
  {
   "cell_type": "code",
   "execution_count": null,
   "metadata": {},
   "outputs": [],
   "source": [
    "corpus[3211]"
   ]
  },
  {
   "cell_type": "markdown",
   "metadata": {},
   "source": [
    "Now we have the training corpus defined as a list of raw text documents.  We can pass this to our vectorizer to build our bag of words *matrix*."
   ]
  },
  {
   "cell_type": "code",
   "execution_count": 47,
   "metadata": {},
   "outputs": [
    {
     "data": {
      "text/plain": [
       "<7769x26000 sparse matrix of type '<class 'numpy.int64'>'\n",
       "\twith 426015 stored elements in Compressed Sparse Row format>"
      ]
     },
     "execution_count": 47,
     "metadata": {},
     "output_type": "execute_result"
    }
   ],
   "source": [
    "X = vectorizer.fit_transform(corpus)\n",
    "X"
   ]
  },
  {
   "cell_type": "markdown",
   "metadata": {},
   "source": [
    "The vectorizer stores the data as a sparse matrix since a dense matrix would use way too much space and most of the values would be zero anyway (because each document only contains a small number of the total words in the vocabulary). \n",
    "\n",
    "X is very similar to the matrix we built last lecture, so we're not going to explore it anymore. You see, data science all comes down to translating nodes/words/etc. into *numbers* (vectors, to be exact), so we can use **math** on the data. It's not about the software packages you use, it's *about the math algorithms*. \n",
    "\n",
    "We can transform X to a numpy array if necessary though, with:\n",
    "```python\n",
    "X.toarray()\n",
    "```"
   ]
  },
  {
   "cell_type": "code",
   "execution_count": 48,
   "metadata": {},
   "outputs": [
    {
     "data": {
      "text/plain": [
       "array([[0, 0, 0, ..., 0, 0, 0],\n",
       "       [0, 3, 0, ..., 0, 0, 0],\n",
       "       [0, 0, 0, ..., 0, 0, 0],\n",
       "       ...,\n",
       "       [0, 0, 0, ..., 0, 0, 0],\n",
       "       [0, 0, 0, ..., 0, 0, 0],\n",
       "       [0, 2, 0, ..., 0, 0, 0]], dtype=int64)"
      ]
     },
     "execution_count": 48,
     "metadata": {},
     "output_type": "execute_result"
    }
   ],
   "source": [
    "X.toarray()\n"
   ]
  },
  {
   "cell_type": "markdown",
   "metadata": {},
   "source": [
    "The vectorizer stores the feature names (words) that map to the matrix column indexes.  We can inspect those if desired.  Note that we're skipping to index 2000 with a python slice because if you look at the beginning of the index, it's all numbers.  The reuters corpus, being news articles, contains quite a high volume of numeric symbols.  It's debatable whether or not we should really include these in the vocabulary, but for now they're there."
   ]
  },
  {
   "cell_type": "code",
   "execution_count": null,
   "metadata": {},
   "outputs": [],
   "source": [
    "vectorizer.get_feature_names()[4000:4100]"
   ]
  },
  {
   "cell_type": "markdown",
   "metadata": {},
   "source": [
    "One potential issue with this representation is that it holds an in-memory mapping of the vocabulary-to-document-matrix that can get unwieldy on large datasets.  This approach also doesn't work when training in an on-line fashion since it needs to build the entire vocabulary *ahead* of time.  \n",
    "\n",
    "There's another vectorization algorithm implemented in scikit-learn that uses *feature hashing* to build the matrix in a *stateless* manner.  This `HashingVectorizer` class solves both of the above problems, however it comes with some tradeoffs - it's not possible to \"inverse transform\" the vector back to the original words, and there's a possibility of *collisions* that could cause some information to be lost."
   ]
  },
  {
   "cell_type": "code",
   "execution_count": 19,
   "metadata": {},
   "outputs": [
    {
     "data": {
      "text/plain": [
       "<7769x1048576 sparse matrix of type '<class 'numpy.float64'>'\n",
       "\twith 573305 stored elements in Compressed Sparse Row format>"
      ]
     },
     "execution_count": 19,
     "metadata": {},
     "output_type": "execute_result"
    }
   ],
   "source": [
    "from sklearn.feature_extraction.text import HashingVectorizer\n",
    "hv = HashingVectorizer()\n",
    "X_hash = hv.transform(corpus)\n",
    "X_hash"
   ]
  },
  {
   "cell_type": "markdown",
   "metadata": {},
   "source": [
    "But let's continue using our `CountVectorizer`. Keep in mind that for very large corpora `HashingVectorizer` would be faster and more efficient.\n",
    "\n",
    "We now have a bag of words matrix, however there's another problem - some words appear much more frequently across the corpora as a whole than other words, so their presence in a document should carry less weight than a word that is very infrequent in general.  To adjust for this, we'll use **TF-IDF weighting**.  "
   ]
  },
  {
   "cell_type": "code",
   "execution_count": 53,
   "metadata": {},
   "outputs": [
    {
     "data": {
      "text/plain": [
       "TfidfTransformer(norm='l2', smooth_idf=True, sublinear_tf=False, use_idf=True)"
      ]
     },
     "execution_count": 53,
     "metadata": {},
     "output_type": "execute_result"
    }
   ],
   "source": [
    "from sklearn.feature_extraction.text import TfidfTransformer\n",
    "tfidf = TfidfTransformer()\n",
    "tfidf"
   ]
  },
  {
   "cell_type": "code",
   "execution_count": 54,
   "metadata": {},
   "outputs": [
    {
     "data": {
      "text/plain": [
       "array([[0.   , 0.   , 0.   , ..., 0.   , 0.   , 0.   ],\n",
       "       [0.   , 0.08 , 0.   , ..., 0.   , 0.   , 0.   ],\n",
       "       [0.   , 0.   , 0.   , ..., 0.   , 0.   , 0.   ],\n",
       "       ...,\n",
       "       [0.   , 0.   , 0.   , ..., 0.   , 0.   , 0.   ],\n",
       "       [0.   , 0.   , 0.   , ..., 0.   , 0.   , 0.   ],\n",
       "       [0.   , 0.183, 0.   , ..., 0.   , 0.   , 0.   ]])"
      ]
     },
     "execution_count": 54,
     "metadata": {},
     "output_type": "execute_result"
    }
   ],
   "source": [
    "X_weighted = tfidf.fit_transform(X)\n",
    "X_weighted.toarray()"
   ]
  },
  {
   "cell_type": "markdown",
   "metadata": {},
   "source": [
    "Now that we have a weighted term-document matrix, let's do something with it.  A common NLP task is to classify documents as belonging to a particular category.  Since the `reuters` corpus is labeled (categorized by humans), we can used a supervised learning algorithm to attempt to learn how to categorize similar news articles.\n",
    "\n",
    "To do this we need a few additional pieces of information.  We need a set of labels, and we need a test set to evaluate performance of the model.  Fortunately we have both available to us for the `reuters` dataset."
   ]
  },
  {
   "cell_type": "code",
   "execution_count": 55,
   "metadata": {},
   "outputs": [],
   "source": [
    "# build the term-document matrix for the test set using the existing transforms\n",
    "test_files = [f for f in reuters.fileids() if 'test' in f]\n",
    "test_corpus = [reuters.raw(fileids=[f]) for f in test_files]\n",
    "X_test = vectorizer.transform(test_corpus)\n",
    "X_test_weighted = tfidf.transform(X_test)\n",
    "\n",
    "# get the categories for each document in both the train and test sets\n",
    "train_labels = [reuters.categories(fileids=[f]) for f in files]\n",
    "test_labels = [reuters.categories(fileids=[f]) for f in test_files]"
   ]
  },
  {
   "cell_type": "markdown",
   "metadata": {},
   "source": [
    "Since there are 90 distinct categories (document `cats.txt` in `reuters`), and each document can be assigned to more than one category, we probably don't have enough documents per category to build a really good document classifier.  We're going to simplify the problem a bit and reduce the classification to a binary problem - wether or not the document belongs to the 'gold' category."
   ]
  },
  {
   "cell_type": "code",
   "execution_count": 56,
   "metadata": {},
   "outputs": [],
   "source": [
    "y = np.asarray([1 if 'gold' in label else 0 for label in train_labels])\n",
    "y_test = np.asarray([1 if 'gold' in label else 0 for label in test_labels])"
   ]
  },
  {
   "cell_type": "code",
   "execution_count": 57,
   "metadata": {},
   "outputs": [
    {
     "data": {
      "text/plain": [
       "((7769, 26000), (7769,), (3019, 26000), (3019,))"
      ]
     },
     "execution_count": 57,
     "metadata": {},
     "output_type": "execute_result"
    }
   ],
   "source": [
    "X_weighted.shape, y.shape, X_test_weighted.shape, y_test.shape"
   ]
  },
  {
   "cell_type": "markdown",
   "metadata": {},
   "source": [
    "## Supervised Learning\n",
    "\n",
    "Now we're ready to train a classifier.  We'll stick with (multinomial) Naive Bayes."
   ]
  },
  {
   "cell_type": "code",
   "execution_count": 26,
   "metadata": {},
   "outputs": [
    {
     "name": "stdout",
     "output_type": "stream",
     "text": [
      "             precision    recall  f1-score   support\n",
      "\n",
      "   not gold       0.99      1.00      1.00      2989\n",
      "       gold       0.00      0.00      0.00        30\n",
      "\n",
      "avg / total       0.98      0.99      0.99      3019\n",
      "\n"
     ]
    },
    {
     "name": "stderr",
     "output_type": "stream",
     "text": [
      "D:\\Anaconda\\lib\\site-packages\\sklearn\\metrics\\classification.py:1135: UndefinedMetricWarning: Precision and F-score are ill-defined and being set to 0.0 in labels with no predicted samples.\n",
      "  'precision', 'predicted', average, warn_for)\n"
     ]
    }
   ],
   "source": [
    "from sklearn.naive_bayes import MultinomialNB\n",
    "from sklearn.metrics import classification_report\n",
    "\n",
    "# train the classifier\n",
    "classifier = MultinomialNB()\n",
    "classifier.fit(X_weighted, y)\n",
    "\n",
    "# predict labels for the test set\n",
    "predictions = classifier.predict(X_test_weighted)\n",
    "\n",
    "# output the classification report\n",
    "label_names = ['not gold', 'gold']\n",
    "print(classification_report(y_test, predictions, target_names=label_names))"
   ]
  },
  {
   "cell_type": "markdown",
   "metadata": {},
   "source": [
    "So precision and f-score are ill-defined, which means we don't really have enough data to train. There are too few articles about `gold`. Let's try a different category. How about `earn`?\n",
    "\n"
   ]
  },
  {
   "cell_type": "code",
   "execution_count": 58,
   "metadata": {},
   "outputs": [],
   "source": [
    "y = np.asarray([1 if 'earn' in label else 0 for label in train_labels])\n",
    "y_test = np.asarray([1 if 'earn' in label else 0 for label in test_labels])"
   ]
  },
  {
   "cell_type": "code",
   "execution_count": 59,
   "metadata": {},
   "outputs": [
    {
     "data": {
      "text/plain": [
       "((7769, 26000), (7769,), (3019, 26000), (3019,))"
      ]
     },
     "execution_count": 59,
     "metadata": {},
     "output_type": "execute_result"
    }
   ],
   "source": [
    "X_weighted.shape, y.shape, X_test_weighted.shape, y_test.shape"
   ]
  },
  {
   "cell_type": "code",
   "execution_count": 60,
   "metadata": {},
   "outputs": [
    {
     "name": "stdout",
     "output_type": "stream",
     "text": [
      "             precision    recall  f1-score   support\n",
      "\n",
      "   not earn       0.96      1.00      0.98      1932\n",
      "       earn       0.99      0.93      0.96      1087\n",
      "\n",
      "avg / total       0.97      0.97      0.97      3019\n",
      "\n"
     ]
    }
   ],
   "source": [
    "from sklearn.naive_bayes import MultinomialNB\n",
    "from sklearn.metrics import classification_report\n",
    "\n",
    "# train the classifier\n",
    "classifier = MultinomialNB()\n",
    "classifier.fit(X_weighted, y)\n",
    "\n",
    "# predict labels for the test set\n",
    "predictions = classifier.predict(X_test_weighted)\n",
    "\n",
    "# output the classification report\n",
    "label_names = ['not earn', 'earn']\n",
    "print(classification_report(y_test, predictions, target_names=label_names))"
   ]
  },
  {
   "cell_type": "markdown",
   "metadata": {},
   "source": [
    "Ok so that's better, although the recall is not as high as we would like it to be.  There are a number of ways we could work to improve this result, such as experimenting with removing extraenous tokens such as numbers from our vocabulary or constructing additional high-level features about the documents.  For a simple bag-of-words model though it's not too bad."
   ]
  },
  {
   "cell_type": "markdown",
   "metadata": {},
   "source": [
    "## Unsupervised Learning\n",
    "\n",
    "Supervised learning is nice when we have a *labeled* dataset, but the vast majority of text in the wild does not come with any sort of label so its usefulness in natural language processing is often limited.  \n",
    "\n",
    "What about *unsupervised techniques* to categorize documents? \n",
    "\n",
    "In a Machine Learning class, you will learn the difference between **recommendation**, **classification**, and **clustering**, the main categories of Machine Learning.\n",
    "\n",
    "Scikit-learn packages a decomposition technique called `non-negative matrix factorization` (NMF) that we can use for topic extraction."
   ]
  },
  {
   "cell_type": "code",
   "execution_count": null,
   "metadata": {},
   "outputs": [],
   "source": [
    "from sklearn.decomposition import NMF\n",
    "nmf = NMF(n_components=10).fit(X_weighted)\n",
    "\n",
    "feature_names = vectorizer.get_feature_names()\n",
    "\n",
    "for topic_idx, topic in enumerate(nmf.components_):\n",
    "    print('Topic #%d:' % topic_idx)\n",
    "    print(' '.join([feature_names[i] for i in topic.argsort()[:-20 - 1:-1]]))\n",
    "    print('')"
   ]
  },
  {
   "cell_type": "markdown",
   "metadata": {},
   "source": [
    "The above output takes the components derived from the factorization (here assumed to model a **topic** from the corpus) and extracts the 20 words that most significantly contributed to that topic.  Although it's not perfect, we can see some commonalites among the groups of words.\n",
    "\n",
    "NMF gives some interesting results, but there are more advanced algorithms for topic modeling. [Latent Dirichlet Allocation](https://en.wikipedia.org/wiki/Latent_Dirichlet_allocation) (LDA) is a technique that models documents as though they are composed of some undefined number of topics. Each of the words in the document are then said to be attributed to some combination of those topics. LDA is the equivalent of k-means for NLP. \n",
    "\n",
    "`Scikit-learn` does [implement](http://scikit-learn.org/stable/modules/generated/sklearn.decomposition.LatentDirichletAllocation.html) LDA, but there's a library called [gensim](https://en.wikipedia.org/wiki/Gensim), by [Radim Rehurek](https://radimrehurek.com/gensim/install.html), that I researched 2 years ago and really liked. So we'll study *that* in the next section."
   ]
  },
  {
   "cell_type": "markdown",
   "metadata": {},
   "source": [
    "<a id='section4'></a>"
   ]
  },
  {
   "cell_type": "markdown",
   "metadata": {},
   "source": [
    "## Notebook Contents:\n",
    "- Part 1: [Introduction to Natural Language Processing (NLP)](#section1)\n",
    "- Part 2: [Big Data processing: Optimizations often required for NLP](#section2)\n",
    "- Part 3: [NLP with the Reuters dataset](#section3)\n",
    "- Part 4: [Words 2 Vectors](#section4)\n",
    "- Part 5: [NLP-ing Litterature](#section5)"
   ]
  },
  {
   "cell_type": "markdown",
   "metadata": {},
   "source": [
    "# Part 4: Words 2 Vectors\n",
    "\n",
    ">**WORD EMBEDDINGS**: A word embedding $W:words→R^nW$ is a parametrized function mapping words in some language to high-dimensional **vectors** (e.g 500 dimensions).\n",
    "For example, we might find: $W(\\text{cat})=(0.2, -0.4, 0.7, ...)$ and $W(\\text{mat})=(0.0, 0.6, -0.1, ...)$\n",
    "Typically, the function is a lookup table, parameterized by a matrix $\\Theta$ with a row-vector for each word: $W_θ(w_n)=θ_n$. The matrix $W$ is initialized to have random vectors for each word. It then learns to have **meaningful** vectors in order to perform some task.\n",
    "\n",
    "</br >\n",
    "<center>\n",
    "<img src=\"ipynb.images/gensim.png\" width=600 />\n",
    "</center>\n",
    "\n",
    "The [gensim](https://en.wikipedia.org/wiki/Gensim) python package, by [Radim Rehurek](https://radimrehurek.com/gensim/install.html) is focused on [**topic modeling**](https://en.wikipedia.org/wiki/Topic_model). Google has a similar library, called [word2vec](https://en.wikipedia.org/wiki/Word2vec), and Stanford another similar one called [GloVe](https://en.wikipedia.org/wiki/GloVe_(machine_learning)), but I think the one-man library gensim is *better*!\n",
    "\n",
    "First, open your Anaconda prompt and run:\n",
    "```python\n",
    "pip install gensim\n",
    "```\n",
    "\n",
    "or:\n",
    "\n",
    "```python\n",
    "conda install -c conda-forge gensim\n",
    "```\n",
    "If that doesn't work (it should), run:\n",
    "```python\n",
    "pip install --upgrade gensim\n",
    "```\n",
    "\n",
    "To start off we need our corpus in a format that gensim models can use as input. Gensim implements a lot of the same transforms that we just applied to the data, but rather than re-create the same transforms, we can re-use what we've already done and convert our term-document matrix into gensim's expected format, by levevraging our TF-IDF X_weighted matrix."
   ]
  },
  {
   "cell_type": "code",
   "execution_count": 62,
   "metadata": {},
   "outputs": [
    {
     "name": "stderr",
     "output_type": "stream",
     "text": [
      "D:\\Anaconda\\lib\\site-packages\\gensim\\models\\ldamodel.py:1023: RuntimeWarning: divide by zero encountered in log\n",
      "  diff = np.log(self.expElogbeta)\n"
     ]
    },
    {
     "data": {
      "text/plain": [
       "<gensim.models.ldamodel.LdaModel at 0x1999c869c50>"
      ]
     },
     "execution_count": 62,
     "metadata": {},
     "output_type": "execute_result"
    }
   ],
   "source": [
    "from gensim import corpora, models, similarities, matutils\n",
    "\n",
    "# create the corpus using a conversion utility\n",
    "gensim_corpus = matutils.Sparse2Corpus(X_weighted)\n",
    "\n",
    "# build the LDA model\n",
    "lda = models.LdaModel(gensim_corpus, num_topics=100)\n",
    "lda"
   ]
  },
  {
   "cell_type": "markdown",
   "metadata": {},
   "source": [
    "With our LDA model we can now examine the words that most contribute to each topic (as we did with NMF), or we can compare *new* documents to the model to identify either the topics that make up that document or the existing documents that they are most similar to. E.g. spam? \n",
    "\n",
    "But let's move on from NMF/LDA to another algorithm implemented in gensim called **word2vec**.  Word2vec is an **nsupervised neural network** model that runs on a corpus of text and learns vector representations for the individual words in the text. The word vectors are modeled in a way such that words that are **semantically close** to each other are also close in the vector space, so neighbors in the vector space equates to similar semantics. \n",
    "\n",
    "***Amazing*** how vector space context maps to semantic similarity! That is what fascinated me about word2vec (which Google actually uncovered first with their version of `word2vec`).\n",
    "\n",
    "Let's explore some of the implications on the reuters dataset. Since word2vec expects a list of sentences as input, we'll need to go back to the pre-transformed sentence list provided by NLTK."
   ]
  },
  {
   "cell_type": "code",
   "execution_count": 63,
   "metadata": {},
   "outputs": [],
   "source": [
    "model = models.Word2Vec(reuters.sents(), size=100, window=5, min_count=5, workers=4)"
   ]
  },
  {
   "cell_type": "markdown",
   "metadata": {},
   "source": [
    "We now have a trained word2vec model.  It's possible to look at the vector for a word directly, although it won't mean much to you:\n",
    "```python\n",
    "model['market']\n",
    "```"
   ]
  },
  {
   "cell_type": "markdown",
   "metadata": {},
   "source": [
    "Now, every word in the vocabulary has a vector representation!\n",
    "\n",
    "Since we're dealing with vectors, it's possible to compare words using vector math such as `cosine similarity`."
   ]
  },
  {
   "cell_type": "code",
   "execution_count": 64,
   "metadata": {},
   "outputs": [
    {
     "name": "stderr",
     "output_type": "stream",
     "text": [
      "D:\\Anaconda\\lib\\site-packages\\ipykernel_launcher.py:1: DeprecationWarning: Call to deprecated `similarity` (Method will be removed in 4.0.0, use self.wv.similarity() instead).\n",
      "  \"\"\"Entry point for launching an IPython kernel.\n",
      "D:\\Anaconda\\lib\\site-packages\\gensim\\matutils.py:737: FutureWarning: Conversion of the second argument of issubdtype from `int` to `np.signedinteger` is deprecated. In future, it will be treated as `np.int32 == np.dtype(int).type`.\n",
      "  if np.issubdtype(vec.dtype, np.int):\n"
     ]
    },
    {
     "data": {
      "text/plain": [
       "0.7902522"
      ]
     },
     "execution_count": 64,
     "metadata": {},
     "output_type": "execute_result"
    }
   ],
   "source": [
    "model.similarity('dollar', 'yen')"
   ]
  },
  {
   "cell_type": "code",
   "execution_count": 65,
   "metadata": {},
   "outputs": [
    {
     "name": "stderr",
     "output_type": "stream",
     "text": [
      "D:\\Anaconda\\lib\\site-packages\\ipykernel_launcher.py:1: DeprecationWarning: Call to deprecated `similarity` (Method will be removed in 4.0.0, use self.wv.similarity() instead).\n",
      "  \"\"\"Entry point for launching an IPython kernel.\n",
      "D:\\Anaconda\\lib\\site-packages\\gensim\\matutils.py:737: FutureWarning: Conversion of the second argument of issubdtype from `int` to `np.signedinteger` is deprecated. In future, it will be treated as `np.int32 == np.dtype(int).type`.\n",
      "  if np.issubdtype(vec.dtype, np.int):\n"
     ]
    },
    {
     "data": {
      "text/plain": [
       "0.007850852"
      ]
     },
     "execution_count": 65,
     "metadata": {},
     "output_type": "execute_result"
    }
   ],
   "source": [
    "model.similarity('dollar', 'potato')"
   ]
  },
  {
   "cell_type": "markdown",
   "metadata": {},
   "source": [
    "According to the model, `dollar` and `yen` are much more similar to each other (both being currencies) than `dollar` and `potato`.  \n",
    "\n",
    "Right?\n",
    "\n",
    "The relationship is ***deeper*** than just a similarity measure though! The word2vec model is capable of capturing abstract concepts as well.  The ubiquitous example is `woman + king - man = queen`.  When properly trained on a large enough amount of text, the model is able to detect that the relationship between `woman` and `queen` is similar to the relationship between `man` and `king`!\n",
    "\n",
    "<br />\n",
    "<center>\n",
    "<img src=\"ipynb.images/wow.jpg\" width=400 />\n",
    "</center>\n",
    "\n",
    "Let's see if the model we just trained can do something similar."
   ]
  },
  {
   "cell_type": "code",
   "execution_count": 66,
   "metadata": {},
   "outputs": [
    {
     "name": "stderr",
     "output_type": "stream",
     "text": [
      "D:\\Anaconda\\lib\\site-packages\\ipykernel_launcher.py:1: DeprecationWarning: Call to deprecated `most_similar` (Method will be removed in 4.0.0, use self.wv.most_similar() instead).\n",
      "  \"\"\"Entry point for launching an IPython kernel.\n",
      "D:\\Anaconda\\lib\\site-packages\\gensim\\matutils.py:737: FutureWarning: Conversion of the second argument of issubdtype from `int` to `np.signedinteger` is deprecated. In future, it will be treated as `np.int32 == np.dtype(int).type`.\n",
      "  if np.issubdtype(vec.dtype, np.int):\n"
     ]
    },
    {
     "data": {
      "text/plain": [
       "[('mark', 0.7066788077354431),\n",
       " ('inflation', 0.7008131146430969),\n",
       " ('currency', 0.6858404874801636),\n",
       " ('currencies', 0.6770367622375488),\n",
       " ('sterling', 0.6663455963134766),\n",
       " ('back', 0.6483285427093506),\n",
       " ('yen', 0.6376237869262695),\n",
       " ('fall', 0.6338798999786377),\n",
       " ('further', 0.6269322633743286),\n",
       " ('levels', 0.6218751072883606)]"
      ]
     },
     "execution_count": 66,
     "metadata": {},
     "output_type": "execute_result"
    }
   ],
   "source": [
    "model.most_similar(positive=['Japan', 'dollar'], negative=['US'])"
   ]
  },
  {
   "cell_type": "markdown",
   "metadata": {},
   "source": [
    "Although (deutsche) `mark`, (pound) `sterling`, and (japanese) `yen` are on the list, there's some noise too, like `back`, `fall`, `further`, and `levels`.  This is mostly likely due to the relatively small size of the dataset.  Word2vec needs a **huge** amount of training data to work really well, and that's a problem inherent to ANNs. \n",
    "\n",
    "Some parameter tuning might help too - for example, a size of 100 dimensions might be way too big for the amount of data in the reuters dataset.\n",
    "\n",
    "Let's see if there's a way to visualize some of the information captured by the model. Since the vectors are high-dimensional we can't visualize them directly, but we can apply a dimension reduction technique like PCA and use the first two principal components as coordinates.  We can try this with a group of words that should be somewhat similar, such as countries."
   ]
  },
  {
   "cell_type": "code",
   "execution_count": 67,
   "metadata": {},
   "outputs": [
    {
     "name": "stderr",
     "output_type": "stream",
     "text": [
      "D:\\Anaconda\\lib\\site-packages\\ipykernel_launcher.py:5: DeprecationWarning: Call to deprecated `__getitem__` (Method will be removed in 4.0.0, use self.wv.__getitem__() instead).\n",
      "  \"\"\"\n"
     ]
    },
    {
     "data": {
      "image/png": "[encoded data removed]",
      "text/plain": [
       "<matplotlib.figure.Figure at 0x1999c9e3160>"
      ]
     },
     "metadata": {},
     "output_type": "display_data"
    }
   ],
   "source": [
    "from sklearn.decomposition import PCA\n",
    "\n",
    "# we use 'Soviet' instead of 'Russia' because reuters is an old dataset\n",
    "words = ['US', 'China', 'Japan', 'England', 'France', 'Germany', 'Soviet']\n",
    "word_vectors = [model[word] for word in words]\n",
    "\n",
    "# create and apply PCA transform\n",
    "pca = PCA(n_components=2)\n",
    "principal_components = pca.fit_transform(word_vectors)\n",
    "\n",
    "# slice the 2D array\n",
    "x = principal_components[:, 0]\n",
    "y = principal_components[:, 1]\n",
    "\n",
    "# plot with text annotation\n",
    "fig, ax = plt.subplots(figsize=(16,12))\n",
    "ax.scatter(x, y, s=0)\n",
    "\n",
    "for i, label in enumerate(words):\n",
    "    ax.annotate(label, (x[i], y[i]), size='x-large')"
   ]
  },
  {
   "cell_type": "markdown",
   "metadata": {},
   "source": [
    "There's a spread between some words, but a few such as `US` and `China` are very close. \n",
    "\n",
    "But semantic positioning does not make as much sense in the absolute, We need to include different semantic categories. So let's introduce 4 semantic categories: **Countries**, **currencies**, **finances**, and **oil**. "
   ]
  },
  {
   "cell_type": "code",
   "execution_count": 68,
   "metadata": {},
   "outputs": [
    {
     "name": "stderr",
     "output_type": "stream",
     "text": [
      "D:\\Anaconda\\lib\\site-packages\\ipykernel_launcher.py:5: DeprecationWarning: Call to deprecated `__getitem__` (Method will be removed in 4.0.0, use self.wv.__getitem__() instead).\n",
      "  \"\"\"\n"
     ]
    },
    {
     "data": {
      "image/png": "[encoded data removed]",
      "text/plain": [
       "<matplotlib.figure.Figure at 0x19a0b449dd8>"
      ]
     },
     "metadata": {},
     "output_type": "display_data"
    }
   ],
   "source": [
    "from sklearn.decomposition import PCA\n",
    "\n",
    "# we use 'Soviet' instead of 'Russia' because reuters is an old dataset\n",
    "words = ['US', 'China', 'Japan', 'England', 'France', 'Germany', 'dollar', 'yen', 'mark', 'sterling', 'stock', 'company', 'dividend', 'shares', 'oil', 'pumping']\n",
    "word_vectors = [model[word] for word in words]\n",
    "\n",
    "# create and apply PCA transform\n",
    "pca = PCA(n_components=2)\n",
    "principal_components = pca.fit_transform(word_vectors)\n",
    "\n",
    "# slice the 2D array\n",
    "x = principal_components[:, 0]\n",
    "y = principal_components[:, 1]\n",
    "\n",
    "# plot with text annotation\n",
    "fig, ax = plt.subplots(figsize=(16,12))\n",
    "ax.scatter(x, y, s=0)\n",
    "\n",
    "for i, label in enumerate(words):\n",
    "    ax.annotate(label, (x[i], y[i]), size='x-large')"
   ]
  },
  {
   "cell_type": "markdown",
   "metadata": {},
   "source": [
    "We see that **Countries** (and strangely, **oil**) are all well grouped together! **Financial** terms carve out their own region of space, and **currencies** another.\n",
    "\n",
    "Do not forget that we only plotted ***2*** PCA vectors, so we could visualize in 2D.\n",
    "\n",
    "Terms with more correct, closer semantic positioning may have appeared frequently in the corpus, so there may have been a larger amount of training data for them, too.  \n",
    "\n",
    "The results become more interesting when applied to very large datasets, and indeed Google and others have done just that. "
   ]
  },
  {
   "cell_type": "markdown",
   "metadata": {},
   "source": [
    "This is a 2D projection of a larger dataset from my bigdata lecture series, with more terms plotted:\n",
    "\n",
    "<br />\n",
    "<center>\n",
    "<img src=\"ipynb.images/word2vec.png\" width=950 />\n",
    "</center>\n",
    "\n",
    "and this is zooming in on a region:\n",
    "\n",
    "<br />\n",
    "<center>\n",
    "<img src=\"ipynb.images/word2vec2.png\" width=950 />\n",
    "</center>\n",
    "\n",
    "Isn't it amazing how a machine-learning algotihm figured out that `dancing` and `singing` makes me happy? And how did it figure this out? Simple, by listening to my blog posts. I often cite words related to `happy` when I talk about `dancing` and `singing`, because.. dancing and singing ***make me happy***! So all a computer needs to do is to read what I say and classify!"
   ]
  },
  {
   "cell_type": "markdown",
   "metadata": {},
   "source": [
    "## Latent Dirichlet Allocation (LDA)\n",
    "\n",
    "Word embeddings (word2vec) are used in statistical language translation, because words with similar meaning but in different languages map to the same region in vector space.\n",
    "\n",
    "So applying this methodology to words is only the beginning.  It's already been extended to phrases and even entire documents.  It's a very promising research area and why I got so excited researching this 2 years ago.\n",
    "\n",
    "So now we need to learn about [Latent Dirichlet Allocation](https://en.wikipedia.org/wiki/Latent_Dirichlet_allocation) (LDA).\n",
    "\n",
    "LDA is a great way for obtaining synoptical document semantics. It's a kind of unsupervised classification. It was first proposed by J. K. Pritchard, M. Stephens and P. Donnelly in 2000, in the context of machine learning.\n",
    "\n",
    ">**DEFINITION**: LDA is a **generative statistical model** that allows sets of observations to be explained by **unobserved groups** (**latent**) that explain why some parts of the data are similar. For example, if observations are words collected into documents, it posits that each document is a mixture of a small number of topics and that each word's presence is attributable to one of the document's topics.\n",
    "\n",
    "For example, assuming there are 4 reasons Hillary lost the elections, what are those reasons based on all emails gathered from national correspondents?\n",
    "\n",
    "Here's a (good) classical layman's description of the LDA algorithm. It should immediately remind you of **k-means**!\n",
    ">**ALGORITHM (LDA)**: Suppose you’ve just moved to a new city. You’re a hipster and an anime fan, so you want to know where the other hipsters and anime geeks tend to hang out. Of course, as a hipster, you know you can’t just ask, so what do you do?\n",
    "\n",
    ">Here’s the scenario: you scope out a bunch of different establishments (documents) across town, making note of the people (words) hanging out in each of them (e.g., Alice hangs out at the mall and at the park, Bob hangs out at the movie theater and the park, and so on). Crucially, you don’t know the typical interest groups (topics) of each establishment, nor do you know the different interests of each person.\n",
    "\n",
    ">So you pick some number K of categories to learn (i.e., you want to learn the K most important kinds of categories people fall into), and start by making a guess as to why you see people where you do. For example, you initially guess that Alice is at the mall because people with interests in X like to hang out there; when you see her at the park, you guess it’s because her friends with interests in Y like to hang out there; when you see Bob at the movie theater, you randomly guess it’s because the Z people in this city really like to watch movies; and so on.\n",
    "\n",
    ">Of course, your random guesses are very likely to be incorrect (they’re random guesses, after all!), so you want to improve on them. One way of doing so is to:\n",
    "\n",
    ">Pick a place and a person (e.g., Alice at the mall).\n",
    "Why is Alice likely to be at the mall? Probably because other people at the mall with the same interests sent her a message telling her to come.\n",
    "In other words, the more people with interests in X there are at the mall and the stronger Alice is associated with interest X (at all the other places she goes to), the more likely it is that Alice is at the mall because of interest X.\n",
    "So make a new guess as to why Alice is at the mall, choosing an interest with some probability according to how likely you think it is.\n",
    "Go through each place and person over and over again. Your guesses keep getting better and better (after all, if you notice that lots of geeks hang out at the bookstore, and you suspect that Alice is pretty geeky herself, then it’s a good bet that Alice is at the bookstore because her geek friends told her to go there; and now that you have a better idea of why Alice is probably at the bookstore, you can use this knowledge in turn to improve your guesses as to why everyone else is where they are), and eventually you can stop updating. Then take a snapshot (or multiple snapshots) of your guesses, and use it to get all the information you want:\n",
    "\n",
    "Note that there is another technique called [non-negative matrix factorization](https://en.wikipedia.org/wiki/Non-negative_matrix_factorization) (NMF) that strongly resembles Latent Dirichlet Allocation (LDA), where a matrix V is factorized into (usually) two matrices W and H, with the property that all three matrices have no negative elements. This non-negativity makes the resulting matrices easier to inspect. Whereas LDA is a **probabilistic model** capable of expressing uncertainty about the placement of topics across texts and the assignment of words to topics, NMF is a **deterministic algorithm** which arrives at a single representation of the corpus (and for this reason, NMF is often characterized as a machine learning algorithm). Like LDA, NMF arrives at its representation of a corpus in terms of something resembling **latent topics**.\n",
    "\n",
    "Now, let's go back to our reuters dataset and do **LDA** on it!\n",
    "\n",
    ">**WARNING**: The `nlp` of the reuters dataset took 3 minutes on my laptop. Caveat Emptor (you may want to do this at home if your laptop is not data science-strong)."
   ]
  },
  {
   "cell_type": "code",
   "execution_count": 98,
   "metadata": {},
   "outputs": [
    {
     "data": {
      "text/plain": [
       "8148"
      ]
     },
     "execution_count": 98,
     "metadata": {},
     "output_type": "execute_result"
    }
   ],
   "source": [
    "len(reuters_df[0])"
   ]
  },
  {
   "cell_type": "code",
   "execution_count": 92,
   "metadata": {},
   "outputs": [
    {
     "name": "stdout",
     "output_type": "stream",
     "text": [
      "Wall time: 3min 20s\n"
     ]
    }
   ],
   "source": [
    "texts = reuters_df[0]\n",
    "%time reuters_docs = list(nlp.pipe(texts))"
   ]
  },
  {
   "cell_type": "markdown",
   "metadata": {},
   "source": [
    "Now that we have a list of spaCy documents, we transform them to lists of tokens. Instead of the original tokens, we're going to work with lemmas instead. This will allow our model to generalize better, as it will be able to see that \"traded\" and \"trade\" are actually just two forms of the same words. This is the full list of our initial preprocessing steps:\n",
    "\n",
    "- We remove all words shorter than 3 characters (these are often fairly uninteresting from a topical point of view),\n",
    "- We drop all stopwords, and\n",
    "- We take them lemmas of the remaining words and lowercase them."
   ]
  },
  {
   "cell_type": "code",
   "execution_count": null,
   "metadata": {},
   "outputs": [],
   "source": [
    "docs = [[t.lemma_.lower() for t in doc if len(t.orth_) > 3 and not t.is_stop] for doc in reuters_docs]\n",
    "print(docs[:3])"
   ]
  },
  {
   "cell_type": "markdown",
   "metadata": {},
   "source": [
    "Next, we also want to take frequent bigrams into account. After all, if you;re from New England, \"Tom Brady\" is not the same thing as \"Tom\", nor \"Brady\". Let's use `Gensim` for this!\n",
    "\n",
    "First we identify the frequent bigrams in the corpus, then we append them to the list of tokens for the documents in which they appear. This means the bigrams will not be in their correct position in the text, but that's fine: topic models are bag-of-word models that ignore word position anyway."
   ]
  },
  {
   "cell_type": "code",
   "execution_count": 95,
   "metadata": {},
   "outputs": [],
   "source": [
    "import re\n",
    "from gensim.models import Phrases\n",
    "\n",
    "bigram = Phrases(docs, min_count=10)\n",
    "\n",
    "for idx in range(len(docs)):\n",
    "    for token in bigram[docs[idx]]:\n",
    "        if '_' in token:  # bigrams can be recognized by the \"_\" that joins the invidual words\n",
    "            docs[idx].append(token)"
   ]
  },
  {
   "cell_type": "code",
   "execution_count": 97,
   "metadata": {},
   "outputs": [
    {
     "data": {
      "text/plain": [
       "8148"
      ]
     },
     "execution_count": 97,
     "metadata": {},
     "output_type": "execute_result"
    }
   ],
   "source": [
    "len(docs)"
   ]
  },
  {
   "cell_type": "code",
   "execution_count": null,
   "metadata": {},
   "outputs": [],
   "source": [
    "docs[0]"
   ]
  },
  {
   "cell_type": "markdown",
   "metadata": {},
   "source": [
    "Next, we move on to the final Gensim-specific preprocessing steps. \n",
    "\n",
    "First, we create a dictionary representation of the documents. This dictionary will map each word to a unique ID and help us create **bag-of-word** representations of each document. These bag-of-word representations contain the ids of the words in the document, together with their frequency. Additionally, we can remove the least and most frequent words from the vocabulary. This improves the quality of our topic model and speeds up its training. The minimum frequency of a word is expressed as an absolute number, the maximum frequency is the proportion of documents a word is allowed to occur in."
   ]
  },
  {
   "cell_type": "code",
   "execution_count": null,
   "metadata": {},
   "outputs": [],
   "source": [
    "from gensim.corpora import Dictionary\n",
    "\n",
    "dictionary = Dictionary(docs)\n",
    "print('Number of unique words in original documents:', len(dictionary))\n",
    "\n",
    "dictionary.filter_extremes(no_below=3, no_above=0.25)\n",
    "print('Number of unique words after removing rare and common words:', len(dictionary))\n",
    "\n",
    "print(\"Example representation of document 1:\", dictionary.doc2bow(docs[0]))"
   ]
  },
  {
   "cell_type": "code",
   "execution_count": 101,
   "metadata": {},
   "outputs": [
    {
     "name": "stdout",
     "output_type": "stream",
     "text": [
      "Example representation of document 2: [(94, 1), (222, 1), (260, 1), (261, 1), (262, 1), (263, 3), (264, 1), (265, 1), (266, 1), (267, 1), (268, 1), (269, 1), (270, 1), (271, 1), (272, 1), (273, 1), (274, 1), (275, 1), (276, 1), (277, 1), (278, 1), (279, 1), (280, 1), (281, 2), (282, 2), (283, 1), (284, 1), (285, 1), (286, 1), (287, 2), (288, 1), (289, 2), (290, 1), (291, 1), (292, 2), (293, 1), (294, 2)]\n"
     ]
    }
   ],
   "source": [
    "print(\"Example representation of document 2:\", dictionary.doc2bow(docs[1]))"
   ]
  },
  {
   "cell_type": "markdown",
   "metadata": {},
   "source": [
    "Then we create bag-of-word representations for each document in the corpus:"
   ]
  },
  {
   "cell_type": "code",
   "execution_count": 102,
   "metadata": {},
   "outputs": [],
   "source": [
    "corpus = [dictionary.doc2bow(doc) for doc in docs]"
   ]
  },
  {
   "cell_type": "markdown",
   "metadata": {},
   "source": [
    "## Training\n",
    "Now it's time to train our topic model. We do this with the following parameters:\n",
    "\n",
    "- corpus: the bag-of-word representations of our documents\n",
    "- id2token: the mapping from indices to words\n",
    "- num_topics: the number of topics we want the model to identify\n",
    "- chunksize: the number of documents the model sees for every update\n",
    "- passes: the number of times we show the total corpus to the model during training\n",
    "- random_state: we use a seed to ensure reproducibility.\n",
    "- On a corpus of this size, the training will typically take one or two minutes."
   ]
  },
  {
   "cell_type": "code",
   "execution_count": 103,
   "metadata": {},
   "outputs": [
    {
     "name": "stdout",
     "output_type": "stream",
     "text": [
      "Wall time: 17.5 s\n"
     ]
    }
   ],
   "source": [
    "from gensim.models import LdaModel\n",
    "\n",
    "%time model = LdaModel(corpus=corpus, id2word=dictionary, num_topics=10, chunksize=1000, passes=5, random_state=1)"
   ]
  },
  {
   "cell_type": "markdown",
   "metadata": {},
   "source": [
    "## Results\n",
    "We see that each reuters document is a combination of topics, and that the main topics in the corpus are themselves a (latent) mix of keywords.\n",
    "\n",
    "Let's take a look at what the model has learnt, by printing out the ten words that are most characteristic for each of the topics. \n",
    "\n",
    "This shows some interesting patterns already: while some topics are more general (such as 7), others point to some very relevant recurring themes: energy production (topic 1), world economy (topic 3), financials (topic 4), and banking (topic 8)."
   ]
  },
  {
   "cell_type": "code",
   "execution_count": null,
   "metadata": {},
   "outputs": [],
   "source": [
    "for (topic, words) in model.print_topics():\n",
    "    print(topic+1, \":\", words)"
   ]
  },
  {
   "cell_type": "markdown",
   "metadata": {},
   "source": [
    "Another way of inspecting the topics is by visualizing them. \n",
    "\n",
    "This can be done with the `pyLDAvis` library. `PyLDAvis` will show us how popular the topics are in our corpus, how similar the topics are, and which are the most salient words for this topic. \n",
    "```(python)\n",
    "pip install PyLDAvis\n",
    "```\n",
    "\n",
    "Note it's important to set `sort_topics=False` on the call to `pyLDAvis`. If you don't, it will order the topics differently than Gensim.\n",
    "\n",
    ">**WARNING**: Try this at home. It will take a loooooooooooooooooong time.."
   ]
  },
  {
   "cell_type": "code",
   "execution_count": 106,
   "metadata": {},
   "outputs": [
    {
     "name": "stderr",
     "output_type": "stream",
     "text": [
      "d:\\Anaconda3.5.1\\lib\\site-packages\\pyLDAvis\\_prepare.py:257: FutureWarning: Sorting because non-concatenation axis is not aligned. A future version\n",
      "of pandas will change to not sort by default.\n",
      "\n",
      "To accept the future behavior, pass 'sort=False'.\n",
      "\n",
      "To retain the current behavior and silence the warning, pass 'sort=True'.\n",
      "\n",
      "  return pd.concat([default_term_info] + list(topic_dfs))\n"
     ]
    },
    {
     "data": {
      "text/html": [
       "\n",
       "<link rel=\"stylesheet\" type=\"text/css\" href=\"https://cdn.rawgit.com/bmabey/pyLDAvis/files/ldavis.v1.0.0.css\">\n",
       "\n",
       "\n",
       "<div id=\"ldavis_el1992825064541207523687752441\"></div>\n",
       "<script type=\"text/javascript\">\n",
       "\n",
       "var ldavis_el1992825064541207523687752441_data = {\"mdsDat\": {\"x\": [-0.04166343388413788, 0.3826465546597273, -0.15352008243336696, -0.18086085899762208, 0.13972265590920233, -0.14957465080136112, 0.07659790760685109, -0.104591402882479, 0.06066734610207065, -0.02942403527888327], \"y\": [0.07632180211591426, -0.1414643272332825, 0.029263955787011884, -0.07419852845040509, 0.2610208313378845, -0.04774501480793858, -0.16204924722153352, 0.035415751653366134, 0.23951298290525289, -0.21607820608626974], \"topics\": [1, 2, 3, 4, 5, 6, 7, 8, 9, 10], \"cluster\": [1, 1, 1, 1, 1, 1, 1, 1, 1, 1], \"Freq\": [7.467766761779785, 5.6423234939575195, 16.014148712158203, 17.494739532470703, 8.445354461669922, 10.190975189208984, 10.282344818115234, 6.050313949584961, 8.384623527526855, 10.027410507202148]}, \"tinfo\": {\"Category\": [\"Default\", \"Default\", \"Default\", \"Default\", \"Default\", \"Default\", \"Default\", \"Default\", \"Default\", \"Default\", \"Default\", \"Default\", \"Default\", \"Default\", \"Default\", \"Default\", \"Default\", \"Default\", \"Default\", \"Default\", \"Default\", \"Default\", \"Default\", \"Default\", \"Default\", \"Default\", \"Default\", \"Default\", \"Default\", \"Default\", \"Topic1\", \"Topic1\", \"Topic1\", \"Topic1\", \"Topic1\", \"Topic1\", \"Topic1\", \"Topic1\", \"Topic1\", \"Topic1\", \"Topic1\", \"Topic1\", \"Topic1\", \"Topic1\", \"Topic1\", \"Topic1\", \"Topic1\", \"Topic1\", \"Topic1\", \"Topic1\", \"Topic1\", \"Topic1\", \"Topic1\", \"Topic1\", \"Topic1\", \"Topic1\", \"Topic1\", \"Topic1\", \"Topic1\", \"Topic1\", \"Topic1\", \"Topic1\", \"Topic1\", \"Topic1\", \"Topic1\", \"Topic1\", \"Topic1\", \"Topic1\", \"Topic1\", \"Topic1\", \"Topic1\", \"Topic1\", \"Topic1\", \"Topic1\", \"Topic1\", \"Topic1\", \"Topic1\", \"Topic1\", \"Topic1\", \"Topic1\", \"Topic1\", \"Topic1\", \"Topic1\", \"Topic1\", \"Topic1\", \"Topic1\", \"Topic1\", \"Topic1\", \"Topic1\", \"Topic1\", \"Topic1\", \"Topic1\", \"Topic1\", \"Topic1\", \"Topic1\", \"Topic1\", \"Topic2\", \"Topic2\", \"Topic2\", \"Topic2\", \"Topic2\", \"Topic2\", \"Topic2\", \"Topic2\", \"Topic2\", \"Topic2\", \"Topic2\", \"Topic2\", \"Topic2\", \"Topic2\", \"Topic2\", \"Topic2\", \"Topic2\", \"Topic2\", \"Topic2\", \"Topic2\", \"Topic2\", \"Topic2\", \"Topic2\", \"Topic2\", \"Topic2\", \"Topic2\", \"Topic2\", \"Topic2\", \"Topic2\", \"Topic2\", \"Topic2\", \"Topic2\", \"Topic2\", \"Topic2\", \"Topic2\", \"Topic2\", \"Topic2\", \"Topic2\", \"Topic2\", \"Topic2\", \"Topic2\", \"Topic2\", \"Topic2\", \"Topic2\", \"Topic2\", \"Topic2\", \"Topic2\", \"Topic2\", \"Topic3\", \"Topic3\", \"Topic3\", \"Topic3\", \"Topic3\", \"Topic3\", \"Topic3\", \"Topic3\", \"Topic3\", \"Topic3\", \"Topic3\", \"Topic3\", \"Topic3\", \"Topic3\", \"Topic3\", \"Topic3\", \"Topic3\", \"Topic3\", \"Topic3\", \"Topic3\", \"Topic3\", \"Topic3\", \"Topic3\", \"Topic3\", \"Topic3\", \"Topic3\", \"Topic3\", \"Topic3\", \"Topic3\", \"Topic3\", \"Topic3\", \"Topic3\", \"Topic3\", \"Topic3\", \"Topic3\", \"Topic3\", \"Topic3\", \"Topic3\", \"Topic3\", \"Topic3\", \"Topic3\", \"Topic3\", \"Topic3\", \"Topic3\", \"Topic3\", \"Topic3\", \"Topic3\", \"Topic3\", \"Topic3\", \"Topic3\", \"Topic3\", \"Topic3\", \"Topic3\", \"Topic3\", \"Topic3\", \"Topic3\", \"Topic3\", \"Topic3\", \"Topic3\", \"Topic3\", \"Topic3\", \"Topic3\", \"Topic3\", \"Topic3\", \"Topic3\", \"Topic3\", \"Topic3\", \"Topic3\", \"Topic3\", \"Topic3\", \"Topic3\", \"Topic3\", \"Topic3\", \"Topic3\", \"Topic3\", \"Topic3\", \"Topic3\", \"Topic3\", \"Topic4\", \"Topic4\", \"Topic4\", \"Topic4\", \"Topic4\", \"Topic4\", \"Topic4\", \"Topic4\", \"Topic4\", \"Topic4\", \"Topic4\", \"Topic4\", \"Topic4\", \"Topic4\", \"Topic4\", \"Topic4\", \"Topic4\", \"Topic4\", \"Topic4\", \"Topic4\", \"Topic4\", \"Topic4\", \"Topic4\", \"Topic4\", \"Topic4\", \"Topic4\", \"Topic4\", \"Topic4\", \"Topic4\", \"Topic4\", \"Topic4\", \"Topic4\", \"Topic4\", \"Topic4\", \"Topic4\", \"Topic4\", \"Topic4\", \"Topic4\", \"Topic4\", \"Topic4\", \"Topic4\", \"Topic4\", \"Topic4\", \"Topic4\", \"Topic4\", \"Topic4\", \"Topic4\", \"Topic4\", \"Topic4\", \"Topic4\", \"Topic4\", \"Topic4\", \"Topic4\", \"Topic4\", \"Topic4\", \"Topic4\", \"Topic4\", \"Topic4\", \"Topic4\", \"Topic4\", \"Topic4\", \"Topic4\", \"Topic4\", \"Topic4\", \"Topic4\", \"Topic4\", \"Topic4\", \"Topic4\", \"Topic4\", \"Topic4\", \"Topic4\", \"Topic4\", \"Topic5\", \"Topic5\", \"Topic5\", \"Topic5\", \"Topic5\", \"Topic5\", \"Topic5\", \"Topic5\", \"Topic5\", \"Topic5\", \"Topic5\", \"Topic5\", \"Topic5\", \"Topic5\", \"Topic5\", \"Topic5\", \"Topic5\", \"Topic5\", \"Topic5\", \"Topic5\", \"Topic5\", \"Topic5\", \"Topic5\", \"Topic5\", \"Topic5\", \"Topic5\", \"Topic5\", \"Topic5\", \"Topic5\", \"Topic5\", \"Topic5\", \"Topic5\", \"Topic5\", \"Topic5\", \"Topic5\", \"Topic5\", \"Topic5\", \"Topic5\", \"Topic5\", \"Topic5\", \"Topic5\", \"Topic5\", \"Topic5\", \"Topic5\", \"Topic5\", \"Topic5\", \"Topic5\", \"Topic5\", \"Topic5\", \"Topic5\", \"Topic5\", \"Topic5\", \"Topic5\", \"Topic5\", \"Topic5\", \"Topic5\", \"Topic5\", \"Topic5\", \"Topic5\", \"Topic5\", \"Topic6\", \"Topic6\", \"Topic6\", \"Topic6\", \"Topic6\", \"Topic6\", \"Topic6\", \"Topic6\", \"Topic6\", \"Topic6\", \"Topic6\", \"Topic6\", \"Topic6\", \"Topic6\", \"Topic6\", \"Topic6\", \"Topic6\", \"Topic6\", \"Topic6\", \"Topic6\", \"Topic6\", \"Topic6\", \"Topic6\", \"Topic6\", \"Topic6\", \"Topic6\", \"Topic6\", \"Topic6\", \"Topic6\", \"Topic6\", \"Topic6\", \"Topic6\", \"Topic6\", \"Topic6\", \"Topic6\", \"Topic6\", \"Topic6\", \"Topic6\", \"Topic6\", \"Topic6\", \"Topic6\", \"Topic6\", \"Topic6\", \"Topic6\", \"Topic6\", \"Topic6\", \"Topic6\", \"Topic6\", \"Topic6\", \"Topic6\", \"Topic6\", \"Topic6\", \"Topic6\", \"Topic6\", \"Topic6\", \"Topic6\", \"Topic6\", \"Topic6\", \"Topic6\", \"Topic6\", \"Topic6\", \"Topic6\", \"Topic7\", \"Topic7\", \"Topic7\", \"Topic7\", \"Topic7\", \"Topic7\", \"Topic7\", \"Topic7\", \"Topic7\", \"Topic7\", \"Topic7\", \"Topic7\", \"Topic7\", \"Topic7\", \"Topic7\", \"Topic7\", \"Topic7\", \"Topic7\", \"Topic7\", \"Topic7\", \"Topic7\", \"Topic7\", \"Topic7\", \"Topic7\", \"Topic7\", \"Topic7\", \"Topic7\", \"Topic7\", \"Topic7\", \"Topic7\", \"Topic7\", \"Topic7\", \"Topic7\", \"Topic7\", \"Topic7\", \"Topic7\", \"Topic7\", \"Topic7\", \"Topic7\", \"Topic7\", \"Topic7\", \"Topic7\", \"Topic7\", \"Topic7\", \"Topic7\", \"Topic7\", \"Topic7\", \"Topic7\", \"Topic7\", \"Topic7\", \"Topic7\", \"Topic7\", \"Topic7\", \"Topic7\", \"Topic7\", \"Topic7\", \"Topic7\", \"Topic7\", \"Topic7\", \"Topic7\", \"Topic7\", \"Topic7\", \"Topic7\", \"Topic7\", \"Topic7\", \"Topic7\", \"Topic7\", \"Topic7\", \"Topic7\", \"Topic7\", \"Topic7\", \"Topic8\", \"Topic8\", \"Topic8\", \"Topic8\", \"Topic8\", \"Topic8\", \"Topic8\", \"Topic8\", \"Topic8\", \"Topic8\", \"Topic8\", \"Topic8\", \"Topic8\", \"Topic8\", \"Topic8\", \"Topic8\", \"Topic8\", \"Topic8\", \"Topic8\", \"Topic8\", \"Topic8\", \"Topic8\", \"Topic8\", \"Topic8\", \"Topic8\", \"Topic8\", \"Topic8\", \"Topic8\", \"Topic8\", \"Topic8\", \"Topic8\", \"Topic8\", \"Topic8\", \"Topic8\", \"Topic8\", \"Topic8\", \"Topic8\", \"Topic8\", \"Topic8\", \"Topic8\", \"Topic8\", \"Topic8\", \"Topic8\", \"Topic8\", \"Topic8\", \"Topic8\", \"Topic8\", \"Topic8\", \"Topic8\", \"Topic8\", \"Topic8\", \"Topic8\", \"Topic8\", \"Topic8\", \"Topic8\", \"Topic8\", \"Topic8\", \"Topic8\", \"Topic8\", \"Topic8\", \"Topic9\", \"Topic9\", \"Topic9\", \"Topic9\", \"Topic9\", \"Topic9\", \"Topic9\", \"Topic9\", \"Topic9\", \"Topic9\", \"Topic9\", \"Topic9\", \"Topic9\", \"Topic9\", \"Topic9\", \"Topic9\", \"Topic9\", \"Topic9\", \"Topic9\", \"Topic9\", \"Topic9\", \"Topic9\", \"Topic9\", \"Topic9\", \"Topic9\", \"Topic9\", \"Topic9\", \"Topic9\", \"Topic9\", \"Topic9\", \"Topic9\", \"Topic9\", \"Topic9\", \"Topic9\", \"Topic9\", \"Topic9\", \"Topic9\", \"Topic9\", \"Topic9\", \"Topic9\", \"Topic9\", \"Topic9\", \"Topic9\", \"Topic9\", \"Topic9\", \"Topic9\", \"Topic9\", \"Topic9\", \"Topic9\", \"Topic9\", \"Topic9\", \"Topic9\", \"Topic9\", \"Topic9\", \"Topic9\", \"Topic9\", \"Topic9\", \"Topic9\", \"Topic9\", \"Topic9\", \"Topic9\", \"Topic9\", \"Topic9\", \"Topic10\", \"Topic10\", \"Topic10\", \"Topic10\", \"Topic10\", \"Topic10\", \"Topic10\", \"Topic10\", \"Topic10\", \"Topic10\", \"Topic10\", \"Topic10\", \"Topic10\", \"Topic10\", \"Topic10\", \"Topic10\", \"Topic10\", \"Topic10\", \"Topic10\", \"Topic10\", \"Topic10\", \"Topic10\", \"Topic10\", \"Topic10\", \"Topic10\", \"Topic10\", \"Topic10\", \"Topic10\", \"Topic10\", \"Topic10\", \"Topic10\", \"Topic10\", \"Topic10\", \"Topic10\", \"Topic10\", \"Topic10\", \"Topic10\", \"Topic10\", \"Topic10\", \"Topic10\", \"Topic10\", \"Topic10\", \"Topic10\", \"Topic10\", \"Topic10\", \"Topic10\", \"Topic10\", \"Topic10\", \"Topic10\", \"Topic10\", \"Topic10\", \"Topic10\", \"Topic10\", \"Topic10\", \"Topic10\", \"Topic10\", \"Topic10\", \"Topic10\", \"Topic10\", \"Topic10\", \"Topic10\", \"Topic10\", \"Topic10\", \"Topic10\", \"Topic10\", \"Topic10\", \"Topic10\", \"Topic10\", \"Topic10\", \"Topic10\", \"Topic10\", \"Topic10\"], \"Freq\": [4472.0, 4766.0, 2781.0, 4219.0, 1551.0, 3525.0, 2036.0, 1550.0, 3665.0, 2519.0, 1675.0, 2493.0, 2267.0, 1585.0, 867.0, 2228.0, 848.0, 1818.0, 1866.0, 785.0, 1704.0, 759.0, 1637.0, 3201.0, 2759.0, 789.0, 1520.0, 1564.0, 1443.0, 1605.0, 164.68496704101562, 130.2873992919922, 164.89019775390625, 116.64448547363281, 112.68417358398438, 112.43885040283203, 106.48873138427734, 106.23558807373047, 97.05189514160156, 87.88833618164062, 85.60432434082031, 84.60668182373047, 88.48465728759766, 82.57805633544922, 82.54327392578125, 78.5030288696289, 75.56114959716797, 79.50455474853516, 71.69781494140625, 70.53702545166016, 71.25658416748047, 62.40873718261719, 60.08820724487305, 58.758056640625, 57.921329498291016, 57.62145233154297, 57.169166564941406, 53.368560791015625, 52.202144622802734, 52.176109313964844, 112.28404998779297, 518.1983032226562, 414.2245178222656, 225.7060546875, 333.1808776855469, 104.41700744628906, 251.07215881347656, 369.1239013671875, 410.1803894042969, 193.13528442382812, 185.75851440429688, 117.8215560913086, 300.2923583984375, 184.5072021484375, 184.63734436035156, 142.58425903320312, 378.99517822265625, 383.9388427734375, 144.93304443359375, 138.525390625, 276.1609191894531, 293.386474609375, 272.7839660644531, 172.80995178222656, 128.8428497314453, 297.40521240234375, 214.3243408203125, 144.42098999023438, 194.8021697998047, 184.0779266357422, 156.52438354492188, 208.15103149414062, 228.7279815673828, 176.61073303222656, 147.993408203125, 146.63316345214844, 4472.05322265625, 1550.19873046875, 867.0609741210938, 784.71142578125, 758.4760131835938, 462.5212707519531, 452.3812561035156, 359.1875915527344, 248.93759155273438, 247.25482177734375, 213.7995147705078, 196.485107421875, 179.63772583007812, 167.86276245117188, 151.7609405517578, 262.4248046875, 123.27070617675781, 123.02532958984375, 112.42530822753906, 109.50157165527344, 100.48641967773438, 95.04874420166016, 92.73638153076172, 84.74299621582031, 66.44377136230469, 65.33024597167969, 64.60882568359375, 60.272159576416016, 59.537967681884766, 58.0496711730957, 78.63822174072266, 61.17548751831055, 2492.48876953125, 260.6053771972656, 152.30209350585938, 319.6036682128906, 1057.7093505859375, 603.9892578125, 844.2662963867188, 242.5076141357422, 878.4212036132812, 304.93658447265625, 316.0664367675781, 468.3584289550781, 458.28668212890625, 302.46759033203125, 313.6574401855469, 182.584228515625, 365.1817932128906, 218.9340057373047, 166.00062561035156, 131.91741943359375, 121.55105590820312, 117.240234375, 98.9111557006836, 97.36732482910156, 95.99942779541016, 94.15837860107422, 90.54991149902344, 85.1490478515625, 80.13065338134766, 78.21871185302734, 76.83363342285156, 120.25898742675781, 79.59700012207031, 73.40941619873047, 72.5816421508789, 70.33908081054688, 68.54125213623047, 68.39368438720703, 67.57398986816406, 78.31900024414062, 66.13053894042969, 64.21017456054688, 63.20600509643555, 61.67091369628906, 62.72864532470703, 59.57112503051758, 125.817138671875, 98.84600830078125, 135.77105712890625, 269.8349304199219, 176.04495239257812, 98.49430847167969, 201.37840270996094, 131.3112335205078, 121.1106185913086, 291.7997741699219, 140.00503540039062, 244.14244079589844, 360.7560119628906, 349.4459228515625, 484.42901611328125, 408.72100830078125, 429.5946960449219, 498.3157653808594, 620.823974609375, 289.0293273925781, 1458.744873046875, 251.6580047607422, 750.6312255859375, 217.00942993164062, 774.788818359375, 284.40777587890625, 852.9097290039062, 376.35498046875, 214.0714111328125, 273.1390075683594, 667.6494140625, 235.7086639404297, 274.74530029296875, 551.272705078125, 594.2734375, 311.0609130859375, 371.453369140625, 300.9658203125, 442.9996643066406, 565.643798828125, 551.2100830078125, 381.9337463378906, 364.14239501953125, 324.2359924316406, 300.5510559082031, 311.3740234375, 316.29736328125, 304.0262451171875, 187.18060302734375, 157.96128845214844, 188.6144256591797, 135.6171112060547, 148.2442169189453, 126.8887710571289, 124.1739273071289, 114.0300064086914, 114.36951446533203, 113.6763916015625, 111.27849578857422, 108.57513427734375, 106.82799530029297, 104.53450012207031, 105.4557113647461, 102.99918365478516, 100.98560333251953, 98.24286651611328, 96.96762084960938, 95.3409652709961, 93.53545379638672, 88.51593017578125, 132.9388885498047, 352.59893798828125, 79.14630889892578, 79.00392150878906, 77.35504913330078, 76.92314147949219, 75.6012191772461, 72.4988021850586, 565.6925048828125, 171.4728240966797, 93.66755676269531, 106.01911163330078, 140.22161865234375, 337.77337646484375, 2044.4415283203125, 1470.9078369140625, 287.0423278808594, 407.0800476074219, 460.3390808105469, 2576.89501953125, 808.4610595703125, 461.99261474609375, 539.6959838867188, 501.84765625, 1799.0982666015625, 487.2712097167969, 415.7601013183594, 465.6081848144531, 866.6769409179688, 228.59219360351562, 456.6629638671875, 351.52362060546875, 791.9716796875, 411.9823303222656, 323.7066650390625, 297.267333984375, 272.3362731933594, 276.63507080078125, 311.9790954589844, 381.613037109375, 448.7169494628906, 428.2725830078125, 381.932861328125, 368.2333679199219, 514.43017578125, 413.16455078125, 419.9870910644531, 367.96612548828125, 378.646240234375, 356.1452331542969, 481.8255310058594, 452.7129821777344, 303.3669128417969, 240.7617950439453, 219.08224487304688, 210.8819122314453, 175.6808624267578, 169.6608123779297, 166.6461944580078, 143.02154541015625, 141.71649169921875, 114.80817413330078, 128.443603515625, 109.56756591796875, 106.41152954101562, 100.85800170898438, 102.86212921142578, 97.59891510009766, 95.388916015625, 91.4787826538086, 102.84708404541016, 83.51978302001953, 93.19236755371094, 75.9273452758789, 74.17621612548828, 69.83602905273438, 69.20689392089844, 68.3318862915039, 68.32914733886719, 67.43673706054688, 286.7677001953125, 97.1141128540039, 120.29224395751953, 732.2588500976562, 273.95904541015625, 552.8379516601562, 620.8016357421875, 254.96832275390625, 177.000244140625, 799.1541748046875, 933.2247314453125, 474.2384033203125, 1741.791748046875, 427.8305358886719, 445.7164001464844, 835.5194702148438, 438.179443359375, 939.182861328125, 355.35723876953125, 427.1102600097656, 463.8424072265625, 293.9501953125, 336.884765625, 465.9684143066406, 506.54150390625, 331.23663330078125, 369.83697509765625, 279.29296875, 282.2897644042969, 249.95501708984375, 787.4261474609375, 560.0422973632812, 544.3679809570312, 426.07806396484375, 369.9976806640625, 363.7733154296875, 344.7552185058594, 284.05401611328125, 158.76174926757812, 146.9319610595703, 140.83152770996094, 155.73330688476562, 161.5084228515625, 132.9092254638672, 227.53359985351562, 117.32469940185547, 112.90189361572266, 105.7365951538086, 101.92301940917969, 100.63493347167969, 99.97285461425781, 99.86534118652344, 97.59329223632812, 86.16204071044922, 407.98492431640625, 79.06414031982422, 75.44631958007812, 72.5955581665039, 71.04093170166016, 70.24903106689453, 565.71484375, 181.37026977539062, 1928.2083740234375, 85.13423919677734, 163.4182891845703, 453.76416015625, 654.0847778320312, 119.84410095214844, 222.81509399414062, 203.5358123779297, 203.99032592773438, 1551.5042724609375, 889.7510986328125, 309.7583312988281, 332.5710144042969, 216.09901428222656, 504.5975036621094, 216.76361083984375, 566.7250366210938, 209.88848876953125, 244.51760864257812, 328.9497375488281, 201.1481475830078, 221.6133575439453, 425.1231994628906, 277.9113464355469, 249.2589111328125, 265.3121337890625, 247.948974609375, 242.64166259765625, 228.92950439453125, 227.9508056640625, 288.3168029785156, 181.63499450683594, 157.3343048095703, 127.89738464355469, 109.4162368774414, 105.9692153930664, 105.9692153930664, 104.13616180419922, 91.21167755126953, 80.72709655761719, 78.70567321777344, 74.7628173828125, 63.56519317626953, 72.37162780761719, 62.36684036254883, 55.811405181884766, 54.678619384765625, 50.29899978637695, 49.41769790649414, 47.3074836730957, 44.469120025634766, 44.427608489990234, 44.28845977783203, 41.5491828918457, 39.61452102661133, 39.31896209716797, 37.506561279296875, 36.7613525390625, 36.37001037597656, 36.3675651550293, 125.61063385009766, 51.28660583496094, 591.5684814453125, 263.5665588378906, 74.86366271972656, 275.6935729980469, 317.0240173339844, 273.7226867675781, 724.0587768554688, 338.7287902832031, 123.84104919433594, 1182.309814453125, 123.20454406738281, 439.7225646972656, 1815.556396484375, 720.464599609375, 900.4898071289062, 903.6167602539062, 223.58792114257812, 604.1171875, 764.5961303710938, 556.9284057617188, 845.0767822265625, 736.8892822265625, 370.9418640136719, 279.3762512207031, 830.7471923828125, 362.8597412109375, 347.8658447265625, 256.7615661621094, 359.66424560546875, 666.8970336914062, 356.4558410644531, 393.1410217285156, 585.390869140625, 328.6159973144531, 380.5047607421875, 356.9341125488281, 317.16497802734375, 317.580322265625, 333.7497253417969, 263.85382080078125, 182.89759826660156, 182.75161743164062, 155.22682189941406, 149.97947692871094, 104.74464416503906, 98.23265075683594, 84.6191177368164, 67.78978729248047, 56.2584228515625, 55.62213897705078, 54.87556076049805, 52.55655288696289, 51.346343994140625, 834.6786499023438, 48.49822235107422, 48.00025939941406, 45.67365264892578, 44.693389892578125, 39.290470123291016, 36.697166442871094, 36.69917678833008, 35.921875, 35.53108215332031, 35.409934997558594, 34.15734100341797, 34.02749252319336, 33.975608825683594, 33.66913986206055, 32.768123626708984, 1374.4979248046875, 119.26829528808594, 59.05439758300781, 46.64371109008789, 169.33114624023438, 249.780517578125, 103.27008056640625, 250.39852905273438, 315.2720642089844, 156.46063232421875, 251.30099487304688, 237.65989685058594, 115.74254608154297, 408.4319152832031, 143.67958068847656, 167.2500457763672, 176.01943969726562, 200.5981903076172, 449.8730773925781, 127.90483093261719, 208.9680938720703, 238.123779296875, 297.2864074707031, 190.83758544921875, 150.1425018310547, 170.98524475097656, 177.15086364746094, 152.37432861328125, 168.5411834716797, 145.818359375, 788.1141967773438, 330.22174072265625, 222.15342712402344, 165.60537719726562, 161.26893615722656, 121.65785217285156, 107.86325073242188, 102.38906860351562, 104.7391586303711, 97.57156372070312, 94.17236328125, 90.88459014892578, 84.97323608398438, 78.85962677001953, 78.75572967529297, 62.03877258300781, 61.495235443115234, 61.73614501953125, 59.9248046875, 57.44743728637695, 55.49495315551758, 53.3273811340332, 51.931861877441406, 51.0263671875, 50.89883041381836, 48.898677825927734, 48.75004577636719, 48.27602767944336, 47.72772216796875, 46.49315643310547, 122.33711242675781, 237.6825408935547, 81.38860321044922, 254.71726989746094, 893.0745849609375, 140.13665771484375, 1702.6065673828125, 484.3480529785156, 313.60546875, 178.88571166992188, 334.79803466796875, 763.5931396484375, 219.1388702392578, 369.37603759765625, 118.35360717773438, 596.490966796875, 428.19677734375, 263.002197265625, 303.0421142578125, 214.365478515625, 298.90692138671875, 292.14434814453125, 308.904052734375, 488.91290283203125, 269.5984802246094, 256.62274169921875, 295.0469970703125, 247.70269775390625, 304.8520202636719, 363.0502624511719, 231.7902069091797, 213.7718505859375, 230.7316131591797, 296.513427734375, 198.61900329589844, 107.42134857177734, 95.13497924804688, 93.98064422607422, 90.52442169189453, 90.12139892578125, 104.95076751708984, 78.83714294433594, 73.98555755615234, 70.32496643066406, 68.68830108642578, 146.0977783203125, 57.5328483581543, 57.3924674987793, 54.66685104370117, 51.137210845947266, 45.0382080078125, 44.87142562866211, 44.53620147705078, 44.291969299316406, 41.34789276123047, 41.19293212890625, 78.67784118652344, 40.005672454833984, 38.74982452392578, 38.390987396240234, 37.951812744140625, 36.28641128540039, 35.931278228759766, 44.001529693603516, 170.64552307128906, 4179.69384765625, 130.24729919433594, 648.2857666015625, 113.45166778564453, 72.69374084472656, 81.17693328857422, 197.96719360351562, 536.9417724609375, 504.5572509765625, 945.6375732421875, 150.161376953125, 379.2110900878906, 885.2322998046875, 1448.87060546875, 519.1962890625, 838.7028198242188, 471.51800537109375, 359.900634765625, 251.88037109375, 204.71121215820312, 1116.624267578125, 145.08221435546875, 310.1365966796875, 645.1904296875, 561.8357543945312, 208.41348266601562, 299.7232360839844, 235.0845489501953, 555.253662109375, 403.31048583984375, 337.314208984375, 383.0002746582031, 607.4453125, 431.9205017089844, 389.7176818847656, 369.78375244140625, 272.4139709472656, 306.9478759765625, 263.8603210449219, 266.1423645019531], \"Term\": [\"loss\", \"billion\", \"profit\", \"share\", \"revs\", \"1986\", \"tonne\", \"mark\", \"bank\", \"rise\", \"note\", \"sale\", \"rate\", \"quarter\", \"loss_loss\", \"stock\", \"billion_mark\", \"corp\", \"export\", \"oper\", \"include\", \"shrs\", \"dollar\", \"price\", \"trade\", \"stake\", \"1985\", \"april\", \"january\", \"offer\", \"refinery\", \"pipeline\", \"foot\", \"venezuela\", \"cubic\", \"ecuador\", \"franchise\", \"traffic\", \"rainbow\", \"refining\", \"progressive\", \"profitability\", \"drilling\", \"british_petroleum\", \"anchor\", \"liability\", \"zinc\", \"gasoline\", \"proceeding\", \"texaco\", \"drill\", \"payable_april\", \"seaman\", \"packaging\", \"newmont\", \"basin\", \"bankamerica\", \"repair\", \"hernandez\", \"discovery\", \"secondary\", \"barrel\", \"southern\", \"exploration\", \"petroleum\", \"vessel\", \"strike\", \"energy\", \"crude\", \"texas\", \"city\", \"shipping\", \"pacific\", \"ship\", \"field\", \"california\", \"reserve\", \"state\", \"port\", \"natural\", \"union\", \"loan\", \"own\", \"gulf\", \"east\", \"week\", \"federal\", \"north\", \"average\", \"spokesman\", \"plant\", \"corp\", \"bank\", \"production\", \"association\", \"area\", \"loss\", \"revs\", \"loss_loss\", \"oper\", \"shrs\", \"profit_loss\", \"mth\", \"revs_shrs\", \"revs_note\", \"loss_profit\", \"gain_dlrs\", \"discontinue\", \"loss_revs\", \"profit_profit\", \"include_gain\", \"pretax\", \"oper_loss\", \"revs_mth\", \"discontinue_operation\", \"profit_revs\", \"fix_asset\", \"loss_oper\", \"oper_profit\", \"shrs_note\", \"include_credit\", \".1986\", \"note_current\", \"discontinued\", \"carryforward\", \"sale_mth\", \"operating_profit\", \"restate\", \"profit\", \"extraordinary\", \"pretax_profit\", \"exclude\", \"note\", \"gain\", \"include\", \"charge\", \"sale\", \"credit\", \"operation\", \"1986\", \"share\", \"quarter\", \"billion\", \"end\", \"beef\", \"gatt\", \"organization\", \"meat\", \"lipc\", \"appeal\", \"international_coffee\", \"tariffs\", \"general_agreement\", \"tariffs_trade\", \"export_quota\", \"duty\", \"exposure\", \"bilateral\", \"lyng\", \"practice\", \"congressional\", \"guaranty\", \"dominate\", \"hear\", \"siemens\", \"clercq\", \"ruling\", \"trade_representative\", \"appeal_court\", \"violate\", \"refiner\", \"nuclear\", \"favor\", \"financial_service\", \"legislation\", \"settle\", \"dispute\", \"court\", \"subsidy\", \"visit\", \"representative\", \"impose\", \"urge\", \"negotiation\", \"tariff\", \"farm\", \"states\", \"united_states\", \"talk\", \"proposal\", \"united\", \"minister\", \"industry\", \"committee\", \"trade\", \"community\", \"tell\", \"reagan\", \"official\", \"administration\", \"government\", \"program\", \"senate\", \"tell_reuters\", \"country\", \"decision\", \"canadian\", \"plan\", \"import\", \"reuters\", \"president\", \"consider\", \"meeting\", \"japan\", \"agreement\", \"spokesman\", \"cost\", \"state\", \"payment\", \"issue\", \"international\", \"export\", \"stability\", \"paris_agreement\", \"treasury_secretary\", \"mulford\", \"james_baker\", \"dollar_fall\", \"seasonally\", \"money_supply\", \"lending\", \"intervene\", \"sentiment\", \"seasonally_adjust\", \"lawson\", \"broad\", \"stabilize\", \"band\", \"monetary_policy\", \"paris_accord\", \"mortgage\", \"poll\", \"remark\", \"imbalance\", \"iran\", \"baker\", \"treasury_bill\", \"conservative\", \"volcker\", \"miyazawa\", \"missile\", \"chip\", \"paris\", \"sterling\", \"economic_policy\", \"current_level\", \".baker\", \"interest_rate\", \"rate\", \"dollar\", \"monetary\", \"exchange_rate\", \"central_bank\", \"bank\", \"currency\", \"treasury\", \"money\", \"central\", \"market\", \"nation\", \"dealer\", \"japanese\", \"japan\", \"foreign_exchange\", \"policy\", \"point\", \"exchange\", \"intervention\", \"germany\", \"think\", \"economist\", \"pressure\", \"economy\", \"economic\", \"interest\", \"today\", \".but\", \"major\", \"trade\", \"week\", \"agreement\", \"foreign\", \"month\", \"level\", \"qtly\", \"split\", \"payable\", \"sets\", \"qtly_prior\", \"holder\", \"undisclosed\", \"payout\", \"april_record\", \"record_april\", \"stock_split\", \"sets_quarterly\", \"class\", \"eagle\", \"bullion\", \"gold_bullion\", \"definitive\", \"record_march\", \"video\", \"privately\", \"preferred\", \"meston\", \"adjust_stock\", \"propose_merger\", \"holder_record\", \".brown\", \".terms\", \"board_declare\", \"undisclosed_term\", \"purolator\", \"quarterly\", \"intent\", \"silver\", \"dividend\", \"subject\", \"prior\", \"shareholder\", \"approval\", \"declare\", \"record\", \"april\", \"merger\", \"share\", \"asset\", \"acquire\", \"corp\", \"acquisition\", \"stock\", \"subsidiary\", \"common\", \"unit\", \"approve\", \"complete\", \"cash\", \"march\", \"board\", \"agreement\", \"own\", \"agree\", \"sell\", \"wheat\", \"sugar\", \"coffee\", \"crop\", \"cocoa\", \"buffer\", \"buffer_stock\", \"delegate\", \"maize\", \"lake\", \"vegetable\", \"feed\", \"bushel\", \"ecus\", \"soybean\", \"kilo\", \"icco\", \".gold\", \"rebate\", \"hectare\", \"dauster\", \"rain\", \"roaster\", \"redundancy\", \"corn\", \"bag\", \"drought\", \"producer_consumer\", \"barley\", \"trade_source\", \"grain\", \"harvest\", \"tonne\", \"malaysian\", \"coin\", \"quota\", \"producer\", \"winter\", \"usda\", \"season\", \"farmer\", \"price\", \"export\", \"consumer\", \"agriculture\", \"shipment\", \"week\", \"trader\", \"stock\", \"soviet\", \"cent\", \"world\", \"exporter\", \"commodity\", \"market\", \"source\", \"estimate\", \"month\", \"high\", \"april\", \"country\", \"international\", \"ounce\", \"ton\", \"earn_dlrs\", \"sees\", \"sale_shrs\", \"coarse\", \"coarse_grain\", \"flat\", \"fiscal_1987\", \"earlier_report\", \"fiscal_1986\", \"telegraph\", \"satisfactory\", \".sales\", \"sulphur\", \"include_charge\", \"industrial_production\", \"calendar_1986\", \"krupp\", \"short_ton\", \"miner\", \"sales\", \"pope\", \"january_december\", \"diamond\", \"gold_silver\", \"research_development\", \"november_december\", \"taft\", \"annual_capacity\", \"acre\", \"note_prior\", \"gold\", \"fourth_quarter\", \"cotton\", \"steel\", \"fourth\", \"earn\", \"earning\", \"fiscal\", \"second_half\", \"quarter\", \"lease\", \"revenue\", \"1986\", \"production\", \"report\", \"1987\", \"year_earlier\", \"result\", \"1985\", \"cost\", \"expect\", \"increase\", \"earlier\", \"second\", \"sale\", \"december\", \"end\", \"output\", \"compare\", \"rise\", \"estimate\", \"high\", \"price\", \"low\", \"fall\", \"january\", \"decline\", \"total\", \"month\", \"bundesbank\", \"incoming\", \"incoming_order\", \"saudi\", \"group_turnover\", \"ringgit\", \"arabia\", \"saudi_arabia\", \"negara\", \"airline\", \"dixons\", \"drain\", \"predecessor\", \".parent\", \"billion_mark\", \"unclear\", \"print\", \"caesars\", \"usair\", \"circulation\", \"software\", \".trading\", \"denominate\", \"night_close\", \"futures\", \"regular_dividend\", \".call\", \"hill\", \"cyacq\", \"credit_guarantee\", \"mark\", \"rubber\", \"morgan_guaranty\", \"mature\", \"west_german\", \"german\", \"liquidity\", \"trading\", \"credit\", \"facility\", \"order\", \"tender\", \"fix\", \"group\", \"contract\", \"turnover\", \"future\", \"west\", \"bank\", \"standard\", \"world\", \"exchange\", \"market\", \"term\", \"dealer\", \"offer\", \"month\", \"interest\", \"price\", \"today\", \"stake\", \"billion_franc\", \"interstate\", \"filing\", \"southern_pacific\", \"kansas\", \"offering\", \"exchange_commission\", \"bonus\", \"kansas_city\", \"glass\", \"securities_exchange\", \"allied\", \"commodity_credit\", \"total_outstanding\", \"complete_sale\", \"durum\", \"conservation\", \"bass\", \".dlrs\", \"gramm\", \"tell_securities\", \"fairchild\", \"seek_control\", \"enhancement\", \"filing_securities\", \"soviets\", \"export_enhancement\", \"gencorp\", \"raise_stake\", \"shearson\", \"takeover\", \"medical\", \"securities\", \"offer\", \"estate\", \"share\", \"investment\", \"management\", \"equity\", \"commission\", \"group\", \"investor\", \"firm\", \"real_estate\", \"corp\", \"sell\", \"control\", \"buy\", \"outstanding\", \"common\", \"acquire\", \"hold\", \"stock\", \"acquisition\", \"capital\", \"total\", \"statement\", \"exchange\", \"sale\", \"merger\", \"franc\", \"cash\", \"current_account\", \"statistics\", \".world\", \"crown\", \"oper_oper\", \"survey\", \"hoechst\", \"south_korea\", \"south_africa\", \"oecd\", \"balance_payment\", \"peseta\", \"provisional\", \"rand\", \"turnover_billion\", \"extraordinary_item\", \"gross_national\", \"billion_peseta\", \"exclude_loss\", \"keating\", \"external_debt\", \"ministers\", \"public_sector\", \"guilde\", \"european_monetary\", \"gross_domestic\", \"south_african\", \"turnaround\", \"oper_exclude\", \"debit\", \"trade_balance\", \"taiwan\", \"billion\", \"korea\", \"surplus\", \"unemployment\", \"foreign_currency\", \"expenditure\", \"trade_surplus\", \"account\", \"deficit\", \"january\", \"index\", \"sector\", \"february\", \"rise\", \"growth\", \"fall\", \"figure\", \"franc\", \"south\", \"balance\", \"1986\", \"spending\", \"forecast\", \"export\", \"1985\", \"office\", \"domestic\", \"turnover\", \"month\", \"current\", \"compare\", \"foreign\", \"trade\", \"increase\", \"1987\", \"government\", \"debt\", \"import\", \"economic\", \"decline\"], \"Total\": [4472.0, 4766.0, 2781.0, 4219.0, 1551.0, 3525.0, 2036.0, 1550.0, 3665.0, 2519.0, 1675.0, 2493.0, 2267.0, 1585.0, 867.0, 2228.0, 848.0, 1818.0, 1866.0, 785.0, 1704.0, 759.0, 1637.0, 3201.0, 2759.0, 789.0, 1520.0, 1564.0, 1443.0, 1605.0, 165.5036163330078, 131.1062469482422, 165.99147033691406, 117.46324920654297, 113.50291442871094, 113.25979614257812, 107.30784606933594, 107.05450439453125, 97.8707504272461, 88.70897674560547, 86.42315673828125, 85.4267578125, 89.35601806640625, 83.3971939086914, 83.36367797851562, 79.32197570800781, 76.37985229492188, 80.37699890136719, 72.5177001953125, 71.35712432861328, 72.0855484008789, 63.22795104980469, 60.906959533691406, 59.57695770263672, 58.740135192871094, 58.44013214111328, 57.988155364990234, 54.187259674072266, 53.020755767822266, 52.99485778808594, 114.10953521728516, 542.8637084960938, 436.79364013671875, 236.54347229003906, 370.4837341308594, 109.84601593017578, 298.5697021484375, 462.80181884765625, 527.5445556640625, 231.03973388671875, 224.1855010986328, 131.31285095214844, 421.89019775390625, 234.40219116210938, 247.05174255371094, 182.83241271972656, 810.5340576171875, 856.5933227539062, 198.1918182373047, 188.99620056152344, 627.1782836914062, 748.4969482421875, 723.4555053710938, 320.3499755859375, 170.24830627441406, 1389.5159912109375, 629.8214111328125, 255.5442352294922, 729.6294555664062, 817.9827270507812, 423.05255126953125, 1818.7891845703125, 3665.854248046875, 1186.5870361328125, 444.2447814941406, 523.2826538085938, 4472.9453125, 1551.01953125, 867.881103515625, 785.5335083007812, 759.29736328125, 463.3412780761719, 453.2017517089844, 360.00787353515625, 249.75775146484375, 248.07485961914062, 214.6197509765625, 197.30564880371094, 180.45777893066406, 168.68280029296875, 152.60154724121094, 264.0571594238281, 124.09087371826172, 123.84547424316406, 113.24569702148438, 110.32164764404297, 101.32410430908203, 95.86882781982422, 93.55645751953125, 85.5630874633789, 67.26387786865234, 66.15039825439453, 65.4289779663086, 61.09232711791992, 60.358062744140625, 58.86981201171875, 79.90076446533203, 62.04896545410156, 2781.1533203125, 272.3277587890625, 161.2691650390625, 415.8540344238281, 1675.129150390625, 909.2384643554688, 1704.7474365234375, 372.1343078613281, 2493.367431640625, 802.8482666015625, 910.4976196289062, 3525.495849609375, 4219.58447265625, 1585.513427734375, 4766.7509765625, 732.72021484375, 366.11614990234375, 219.7575225830078, 166.85379028320312, 132.74185180664062, 122.37487030029297, 118.06388854980469, 99.7347412109375, 98.19086456298828, 96.82293701171875, 94.98188781738281, 91.37355041503906, 85.97599029541016, 80.95451354980469, 79.05113983154297, 77.65713500976562, 121.56192779541016, 80.46142578125, 74.23382568359375, 73.40586853027344, 71.1627197265625, 69.36591339111328, 69.21713256835938, 68.39747619628906, 79.28104400634766, 66.95449829101562, 65.0374755859375, 64.02979278564453, 62.49489212036133, 63.578857421875, 60.39535140991211, 128.5732421875, 101.13585662841797, 140.66273498535156, 286.62188720703125, 187.03179931640625, 101.59182739257812, 217.18649291992188, 137.9402618408203, 127.3941650390625, 328.22296142578125, 149.03123474121094, 286.3316955566406, 445.26446533203125, 434.6819763183594, 636.3544311523438, 532.0905151367188, 568.45654296875, 680.3826904296875, 932.7554321289062, 372.0869140625, 2759.922119140625, 319.9875793457031, 1293.292236328125, 269.01239013671875, 1361.3702392578125, 384.0815124511719, 1632.677490234375, 571.178955078125, 267.21636962890625, 376.8050231933594, 1319.6397705078125, 310.13275146484375, 385.29681396484375, 1069.9571533203125, 1195.04345703125, 472.62640380859375, 638.9747924804688, 470.29266357421875, 939.8298950195312, 1469.8974609375, 1613.3846435546875, 817.9827270507812, 1069.1158447265625, 856.5933227539062, 601.5874633789062, 876.9033203125, 1165.2603759765625, 1866.4490966796875, 188.1597442626953, 158.82679748535156, 189.67172241210938, 136.45361328125, 149.2130889892578, 127.72230529785156, 125.00878143310547, 114.86296844482422, 115.20599365234375, 114.51034545898438, 112.11141967773438, 109.40919494628906, 107.66107940673828, 105.36738586425781, 106.29652404785156, 103.83180236816406, 101.82220458984375, 99.0759506225586, 97.80503845214844, 96.17411804199219, 94.3796157836914, 89.36093139648438, 134.28465270996094, 356.2126159667969, 79.97918701171875, 79.83671569824219, 78.1877212524414, 77.76530456542969, 76.43390655517578, 73.33147430419922, 572.6039428710938, 173.81011962890625, 94.7850341796875, 107.56023406982422, 143.0819549560547, 353.76568603515625, 2267.93212890625, 1637.1256103515625, 304.3456726074219, 445.1258544921875, 524.0543212890625, 3665.854248046875, 1054.60888671875, 563.41943359375, 684.2836303710938, 652.731201171875, 2952.24169921875, 683.82861328125, 568.8975219726562, 658.0340576171875, 1469.8974609375, 274.7176818847656, 670.7897338867188, 491.7068786621094, 1470.1767578125, 623.522216796875, 450.7469787597656, 426.6365051269531, 387.51959228515625, 402.18719482421875, 515.8719482421875, 773.046875, 1097.1885986328125, 1021.6592407226562, 871.7501220703125, 814.2997436523438, 2759.922119140625, 1389.5159912109375, 1613.3846435546875, 1069.068603515625, 2011.0068359375, 920.5875244140625, 482.6405944824219, 453.58837890625, 304.18280029296875, 241.57691955566406, 219.89735412597656, 211.69735717773438, 176.49644470214844, 170.4759521484375, 167.46128845214844, 143.83663940429688, 142.5316925048828, 115.6232681274414, 129.3617706298828, 110.38334655761719, 107.23016357421875, 101.67428588867188, 103.71723175048828, 98.41402435302734, 96.22592163085938, 92.29418182373047, 103.78010559082031, 84.33502197265625, 94.15596771240234, 76.7429428100586, 74.99134063720703, 70.65230560302734, 70.02601623535156, 69.14698791503906, 69.14427185058594, 68.251953125, 292.1824645996094, 98.42782592773438, 124.54345703125, 859.8325805664062, 306.0519714355469, 712.0120239257812, 811.7030639648438, 309.5911560058594, 202.5339813232422, 1287.0572509765625, 1564.0731201171875, 747.8090209960938, 4219.58447265625, 675.5762939453125, 744.7333984375, 1818.7891845703125, 764.0922241210938, 2228.48779296875, 574.983154296875, 760.3294067382812, 871.2980346679688, 444.6310729980469, 550.480224609375, 975.5848388671875, 1526.808349609375, 838.5267944335938, 1613.3846435546875, 723.4555053710938, 839.1300048828125, 1131.9742431640625, 788.3987426757812, 560.8640747070312, 545.2855834960938, 426.972412109375, 370.81927490234375, 364.5948791503906, 345.5767822265625, 284.94183349609375, 159.5833282470703, 147.760986328125, 141.65489196777344, 156.6551513671875, 162.49046325683594, 133.7308807373047, 229.0514678955078, 118.14643096923828, 113.72345733642578, 106.55935668945312, 102.74459838867188, 101.45762634277344, 100.79444122314453, 100.68696594238281, 98.4148941040039, 86.98424530029297, 411.8998718261719, 79.8857192993164, 76.26797485351562, 73.41714477539062, 71.86402130126953, 71.07118225097656, 573.9718017578125, 183.58447265625, 2036.1453857421875, 86.36199951171875, 170.03932189941406, 505.97540283203125, 757.2273559570312, 124.07254028320312, 252.8200225830078, 235.2519073486328, 240.1554718017578, 3201.44970703125, 1866.4490966796875, 486.12921142578125, 545.810791015625, 303.89031982421875, 1389.5159912109375, 328.08099365234375, 2228.48779296875, 311.595947265625, 456.1763916015625, 1003.9500732421875, 295.318115234375, 391.2491760253906, 2952.24169921875, 808.0593872070312, 856.640380859375, 2011.0068359375, 1146.241455078125, 1564.0731201171875, 1319.6397705078125, 1165.2603759765625, 289.14910888671875, 182.47300720214844, 158.16561889648438, 128.7286376953125, 110.2477035522461, 106.80060577392578, 106.80060577392578, 104.96778869628906, 92.04340362548828, 81.55844116210938, 79.53687286376953, 75.59488677978516, 64.3970718383789, 73.31901550292969, 63.198150634765625, 56.643287658691406, 55.51465606689453, 51.130393981933594, 50.24906539916992, 48.138675689697266, 45.30056381225586, 45.25920867919922, 45.120147705078125, 42.38252639770508, 40.446285247802734, 40.1502799987793, 38.338199615478516, 37.593929290771484, 37.20136642456055, 37.19945526123047, 129.32470703125, 52.61763381958008, 622.3341064453125, 280.2489013671875, 77.5897216796875, 298.2694091796875, 344.4799499511719, 300.7275390625, 856.0059814453125, 399.7298583984375, 135.83192443847656, 1585.513427734375, 136.55911254882812, 563.330078125, 3525.495849609375, 1186.5870361328125, 1574.0391845703125, 1605.881103515625, 301.57171630859375, 1074.5516357421875, 1520.2232666015625, 1069.1158447265625, 1899.2176513671875, 1617.795166015625, 671.93115234375, 452.19390869140625, 2493.367431640625, 710.3807983398438, 732.72021484375, 464.1734619140625, 837.2318115234375, 2519.047119140625, 856.640380859375, 1146.241455078125, 3201.44970703125, 855.91455078125, 1666.23193359375, 1443.0999755859375, 972.162353515625, 1182.8489990234375, 2011.0068359375, 264.6939392089844, 183.7337646484375, 183.58779907226562, 156.08119201660156, 150.81570434570312, 105.58084869384766, 99.06878662109375, 85.45526885986328, 68.62623596191406, 57.094669342041016, 56.45820236206055, 55.71162414550781, 53.39458084106445, 52.18497848510742, 848.4547119140625, 49.33789825439453, 48.8365478515625, 46.51066207885742, 45.529441833496094, 40.1266975402832, 37.533973693847656, 37.53656005859375, 36.75877380371094, 36.367408752441406, 36.24614334106445, 34.99364471435547, 34.86357498168945, 34.81216049194336, 34.50519943237305, 33.604209899902344, 1550.1729736328125, 126.77174377441406, 64.0018539428711, 50.011295318603516, 226.430419921875, 362.296630859375, 153.10182189941406, 519.1051635742188, 802.8482666015625, 303.829833984375, 658.8963623046875, 611.3374633789062, 205.2824249267578, 1844.1492919921875, 314.50213623046875, 429.79180908203125, 507.7371826171875, 724.3839721679688, 3665.854248046875, 306.75628662109375, 1003.9500732421875, 1470.1767578125, 2952.24169921875, 1028.6072998046875, 568.8975219726562, 1605.8056640625, 2011.0068359375, 1097.1885986328125, 3201.44970703125, 1021.6592407226562, 789.5652465820312, 331.03228759765625, 222.9637451171875, 166.41539001464844, 162.0790252685547, 122.46797180175781, 108.67719268798828, 103.19892120361328, 105.57438659667969, 98.38160705566406, 94.9825439453125, 91.69454193115234, 85.7887191772461, 79.66964721679688, 79.56558227539062, 62.84884262084961, 62.30741882324219, 62.554344177246094, 60.735111236572266, 58.25944900512695, 56.306522369384766, 54.137229919433594, 52.74180603027344, 51.83621597290039, 51.70876693725586, 49.708534240722656, 49.560211181640625, 49.085968017578125, 48.5375862121582, 47.303043365478516, 125.54597473144531, 255.7762451171875, 84.70148468017578, 302.1279602050781, 1605.8056640625, 178.18382263183594, 4219.58447265625, 871.346923828125, 508.58984375, 260.9199523925781, 609.5853881835938, 1844.1492919921875, 356.9927978515625, 741.75830078125, 156.67660522460938, 1818.7891845703125, 1131.9742431640625, 543.7821655273438, 685.2433471679688, 404.77984619140625, 760.3294067382812, 744.7333984375, 892.1915283203125, 2228.48779296875, 764.0922241210938, 742.3924560546875, 1182.8489990234375, 768.2700805664062, 1470.1767578125, 2493.367431640625, 747.8090209960938, 604.6072387695312, 975.5848388671875, 297.3552551269531, 199.49607849121094, 108.26337432861328, 95.97573852539062, 94.82170867919922, 91.36531829833984, 90.96232604980469, 105.95156860351562, 79.67784118652344, 74.82626342773438, 71.16564178466797, 69.52901458740234, 147.9795684814453, 58.37347412109375, 58.237648010253906, 55.50931167602539, 51.98070526123047, 45.87894821166992, 45.713191986083984, 45.37685775756836, 45.13274383544922, 42.18955993652344, 42.033695220947266, 80.33267211914062, 40.849693298339844, 39.59043502807617, 39.23175811767578, 38.793617248535156, 37.12746810913086, 36.772098541259766, 45.0526237487793, 177.30874633789062, 4766.7509765625, 138.68212890625, 758.9374389648438, 126.79424285888672, 78.18830871582031, 88.65106201171875, 239.48394775390625, 729.2569580078125, 706.03759765625, 1443.0999755859375, 178.43385314941406, 515.5078125, 1375.3802490234375, 2519.047119140625, 770.8739013671875, 1666.23193359375, 835.016357421875, 604.6072387695312, 406.38140869140625, 312.9054870605469, 3525.495849609375, 192.73182678222656, 591.7476806640625, 1866.4490966796875, 1520.2232666015625, 331.68450927734375, 611.6917724609375, 429.79180908203125, 2011.0068359375, 1152.475830078125, 837.2318115234375, 1069.068603515625, 2759.922119140625, 1617.795166015625, 1605.881103515625, 1632.677490234375, 728.2401123046875, 1195.04345703125, 773.046875, 972.162353515625], \"loglift\": [30.0, 29.0, 28.0, 27.0, 26.0, 25.0, 24.0, 23.0, 22.0, 21.0, 20.0, 19.0, 18.0, 17.0, 16.0, 15.0, 14.0, 13.0, 12.0, 11.0, 10.0, 9.0, 8.0, 7.0, 6.0, 5.0, 4.0, 3.0, 2.0, 1.0, 2.589600086212158, 2.5882999897003174, 2.587899923324585, 2.587599992752075, 2.5873000621795654, 2.5873000621795654, 2.586899995803833, 2.586899995803833, 2.586199998855591, 2.5852999687194824, 2.585099935531616, 2.58489990234375, 2.5848000049591064, 2.584700107574463, 2.584700107574463, 2.584199905395508, 2.5838000774383545, 2.583699941635132, 2.583199977874756, 2.5829999446868896, 2.5829999446868896, 2.5815000534057617, 2.5810000896453857, 2.580699920654297, 2.5804998874664307, 2.5804998874664307, 2.580399990081787, 2.579400062561035, 2.5789999961853027, 2.5789999961853027, 2.578399896621704, 2.548099994659424, 2.5415000915527344, 2.5476999282836914, 2.4883999824523926, 2.5439000129699707, 2.421299934387207, 2.3684000968933105, 2.342900037765503, 2.4154000282287598, 2.4065001010894775, 2.4862000942230225, 2.2546000480651855, 2.3552000522613525, 2.3034000396728516, 2.345900058746338, 1.8344000577926636, 1.792099952697754, 2.281599998474121, 2.283900022506714, 1.7742999792099, 1.6579999923706055, 1.6191999912261963, 1.9773999452590942, 2.3159000873565674, 1.0529999732971191, 1.5166000127792358, 2.023900032043457, 1.2740000486373901, 1.1030999422073364, 1.6002999544143677, 0.4268999993801117, -0.17970000207424164, 0.6897000074386597, 1.4953999519348145, 1.3223999738693237, 2.8747000694274902, 2.874300003051758, 2.8738999366760254, 2.873800039291382, 2.873800039291382, 2.8731000423431396, 2.8731000423431396, 2.8726000785827637, 2.8715999126434326, 2.8715999126434326, 2.871000051498413, 2.870699882507324, 2.870300054550171, 2.869999885559082, 2.8694000244140625, 2.8687000274658203, 2.8682000637054443, 2.8682000637054443, 2.8675999641418457, 2.8673999309539795, 2.8666000366210938, 2.866300106048584, 2.8661000728607178, 2.8652000427246094, 2.862600088119507, 2.8624000549316406, 2.862299919128418, 2.8613998889923096, 2.8612000942230225, 2.86080002784729, 2.8589000701904297, 2.8606998920440674, 2.7653000354766846, 2.830899953842163, 2.817699909210205, 2.611599922180176, 2.41510009765625, 2.4658000469207764, 2.1721999645233154, 2.446700096130371, 1.8315999507904053, 1.9068000316619873, 1.8167999982833862, 0.8562999963760376, 0.6549000144004822, 1.2181999683380127, 0.15379999577999115, 1.4852999448776245, 1.8291000127792358, 1.8279000520706177, 1.8265999555587769, 1.8255000114440918, 1.8249000310897827, 1.8246999979019165, 1.8234000205993652, 1.8233000040054321, 1.823199987411499, 1.8229999542236328, 1.82260000705719, 1.8220000267028809, 1.8214999437332153, 1.8210999965667725, 1.8209999799728394, 1.8208999633789062, 1.8208999633789062, 1.8205000162124634, 1.8203999996185303, 1.820099949836731, 1.819700002670288, 1.819700002670288, 1.819599986076355, 1.8194999694824219, 1.8193000555038452, 1.8188999891281128, 1.8186999559402466, 1.8184000253677368, 1.8181999921798706, 1.8179999589920044, 1.809999942779541, 1.8087999820709229, 1.7963000535964966, 1.771299958229065, 1.7711999416351318, 1.8006999492645264, 1.756100058555603, 1.7824000120162964, 1.7811000347137451, 1.7141000032424927, 1.7691999673843384, 1.6722999811172485, 1.6211999654769897, 1.6133999824523926, 1.558899998664856, 1.5678999423980713, 1.5515999794006348, 1.520300030708313, 1.4246000051498413, 1.5791000127792358, 1.194100022315979, 1.5915000438690186, 1.2877000570297241, 1.6168999671936035, 1.2680000066757202, 1.5312999486923218, 1.1823999881744385, 1.4144999980926514, 1.6098999977111816, 1.5099999904632568, 1.1503000259399414, 1.5572999715805054, 1.493499994277954, 1.1685999631881714, 1.1331000328063965, 1.4134000539779663, 1.2892999649047852, 1.3853000402450562, 1.0795999765396118, 0.8766999840736389, 0.7577000260353088, 1.070099949836731, 0.7547000050544739, 0.8601999878883362, 1.1376999616622925, 0.7962999939918518, 0.5277000069618225, 0.017000000923871994, 1.7381000518798828, 1.7378000020980835, 1.7376999855041504, 1.7371000051498413, 1.736799955368042, 1.7367000579833984, 1.7366000413894653, 1.7359999418258667, 1.7359999418258667, 1.7359999418258667, 1.73580002784729, 1.7355999946594238, 1.7354999780654907, 1.7352999448776245, 1.7352999448776245, 1.735200047492981, 1.7350000143051147, 1.7347999811172485, 1.7346999645233154, 1.7345999479293823, 1.7343000173568726, 1.7338000535964966, 1.733199954032898, 1.7331000566482544, 1.732800006866455, 1.732800006866455, 1.7325999736785889, 1.7323999404907227, 1.732300043106079, 1.7317999601364136, 1.7310999631881714, 1.729699969291687, 1.7314000129699707, 1.7288000583648682, 1.723099946975708, 1.6970000267028809, 1.6395000219345093, 1.636199951171875, 1.6847000122070312, 1.6539000272750854, 1.6136000156402588, 1.3907999992370605, 1.4774999618530273, 1.544800043106079, 1.5059000253677368, 1.4803999662399292, 1.2480000257492065, 1.4043999910354614, 1.4297000169754028, 1.3974000215530396, 1.215000033378601, 1.559499979019165, 1.3588000535964966, 1.4076999425888062, 1.1246999502182007, 1.3288999795913696, 1.4121999740600586, 1.3819999694824219, 1.3904999494552612, 1.3690999746322632, 1.2403000593185425, 1.0372999906539917, 0.8492000102996826, 0.8737999796867371, 0.9179999828338623, 0.9496999979019165, 0.06340000033378601, 0.5303999781608582, 0.39739999175071716, 0.6766999959945679, 0.07349999994039536, 0.7936000227928162, 2.469899892807007, 2.469599962234497, 2.468899965286255, 2.4681999683380127, 2.4677999019622803, 2.4677000045776367, 2.466900110244751, 2.4667999744415283, 2.4667000770568848, 2.46589994430542, 2.4658000469207764, 2.4644999504089355, 2.464400053024292, 2.464099884033203, 2.463900089263916, 2.4635000228881836, 2.4632999897003174, 2.463200092315674, 2.4628000259399414, 2.4626998901367188, 2.4625000953674316, 2.4618000984191895, 2.4612998962402344, 2.460900068283081, 2.460599899291992, 2.45989990234375, 2.4598000049591064, 2.459700107574463, 2.459700107574463, 2.4595000743865967, 2.4528000354766846, 2.4581000804901123, 2.436800003051758, 2.311000108718872, 2.36080002784729, 2.2184998989105225, 2.203399896621704, 2.277400016784668, 2.3368000984191895, 1.9950000047683716, 1.955199956893921, 2.0160999298095703, 1.5866999626159668, 2.014699935913086, 1.9581999778747559, 1.6936999559402466, 1.9155000448226929, 1.6074999570846558, 1.9903000593185425, 1.8947999477386475, 1.8410999774932861, 2.0576999187469482, 1.9804999828338623, 1.7325999736785889, 1.3681999444961548, 1.5427000522613525, 0.9984999895095825, 1.5197999477386475, 1.382099986076355, 0.9610999822616577, 2.282399892807007, 2.2822000980377197, 2.2820000648498535, 2.281599998474121, 2.281399965286255, 2.281399965286255, 2.2813000679016113, 2.2804999351501465, 2.2785000801086426, 2.2780001163482666, 2.2778000831604004, 2.2778000831604004, 2.277600049972534, 2.2774999141693115, 2.2769999504089355, 2.276700019836426, 2.276400089263916, 2.275899887084961, 2.275599956512451, 2.2755000591278076, 2.2755000591278076, 2.2755000591278076, 2.2753000259399414, 2.274199962615967, 2.2741000652313232, 2.2732999324798584, 2.2727999687194824, 2.27239990234375, 2.2720999717712402, 2.2720000743865967, 2.269200086593628, 2.2715001106262207, 2.2291998863220215, 2.2692999839782715, 2.24399995803833, 2.174799919128418, 2.137200117111206, 2.249000072479248, 2.1572999954223633, 2.1389000415802, 2.120500087738037, 1.5592999458312988, 1.542799949645996, 1.8329999446868896, 1.7882000207901, 1.9427000284194946, 1.2706999778747559, 1.8691999912261963, 0.9144999980926514, 1.8884999752044678, 1.660099983215332, 1.1678999662399292, 1.8997000455856323, 1.7152999639511108, 0.3456999957561493, 1.2163000106811523, 1.0491000413894653, 0.2581999897956848, 0.7526000142097473, 0.420199990272522, 0.5320000052452087, 0.6521000266075134, 2.271899938583374, 2.2701001167297363, 2.2695000171661377, 2.2683000564575195, 2.267199993133545, 2.266900062561035, 2.266900062561035, 2.2667999267578125, 2.265700101852417, 2.2644999027252197, 2.26419997215271, 2.263700008392334, 2.261699914932251, 2.261699914932251, 2.2614998817443848, 2.2599000930786133, 2.2595999240875244, 2.2583000659942627, 2.2581000328063965, 2.2572999000549316, 2.256200075149536, 2.256200075149536, 2.2560999393463135, 2.2548999786376953, 2.253999948501587, 2.2537999153137207, 2.2527999877929688, 2.2523000240325928, 2.2520999908447266, 2.2520999908447266, 2.2455999851226807, 2.2490999698638916, 2.2239999771118164, 2.213399887084961, 2.239000082015991, 2.196000099182129, 2.191699981689453, 2.1807000637054443, 2.107300043106079, 2.1092000007629395, 2.182300090789795, 1.9812999963760376, 2.171799898147583, 2.0269999504089355, 1.6110999584197998, 1.7757999897003174, 1.7163000106811523, 1.6996999979019165, 1.9754999876022339, 1.6988999843597412, 1.587499976158142, 1.6225999593734741, 1.465000033378601, 1.4883999824523926, 1.6806000471115112, 1.7932000160217285, 1.1756999492645264, 1.6030000448226929, 1.5298000574111938, 1.6826000213623047, 1.429800033569336, 0.9456999897956848, 1.3978999853134155, 1.204699993133545, 0.5756999850273132, 1.3174999952316284, 0.7979000210762024, 0.8776999711990356, 1.1546000242233276, 0.9598000049591064, 0.47870001196861267, 2.8018999099731445, 2.80049991607666, 2.80049991607666, 2.7995998859405518, 2.799499988555908, 2.797100067138672, 2.796600103378296, 2.7952001094818115, 2.792799949645996, 2.790299892425537, 2.79010009765625, 2.789900064468384, 2.7892000675201416, 2.7888998985290527, 2.7887001037597656, 2.787899971008301, 2.7878000736236572, 2.786900043487549, 2.7864999771118164, 2.7839999198913574, 2.7825000286102295, 2.7825000286102295, 2.7820000648498535, 2.7818000316619873, 2.7816998958587646, 2.780900001525879, 2.7808001041412354, 2.7806999683380127, 2.7804999351501465, 2.779900074005127, 2.684799909591675, 2.74399995803833, 2.724600076675415, 2.735300064086914, 2.5144999027252197, 2.433199882507324, 2.41129994392395, 2.0759999752044678, 1.870300054550171, 2.141400098800659, 1.8410999774932861, 1.8602999448776245, 2.2320001125335693, 1.2976000308990479, 2.021699905395508, 1.861199975013733, 1.7457000017166138, 1.5210000276565552, 0.7071999907493591, 1.930299997329712, 1.2354999780654907, 0.9847000241279602, 0.5094000101089478, 1.1204999685287476, 1.4729000329971313, 0.5652999877929688, 0.3756999969482422, 0.8309000134468079, -0.13910000026226044, 0.8582000136375427, 2.476900100708008, 2.476300001144409, 2.475100040435791, 2.473900079727173, 2.47379994392395, 2.472100019454956, 2.471299886703491, 2.470900058746338, 2.4707999229431152, 2.4704999923706055, 2.4702000617980957, 2.469899892807007, 2.4691998958587646, 2.468600034713745, 2.4684998989105225, 2.4658000469207764, 2.46560001373291, 2.46560001373291, 2.4653000831604004, 2.4646999835968018, 2.4642999172210693, 2.46370005607605, 2.4632999897003174, 2.4630000591278076, 2.4630000591278076, 2.4623000621795654, 2.4623000621795654, 2.462100028991699, 2.461899995803833, 2.4614999294281006, 2.452899932861328, 2.405400037765503, 2.4388999938964844, 2.3080999851226807, 1.8920999765396118, 2.238600015640259, 1.5712000131607056, 1.8914999961853027, 1.995300054550171, 2.101300001144409, 1.8795000314712524, 1.597000002861023, 1.9908000230789185, 1.781599998474121, 2.1982998847961426, 1.3638999462127686, 1.506600022315979, 1.7524000406265259, 1.6628999710083008, 1.8430999517440796, 1.545199990272522, 1.5429999828338623, 1.4180999994277954, 0.961899995803833, 1.437000036239624, 1.4164999723434448, 1.0901999473571777, 1.3468999862670898, 0.9054999947547913, 0.5519000291824341, 1.3075000047683716, 1.4391000270843506, 1.0369999408721924, 2.296999931335449, 2.2953999042510986, 2.2920000553131104, 2.2909998893737793, 2.2908999919891357, 2.290600061416626, 2.290600061416626, 2.2904000282287598, 2.2892000675201416, 2.2885000705718994, 2.2880001068115234, 2.2876999378204346, 2.2869999408721924, 2.2853000164031982, 2.2852001190185547, 2.284600019454956, 2.2834999561309814, 2.281399965286255, 2.2813000679016113, 2.281100034713745, 2.2809998989105225, 2.2797000408172607, 2.279599905014038, 2.2790000438690186, 2.2790000438690186, 2.27839994430542, 2.2781999111175537, 2.277899980545044, 2.276900053024292, 2.276700019836426, 2.27620005607605, 2.2614998817443848, 2.1684000492095947, 2.2370998859405518, 2.1422998905181885, 2.188699960708618, 2.2269999980926514, 2.2118000984191895, 2.109499931335449, 1.9937000274658203, 1.9638999700546265, 1.8772000074386597, 2.1273000240325928, 1.992799997329712, 1.8592000007629395, 1.7467999458312988, 1.9046000242233276, 1.6133999824523926, 1.7283999919891357, 1.7811000347137451, 1.8214999437332153, 1.875499963760376, 1.1500999927520752, 2.0157999992370605, 1.6538000106811523, 1.2375999689102173, 1.3043999671936035, 1.8351999521255493, 1.5865000486373901, 1.6964999437332153, 1.0128999948501587, 1.249899983406067, 1.3907999992370605, 1.273300051689148, 0.7861999869346619, 0.9793000221252441, 0.8838000297546387, 0.8148000240325928, 1.316499948501587, 0.9405999779701233, 1.2249000072479248, 1.0044000148773193], \"logprob\": [30.0, 29.0, 28.0, 27.0, 26.0, 25.0, 24.0, 23.0, 22.0, 21.0, 20.0, 19.0, 18.0, 17.0, 16.0, 15.0, 14.0, 13.0, 12.0, 11.0, 10.0, 9.0, 8.0, 7.0, 6.0, 5.0, 4.0, 3.0, 2.0, 1.0, -5.464300155639648, -5.698599815368652, -5.4629998207092285, -5.809199810028076, -5.843699932098389, -5.845900058746338, -5.900300025939941, -5.902699947357178, -5.993100166320801, -6.092299938201904, -6.118599891662598, -6.130300045013428, -6.0854997634887695, -6.154600143432617, -6.15500020980835, -6.2052001953125, -6.2434000968933105, -6.192500114440918, -6.295899868011475, -6.31220006942749, -6.302000045776367, -6.434599876403809, -6.472499847412109, -6.494900226593018, -6.509200096130371, -6.514400005340576, -6.522299766540527, -6.591100215911865, -6.6132001876831055, -6.613699913024902, -5.847300052642822, -4.317999839782715, -4.541900157928467, -5.149099826812744, -4.7596001625061035, -5.919899940490723, -5.042600154876709, -4.657199859619141, -4.551700115203857, -5.304900169372559, -5.343900203704834, -5.799200057983398, -4.86359977722168, -5.350599765777588, -5.349899768829346, -5.608399868011475, -4.630799770355225, -4.617800235748291, -5.592100143432617, -5.63730001449585, -4.947299957275391, -4.8867998123168945, -4.95959997177124, -5.416100025177002, -5.709700107574463, -4.873199939727783, -5.200799942016602, -5.595600128173828, -5.296299934387207, -5.353000164031982, -5.515100002288818, -5.230100154876709, -5.135799884796143, -5.394400119781494, -5.571199893951416, -5.580399990081787, -1.8824000358581543, -2.9419000148773193, -3.522900104522705, -3.6226999759674072, -3.6566998958587646, -4.151299953460693, -4.173500061035156, -4.404200077056885, -4.7708001136779785, -4.777599811553955, -4.922999858856201, -5.007400035858154, -5.097099781036377, -5.164899826049805, -5.265699863433838, -4.718100070953369, -5.473599910736084, -5.475599765777588, -5.565700054168701, -5.592100143432617, -5.677999973297119, -5.73360013961792, -5.758299827575684, -5.848400115966797, -6.091700077056885, -6.10860013961792, -6.119699954986572, -6.189199924468994, -6.201399803161621, -6.2266998291015625, -5.9232001304626465, -6.174300193786621, -2.4670000076293945, -4.724999904632568, -5.262199878692627, -4.520899772644043, -3.324199914932251, -3.884500026702881, -3.5495998859405518, -4.796999931335449, -3.5099000930786133, -4.56790018081665, -4.532100200653076, -4.138800144195557, -4.1605000495910645, -4.576099872589111, -4.539700031280518, -5.0808000564575195, -5.430799961090088, -5.942399978637695, -6.219200134277344, -6.448999881744385, -6.530900001525879, -6.566999912261963, -6.736999988555908, -6.752699851989746, -6.766900062561035, -6.786200046539307, -6.825300216674805, -6.8867998123168945, -6.947500228881836, -6.971700191497803, -6.98960018157959, -6.541600227355957, -6.95419979095459, -7.035200119018555, -7.046500205993652, -7.077899932861328, -7.103799819946289, -7.105899810791016, -7.118000030517578, -6.970399856567383, -7.139599800109863, -7.169000148773193, -7.184800148010254, -7.209400177001953, -7.192399978637695, -7.24399995803833, -6.496399879455566, -6.737599849700928, -6.420199871063232, -5.733399868011475, -6.1605000495910645, -6.741199970245361, -6.026000022888184, -6.45359992980957, -6.5345001220703125, -5.655099868774414, -6.389500141143799, -5.833499908447266, -5.442999839782715, -5.474899768829346, -5.148200035095215, -5.31820011138916, -5.268400192260742, -5.119999885559082, -4.900199890136719, -5.664700031280518, -4.045899868011475, -5.803100109100342, -4.710299968719482, -5.951300144195557, -4.678599834442139, -5.680799961090088, -4.582600116729736, -5.400700092315674, -5.964900016784668, -5.721199989318848, -4.827400207519531, -5.868599891662598, -5.715400218963623, -5.019000053405762, -4.943900108337402, -5.59119987487793, -5.41379976272583, -5.624199867248535, -5.237599849700928, -4.993199825286865, -5.019100189208984, -5.386000156402588, -5.433700084686279, -5.549699783325195, -5.6255998611450195, -5.590199947357178, -5.57450008392334, -5.614099979400635, -6.187600135803223, -6.3572998046875, -6.179900169372559, -6.509799957275391, -6.42080020904541, -6.576300144195557, -6.597899913787842, -6.683199882507324, -6.680200099945068, -6.686299800872803, -6.707600116729736, -6.7322001457214355, -6.7484002113342285, -6.770100116729736, -6.761300086975098, -6.784900188446045, -6.804699897766113, -6.832200050354004, -6.845300197601318, -6.862199783325195, -6.88129997253418, -6.936399936676025, -6.529699802398682, -5.554299831390381, -7.048299789428711, -7.050099849700928, -7.071199893951416, -7.0767998695373535, -7.094200134277344, -7.136099815368652, -5.081600189208984, -6.275199890136719, -6.879899978637695, -6.75600004196167, -6.476399898529053, -5.597300052642822, -3.796799898147583, -4.125999927520752, -5.760000228881836, -5.410600185394287, -5.287700176239014, -3.5652999877929688, -4.7245001792907715, -5.28410005569458, -5.128600120544434, -5.201300144195557, -3.9245998859405518, -5.230800151824951, -5.389500141143799, -5.276299953460693, -4.65500020980835, -5.98769998550415, -5.2957000732421875, -5.557400226593018, -4.745100021362305, -5.39870023727417, -5.639800071716309, -5.724999904632568, -5.812600135803223, -5.796899795532227, -5.676700115203857, -5.475200176239014, -5.313199996948242, -5.359899997711182, -5.474400043487549, -5.510900020599365, -5.176599979400635, -5.3958001136779785, -5.37939977645874, -5.511600017547607, -5.482999801635742, -5.544300079345703, -4.513800144195557, -4.576099872589111, -4.976399898529053, -5.207499980926514, -5.3018999099731445, -5.340099811553955, -5.52269983291626, -5.557499885559082, -5.575500011444092, -5.728400230407715, -5.737500190734863, -5.9481000900268555, -5.835899829864502, -5.994800090789795, -6.02400016784668, -6.077600002288818, -6.058000087738037, -6.110499858856201, -6.133399963378906, -6.17519998550415, -6.05810022354126, -6.266300201416016, -6.156700134277344, -6.361599922180176, -6.384900093078613, -6.445199966430664, -6.45419979095459, -6.4670000076293945, -6.4670000076293945, -6.480199813842773, -5.032700061798096, -6.115499973297119, -5.901400089263916, -4.095200061798096, -5.078400135040283, -4.376299858093262, -4.260300159454346, -5.150199890136719, -5.515200138092041, -4.007800102233887, -3.8526999950408936, -4.529600143432617, -3.2286999225616455, -4.632599830627441, -4.591700077056885, -3.9632999897003174, -4.608699798583984, -3.846299886703491, -4.81820011138916, -4.634300231933594, -4.551799774169922, -5.007900238037109, -4.871600151062012, -4.5472002029418945, -4.463699817657471, -4.888500213623047, -4.778299808502197, -5.059100151062012, -5.048399925231934, -5.170100212097168, -4.2104997634887695, -4.551199913024902, -4.579599857330322, -4.8246002197265625, -4.965700149536133, -4.982699871063232, -5.036399841308594, -5.230100154876709, -5.811800003051758, -5.8892998695373535, -5.931700229644775, -5.831099987030029, -5.7947001457214355, -5.98960018157959, -5.451900005340576, -6.114299774169922, -6.152699947357178, -6.218299865722656, -6.255000114440918, -6.2677001953125, -6.2743000984191895, -6.275400161743164, -6.298399925231934, -6.422999858856201, -4.868000030517578, -6.508999824523926, -6.555799961090088, -6.594299793243408, -6.616000175476074, -6.627200126647949, -4.541100025177002, -5.678699970245361, -3.3148999214172363, -6.434999942779541, -5.782899856567383, -4.76170015335083, -4.395999908447266, -6.0929999351501465, -5.472899913787842, -5.563399791717529, -5.561200141906738, -3.5322999954223633, -4.0883002281188965, -5.143400192260742, -5.072400093078613, -5.503499984741211, -4.6554999351501465, -5.500400066375732, -4.539400100708008, -5.532700061798096, -5.379899978637695, -5.0833001136779785, -5.575200080871582, -5.478300094604492, -4.826900005340576, -5.2519001960754395, -5.3607001304626465, -5.298299789428711, -5.366000175476074, -5.387599945068359, -5.445799827575684, -5.450099945068359, -5.224100112915039, -5.686200141906738, -5.829800128936768, -6.036900043487549, -6.192999839782715, -6.224999904632568, -6.224999904632568, -6.242499828338623, -6.375, -6.497099876403809, -6.52239990234375, -6.573800086975098, -6.736100196838379, -6.606299877166748, -6.755099773406982, -6.866199970245361, -6.88670015335083, -6.970200061798096, -6.9878997802734375, -7.031499862670898, -7.093400001525879, -7.094299793243408, -7.097400188446045, -7.161300182342529, -7.209000110626221, -7.2164998054504395, -7.263599872589111, -7.283699989318848, -7.294400215148926, -7.29449987411499, -6.054999828338623, -6.950699806213379, -4.50540018081665, -5.313899993896484, -6.572500228881836, -5.268899917602539, -5.129199981689453, -5.276000022888184, -4.303299903869629, -5.063000202178955, -6.069200038909912, -3.8129000663757324, -6.0742998123168945, -4.802000045776367, -3.384000062942505, -4.308300018310547, -4.08519983291626, -4.0817999839782715, -5.478400230407715, -4.484399795532227, -4.248799800872803, -4.565700054168701, -4.14870023727417, -4.285699844360352, -4.972099781036377, -5.2555999755859375, -4.165800094604492, -4.994100093841553, -5.036300182342529, -5.340000152587891, -5.002999782562256, -4.385499954223633, -5.01200008392334, -4.914000034332275, -4.515900135040283, -5.093299865722656, -4.946700096130371, -5.0106000900268555, -5.128699779510498, -5.127399921417236, -5.0777997970581055, -4.782400131225586, -5.148900032043457, -5.149700164794922, -5.313000202178955, -5.347300052642822, -5.706299781799316, -5.770500183105469, -5.9197001457214355, -6.14139986038208, -6.327899932861328, -6.339300155639648, -6.352799892425537, -6.395999908447266, -6.4191999435424805, -3.6308000087738037, -6.47629976272583, -6.486599922180176, -6.536300182342529, -6.558000087738037, -6.6869001388549805, -6.755099773406982, -6.755099773406982, -6.776500225067139, -6.787399768829346, -6.790800094604492, -6.826900005340576, -6.830699920654297, -6.832200050354004, -6.841300010681152, -6.8684000968933105, -3.131999969482422, -5.576499938964844, -6.279399871826172, -6.5152997970581055, -5.22599983215332, -4.837299823760986, -5.7204999923706055, -4.834799766540527, -4.604400157928467, -5.304999828338623, -4.831200122833252, -4.88700008392334, -5.606500148773193, -4.3454999923706055, -5.3902997970581055, -5.238399982452393, -5.18720006942749, -5.05649995803833, -4.248899936676025, -5.5065999031066895, -5.015699863433838, -4.8850998878479, -4.663099765777588, -5.106400012969971, -5.34630012512207, -5.216300010681152, -5.180799961090088, -5.331500053405762, -5.2307000160217285, -5.375500202178955, -4.014500141143799, -4.884399890899658, -5.280799865722656, -5.57450008392334, -5.601099967956543, -5.882900238037109, -6.003300189971924, -6.0553998947143555, -6.032700061798096, -6.103499889373779, -6.138999938964844, -6.174499988555908, -6.241799831390381, -6.316500186920166, -6.317800045013428, -6.556399822235107, -6.565199851989746, -6.561299800872803, -6.591000080108643, -6.633299827575684, -6.667799949645996, -6.707699775695801, -6.7342000007629395, -6.751800060272217, -6.754300117492676, -6.794400215148926, -6.797399997711182, -6.807199954986572, -6.818600177764893, -6.844799995422363, -5.877399921417236, -5.213200092315674, -6.284900188446045, -5.144000053405762, -3.8894999027252197, -5.741499900817871, -3.2441999912261963, -4.501299858093262, -4.935999870300293, -5.497399806976318, -4.87060022354126, -4.04610013961792, -5.294400215148926, -4.772299766540527, -5.9105000495910645, -4.293099880218506, -4.624499797821045, -5.111999988555908, -4.970300197601318, -5.316400051116943, -4.984000205993652, -5.006899833679199, -4.951099872589111, -4.4918999671936035, -5.087200164794922, -5.136499881744385, -4.997000217437744, -5.171899795532227, -4.964300155639648, -4.789599895477295, -5.23829984664917, -5.319200038909912, -5.2428998947143555, -5.171000003814697, -5.571700096130371, -6.186299800872803, -6.307799816131592, -6.320000171661377, -6.357399940490723, -6.3618998527526855, -6.20959997177124, -6.495699882507324, -6.559199810028076, -6.609899997711182, -6.633500099182129, -5.878799915313721, -6.810699939727783, -6.8130998611450195, -6.861800193786621, -6.928500175476074, -7.055500030517578, -7.059299945831299, -7.066800117492676, -7.072299957275391, -7.140999794006348, -7.144800186157227, -6.497700214385986, -7.173999786376953, -7.205900192260742, -7.215199947357178, -7.2266998291015625, -7.271599769592285, -7.281400203704834, -7.078800201416016, -5.723499774932861, -2.525099992752075, -5.993599891662598, -4.388700008392334, -6.131700038909912, -6.5767998695373535, -6.466400146484375, -5.574999809265137, -4.577199935913086, -4.639400005340576, -4.011199951171875, -5.85129976272583, -4.925000190734863, -4.077199935913086, -3.5845000743865967, -4.610799789428711, -4.131199836730957, -4.707099914550781, -4.977200031280518, -5.334099769592285, -5.541500091552734, -3.8450000286102295, -5.885799884796143, -5.125999927520752, -4.393499851226807, -4.531799793243408, -5.523499965667725, -5.160200119018555, -5.40310001373291, -4.543600082397461, -4.86329984664917, -5.041999816894531, -4.914999961853027, -4.453800201416016, -4.7947998046875, -4.897600173950195, -4.950099945068359, -5.25570011138916, -5.13640022277832, -5.287600040435791, -5.2789998054504395]}, \"token.table\": {\"Topic\": [2, 4, 10, 5, 1, 3, 4, 6, 7, 8, 9, 10, 8, 9, 6, 8, 7, 5, 8, 10, 2, 3, 4, 6, 7, 10, 1, 2, 3, 5, 6, 7, 9, 10, 2, 3, 4, 5, 6, 7, 9, 10, 1, 2, 3, 4, 5, 6, 7, 8, 10, 1, 5, 8, 9, 1, 2, 5, 7, 9, 3, 7, 5, 1, 3, 4, 1, 3, 4, 5, 6, 8, 9, 1, 3, 4, 5, 6, 8, 9, 3, 6, 7, 9, 8, 9, 1, 7, 3, 3, 1, 3, 5, 8, 1, 3, 5, 8, 1, 3, 4, 5, 6, 7, 8, 9, 5, 8, 1, 3, 4, 6, 7, 10, 1, 2, 4, 5, 7, 8, 9, 10, 1, 3, 4, 5, 6, 10, 1, 4, 6, 7, 8, 10, 6, 4, 10, 3, 4, 5, 6, 7, 8, 9, 10, 10, 4, 1, 3, 4, 5, 8, 9, 10, 1, 6, 1, 4, 10, 1, 9, 3, 3, 1, 2, 3, 4, 7, 8, 9, 10, 9, 8, 10, 10, 1, 3, 4, 5, 6, 8, 9, 10, 5, 9, 1, 4, 6, 6, 5, 8, 6, 1, 3, 4, 5, 6, 8, 9, 8, 7, 1, 3, 9, 3, 5, 10, 1, 2, 3, 4, 5, 7, 8, 9, 10, 2, 1, 3, 5, 6, 7, 8, 9, 1, 2, 3, 4, 5, 6, 7, 8, 10, 1, 4, 6, 8, 10, 4, 8, 10, 2, 3, 7, 9, 4, 8, 1, 3, 4, 5, 7, 9, 5, 3, 7, 7, 6, 6, 4, 6, 3, 6, 9, 3, 4, 6, 9, 3, 4, 6, 8, 9, 10, 9, 3, 5, 9, 3, 6, 4, 6, 7, 10, 1, 3, 5, 6, 7, 8, 9, 9, 3, 9, 4, 3, 4, 6, 7, 9, 3, 4, 6, 7, 10, 1, 3, 6, 7, 8, 3, 4, 5, 8, 9, 10, 3, 6, 1, 3, 5, 7, 8, 9, 1, 2, 3, 4, 6, 7, 8, 9, 10, 3, 7, 1, 3, 4, 6, 7, 8, 10, 1, 3, 1, 2, 3, 4, 5, 8, 9, 10, 8, 6, 10, 1, 7, 8, 10, 1, 4, 6, 8, 10, 1, 2, 3, 4, 5, 6, 7, 8, 9, 10, 10, 4, 10, 8, 6, 4, 6, 8, 10, 2, 3, 4, 5, 7, 8, 9, 10, 1, 2, 3, 4, 5, 6, 7, 8, 9, 10, 1, 3, 4, 7, 8, 9, 1, 3, 5, 6, 1, 3, 4, 6, 7, 8, 9, 10, 4, 10, 5, 6, 8, 7, 2, 2, 2, 1, 3, 4, 8, 2, 5, 8, 4, 7, 8, 10, 4, 1, 3, 4, 6, 7, 10, 3, 8, 1, 1, 6, 9, 3, 5, 1, 3, 4, 5, 6, 7, 8, 9, 10, 7, 3, 4, 7, 10, 7, 2, 5, 7, 10, 1, 3, 4, 6, 7, 10, 3, 4, 10, 4, 4, 10, 4, 10, 1, 6, 1, 2, 3, 4, 5, 6, 7, 8, 9, 10, 1, 3, 7, 10, 9, 2, 3, 4, 5, 7, 8, 9, 10, 2, 7, 9, 1, 3, 4, 6, 7, 9, 10, 10, 1, 4, 5, 8, 9, 10, 9, 4, 10, 1, 2, 3, 7, 10, 10, 1, 3, 4, 5, 6, 7, 8, 9, 10, 3, 10, 1, 3, 7, 1, 3, 4, 6, 7, 10, 9, 3, 3, 4, 6, 10, 3, 10, 2, 7, 10, 10, 1, 3, 5, 7, 8, 9, 1, 4, 6, 7, 8, 10, 3, 6, 7, 3, 6, 3, 1, 2, 4, 5, 6, 7, 8, 10, 1, 3, 4, 5, 8, 9, 10, 6, 1, 3, 7, 1, 2, 4, 6, 7, 10, 9, 9, 3, 1, 3, 4, 5, 7, 8, 9, 10, 4, 7, 10, 7, 7, 4, 6, 8, 10, 2, 7, 1, 4, 6, 7, 8, 10, 1, 3, 4, 8, 10, 8, 10, 4, 8, 10, 2, 7, 10, 2, 7, 10, 2, 4, 8, 9, 10, 1, 1, 3, 4, 5, 6, 7, 8, 9, 10, 8, 2, 4, 5, 7, 8, 9, 10, 2, 1, 3, 9, 3, 4, 6, 8, 10, 4, 6, 8, 10, 9, 5, 7, 10, 5, 7, 1, 3, 4, 6, 8, 9, 10, 3, 6, 7, 9, 10, 10, 1, 2, 3, 4, 5, 6, 7, 8, 9, 10, 8, 4, 7, 10, 3, 3, 10, 1, 4, 8, 9, 10, 6, 7, 3, 6, 1, 1, 3, 4, 5, 6, 7, 8, 9, 10, 8, 10, 1, 3, 4, 5, 6, 7, 8, 9, 10, 5, 5, 6, 4, 3, 4, 6, 7, 10, 3, 4, 1, 2, 3, 4, 5, 6, 7, 8, 9, 10, 7, 2, 2, 8, 8, 1, 3, 4, 5, 6, 7, 8, 9, 10, 4, 10, 7, 1, 3, 4, 6, 7, 8, 10, 1, 5, 1, 2, 3, 4, 5, 7, 8, 9, 10, 4, 8, 1, 2, 3, 4, 5, 6, 7, 8, 9, 10, 3, 9, 4, 4, 6, 2, 3, 4, 5, 7, 8, 9, 10, 4, 5, 8, 9, 4, 10, 3, 4, 5, 6, 8, 9, 10, 4, 1, 2, 3, 4, 6, 7, 8, 9, 10, 7, 3, 4, 7, 10, 3, 4, 7, 9, 9, 10, 6, 3, 10, 7, 6, 4, 3, 7, 9, 3, 4, 4, 1, 3, 4, 6, 7, 8, 10, 1, 3, 4, 8, 1, 2, 3, 4, 5, 7, 8, 9, 10, 2, 2, 2, 2, 2, 4, 6, 7, 8, 10, 3, 6, 1, 3, 4, 6, 7, 8, 9, 10, 6, 1, 3, 5, 6, 7, 8, 9, 10, 1, 2, 3, 4, 5, 6, 7, 8, 9, 10, 4, 8, 10, 1, 3, 4, 5, 6, 7, 8, 9, 10, 6, 8, 3, 1, 9, 3, 4, 5, 6, 8, 9, 10, 1, 5, 9, 5, 7, 3, 4, 6, 8, 10, 10, 4, 4, 4, 8, 10, 4, 4, 6, 8, 4, 1, 2, 3, 4, 5, 6, 7, 8, 9, 10, 3, 8, 4, 2, 4, 3, 4, 6, 10, 1, 3, 7, 8, 10, 8, 1, 3, 5, 6, 8, 1, 8, 1, 3, 5, 6, 7, 8, 9, 10, 2, 3, 4, 5, 6, 7, 8, 9, 10, 2, 7, 10, 7, 3, 10, 1, 3, 4, 5, 6, 8, 9, 9, 1, 3, 4, 5, 9, 10, 1, 3, 4, 6, 8, 10, 2, 10, 2, 10, 2, 2, 10, 1, 2, 3, 4, 5, 6, 7, 8, 9, 10, 1, 3, 4, 7, 8, 10, 3, 7, 1, 3, 4, 6, 7, 5, 6, 8, 9, 1, 5, 7, 8, 9, 1, 9, 1, 4, 6, 4, 4, 5, 1, 2, 3, 5, 6, 8, 9, 10, 5, 10, 1, 5, 7, 1, 1, 2, 3, 4, 5, 6, 7, 8, 9, 10, 1, 3, 6, 7, 1, 4, 6, 7, 8, 9, 10, 3, 4, 6, 8, 9, 10, 4, 7, 1, 6, 3, 4, 8, 5, 1, 3, 4, 5, 6, 7, 8, 9, 3, 4, 6, 10, 2, 5, 2, 10, 1, 3, 4, 5, 6, 7, 8, 9, 10, 8, 1, 2, 5, 7, 8, 5, 1, 1, 3, 4, 6, 7, 6, 1, 3, 4, 6, 7, 2, 7, 9, 10, 2, 2, 2, 1, 1, 3, 6, 7, 9, 1, 3, 5, 6, 9, 5, 4, 10, 10, 5, 5, 5, 2, 4, 5, 7, 8, 10, 4, 5, 3, 6, 6, 1, 9, 10, 1, 4, 5, 7, 8, 10, 3, 4, 2, 9, 6, 3, 4, 5, 6, 7, 10, 5, 5, 6, 3, 1, 1, 8, 4, 1, 1, 3, 4, 5, 6, 7, 8, 9, 10, 3, 9, 7, 1, 2, 4, 7, 8, 9, 10, 2, 1, 2, 3, 4, 5, 6, 7, 8, 9, 10, 1, 3, 4, 6, 7, 8, 9, 10, 1, 2, 3, 5, 7, 10, 2, 2, 2, 2, 8, 1, 4, 6, 7, 8, 10, 6, 7, 8, 3, 1, 2, 3, 4, 5, 6, 7, 8, 9, 10, 2, 7, 7, 7, 8, 8, 1, 6, 7, 4, 4, 1, 3, 4, 5, 6, 7, 8, 9, 10, 1, 4, 7, 10, 1, 9, 1, 3, 4, 6, 7, 8, 10, 4, 9, 9, 9, 7, 1, 3, 4, 5, 6, 7, 8, 9, 3, 4, 4, 5, 5, 3, 4, 2, 3, 5, 7, 8, 9, 1, 5, 9, 6, 9, 1, 3, 4, 6, 10, 3, 6, 7, 1, 3, 8, 7, 2, 2, 3, 3, 4, 5, 8, 1, 3, 4, 6, 8, 1, 3, 6, 10, 10, 10, 10, 1, 6, 9, 9, 3, 6, 10, 9, 6, 7, 3, 7, 10, 5, 1, 3, 4, 6, 7, 8, 9, 10, 4, 4, 8, 9, 1, 3, 4, 5, 6, 8, 1, 3, 4, 6, 7, 8, 9, 10, 1, 3, 4, 5, 7, 8, 9, 10, 3, 4, 10, 10, 3, 7, 4, 6, 1, 3, 4, 5, 6, 7, 8, 9, 5, 1, 3, 4, 6, 8, 10, 1, 3, 5, 7, 8, 1, 2, 5, 7, 8, 9, 10, 3, 6, 6, 7, 3, 4, 6, 10, 10, 7, 4, 7, 10, 3, 5, 8, 9, 3, 4, 5, 6, 8, 9, 3, 4, 3, 3, 7, 1, 3, 4, 6, 7, 8, 9, 10, 1, 3, 4, 6, 7, 9, 5, 6, 8, 9, 1, 3, 4, 5, 6, 7, 8, 9, 10, 1, 1, 4, 5, 9, 3, 4, 6, 9, 1, 3, 4, 5, 6, 7, 8, 9, 10, 7, 1, 6, 7, 1, 4, 5, 6, 7, 8, 9, 10, 9, 3, 4, 6, 8, 10, 10, 3, 6, 3, 4, 10, 4, 6, 8, 1, 3, 4, 5, 8, 9, 10, 1, 4, 8, 10, 4, 4, 10, 2, 8, 9, 10, 10, 8, 5, 5, 4, 10, 1, 3, 4, 6, 8, 10, 1, 4, 5, 6, 7, 9, 10, 1, 3, 4, 5, 7, 10, 3, 4, 10, 3, 4, 8, 3, 6, 9, 6, 1, 1, 8, 5, 3, 3, 4, 4, 1, 3, 4, 5, 6, 7, 8, 9, 1, 4, 6, 7, 8, 10, 4, 6, 8, 10, 6, 6, 7, 3, 4, 6, 7, 8, 10, 7, 10, 1], \"Freq\": [0.9826093316078186, 0.9784601926803589, 0.013978002592921257, 0.9907673597335815, 0.0011471176985651255, 0.2443360686302185, 0.4381989538669586, 0.07341553270816803, 0.014912529848515987, 0.11356465518474579, 0.018353883177042007, 0.09635788947343826, 0.9752298593521118, 0.9783820509910583, 0.9947507381439209, 0.9772927165031433, 0.9820098876953125, 0.9853480458259583, 0.9857056736946106, 0.9883305430412292, 0.10656329244375229, 0.006577981170266867, 0.0019733943045139313, 0.011840365827083588, 0.5032155513763428, 0.36968255043029785, 0.00028364805621095, 0.13274727761745453, 0.0017018882790580392, 0.010494977235794067, 0.015600642189383507, 0.5151048302650452, 0.007374849170446396, 0.31683486700057983, 0.05728942155838013, 0.004358977545052767, 0.016190487891435623, 0.05728942155838013, 0.03798537701368332, 0.5629308223724365, 0.019926754757761955, 0.24285733699798584, 0.0315389521420002, 0.01645510457456112, 0.020568881183862686, 0.0630779042840004, 0.019197622314095497, 0.02879643440246582, 0.035652726888656616, 0.04799405857920647, 0.7363659739494324, 0.008056574501097202, 0.5988720059394836, 0.0013427623780444264, 0.39208662509918213, 0.014396168291568756, 0.001308742561377585, 0.5732292532920837, 0.056275930255651474, 0.35336047410964966, 0.023197423666715622, 0.9742918014526367, 0.9877228140830994, 0.05727950856089592, 0.7394263744354248, 0.20047827064990997, 0.02502591907978058, 0.21927472949028015, 0.30746129155158997, 0.33606234192848206, 0.08103631436824799, 0.017875656485557556, 0.011917104944586754, 0.05826260894536972, 0.3415180742740631, 0.26032230257987976, 0.22933155298233032, 0.08801373094320297, 0.013635929673910141, 0.008677409961819649, 0.37009161710739136, 0.6101015210151672, 0.009160683490335941, 0.010992820374667645, 0.9808270931243896, 0.9908062815666199, 0.9956374764442444, 0.9677560925483704, 0.9909888505935669, 0.985744059085846, 0.06137126311659813, 0.08398173004388809, 0.8236669301986694, 0.029070597141981125, 0.013494333252310753, 0.3171168267726898, 0.6612223386764526, 0.0067471666261553764, 0.014065838418900967, 0.042197514325380325, 0.13874031603336334, 0.596519410610199, 0.15536357462406158, 0.02365618385374546, 0.01918068900704384, 0.010869056917726994, 0.9972454309463501, 0.9892116785049438, 0.2809189260005951, 0.09555065631866455, 0.015288104303181171, 0.4166008532047272, 0.1758131980895996, 0.015288104303181171, 0.06809001415967941, 0.10509546101093292, 0.0014802176738157868, 0.6335331797599792, 0.0029604353476315737, 0.05476805567741394, 0.016282394528388977, 0.11545698344707489, 0.33314967155456543, 0.3714168667793274, 0.07428336888551712, 0.0022510113194584846, 0.1823319047689438, 0.038267191499471664, 0.2672589421272278, 0.0973096713423729, 0.1658376008272171, 0.27959397435188293, 0.005482234992086887, 0.18639598786830902, 0.9889126420021057, 0.9909811615943909, 0.008421936072409153, 0.019175119698047638, 0.009587559849023819, 0.015979265794157982, 0.022370971739292145, 0.015979265794157982, 0.1949470490217209, 0.06711291521787643, 0.6551498770713806, 0.9836207032203674, 0.9919889569282532, 0.06246838718652725, 0.0002727876999415457, 0.7029739618301392, 0.0403725802898407, 0.12275446951389313, 0.0068196929059922695, 0.06465068459510803, 0.9829593300819397, 0.9879769682884216, 0.954198956489563, 0.005526248831301928, 0.03868374228477478, 0.9924686551094055, 0.9878964424133301, 0.9969514012336731, 0.9867030382156372, 0.005874021910130978, 0.06587295979261398, 0.007552314084023237, 0.007971886545419693, 0.000419572985265404, 0.02139822207391262, 0.01405569538474083, 0.8769075870513916, 0.9968816041946411, 0.9841421246528625, 0.015321972779929638, 0.9808419942855835, 0.026236489415168762, 0.05962838605046272, 0.08825001120567322, 0.39473992586135864, 0.17888516187667847, 0.045317575335502625, 0.1896182745695114, 0.01669594831764698, 0.9834123253822327, 0.9945594072341919, 0.9952373504638672, 0.996513307094574, 0.9983683824539185, 0.9983309507369995, 0.9885278344154358, 0.9973783493041992, 0.9969815611839294, 0.0014593355590477586, 0.002918671118095517, 0.2947857975959778, 0.002918671118095517, 0.25100570917129517, 0.0043780067935585976, 0.4421786963939667, 0.9890205264091492, 0.9778919219970703, 0.7821370363235474, 0.027347449213266373, 0.1914321333169937, 0.7137354612350464, 0.21282294392585754, 0.07267124950885773, 0.024245936423540115, 0.001346996403299272, 0.00942897517234087, 0.057920847088098526, 0.07947278767824173, 0.08755476772785187, 0.10102473199367523, 0.3461780846118927, 0.29499220848083496, 0.9940676689147949, 0.033825863152742386, 0.10967779904603958, 0.47766220569610596, 0.04407612606883049, 0.013325340114533901, 0.08507717400789261, 0.236781045794487, 0.037266287952661514, 0.1293359398841858, 0.05699549615383148, 0.05041909217834473, 0.04603482410311699, 0.5370729565620422, 0.06576403230428696, 0.05480336397886276, 0.021921344101428986, 0.035236556082963943, 0.7690761685371399, 0.03217250853776932, 0.04596072435379028, 0.1149018183350563, 0.8777716159820557, 0.055337775498628616, 0.06487876921892166, 0.6529900431632996, 0.16660651564598083, 0.1746681183576584, 0.0026872018352150917, 0.9818430542945862, 0.9719215035438538, 0.8296700716018677, 0.013381775468587875, 0.004460591822862625, 0.049066510051488876, 0.004460591822862625, 0.09813302010297775, 0.9894731640815735, 0.9824157357215881, 0.9925037622451782, 0.9925037622451782, 0.9977906346321106, 0.9976423382759094, 0.03528595715761185, 0.9586017727851868, 0.2149001657962799, 0.23458567261695862, 0.5495538711547852, 0.7767002582550049, 0.17200282216072083, 0.037625618278980255, 0.013437720946967602, 0.19424961507320404, 0.010223663412034512, 0.567413330078125, 0.03322690725326538, 0.16869045794010162, 0.025559158995747566, 0.991594672203064, 0.0447174608707428, 0.5615987181663513, 0.39325061440467834, 0.7875305414199829, 0.21250824630260468, 0.11585799604654312, 0.05135973170399666, 0.42998844385147095, 0.4025169610977173, 0.14169445633888245, 0.07266382873058319, 0.6121927499771118, 0.0599476583302021, 0.003633191343396902, 0.001816595671698451, 0.10717914253473282, 0.9864938855171204, 0.9942652583122253, 0.991138219833374, 0.9895196557044983, 0.6400269865989685, 0.10844311118125916, 0.017010685056447983, 0.008505342528223991, 0.22326523065567017, 0.02468479424715042, 0.05759785696864128, 0.637690544128418, 0.02879892848432064, 0.2489050179719925, 0.40699246525764465, 0.015898143872618675, 0.08902960270643234, 0.028616657480597496, 0.45786651968955994, 0.35676050186157227, 0.051491208374500275, 0.025745604187250137, 0.009194858372211456, 0.4836495518684387, 0.07171989232301712, 0.00728332344442606, 0.9905319809913635, 0.11436180025339127, 0.004948346875607967, 0.45964646339416504, 0.09126950800418854, 0.0016494489973410964, 0.3276905417442322, 0.034608036279678345, 0.048638321459293365, 0.34046825766563416, 0.0065474663861095905, 0.01777169480919838, 0.5209912657737732, 0.0028060569893568754, 0.004676761571317911, 0.024319160729646683, 0.025776609778404236, 0.9666228890419006, 0.0015155650908127427, 0.5061987638473511, 0.20611685514450073, 0.17353220283985138, 0.0007577825454063714, 0.0007577825454063714, 0.11139403283596039, 0.05582267418503761, 0.9420076012611389, 0.0024911307264119387, 0.37989744544029236, 0.018683480098843575, 0.07971618324518204, 0.0012455653632059693, 0.3923530876636505, 0.12206541001796722, 0.0024911307264119387, 0.98201984167099, 0.9977225661277771, 0.9898334741592407, 0.7771855592727661, 0.18197515606880188, 0.03032919205725193, 0.009477872401475906, 0.9955691695213318, 0.766160786151886, 0.03034300170838833, 0.020860813558101654, 0.18205802142620087, 0.003470788709819317, 0.11106523871421814, 0.040781766176223755, 0.24208751320838928, 0.009544668719172478, 0.07375425845384598, 0.06768038123846054, 0.05987110361456871, 0.0416494645178318, 0.34968194365501404, 0.9988052845001221, 0.9854943156242371, 0.009297116659581661, 0.985358715057373, 0.9921181797981262, 0.7312389016151428, 0.003515571588650346, 0.26366788148880005, 0.9790031313896179, 0.06865867227315903, 0.29523229598999023, 0.050807416439056396, 0.06316597759723663, 0.0013731734361499548, 0.02059760130941868, 0.12770512700080872, 0.373503178358078, 0.008446174673736095, 0.0281539149582386, 0.009853869676589966, 0.029561609029769897, 0.021115435287356377, 0.04082317650318146, 0.5109935402870178, 0.04645395651459694, 0.005630782805383205, 0.29843148589134216, 0.006448851432651281, 0.7609644532203674, 0.12252817302942276, 0.022570978850126266, 0.009673276916146278, 0.07738621532917023, 0.05924931541085243, 0.014812328852713108, 0.8739274144172668, 0.04937443137168884, 0.00822907779365778, 0.06480398774147034, 0.23350009322166443, 0.01851542666554451, 0.3260772228240967, 0.07406170666217804, 0.0010286347242072225, 0.27361685037612915, 0.2846873998641968, 0.7152593731880188, 0.993084728717804, 0.9966946244239807, 0.9793580174446106, 0.9889659881591797, 0.9933826327323914, 0.9890000224113464, 0.9821200370788574, 0.9812272787094116, 0.9668516516685486, 0.0142184067517519, 0.0142184067517519, 0.1477031707763672, 0.8513285517692566, 0.9918842315673828, 0.8985260725021362, 0.006108266767114401, 0.006719093304127455, 0.08856987208127975, 0.9943447113037109, 0.009808861650526524, 0.1781943142414093, 0.18146394193172455, 0.004904430825263262, 0.13405443727970123, 0.49044308066368103, 0.9944708943367004, 0.987226665019989, 0.9849408268928528, 0.984824538230896, 0.9833747148513794, 0.9790166616439819, 0.9886481165885925, 0.9965271353721619, 0.02083546854555607, 0.02976495400071144, 0.07143589109182358, 0.004464743193238974, 0.02083546854555607, 0.5521398782730103, 0.08185362070798874, 0.06994764506816864, 0.1488247662782669, 0.9931528568267822, 0.006650538183748722, 0.006650538183748722, 0.9111237525939941, 0.07315591722726822, 0.9926303625106812, 0.11098053306341171, 0.005841080565005541, 0.8457884788513184, 0.03504648432135582, 0.7577167749404907, 0.005873773712664843, 0.029368868097662926, 0.0646115094423294, 0.04699018970131874, 0.09985414892435074, 0.16428498923778534, 0.4941485524177551, 0.34150582551956177, 0.9917177557945251, 0.7019000053405762, 0.29417866468429565, 0.6048012375831604, 0.3935084939002991, 0.9888769388198853, 0.9945346713066101, 0.12146519124507904, 0.24975426495075226, 0.023201216012239456, 0.0545910969376564, 0.0272955484688282, 0.03957854583859444, 0.47494253516197205, 0.0013647774467244744, 0.005459109786897898, 0.002729554893448949, 0.7973175048828125, 0.06050105765461922, 0.05401880294084549, 0.08643008023500443, 0.9862930774688721, 0.022995557636022568, 0.07281927019357681, 0.034493338316679, 0.09581482410430908, 0.06132148951292038, 0.015330372378230095, 0.6860341429710388, 0.0076651861891150475, 0.20765072107315063, 0.005612181965261698, 0.7857054471969604, 0.10856363922357559, 0.003502052975818515, 0.15175563097000122, 0.29067039489746094, 0.4155769646167755, 0.011673510074615479, 0.01634291373193264, 0.9791995286941528, 0.0013603806728497148, 0.5387107133865356, 0.051694463938474655, 0.16188529133796692, 0.20745804905891418, 0.03877084702253342, 0.9883823990821838, 0.9143481254577637, 0.08312255889177322, 0.06252193450927734, 0.7695007920265198, 0.03366565704345703, 0.09618759900331497, 0.03607034683227539, 0.9843985438346863, 0.05054713040590286, 0.061077781021595, 0.13268621265888214, 0.09214320778846741, 0.07897988706827164, 0.44492003321647644, 0.033171553164720535, 0.0010530651779845357, 0.10530652105808258, 0.07896126806735992, 0.9136946201324463, 0.9554269313812256, 0.008455105125904083, 0.03382042050361633, 0.00321466033346951, 0.16287612915039062, 0.00696509750559926, 0.4768413007259369, 0.0037504371721297503, 0.3455759882926941, 0.9778761863708496, 0.9959118366241455, 0.10158537328243256, 0.1591504067182541, 0.6806219816207886, 0.054178863763809204, 0.9882092475891113, 0.9749019742012024, 0.9584039449691772, 0.018360229209065437, 0.022032273933291435, 0.9908247590065002, 0.34887948632240295, 0.019747896119952202, 0.039495792239904404, 0.07240895181894302, 0.5134453177452087, 0.9859351515769958, 0.005401408765465021, 0.19265024363994598, 0.05221362039446831, 0.22865964472293854, 0.01800469681620598, 0.5035313367843628, 0.8521585464477539, 0.11175850033760071, 0.031432077288627625, 0.14573892951011658, 0.8494497537612915, 0.9908954501152039, 0.016722647473216057, 0.006543644703924656, 0.1046983152627945, 0.016722647473216057, 0.024720435962080956, 0.18176791071891785, 0.0050895013846457005, 0.6434584259986877, 0.339778870344162, 0.04922030121088028, 0.2921462953090668, 0.10955486446619034, 0.023816274479031563, 0.0381060391664505, 0.1460731476545334, 0.9958178997039795, 0.7488309741020203, 0.024286409839987755, 0.2266731560230255, 0.0011975812958553433, 0.06826213747262955, 0.0335322767496109, 0.11257264763116837, 0.21795980632305145, 0.5652583837509155, 0.9975038766860962, 0.9857462048530579, 0.9934539198875427, 0.09841480851173401, 0.15908147394657135, 0.15234072506427765, 0.004044444300234318, 0.002696295967325568, 0.04583703354001045, 0.4974666237831116, 0.04044444113969803, 0.13509123027324677, 0.8480727672576904, 0.017511826008558273, 0.9932500123977661, 0.9886640310287476, 0.24356688559055328, 0.05845605209469795, 0.565075159072876, 0.13152611255645752, 0.9869319796562195, 0.9907801151275635, 0.9940269589424133, 0.11829366534948349, 0.10815420746803284, 0.20954877138137817, 0.03717800974845886, 0.5238719582557678, 0.002806181088089943, 0.25629785656929016, 0.34422487020492554, 0.037415746599435806, 0.3582557737827301, 0.06394817680120468, 0.9336434006690979, 0.8335830569267273, 0.018200503662228584, 0.14560402929782867, 0.03773804381489754, 0.9202277064323425, 0.040640972554683685, 0.03211430832743645, 0.9420197606086731, 0.024977795779705048, 0.003307932522147894, 0.003307932522147894, 0.044657088816165924, 0.35394880175590515, 0.5954278707504272, 0.9878122210502625, 0.009847613982856274, 0.1260494589805603, 0.10438471287488937, 0.007878091186285019, 0.1536227911710739, 0.16150087118148804, 0.346636027097702, 0.08862853050231934, 0.0019695227965712547, 0.9656199812889099, 0.6642921566963196, 0.048392146825790405, 0.008798572234809399, 0.22986268997192383, 0.025295894593000412, 0.0010998215293511748, 0.021996429190039635, 0.9971123337745667, 0.995309591293335, 0.9965529441833496, 0.9889243245124817, 0.9915006160736084, 0.07176440209150314, 0.12144744396209717, 0.6900423169136047, 0.11592710763216019, 0.718806803226471, 0.03105955384671688, 0.07764888554811478, 0.17082755267620087, 0.9896555542945862, 0.03053022362291813, 0.9512575268745422, 0.01767539232969284, 0.9933681488037109, 0.9713506102561951, 0.04654930531978607, 0.5224546790122986, 0.14209787547588348, 0.05267421156167984, 0.007962380535900593, 0.0006124908104538918, 0.226621612906456, 0.00871122907847166, 0.9861111640930176, 0.005226737819612026, 0.9767962694168091, 0.9850864410400391, 0.9811332821846008, 0.002711277222260833, 0.003253532573580742, 0.1377328783273697, 0.03687337040901184, 0.061817120760679245, 0.0005422554677352309, 0.05802133306860924, 0.22124022245407104, 0.4142831563949585, 0.06344388425350189, 0.9945913553237915, 0.22182616591453552, 0.10248108953237534, 0.6732618808746338, 0.9833791851997375, 0.012448235414922237, 0.9834105968475342, 0.5400343537330627, 0.4432651996612549, 0.006243172101676464, 0.003121586050838232, 0.006243172101676464, 0.9859221577644348, 0.005447083618491888, 0.9836611151695251, 0.9954894781112671, 0.9807479977607727, 0.021810414269566536, 0.03140699490904808, 0.283535361289978, 0.0008724165381863713, 0.21635930240154266, 0.34285968542099, 0.03140699490904808, 0.0017448330763727427, 0.06892090290784836, 0.9766702055931091, 0.9894205927848816, 0.06276679039001465, 0.14122527837753296, 0.0919085144996643, 0.20175039768218994, 0.061645954847335815, 0.001120835542678833, 0.08742517232894897, 0.3463381826877594, 0.006725013256072998, 0.9967058897018433, 0.98678058385849, 0.9936384558677673, 0.9959609508514404, 0.4970530569553375, 0.009204686619341373, 0.13639670610427856, 0.10041476041078568, 0.25689440965652466, 0.9496864676475525, 0.04349708929657936, 0.04047520458698273, 0.49508801102638245, 0.16659359633922577, 0.028743261471390724, 0.0381288155913353, 0.04047520458698273, 0.0615927018225193, 0.010558748617768288, 0.0838833898305893, 0.03402263671159744, 0.9886431694030762, 0.9812101721763611, 0.9960580468177795, 0.9960063695907593, 0.9967982769012451, 0.018543757498264313, 0.05315876752138138, 0.0649031475186348, 0.06181252375245094, 0.009890003129839897, 0.45555830001831055, 0.04079626500606537, 0.02843376062810421, 0.26703009009361267, 0.1569208949804306, 0.8406476378440857, 0.9907293915748596, 0.028946494683623314, 0.6657693982124329, 0.07183019071817398, 0.004288369789719582, 0.19512081146240234, 0.002144184894859791, 0.03109067864716053, 0.010159729048609734, 0.9854936599731445, 0.07929357141256332, 0.062888003885746, 0.010025623254477978, 0.40922772884368896, 0.11757322400808334, 0.008202782832086086, 0.13853588700294495, 0.1458272486925125, 0.029165450483560562, 0.9554346799850464, 0.042400944977998734, 0.015447190962731838, 0.0017163546290248632, 0.2711840271949768, 0.1639118641614914, 0.1158539354801178, 0.1956644207239151, 0.013730837032198906, 0.06693782657384872, 0.10813033580780029, 0.04719975218176842, 0.992633044719696, 0.9956775903701782, 0.9955432415008545, 0.660762369632721, 0.33840012550354004, 0.14919430017471313, 0.012624133378267288, 0.010328836739063263, 0.005738242529332638, 0.02295297011733055, 0.019510025158524513, 0.5554618835449219, 0.2237914651632309, 0.06722825020551682, 0.008403531275689602, 0.3081294596195221, 0.6134577393531799, 0.9904333353042603, 0.007446867413818836, 0.3546571135520935, 0.12316066771745682, 0.1893025040626526, 0.012544142082333565, 0.13570481538772583, 0.17789874970912933, 0.00456150621175766, 0.991870105266571, 0.006929527036845684, 0.01870972290635109, 0.002078857971355319, 0.03949830308556557, 0.0256392490118742, 0.24738410115242004, 0.0013859053142368793, 0.0027718106284737587, 0.6555332541465759, 0.9909744262695312, 0.3850608766078949, 0.5898370742797852, 0.02177022583782673, 0.0034015977289527655, 0.290258526802063, 0.7081700563430786, 0.0015196781605482101, 0.9961788058280945, 0.9961211681365967, 0.9916949272155762, 0.9902965426445007, 0.05768587440252304, 0.937395453453064, 0.9751425385475159, 0.9948498606681824, 0.9938596487045288, 0.05858268961310387, 0.9007088541984558, 0.036614179611206055, 0.9799861907958984, 0.015555336140096188, 0.9895318746566772, 0.007603839505463839, 0.03693293407559395, 0.3867095708847046, 0.14664548635482788, 0.2802557945251465, 0.038019198924303055, 0.10319496691226959, 0.9959409236907959, 0.9969366788864136, 0.320048451423645, 0.6727548837661743, 0.3914511501789093, 0.09752878546714783, 0.38477110862731934, 0.053440432995557785, 0.0253842044621706, 0.013360108248889446, 0.0013360107550397515, 0.020040161907672882, 0.010688086040318012, 0.9997886419296265, 0.9989847540855408, 0.990937352180481, 0.9956672191619873, 0.9974632263183594, 0.24067823588848114, 0.1530526578426361, 0.3843841552734375, 0.035050228238105774, 0.18693454563617706, 0.9915379881858826, 0.9963446855545044, 0.056490253657102585, 0.18789149820804596, 0.4519220292568207, 0.1080683171749115, 0.1007000207901001, 0.031929273158311844, 0.02087683416903019, 0.04298171401023865, 0.9842292070388794, 0.03735819831490517, 0.023594651371240616, 0.18482476472854614, 0.011797325685620308, 0.021628430113196373, 0.09044616669416428, 0.6173933744430542, 0.011797325685620308, 0.07794036716222763, 0.02554348111152649, 0.0006549610407091677, 0.09169454872608185, 0.33206525444984436, 0.11068841814994812, 0.16243034601211548, 0.03536789491772652, 0.07073578983545303, 0.09431438893079758, 0.0032254464458674192, 0.8863527178764343, 0.10966517776250839, 0.005080884788185358, 0.07316473871469498, 0.6093674302101135, 0.007451964542269707, 0.14395840466022491, 0.02743677794933319, 0.10060151666402817, 0.03150148689746857, 0.0013549026334658265, 0.05998644977807999, 0.9397876858711243, 0.994411289691925, 0.03541850671172142, 0.9562996625900269, 0.47136190533638, 0.19258804619312286, 0.13193877041339874, 0.13193877041339874, 0.06064927205443382, 0.006384133826941252, 0.0042560892179608345, 0.05482683330774307, 0.6338516473770142, 0.31023964285850525, 0.9960274696350098, 0.9712903499603271, 0.7319410443305969, 0.22046415507793427, 0.0029395222663879395, 0.0014697611331939697, 0.04115331172943115, 0.9718043804168701, 0.9943231344223022, 0.9901587963104248, 0.943006694316864, 0.006571474950760603, 0.04600032418966293, 0.9919251203536987, 0.7891464829444885, 0.027766264975070953, 0.18267278373241425, 0.9924869537353516, 0.031824853271245956, 0.04873180761933327, 0.05967160314321518, 0.18846280872821808, 0.0009945266647264361, 0.13177478313446045, 0.16608595848083496, 0.088015615940094, 0.008453477174043655, 0.2759811580181122, 0.06249818950891495, 0.9218482971191406, 0.9917689561843872, 0.9973483085632324, 0.9966756701469421, 0.20911672711372375, 0.7121667265892029, 0.04533299803733826, 0.033634159713983536, 0.7354645133018494, 0.09524001181125641, 0.02116444706916809, 0.14286001026630402, 0.005291111767292023, 0.990874707698822, 0.018280256539583206, 0.889639139175415, 0.009140128269791603, 0.02742038480937481, 0.0578874796628952, 0.9873998165130615, 0.9898973107337952, 0.5635032057762146, 0.007826433517038822, 0.019566083326935768, 0.08609077334403992, 0.23479300737380981, 0.039132166653871536, 0.015652867034077644, 0.027392517775297165, 0.6315931081771851, 0.0005969689227640629, 0.15342099964618683, 0.07700898498296738, 0.017312098294496536, 0.04417569935321808, 0.04895145073533058, 0.0017909066518768668, 0.02447572536766529, 0.9934436082839966, 0.9692568182945251, 0.01900503598153591, 0.9842014312744141, 0.9920811057090759, 0.9889575839042664, 0.014323028735816479, 0.07597432285547256, 0.014323028735816479, 0.136380136013031, 0.09652475267648697, 0.10648860037326813, 0.5561071634292603, 0.9937687516212463, 0.195969358086586, 0.11155179142951965, 0.018089478835463524, 0.009044739417731762, 0.03919387236237526, 0.6271019577980042, 0.029382161796092987, 0.5692793726921082, 0.17482386529445648, 0.1638055443763733, 0.014691080898046494, 0.0484805665910244, 0.9993208050727844, 0.9696325063705444, 0.991209089756012, 0.9913341999053955, 0.9940521717071533, 0.9887264370918274, 0.01251552440226078, 0.15156547725200653, 0.34706297516822815, 0.03075241483747959, 0.04393202066421509, 0.07358613610267639, 0.02745751291513443, 0.2273482084274292, 0.03185071423649788, 0.06370142847299576, 0.001098300563171506, 0.018212271854281425, 0.11230901628732681, 0.0015176893211901188, 0.1866757869720459, 0.3809400200843811, 0.3005024790763855, 0.9948830008506775, 0.9960259199142456, 0.06032227724790573, 0.002154367044568062, 0.02154367044568062, 0.3619336485862732, 0.5536723136901855, 0.40268802642822266, 0.05188005417585373, 0.012352393940091133, 0.5286824703216553, 0.3773556053638458, 0.3856491446495056, 0.016587059944868088, 0.008293529972434044, 0.21148501336574554, 0.7110854983329773, 0.2868044972419739, 0.9903157353401184, 0.9884667992591858, 0.010478447191417217, 0.9891401529312134, 0.9947943687438965, 0.9961115717887878, 0.9805789589881897, 0.014960418455302715, 0.500342845916748, 0.109709732234478, 0.03989444673061371, 0.06316620856523514, 0.014960418455302715, 0.2576516568660736, 0.9972081184387207, 0.9923914670944214, 0.8988248705863953, 0.00269917375408113, 0.09717025607824326, 0.9915621876716614, 0.0355154424905777, 0.012150019407272339, 0.5149738788604736, 0.005607701372355223, 0.10935017466545105, 0.038319289684295654, 0.05233854427933693, 0.00747693469747901, 0.19533492624759674, 0.02803850546479225, 0.37111228704452515, 0.033092815428972244, 0.17255540192127228, 0.4231152832508087, 0.05897822603583336, 0.715873658657074, 0.14236123859882355, 0.008134927600622177, 0.012202391400933266, 0.04677583649754524, 0.016269855201244354, 0.2295801341533661, 0.6812865138053894, 0.07304822653532028, 0.0014907801523804665, 0.0014907801523804665, 0.013417021371424198, 0.9877917170524597, 0.9751741290092468, 0.7316144704818726, 0.26741769909858704, 0.9871512055397034, 0.008226259611546993, 0.9926100969314575, 0.9924830794334412, 0.07199031859636307, 0.5806176066398621, 0.04069017991423607, 0.003130013821646571, 0.00782503467053175, 0.05790525674819946, 0.09077040106058121, 0.14711065590381622, 0.17156189680099487, 0.6887339949607849, 0.06713292002677917, 0.07459212839603424, 0.9922094345092773, 0.0037870588712394238, 0.9425236582756042, 0.049606505781412125, 0.035608869045972824, 0.024363962933421135, 0.06403349339962006, 0.025613395497202873, 0.48478037118911743, 0.18272972106933594, 0.05278858542442322, 0.05341330170631409, 0.07684019207954407, 0.9828704595565796, 0.008426823653280735, 0.17134542763233185, 0.7766723036766052, 0.04072964936494827, 0.0014044706476852298, 0.9859776496887207, 0.9928610324859619, 0.009244251064956188, 0.09640433639287949, 0.003961822018027306, 0.8636772036552429, 0.026412146165966988, 0.9943181276321411, 0.14916731417179108, 0.048036932945251465, 0.004213765729218721, 0.19130496680736542, 0.6067823171615601, 0.8960311412811279, 0.07119348645210266, 0.00035956306965090334, 0.03164155036211014, 0.9992634654045105, 0.9959521889686584, 0.9970844388008118, 0.995004415512085, 0.01750764809548855, 0.6582875847816467, 0.012255353853106499, 0.11379971355199814, 0.19608566164970398, 0.995103657245636, 0.7686662077903748, 0.1334359496831894, 0.028190692886710167, 0.06953704357147217, 0.9903190732002258, 0.006757689639925957, 0.98662269115448, 0.9754079580307007, 0.9816569089889526, 0.9986727237701416, 0.9959192276000977, 0.19047458469867706, 0.011983499862253666, 0.001261421013623476, 0.745499849319458, 0.007568526081740856, 0.042257603257894516, 0.017112594097852707, 0.982262909412384, 0.10079541057348251, 0.8972768187522888, 0.9931772351264954, 0.9911030530929565, 0.9724532961845398, 0.9936019778251648, 0.0008818606147542596, 0.901261568069458, 0.0004409303073771298, 0.03615628555417061, 0.025573957711458206, 0.03527442365884781, 0.8066542744636536, 0.18958234786987305, 0.24253781139850616, 0.7531437277793884, 0.9927529096603394, 0.003107864875346422, 0.0357404462993145, 0.6207960247993469, 0.071480892598629, 0.10644437372684479, 0.1616089791059494, 0.9941834211349487, 0.9957930445671082, 0.9886847734451294, 0.9839169979095459, 0.9969570636749268, 0.992007851600647, 0.9716050028800964, 0.9959777593612671, 0.9780896902084351, 0.038753800094127655, 0.08322537690401077, 0.024141712114214897, 0.003811849281191826, 0.078142911195755, 0.5717774033546448, 0.010800239630043507, 0.06480143964290619, 0.12388510257005692, 0.9254719018936157, 0.06906507164239883, 0.9911785125732422, 0.46759292483329773, 0.006168772466480732, 0.24551713466644287, 0.00863628089427948, 0.009870035573840141, 0.011103790253400803, 0.2492184042930603, 0.9830945730209351, 0.00837558601051569, 0.0791027620434761, 0.10888262093067169, 0.019543034955859184, 0.05490662157535553, 0.009306207299232483, 0.5620949268341064, 0.02791862189769745, 0.010236827656626701, 0.12005007266998291, 0.04020088538527489, 0.6580250263214111, 0.10579180717468262, 0.12060265988111496, 0.05712757259607315, 0.004231672268360853, 0.006347508169710636, 0.008463344536721706, 0.02307705581188202, 0.008875790983438492, 0.03372800722718239, 0.11183496564626694, 0.7810695767402649, 0.040828637778759, 0.999342679977417, 0.9931731224060059, 0.9969660639762878, 0.9972004294395447, 0.9944985508918762, 0.0007939509814605117, 0.1008317768573761, 0.010321362875401974, 0.2647826671600342, 0.04803403466939926, 0.5752174854278564, 0.9957842230796814, 0.055217351764440536, 0.9386950135231018, 0.9941887259483337, 0.008021281100809574, 0.35213422775268555, 0.0020053202752023935, 0.027272354811429977, 0.07499897480010986, 0.03368937969207764, 0.3332841992378235, 0.01764681749045849, 0.14558623731136322, 0.006015960592776537, 0.9852248430252075, 0.988682746887207, 0.9721778631210327, 0.9938340187072754, 0.9930728673934937, 0.994672417640686, 0.9851090908050537, 0.8671555519104004, 0.13177363574504852, 0.9919303059577942, 0.9962599873542786, 0.15701228380203247, 0.03538304939866066, 0.05970889702439308, 0.046440254896879196, 0.048651695251464844, 0.6169919371604919, 0.0022114405874162912, 0.008845762349665165, 0.022114407271146774, 0.01472407951951027, 0.02944815903902054, 0.9128928780555725, 0.036810196936130524, 0.9815130829811096, 0.008763509802520275, 0.0019398347940295935, 0.23084034025669098, 0.0019398347940295935, 0.015518678352236748, 0.01357884332537651, 0.0019398347940295935, 0.7351973652839661, 0.15556322038173676, 0.8440132737159729, 0.9924255013465881, 0.9838681221008301, 0.9943397641181946, 0.027385782450437546, 0.022968720644712448, 0.15901422500610352, 0.2208530753850937, 0.1722654104232788, 0.007067298516631126, 0.011484360322356224, 0.3781004846096039, 0.8008491396903992, 0.19459885358810425, 0.9900864958763123, 0.9976118803024292, 0.9946094751358032, 0.978881299495697, 0.009887689724564552, 0.10854149609804153, 0.000710970489308238, 0.41283684968948364, 0.07086005806922913, 0.00355485244654119, 0.4035942554473877, 0.004927910398691893, 0.7650581002235413, 0.22914783656597137, 0.01593041978776455, 0.9717555642127991, 0.7892417907714844, 0.08105726540088654, 0.004266171716153622, 0.1279851496219635, 0.004266171716153622, 0.06910388171672821, 0.7107827663421631, 0.21718361973762512, 0.8986173272132874, 0.007615400943905115, 0.08376941084861755, 0.976345956325531, 0.9982913732528687, 0.9934190511703491, 0.9947248697280884, 0.016058651730418205, 0.016058651730418205, 0.9635190963745117, 0.9857735633850098, 0.014850393868982792, 0.27596980333328247, 0.27596980333328247, 0.3440341055393219, 0.08786483108997345, 0.27314242720603943, 0.009842970408499241, 0.09596895426511765, 0.620107114315033, 0.991492748260498, 0.9686030149459839, 0.9910188317298889, 0.947816014289856, 0.004578821361064911, 0.04578821361064911, 0.9933425784111023, 0.3209284245967865, 0.6739497184753418, 0.0032092842739075422, 0.9886963367462158, 0.9954094886779785, 0.004365831147879362, 0.05707412213087082, 0.18678803741931915, 0.7523407340049744, 0.9987028241157532, 0.2249436229467392, 0.4670025408267975, 0.05990346521139145, 0.07701873779296875, 0.012225196696817875, 0.12102945148944855, 0.0317855104804039, 0.00489007867872715, 0.9938364028930664, 0.9878027439117432, 0.0012665197718888521, 0.9980176091194153, 0.19885492324829102, 0.3162119388580322, 0.013039667159318924, 0.03911900147795677, 0.013039667159318924, 0.41726934909820557, 0.44828739762306213, 0.37824249267578125, 0.010506736114621162, 0.06771007925271988, 0.008171905763447285, 0.02568313293159008, 0.007004490587860346, 0.05253368243575096, 0.14708368480205536, 0.1431788206100464, 0.1301625519990921, 0.005206502508372068, 0.032540637999773026, 0.07549428194761276, 0.3228031396865845, 0.14448043704032898, 0.810754120349884, 0.17966850101947784, 0.008983424864709377, 0.9975133538246155, 0.0737588182091713, 0.9253379106521606, 0.9838322401046753, 0.01150680985301733, 0.000897469581104815, 0.0004487347905524075, 0.0161544531583786, 0.4213619530200958, 0.2544326186180115, 0.03051396645605564, 0.05698931962251663, 0.2194313108921051, 0.9962696433067322, 0.8406746983528137, 0.11722555756568909, 0.00669860327616334, 0.00669860327616334, 0.020095810294151306, 0.00334930163808167, 0.02613935060799122, 0.06861579418182373, 0.8952727913856506, 0.006534837651997805, 0.0032674188259989023, 0.18087486922740936, 0.01565263234078884, 0.6174094080924988, 0.0034783626906573772, 0.0017391813453286886, 0.1773965060710907, 0.0034783626906573772, 0.941016435623169, 0.05346684530377388, 0.9984593987464905, 0.9810413718223572, 0.05534052848815918, 0.05797579139471054, 0.03162315860390663, 0.8538253307342529, 0.9960015416145325, 0.9677063822746277, 0.016919638961553574, 0.016919638961553574, 0.964419424533844, 0.003909667022526264, 0.06255467236042023, 0.003909667022526264, 0.9305008053779602, 0.760582447052002, 0.09585852921009064, 0.011000159196555614, 0.05500079691410065, 0.011000159196555614, 0.06600095331668854, 0.9394003748893738, 0.053680021315813065, 0.9878719449043274, 0.9896623492240906, 0.9921305775642395, 0.006185763515532017, 0.5806885361671448, 0.18170680105686188, 0.03711458295583725, 0.012371527031064034, 0.010051866061985493, 0.10206510126590729, 0.06958983838558197, 0.034500602632761, 0.7245126366615295, 0.04246227815747261, 0.16719523072242737, 0.023885032162070274, 0.9789935946464539, 0.17829759418964386, 0.22573457658290863, 0.389310359954834, 0.20610547065734863, 0.03597096726298332, 0.04083190858364105, 0.25179678201675415, 0.22068674862384796, 0.009721883572638035, 0.0009721883106976748, 0.18568797409534454, 0.017499389126896858, 0.23624175786972046, 0.9949952363967896, 0.8353541493415833, 0.008656519465148449, 0.02596955932676792, 0.1255195289850235, 0.2507989704608917, 0.6961429715156555, 0.021095240488648415, 0.03047090396285057, 0.11843479424715042, 0.1194135919213295, 0.4189263582229614, 0.0068515995517373085, 0.12234999239444733, 0.03132159635424614, 0.14290478825569153, 0.03915199637413025, 0.0019575997721403837, 0.9974077939987183, 0.0014733722200617194, 0.946887195110321, 0.05107690393924713, 0.08876872807741165, 0.07862372696399689, 0.0033816657960414886, 0.10736788809299469, 0.2688424289226532, 0.006763331592082977, 0.2493978589773178, 0.19613660871982574, 0.9928916096687317, 0.5286381244659424, 0.1862371414899826, 0.05869730934500694, 0.006159594282507896, 0.21993374824523926, 0.9766356945037842, 0.9838417172431946, 0.9849280118942261, 0.025053871795535088, 0.14197193086147308, 0.8267777562141418, 0.05791252851486206, 0.6614220142364502, 0.2804185748100281, 0.017337527126073837, 0.14062660932540894, 0.2870323956012726, 0.0038527839351445436, 0.48159798979759216, 0.03082227148115635, 0.034675054252147675, 0.9901498556137085, 0.8199930191040039, 0.08696895837783813, 0.09229358285665512, 0.9877569675445557, 0.9964584708213806, 0.9795425534248352, 0.060494404286146164, 0.3885602056980133, 0.002326707821339369, 0.5467763543128967, 0.9787483215332031, 0.9728829264640808, 0.9971871972084045, 0.9834509491920471, 0.10252831131219864, 0.8912076354026794, 0.44006624817848206, 0.23597756028175354, 0.0015944429906085134, 0.19611647725105286, 0.10204435139894485, 0.023916644975543022, 0.11018043756484985, 0.002295425860211253, 0.5325387716293335, 0.03213595971465111, 0.2008497565984726, 0.11936214566230774, 0.0011477129301056266, 0.00879574753344059, 0.7564342617988586, 0.1899881362915039, 0.031664688140153885, 0.005277448333799839, 0.007036597467958927, 0.8028858304023743, 0.18634313344955444, 0.009202130138874054, 0.9498080015182495, 0.04709791764616966, 0.9883714318275452, 0.10283995419740677, 0.8820503950119019, 0.011866148561239243, 0.9953768253326416, 0.9960561990737915, 0.9467799067497253, 0.045518264174461365, 0.9872599840164185, 0.9840480089187622, 0.9646445512771606, 0.0196866225451231, 0.9848093390464783, 0.21374349296092987, 0.024468952789902687, 0.29722580313682556, 0.0014393500750884414, 0.36343589425086975, 0.004318050108850002, 0.0755658820271492, 0.018711552023887634, 0.09249238669872284, 0.38791581988334656, 0.08006803691387177, 0.0027609667740762234, 0.2774771451950073, 0.16013607382774353, 0.07507824897766113, 0.06182914972305298, 0.7463661432266235, 0.1104091927409172, 0.9982258677482605, 0.9671761393547058, 0.024179402738809586, 0.24602816998958588, 0.10956720262765884, 0.3277055323123932, 0.018925243988633156, 0.20817768573760986, 0.08864982426166534, 0.7427752017974854, 0.2553289830684662, 0.9950268268585205], \"Term\": [\".1986\", \".baker\", \".baker\", \".brown\", \".but\", \".but\", \".but\", \".but\", \".but\", \".but\", \".but\", \".but\", \".call\", \".dlrs\", \".gold\", \".parent\", \".sales\", \".terms\", \".trading\", \".world\", \"1985\", \"1985\", \"1985\", \"1985\", \"1985\", \"1985\", \"1986\", \"1986\", \"1986\", \"1986\", \"1986\", \"1986\", \"1986\", \"1986\", \"1987\", \"1987\", \"1987\", \"1987\", \"1987\", \"1987\", \"1987\", \"1987\", \"account\", \"account\", \"account\", \"account\", \"account\", \"account\", \"account\", \"account\", \"account\", \"acquire\", \"acquire\", \"acquire\", \"acquire\", \"acquisition\", \"acquisition\", \"acquisition\", \"acquisition\", \"acquisition\", \"acre\", \"acre\", \"adjust_stock\", \"administration\", \"administration\", \"administration\", \"agree\", \"agree\", \"agree\", \"agree\", \"agree\", \"agree\", \"agree\", \"agreement\", \"agreement\", \"agreement\", \"agreement\", \"agreement\", \"agreement\", \"agreement\", \"agriculture\", \"agriculture\", \"agriculture\", \"agriculture\", \"airline\", \"allied\", \"anchor\", \"annual_capacity\", \"appeal\", \"appeal_court\", \"approval\", \"approval\", \"approval\", \"approval\", \"approve\", \"approve\", \"approve\", \"approve\", \"april\", \"april\", \"april\", \"april\", \"april\", \"april\", \"april\", \"april\", \"april_record\", \"arabia\", \"area\", \"area\", \"area\", \"area\", \"area\", \"area\", \"asset\", \"asset\", \"asset\", \"asset\", \"asset\", \"asset\", \"asset\", \"asset\", \"association\", \"association\", \"association\", \"association\", \"association\", \"association\", \"average\", \"average\", \"average\", \"average\", \"average\", \"average\", \"bag\", \"baker\", \"baker\", \"balance\", \"balance\", \"balance\", \"balance\", \"balance\", \"balance\", \"balance\", \"balance\", \"balance_payment\", \"band\", \"bank\", \"bank\", \"bank\", \"bank\", \"bank\", \"bank\", \"bank\", \"bankamerica\", \"barley\", \"barrel\", \"barrel\", \"barrel\", \"basin\", \"bass\", \"beef\", \"bilateral\", \"billion\", \"billion\", \"billion\", \"billion\", \"billion\", \"billion\", \"billion\", \"billion\", \"billion_franc\", \"billion_mark\", \"billion_mark\", \"billion_peseta\", \"board\", \"board\", \"board\", \"board\", \"board\", \"board\", \"board\", \"board\", \"board_declare\", \"bonus\", \"british_petroleum\", \"broad\", \"buffer\", \"buffer_stock\", \"bullion\", \"bundesbank\", \"bushel\", \"buy\", \"buy\", \"buy\", \"buy\", \"buy\", \"buy\", \"buy\", \"caesars\", \"calendar_1986\", \"california\", \"california\", \"california\", \"canadian\", \"canadian\", \"canadian\", \"capital\", \"capital\", \"capital\", \"capital\", \"capital\", \"capital\", \"capital\", \"capital\", \"capital\", \"carryforward\", \"cash\", \"cash\", \"cash\", \"cash\", \"cash\", \"cash\", \"cash\", \"cent\", \"cent\", \"cent\", \"cent\", \"cent\", \"cent\", \"cent\", \"cent\", \"cent\", \"central\", \"central\", \"central\", \"central\", \"central\", \"central_bank\", \"central_bank\", \"central_bank\", \"charge\", \"charge\", \"charge\", \"charge\", \"chip\", \"circulation\", \"city\", \"city\", \"city\", \"city\", \"city\", \"city\", \"class\", \"clercq\", \"coarse\", \"coarse_grain\", \"cocoa\", \"coffee\", \"coin\", \"coin\", \"commission\", \"commission\", \"commission\", \"committee\", \"committee\", \"committee\", \"committee\", \"commodity\", \"commodity\", \"commodity\", \"commodity\", \"commodity\", \"commodity\", \"commodity_credit\", \"common\", \"common\", \"common\", \"community\", \"community\", \"compare\", \"compare\", \"compare\", \"compare\", \"complete\", \"complete\", \"complete\", \"complete\", \"complete\", \"complete\", \"complete\", \"complete_sale\", \"congressional\", \"conservation\", \"conservative\", \"consider\", \"consider\", \"consider\", \"consider\", \"consider\", \"consumer\", \"consumer\", \"consumer\", \"consumer\", \"consumer\", \"contract\", \"contract\", \"contract\", \"contract\", \"contract\", \"control\", \"control\", \"control\", \"control\", \"control\", \"control\", \"corn\", \"corn\", \"corp\", \"corp\", \"corp\", \"corp\", \"corp\", \"corp\", \"cost\", \"cost\", \"cost\", \"cost\", \"cost\", \"cost\", \"cost\", \"cost\", \"cost\", \"cotton\", \"cotton\", \"country\", \"country\", \"country\", \"country\", \"country\", \"country\", \"country\", \"court\", \"court\", \"credit\", \"credit\", \"credit\", \"credit\", \"credit\", \"credit\", \"credit\", \"credit\", \"credit_guarantee\", \"crop\", \"crown\", \"crude\", \"crude\", \"crude\", \"crude\", \"cubic\", \"currency\", \"currency\", \"currency\", \"currency\", \"current\", \"current\", \"current\", \"current\", \"current\", \"current\", \"current\", \"current\", \"current\", \"current\", \"current_account\", \"current_level\", \"current_level\", \"cyacq\", \"dauster\", \"dealer\", \"dealer\", \"dealer\", \"debit\", \"debt\", \"debt\", \"debt\", \"debt\", \"debt\", \"debt\", \"debt\", \"debt\", \"december\", \"december\", \"december\", \"december\", \"december\", \"december\", \"december\", \"december\", \"december\", \"december\", \"decision\", \"decision\", \"decision\", \"decision\", \"decision\", \"decision\", \"declare\", \"declare\", \"declare\", \"declare\", \"decline\", \"decline\", \"decline\", \"decline\", \"decline\", \"decline\", \"decline\", \"decline\", \"deficit\", \"deficit\", \"definitive\", \"delegate\", \"denominate\", \"diamond\", \"discontinue\", \"discontinue_operation\", \"discontinued\", \"discovery\", \"dispute\", \"dispute\", \"dispute\", \"dividend\", \"dividend\", \"dixons\", \"dollar\", \"dollar\", \"dollar\", \"dollar\", \"dollar_fall\", \"domestic\", \"domestic\", \"domestic\", \"domestic\", \"domestic\", \"domestic\", \"dominate\", \"drain\", \"drill\", \"drilling\", \"drought\", \"durum\", \"duty\", \"eagle\", \"earlier\", \"earlier\", \"earlier\", \"earlier\", \"earlier\", \"earlier\", \"earlier\", \"earlier\", \"earlier\", \"earlier_report\", \"earn\", \"earn\", \"earn\", \"earn\", \"earn_dlrs\", \"earning\", \"earning\", \"earning\", \"earning\", \"east\", \"east\", \"east\", \"east\", \"east\", \"east\", \"economic\", \"economic\", \"economic\", \"economic_policy\", \"economist\", \"economist\", \"economy\", \"economy\", \"ecuador\", \"ecus\", \"end\", \"end\", \"end\", \"end\", \"end\", \"end\", \"end\", \"end\", \"end\", \"end\", \"energy\", \"energy\", \"energy\", \"energy\", \"enhancement\", \"equity\", \"equity\", \"equity\", \"equity\", \"equity\", \"equity\", \"equity\", \"equity\", \"estate\", \"estate\", \"estate\", \"estimate\", \"estimate\", \"estimate\", \"estimate\", \"estimate\", \"estimate\", \"estimate\", \"european_monetary\", \"exchange\", \"exchange\", \"exchange\", \"exchange\", \"exchange\", \"exchange\", \"exchange_commission\", \"exchange_rate\", \"exchange_rate\", \"exclude\", \"exclude\", \"exclude\", \"exclude\", \"exclude\", \"exclude_loss\", \"expect\", \"expect\", \"expect\", \"expect\", \"expect\", \"expect\", \"expect\", \"expect\", \"expect\", \"expenditure\", \"expenditure\", \"exploration\", \"exploration\", \"exploration\", \"export\", \"export\", \"export\", \"export\", \"export\", \"export\", \"export_enhancement\", \"export_quota\", \"exporter\", \"exporter\", \"exporter\", \"exporter\", \"exposure\", \"external_debt\", \"extraordinary\", \"extraordinary\", \"extraordinary\", \"extraordinary_item\", \"facility\", \"facility\", \"facility\", \"facility\", \"facility\", \"fairchild\", \"fall\", \"fall\", \"fall\", \"fall\", \"fall\", \"fall\", \"farm\", \"farm\", \"farm\", \"farmer\", \"farmer\", \"favor\", \"february\", \"february\", \"february\", \"february\", \"february\", \"february\", \"february\", \"february\", \"federal\", \"federal\", \"federal\", \"federal\", \"federal\", \"federal\", \"federal\", \"feed\", \"field\", \"field\", \"field\", \"figure\", \"figure\", \"figure\", \"figure\", \"figure\", \"figure\", \"filing\", \"filing_securities\", \"financial_service\", \"firm\", \"firm\", \"firm\", \"firm\", \"firm\", \"firm\", \"firm\", \"firm\", \"fiscal\", \"fiscal\", \"fiscal\", \"fiscal_1986\", \"fiscal_1987\", \"fix\", \"fix\", \"fix\", \"fix\", \"fix_asset\", \"flat\", \"foot\", \"forecast\", \"forecast\", \"forecast\", \"forecast\", \"forecast\", \"foreign\", \"foreign\", \"foreign\", \"foreign\", \"foreign\", \"foreign_currency\", \"foreign_currency\", \"foreign_exchange\", \"foreign_exchange\", \"foreign_exchange\", \"fourth\", \"fourth\", \"fourth\", \"fourth_quarter\", \"fourth_quarter\", \"fourth_quarter\", \"franc\", \"franc\", \"franc\", \"franc\", \"franc\", \"franchise\", \"future\", \"future\", \"future\", \"future\", \"future\", \"future\", \"future\", \"future\", \"future\", \"futures\", \"gain\", \"gain\", \"gain\", \"gain\", \"gain\", \"gain\", \"gain\", \"gain_dlrs\", \"gasoline\", \"gatt\", \"gencorp\", \"general_agreement\", \"german\", \"german\", \"german\", \"german\", \"germany\", \"germany\", \"germany\", \"germany\", \"glass\", \"gold\", \"gold\", \"gold\", \"gold_bullion\", \"gold_silver\", \"government\", \"government\", \"government\", \"government\", \"government\", \"government\", \"government\", \"grain\", \"grain\", \"grain\", \"gramm\", \"gross_domestic\", \"gross_national\", \"group\", \"group\", \"group\", \"group\", \"group\", \"group\", \"group\", \"group\", \"group\", \"group\", \"group_turnover\", \"growth\", \"growth\", \"growth\", \"guaranty\", \"guilde\", \"guilde\", \"gulf\", \"gulf\", \"gulf\", \"gulf\", \"gulf\", \"harvest\", \"harvest\", \"hear\", \"hectare\", \"hernandez\", \"high\", \"high\", \"high\", \"high\", \"high\", \"high\", \"high\", \"high\", \"high\", \"hill\", \"hoechst\", \"hold\", \"hold\", \"hold\", \"hold\", \"hold\", \"hold\", \"hold\", \"hold\", \"hold\", \"holder\", \"holder_record\", \"icco\", \"imbalance\", \"import\", \"import\", \"import\", \"import\", \"import\", \"impose\", \"impose\", \"include\", \"include\", \"include\", \"include\", \"include\", \"include\", \"include\", \"include\", \"include\", \"include\", \"include_charge\", \"include_credit\", \"include_gain\", \"incoming\", \"incoming_order\", \"increase\", \"increase\", \"increase\", \"increase\", \"increase\", \"increase\", \"increase\", \"increase\", \"increase\", \"index\", \"index\", \"industrial_production\", \"industry\", \"industry\", \"industry\", \"industry\", \"industry\", \"industry\", \"industry\", \"intent\", \"intent\", \"interest\", \"interest\", \"interest\", \"interest\", \"interest\", \"interest\", \"interest\", \"interest\", \"interest\", \"interest_rate\", \"interest_rate\", \"international\", \"international\", \"international\", \"international\", \"international\", \"international\", \"international\", \"international\", \"international\", \"international\", \"international_coffee\", \"interstate\", \"intervene\", \"intervention\", \"intervention\", \"investment\", \"investment\", \"investment\", \"investment\", \"investment\", \"investment\", \"investment\", \"investment\", \"investor\", \"investor\", \"investor\", \"investor\", \"iran\", \"iran\", \"issue\", \"issue\", \"issue\", \"issue\", \"issue\", \"issue\", \"issue\", \"james_baker\", \"january\", \"january\", \"january\", \"january\", \"january\", \"january\", \"january\", \"january\", \"january\", \"january_december\", \"japan\", \"japan\", \"japan\", \"japan\", \"japanese\", \"japanese\", \"japanese\", \"kansas\", \"kansas_city\", \"keating\", \"kilo\", \"korea\", \"korea\", \"krupp\", \"lake\", \"lawson\", \"lease\", \"lease\", \"lease\", \"legislation\", \"legislation\", \"lending\", \"level\", \"level\", \"level\", \"level\", \"level\", \"level\", \"level\", \"liability\", \"lipc\", \"liquidity\", \"liquidity\", \"loan\", \"loan\", \"loan\", \"loan\", \"loan\", \"loan\", \"loan\", \"loan\", \"loan\", \"loss\", \"loss_loss\", \"loss_oper\", \"loss_profit\", \"loss_revs\", \"low\", \"low\", \"low\", \"low\", \"low\", \"lyng\", \"maize\", \"major\", \"major\", \"major\", \"major\", \"major\", \"major\", \"major\", \"major\", \"malaysian\", \"management\", \"management\", \"management\", \"management\", \"management\", \"management\", \"management\", \"management\", \"march\", \"march\", \"march\", \"march\", \"march\", \"march\", \"march\", \"march\", \"march\", \"march\", \"mark\", \"mark\", \"mark\", \"market\", \"market\", \"market\", \"market\", \"market\", \"market\", \"market\", \"market\", \"market\", \"mature\", \"mature\", \"meat\", \"medical\", \"medical\", \"meeting\", \"meeting\", \"meeting\", \"meeting\", \"meeting\", \"meeting\", \"meeting\", \"merger\", \"merger\", \"merger\", \"meston\", \"miner\", \"minister\", \"minister\", \"minister\", \"minister\", \"minister\", \"ministers\", \"missile\", \"miyazawa\", \"monetary\", \"monetary\", \"monetary\", \"monetary_policy\", \"money\", \"money\", \"money\", \"money_supply\", \"month\", \"month\", \"month\", \"month\", \"month\", \"month\", \"month\", \"month\", \"month\", \"month\", \"morgan_guaranty\", \"morgan_guaranty\", \"mortgage\", \"mth\", \"mulford\", \"nation\", \"nation\", \"nation\", \"nation\", \"natural\", \"natural\", \"natural\", \"natural\", \"natural\", \"negara\", \"negotiation\", \"negotiation\", \"negotiation\", \"negotiation\", \"negotiation\", \"newmont\", \"night_close\", \"north\", \"north\", \"north\", \"north\", \"north\", \"north\", \"north\", \"north\", \"note\", \"note\", \"note\", \"note\", \"note\", \"note\", \"note\", \"note\", \"note\", \"note_current\", \"note_prior\", \"note_prior\", \"november_december\", \"nuclear\", \"oecd\", \"offer\", \"offer\", \"offer\", \"offer\", \"offer\", \"offer\", \"offer\", \"offering\", \"office\", \"office\", \"office\", \"office\", \"office\", \"office\", \"official\", \"official\", \"official\", \"official\", \"official\", \"official\", \"oper\", \"oper_exclude\", \"oper_loss\", \"oper_oper\", \"oper_profit\", \"operating_profit\", \"operating_profit\", \"operation\", \"operation\", \"operation\", \"operation\", \"operation\", \"operation\", \"operation\", \"operation\", \"operation\", \"operation\", \"order\", \"order\", \"order\", \"order\", \"order\", \"order\", \"organization\", \"ounce\", \"output\", \"output\", \"output\", \"output\", \"output\", \"outstanding\", \"outstanding\", \"outstanding\", \"outstanding\", \"own\", \"own\", \"own\", \"own\", \"own\", \"pacific\", \"pacific\", \"packaging\", \"paris\", \"paris\", \"paris_accord\", \"paris_agreement\", \"payable\", \"payable_april\", \"payment\", \"payment\", \"payment\", \"payment\", \"payment\", \"payment\", \"payment\", \"payout\", \"peseta\", \"petroleum\", \"petroleum\", \"petroleum\", \"pipeline\", \"plan\", \"plan\", \"plan\", \"plan\", \"plan\", \"plan\", \"plan\", \"plan\", \"plan\", \"plan\", \"plant\", \"plant\", \"plant\", \"plant\", \"point\", \"point\", \"point\", \"point\", \"point\", \"point\", \"point\", \"policy\", \"policy\", \"policy\", \"policy\", \"policy\", \"policy\", \"poll\", \"pope\", \"port\", \"port\", \"practice\", \"practice\", \"predecessor\", \"preferred\", \"president\", \"president\", \"president\", \"president\", \"president\", \"president\", \"president\", \"president\", \"pressure\", \"pressure\", \"pressure\", \"pressure\", \"pretax\", \"pretax\", \"pretax_profit\", \"pretax_profit\", \"price\", \"price\", \"price\", \"price\", \"price\", \"price\", \"price\", \"price\", \"price\", \"print\", \"prior\", \"prior\", \"prior\", \"prior\", \"prior\", \"privately\", \"proceeding\", \"producer\", \"producer\", \"producer\", \"producer\", \"producer\", \"producer_consumer\", \"production\", \"production\", \"production\", \"production\", \"production\", \"profit\", \"profit\", \"profit\", \"profit\", \"profit_loss\", \"profit_profit\", \"profit_revs\", \"profitability\", \"program\", \"program\", \"program\", \"program\", \"program\", \"progressive\", \"proposal\", \"proposal\", \"proposal\", \"proposal\", \"propose_merger\", \"provisional\", \"provisional\", \"public_sector\", \"purolator\", \"qtly\", \"qtly_prior\", \"quarter\", \"quarter\", \"quarter\", \"quarter\", \"quarter\", \"quarter\", \"quarterly\", \"quarterly\", \"quota\", \"quota\", \"rain\", \"rainbow\", \"raise_stake\", \"rand\", \"rate\", \"rate\", \"rate\", \"rate\", \"rate\", \"rate\", \"reagan\", \"reagan\", \"real_estate\", \"real_estate\", \"rebate\", \"record\", \"record\", \"record\", \"record\", \"record\", \"record\", \"record_april\", \"record_march\", \"redundancy\", \"refiner\", \"refinery\", \"refining\", \"regular_dividend\", \"remark\", \"repair\", \"report\", \"report\", \"report\", \"report\", \"report\", \"report\", \"report\", \"report\", \"report\", \"representative\", \"representative\", \"research_development\", \"reserve\", \"reserve\", \"reserve\", \"reserve\", \"reserve\", \"reserve\", \"reserve\", \"restate\", \"result\", \"result\", \"result\", \"result\", \"result\", \"result\", \"result\", \"result\", \"result\", \"result\", \"reuters\", \"reuters\", \"reuters\", \"reuters\", \"reuters\", \"reuters\", \"reuters\", \"reuters\", \"revenue\", \"revenue\", \"revenue\", \"revenue\", \"revenue\", \"revenue\", \"revs\", \"revs_mth\", \"revs_note\", \"revs_shrs\", \"ringgit\", \"rise\", \"rise\", \"rise\", \"rise\", \"rise\", \"rise\", \"roaster\", \"rubber\", \"rubber\", \"ruling\", \"sale\", \"sale\", \"sale\", \"sale\", \"sale\", \"sale\", \"sale\", \"sale\", \"sale\", \"sale\", \"sale_mth\", \"sale_shrs\", \"sales\", \"satisfactory\", \"saudi\", \"saudi_arabia\", \"seaman\", \"season\", \"season\", \"seasonally\", \"seasonally_adjust\", \"second\", \"second\", \"second\", \"second\", \"second\", \"second\", \"second\", \"second\", \"second\", \"second_half\", \"second_half\", \"second_half\", \"second_half\", \"secondary\", \"secondary\", \"sector\", \"sector\", \"sector\", \"sector\", \"sector\", \"sector\", \"sector\", \"securities\", \"securities\", \"securities_exchange\", \"seek_control\", \"sees\", \"sell\", \"sell\", \"sell\", \"sell\", \"sell\", \"sell\", \"sell\", \"sell\", \"senate\", \"senate\", \"sentiment\", \"sets\", \"sets_quarterly\", \"settle\", \"settle\", \"share\", \"share\", \"share\", \"share\", \"share\", \"share\", \"shareholder\", \"shareholder\", \"shareholder\", \"shearson\", \"shearson\", \"ship\", \"ship\", \"ship\", \"ship\", \"ship\", \"shipment\", \"shipment\", \"shipment\", \"shipping\", \"shipping\", \"shipping\", \"short_ton\", \"shrs\", \"shrs_note\", \"siemens\", \"silver\", \"silver\", \"silver\", \"software\", \"source\", \"source\", \"source\", \"source\", \"source\", \"south\", \"south\", \"south\", \"south\", \"south_africa\", \"south_african\", \"south_korea\", \"southern\", \"southern\", \"southern\", \"southern_pacific\", \"soviet\", \"soviet\", \"soviet\", \"soviets\", \"soybean\", \"soybean\", \"spending\", \"spending\", \"spending\", \"split\", \"spokesman\", \"spokesman\", \"spokesman\", \"spokesman\", \"spokesman\", \"spokesman\", \"spokesman\", \"spokesman\", \"stability\", \"stabilize\", \"stake\", \"stake\", \"standard\", \"standard\", \"standard\", \"standard\", \"standard\", \"standard\", \"state\", \"state\", \"state\", \"state\", \"state\", \"state\", \"state\", \"state\", \"statement\", \"statement\", \"statement\", \"statement\", \"statement\", \"statement\", \"statement\", \"statement\", \"states\", \"states\", \"states\", \"statistics\", \"steel\", \"steel\", \"sterling\", \"sterling\", \"stock\", \"stock\", \"stock\", \"stock\", \"stock\", \"stock\", \"stock\", \"stock\", \"stock_split\", \"strike\", \"strike\", \"strike\", \"strike\", \"strike\", \"strike\", \"subject\", \"subject\", \"subject\", \"subject\", \"subject\", \"subsidiary\", \"subsidiary\", \"subsidiary\", \"subsidiary\", \"subsidiary\", \"subsidiary\", \"subsidiary\", \"subsidy\", \"subsidy\", \"sugar\", \"sulphur\", \"surplus\", \"surplus\", \"surplus\", \"surplus\", \"survey\", \"taft\", \"taiwan\", \"taiwan\", \"taiwan\", \"takeover\", \"takeover\", \"takeover\", \"takeover\", \"talk\", \"talk\", \"talk\", \"talk\", \"talk\", \"talk\", \"tariff\", \"tariff\", \"tariffs\", \"tariffs_trade\", \"telegraph\", \"tell\", \"tell\", \"tell\", \"tell\", \"tell\", \"tell\", \"tell\", \"tell\", \"tell_reuters\", \"tell_reuters\", \"tell_reuters\", \"tell_reuters\", \"tell_reuters\", \"tell_securities\", \"tender\", \"tender\", \"tender\", \"tender\", \"term\", \"term\", \"term\", \"term\", \"term\", \"term\", \"term\", \"term\", \"term\", \"texaco\", \"texas\", \"texas\", \"texas\", \"texas\", \"think\", \"think\", \"think\", \"think\", \"today\", \"today\", \"today\", \"today\", \"today\", \"today\", \"today\", \"today\", \"today\", \"ton\", \"tonne\", \"tonne\", \"tonne\", \"total\", \"total\", \"total\", \"total\", \"total\", \"total\", \"total\", \"total\", \"total_outstanding\", \"trade\", \"trade\", \"trade\", \"trade\", \"trade\", \"trade_balance\", \"trade_representative\", \"trade_source\", \"trade_surplus\", \"trade_surplus\", \"trade_surplus\", \"trader\", \"trader\", \"trader\", \"trading\", \"trading\", \"trading\", \"trading\", \"trading\", \"trading\", \"trading\", \"traffic\", \"treasury\", \"treasury\", \"treasury\", \"treasury_bill\", \"treasury_secretary\", \"turnaround\", \"turnover\", \"turnover\", \"turnover\", \"turnover\", \"turnover_billion\", \"unclear\", \"undisclosed\", \"undisclosed_term\", \"unemployment\", \"unemployment\", \"union\", \"union\", \"union\", \"union\", \"union\", \"union\", \"unit\", \"unit\", \"unit\", \"unit\", \"unit\", \"unit\", \"unit\", \"united\", \"united\", \"united\", \"united\", \"united\", \"united\", \"united_states\", \"united_states\", \"united_states\", \"urge\", \"urge\", \"usair\", \"usda\", \"usda\", \"usda\", \"vegetable\", \"venezuela\", \"vessel\", \"vessel\", \"video\", \"violate\", \"visit\", \"visit\", \"volcker\", \"week\", \"week\", \"week\", \"week\", \"week\", \"week\", \"week\", \"week\", \"west\", \"west\", \"west\", \"west\", \"west\", \"west\", \"west_german\", \"west_german\", \"west_german\", \"west_german\", \"wheat\", \"winter\", \"winter\", \"world\", \"world\", \"world\", \"world\", \"world\", \"world\", \"year_earlier\", \"year_earlier\", \"zinc\"]}, \"R\": 30, \"lambda.step\": 0.01, \"plot.opts\": {\"xlab\": \"PC1\", \"ylab\": \"PC2\"}, \"topic.order\": [1, 2, 3, 4, 5, 6, 7, 8, 9, 10]};\n",
       "\n",
       "function LDAvis_load_lib(url, callback){\n",
       "  var s = document.createElement('script');\n",
       "  s.src = url;\n",
       "  s.async = true;\n",
       "  s.onreadystatechange = s.onload = callback;\n",
       "  s.onerror = function(){console.warn(\"failed to load library \" + url);};\n",
       "  document.getElementsByTagName(\"head\")[0].appendChild(s);\n",
       "}\n",
       "\n",
       "if(typeof(LDAvis) !== \"undefined\"){\n",
       "   // already loaded: just create the visualization\n",
       "   !function(LDAvis){\n",
       "       new LDAvis(\"#\" + \"ldavis_el1992825064541207523687752441\", ldavis_el1992825064541207523687752441_data);\n",
       "   }(LDAvis);\n",
       "}else if(typeof define === \"function\" && define.amd){\n",
       "   // require.js is available: use it to load d3/LDAvis\n",
       "   require.config({paths: {d3: \"https://cdnjs.cloudflare.com/ajax/libs/d3/3.5.5/d3.min\"}});\n",
       "   require([\"d3\"], function(d3){\n",
       "      window.d3 = d3;\n",
       "      LDAvis_load_lib(\"https://cdn.rawgit.com/bmabey/pyLDAvis/files/ldavis.v1.0.0.js\", function(){\n",
       "        new LDAvis(\"#\" + \"ldavis_el1992825064541207523687752441\", ldavis_el1992825064541207523687752441_data);\n",
       "      });\n",
       "    });\n",
       "}else{\n",
       "    // require.js not available: dynamically load d3 & LDAvis\n",
       "    LDAvis_load_lib(\"https://cdnjs.cloudflare.com/ajax/libs/d3/3.5.5/d3.min.js\", function(){\n",
       "         LDAvis_load_lib(\"https://cdn.rawgit.com/bmabey/pyLDAvis/files/ldavis.v1.0.0.js\", function(){\n",
       "                 new LDAvis(\"#\" + \"ldavis_el1992825064541207523687752441\", ldavis_el1992825064541207523687752441_data);\n",
       "            })\n",
       "         });\n",
       "}\n",
       "</script>"
      ],
      "text/plain": [
       "PreparedData(topic_coordinates=              x         y  topics  cluster       Freq\n",
       "topic                                                \n",
       "0     -0.041663  0.076322       1        1   7.467767\n",
       "1      0.382647 -0.141464       2        1   5.642323\n",
       "2     -0.153520  0.029264       3        1  16.014149\n",
       "3     -0.180861 -0.074199       4        1  17.494740\n",
       "4      0.139723  0.261021       5        1   8.445354\n",
       "5     -0.149575 -0.047745       6        1  10.190975\n",
       "6      0.076598 -0.162049       7        1  10.282345\n",
       "7     -0.104591  0.035416       8        1   6.050314\n",
       "8      0.060667  0.239513       9        1   8.384624\n",
       "9     -0.029424 -0.216078      10        1  10.027411, topic_info=     Category         Freq        Term        Total  loglift  logprob\n",
       "128   Default  4472.000000        loss  4472.000000  30.0000  30.0000\n",
       "33    Default  4766.000000     billion  4766.000000  29.0000  29.0000\n",
       "969   Default  2781.000000      profit  2781.000000  28.0000  28.0000\n",
       "204   Default  4219.000000       share  4219.000000  27.0000  27.0000\n",
       "1915  Default  1551.000000        revs  1551.000000  26.0000  26.0000\n",
       "...       ...          ...         ...          ...      ...      ...\n",
       "94    Topic10   369.783752  government  1632.677490   0.8148  -4.9501\n",
       "627   Topic10   272.413971        debt   728.240112   1.3165  -5.2557\n",
       "104   Topic10   306.947876      import  1195.043457   0.9406  -5.1364\n",
       "67    Topic10   263.860321    economic   773.046875   1.2249  -5.2876\n",
       "305   Topic10   266.142365     decline   972.162354   1.0044  -5.2790\n",
       "\n",
       "[682 rows x 6 columns], token_table=      Topic      Freq          Term\n",
       "term                               \n",
       "4667      2  0.982609         .1986\n",
       "4369      4  0.978460        .baker\n",
       "4369     10  0.013978        .baker\n",
       "5866      5  0.990767        .brown\n",
       "0         1  0.001147          .but\n",
       "...     ...       ...           ...\n",
       "253       8  0.208178         world\n",
       "253      10  0.088650         world\n",
       "1547      7  0.742775  year_earlier\n",
       "1547     10  0.255329  year_earlier\n",
       "1188      1  0.995027          zinc\n",
       "\n",
       "[1708 rows x 3 columns], R=30, lambda_step=0.01, plot_opts={'xlab': 'PC1', 'ylab': 'PC2'}, topic_order=[1, 2, 3, 4, 5, 6, 7, 8, 9, 10])"
      ]
     },
     "execution_count": 106,
     "metadata": {},
     "output_type": "execute_result"
    }
   ],
   "source": [
    "import pyLDAvis.gensim\n",
    "import warnings\n",
    "\n",
    "pyLDAvis.enable_notebook()\n",
    "warnings.filterwarnings(\"ignore\", category=DeprecationWarning) \n",
    "\n",
    "pyLDAvis.gensim.prepare(model, corpus, dictionary, sort_topics=False)"
   ]
  },
  {
   "cell_type": "markdown",
   "metadata": {},
   "source": [
    "Hover over every one of gensim's 10 LDA latent decompositions to see what proportion of words it's constituted by."
   ]
  },
  {
   "cell_type": "markdown",
   "metadata": {},
   "source": [
    "Finally, let's inspect the topics the model recognizes in some of the individual documents. Here we see how LDA tends to assign a high probability to a low number of topics for each documents, which makes its results very interpretable."
   ]
  },
  {
   "cell_type": "code",
   "execution_count": null,
   "metadata": {},
   "outputs": [],
   "source": [
    "for (text, doc) in zip(texts[:10], docs[:10]):\n",
    "    print(text)\n",
    "    print([(topic+1, prob) for (topic, prob) in model[dictionary.doc2bow(doc)] if prob > 0.1])"
   ]
  },
  {
   "cell_type": "markdown",
   "metadata": {},
   "source": [
    "## Conclusion\n",
    "\n",
    "Many collections of unstructured texts don't come with any labels. Topic models such as **Latent Dirichlet Allocation** (LDA) are a useful technique to discover the most prominent topics in such documents. \n",
    "\n",
    "`Gensim` makes training these topics model ***easy***, and `pyLDAvis` presents the results in a visually attractive way. \n",
    "\n",
    "Together, `gensim` and `pyLDAvis` form a powerful toolkit to better understand what's ***inside*** large sets of documents, and to explore subsets of related texts. \n",
    "\n",
    "While these results are often very revealing already, it's also possible to **use them as a starting point, for example for a labelling exercise for *supervised* text classification**. "
   ]
  },
  {
   "cell_type": "markdown",
   "metadata": {},
   "source": [
    "<a id='section5'></a>"
   ]
  },
  {
   "cell_type": "markdown",
   "metadata": {},
   "source": [
    "## Notebook Contents:\n",
    "- Part 1: [Introduction to Natural Language Processing (NLP)](#section1)\n",
    "- Part 2: [Big Data processing: Optimizations often required for NLP](#section2)\n",
    "- Part 3: [NLP with the Reuters dataset](#section3)\n",
    "- Part 4: [Words 2 Vectors](#section4)\n",
    "- Part 5: [NLP-ing Litterature](#section5)"
   ]
  },
  {
   "cell_type": "markdown",
   "metadata": {},
   "source": [
    "# Part 5: NLP-ing Litterature\n",
    "\n",
    "Treating texts as a list of word frequencies (i.e. a vector) allows us to use all the mathematical tools we developed in class: From linear algebra to GPs. I wanted to also spend some time on less structured texts, because some of you may choose, like I did with your midterm, to analyze litterature.\n",
    "\n",
    "<br />\n",
    "<center>\n",
    "<img src=\"ipynb.images/sense-sensibility-2.jpg\" width=600 />\n",
    "</center>\n",
    "\n",
    "So let's use texts by [Jane Austen](https://en.wikipedia.org/wiki/Jane_Austen) and [Charlotte Brontë](https://en.wikipedia.org/wiki/Charlotte_Bront%C3%AB), downloaded from [project Gutenberg](https://www.gutenberg.org/). Jane and Charlotte wrote very seminal english romances that were made into movies, such as [Sense and sensibility](https://en.wikipedia.org/wiki/Sense_and_Sensibility).\n",
    "\n",
    "## Count Vectorization"
   ]
  },
  {
   "cell_type": "code",
   "execution_count": 1,
   "metadata": {},
   "outputs": [],
   "source": [
    "import numpy as np  # a conventional alias\n",
    "from sklearn.feature_extraction.text import CountVectorizer"
   ]
  },
  {
   "cell_type": "code",
   "execution_count": 2,
   "metadata": {},
   "outputs": [],
   "source": [
    "filenames = ['data/austen-brontë/Austen_Emma.txt',           \n",
    "             'data/austen-brontë/Austen_Pride.txt',          \n",
    "             'data/austen-brontë/Austen_Sense.txt',          \n",
    "             'data/austen-brontë/CBronte_Jane.txt',          \n",
    "             'data/austen-brontë/CBronte_Professor.txt',     \n",
    "             'data/austen-brontë/CBronte_Villette.txt']      \n",
    "                                                             \n",
    "vectorizer = CountVectorizer(input='filename')               \n",
    "dtm = vectorizer.fit_transform(filenames)  # a sparse matrix "
   ]
  },
  {
   "cell_type": "code",
   "execution_count": 7,
   "metadata": {},
   "outputs": [
    {
     "data": {
      "text/plain": [
       "['allurements',\n",
       " 'alluring',\n",
       " 'allusion',\n",
       " 'allusions',\n",
       " 'ally',\n",
       " 'almane',\n",
       " 'almost',\n",
       " 'alms',\n",
       " 'almsgiving',\n",
       " 'alnaschar']"
      ]
     },
     "execution_count": 7,
     "metadata": {},
     "output_type": "execute_result"
    }
   ],
   "source": [
    "vocab_list = vectorizer.get_feature_names()\n",
    "vocab_list[1000:1010]"
   ]
  },
  {
   "cell_type": "markdown",
   "metadata": {},
   "source": [
    "Now we have a **document-term matrix** and a **vocabulary list**. \n",
    "\n",
    "Before we query the matrix and find out how many times the word\n",
    "'love' occurs in `Austen_Emma` (the first book in `filenames`), we need to\n",
    "convert this matrix from a [sparse\n",
    "matrix](http://docs.scipy.org/doc/scipy/reference/sparse.html) into a\n",
    "normal NumPy array. \n",
    "\n",
    "We will also convert `vocab`, a list of vocabulary, to an array of strings, as an array supports a greater variety of\n",
    "operations."
   ]
  },
  {
   "cell_type": "code",
   "execution_count": 9,
   "metadata": {},
   "outputs": [
    {
     "data": {
      "text/plain": [
       "numpy.ndarray"
      ]
     },
     "execution_count": 9,
     "metadata": {},
     "output_type": "execute_result"
    }
   ],
   "source": [
    "type(dtm)"
   ]
  },
  {
   "cell_type": "code",
   "execution_count": 15,
   "metadata": {},
   "outputs": [
    {
     "data": {
      "text/plain": [
       "(6, 22854)"
      ]
     },
     "execution_count": 15,
     "metadata": {},
     "output_type": "execute_result"
    }
   ],
   "source": [
    "dtm.shape"
   ]
  },
  {
   "cell_type": "code",
   "execution_count": 10,
   "metadata": {},
   "outputs": [
    {
     "data": {
      "text/plain": [
       "numpy.ndarray"
      ]
     },
     "execution_count": 10,
     "metadata": {},
     "output_type": "execute_result"
    }
   ],
   "source": [
    "vocab = np.array(vocab_list)\n",
    "type(vocab)"
   ]
  },
  {
   "cell_type": "code",
   "execution_count": 16,
   "metadata": {},
   "outputs": [
    {
     "data": {
      "text/plain": [
       "22854"
      ]
     },
     "execution_count": 16,
     "metadata": {},
     "output_type": "execute_result"
    }
   ],
   "source": [
    "len(vocab)"
   ]
  },
  {
   "cell_type": "markdown",
   "metadata": {},
   "source": [
    "The first file, indexed by 0 in Python, is **Austen_Emma**\n",
    "```(python)\n",
    "filenames[0] == 'data/austen-brontë/Austen_Emma.txt'\n",
    "````\n",
    "How many times the word `love` occurs in the first file?"
   ]
  },
  {
   "cell_type": "code",
   "execution_count": 13,
   "metadata": {},
   "outputs": [
    {
     "data": {
      "text/plain": [
       "117"
      ]
     },
     "execution_count": 13,
     "metadata": {},
     "output_type": "execute_result"
    }
   ],
   "source": [
    "# use the standard Python list method index(...)                    \n",
    "love_idx = vocab_list.index('love')                               \n",
    "dtm[0, love_idx]                                                   "
   ]
  },
  {
   "cell_type": "code",
   "execution_count": 12,
   "metadata": {},
   "outputs": [
    {
     "data": {
      "text/plain": [
       "array([117], dtype=int64)"
      ]
     },
     "execution_count": 12,
     "metadata": {},
     "output_type": "execute_result"
    }
   ],
   "source": [
    "# alternatively, use NumPy indexing                                 \n",
    "dtm[0, vocab == 'love']  "
   ]
  },
  {
   "cell_type": "markdown",
   "metadata": {},
   "source": [
    "Let's verify that this is the right result:"
   ]
  },
  {
   "cell_type": "code",
   "execution_count": 14,
   "metadata": {},
   "outputs": [
    {
     "data": {
      "text/plain": [
       "'love'"
      ]
     },
     "execution_count": 14,
     "metadata": {},
     "output_type": "execute_result"
    }
   ],
   "source": [
    "vocab[love_idx]"
   ]
  },
  {
   "cell_type": "code",
   "execution_count": 17,
   "metadata": {},
   "outputs": [],
   "source": [
    "n, _ = dtm.shape\n",
    "dist = np.zeros((n, n))\n",
    "for i in range(n):\n",
    "    for j in range(n):\n",
    "        x, y = dtm[i, :], dtm[j, :]\n",
    "        dist[i, j] = np.sqrt(np.sum((x - y)**2))"
   ]
  },
  {
   "cell_type": "code",
   "execution_count": 18,
   "metadata": {},
   "outputs": [
    {
     "data": {
      "text/plain": [
       "array([[   0. , 3856.3, 4182.8, 5119.7, 7113.3, 5280.2],\n",
       "       [3856.3,    0. , 1922.6, 6313.1, 4126.2, 6381.2],\n",
       "       [4182.8, 1922.6,    0. , 6657.4, 4045.3, 6650.3],\n",
       "       [5119.7, 6313.1, 6657.4,    0. , 8363.8, 2591.5],\n",
       "       [7113.3, 4126.2, 4045.3, 8363.8,    0. , 8484.1],\n",
       "       [5280.2, 6381.2, 6650.3, 2591.5, 8484.1,    0. ]])"
      ]
     },
     "execution_count": 18,
     "metadata": {},
     "output_type": "execute_result"
    }
   ],
   "source": [
    "from sklearn.metrics.pairwise import euclidean_distances\n",
    "dist = euclidean_distances(dtm)\n",
    "np.round(dist, 1)"
   ]
  },
  {
   "cell_type": "code",
   "execution_count": 19,
   "metadata": {},
   "outputs": [
    {
     "data": {
      "text/plain": [
       "6313.0833987838305"
      ]
     },
     "execution_count": 19,
     "metadata": {},
     "output_type": "execute_result"
    }
   ],
   "source": [
    "# *Pride and Prejudice* is index 1 and *Jane Eyre* is index 3\n",
    "filenames[1] == 'data/austen-brontë/Austen_Pride.txt'\n",
    "filenames[3] == 'data/austen-brontë/CBronte_Jane.txt'\n",
    "\n",
    "# the distance between *Pride and Prejudice* and *Jane Eyre*\n",
    "dist[1, 3]"
   ]
  },
  {
   "cell_type": "code",
   "execution_count": 21,
   "metadata": {},
   "outputs": [
    {
     "data": {
      "text/plain": [
       "True"
      ]
     },
     "execution_count": 21,
     "metadata": {},
     "output_type": "execute_result"
    }
   ],
   "source": [
    "# which is greater than the distance between *Jane Eyre* and *Villette* (index 5)\n",
    "dist[1, 3] > dist[3, 5]"
   ]
  },
  {
   "cell_type": "markdown",
   "metadata": {},
   "source": [
    "And if we want to use a measure of distance that takes into consideration the length of the novels (an excellent idea), we can calculate the cosine similarity by importing sklearn.metrics.pairwise.cosine_similarity and use it in place of euclidean_distances.\n",
    "\n",
    "Keep in mind that cosine similarity is a measure of similarity (rather than distance) that ranges between 0 and 1 (as it is the cosine of the angle between the two vectors). In order to get a measure of distance (or dissimilarity), we need to “flip” the measure so that a larger angle receives a larger value. The distance measure derived from cosine similarity is therefore one minus the cosine similarity between two vectors."
   ]
  },
  {
   "cell_type": "code",
   "execution_count": 22,
   "metadata": {},
   "outputs": [
    {
     "data": {
      "text/plain": [
       "array([[-0.  ,  0.02,  0.03,  0.05,  0.06,  0.05],\n",
       "       [ 0.02, -0.  ,  0.02,  0.05,  0.04,  0.04],\n",
       "       [ 0.03,  0.02, -0.  ,  0.06,  0.05,  0.05],\n",
       "       [ 0.05,  0.05,  0.06,  0.  ,  0.02,  0.01],\n",
       "       [ 0.06,  0.04,  0.05,  0.02, -0.  ,  0.01],\n",
       "       [ 0.05,  0.04,  0.05,  0.01,  0.01,  0.  ]])"
      ]
     },
     "execution_count": 22,
     "metadata": {},
     "output_type": "execute_result"
    }
   ],
   "source": [
    "from sklearn.metrics.pairwise import cosine_similarity\n",
    "dist = 1 - cosine_similarity(dtm)\n",
    "np.round(dist, 2)"
   ]
  },
  {
   "cell_type": "code",
   "execution_count": 23,
   "metadata": {},
   "outputs": [
    {
     "data": {
      "text/plain": [
       "0.04702623432316544"
      ]
     },
     "execution_count": 23,
     "metadata": {},
     "output_type": "execute_result"
    }
   ],
   "source": [
    "# the distance between *Pride and Prejudice* (index 1) and *Jane Eyre* (index 3) is\n",
    "dist[1, 3]"
   ]
  },
  {
   "cell_type": "code",
   "execution_count": 24,
   "metadata": {},
   "outputs": [
    {
     "data": {
      "text/plain": [
       "True"
      ]
     },
     "execution_count": 24,
     "metadata": {},
     "output_type": "execute_result"
    }
   ],
   "source": [
    "# which is greater than the distance between *Jane Eyre* and *Villette* (index 5)\n",
    "dist[1, 3] > dist[3, 5]"
   ]
  },
  {
   "cell_type": "markdown",
   "metadata": {},
   "source": [
    "It is often desirable to visualize the pairwise distances between our texts. A general approach to visualizing distances is to assign a point in a plane to each text, making sure that the distance between points is proportional to the pairwise distances we calculated. This kind of visualization is common enough that it has a name, “multidimensional scaling” (MDS) and family of functions in scikit-learn"
   ]
  },
  {
   "cell_type": "code",
   "execution_count": 25,
   "metadata": {},
   "outputs": [],
   "source": [
    "import os  # for os.path.basename\n",
    "import matplotlib.pyplot as plt\n",
    "from sklearn.manifold import MDS\n",
    "\n",
    "# two components as we're plotting points in a two-dimensional plane\n",
    "# \"precomputed\" because we provide a distance matrix\n",
    "# we will also specify `random_state` so the plot is reproducible.\n",
    "mds = MDS(n_components=2, dissimilarity=\"precomputed\", random_state=1)\n",
    "pos = mds.fit_transform(dist)  # shape (n_components, n_samples)"
   ]
  },
  {
   "cell_type": "code",
   "execution_count": null,
   "metadata": {},
   "outputs": [],
   "source": [
    "%matplotlib inline\n",
    "xs, ys = pos[:, 0], pos[:, 1]\n",
    "\n",
    "# short versions of filenames:\n",
    "# convert 'data/austen-brontë/Austen_Emma.txt' to 'Austen_Emma'\n",
    "names = [os.path.basename(fn).replace('.txt', '') for fn in filenames]\n",
    "\n",
    "# color-blind-friendly palette\n",
    "for x, y, name in zip(xs, ys, names):\n",
    "    color = 'orange' if \"Austen\" in name else 'skyblue'\n",
    "    plt.scatter(x, y, c=color)\n",
    "    plt.text(x, y, name)"
   ]
  },
  {
   "cell_type": "code",
   "execution_count": 27,
   "metadata": {},
   "outputs": [],
   "source": [
    "mds = MDS(n_components=3, dissimilarity=\"precomputed\", random_state=1)\n",
    "pos = mds.fit_transform(dist)"
   ]
  },
  {
   "cell_type": "code",
   "execution_count": null,
   "metadata": {},
   "outputs": [],
   "source": [
    "from mpl_toolkits.mplot3d import Axes3D\n",
    "fig = plt.figure()\n",
    "ax = fig.add_subplot(111, projection='3d')\n",
    "ax.scatter(pos[:, 0], pos[:, 1], pos[:, 2])\n",
    "\n",
    "for x, y, z, s in zip(pos[:, 0], pos[:, 1], pos[:, 2], names):\n",
    "    ax.text(x, y, z, s)"
   ]
  },
  {
   "cell_type": "markdown",
   "metadata": {},
   "source": [
    "## Clustering texts based on distance\n",
    "\n",
    "Clustering texts into discrete groups of similar texts is often a useful exploratory step. For example, a researcher may be wondering if certain textual features partition a collection of texts by author or by genre. Pairwise distances alone do not produce any kind of classification. To put a set of distance measurements to work in classification requires additional assumptions, such as a definition of a group or cluster.\n",
    "\n",
    "The ideas underlying the transition from distances to clusters are, for the most part, common sense. Any clustering of texts should result in texts that are closer to each other (in the distance matrix) residing in the same cluster. There are many ways of satisfying this requirement; there no unique clustering based on distances that is the “best”. One strategy for clustering in circulation is called Ward’s method. Rather than producing a single clustering, Ward’s method produces a hierarchy of clusterings, as we will see in a moment. All that Ward’s method requires is a set of pairwise distance measurements–such as those we calculated a moment ago. Ward’s method produces a hierarchical clustering of texts via the following procedure:\n",
    "\n",
    "Start with each text in its own cluster\n",
    "Until only a single cluster remains,\n",
    "Find the closest clusters and merge them. The distance between two clusters is the change in the sum of squared distances when they are merged.\n",
    "Return a tree containing a record of cluster-merges.\n",
    "The function scipy.cluster.hierarchy.ward performs this algorithm and returns a tree of cluster-merges. The hierarchy of clusters can be visualized using scipy.cluster.hierarchy.dendrogram."
   ]
  },
  {
   "cell_type": "code",
   "execution_count": null,
   "metadata": {},
   "outputs": [],
   "source": [
    "from scipy.cluster.hierarchy import ward, dendrogram\n",
    "linkage_matrix = ward(dist)\n",
    "\n",
    "# match dendrogram to that returned by R's hclust()\n",
    "dendrogram(linkage_matrix, orientation=\"right\", labels=names)"
   ]
  },
  {
   "cell_type": "markdown",
   "metadata": {},
   "source": [
    "## Tokenization, stemming, and chunking\n",
    "\n",
    "Languages that do not mark word boundaries present a challenge. Chinese and Classical Greek provide two important examples.\n",
    "\n",
    "Consider the following sequence of Chinese characters: 爱国人. This sequence could be broken up into the following tokens: [“爱”， 国人”] (to love one’s compatriots) or [“爱国”, “人”] (a country-loving person). Resolving this kind of ambiguity (when it can be resolved) is challenging. For Chinese and for other languages with this feature there are a number of tokenization strategies in circulation."
   ]
  },
  {
   "cell_type": "code",
   "execution_count": 30,
   "metadata": {},
   "outputs": [
    {
     "data": {
      "text/plain": [
       "['chain', 'is', 'only', 'as', 'strong', 'as', 'its', 'weakest', 'link']"
      ]
     },
     "execution_count": 30,
     "metadata": {},
     "output_type": "execute_result"
    }
   ],
   "source": [
    "# note that CountVectorizer discards \"words\" that contain only one character, such as \"s\"\n",
    "# CountVectorizer also transforms all words into lowercase\n",
    "from sklearn.feature_extraction.text import CountVectorizer\n",
    "CountVectorizer().build_tokenizer()(\"A chain is only as strong as its weakest link\")"
   ]
  },
  {
   "cell_type": "code",
   "execution_count": 31,
   "metadata": {},
   "outputs": [
    {
     "data": {
      "text/plain": [
       "['授人以鱼不如授人以渔']"
      ]
     },
     "execution_count": 31,
     "metadata": {},
     "output_type": "execute_result"
    }
   ],
   "source": [
    "CountVectorizer().build_tokenizer()(\"授人以鱼不如授人以渔\")"
   ]
  },
  {
   "cell_type": "code",
   "execution_count": 32,
   "metadata": {},
   "outputs": [
    {
     "data": {
      "text/plain": [
       "['A', 'chain', 'is', 'only', 'as', 'strong', 'as', 'its', 'weakest', 'link']"
      ]
     },
     "execution_count": 32,
     "metadata": {},
     "output_type": "execute_result"
    }
   ],
   "source": [
    "# nltk word_tokenize uses the TreebankWordTokenizer and needs to be given\n",
    "# a single sentence at a time.\n",
    "from nltk.tokenize import word_tokenize\n",
    "word_tokenize(\"A chain is only as strong as its weakest link\")"
   ]
  },
  {
   "cell_type": "code",
   "execution_count": 34,
   "metadata": {},
   "outputs": [
    {
     "data": {
      "text/plain": [
       "['word', 'word']"
      ]
     },
     "execution_count": 34,
     "metadata": {},
     "output_type": "execute_result"
    }
   ],
   "source": [
    "from nltk.stem.snowball import EnglishStemmer\n",
    "\n",
    "stemmer = EnglishStemmer()\n",
    "\n",
    "# note that the stem function works one word at a time\n",
    "words = [\"word\", \"words\"]\n",
    "[stemmer.stem(w) for w in words]"
   ]
  },
  {
   "cell_type": "markdown",
   "metadata": {},
   "source": [
    "One way to split a text is to read through it and create a chunk every n words, where n is a number such as 500, 1,000 or 10,000. The  function below  accomplishes this. \n",
    "\n",
    "To divide up the books, we simply apply this function to each text in the corpus. We do need to be careful to record the original file name and chunk number as we will need them later. One way to keep track of these details is to collect them in a list of Python dictionaries. There will be one dictionary for each chunk, containing the original filename, a number for the chunk, and the text of the chunk."
   ]
  },
  {
   "cell_type": "code",
   "execution_count": 44,
   "metadata": {},
   "outputs": [
    {
     "data": {
      "text/plain": [
       "['data/austen-brontë\\\\Austen_Emma.txt',\n",
       " 'data/austen-brontë\\\\Austen_Pride.txt',\n",
       " 'data/austen-brontë\\\\Austen_Sense.txt',\n",
       " 'data/austen-brontë\\\\CBronte_Jane.txt',\n",
       " 'data/austen-brontë\\\\CBronte_Professor.txt',\n",
       " 'data/austen-brontë\\\\CBronte_Villette.txt']"
      ]
     },
     "execution_count": 44,
     "metadata": {},
     "output_type": "execute_result"
    }
   ],
   "source": [
    "# using the Python standard library package 'glob'\n",
    "import glob\n",
    "romance_filenames = glob.glob('data/austen-brontë/' + '*.txt')\n",
    "romance_filenames"
   ]
  },
  {
   "cell_type": "code",
   "execution_count": 39,
   "metadata": {},
   "outputs": [],
   "source": [
    "def split_text(filename, n_words):\n",
    "    \"\"\"Split a text into chunks approximately `n_words` words in length.\"\"\"\n",
    "    input = open(filename, 'r')\n",
    "    words = input.read().split(' ')\n",
    "    input.close()\n",
    "    chunks = []\n",
    "    current_chunk_words = []\n",
    "    current_chunk_word_count = 0\n",
    "    for word in words:\n",
    "        current_chunk_words.append(word)\n",
    "        current_chunk_word_count += 1\n",
    "        if current_chunk_word_count == n_words:\n",
    "            chunks.append(' '.join(current_chunk_words))\n",
    "            current_chunk_words = []\n",
    "            current_chunk_word_count = 0\n",
    "    chunks.append(' '.join(current_chunk_words) )\n",
    "    return chunks"
   ]
  },
  {
   "cell_type": "code",
   "execution_count": 45,
   "metadata": {},
   "outputs": [
    {
     "data": {
      "text/plain": [
       "6"
      ]
     },
     "execution_count": 45,
     "metadata": {},
     "output_type": "execute_result"
    }
   ],
   "source": [
    "chunk_length = 1000\n",
    "\n",
    "chunks = []\n",
    "\n",
    "for filename in romance_filenames:\n",
    "    chunk_counter = 0\n",
    "    texts = split_text(filename, chunk_length)\n",
    "    for text in texts:\n",
    "        chunk = {'text': text, 'number': chunk_counter, 'filename': filename}\n",
    "        chunks.append(chunk)\n",
    "        chunk_counter += 1\n",
    "\n",
    "# we started with this many files ...\n",
    "len(romance_filenames)"
   ]
  },
  {
   "cell_type": "code",
   "execution_count": 46,
   "metadata": {},
   "outputs": [
    {
     "data": {
      "text/plain": [
       "813"
      ]
     },
     "execution_count": 46,
     "metadata": {},
     "output_type": "execute_result"
    }
   ],
   "source": [
    "# ... and now we have this many\n",
    "len(chunks)"
   ]
  },
  {
   "cell_type": "markdown",
   "metadata": {},
   "source": [
    "These chunks may be saved in a directory for reference or for analysis in another program."
   ]
  },
  {
   "cell_type": "code",
   "execution_count": 48,
   "metadata": {},
   "outputs": [],
   "source": [
    "# make sure the directory exists\n",
    "output_dir = 'data/austen-brontë/chunks'\n",
    "\n",
    "for chunk in chunks:\n",
    "    basename = os.path.basename(chunk['filename'])\n",
    "    fn = os.path.join(output_dir, \"{}{:04d}\".format(basename, chunk['number']))\n",
    "    with open(fn, 'w') as f:\n",
    "        f.write(chunk['text'])"
   ]
  },
  {
   "cell_type": "markdown",
   "metadata": {},
   "source": [
    "It is possible to split a document into paragraph-length chunks. Finding the appropriate character (sequence) that marks a paragraph boundary requires familiarity with how paragraphs are encoded in the text file. For example, the version of Jane Eyre provided in the austen-brontë corpus, contains no line breaks within paragraphs inside chapters, so the paragraph marker in this case is simply the newline. Using the split string method with the newline as the argument (split('\\n')) will break the text into paragraphs. That is, if the text of Jane Eyre is contained in the variable text then the following sequence will split the document into paragraphs:"
   ]
  },
  {
   "cell_type": "code",
   "execution_count": 49,
   "metadata": {},
   "outputs": [],
   "source": [
    "text = \"There was no possibility of taking a walk that day. We had been wandering, indeed, in the leafless shrubbery an hour in the morning; but since dinner (Mrs. Reed, when there was no company, dined early) the cold winter wind had brought with it clouds so sombre, and a rain so penetrating, that further out-door exercise was now out of the question.\\nI was glad of it: I never liked long walks, especially on chilly afternoons: dreadful to me was the coming home in the raw twilight, with nipped fingers and toes, and a heart saddened by the chidings of Bessie, the nurse, and humbled by the consciousness of my physical inferiority to Eliza, John, and Georgiana Reed.\""
   ]
  },
  {
   "cell_type": "code",
   "execution_count": 50,
   "metadata": {},
   "outputs": [
    {
     "data": {
      "text/plain": [
       "['There was no possibility of taking a walk that day. We had been wandering, indeed, in the leafless shrubbery an hour in the morning; but since dinner (Mrs. Reed, when there was no company, dined early) the cold winter wind had brought with it clouds so sombre, and a rain so penetrating, that further out-door exercise was now out of the question.',\n",
       " 'I was glad of it: I never liked long walks, especially on chilly afternoons: dreadful to me was the coming home in the raw twilight, with nipped fingers and toes, and a heart saddened by the chidings of Bessie, the nurse, and humbled by the consciousness of my physical inferiority to Eliza, John, and Georgiana Reed.']"
      ]
     },
     "execution_count": 50,
     "metadata": {},
     "output_type": "execute_result"
    }
   ],
   "source": [
    "paragraphs = text.split('\\n')\n",
    "paragraphs"
   ]
  },
  {
   "cell_type": "markdown",
   "metadata": {},
   "source": [
    "By contrast, in the Project Gutenberg edition of Brontë’s novel, paragraphs are set off by two newlines in sequence. We still use the split method but we will use two newlines \\n\\n as our delimiter:"
   ]
  },
  {
   "cell_type": "code",
   "execution_count": 51,
   "metadata": {},
   "outputs": [],
   "source": [
    "text = \"There was no possibility of taking a walk that day.  We had been\\nwandering, indeed, in the leafless shrubbery an hour in the morning; but\\nsince dinner (Mrs. Reed, when there was no company, dined early) the cold\\nwinter wind had brought with it clouds so sombre, and a rain so\\npenetrating, that further out-door exercise was now out of the question.\\n\\nI was glad of it: I never liked long walks, especially on chilly\\nafternoons: dreadful to me was the coming home in the raw twilight, with\\nnipped fingers and toes, and a heart saddened by the chidings of Bessie,\\nthe nurse, and humbled by the consciousness of my physical inferiority to\\nEliza, John, and Georgiana Reed.\""
   ]
  },
  {
   "cell_type": "code",
   "execution_count": 52,
   "metadata": {},
   "outputs": [
    {
     "data": {
      "text/plain": [
       "['There was no possibility of taking a walk that day.  We had been\\nwandering, indeed, in the leafless shrubbery an hour in the morning; but\\nsince dinner (Mrs. Reed, when there was no company, dined early) the cold\\nwinter wind had brought with it clouds so sombre, and a rain so\\npenetrating, that further out-door exercise was now out of the question.',\n",
       " 'I was glad of it: I never liked long walks, especially on chilly\\nafternoons: dreadful to me was the coming home in the raw twilight, with\\nnipped fingers and toes, and a heart saddened by the chidings of Bessie,\\nthe nurse, and humbled by the consciousness of my physical inferiority to\\nEliza, John, and Georgiana Reed.']"
      ]
     },
     "execution_count": 52,
     "metadata": {},
     "output_type": "execute_result"
    }
   ],
   "source": [
    "paragraphs = text.split('\\n\\n')\n",
    "paragraphs"
   ]
  },
  {
   "cell_type": "markdown",
   "metadata": {},
   "source": [
    "### Sentiment Analysis\n",
    "\n",
    "One of the benefits of chunking is the ability to easily carry out sentiment analysis on a corpus: You analyze the words in each chunk, counting positive and negative sentiment words, using something like the [NRC corpus](https://nrc.canada.ca/en/research-development/products-services/technical-advisory-services/sentiment-emotion-lexicons) to help identify positive and negative words. The figure below is a sentiment analysis of Shakespeare's [Romeo and Juliet](https://peerchristensen.netlify.com/post/fair-is-foul-and-foul-is-fair-a-tidytext-entiment-analysis-of-shakespeare-s-tragedies/) in **R**, which shows quite nicely how the story begins full of love and hope, and ends in tragedy.\n",
    "\n",
    "<br />\n",
    "<center>\n",
    "<img src=\"ipynb.images/romeo-juliet.png\" width=600 />\n",
    "</center>\n"
   ]
  },
  {
   "cell_type": "markdown",
   "metadata": {},
   "source": [
    "## Visualizing trends\n",
    "\n",
    "Texts often have a **sequence**. Newspapers and periodicals have volumes. Novels have chapters. Personal diaries have dated entries. Visualizations of topic models may benefit from incorporating information about ***where*** a text falls in a sequence, just like a temporal (rise and fall of) sentiment analysis of Romeo and Juliet conveys important information about the kind of novel it is (tragedy).\n",
    "\n",
    "There are many NLP packages that help identify such sequences, and one I like for its simplicity is a local product of Massachusetts called **Mallet**. Even though **2.0.8** is the latest version as of this writing, I have only used the **2.0.7** version, so mae sure you download ***that*** version with the cell below."
   ]
  },
  {
   "cell_type": "code",
   "execution_count": null,
   "metadata": {},
   "outputs": [],
   "source": [
    "%%bash\n",
    "pwd\n",
    "curl http://mallet.cs.umass.edu/dist/mallet-2.0.7.zip > mallet.zip # download the zip archive\n",
    "unzip mallet.zip #unzip the archive into the current directory"
   ]
  },
  {
   "cell_type": "code",
   "execution_count": 134,
   "metadata": {},
   "outputs": [
    {
     "name": "stdout",
     "output_type": "stream",
     "text": [
      "MALLET requires an environment variable MALLET_HOME.\n"
     ]
    }
   ],
   "source": [
    "!c:/Users/Dino/mallet-2.0.7/bin/mallet"
   ]
  },
  {
   "cell_type": "markdown",
   "metadata": {},
   "source": [
    "## Mallet\n",
    "\n",
    "[MALLET](http://mallet.cs.umass.edu/download.php) is a Java LDA application written by [David Mimno](https://twitter.com/dmimno) at the University of Massachusetts. So you have to have the **Java JDK** installed, but otherwise there are no technical dependencies.\n",
    "\n",
    "\n",
    "## Installing Mallet\n",
    "\n",
    "The cell above automatically downloads and unzip version 2.0.7 of MALLET into your `C:\\Users\\<your-username>` folder. You can also download MALLET separately and unzip it yourself. The rest of this notebook expects the MALLET application to be in your `C:/Users/<your-username>/mallet-2.0.7` folder.\n",
    "\n",
    "**You need to create** a MALLET_HOME environment value with the value `C:/Users/<your-username>/mallet-2.0.7`.\n",
    "\n",
    "\n",
    "## Running Mallet\n",
    "\n",
    "We run the MALLET program below, but we don't give it any commands so it complains with `Unrecognized command` and then spit out the list of commands it expects. That means it is working! Now we can actually do something!\n",
    "\n",
    "Now that we have installed MALLET and we have some data, we can start topic modeling. 😊\n",
    "\n",
    "Topic modeling with MALLET involves two steps:\n",
    "\n",
    "- Importing your data\n",
    "- Training the model\n",
    "\n",
    "Importing the data involves re-shaping the narrative text into a **bag-of-words**. It also performs some cleaning such as removing stopwords.\n",
    "\n",
    "Training the model is the **topic modeling** part of the exercise that performs the algorithmic magic to tell you ***what it all means***.\n",
    "\n",
    "## Importing data\n",
    "\n",
    "There is one final bit of data processing that needs to happen for us to be able to topic model. We need to **import** our Austen-Bronte text files using the MALLET application and create a `.mallet` file. \n",
    "\n",
    "For command-line simplicity let's copy all out austen-bronte text files in the `d:/austen-bronte` folder, and let's **mkdir** a `d:/uasten-bronte-mallet` output folder. You many replace `d` with `c`.\n",
    "\n",
    "Let's import the java JDK path and test our java:"
   ]
  },
  {
   "cell_type": "code",
   "execution_count": 126,
   "metadata": {},
   "outputs": [],
   "source": [
    "import sys\n",
    "sys.path.append('D:/Java/jdk1.8.0_151/bin')"
   ]
  },
  {
   "cell_type": "code",
   "execution_count": 130,
   "metadata": {},
   "outputs": [
    {
     "name": "stderr",
     "output_type": "stream",
     "text": [
      "java version \"1.8.0_151\"\n",
      "Java(TM) SE Runtime Environment (build 1.8.0_151-b12)\n",
      "Java HotSpot(TM) 64-Bit Server VM (build 25.151-b12, mixed mode)\n"
     ]
    }
   ],
   "source": [
    "!D:/Java/jdk1.8.0_151/bin/java -version"
   ]
  },
  {
   "cell_type": "code",
   "execution_count": 137,
   "metadata": {},
   "outputs": [
    {
     "name": "stderr",
     "output_type": "stream",
     "text": [
      "java version \"9.0.1\"\r\n",
      "Java(TM) SE Runtime Environment (build 9.0.1+11)\r\n",
      "Java HotSpot(TM) 64-Bit Server VM (build 9.0.1+11, mixed mode)\r\n"
     ]
    }
   ],
   "source": [
    "%%sh\n",
    "java -version"
   ]
  },
  {
   "cell_type": "markdown",
   "metadata": {},
   "source": [
    "The cell below will probably work on Mac and ***not*** on Windows. So on WIndows, ***run the cell code on a terminal***! Don't forget to create your folders `austen-bronte` and `austen-bronte-mallet`, and copy austen-bronte `.txt` files into your `austen-bronte` folder.\n",
    "\n",
    "The cell below does ***not*** run on my WIndows, so I run it on a terminal instead."
   ]
  },
  {
   "cell_type": "code",
   "execution_count": null,
   "metadata": {},
   "outputs": [],
   "source": [
    "%%bash\n",
    "cd mallet-2.0.7/bin\n",
    "mallet import-dir --input d:/austen-bronte --output d:/austen-bronte-mallet/austen-bronte --keep-sequence --remove-stopwords"
   ]
  },
  {
   "cell_type": "markdown",
   "metadata": {},
   "source": [
    "This created a new mallet file, `austen-bronte-mallet/austen-bronte`. This is the file that we will feed back to the MALLET application to **train** a topic modeller."
   ]
  },
  {
   "cell_type": "markdown",
   "metadata": {},
   "source": [
    "## Training the model\n",
    "\n",
    "The command below trains a model on the text with 100 topics. You can tweak that number by changing the `--num-topics` parameter. Additionally, we are writing those keywords to a file (rather than just spitting them out on the command line) with the `--output-topic-keys` parameter.\n",
    "\n",
    "Run the cell below if you ***only want** keywords. Run the cell ***following the one below*** for a more complete output."
   ]
  },
  {
   "cell_type": "code",
   "execution_count": null,
   "metadata": {},
   "outputs": [],
   "source": [
    "!mallet-2.0.7/bin/mallet train-topics --input d:/austen-bronte-mallet/austen-bronte --num-topics 100 --output-topic-keys d:/austen-bronte-mallet/keywords.txt"
   ]
  },
  {
   "cell_type": "markdown",
   "metadata": {},
   "source": [
    "After a minute and a half on my laptop, were done! Now take a look at `keywords.txt` and see if you can get any insights about Austen Bronte romantic novels!\n",
    "\n",
    "For a more thorough analysis, we run the following cell instead, with 50 topics. From mallet's `bin` folder:"
   ]
  },
  {
   "cell_type": "code",
   "execution_count": null,
   "metadata": {},
   "outputs": [],
   "source": [
    "mallet train-topics --input D:/austen-bronte-mallet/austen-bronte --num-topics 20 --output-doc-topics D:/austen-bronte-mallet/doc-topics-austen-bronte.txt --output-topic-keys D:/austen-bronte-mallet/topic-keys-austen-bronte.txt --word-topic-counts-file d:/austen-bronte-mallet/austen-bronte-word-topic.txt --random-seed 1"
   ]
  },
  {
   "cell_type": "markdown",
   "metadata": {},
   "source": [
    "After about 2 minutes on my laptop, we're done!"
   ]
  },
  {
   "cell_type": "code",
   "execution_count": 171,
   "metadata": {},
   "outputs": [],
   "source": [
    "import numpy as np\n",
    "import itertools\n",
    "import operator\n",
    "import os\n",
    "\n",
    "def grouper(n, iterable, fillvalue=None):\n",
    "    \"Collect data into fixed-length chunks or blocks\"\n",
    "    args = [iter(iterable)] * n\n",
    "    return itertools.zip_longest(*args, fillvalue=fillvalue)\n",
    "\n",
    "doctopic_triples = []\n",
    "\n",
    "with open(\"D:/austen-bronte-mallet/doc-topics-austen-bronte.txt\") as f:\n",
    "    f.readline()  # read one line in order to skip the header\n",
    "    for line in f:\n",
    "        docnum, docname, *values = line.rstrip().split('\\t')\n",
    "        for topic, share in grouper(2, values):\n",
    "            #print(docname, \", \", topic, \", \", share)\n",
    "            triple = (docname, int(float(topic)), float(share))\n",
    "            doctopic_triples.append(triple)\n",
    "\n",
    "\n",
    "# sort the triples\n",
    "doctopic_triples.sort(key=operator.itemgetter(0,1))\n",
    "docnames = sorted(set([triple[0] for triple in doctopic_triples]))\n",
    "docnames_base = np.array([os.path.splitext(os.path.basename(n))[0] for n in docnames])\n",
    "num_topics = len(doctopic_triples) // len(docnames)\n",
    "doctopic = np.empty((len(docnames), num_topics))\n",
    "for i, (doc_name, triples) in enumerate(itertools.groupby(doctopic_triples, key=operator.itemgetter(0))):\n",
    "    doctopic[i, :] = np.array([share for _, _, share in triples])\n",
    "\n",
    "docnames = docnames_base\n",
    "\n",
    "# get the topic words\n",
    "with open('D:/austen-bronte-mallet/topic-keys-austen-bronte.txt') as input:\n",
    "    topic_keys_lines = input.readlines() \n",
    "\n",
    "bronte_topic_words = []\n",
    "\n",
    "for line in topic_keys_lines:\n",
    "    #print(line)\n",
    "    n1, n2, thewords = line.rstrip().split('\\t')  # tab-separated\n",
    "    #print(thewords)\n",
    "    thewords2 = thewords.split(' ')  # remove the trailing '\\n'\n",
    "    #print(thewords2)\n",
    "    bronte_topic_words.append(thewords2)"
   ]
  },
  {
   "cell_type": "code",
   "execution_count": 172,
   "metadata": {},
   "outputs": [
    {
     "data": {
      "text/plain": [
       "'lady,looked,fine,evening,large,place,young,beauty,taste,eyes,small,half,sight,pleasant,girls,picture,set,handsome,turn,fair'"
      ]
     },
     "execution_count": 172,
     "metadata": {},
     "output_type": "execute_result"
    }
   ],
   "source": [
    "','.join(bronte_topic_words[0])"
   ]
  },
  {
   "cell_type": "markdown",
   "metadata": {},
   "source": [
    "Because the documents are ordered in a sequence, we can plot the fate, so to speak, of this topic over time with the following lines of code:"
   ]
  },
  {
   "cell_type": "code",
   "execution_count": 194,
   "metadata": {},
   "outputs": [
    {
     "data": {
      "text/plain": [
       "'3\\t2.5\\tmadame pupils english made hand mademoiselle desk vous close garden school lesson pas things presence words teachers teacher lessons class \\n'"
      ]
     },
     "execution_count": 194,
     "metadata": {},
     "output_type": "execute_result"
    }
   ],
   "source": [
    "topic_keys_lines[3]"
   ]
  },
  {
   "cell_type": "markdown",
   "metadata": {},
   "source": [
    "Among the most interesting topic profiles:"
   ]
  },
  {
   "cell_type": "code",
   "execution_count": null,
   "metadata": {},
   "outputs": [],
   "source": [
    "series = doctopic[:, 3]\n",
    "plt.plot(series, '.')  # '.' specifies the type of mark to use on the graph"
   ]
  },
  {
   "cell_type": "code",
   "execution_count": 195,
   "metadata": {},
   "outputs": [
    {
     "data": {
      "text/plain": [
       "'9\\t2.5\\tman family opinion young feelings world brother person acquaintance woman regard years married life marry means general fortune daughter marriage \\n'"
      ]
     },
     "execution_count": 195,
     "metadata": {},
     "output_type": "execute_result"
    }
   ],
   "source": [
    "topic_keys_lines[9]"
   ]
  },
  {
   "cell_type": "code",
   "execution_count": null,
   "metadata": {},
   "outputs": [],
   "source": [
    "series = doctopic[:, 9]\n",
    "plt.plot(series, '.')  # '.' specifies the type of mark to use on the graph"
   ]
  },
  {
   "cell_type": "markdown",
   "metadata": {},
   "source": [
    "This visualization communicates the essential information about the prevalence of a **topic** (*unsupervisably detected via LDA*) in the **corpus**.\n",
    "\n",
    "It would be useful to include an indication of where the various volumes start and end. Another enhancement would add some kind of “smoothing” to the time series in order to better communicate the underlying trend.\n",
    "\n",
    "A rolling average of the topic shares turns out be a useful form of smoothing in this case. We are interested in the prevalence of a topic over time and whether a topic disappears completely in one 500-word chunk of text (only to reappear in the next) does not interest us. We want to visualize the underlying trend, that is, we need some model or heuristic capable of capturing the idea that the topic (or any similar feature) has an underlying propensity to appear at varying points of the novel and that while this propensity may change over time it does not fluctuate wildly.\n",
    "\n",
    "A rolling or [moving average](https://en.wikipedia.org/wiki/Moving_average) of a time series associates with each point in the series the average of some fixed number of previous observations (including the current observation). This fixed number of observations is often called a **window**. The idea of a rolling mean (implemented in `pandas.rolling_mean()`) is effectively communicated visually:"
   ]
  },
  {
   "cell_type": "code",
   "execution_count": 197,
   "metadata": {},
   "outputs": [],
   "source": [
    "series = doctopic[:, 3]"
   ]
  },
  {
   "cell_type": "code",
   "execution_count": null,
   "metadata": {},
   "outputs": [],
   "source": [
    "import pandas as pd\n",
    "\n",
    "# the values on the x-axis (xs) are simply a sequence of integers\n",
    "# corresponding to the texts (also the rows in the document topic matrix)\n",
    "xs = np.arange(len(series))\n",
    "series_smooth = pd.Series(series).rolling(window=15).mean()\n",
    "#series_std = pd.Series(series).rolling(window=15).std()\n",
    "\n",
    "# now we need to calculate at what index each volume starts\n",
    "\n",
    "# method #1\n",
    "#volume_names = [\"Austen_Emma\", \"Austen_Pride\", \"Austen_Sense\", \"CBronte_Jane\", \"CBronte_Professor\", \"CBronte_Villette\"]\n",
    "#volume_indexes = []\n",
    "\n",
    "#for volname in volume_names:\n",
    "#    for i, docname in enumerate(docnames):\n",
    "#        if volname in docname:\n",
    "#            volume_indexes.append(i)\n",
    "#            break\n",
    "            \n",
    "# method #2, uses NumPy functions\n",
    "# hmmm... not too sure here...\n",
    "volume_indexes = []\n",
    "for volname in volume_names:\n",
    "    volume_indexes.append(np.min(np.nonzero([volname in docname for docname in docnames])))\n",
    "    \n",
    "\n",
    "# now we can assemble the plot\n",
    "plt.plot(series, '.', alpha=0.3)\n",
    "plt.plot(series_smooth, '-', linewidth=2)\n",
    "plt.vlines(volume_indexes, ymin=0, ymax=np.max(series))\n",
    "text_xs = np.array(volume_indexes) + np.diff(np.array(volume_indexes + [max(xs)]))/2\n",
    "text_ys = np.repeat(max(series), len(volume_names)) - 0.05\n",
    "for x, y, s in zip(text_xs, text_ys, volume_names):\n",
    "    plt.text(x, y, s, horizontalalignment='center')\n",
    "\n",
    "plt.title('Austen-Bronte, Topic #3 (madame pupils english desk garden school lesson words teacher class)')\n",
    "plt.ylabel(\"Topic share\")\n",
    "plt.xlabel(\"Novel segment\")\n",
    "plt.ylim(0, max(series))\n",
    "#plt.tight_layout()"
   ]
  }
 ],
 "metadata": {
  "kernelspec": {
   "display_name": "Python 3",
   "language": "python",
   "name": "python3"
  },
  "language_info": {
   "codemirror_mode": {
    "name": "ipython",
    "version": 3
   },
   "file_extension": ".py",
   "mimetype": "text/x-python",
   "name": "python",
   "nbconvert_exporter": "python",
   "pygments_lexer": "ipython3",
   "version": "3.6.9"
  }
 },
 "nbformat": 4,
 "nbformat_minor": 2
}
