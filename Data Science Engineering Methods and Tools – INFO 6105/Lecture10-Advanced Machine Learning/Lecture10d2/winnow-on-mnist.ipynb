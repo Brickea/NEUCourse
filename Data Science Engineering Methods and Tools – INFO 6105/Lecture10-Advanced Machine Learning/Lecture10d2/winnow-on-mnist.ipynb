{
 "cells": [
  {
   "cell_type": "markdown",
   "metadata": {},
   "source": [
    "<div style=\"text-align: right\">INFO 6105 Data Science Eng Methods and Tools, Lecture 10 day 2</div>\n",
    "<div style=\"text-align: right\">Dino Konstantopoulos, 20 November 2019</div>\n",
    "\n",
    "# The Winnow\n",
    "\n",
    "Let's work with a very simple ANN: One consisting of three layers: 2 **hidden** ones with 10 neurons each, and a single-neuron input and a single-neuron output. Then, let's revisit the **Winnow algorithm** with an **ensemble** methodology."
   ]
  },
  {
   "cell_type": "markdown",
   "metadata": {},
   "source": [
    "## 1. Autoencoders with `Keras`\n",
    "\n",
    "Excting! We're going to start with `Keras` today, which is the main API behind `TensorFlow 2.0`. I've used `Keras` when it was still a baby, before anyone was saying anything about it, let alone the tensorflow team at Google.\n",
    "\n",
    "This is a single neuron in your brain. Pretty huh? Imagine is talking (we heard a recording of many neurons chirping together last lecture):\n",
    "\n",
    "<br />\n",
    "<center>\n",
    "<img src =ipynb.images/neuron1.png width = 400 />\n",
    "</center>\n",
    "\n",
    "\n",
    "And this is the artificial equivalent, with many inputs coming in from neighboring neurons. The bias is always there, independent of what the inputs are. The bias represents the neuron's ***learning experience***. After the **activation function** gets applied, the output goes to downstream neurons in the next layer.\n",
    "\n",
    "<br />\n",
    "<center>\n",
    "<img src =ipynb.images/neuron-many.png width = 400 />\n",
    "</center>\n",
    "\n",
    "The **activation function** is a non-linear sigmoidal function that transforms the electrochemical **input** potential to a different **output** potential. It is this **non-linearity** that produces the powerful model building capability for networks of neurons. Examples are CNNs, RNNs, and LSTM networks. However, we know based on our **Winnow** experience that even **linear** activation functions can produce effective learning models for simple datasets."
   ]
  },
  {
   "cell_type": "markdown",
   "metadata": {},
   "source": [
    "### A 2-layer model\n",
    "\n",
    "In our two layer model, with 10 neurons in each layers, and a total of 10 + 100 + 10 = 120 connections, we were able to autoencode a noisy sine function. \n",
    "\n",
    "<br />\n",
    "<center>\n",
    "<img src =ipynb.images/neurons-10-10.png width = 150 />\n",
    "</center>"
   ]
  },
  {
   "cell_type": "code",
   "execution_count": 1,
   "metadata": {},
   "outputs": [
    {
     "data": {
      "image/png": "[encoded data removed]",
      "text/plain": [
       "<Figure size 360x216 with 1 Axes>"
      ]
     },
     "metadata": {},
     "output_type": "display_data"
    }
   ],
   "source": [
    "import math\n",
    "import numpy as np\n",
    "import matplotlib.pyplot as plt\n",
    "%matplotlib inline\n",
    "\n",
    "np.random.seed(0)\n",
    "x = np.linspace(0, 2 * math.pi, 200)\n",
    "sine = np.sin(x)\n",
    "err = np.random.normal(0, 0.2, len(sine))\n",
    "y = sine + err\n",
    "plt.figure(figsize=(5, 3))\n",
    "plt.plot(x, y)\n",
    "plt.xlim([0, 2 * math.pi])\n",
    "plt.title('A noise sine')\n",
    "plt.show()"
   ]
  },
  {
   "cell_type": "code",
   "execution_count": 2,
   "metadata": {},
   "outputs": [
    {
     "data": {
      "text/plain": [
       "200"
      ]
     },
     "execution_count": 2,
     "metadata": {},
     "output_type": "execute_result"
    }
   ],
   "source": [
    "len(y)"
   ]
  },
  {
   "cell_type": "markdown",
   "metadata": {},
   "source": [
    "What this means is that we compressed the 200 datapoints resulting from a noisy sine function to a number of weights, by training our neural net. A keras `Dense` layer is really a *sandwich* of two **layers**:"
   ]
  },
  {
   "cell_type": "code",
   "execution_count": 3,
   "metadata": {},
   "outputs": [
    {
     "name": "stderr",
     "output_type": "stream",
     "text": [
      "d:\\Anaconda3.5.1\\lib\\site-packages\\h5py\\__init__.py:36: FutureWarning: Conversion of the second argument of issubdtype from `float` to `np.floating` is deprecated. In future, it will be treated as `np.float64 == np.dtype(float).type`.\n",
      "  from ._conv import register_converters as _register_converters\n",
      "Using Theano backend.\n",
      "d:\\Anaconda3.5.1\\lib\\site-packages\\ipykernel_launcher.py:6: UserWarning: Update your `Dense` call to the Keras 2 API: `Dense(input_dim=1, units=10)`\n",
      "  \n",
      "d:\\Anaconda3.5.1\\lib\\site-packages\\ipykernel_launcher.py:8: UserWarning: Update your `Dense` call to the Keras 2 API: `Dense(units=10)`\n",
      "  \n",
      "d:\\Anaconda3.5.1\\lib\\site-packages\\ipykernel_launcher.py:10: UserWarning: Update your `Dense` call to the Keras 2 API: `Dense(units=1)`\n",
      "  # Remove the CWD from sys.path while we load stuff.\n",
      "d:\\Anaconda3.5.1\\lib\\site-packages\\ipykernel_launcher.py:20: UserWarning: The `nb_epoch` argument in `fit` has been renamed `epochs`.\n"
     ]
    },
    {
     "data": {
      "text/plain": [
       "<keras.callbacks.History at 0x26348532ba8>"
      ]
     },
     "execution_count": 3,
     "metadata": {},
     "output_type": "execute_result"
    }
   ],
   "source": [
    "from keras.models import Sequential\n",
    "from keras.layers.core import Dense, Activation\n",
    "\n",
    "n_conn = 10\n",
    "model = Sequential()\n",
    "model.add(Dense(output_dim=n_conn, input_dim=1)) #from 1 to 10\n",
    "model.add(Activation(\"relu\"))\n",
    "model.add(Dense(output_dim=n_conn)) #from 10 to 10\n",
    "model.add(Activation(\"relu\"))\n",
    "model.add(Dense(output_dim=1)) #from 10 to 1\n",
    "model.compile(loss='mean_squared_error', optimizer='sgd')\n",
    "\n",
    "X_train = np.array(x, ndmin=2).T\n",
    "Y_train = np.array(y, ndmin=2).T\n",
    "\n",
    "model.fit(X_train,\n",
    "          Y_train,\n",
    "          nb_epoch=5000,\n",
    "          verbose=0,\n",
    "          callbacks=[])"
   ]
  },
  {
   "cell_type": "markdown",
   "metadata": {},
   "source": [
    "How many information layers in our neural net?\n",
    "\n",
    "<br />\n",
    "<center>\n",
    "<img src =ipynb.images/neuron-5layers.png width = 150 />\n",
    "</center>"
   ]
  },
  {
   "cell_type": "code",
   "execution_count": 4,
   "metadata": {},
   "outputs": [
    {
     "data": {
      "text/plain": [
       "(5,)"
      ]
     },
     "execution_count": 4,
     "metadata": {},
     "output_type": "execute_result"
    }
   ],
   "source": [
    "np.shape(model.layers)"
   ]
  },
  {
   "cell_type": "markdown",
   "metadata": {},
   "source": [
    "How many weights in total?"
   ]
  },
  {
   "cell_type": "code",
   "execution_count": 5,
   "metadata": {},
   "outputs": [
    {
     "data": {
      "text/plain": [
       "[array([[ 0.07558671, -0.02731602,  0.56138307, -0.36878344,  0.10805937,\n",
       "         -0.44050014, -0.5521841 ,  0.30822212,  0.7508774 ,  0.4316021 ]],\n",
       "       dtype=float32),\n",
       " array([ 6.4156318e-01, -6.9355301e-06, -5.2596337e-01, -8.9821478e-06,\n",
       "         6.0990065e-01, -3.0197665e-05, -4.3725966e-05, -7.8251049e-02,\n",
       "        -1.3609480e+00,  5.2223366e-01], dtype=float32)]"
      ]
     },
     "execution_count": 5,
     "metadata": {},
     "output_type": "execute_result"
    }
   ],
   "source": [
    "weights = model.layers[0].get_weights()\n",
    "weights"
   ]
  },
  {
   "cell_type": "code",
   "execution_count": 6,
   "metadata": {},
   "outputs": [
    {
     "data": {
      "text/plain": [
       "[]"
      ]
     },
     "execution_count": 6,
     "metadata": {},
     "output_type": "execute_result"
    }
   ],
   "source": [
    "weights = model.layers[1].get_weights()\n",
    "weights"
   ]
  },
  {
   "cell_type": "code",
   "execution_count": 7,
   "metadata": {},
   "outputs": [
    {
     "data": {
      "text/plain": [
       "[array([[-0.30330205,  0.14495201,  0.3118862 ,  0.45895725, -0.08304461,\n",
       "         -0.6304284 , -0.19051902,  0.17893852, -0.2843512 ,  0.20973974],\n",
       "        [-0.4584059 , -0.4557514 ,  0.08840276,  0.5015261 , -0.42041102,\n",
       "          0.24514784,  0.16964209,  0.5287002 , -0.09905362, -0.43667072],\n",
       "        [-0.25561795, -0.14615585,  0.28554448, -0.49693623,  0.09481683,\n",
       "          0.4911677 , -0.30012536, -0.1621637 ,  0.16567671,  0.5097417 ],\n",
       "        [ 0.21061802, -0.452083  ,  0.43860346, -0.22990361,  0.04520132,\n",
       "         -0.4112595 , -0.18610354,  0.35950506,  0.48901695, -0.22948715],\n",
       "        [-0.3685887 , -0.20687127, -0.3405207 ,  0.17285463,  0.59805703,\n",
       "         -0.4178629 , -0.34061575, -0.05700661, -0.42839903, -0.02827919],\n",
       "        [ 0.17112249, -0.21771677, -0.06919834,  0.3919421 ,  0.50938046,\n",
       "          0.49181682,  0.22317803,  0.07711881, -0.06585511,  0.05968007],\n",
       "        [ 0.45967752,  0.18730597, -0.02083023, -0.3213762 ,  0.24905762,\n",
       "         -0.54664415, -0.2595555 , -0.51936835, -0.3299557 ,  0.29791293],\n",
       "        [ 0.30877084, -0.47265202, -0.24932255,  0.17319657, -0.28676108,\n",
       "          0.38827398,  0.20322779,  0.29282504, -0.27381268,  0.32139146],\n",
       "        [-0.35585967, -0.44618133, -0.4778189 , -0.8766876 , -0.51775247,\n",
       "          0.73437643,  0.50773996, -0.49476546,  0.29114956,  0.18744063],\n",
       "        [ 0.21784109,  0.37280864,  0.1502814 ,  0.32689157, -0.4144306 ,\n",
       "         -0.7714444 ,  0.48842055,  0.22236843, -0.2707239 , -0.2798886 ]],\n",
       "       dtype=float32),\n",
       " array([-0.03387271, -0.05732011, -0.15063225,  1.1751083 ,  0.69188243,\n",
       "        -0.7288919 , -0.23673674,  0.1496778 , -0.01810089, -0.25570536],\n",
       "       dtype=float32)]"
      ]
     },
     "execution_count": 7,
     "metadata": {},
     "output_type": "execute_result"
    }
   ],
   "source": [
    "weights = model.layers[2].get_weights()\n",
    "weights"
   ]
  },
  {
   "cell_type": "code",
   "execution_count": 8,
   "metadata": {},
   "outputs": [
    {
     "data": {
      "text/plain": [
       "[]"
      ]
     },
     "execution_count": 8,
     "metadata": {},
     "output_type": "execute_result"
    }
   ],
   "source": [
    "weights = model.layers[3].get_weights()\n",
    "weights"
   ]
  },
  {
   "cell_type": "code",
   "execution_count": 9,
   "metadata": {},
   "outputs": [
    {
     "data": {
      "text/plain": [
       "[array([[ 0.39283648],\n",
       "        [ 0.22326359],\n",
       "        [ 0.39553687],\n",
       "        [ 1.4749285 ],\n",
       "        [-1.0500176 ],\n",
       "        [ 1.2764152 ],\n",
       "        [ 0.30588096],\n",
       "        [ 0.7096248 ],\n",
       "        [ 0.66661406],\n",
       "        [ 0.34936446]], dtype=float32), array([-1.7696104], dtype=float32)]"
      ]
     },
     "execution_count": 9,
     "metadata": {},
     "output_type": "execute_result"
    }
   ],
   "source": [
    "weights = model.layers[4].get_weights()\n",
    "weights"
   ]
  },
  {
   "cell_type": "markdown",
   "metadata": {},
   "source": [
    "120 total weights! So we compressed 200 data points to 120 datapoints by building a lower-dimensional model (the neural net), which yields approximately the same data:\n",
    "\n",
    "<br />\n",
    "<center>\n",
    "<img src =ipynb.images/2layers.png width = 400 />\n",
    "</center>\n",
    "\n",
    "This is not different with the dimensionality reduction we accomplished in previous lectures where we modelled datasets as random variates from pdfs like the *gaussian, beta, gamma,* etc. By the way, our data compression rate in that case was much more dramatic as a gaussian takes only **two** parameters (mean and standard deviation), and can be a generative model for**huge** datasets!\n",
    "\n",
    "Our neural net is an example of an **autoencoder** because it encodes our original signal, in a lower dimensional space.\n",
    "\n",
    "We also used keras to build a CNN to classify images, and you can use professor's trained weights to figure out the data compression rate over 32 x 32 images. However, our CNN was not exactly an autoencoder, it is a classifier that classifies images in bins of cat, dog, bird, etc. "
   ]
  },
  {
   "cell_type": "markdown",
   "metadata": {},
   "source": [
    "## 2. The Winnow\n",
    "\n",
    "Back to the simplest kind of learning network: The **Winnow**. And a different dataset.\n",
    "\n",
    ">**Winnowing** in english means to \"remove unwanted items*. It comes to us from [agriculture](https://en.wikipedia.org/wiki/Winnowing). In its simplest form in agriculture, it involves throwing a mixture into the air so that the wind blows away the lighter chaff (junk), while the heavier grains fall back down for recovery.\n",
    "\n",
    "We're going to train a binary classifier based on binary features by throwing away bad training results. That's the basic winnowing algorithm. Our goal is to predict one of two states on a collection of features. \n",
    "\n",
    ">**STATE**:To predict the state of an observation, check all the features that are *active* (true, or detected in an observation) and sum up the weights assigned to these features. If the total is above a certain threshold, the result is true, otherwise it’s false.\n",
    "\n",
    "The learning process feeds examples (observations with known labels) and progressively updates the weights ***when the model makes mistakes***. If the current model predicts the output correctly, ***don’t change anything***! If it predicts true but should predict false, it is over-shooting, so weights that were used in the prediction (i.e. weights attached to *active* features) are reduced (by half). Conversely, if the prediction is false but the correct result should be true, the active features are not used enough to reach the threshold, so they should be bumped up (doubled).\n"
   ]
  },
  {
   "cell_type": "markdown",
   "metadata": {},
   "source": [
    "This is the algorithm:\n",
    "\n",
    "Initialize: weights $w_1 = w_2 = \\cdots = w_n=1$\n",
    "\n",
    "Iterate:\n",
    "\n",
    "Receive an example vector $x = {x_1, x_2, \\cdots x_n}$, with its label (true or false).\n",
    "\n",
    "Predict: \n",
    "Output 1 if …, 0 otherwise.\n",
    "\n",
    "Then, check the label.\n",
    "\n",
    "Update weights *only if making a mistake*:\n",
    "- False-positive error:  for each $x_i = 1$:\t$w_i = 2*w_i$\n",
    "- False-negative error: for each $x_i = 0$:\t$w_i = \\frac{w_i}{2} $\n"
   ]
  },
  {
   "cell_type": "markdown",
   "metadata": {},
   "source": [
    "In other words:\n",
    "\n",
    "```python\n",
    "initialize weights\n",
    "for each epoch:\n",
    "  for each training item X:\n",
    "    compute Y\n",
    "    if correct (Y == label) do nothing\n",
    "    else if incorrect:\n",
    "      if computed Y is too large:\n",
    "        divide all relevant weights by 2.0\n",
    "      else if computed Y is too small:\n",
    "        multiply all relevant weights by 2.0\n",
    "```"
   ]
  },
  {
   "cell_type": "markdown",
   "metadata": {},
   "source": [
    "The algorithm starts with arbitrary initial weights of 1 for every feature.\n",
    "\n",
    "This is the **training process** (expressed in the cool language [F#](https://fsharp.org/) (*if you like being lazy because you can do a lot of programming by writing little code in python, it gets even better with functional languages like F#!*): Either double or halve the weights based on mistakes made:\n",
    "\n",
    "```python\n",
    "let update (theta:float) (alpha:float) (w:Weights) (ex:Example) =\n",
    "\tlet real,obs = ex\n",
    "\tmatch (real,predict theta w obs) with\n",
    "\t| (true,false) -> w |> Array.mapi (fun i x -> if obs.[i] then alpha * x else x)\n",
    "\t| (false,true) -> w |> Array.mapi (fun i x -> if obs.[i] then x / alpha else x)\n",
    "\t| _ -> w\n",
    "```\n",
    "\n",
    "And this is the **prediction function**, which takes in theta (the threshold), weight array, and an observation (features) array. Zip together the features and the weights, exclude the pairs where the feature is not active, sum the weights, and check whether the threshold is lower that the total:\n",
    "```python\n",
    "type Observation = bool []\n",
    "type Label = bool\n",
    "type Example = Label * Observation\n",
    "type Weights = float []\n",
    " \n",
    "let predict (theta:float) (w:Weights) (obs:Observation) =\n",
    "\t(obs,w) ||> Seq.zip\n",
    "\t|> Seq.filter fst\n",
    "\t|> Seq.sumBy snd\n",
    "\t|> ((<) theta)\n",
    "```\n",
    "\n",
    "The algorithm essentially drives the weights of irrelevant predictors to 0, *winnowing them out*. This makes Winnow classification effective in situations where many of the predictor variables are irrelevant (frivolous). Simple, right? :-)\n",
    "\n",
    ">**ANALOGY**: It's like you have an army of lieutenants, each of whose advice you heed. You train them with theoretical situations that you know the result of. If the total voice of all lieutenants is correct, do nothing. if it's wrong, the lieutenants that were right get their voices doubled, the ones that were wrong get their voices halved. In the end, the lieutenant's total vocal output should yield the correct result. The activation function is totally linear!"
   ]
  },
  {
   "cell_type": "markdown",
   "metadata": {},
   "source": [
    ">**DEEP LEARNING IN A NUTSHELL**: Machine Learing with Deep Learning (DL) algorithms is not much different in methodology. The modeling power of DL is much higher due to the artificial neuron’s inherent non-linearities. But the methodology is similar: \n",
    "Train model with feature observations in order to refine weights (synapse strength), use a guiding algorithm (e.g. stochastic gradient descent), and an error metric (e.g. root mean square). Once weights are determined, reuse them for any other observation with similar features. Most of the DL research in the last 20 years was about how to update the weights in training, whether to use a greedy model or not, which activation function to pick, how many layers and neurons per layer, and how to connect the neurons."
   ]
  },
  {
   "cell_type": "markdown",
   "metadata": {},
   "source": [
    "## 3. Lab: Winnow on MNIST\n",
    "\n",
    "Let's download the database of MNIST digits from [here](http://yann.lecun.com/exdb/mnist/).\n",
    "\n",
    "<br />\n",
    "<center>\n",
    "<img src =ipynb.images/mnistexamples.png width = 400 />\n",
    "</center>\n",
    "\n",
    "I already downloaded these, uncompressed them, and put them on blackboard.\n",
    " \n",
    "The original black and white (bilevel) images from NIST were size normalized to fit in a 20x20 pixel box while preserving their aspect ratio. The resulting images contain grey levels as a result of the anti-aliasing technique used by the normalization algorithm. The images are centered in a 28x28 image by computing the center of mass of the pixels, and translating the image so as to position this point at the center of the 28x28 field.\n",
    "\n",
    "This is how we measure success, for each digit:"
   ]
  },
  {
   "cell_type": "code",
   "execution_count": 10,
   "metadata": {},
   "outputs": [],
   "source": [
    "def calculate_macro_f1_score(predictions, true_labels):\n",
    "    true_positives = [0 for i in range(10)]\n",
    "    false_positives = [0 for i in range(10)]\n",
    "    false_negatives = [0 for i in range(10)]\n",
    "\n",
    "    if len(predictions) != len(true_labels):\n",
    "        print(\"bug in code, length of predictions should match length of true_labels\")\n",
    "        return None\n",
    "    for i in range(len(predictions)):\n",
    "        if predictions[i] == true_labels[i]:\n",
    "            true_positives[predictions[i]] += 1\n",
    "        else:\n",
    "            false_positives[predictions[i]] += 1 #if predictions[100] = 5 and true_labels[100] = 9, then 5 was over-predicted \n",
    "            false_negatives[true_labels[i]] += 1 #... and 9 under-predicted\n",
    "\n",
    "    total_classes = 0\n",
    "    total_f1 = 0\n",
    "    for i in range(10):\n",
    "        if (true_positives[i]==0 and false_positives[i]==0):\n",
    "            continue\n",
    "        elif (true_positives[i]==0 and false_negatives[i]==0):\n",
    "            continue\n",
    "        prec = true_positives[i]*1.0/(true_positives[i] + false_positives[i])\n",
    "        recall = true_positives[i]*1.0/(true_positives[i]+false_negatives[i])\n",
    "        f1=0\n",
    "        if prec+recall != 0:\n",
    "            f1 = 2*prec*recall/(prec+recall)\n",
    "        total_classes += 1\n",
    "        total_f1 += f1\n",
    "    return total_f1*100.0/total_classes"
   ]
  },
  {
   "cell_type": "markdown",
   "metadata": {},
   "source": [
    "This is how we transform the data into numpy arrays:"
   ]
  },
  {
   "cell_type": "code",
   "execution_count": 17,
   "metadata": {},
   "outputs": [],
   "source": [
    "import numpy as np\n",
    "import struct\n",
    "\n",
    "def read_file(filename):\n",
    "    with open(filename,'rb') as fp:\n",
    "        zero, data_type, dims = struct.unpack('>HBB', fp.read(4))\n",
    "        shape = tuple(struct.unpack('>I', fp.read(4))[0] for d in range(dims))\n",
    "        np_array = np.frombuffer(fp.read(), dtype=np.uint8).reshape(shape)\n",
    "    return np_array"
   ]
  },
  {
   "cell_type": "markdown",
   "metadata": {},
   "source": [
    "Each digit in MNIST is represented as a 28x28 dimensional vector, each cell having a value in the range \\[0,255\\]. \n",
    "\n",
    "We scale each data value to be 0 or 1 (we divide each cell value by 255 and round). We make the 2D vector into a 1D vector of size 28x28 = 784. This is a stadard procedure in image deep learning.\n",
    "\n",
    "We take the bias term and pass the input value 1 for that feature. So in total we have a 785 dimensional feature space. \n",
    "\n",
    "There are 60k traiing examples and 10k test examples. We will use the first 10k images in the training set for training, and all the images in the test set for testing. \n",
    "\n",
    "We should shuffle the training examples before training, we shuffle in training."
   ]
  },
  {
   "cell_type": "code",
   "execution_count": 18,
   "metadata": {},
   "outputs": [],
   "source": [
    "def preprocess(image_file, label_file):\n",
    "    images = read_file(image_file)\n",
    "    labels = read_file(label_file)\n",
    "    if (len(labels) > 10000):\n",
    "        labels = labels[:10000]\n",
    "        images = images[:10000]\n",
    "    flag_array = images > 128\n",
    "    images.setflags(write=1)\n",
    "    \n",
    "    images[flag_array]=1\n",
    "    images[~flag_array]=0\n",
    "    images = images.reshape( (10000, 784))\n",
    "\n",
    "    labels = labels.reshape(-1,1)\n",
    "    data = np.concatenate((images, labels), axis=1)\n",
    "#     np.random.shuffle(data)\n",
    "    return data"
   ]
  },
  {
   "cell_type": "markdown",
   "metadata": {},
   "source": [
    "Some utility functions. `get_true_label` is a 0-9 discriminator."
   ]
  },
  {
   "cell_type": "code",
   "execution_count": 19,
   "metadata": {},
   "outputs": [],
   "source": [
    "def get_true_label(digit, perceptron_type):\n",
    "    if digit == perceptron_type:\n",
    "        return 1\n",
    "    return -1"
   ]
  },
  {
   "cell_type": "markdown",
   "metadata": {},
   "source": [
    "`get_features_labels` appends labels to the data, for convenience:"
   ]
  },
  {
   "cell_type": "code",
   "execution_count": 20,
   "metadata": {},
   "outputs": [],
   "source": [
    "def get_features_labels(data, bias):\n",
    "    examples = data[:,:-1]\n",
    "    labels = data[:,-1]\n",
    "    examples = np.append(examples, bias, 1)\n",
    "    return examples, labels"
   ]
  },
  {
   "cell_type": "markdown",
   "metadata": {},
   "source": [
    "`inference()` predicts the digit from the data:"
   ]
  },
  {
   "cell_type": "code",
   "execution_count": 21,
   "metadata": {},
   "outputs": [],
   "source": [
    "def inference(test_data, weights):\n",
    "    data_size = len(test_data)\n",
    "    bias = np.ones((data_size,1))\n",
    "    examples, labels = get_features_labels(test_data, bias)\n",
    "    prediction = np.ones(data_size, dtype = int)\n",
    "    correct = 0\n",
    "    for i, example in enumerate(examples):\n",
    "        activation_values = np.sum(weights*example, axis = 1)\n",
    "        prediction[i] = np.argmax(activation_values)\n",
    "        if prediction[i] == labels[i]:\n",
    "            correct += 1\n",
    "#     print correct*1.0/data_size*100\n",
    "    return prediction, labels"
   ]
  },
  {
   "cell_type": "markdown",
   "metadata": {},
   "source": [
    "`get_f1_score()` scores our results:"
   ]
  },
  {
   "cell_type": "code",
   "execution_count": 22,
   "metadata": {},
   "outputs": [],
   "source": [
    "def get_f1_score(test_data, weights):\n",
    "    prediction, true_labels = inference(test_data, weights)\n",
    "    f1_score = calculate_macro_f1_score(prediction, true_labels)\n",
    "    return f1_score"
   ]
  },
  {
   "cell_type": "markdown",
   "metadata": {},
   "source": [
    "`train_winnow()` is our Winnow implementation:"
   ]
  },
  {
   "cell_type": "code",
   "execution_count": 23,
   "metadata": {},
   "outputs": [],
   "source": [
    "def train_winnow(train_data, num_epoches, factor, theta):\n",
    "    data_size = len(train_data)\n",
    "    # weights = np.ones((10,785))\n",
    "    '''\n",
    "    initialize weights for all 10 winnows randomly\n",
    "    ''' \n",
    "    weights = np.random.uniform(0.1,1,[10,785])\n",
    "\n",
    "    average_weights = np.zeros((10,785))\n",
    "    bias = np.ones((data_size,1))\n",
    "    for epoch in range(num_epoches):\n",
    "        np.random.shuffle(train_data)\n",
    "        examples, labels = get_features_labels(train_data, bias)\n",
    "        for i,example in enumerate(examples):\n",
    "            y_pred = np.sum(weights*example, axis = 1)\n",
    "            for j in range(0,10):\n",
    "                label = get_true_label(labels[i], j)\n",
    "                if label == 1 and y_pred[j] < theta:\n",
    "                    weights[j][example == 1] *= factor\n",
    "                elif label == -1 and y_pred[j] >= theta:\n",
    "                    weights[j][example == 1] /= factor\n",
    "            average_weights += weights    \n",
    "    return weights, average_weights           \n"
   ]
  },
  {
   "cell_type": "markdown",
   "metadata": {},
   "source": [
    "Let's preprocess the data to stay in a 2D plane:"
   ]
  },
  {
   "cell_type": "code",
   "execution_count": 24,
   "metadata": {},
   "outputs": [],
   "source": [
    "train_data_size = 10000\n",
    "epochs = 50\n",
    "factor = 1.2 #less dramatic update than a factor of 2\n",
    "theta = 785\n",
    "path = 'data'\n",
    "\n",
    "train_data = preprocess(path + '/train-images.idx3-ubyte', path + '/train-labels.idx1-ubyte')\n",
    "test_data = preprocess(path + '/t10k-images.idx3-ubyte', path + '/t10k-labels.idx1-ubyte')"
   ]
  },
  {
   "cell_type": "markdown",
   "metadata": {},
   "source": [
    "Let's train 10 Winnows!"
   ]
  },
  {
   "cell_type": "code",
   "execution_count": 26,
   "metadata": {},
   "outputs": [],
   "source": [
    "from tqdm import tqdm, trange\n",
    "for i in tqdm(range(10)):\n",
    "    np.random.shuffle(train_data)\n",
    "    weights, avg_weights = train_winnow(train_data[:train_data_size], epochs, factor, theta)"
   ]
  },
  {
   "cell_type": "markdown",
   "metadata": {},
   "source": [
    "Let's see how we did by comparing predictions with labels, on both the training and the test datasets:"
   ]
  },
  {
   "cell_type": "code",
   "execution_count": 27,
   "metadata": {},
   "outputs": [
    {
     "name": "stdout",
     "output_type": "stream",
     "text": [
      "Training F1 Score:  60.96223673178813\n",
      "Test F1 Score:  57.32969224708167\n"
     ]
    }
   ],
   "source": [
    "f1_score_train = get_f1_score(train_data[:train_data_size], weights)\n",
    "f1_score_test = get_f1_score(test_data, weights)\n",
    "\n",
    "print(\"Training F1 Score: \", f1_score_train)\n",
    "print(\"Test F1 Score: \", f1_score_test)"
   ]
  },
  {
   "cell_type": "markdown",
   "metadata": {},
   "source": [
    "The training score is not that great... But MNIST is a big dataset, and we do have a simple linear activation function after all.."
   ]
  }
 ],
 "metadata": {
  "kernelspec": {
   "display_name": "Python 3",
   "language": "python",
   "name": "python3"
  },
  "language_info": {
   "codemirror_mode": {
    "name": "ipython",
    "version": 3
   },
   "file_extension": ".py",
   "mimetype": "text/x-python",
   "name": "python",
   "nbconvert_exporter": "python",
   "pygments_lexer": "ipython3",
   "version": "3.7.3"
  }
 },
 "nbformat": 4,
 "nbformat_minor": 1
}
