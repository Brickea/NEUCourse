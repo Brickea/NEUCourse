{
 "cells": [
  {
   "cell_type": "markdown",
   "metadata": {},
   "source": [
    "# Topics for Mid Term (Data Science Engineering and Tools)\n",
    "\n",
    "1. Data Preprocessing\n",
    "\n",
    "* Regression*\n",
    "2. Simple Linear Regression\n",
    "3. Multiple Linear Regression\n",
    "4. Polynomial Regression\n",
    "5. Support Vector Regression (SVR)\n",
    "6. Decision Tree Regression \n",
    "7. Random Forest Regression\n",
    "8. Evaluation Regression Model Performance (r-squared etc.)\n",
    "\n",
    "* Classification*\n",
    "9. Logistic Regression \n",
    "10. K-Nearest Neighbours (K-NN)\n",
    "11. Support Vector Machines (SVM)\n",
    "12. _Kernel SVM (not sure)_\n",
    "13. Bayes Theorem + Naive Bayes\n",
    "14. Probability Theory\n",
    "15. Decision Tree Classification\n",
    "16. Random Forest Classification\n",
    "17. _Removing False Positives / False Negatives (not sure)_\n",
    "18. Confusion Matrix\n",
    "\n",
    "* Dimensionality Reduction*\n",
    "19. Principle Component Analysis (PCA)\n",
    "20. _Linear Discriminant Analysis (LDA) (not sure)_\n",
    "21. _Kernel PCA (not sure)_\n",
    "\n",
    "* Model Selection*\n",
    "22. _k-Fold Cross Validation (not sure)_\n",
    "23. Grid Search\n",
    "\n",
    "* Linear  Algebra*\n",
    "24. Vectors\n",
    "25. Linear Combinations, Span, Basis      *Vector* \n",
    "26. Linear Transformation, Matrices\n",
    "27. Matrix Multiplication\n",
    "28. 3D Transformation\n",
    "29. Determinant\n",
    "30. Non-square Matrices\n",
    "31. Inverse Matrices, Column / Null Space\n",
    "32. Dot Products, Duality\n",
    "33. Cross Products\n",
    "34. Cross Product Transformations\n",
    "35. Change of Basis\n",
    "36. Eigenvectors, Eigenvalues\n",
    "37. Abstract Vector Spaces\n",
    "38. Genetic Algorithms\n",
    "39. Iteration & Recursion\n",
    "40. Probability Distribution\n",
    "41. Bayes Theorem\n",
    "42. Bayes Estimation (Method of Moments (MOM), Maximum Likelihood Estimation (MLE))"
   ]
  }
 ],
 "metadata": {
  "kernelspec": {
   "display_name": "Python 3",
   "language": "python",
   "name": "python3"
  },
  "language_info": {
   "codemirror_mode": {
    "name": "ipython",
    "version": 3
   },
   "file_extension": ".py",
   "mimetype": "text/x-python",
   "name": "python",
   "nbconvert_exporter": "python",
   "pygments_lexer": "ipython3",
   "version": "3.7.3"
  }
 },
 "nbformat": 4,
 "nbformat_minor": 2
}