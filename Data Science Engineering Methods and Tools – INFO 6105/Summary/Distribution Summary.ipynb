{
 "cells": [
  {
   "cell_type": "markdown",
   "metadata": {},
   "source": [
    "<div style=\"text-align: right\">INFO 6105 Data Science Eng Methods and Tools, Distribution Summary</div>\n",
    "<div style=\"text-align: right\">Zixiao Wang, 15 October 2019, with material from Dino Konstantopoulos and John Salvatier, Thomas V. Wiecki, Christopher Fonnesbeck</div>\n",
    "\n",
    "\n",
    "# Distribution Summary\n",
    "\n",
    "In probabilistic programming, we specify ***variables as probability distributions*** and condition variables on other variables and on observations. It's a powerful tool for building **data models**.\n",
    " \n",
    "`PyMC3` is an open source probabilistic programming framework written in Python.\n",
    "\n",
    "If you have problems running pymc3, you can also run the notebook on [Google](https://colab.research.google.com/notebook) or on [Azure](https://notebooks.azure.com/)."
   ]
  },
  {
   "cell_type": "code",
   "execution_count": 3,
   "metadata": {},
   "outputs": [],
   "source": [
    "%matplotlib inline\n",
    "import numpy as np\n",
    "import pandas as pd\n",
    "import matplotlib.pylab as plt\n",
    "import seaborn as sns\n",
    "sns.set_context('notebook')\n",
    "\n",
    "RANDOM_SEED = 20090425"
   ]
  },
  {
   "cell_type": "markdown",
   "metadata": {},
   "source": [
    "## Random processes\n",
    "\n",
    "The underlying principle of machine learning and artificial intelligence is nothing but statistical mathematics and linear algebra. In statistical math, there are some functions you should know of.\n",
    "\n",
    "A **random variable** is a variable whose possible values are numerical outcomes of a random phenomenon. There are two types of random variables, ***discrete*** and ***continuous***.\n",
    "\n",
    "A **discrete random variable** is one which may take on only a countable number of distinct values and thus can be quantified. For example, you can define a random variable X to be the number which comes up when you roll a fair dice. X can take values : [1,2,3,4,5,6] and therefore is a discrete random variable.\n",
    "\n",
    "</br >\n",
    "<center>\n",
    "<img src=\"images/red-dice.gif\" width=300 />\n",
    "</center>\n",
    "\n",
    "\n",
    "A **continuous random variable** is one which takes an ***infinite number*** of possible values. For example, you can define a random variable $X$ to be the height of students in this class. Since the continuous random variable is defined over an interval of values, it is represented by the **area** under a curve (or the **integral**).\n",
    "\n",
    "The probability distribution of a continuous random variable, known as **probability distribution functions**, are the functions that take on continuous values. \n",
    "\n",
    "- Note: The probability of observing any single value is always 0 since the number of values which may be assumed by the random variable is infinite.\n",
    "\n",
    "For example, a random variable X may take all values over an interval of real numbers. Then the probability that $X$ is in the set of outcomes A,P(A), is defined to be the area above A and under a curve. The curve, which represents a function $p(x)$, must satisfy the following:\n",
    "\n",
    "- The curve has no negative values ($p(x)>0$ for all $x$)\n",
    "\n",
    "- The total area under the curve is equal to 1.\n",
    "\n",
    "A curve meeting these requirements is often known as a **density curve**.\n",
    "\n",
    "***You should know about the following density curves*** because we talked about these data models (the Beta is on deck).\n",
    "\n",
    "</br >\n",
    "<center>\n",
    "<img src=\"images/distributions.png\" width=900 />\n",
    "</center>\n",
    "\n",
    "We plot them below. One of the most difficult things to wrap your head around as a beginner statistician is that random processes often yield histograms that ***are not*** random. [Here](https://www.mathsisfun.com/data/quincunx.html)'s the proof.\n",
    "\n",
    "And here are various histograms for well-understood ***random data generating models***."
   ]
  },
  {
   "cell_type": "code",
   "execution_count": 4,
   "metadata": {},
   "outputs": [],
   "source": [
    "# for inline plots in jupyter\n",
    "%matplotlib inline\n",
    "# import matplotlib\n",
    "import matplotlib.pyplot as plt\n",
    "# for latex equations\n",
    "from IPython.display import Math, Latex\n",
    "# for displaying images\n",
    "from IPython.core.display import Image"
   ]
  },
  {
   "cell_type": "code",
   "execution_count": 5,
   "metadata": {},
   "outputs": [],
   "source": [
    "# import seaborn\n",
    "import seaborn as sns\n",
    "# settings for seaborn plotting style\n",
    "sns.set(color_codes=True)\n",
    "# settings for seaborn plot sizes\n",
    "sns.set(rc={'figure.figsize':(5,5)})"
   ]
  },
  {
   "cell_type": "markdown",
   "metadata": {},
   "source": [
    "# Part 1: Common distributions\n",
    "\n",
    "We vist the most commond distributions. You need to know these. Not their formulas exactly, but what they are used for.\n",
    "\n",
    "## Uniform distribution\n",
    "\n",
    "Perhaps one of the simplest and useful distribution is the uniform distribution. \n",
    "\n",
    "Since any interval of numbers of equal width has an equal probability of being observed, the curve describing the distribution is a rectangle, with constant height across the interval and 0 height elsewhere. Since the area under the curve must be equal to 1, the length of the interval determines the height of the curve.\n",
    "\n",
    "We use Seaborn’s distplot to plot the histogram of the distribution you just created. Seaborn’s `distplot` takes in multiple arguments to customize the plot. You first create a plot object ax. Here, you can specify the number of bins in the histogram, specify the color of the histogram and specify density plot option with kde and linewidth option with hist_kws. You can also set labels for x and y axis using the xlabel and ylabel arguments."
   ]
  },
  {
   "cell_type": "markdown",
   "metadata": {},
   "source": [
    "![](https://wikimedia.org/api/rest_v1/media/math/render/svg/648692e002b720347c6c981aeec2a8cca7f4182f)\n",
    "![](https://upload.wikimedia.org/wikipedia/commons/thumb/9/96/Uniform_Distribution_PDF_SVG.svg/500px-Uniform_Distribution_PDF_SVG.svg.png)"
   ]
  },
  {
   "cell_type": "code",
   "execution_count": 12,
   "metadata": {
    "scrolled": false
   },
   "outputs": [
    {
     "name": "stdout",
     "output_type": "stream",
     "text": [
      "Help on method rvs in module scipy.stats._distn_infrastructure:\n",
      "\n",
      "rvs(*args, **kwds) method of scipy.stats._continuous_distns.uniform_gen instance\n",
      "    Random variates of given type.\n",
      "    \n",
      "    Parameters\n",
      "    ----------\n",
      "    arg1, arg2, arg3,... : array_like\n",
      "        The shape parameter(s) for the distribution (see docstring of the\n",
      "        instance object for more information).\n",
      "    loc : array_like, optional\n",
      "        Location parameter (default=0).\n",
      "    scale : array_like, optional\n",
      "        Scale parameter (default=1).\n",
      "    size : int or tuple of ints, optional\n",
      "        Defining number of random variates (default is 1).\n",
      "    random_state : None or int or ``np.random.RandomState`` instance, optional\n",
      "        If int or RandomState, use it for drawing the random variates.\n",
      "        If None, rely on ``self.random_state``.\n",
      "        Default is None.\n",
      "    \n",
      "    Returns\n",
      "    -------\n",
      "    rvs : ndarray or scalar\n",
      "        Random variates of given `size`.\n",
      "\n"
     ]
    }
   ],
   "source": [
    "help(uniform.rvs)"
   ]
  },
  {
   "cell_type": "code",
   "execution_count": 13,
   "metadata": {
    "scrolled": true
   },
   "outputs": [
    {
     "name": "stdout",
     "output_type": "stream",
     "text": [
      "Help on function distplot in module seaborn.distributions:\n",
      "\n",
      "distplot(a, bins=None, hist=True, kde=True, rug=False, fit=None, hist_kws=None, kde_kws=None, rug_kws=None, fit_kws=None, color=None, vertical=False, norm_hist=False, axlabel=None, label=None, ax=None)\n",
      "    Flexibly plot a univariate distribution of observations.\n",
      "    \n",
      "    This function combines the matplotlib ``hist`` function (with automatic\n",
      "    calculation of a good default bin size) with the seaborn :func:`kdeplot`\n",
      "    and :func:`rugplot` functions. It can also fit ``scipy.stats``\n",
      "    distributions and plot the estimated PDF over the data.\n",
      "    \n",
      "    Parameters\n",
      "    ----------\n",
      "    \n",
      "    a : Series, 1d-array, or list.\n",
      "        Observed data. If this is a Series object with a ``name`` attribute,\n",
      "        the name will be used to label the data axis.\n",
      "    bins : argument for matplotlib hist(), or None, optional\n",
      "        Specification of hist bins, or None to use Freedman-Diaconis rule.\n",
      "    hist : bool, optional\n",
      "        Whether to plot a (normed) histogram.\n",
      "    kde : bool, optional\n",
      "        Whether to plot a gaussian kernel density estimate.\n",
      "    rug : bool, optional\n",
      "        Whether to draw a rugplot on the support axis.\n",
      "    fit : random variable object, optional\n",
      "        An object with `fit` method, returning a tuple that can be passed to a\n",
      "        `pdf` method a positional arguments following an grid of values to\n",
      "        evaluate the pdf on.\n",
      "    {hist, kde, rug, fit}_kws : dictionaries, optional\n",
      "        Keyword arguments for underlying plotting functions.\n",
      "    color : matplotlib color, optional\n",
      "        Color to plot everything but the fitted curve in.\n",
      "    vertical : bool, optional\n",
      "        If True, observed values are on y-axis.\n",
      "    norm_hist : bool, optional\n",
      "        If True, the histogram height shows a density rather than a count.\n",
      "        This is implied if a KDE or fitted density is plotted.\n",
      "    axlabel : string, False, or None, optional\n",
      "        Name for the support axis label. If None, will try to get it\n",
      "        from a.namel if False, do not set a label.\n",
      "    label : string, optional\n",
      "        Legend label for the relevent component of the plot\n",
      "    ax : matplotlib axis, optional\n",
      "        if provided, plot on this axis\n",
      "    \n",
      "    Returns\n",
      "    -------\n",
      "    ax : matplotlib Axes\n",
      "        Returns the Axes object with the plot for further tweaking.\n",
      "    \n",
      "    See Also\n",
      "    --------\n",
      "    kdeplot : Show a univariate or bivariate distribution with a kernel\n",
      "              density estimate.\n",
      "    rugplot : Draw small vertical lines to show each observation in a\n",
      "              distribution.\n",
      "    \n",
      "    Examples\n",
      "    --------\n",
      "    \n",
      "    Show a default plot with a kernel density estimate and histogram with bin\n",
      "    size determined automatically with a reference rule:\n",
      "    \n",
      "    .. plot::\n",
      "        :context: close-figs\n",
      "    \n",
      "        >>> import seaborn as sns, numpy as np\n",
      "        >>> sns.set(); np.random.seed(0)\n",
      "        >>> x = np.random.randn(100)\n",
      "        >>> ax = sns.distplot(x)\n",
      "    \n",
      "    Use Pandas objects to get an informative axis label:\n",
      "    \n",
      "    .. plot::\n",
      "        :context: close-figs\n",
      "    \n",
      "        >>> import pandas as pd\n",
      "        >>> x = pd.Series(x, name=\"x variable\")\n",
      "        >>> ax = sns.distplot(x)\n",
      "    \n",
      "    Plot the distribution with a kernel density estimate and rug plot:\n",
      "    \n",
      "    .. plot::\n",
      "        :context: close-figs\n",
      "    \n",
      "        >>> ax = sns.distplot(x, rug=True, hist=False)\n",
      "    \n",
      "    Plot the distribution with a histogram and maximum likelihood gaussian\n",
      "    distribution fit:\n",
      "    \n",
      "    .. plot::\n",
      "        :context: close-figs\n",
      "    \n",
      "        >>> from scipy.stats import norm\n",
      "        >>> ax = sns.distplot(x, fit=norm, kde=False)\n",
      "    \n",
      "    Plot the distribution on the vertical axis:\n",
      "    \n",
      "    .. plot::\n",
      "        :context: close-figs\n",
      "    \n",
      "        >>> ax = sns.distplot(x, vertical=True)\n",
      "    \n",
      "    Change the color of all the plot elements:\n",
      "    \n",
      "    .. plot::\n",
      "        :context: close-figs\n",
      "    \n",
      "        >>> sns.set_color_codes()\n",
      "        >>> ax = sns.distplot(x, color=\"y\")\n",
      "    \n",
      "    Pass specific parameters to the underlying plot functions:\n",
      "    \n",
      "    .. plot::\n",
      "        :context: close-figs\n",
      "    \n",
      "        >>> ax = sns.distplot(x, rug=True, rug_kws={\"color\": \"g\"},\n",
      "        ...                   kde_kws={\"color\": \"k\", \"lw\": 3, \"label\": \"KDE\"},\n",
      "        ...                   hist_kws={\"histtype\": \"step\", \"linewidth\": 3,\n",
      "        ...                             \"alpha\": 1, \"color\": \"g\"})\n",
      "\n"
     ]
    }
   ],
   "source": [
    "help(sns.distplot)"
   ]
  },
  {
   "cell_type": "code",
   "execution_count": 35,
   "metadata": {},
   "outputs": [
    {
     "data": {
      "text/plain": [
       "[Text(0, 0.5, 'Frequency'), Text(0.5, 0, 'Uniform Distribution ')]"
      ]
     },
     "execution_count": 35,
     "metadata": {},
     "output_type": "execute_result"
    },
    {
     "data": {
      "image/png": "[encoded data removed]",
      "text/plain": [
       "<Figure size 360x360 with 1 Axes>"
      ]
     },
     "metadata": {},
     "output_type": "display_data"
    }
   ],
   "source": [
    "# import uniform distribution\n",
    "from scipy.stats import uniform\n",
    "\n",
    "# random numbers from uniform distribution\n",
    "n = 10000\n",
    "start = 10\n",
    "width = 20\n",
    "# Generate random numbers:\n",
    "data_uniform = uniform.rvs(size=n, loc = start, scale=width)\n",
    "\n",
    "\n",
    "ax = sns.distplot(data_uniform,\n",
    "                  bins=100,\n",
    "                  kde=True,\n",
    "                  color='skyblue',\n",
    "                  # linewidth means the width of hist\n",
    "                  # aplha(0,1) means the transparency of hist\n",
    "                  hist_kws={\"linewidth\": 15,'alpha':1})\n",
    "ax.set(xlabel='Uniform Distribution ', ylabel='Frequency')"
   ]
  },
  {
   "cell_type": "markdown",
   "metadata": {},
   "source": [
    "## Normal distribution\n",
    "\n",
    "Normal Distribution, also known as Gaussian distribution, is ubiquitous in Data Science. You will encounter it at many places especially in topics of statistical inference. It is one of the assumptions of many data science algorithms too.\n",
    "\n",
    "A normal distribution has a bell-shaped density curve described by its mean μ and standard deviation σ. The density curve is symmetrical, centered about its mean, with its spread determined by its standard deviation showing that data near the mean are more frequent in occurrence than data far from the mean. The probability distribution function of a normal density curve with mean μ and standard deviation  σ.\n",
    "\n",
    "Almost 68% of the data falls within a distance of one standard deviation from the mean on either side and 95% within two standard deviations. Also it worth mentioning that a distribution with mean 0 and standard deviation 1 is called a standard normal distribution.\n",
    "\n",
    "You can generate a normally distributed random variable using `scipy.stats` module's `norm.rvs()` method. The `loc` argument corresponds to the mean of the distribution. scale corresponds to standard deviation and size to the number of random variates. If you want to maintain reproducibility, include a random_state argument assigned to a number."
   ]
  },
  {
   "cell_type": "markdown",
   "metadata": {},
   "source": [
    "<div style=\"font-size: 120%;\">  \n",
    "$$f(x) = \\frac{1}{\\sqrt{2\\pi\\sigma^2}}\\exp\\left[-\\frac{(x-\\mu)^2}{2\\sigma^2}\\right]$$\n",
    "</div>\n",
    "\n",
    "* $X \\in \\mathbf{R}$\n",
    "* $\\mu \\in \\mathbf{R}$\n",
    "* $\\sigma>0$\n",
    "\n",
    "$$\\begin{align}E(X) &= \\mu \\cr\n",
    "\\text{Var}(X) &= \\sigma^2 \\end{align}$$\n",
    "\n",
    "![Continuous variable](https://upload.wikimedia.org/wikipedia/commons/7/74/Normal_Distribution_PDF.svg)"
   ]
  },
  {
   "cell_type": "code",
   "execution_count": 36,
   "metadata": {},
   "outputs": [
    {
     "data": {
      "text/plain": [
       "[Text(0, 0.5, 'Frequency'), Text(0.5, 0, 'Normal Distribution')]"
      ]
     },
     "execution_count": 36,
     "metadata": {},
     "output_type": "execute_result"
    },
    {
     "data": {
      "image/png": "[encoded data removed]",
      "text/plain": [
       "<Figure size 360x360 with 1 Axes>"
      ]
     },
     "metadata": {},
     "output_type": "display_data"
    }
   ],
   "source": [
    "from scipy.stats import norm\n",
    "# generate random numbers from N(0,1)\n",
    "data_normal = norm.rvs(size=10000,loc=0,scale=1)\n",
    "\n",
    "ax = sns.distplot(data_normal,\n",
    "                  bins=100,\n",
    "                  kde=True,\n",
    "                  color='skyblue',\n",
    "                  hist_kws={\"linewidth\": 15,'alpha':1})\n",
    "ax.set(xlabel='Normal Distribution', ylabel='Frequency')"
   ]
  },
  {
   "cell_type": "markdown",
   "metadata": {},
   "source": [
    "## Gamma distribution\n",
    "\n",
    "The gamma distribution is a two-parameter family of continuous probability distributions. While it is used rarely in its raw form but other popularly used distributions like exponential, chi-squared, erlang distributions are special cases of the gamma distribution. The gamma distribution can be parameterized in terms of a shape parameter **α=k** and an inverse scale parameter **β=1/θ**, called a rate parameter., the symbol Γ(n) is the gamma function and is defined as (n−1)! :\n",
    "\n",
    "You can generate a gamma distributed random variable using `scipy.stat` module's `gamma.rvs()` method which takes shape parameter a as its argument. When a is an integer, gamma reduces to the Erlang distribution, and when a=1 to the exponential distribution. To shift distribution use the loc argument, to scale use scale argument, size decides the number of random variates in the distribution. If you want to maintain reproducibility, include a random_state argument assigned to a number."
   ]
  },
  {
   "cell_type": "markdown",
   "metadata": {},
   "source": [
    "This is gamma distribution\n",
    "\n",
    "<div style=\"font-size: 120%;\">  \n",
    "$$f(x) = \\frac{\\beta^\\alpha x^{\\alpha -1} e^{- \\beta x}}{\\Gamma (\\alpha)}$$\n",
    "</div>\n",
    "\n",
    "And... what is the $\\Gamma()$ function? It [interpolates](https://en.wikipedia.org/wiki/Gamma_function) the factorial function to non-integer values. Pretty cool.\n",
    "\n",
    "The gamma distribution is a ***two-parameter*** ($\\alpha, \\beta$) family of ***continuous*** probability distributions.\n",
    "\n",
    "In Bayesian statistics, the **gamma distribution** is used as a [**conjugate prior**](https://en.wikipedia.org/wiki/Conjugate_prior) distribution for the **exponential distribution** and the **Poisson distribution**.\n",
    "\n",
    "When the posterior distributions $p(θ \\; | \\; x)$ are in one probability distribution family as the prior probability distribution $p(θ)$ is in another family in Bayes' formula:\n",
    "\n",
    "$$p(θ \\; | \\; x) = \\frac{p(x \\;| \\; θ) \\; p(θ)}{p(x)}$$\n",
    "\n",
    "then the prior and posterior are called **conjugate distributions**, and the prior is called a **conjugate prior for the likelihood function** $p(x \\;| \\; θ)$.\n",
    "\n",
    "The Gamma distribution is a distribution that arises naturally in processes for which the ***waiting times between events are relevant***. It can be thought of as a **waiting time** between **Poisson distributed events**, such as in queuing models, climatology, and financial services. \n",
    " \n",
    " Examples of events that may be modeled by a gamma distribution include but are not limited to:\n",
    "- Public transportation\n",
    "- Amount of [rainfall](http://journals.tubitak.gov.tr/engineering/issues/muh-00-24-6/muh-24-6-7-9909-13.pdf). accumulated in a reservoir\n",
    "- The size of loan defaults or aggregate [insurance claims]((https://www.crcpress.com/Statistical-and-Probabilistic-Methods-in-Actuarial-Science/Boland/p/book/9781584886952)\n",
    "- The flow of items through manufacturing and distribution processes\n",
    "- Visitors to a website\n",
    "- Customers calling a help center \n",
    "- Radioactive decay in atoms\n",
    "- Movements in a stock price\n",
    "\n",
    "For $x > 0$ and $\\alpha, \\beta > 0$\n",
    "\n",
    "</br >\n",
    "<center>\n",
    "<img src=\"https://upload.wikimedia.org/wikipedia/commons/e/e6/Gamma_distribution_pdf.svg\" width=\"500\" />\n",
    "Gamma distribution\n",
    "</center>\n",
    "\n",
    "In other words, the Gamma distribution ***very important*** in Data Science."
   ]
  },
  {
   "cell_type": "code",
   "execution_count": 48,
   "metadata": {
    "scrolled": true
   },
   "outputs": [
    {
     "name": "stdout",
     "output_type": "stream",
     "text": [
      "Help on method rvs in module scipy.stats._distn_infrastructure:\n",
      "\n",
      "rvs(*args, **kwds) method of scipy.stats._continuous_distns.gamma_gen instance\n",
      "    Random variates of given type.\n",
      "    \n",
      "    Parameters\n",
      "    ----------\n",
      "    arg1, arg2, arg3,... : array_like\n",
      "        The shape parameter(s) for the distribution (see docstring of the\n",
      "        instance object for more information).\n",
      "    loc : array_like, optional\n",
      "        Location parameter (default=0).\n",
      "    scale : array_like, optional\n",
      "        Scale parameter (default=1).\n",
      "    size : int or tuple of ints, optional\n",
      "        Defining number of random variates (default is 1).\n",
      "    random_state : None or int or ``np.random.RandomState`` instance, optional\n",
      "        If int or RandomState, use it for drawing the random variates.\n",
      "        If None, rely on ``self.random_state``.\n",
      "        Default is None.\n",
      "    \n",
      "    Returns\n",
      "    -------\n",
      "    rvs : ndarray or scalar\n",
      "        Random variates of given `size`.\n",
      "\n"
     ]
    }
   ],
   "source": [
    "help(gamma.rvs)"
   ]
  },
  {
   "cell_type": "code",
   "execution_count": 63,
   "metadata": {},
   "outputs": [
    {
     "data": {
      "text/plain": [
       "[Text(0, 0.5, 'Frequency'), Text(0.5, 0, 'Gamma Distribution')]"
      ]
     },
     "execution_count": 63,
     "metadata": {},
     "output_type": "execute_result"
    },
    {
     "data": {
      "image/png": "[encoded data removed]",
      "text/plain": [
       "<Figure size 360x360 with 1 Axes>"
      ]
     },
     "metadata": {},
     "output_type": "display_data"
    }
   ],
   "source": [
    "from scipy.stats import gamma\n",
    "\n",
    "# a means alphan scale means theta(1/beta)\n",
    "alpha = 9\n",
    "theta = 0.5\n",
    "data_gamma = gamma.rvs(a=alpha, scale=theta,size=10000)\n",
    "\n",
    "ax = sns.distplot(data_gamma,\n",
    "                  kde=True,\n",
    "                  bins=100,\n",
    "                  color='skyblue',\n",
    "                  hist_kws={\"linewidth\": 15,'alpha':1})\n",
    "ax.set(xlabel='Gamma Distribution', ylabel='Frequency')"
   ]
  },
  {
   "cell_type": "markdown",
   "metadata": {},
   "source": [
    "## Exponential distribution\n",
    "\n",
    "The exponential distribution describes the time between events in a Poisson point process, i.e., a process in which events occur continuously and independently at a constant average rate. It has a parameter λ called rate parameter.\n",
    "\n",
    "You can generate an exponentially distributed random variable using `scipy.stats` module's `expon.rvs()` method which takes shape parameter scale as its argument which is nothing but 1/lambda in the equation. To shift distribution use the loc argument, size decides the number of random variates in the distribution. If you want to maintain reproducibility, include a random_state argument assigned to a number."
   ]
  },
  {
   "cell_type": "markdown",
   "metadata": {},
   "source": [
    "Simple enough: an exponential (conjugate prior of the Gamma).\n",
    "\n",
    "<div style=\"font-size: 120%;\">  \n",
    "$$Pr(X=x)= \\lambda e^{-\\lambda x}$$\n",
    "</div>\n",
    "\n",
    "$$X \\in [0,1]$$\n",
    "$$Y \\in (-\\infty, \\infty)$$\n",
    "\n",
    "**Probability Density Function**: \n",
    "\n",
    "For continuous $X$,\n",
    "\n",
    "![Continuous variable](http://upload.wikimedia.org/wikipedia/commons/e/ec/Exponential_pdf.svg)"
   ]
  },
  {
   "cell_type": "code",
   "execution_count": 71,
   "metadata": {},
   "outputs": [
    {
     "data": {
      "text/plain": [
       "[Text(0, 0.5, 'Frequency'), Text(0.5, 0, 'Exponential Distribution')]"
      ]
     },
     "execution_count": 71,
     "metadata": {},
     "output_type": "execute_result"
    },
    {
     "data": {
      "image/png": "[encoded data removed]",
      "text/plain": [
       "<Figure size 360x360 with 1 Axes>"
      ]
     },
     "metadata": {},
     "output_type": "display_data"
    }
   ],
   "source": [
    "from scipy.stats import expon\n",
    "data_expon = expon.rvs(scale=1,loc=0,size=1000)\n",
    "\n",
    "ax = sns.distplot(data_expon,\n",
    "                  kde=True,\n",
    "                  bins=100,\n",
    "                  color='skyblue',\n",
    "                  hist_kws={\"linewidth\": 15,'alpha':1})\n",
    "ax.set(xlabel='Exponential Distribution', ylabel='Frequency')"
   ]
  },
  {
   "cell_type": "markdown",
   "metadata": {},
   "source": [
    "## Poisson Distribution\n",
    "\n",
    "Poisson random variable is typically used to model the number of times an event happened in a time interval. For example, the number of users visited on a website in an interval can be thought of a Poisson process. Poisson distribution is described in terms of the rate (μ) at which the events happen. An event can occur 0, 1, 2, … times in an interval. The average number of events in an interval is designated λ (lambda). Lambda is the event rate, also called the rate parameter. The probability of observing k events in an interval is given by the Poisson equation\n",
    "\n",
    "Note that the normal distribution is a limiting case of Poisson distribution with the parameter λ→∞. Also, if the times between random events follow an exponential distribution with rate λ, then the total number of events in a time period of length t follows the Poisson distribution with parameter λt.\n",
    "\n",
    "You can generate a poisson distributed discrete random variable using `scipy.stats` module's `poisson.rvs()` method which takes μ as a shape parameter and is nothing but the λ in the equation. To shift distribution use the loc parameter. size decides the number of random variates in the distribution. If you want to maintain reproducibility, include a random_state argument assigned to a number."
   ]
  },
  {
   "cell_type": "markdown",
   "metadata": {},
   "source": [
    "A [Poisson distributed process](https://en.wikipedia.org/wiki/Poisson_distribution), conjugate prior of the Gamma, is a **model** for a series of discrete event where the ***average time*** between events is known, but the exact timing of events is ***random***.  The arrival of an event is independent of the event before (waiting time between events is memoryless).\n",
    "\n",
    "A Poisson Process meets the following criteria (in reality many phenomena modeled as Poisson processes don’t meet these *exactly*):\n",
    "- Events are independent of each other. The occurrence of one event does not affect the probability another event will occur\n",
    "- The average rate (events per time period) is constant\n",
    "- Two events cannot occur at the same time\n",
    "\n",
    "<div style=\"font-size: 120%;\">  \n",
    "$$Pr(X=x)=\\frac{e^{-\\lambda}\\lambda^x}{x!}$$\n",
    "</div>\n",
    "\n",
    "* $X=\\{0,1,2,\\ldots\\}$\n",
    "* $\\lambda > 0$\n",
    "\n",
    "$$E(X) = \\text{Var}(X) = \\lambda$$\n",
    "\n",
    "![Discrete variable](http://upload.wikimedia.org/wikipedia/commons/1/16/Poisson_pmf.svg)"
   ]
  },
  {
   "cell_type": "code",
   "execution_count": 66,
   "metadata": {},
   "outputs": [
    {
     "data": {
      "text/plain": [
       "[Text(0, 0.5, 'Frequency'), Text(0.5, 0, 'Poisson Distribution')]"
      ]
     },
     "execution_count": 66,
     "metadata": {},
     "output_type": "execute_result"
    },
    {
     "data": {
      "image/png": "[encoded data removed]",
      "text/plain": [
       "<Figure size 360x360 with 1 Axes>"
      ]
     },
     "metadata": {},
     "output_type": "display_data"
    }
   ],
   "source": [
    "from scipy.stats import poisson\n",
    "data_poisson = poisson.rvs(mu=3, size=10000)\n",
    "\n",
    "ax = sns.distplot(data_poisson,\n",
    "                  bins=30,\n",
    "                  kde=False,\n",
    "                  color='skyblue',\n",
    "                  hist_kws={\"linewidth\": 1,'alpha':1})\n",
    "ax.set(xlabel='Poisson Distribution', ylabel='Frequency')"
   ]
  },
  {
   "cell_type": "markdown",
   "metadata": {},
   "source": [
    "## Binomial distribution\n",
    "\n",
    "A distribution where only two outcomes are possible, such as success or failure, gain or loss, win or lose and where the probability of success and failure is same for all the trials is called a Binomial Distribution. However, The outcomes need not be equally likely, and each trial is independent of each other. The parameters of a binomial distribution are n and p where n is the total number of trials, and p is the probability of success in each trial.\n",
    "\n",
    "You can generate a binomial distributed discrete random variable using `scipy.stats` module's `binom.rvs()` method which takes n (number of trials) and p (probability of success) as shape parameters. To shift distribution use the `loc` parameter. size decides the number of times to repeat the trials. If you want to maintain reproducibility, include a random_state argument assigned to a number.\n",
    "\n",
    "We'll plot a probability of success greater than 0.5, so the distribution will be skewed towards the right side. Also, poisson distribution is a limiting case of a binomial distribution under the following conditions:\n",
    "\n",
    "The number of trials is indefinitely large or n→∞.\n",
    "The probability of success for each trial is same and indefinitely small or p→0.\n",
    "np=λ, is finite.\n",
    "Normal distribution is another limiting form of binomial distribution under the following conditions:\n",
    "\n",
    "The number of trials is indefinitely large, n→∞.\n",
    "Both p and q are not indefinitely small."
   ]
  },
  {
   "cell_type": "markdown",
   "metadata": {},
   "source": [
    "![](https://wikimedia.org/api/rest_v1/media/math/render/svg/b872c2c7bfaa26b16e8a82beaf72061b48daaf8e)\n",
    "![](https://upload.wikimedia.org/wikipedia/commons/thumb/7/75/Binomial_distribution_pmf.svg/600px-Binomial_distribution_pmf.svg.png)"
   ]
  },
  {
   "cell_type": "code",
   "execution_count": 73,
   "metadata": {},
   "outputs": [
    {
     "data": {
      "text/plain": [
       "[Text(0, 0.5, 'Frequency'), Text(0.5, 0, 'Binomial Distribution')]"
      ]
     },
     "execution_count": 73,
     "metadata": {},
     "output_type": "execute_result"
    },
    {
     "data": {
      "image/png": "[encoded data removed]",
      "text/plain": [
       "<Figure size 360x360 with 1 Axes>"
      ]
     },
     "metadata": {},
     "output_type": "display_data"
    }
   ],
   "source": [
    "from scipy.stats import binom\n",
    "data_binom = binom.rvs(n=10,p=0.8,size=10000)\n",
    "\n",
    "ax = sns.distplot(data_binom,\n",
    "                  kde=False,\n",
    "                  color='skyblue',\n",
    "                  hist_kws={\"linewidth\": 15,'alpha':1})\n",
    "ax.set(xlabel='Binomial Distribution', ylabel='Frequency')"
   ]
  },
  {
   "cell_type": "markdown",
   "metadata": {},
   "source": [
    "## Bernoulli distribution\n",
    "\n",
    "A Bernoulli distribution has only two possible outcomes, namely 1 (success) and 0 (failure), and a single trial, for example, a coin toss. So the random variable X which has a Bernoulli distribution can take value 1 with the probability of success, p, and the value 0 with the probability of failure, q or 1−p. The probabilities of success and failure need not be equally likely. The Bernoulli distribution is a special case of the binomial distribution where a single trial is conducted (n=1). \n",
    "\n",
    "You can generate a bernoulli distributed discrete random variable using `scipy.stats` module's `bernoulli.rvs()` method which takes p (probability of success) as a shape parameter. To shift distribution use the loc parameter. size decides the number of times to repeat the trials. If you want to maintain reproducibility, include a random_state argument assigned to a number."
   ]
  },
  {
   "cell_type": "code",
   "execution_count": 19,
   "metadata": {},
   "outputs": [
    {
     "data": {
      "text/plain": [
       "[Text(0, 0.5, 'Frequency'), Text(0.5, 0, 'Bernoulli Distribution')]"
      ]
     },
     "execution_count": 19,
     "metadata": {},
     "output_type": "execute_result"
    },
    {
     "data": {
      "image/png": "[encoded data removed]",
      "text/plain": [
       "<Figure size 360x360 with 1 Axes>"
      ]
     },
     "metadata": {},
     "output_type": "display_data"
    }
   ],
   "source": [
    "from scipy.stats import bernoulli\n",
    "data_bern = bernoulli.rvs(size=10000,p=0.6)\n",
    "\n",
    "ax= sns.distplot(data_bern,\n",
    "                 kde=False,\n",
    "                 color=\"skyblue\",\n",
    "                 hist_kws={\"linewidth\": 15,'alpha':1})\n",
    "ax.set(xlabel='Bernoulli Distribution', ylabel='Frequency')"
   ]
  },
  {
   "cell_type": "markdown",
   "metadata": {},
   "source": [
    "## Beta Distribution\n"
   ]
  },
  {
   "cell_type": "markdown",
   "metadata": {},
   "source": [
    "The mathematical function used to represent prior beliefs ***with the most uninformative priors possible*** is known as the [beta distribution](https://en.wikipedia.org/wiki/Beta_distribution). It has some very nice mathematical properties which enable us to model beliefs about a binomial distribution. We'll study this distribution soon.\n",
    "\n",
    "The probability density function (pdf) of the beta distribution is of the form:\n",
    "\n",
    "$$\\frac{x^{\\alpha - 1}\\;(1-x)^{\\beta - 1}}{B(\\alpha, \\beta)}$$\n",
    "\n",
    "$B$ is just to ensure that the total probability density function upon integration evaluates to 1. $α$ and $β$ are called the shape deciding parameters of the density function. Here $α$ is analogous to number of heads in the trials and $β$ corresponds to the number of tails.\n",
    "\n",
    "$α$ and $β$ are intuitive to understand since they can be calculated by knowing the mean ($μ$) and standard deviation ($σ$) of the distribution. In fact, they are related as:\n",
    "\n",
    "$$μ = \\frac{\\alpha}{\\alpha + \\beta}$$\n",
    "\n",
    "$$σ = \\sqrt{\\frac{\\alpha \\; \\beta}{(\\alpha + \\beta)^2\\; (\\alpha + \\beta + 1)}}$$\n",
    "\n",
    "When there was no toss we believed that every fairness of coin is possible as depicted by the flat line in the first graph below.\n",
    "\n",
    "When there were more number of heads than the tails, the graph shows a peak shifted towards the right side, indicating higher probability of heads, ***and that coin is not fair***.\n",
    "\n",
    "As more tosses are done, and heads continue to come in larger proportion, the peak narrows, increasing our confidence in the fairness of the coin.\n",
    "\n",
    "</br >\n",
    "\n",
    "![beta](https://upload.wikimedia.org/wikipedia/commons/thumb/f/f3/Beta_distribution_pdf.svg/650px-Beta_distribution_pdf.svg.png)"
   ]
  },
  {
   "cell_type": "code",
   "execution_count": 3,
   "metadata": {},
   "outputs": [
    {
     "name": "stdout",
     "output_type": "stream",
     "text": [
      "[0 1 0 0 1 0 0 0 0 1]\n",
      "(0.10926344381909812, 0.6097425595724212)\n"
     ]
    },
    {
     "data": {
      "image/png": "[encoded data removed]",
      "text/plain": [
       "<Figure size 432x288 with 1 Axes>"
      ]
     },
     "metadata": {
      "needs_background": "light"
     },
     "output_type": "display_data"
    }
   ],
   "source": [
    "%matplotlib inline\n",
    "import numpy as np\n",
    "import pandas as pd\n",
    "from scipy import stats\n",
    "import matplotlib.pylab as plt\n",
    "import seaborn as sns\n",
    "sns.set_context('notebook')\n",
    "\n",
    "RANDOM_SEED = 20090425\n",
    "# our events is a list of 0s and 1s, at fixed probabilities\n",
    "flipcoin = np.random.choice(a= [0, 1],\n",
    "                              p = [0.5, 0.5],\n",
    "                              size=10)\n",
    "print(flipcoin)\n",
    "successes = flipcoin.sum()\n",
    "failures = len(flipcoin) - successes\n",
    "\n",
    "# prior parameters\n",
    "alpha, beta = 1, 1\n",
    "\n",
    "# calculate posterior distribution, using a beta distribution\n",
    "posterior = stats.beta(alpha + successes, beta + failures)\n",
    "# posterior = stats.beta(alpha+1, beta+2)\n",
    "\n",
    "# mean and 95% credible interval\n",
    "mean = posterior.mean()\n",
    "cr = posterior.interval(0.95)\n",
    "print(cr)\n",
    "\n",
    "#posterior distribution for plotting\n",
    "xs = np.linspace(0, 1, num=100)\n",
    "pdf = posterior.pdf(xs)\n",
    "plt.plot(pdf)\n",
    "plt.xlabel('x')\n",
    "plt.ylabel('y')\n",
    "plt.title('pdf')\n",
    "plt.grid(True)\n",
    "plt.show()"
   ]
  }
 ],
 "metadata": {
  "kernelspec": {
   "display_name": "Python 3",
   "language": "python",
   "name": "python3"
  },
  "language_info": {
   "codemirror_mode": {
    "name": "ipython",
    "version": 3
   },
   "file_extension": ".py",
   "mimetype": "text/x-python",
   "name": "python",
   "nbconvert_exporter": "python",
   "pygments_lexer": "ipython3",
   "version": "3.7.3"
  }
 },
 "nbformat": 4,
 "nbformat_minor": 2
}
