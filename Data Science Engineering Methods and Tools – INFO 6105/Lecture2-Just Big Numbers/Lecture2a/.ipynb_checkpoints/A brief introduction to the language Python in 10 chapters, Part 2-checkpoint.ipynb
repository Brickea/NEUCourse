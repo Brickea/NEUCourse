{
 "cells": [
  {
   "cell_type": "markdown",
   "metadata": {},
   "source": [
    "<div style=\"text-align: right\">INFO 6105 Data Science Eng Methods and Tools, Lecture 2 Day 1</div>\n",
    "<div style=\"text-align: right\">Dino Konstantopoulos, 9 September 2019</div>\n",
    "\n",
    "## A brief introduction to the language Python in 10 chapters, Part 2"
   ]
  },
  {
   "cell_type": "markdown",
   "metadata": {},
   "source": [
    "### List comprehensions\n",
    "\n",
    "List comprehensions are one of the most useful and compact Python expressions. They allow you to loop over container types without writing any ugly loop structures. We'll use this ***a ton*** in class!"
   ]
  },
  {
   "cell_type": "code",
   "execution_count": 1,
   "metadata": {},
   "outputs": [],
   "source": [
    "a=[1,2,3]\n",
    "b=[4,5,6]"
   ]
  },
  {
   "cell_type": "code",
   "execution_count": 2,
   "metadata": {},
   "outputs": [],
   "source": [
    "c = zip(a,b)"
   ]
  },
  {
   "cell_type": "code",
   "execution_count": 3,
   "metadata": {},
   "outputs": [],
   "source": [
    "str_list = ['things', 'stuff', 'Brady']"
   ]
  },
  {
   "cell_type": "code",
   "execution_count": 4,
   "metadata": {},
   "outputs": [
    {
     "data": {
      "text/plain": [
       "['things', 'stuff', 'Brady']"
      ]
     },
     "execution_count": 4,
     "metadata": {},
     "output_type": "execute_result"
    }
   ],
   "source": [
    "str_list"
   ]
  },
  {
   "cell_type": "code",
   "execution_count": 5,
   "metadata": {},
   "outputs": [
    {
     "data": {
      "text/plain": [
       "['my things', 'my stuff', 'my Brady']"
      ]
     },
     "execution_count": 5,
     "metadata": {},
     "output_type": "execute_result"
    }
   ],
   "source": [
    "['my ' + x for x in str_list]"
   ]
  },
  {
   "cell_type": "code",
   "execution_count": 6,
   "metadata": {},
   "outputs": [
    {
     "data": {
      "text/plain": [
       "['THINGS', 'STUFF', 'BRADY']"
      ]
     },
     "execution_count": 6,
     "metadata": {},
     "output_type": "execute_result"
    }
   ],
   "source": [
    "[x.upper() for x in str_list]"
   ]
  },
  {
   "cell_type": "code",
   "execution_count": 7,
   "metadata": {},
   "outputs": [
    {
     "data": {
      "text/plain": [
       "[5, 7, 9]"
      ]
     },
     "execution_count": 7,
     "metadata": {},
     "output_type": "execute_result"
    }
   ],
   "source": [
    "[x+y for x,y in zip(a,b)] # using zip (above)"
   ]
  },
  {
   "cell_type": "code",
   "execution_count": 8,
   "metadata": {},
   "outputs": [
    {
     "data": {
      "text/plain": [
       "[0, 1, 2, 3, 4]"
      ]
     },
     "execution_count": 8,
     "metadata": {},
     "output_type": "execute_result"
    }
   ],
   "source": [
    "a = [0,1,2,3,4]\n",
    "a"
   ]
  },
  {
   "cell_type": "code",
   "execution_count": 9,
   "metadata": {},
   "outputs": [
    {
     "data": {
      "text/plain": [
       "[6, 7, 8, 3, 4]"
      ]
     },
     "execution_count": 9,
     "metadata": {},
     "output_type": "execute_result"
    }
   ],
   "source": [
    "[x + 6 if (x < 3) else x for x in a]"
   ]
  },
  {
   "cell_type": "markdown",
   "metadata": {},
   "source": [
    "And this is how you do the above in the traditional ***ugl*** way of classical computer languages:"
   ]
  },
  {
   "cell_type": "code",
   "execution_count": 10,
   "metadata": {},
   "outputs": [
    {
     "name": "stdout",
     "output_type": "stream",
     "text": [
      "6\n",
      "7\n",
      "8\n",
      "3\n",
      "4\n"
     ]
    }
   ],
   "source": [
    "for x in a:\n",
    "    if (x < 3):\n",
    "        print (x + 6)\n",
    "    else:\n",
    "        print(x)"
   ]
  },
  {
   "cell_type": "markdown",
   "metadata": {},
   "source": [
    "oopsie.. still not there! Can you modify the code above to print eaxctly the same result as in cell ```Out[5]``` above?"
   ]
  },
  {
   "cell_type": "code",
   "execution_count": 9,
   "metadata": {},
   "outputs": [
    {
     "data": {
      "text/plain": [
       "[6, 7, 8, 3, 4]"
      ]
     },
     "execution_count": 9,
     "metadata": {},
     "output_type": "execute_result"
    }
   ],
   "source": [
    "answer = []\n",
    "for x in a:\n",
    "    if (x < 3):\n",
    "        answer.append(x + 6)\n",
    "    else:\n",
    "        answer.append(x)\n",
    "answer"
   ]
  },
  {
   "cell_type": "markdown",
   "metadata": {},
   "source": [
    "### Dictionaries "
   ]
  },
  {
   "cell_type": "markdown",
   "metadata": {},
   "source": [
    "One of the more flexible built-in data structures is the **dictionary**. A dictionary maps a collection of values to a set of associated keys. These mappings are mutable, and unlike lists or tuples, are unordered. Hence, rather than using the sequence index to return elements of the collection, the corresponding key must be used. \n",
    "\n",
    "Dictionaries are specified by a comma-separated sequence of keys and values, which are separated in turn by colons. The dictionary is enclosed by curly braces. Dictionaries are also the general JSON format of the Web. For example:"
   ]
  },
  {
   "cell_type": "code",
   "execution_count": 11,
   "metadata": {},
   "outputs": [
    {
     "data": {
      "text/plain": [
       "{'a': 16,\n",
       " 'b': (4, 5),\n",
       " 'foo': '(noun) a term used as a universal substitute \\n           for something real, especially when discussing technological ideas and \\n           problems'}"
      ]
     },
     "execution_count": 11,
     "metadata": {},
     "output_type": "execute_result"
    }
   ],
   "source": [
    "my_dict = {'a':16, 'b':(4,5), 'foo':'''(noun) a term used as a universal substitute \n",
    "           for something real, especially when discussing technological ideas and \n",
    "           problems'''}\n",
    "my_dict"
   ]
  },
  {
   "cell_type": "code",
   "execution_count": 12,
   "metadata": {},
   "outputs": [
    {
     "data": {
      "text/plain": [
       "(4, 5)"
      ]
     },
     "execution_count": 12,
     "metadata": {},
     "output_type": "execute_result"
    }
   ],
   "source": [
    "my_dict['b']\n",
    "(4, 5)"
   ]
  },
  {
   "cell_type": "code",
   "execution_count": 13,
   "metadata": {},
   "outputs": [
    {
     "data": {
      "text/plain": [
       "True"
      ]
     },
     "execution_count": 13,
     "metadata": {},
     "output_type": "execute_result"
    }
   ],
   "source": [
    "'a' in my_dict\t# Checks to see if ‘a’ is in my_dict"
   ]
  },
  {
   "cell_type": "code",
   "execution_count": 14,
   "metadata": {},
   "outputs": [
    {
     "ename": "AttributeError",
     "evalue": "'dict' object has no attribute 'has_key'",
     "output_type": "error",
     "traceback": [
      "\u001b[1;31m---------------------------------------------------------------------------\u001b[0m",
      "\u001b[1;31mAttributeError\u001b[0m                            Traceback (most recent call last)",
      "\u001b[1;32m<ipython-input-14-0ecabe089ea0>\u001b[0m in \u001b[0;36m<module>\u001b[1;34m\u001b[0m\n\u001b[1;32m----> 1\u001b[1;33m \u001b[0mmy_dict\u001b[0m\u001b[1;33m.\u001b[0m\u001b[0mhas_key\u001b[0m\u001b[1;33m(\u001b[0m\u001b[1;34m'bar'\u001b[0m\u001b[1;33m)\u001b[0m  \u001b[1;31m# Checks to see if a key exists\u001b[0m\u001b[1;33m\u001b[0m\u001b[1;33m\u001b[0m\u001b[0m\n\u001b[0m",
      "\u001b[1;31mAttributeError\u001b[0m: 'dict' object has no attribute 'has_key'"
     ]
    }
   ],
   "source": [
    "my_dict.has_key('bar')\t# Checks to see if a key exists"
   ]
  },
  {
   "cell_type": "code",
   "execution_count": 15,
   "metadata": {},
   "outputs": [
    {
     "data": {
      "text/plain": [
       "dict_items([('a', 16), ('b', (4, 5)), ('foo', '(noun) a term used as a universal substitute \\n           for something real, especially when discussing technological ideas and \\n           problems')])"
      ]
     },
     "execution_count": 15,
     "metadata": {},
     "output_type": "execute_result"
    }
   ],
   "source": [
    "my_dict.items()\t\t# Returns key/value pairs as list of tuples"
   ]
  },
  {
   "cell_type": "code",
   "execution_count": 16,
   "metadata": {},
   "outputs": [
    {
     "data": {
      "text/plain": [
       "dict_keys(['a', 'b', 'foo'])"
      ]
     },
     "execution_count": 16,
     "metadata": {},
     "output_type": "execute_result"
    }
   ],
   "source": [
    "my_dict.keys()\t\t# Returns list of keys"
   ]
  },
  {
   "cell_type": "code",
   "execution_count": 17,
   "metadata": {},
   "outputs": [
    {
     "data": {
      "text/plain": [
       "dict_values([16, (4, 5), '(noun) a term used as a universal substitute \\n           for something real, especially when discussing technological ideas and \\n           problems'])"
      ]
     },
     "execution_count": 17,
     "metadata": {},
     "output_type": "execute_result"
    }
   ],
   "source": [
    "my_dict.values()\t# Returns list of values"
   ]
  },
  {
   "cell_type": "code",
   "execution_count": 18,
   "metadata": {},
   "outputs": [
    {
     "ename": "KeyError",
     "evalue": "'c'",
     "output_type": "error",
     "traceback": [
      "\u001b[1;31m---------------------------------------------------------------------------\u001b[0m",
      "\u001b[1;31mKeyError\u001b[0m                                  Traceback (most recent call last)",
      "\u001b[1;32m<ipython-input-18-3b70a55a760c>\u001b[0m in \u001b[0;36m<module>\u001b[1;34m\u001b[0m\n\u001b[1;32m----> 1\u001b[1;33m \u001b[0mmy_dict\u001b[0m\u001b[1;33m[\u001b[0m\u001b[1;34m'c'\u001b[0m\u001b[1;33m]\u001b[0m\u001b[1;33m\u001b[0m\u001b[1;33m\u001b[0m\u001b[0m\n\u001b[0m",
      "\u001b[1;31mKeyError\u001b[0m: 'c'"
     ]
    }
   ],
   "source": [
    "my_dict['c']"
   ]
  },
  {
   "cell_type": "markdown",
   "metadata": {},
   "source": [
    "If we would rather not get the error, we can use the `get` method, which returns `None` if the value is not present, or a value of your choice"
   ]
  },
  {
   "cell_type": "code",
   "execution_count": 19,
   "metadata": {},
   "outputs": [],
   "source": [
    "my_dict.get('c')"
   ]
  },
  {
   "cell_type": "code",
   "execution_count": 20,
   "metadata": {},
   "outputs": [
    {
     "data": {
      "text/plain": [
       "-1"
      ]
     },
     "execution_count": 20,
     "metadata": {},
     "output_type": "execute_result"
    }
   ],
   "source": [
    "my_dict.get('c', -1)"
   ]
  },
  {
   "cell_type": "markdown",
   "metadata": {},
   "source": [
    "## 7. Logical operators "
   ]
  },
  {
   "cell_type": "markdown",
   "metadata": {},
   "source": [
    "Logical operators will **test** for some condition and return a boolean (True, False)"
   ]
  },
  {
   "cell_type": "markdown",
   "metadata": {},
   "source": [
    "#### Comparison operators\n",
    "\n",
    "+ `>` : Greater than\n",
    "+ `>=` : Greater than or equal to\n",
    "+ `<` : Less than\n",
    "+ `<=` : Less than or equal to\n",
    "+ `==` : Equal to\n",
    "+ `!=` : Not equal to"
   ]
  },
  {
   "cell_type": "markdown",
   "metadata": {},
   "source": [
    "**is / is not**\n",
    "\n",
    "Use **==** (**!=**) when comparing values and **is** (**is not**) when comparing **identities**."
   ]
  },
  {
   "cell_type": "code",
   "execution_count": 20,
   "metadata": {},
   "outputs": [],
   "source": [
    "x = 5."
   ]
  },
  {
   "cell_type": "code",
   "execution_count": 21,
   "metadata": {},
   "outputs": [
    {
     "data": {
      "text/plain": [
       "float"
      ]
     },
     "execution_count": 21,
     "metadata": {},
     "output_type": "execute_result"
    }
   ],
   "source": [
    "type(x)"
   ]
  },
  {
   "cell_type": "code",
   "execution_count": 22,
   "metadata": {},
   "outputs": [],
   "source": [
    "y = 5"
   ]
  },
  {
   "cell_type": "code",
   "execution_count": 23,
   "metadata": {},
   "outputs": [
    {
     "data": {
      "text/plain": [
       "int"
      ]
     },
     "execution_count": 23,
     "metadata": {},
     "output_type": "execute_result"
    }
   ],
   "source": [
    "type(y)"
   ]
  },
  {
   "cell_type": "code",
   "execution_count": 24,
   "metadata": {},
   "outputs": [
    {
     "data": {
      "text/plain": [
       "True"
      ]
     },
     "execution_count": 24,
     "metadata": {},
     "output_type": "execute_result"
    }
   ],
   "source": [
    "x == y"
   ]
  },
  {
   "cell_type": "markdown",
   "metadata": {},
   "source": [
    "x is a float, y is a int, they point to different addresses in memory!"
   ]
  },
  {
   "cell_type": "code",
   "execution_count": 25,
   "metadata": {},
   "outputs": [
    {
     "data": {
      "text/plain": [
       "False"
      ]
     },
     "execution_count": 25,
     "metadata": {},
     "output_type": "execute_result"
    }
   ],
   "source": [
    "x is y"
   ]
  },
  {
   "cell_type": "markdown",
   "metadata": {},
   "source": [
    "#### Some examples of common comparisons"
   ]
  },
  {
   "cell_type": "code",
   "execution_count": 26,
   "metadata": {},
   "outputs": [],
   "source": [
    "a = 5\n",
    "b = 6"
   ]
  },
  {
   "cell_type": "code",
   "execution_count": 27,
   "metadata": {},
   "outputs": [
    {
     "data": {
      "text/plain": [
       "False"
      ]
     },
     "execution_count": 27,
     "metadata": {},
     "output_type": "execute_result"
    }
   ],
   "source": [
    "a == b"
   ]
  },
  {
   "cell_type": "code",
   "execution_count": 28,
   "metadata": {},
   "outputs": [
    {
     "data": {
      "text/plain": [
       "True"
      ]
     },
     "execution_count": 28,
     "metadata": {},
     "output_type": "execute_result"
    }
   ],
   "source": [
    "a != b"
   ]
  },
  {
   "cell_type": "code",
   "execution_count": 29,
   "metadata": {},
   "outputs": [
    {
     "data": {
      "text/plain": [
       "True"
      ]
     },
     "execution_count": 29,
     "metadata": {},
     "output_type": "execute_result"
    }
   ],
   "source": [
    "(a > 4) and (b < 7)"
   ]
  },
  {
   "cell_type": "code",
   "execution_count": 30,
   "metadata": {},
   "outputs": [
    {
     "data": {
      "text/plain": [
       "False"
      ]
     },
     "execution_count": 30,
     "metadata": {},
     "output_type": "execute_result"
    }
   ],
   "source": [
    "(a > 4) and (b > 7)"
   ]
  },
  {
   "cell_type": "code",
   "execution_count": 31,
   "metadata": {},
   "outputs": [
    {
     "data": {
      "text/plain": [
       "True"
      ]
     },
     "execution_count": 31,
     "metadata": {},
     "output_type": "execute_result"
    }
   ],
   "source": [
    "(a > 4) or (b > 7)"
   ]
  },
  {
   "cell_type": "markdown",
   "metadata": {},
   "source": [
    "**All** and **Any** can be used for a *collection* of booleans"
   ]
  },
  {
   "cell_type": "code",
   "execution_count": 32,
   "metadata": {},
   "outputs": [],
   "source": [
    "x = [5,6,2,3,3]"
   ]
  },
  {
   "cell_type": "code",
   "execution_count": 33,
   "metadata": {},
   "outputs": [],
   "source": [
    "cond = [item > 2 for item in x]"
   ]
  },
  {
   "cell_type": "code",
   "execution_count": 34,
   "metadata": {},
   "outputs": [
    {
     "data": {
      "text/plain": [
       "[True, True, False, True, True]"
      ]
     },
     "execution_count": 34,
     "metadata": {},
     "output_type": "execute_result"
    }
   ],
   "source": [
    "cond"
   ]
  },
  {
   "cell_type": "code",
   "execution_count": 35,
   "metadata": {},
   "outputs": [
    {
     "data": {
      "text/plain": [
       "False"
      ]
     },
     "execution_count": 35,
     "metadata": {},
     "output_type": "execute_result"
    }
   ],
   "source": [
    "all(cond)"
   ]
  },
  {
   "cell_type": "code",
   "execution_count": 36,
   "metadata": {},
   "outputs": [
    {
     "data": {
      "text/plain": [
       "True"
      ]
     },
     "execution_count": 36,
     "metadata": {},
     "output_type": "execute_result"
    }
   ],
   "source": [
    "any(cond)"
   ]
  },
  {
   "cell_type": "markdown",
   "metadata": {},
   "source": [
    "## 8. Control flow structures"
   ]
  },
  {
   "cell_type": "markdown",
   "metadata": {},
   "source": [
    "### Indentation is meaningful\n",
    "\n",
    "In Python, there are no annoying curly braces, parenthesis, brackets etc., as in other languages, to delimitate flow control blocks. Instead, **indentation** plays this role."
   ]
  },
  {
   "cell_type": "code",
   "execution_count": 38,
   "metadata": {},
   "outputs": [
    {
     "name": "stdout",
     "output_type": "stream",
     "text": [
      "some_var is smaller than 10.\n"
     ]
    }
   ],
   "source": [
    "# Let's just make a variable\n",
    "some_var = 5\n",
    "\n",
    "# Here is an if statement. Indentation is significant in python!\n",
    "# prints \"some_var is smaller than 10\"\n",
    "if some_var > 10:\n",
    "    print(\"some_var is totally bigger than 10.\")\n",
    "elif some_var < 10:  # This elif clause is optional.\n",
    "    print(\"some_var is smaller than 10.\")\n",
    "else:  # This is optional too.\n",
    "    print(\"some_var is indeed 10.\")\n"
   ]
  },
  {
   "cell_type": "code",
   "execution_count": 40,
   "metadata": {},
   "outputs": [
    {
     "name": "stdout",
     "output_type": "stream",
     "text": [
      "0\n",
      "1\n",
      "4\n",
      "9\n",
      "16\n",
      "5\n",
      "6\n",
      "7\n",
      "8\n",
      "9\n"
     ]
    }
   ],
   "source": [
    "for x in range(10): \n",
    "    if x < 5:\n",
    "        print(x**2)\n",
    "    else:\n",
    "        print(x) "
   ]
  },
  {
   "cell_type": "markdown",
   "metadata": {},
   "source": [
    "**Note**: A Jupyter notebook will guess the right indentation :-). When editing a code cell in IPython, the indentation is handled intelligently, try typing in a new blank cell: \n",
    "\n",
    "    for x in xrange(10): \n",
    "        if x < 5:\n",
    "            print x**2\n",
    "        else:\n",
    "            print x \n",
    "            "
   ]
  },
  {
   "cell_type": "code",
   "execution_count": 43,
   "metadata": {},
   "outputs": [
    {
     "ename": "SyntaxError",
     "evalue": "unexpected EOF while parsing (<ipython-input-43-60734ba9811c>, line 3)",
     "output_type": "error",
     "traceback": [
      "\u001b[1;36m  File \u001b[1;32m\"<ipython-input-43-60734ba9811c>\"\u001b[1;36m, line \u001b[1;32m3\u001b[0m\n\u001b[1;33m    \u001b[0m\n\u001b[1;37m    ^\u001b[0m\n\u001b[1;31mSyntaxError\u001b[0m\u001b[1;31m:\u001b[0m unexpected EOF while parsing\n"
     ]
    }
   ],
   "source": [
    "for x in xrange(10):\n",
    "    if x < 5: \n",
    "        "
   ]
  },
  {
   "cell_type": "markdown",
   "metadata": {},
   "source": [
    "For other editors, the standard is to use 4 spaces (**NOT** tabs) for the indentation, set your favorite editor accordingly. For example in vi / vim: \n",
    "\n",
    "    set tabstop=4\n",
    "    set expandtab\n",
    "    set shiftwidth=4\n",
    "    set softtabstop=4"
   ]
  },
  {
   "cell_type": "markdown",
   "metadata": {},
   "source": [
    "### if ... elif ... else"
   ]
  },
  {
   "cell_type": "code",
   "execution_count": 44,
   "metadata": {},
   "outputs": [
    {
     "name": "stdout",
     "output_type": "stream",
     "text": [
      "20\n"
     ]
    }
   ],
   "source": [
    "x = 10\n",
    "\n",
    "if x < 10: # not met\n",
    "    x = x + 1\n",
    "elif x > 10: \n",
    "    x = x - 1 # not met either \n",
    "else: \n",
    "    x = x * 2\n",
    "    \n",
    "print(x)"
   ]
  },
  {
   "cell_type": "code",
   "execution_count": 45,
   "metadata": {},
   "outputs": [
    {
     "name": "stdout",
     "output_type": "stream",
     "text": [
      "30\n"
     ]
    }
   ],
   "source": [
    "x = 10\n",
    "\n",
    "if (x > 5 and x < 8): \n",
    "    x = x+1\n",
    "elif (x > 5 and x < 12): \n",
    "    x = x * 3\n",
    "else:\n",
    "    x = x-1\n",
    "    \n",
    "print(x)"
   ]
  },
  {
   "cell_type": "markdown",
   "metadata": {},
   "source": [
    "### The For loop "
   ]
  },
  {
   "cell_type": "markdown",
   "metadata": {},
   "source": [
    "￼The basic structure of FOR loops is ￼\n",
    "\n",
    "    for item in iterable: \n",
    "        expression(s)\n",
    "        "
   ]
  },
  {
   "cell_type": "code",
   "execution_count": 46,
   "metadata": {},
   "outputs": [
    {
     "name": "stdout",
     "output_type": "stream",
     "text": [
      "1\n",
      "3\n",
      "6\n",
      "10\n",
      "15\n",
      "21\n",
      "28\n",
      "36\n",
      "45\n"
     ]
    }
   ],
   "source": [
    "count = 0\n",
    "# x = range(1,10) # range creates a list ... \n",
    "# xrange is a convenience function, it creates an iterator rather than a list\n",
    "# which has a smaller memory footprint\n",
    "x = range(1,10) \n",
    "for i in x:\n",
    "    count += i\n",
    "    print(count)"
   ]
  },
  {
   "cell_type": "markdown",
   "metadata": {},
   "source": [
    "### try ... except\n",
    "\n",
    "You can see it as a generalization of the ```if ... else``` construction, allowing more flexibility in handling failures in code"
   ]
  },
  {
   "cell_type": "code",
   "execution_count": 47,
   "metadata": {},
   "outputs": [
    {
     "name": "stdout",
     "output_type": "stream",
     "text": [
      "a is Not convertible to a float\n",
      "1.0\n",
      "54.1\n",
      "43.a is Not convertible to a float\n"
     ]
    }
   ],
   "source": [
    "text = ('a','1','54.1','43.a')\n",
    "for t in text:\n",
    "    try:\n",
    "        temp = float(t)\n",
    "        print(temp)\n",
    "    except ValueError:\n",
    "        print(str(t) + ' is Not convertible to a float')"
   ]
  },
  {
   "cell_type": "markdown",
   "metadata": {},
   "source": [
    "A list of built-in exceptions is available here \n",
    "\n",
    "[http://docs.python.org/3.1/library/exceptions.html](http://docs.python.org/3.1/library/exceptions.html)"
   ]
  },
  {
   "cell_type": "markdown",
   "metadata": {},
   "source": [
    "## 9. Recycling code in Python\n",
    "\n",
    "As with R, it's a good idea to write **functions** for bits of code that you use often. \n",
    "\n",
    "The syntax for defining a function in Python is: \n",
    "\n",
    "    def name_of_function(arguments): \n",
    "        \"Some code here that works on arguments and produces outputs\"\n",
    "        ...\n",
    "        return outputs\n",
    "\n",
    "Note that the execution block **must be indented** ... \n",
    "\n",
    "You can create a file (a **module**: extension **.py** required) which contains **several** functions, and can also define variables, and import some other functions from other modules."
   ]
  },
  {
   "cell_type": "code",
   "execution_count": 48,
   "metadata": {},
   "outputs": [
    {
     "name": "stdout",
     "output_type": "stream",
     "text": [
      "Writing some_module.py\n"
     ]
    }
   ],
   "source": [
    "%%file some_module.py \n",
    "\n",
    "PI = 3.14159 # defining a variable\n",
    "\n",
    "from numpy import arccos # importing a function from another module\n",
    "\n",
    "def f(x): \n",
    "    \"\"\"\n",
    "    This is a function which adds 5 to its argument\n",
    "     \n",
    "    \"\"\"\n",
    "    return x + 5\n",
    "\n",
    "def g(x, y): \n",
    "    \"\"\"\n",
    "    This is a function which sums its 2 arguments\n",
    "    \"\"\"\n",
    "    return x + y"
   ]
  },
  {
   "cell_type": "markdown",
   "metadata": {},
   "source": [
    "This is how we import an external module. Can you guess where the files resides?"
   ]
  },
  {
   "cell_type": "code",
   "execution_count": 49,
   "metadata": {},
   "outputs": [],
   "source": [
    "import some_module"
   ]
  },
  {
   "cell_type": "markdown",
   "metadata": {},
   "source": [
    "The magic `%whos` object (all objects preceded by % are called magic) gies us all the valiables we declared in the notebook or imported from external files!"
   ]
  },
  {
   "cell_type": "code",
   "execution_count": 50,
   "metadata": {},
   "outputs": [
    {
     "name": "stdout",
     "output_type": "stream",
     "text": [
      "Variable      Type      Data/Info\n",
      "---------------------------------\n",
      "a             int       5\n",
      "answer        list      n=5\n",
      "b             int       6\n",
      "cond          list      n=5\n",
      "count         int       45\n",
      "i             int       9\n",
      "my_dict       dict      n=3\n",
      "some_module   module    <module 'some_module' fro<...>Numbers\\\\some_module.py'>\n",
      "some_var      int       5\n",
      "str_list      list      n=3\n",
      "t             str       43.a\n",
      "temp          float     54.1\n",
      "text          tuple     n=4\n",
      "x             range     range(1, 10)\n",
      "y             int       5\n"
     ]
    }
   ],
   "source": [
    "%whos"
   ]
  },
  {
   "cell_type": "markdown",
   "metadata": {},
   "source": [
    "`dir()` yeilds the functions. Note there are buiilt-in functions, too."
   ]
  },
  {
   "cell_type": "code",
   "execution_count": 51,
   "metadata": {},
   "outputs": [
    {
     "data": {
      "text/plain": [
       "['PI',\n",
       " '__builtins__',\n",
       " '__cached__',\n",
       " '__doc__',\n",
       " '__file__',\n",
       " '__loader__',\n",
       " '__name__',\n",
       " '__package__',\n",
       " '__spec__',\n",
       " 'arccos',\n",
       " 'f',\n",
       " 'g']"
      ]
     },
     "execution_count": 51,
     "metadata": {},
     "output_type": "execute_result"
    }
   ],
   "source": [
    "dir(some_module)"
   ]
  },
  {
   "cell_type": "markdown",
   "metadata": {},
   "source": [
    "And we can get help information from the module, which consits of the triple-quoted comment string for each defined function."
   ]
  },
  {
   "cell_type": "code",
   "execution_count": 53,
   "metadata": {},
   "outputs": [
    {
     "name": "stdout",
     "output_type": "stream",
     "text": [
      "Help on module some_module:\n",
      "\n",
      "NAME\n",
      "    some_module\n",
      "\n",
      "FUNCTIONS\n",
      "    f(x)\n",
      "        This is a function which adds 5 to its argument\n",
      "    \n",
      "    g(x, y)\n",
      "        This is a function which sums its 2 arguments\n",
      "\n",
      "DATA\n",
      "    PI = 3.14159\n",
      "    arccos = <ufunc 'arccos'>\n",
      "\n",
      "FILE\n",
      "    d:\\neucourses\\data science engineering methods and tools – info 6105\\lecture2-just big numbers\\some_module.py\n",
      "\n",
      "\n"
     ]
    }
   ],
   "source": [
    "help(some_module)"
   ]
  },
  {
   "cell_type": "markdown",
   "metadata": {},
   "source": [
    "And here's how we use our module, A variable in the module:"
   ]
  },
  {
   "cell_type": "code",
   "execution_count": 54,
   "metadata": {},
   "outputs": [
    {
     "data": {
      "text/plain": [
       "3.14159"
      ]
     },
     "execution_count": 54,
     "metadata": {},
     "output_type": "execute_result"
    }
   ],
   "source": [
    "some_module.PI"
   ]
  },
  {
   "cell_type": "markdown",
   "metadata": {},
   "source": [
    "Notice a cool trick by executing the cell below."
   ]
  },
  {
   "cell_type": "code",
   "execution_count": 56,
   "metadata": {},
   "outputs": [],
   "source": [
    "some_module.arccos?"
   ]
  },
  {
   "cell_type": "markdown",
   "metadata": {},
   "source": [
    "A function in the module. Notice that with a function, we need to give it an input variable, too."
   ]
  },
  {
   "cell_type": "code",
   "execution_count": 57,
   "metadata": {},
   "outputs": [
    {
     "data": {
      "text/plain": [
       "12"
      ]
     },
     "execution_count": 57,
     "metadata": {},
     "output_type": "execute_result"
    }
   ],
   "source": [
    "some_module.f(7)"
   ]
  },
  {
   "cell_type": "code",
   "execution_count": 58,
   "metadata": {},
   "outputs": [
    {
     "name": "stdout",
     "output_type": "stream",
     "text": [
      "Help on function f in module some_module:\n",
      "\n",
      "f(x)\n",
      "    This is a function which adds 5 to its argument\n",
      "\n"
     ]
    }
   ],
   "source": [
    "help(some_module.f)"
   ]
  },
  {
   "cell_type": "markdown",
   "metadata": {},
   "source": [
    "Here are two ways for creating shortcuts to the module:"
   ]
  },
  {
   "cell_type": "code",
   "execution_count": 59,
   "metadata": {},
   "outputs": [],
   "source": [
    "from some_module import f"
   ]
  },
  {
   "cell_type": "code",
   "execution_count": 60,
   "metadata": {},
   "outputs": [
    {
     "data": {
      "text/plain": [
       "10"
      ]
     },
     "execution_count": 60,
     "metadata": {},
     "output_type": "execute_result"
    }
   ],
   "source": [
    "f(5)"
   ]
  },
  {
   "cell_type": "code",
   "execution_count": 61,
   "metadata": {},
   "outputs": [],
   "source": [
    "import some_module as sm"
   ]
  },
  {
   "cell_type": "code",
   "execution_count": 62,
   "metadata": {},
   "outputs": [
    {
     "data": {
      "text/plain": [
       "15"
      ]
     },
     "execution_count": 62,
     "metadata": {},
     "output_type": "execute_result"
    }
   ],
   "source": [
    "sm.f(10)"
   ]
  },
  {
   "cell_type": "markdown",
   "metadata": {},
   "source": [
    "The Zen of python says: \n",
    "    \n",
    "```Namespaces are one honking great idea -- let's do more of those!```\n",
    "    \n",
    "so **don't** do: \n",
    "\n",
    "    from some_module import *\n",
    "    \n",
    "As to avoid names conflicts ..."
   ]
  },
  {
   "cell_type": "markdown",
   "metadata": {},
   "source": [
    "### A bit more on functions: \n",
    "\n",
    "Functions can have **positional** as well as **keyword** arguments (with defaults, can be `None` if that's allowed / tested)\n",
    "\n",
    "Positional arguments must always come before keyword arguments"
   ]
  },
  {
   "cell_type": "code",
   "execution_count": 63,
   "metadata": {},
   "outputs": [],
   "source": [
    "def some_function(a,b,c=5,d=1e3): \n",
    "    res = (a + b) * c * d\n",
    "    return res"
   ]
  },
  {
   "cell_type": "code",
   "execution_count": 64,
   "metadata": {},
   "outputs": [
    {
     "data": {
      "text/plain": [
       "25000.0"
      ]
     },
     "execution_count": 64,
     "metadata": {},
     "output_type": "execute_result"
    }
   ],
   "source": [
    "some_function(2,3)"
   ]
  },
  {
   "cell_type": "code",
   "execution_count": 65,
   "metadata": {},
   "outputs": [
    {
     "data": {
      "text/plain": [
       "0.25"
      ]
     },
     "execution_count": 65,
     "metadata": {},
     "output_type": "execute_result"
    }
   ],
   "source": [
    "some_function(2, 3, c=5, d=0.01)"
   ]
  },
  {
   "cell_type": "markdown",
   "metadata": {},
   "source": [
    "You can return more than one output from a function, and by default it will be a tuple:"
   ]
  },
  {
   "cell_type": "code",
   "execution_count": 66,
   "metadata": {},
   "outputs": [],
   "source": [
    "def some_function(a, b): \n",
    "    return a+1, b+1, a*b"
   ]
  },
  {
   "cell_type": "code",
   "execution_count": 67,
   "metadata": {},
   "outputs": [],
   "source": [
    "a,b,c = some_function(2,3)"
   ]
  },
  {
   "cell_type": "code",
   "execution_count": 68,
   "metadata": {},
   "outputs": [
    {
     "data": {
      "text/plain": [
       "6"
      ]
     },
     "execution_count": 68,
     "metadata": {},
     "output_type": "execute_result"
    }
   ],
   "source": [
    "c"
   ]
  },
  {
   "cell_type": "code",
   "execution_count": 69,
   "metadata": {},
   "outputs": [
    {
     "ename": "NameError",
     "evalue": "name 'res' is not defined",
     "output_type": "error",
     "traceback": [
      "\u001b[1;31m---------------------------------------------------------------------------\u001b[0m",
      "\u001b[1;31mNameError\u001b[0m                                 Traceback (most recent call last)",
      "\u001b[1;32m<ipython-input-69-a05a11ad21cf>\u001b[0m in \u001b[0;36m<module>\u001b[1;34m\u001b[0m\n\u001b[1;32m----> 1\u001b[1;33m \u001b[0mtype\u001b[0m\u001b[1;33m(\u001b[0m\u001b[0mres\u001b[0m\u001b[1;33m)\u001b[0m\u001b[1;33m\u001b[0m\u001b[1;33m\u001b[0m\u001b[0m\n\u001b[0m",
      "\u001b[1;31mNameError\u001b[0m: name 'res' is not defined"
     ]
    }
   ],
   "source": [
    "type(res)"
   ]
  },
  {
   "cell_type": "markdown",
   "metadata": {},
   "source": [
    "## 10. Functions and Anonymous Functions are first class in Python\n",
    "\n",
    "Functions in Python are just like data objects, you can create variables to styore them and pass them around, even to other functions!"
   ]
  },
  {
   "cell_type": "code",
   "execution_count": 70,
   "metadata": {},
   "outputs": [
    {
     "data": {
      "text/plain": [
       "13"
      ]
     },
     "execution_count": 70,
     "metadata": {},
     "output_type": "execute_result"
    }
   ],
   "source": [
    "# Python has first class functions\n",
    "def create_adder(x):\n",
    "    def adder(y):\n",
    "        return x + y\n",
    "\n",
    "    return adder\n",
    "\n",
    "\n",
    "add_10 = create_adder(10)\n",
    "add_10(3)  # => 13"
   ]
  },
  {
   "cell_type": "markdown",
   "metadata": {},
   "source": [
    "You can dedfine anonymous functions using `lambdas`:"
   ]
  },
  {
   "cell_type": "code",
   "execution_count": 71,
   "metadata": {},
   "outputs": [
    {
     "data": {
      "text/plain": [
       "5"
      ]
     },
     "execution_count": 71,
     "metadata": {},
     "output_type": "execute_result"
    }
   ],
   "source": [
    "# There are also anonymous functions\n",
    "(lambda x: x > 2)(3)  # => True\n",
    "(lambda x, y: x ** 2 + y ** 2)(2, 1)  # => 5"
   ]
  },
  {
   "cell_type": "markdown",
   "metadata": {},
   "source": [
    "There are built-in higher order functions you should know of. It's ok if they're still a bit myesterious to you. We'll explore them more in later lectures."
   ]
  },
  {
   "cell_type": "code",
   "execution_count": 79,
   "metadata": {},
   "outputs": [
    {
     "data": {
      "text/plain": [
       "<filter at 0x2c30c861048>"
      ]
     },
     "execution_count": 79,
     "metadata": {},
     "output_type": "execute_result"
    }
   ],
   "source": [
    "map(add_10, [1, 2, 3])  # => [11, 12, 13]\n",
    "map(max, [1, 2, 3], [4, 2, 1])  # => [4, 2, 3]\n",
    "\n",
    "\n",
    "filter(lambda x: x > 5, [3, 4, 5, 6, 7])  # => [6, 7]"
   ]
  },
  {
   "cell_type": "markdown",
   "metadata": {},
   "source": [
    "You can use list comprehensions for nice maps and filters:"
   ]
  },
  {
   "cell_type": "code",
   "execution_count": 80,
   "metadata": {},
   "outputs": [
    {
     "data": {
      "text/plain": [
       "[6, 7]"
      ]
     },
     "execution_count": 80,
     "metadata": {},
     "output_type": "execute_result"
    }
   ],
   "source": [
    "[add_10(i) for i in [1, 2, 3]]  # => [11, 12, 13]\n",
    "[x for x in [3, 4, 5, 6, 7] if x > 5]  # => [6, 7]"
   ]
  },
  {
   "cell_type": "markdown",
   "metadata": {},
   "source": [
    "You can construct set and dict comprehensions as well:"
   ]
  },
  {
   "cell_type": "code",
   "execution_count": 81,
   "metadata": {},
   "outputs": [
    {
     "data": {
      "text/plain": [
       "[6, 7]"
      ]
     },
     "execution_count": 81,
     "metadata": {},
     "output_type": "execute_result"
    }
   ],
   "source": [
    "{x for x in 'abcddeef' if x in 'abc'}  # => {'a', 'b', 'c'}\n",
    "{x: x ** 2 for x in range(5)}  # => {0: 0, 1: 1, 2: 4, 3: 9, 4: 16}\n",
    "[x for x in [3, 4, 5, 6, 7] if x > 5]  # => [6, 7]"
   ]
  },
  {
   "cell_type": "markdown",
   "metadata": {},
   "source": [
    "Finally, Python's `*args` and `**kwargs` constructs lest you iterate over **positional arguments** and **named arguments**: "
   ]
  },
  {
   "cell_type": "code",
   "execution_count": 82,
   "metadata": {},
   "outputs": [],
   "source": [
    "def magic(*args, **kwargs):\n",
    "  print (\"unnamed args: \", args)\n",
    "  print (\"keyword args: \", kwargs)"
   ]
  },
  {
   "cell_type": "code",
   "execution_count": 83,
   "metadata": {},
   "outputs": [
    {
     "name": "stdout",
     "output_type": "stream",
     "text": [
      "unnamed args:  (1, 2, 3)\n",
      "keyword args:  {'a': 4, 'b': 5, 'c': 6}\n"
     ]
    }
   ],
   "source": [
    "magic(1,2,3,a=4,b=5,c=6)"
   ]
  },
  {
   "cell_type": "markdown",
   "metadata": {},
   "source": [
    "## Generators"
   ]
  },
  {
   "cell_type": "markdown",
   "metadata": {},
   "source": [
    "A generator \"generates\" values as they are requested instead of storing everything up front. Let's see what storing everything up front really means. # The following method (*NOT* a generator) will double all values and store it\n",
    "in `double_arr`. For large size of iterables, that might get huge!"
   ]
  },
  {
   "cell_type": "code",
   "execution_count": 84,
   "metadata": {},
   "outputs": [],
   "source": [
    "def double_numbers(iterable):\n",
    "    double_arr = []\n",
    "    for i in iterable:\n",
    "        double_arr.append(i + i)\n",
    "    return double_arr"
   ]
  },
  {
   "cell_type": "markdown",
   "metadata": {},
   "source": [
    "Running the following would mean we'll double all values first and return all of them back to be checked by our condition:"
   ]
  },
  {
   "cell_type": "code",
   "execution_count": 85,
   "metadata": {},
   "outputs": [
    {
     "ename": "SyntaxError",
     "evalue": "Missing parentheses in call to 'print'. Did you mean print(value)? (<ipython-input-85-77425074c1df>, line 2)",
     "output_type": "error",
     "traceback": [
      "\u001b[1;36m  File \u001b[1;32m\"<ipython-input-85-77425074c1df>\"\u001b[1;36m, line \u001b[1;32m2\u001b[0m\n\u001b[1;33m    print value\u001b[0m\n\u001b[1;37m              ^\u001b[0m\n\u001b[1;31mSyntaxError\u001b[0m\u001b[1;31m:\u001b[0m Missing parentheses in call to 'print'. Did you mean print(value)?\n"
     ]
    }
   ],
   "source": [
    "for value in double_numbers(range(1000000)):  # `test_non_generator`\n",
    "    print value\n",
    "    if value > 5:\n",
    "        break"
   ]
  },
  {
   "cell_type": "markdown",
   "metadata": {},
   "source": [
    "We could instead use a generator to *generate* the doubled value as the item is being requested"
   ]
  },
  {
   "cell_type": "code",
   "execution_count": 86,
   "metadata": {},
   "outputs": [],
   "source": [
    "def double_numbers_generator(iterable):\n",
    "    for i in iterable:\n",
    "        yield i + i"
   ]
  },
  {
   "cell_type": "markdown",
   "metadata": {},
   "source": [
    "Running the same code as before, but with a generator, now allows us to iterate\n",
    "over the values and doubling them one by one as they are being consumed by\n",
    "our logic. \n",
    "\n",
    "Thus, as soon as we see a value > 5, we break out of the\n",
    "loop and don't need to double most of the values sent in (MUCH FASTER!)"
   ]
  },
  {
   "cell_type": "code",
   "execution_count": 87,
   "metadata": {},
   "outputs": [
    {
     "ename": "SyntaxError",
     "evalue": "Missing parentheses in call to 'print'. Did you mean print(value)? (<ipython-input-87-cc2e3141ffb3>, line 2)",
     "output_type": "error",
     "traceback": [
      "\u001b[1;36m  File \u001b[1;32m\"<ipython-input-87-cc2e3141ffb3>\"\u001b[1;36m, line \u001b[1;32m2\u001b[0m\n\u001b[1;33m    print value\u001b[0m\n\u001b[1;37m              ^\u001b[0m\n\u001b[1;31mSyntaxError\u001b[0m\u001b[1;31m:\u001b[0m Missing parentheses in call to 'print'. Did you mean print(value)?\n"
     ]
    }
   ],
   "source": [
    "for value in double_numbers_generator(xrange(1000000)):  # `test_generator`\n",
    "    print value\n",
    "    if value > 5:\n",
    "        break"
   ]
  },
  {
   "cell_type": "markdown",
   "metadata": {},
   "source": [
    "By the way, did you notice the use of `range` in `test_non_generator` and `xrange` in `test_generator`?\n",
    "\n",
    "Just as `double_numbers_generator` is the generator version of `double_numbers`, We have `xrange` as the generator version of `range`.\n",
    "\n",
    "`range` would return back and array with 1000000 values for us to use\n",
    "`xrange` would generate 1000000 values for us as we request / iterate over those items."
   ]
  },
  {
   "cell_type": "markdown",
   "metadata": {},
   "source": [
    "Just as you can create a list comprehension, you can create generator comprehensions as well:"
   ]
  },
  {
   "cell_type": "code",
   "execution_count": 88,
   "metadata": {},
   "outputs": [
    {
     "name": "stdout",
     "output_type": "stream",
     "text": [
      "-1\n",
      "-2\n",
      "-3\n",
      "-4\n",
      "-5\n"
     ]
    }
   ],
   "source": [
    "values = (-x for x in [1, 2, 3, 4, 5])\n",
    "for x in values:\n",
    "    print(x)  # prints -1 -2 -3 -4 -5 to console/terminal"
   ]
  },
  {
   "cell_type": "markdown",
   "metadata": {},
   "source": [
    "You can also cast a generator comprehension directly to a list:"
   ]
  },
  {
   "cell_type": "code",
   "execution_count": 89,
   "metadata": {},
   "outputs": [
    {
     "name": "stdout",
     "output_type": "stream",
     "text": [
      "[-1, -2, -3, -4, -5]\n"
     ]
    }
   ],
   "source": [
    "values = (-x for x in [1, 2, 3, 4, 5])\n",
    "gen_to_list = list(values)\n",
    "print(gen_to_list)  # => [-1, -2, -3, -4, -5]"
   ]
  },
  {
   "cell_type": "markdown",
   "metadata": {},
   "source": [
    "## Decorators"
   ]
  },
  {
   "cell_type": "markdown",
   "metadata": {},
   "source": [
    "A decorator is a higher order function, which accepts and returns a function. Simple usage example `add_apples` decorator will add 'Apple' element into fruits list returned by get_fruits target function."
   ]
  },
  {
   "cell_type": "code",
   "execution_count": 90,
   "metadata": {},
   "outputs": [
    {
     "name": "stdout",
     "output_type": "stream",
     "text": [
      "Banana, Mango, Orange, Apple\n"
     ]
    }
   ],
   "source": [
    "def add_apples(func):\n",
    "    def get_fruits():\n",
    "        fruits = func()\n",
    "        fruits.append('Apple')\n",
    "        return fruits\n",
    "    return get_fruits\n",
    "\n",
    "@add_apples\n",
    "def get_fruits():\n",
    "    return ['Banana', 'Mango', 'Orange']\n",
    "\n",
    "# Prints out the list of fruits with 'Apple' element in it:\n",
    "# Banana, Mango, Orange, Apple\n",
    "print(', '.join(get_fruits()))"
   ]
  },
  {
   "cell_type": "markdown",
   "metadata": {},
   "source": [
    "In this example, `beg` wraps `say`. `beg` will call `say`. If `say_please` is True then it will change the returned message:"
   ]
  },
  {
   "cell_type": "code",
   "execution_count": 91,
   "metadata": {},
   "outputs": [
    {
     "ename": "SyntaxError",
     "evalue": "invalid syntax (<ipython-input-91-464aec407535>, line 21)",
     "output_type": "error",
     "traceback": [
      "\u001b[1;36m  File \u001b[1;32m\"<ipython-input-91-464aec407535>\"\u001b[1;36m, line \u001b[1;32m21\u001b[0m\n\u001b[1;33m    print say()  # Can you buy me a beer?\u001b[0m\n\u001b[1;37m            ^\u001b[0m\n\u001b[1;31mSyntaxError\u001b[0m\u001b[1;31m:\u001b[0m invalid syntax\n"
     ]
    }
   ],
   "source": [
    "from functools import wraps\n",
    "\n",
    "\n",
    "def beg(target_function):\n",
    "    @wraps(target_function)\n",
    "    def wrapper(*args, **kwargs):\n",
    "        msg, say_please = target_function(*args, **kwargs)\n",
    "        if say_please:\n",
    "            return \"{} {}\".format(msg, \"Please! I am poor :(\")\n",
    "        return msg\n",
    "\n",
    "    return wrapper\n",
    "\n",
    "\n",
    "@beg\n",
    "def say(say_please=False):\n",
    "    msg = \"Can you buy me a beer?\"\n",
    "    return msg, say_please\n",
    "\n",
    "\n",
    "print say()  # Can you buy me a beer?\n",
    "print say(say_please=True)  # Can you buy me a beer? Please! I am poor :("
   ]
  },
  {
   "cell_type": "markdown",
   "metadata": {},
   "source": [
    "## Let's program!\n",
    "\n",
    "And now my dear students, you are ready to program in Python!\n",
    "\n",
    "Please write below the simplest implementation of Fibonacci numbers. Those are the series where the next element is the sum of the previous two. Amd give me the first 100 Fibonacci numbers.\n",
    "\n",
    "Now :-)"
   ]
  },
  {
   "cell_type": "code",
   "execution_count": 94,
   "metadata": {},
   "outputs": [],
   "source": [
    "def Fcal(fNumber):\n",
    "    f1 = 1\n",
    "    f2 = 1\n",
    "    print(\"1\\n1\")\n",
    "    for i in range(fNumber):\n",
    "        f3 = f1+f2\n",
    "        print(f3)\n",
    "        f1 = f2\n",
    "        f2 = f3"
   ]
  },
  {
   "cell_type": "code",
   "execution_count": 102,
   "metadata": {},
   "outputs": [
    {
     "name": "stdout",
     "output_type": "stream",
     "text": [
      "1\n",
      "1\n",
      "2\n",
      "3\n",
      "5\n",
      "8\n",
      "13\n",
      "21\n",
      "34\n",
      "55\n",
      "89\n",
      "144\n",
      "233\n",
      "377\n",
      "610\n",
      "987\n",
      "1597\n",
      "2584\n",
      "4181\n",
      "6765\n",
      "10946\n",
      "17711\n",
      "28657\n",
      "46368\n",
      "75025\n",
      "121393\n",
      "196418\n",
      "317811\n",
      "514229\n",
      "832040\n",
      "1346269\n",
      "2178309\n",
      "3524578\n",
      "5702887\n",
      "9227465\n",
      "14930352\n",
      "24157817\n",
      "39088169\n",
      "63245986\n",
      "102334155\n",
      "165580141\n",
      "267914296\n",
      "433494437\n",
      "701408733\n",
      "1134903170\n",
      "1836311903\n",
      "2971215073\n",
      "4807526976\n",
      "7778742049\n",
      "12586269025\n",
      "20365011074\n",
      "32951280099\n",
      "53316291173\n",
      "86267571272\n",
      "139583862445\n",
      "225851433717\n",
      "365435296162\n",
      "591286729879\n",
      "956722026041\n",
      "1548008755920\n",
      "2504730781961\n",
      "4052739537881\n",
      "6557470319842\n",
      "10610209857723\n",
      "17167680177565\n",
      "27777890035288\n",
      "44945570212853\n",
      "72723460248141\n",
      "117669030460994\n",
      "190392490709135\n",
      "308061521170129\n",
      "498454011879264\n",
      "806515533049393\n",
      "1304969544928657\n",
      "2111485077978050\n",
      "3416454622906707\n",
      "5527939700884757\n",
      "8944394323791464\n",
      "14472334024676221\n",
      "23416728348467685\n",
      "37889062373143906\n",
      "61305790721611591\n",
      "99194853094755497\n",
      "160500643816367088\n",
      "259695496911122585\n",
      "420196140727489673\n",
      "679891637638612258\n",
      "1100087778366101931\n",
      "1779979416004714189\n",
      "2880067194370816120\n",
      "4660046610375530309\n",
      "7540113804746346429\n",
      "12200160415121876738\n",
      "19740274219868223167\n",
      "31940434634990099905\n",
      "51680708854858323072\n",
      "83621143489848422977\n",
      "135301852344706746049\n",
      "218922995834555169026\n",
      "354224848179261915075\n",
      "573147844013817084101\n",
      "927372692193078999176\n"
     ]
    }
   ],
   "source": [
    "Fcal(100)"
   ]
  },
  {
   "cell_type": "markdown",
   "metadata": {},
   "source": [
    "Enough for today?\n",
    "\n",
    "![sloth](https://tellingthetruth1993.files.wordpress.com/2015/06/sloth-from-imgsoup-com.jpg)"
   ]
  }
 ],
 "metadata": {
  "kernelspec": {
   "display_name": "Python 3",
   "language": "python",
   "name": "python3"
  },
  "language_info": {
   "codemirror_mode": {
    "name": "ipython",
    "version": 3
   },
   "file_extension": ".py",
   "mimetype": "text/x-python",
   "name": "python",
   "nbconvert_exporter": "python",
   "pygments_lexer": "ipython3",
   "version": "3.7.3"
  }
 },
 "nbformat": 4,
 "nbformat_minor": 1
}
