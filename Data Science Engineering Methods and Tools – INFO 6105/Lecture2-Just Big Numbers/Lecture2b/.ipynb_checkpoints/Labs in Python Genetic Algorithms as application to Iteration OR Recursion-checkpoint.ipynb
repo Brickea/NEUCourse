{
 "cells": [
  {
   "cell_type": "markdown",
   "metadata": {},
   "source": [
    "<div style=\"text-align: right\">INFO 6105 Data Science Eng Methods and Tools, Lecture 2 Day 2</div>\n",
    "<div style=\"text-align: right\">Dino Konstantopoulos, 11 September 2019</div>\n",
    "\n",
    "# Labs in Python: ***Genetic Algorithms*** as application to Iteration/Recursion\n",
    "\n",
    "## Guess my number\n",
    "\n",
    "A simple game for two people where one picks a secret number between 1 and 10 and the other has to guess that number.\n",
    "\n",
    "Is it 2?  No\n",
    "\n",
    "Is it 3?  No\n",
    "\n",
    "Is it 7?  No\n",
    "\n",
    "Is it 1?  Yes\n",
    "\n",
    "That works reasonably well for 1..10 but quickly becomes frustrating or boring as we increase the range to 1..100 or 1..1000. Right? Because we have no way to improve our guesses. There’s no ***challenge***. The guess is either right or wrong, so it quickly becomes a mechanical process."
   ]
  },
  {
   "cell_type": "markdown",
   "metadata": {},
   "source": [
    "## More interesting\n",
    "\n",
    "So, to make it more interesting, instead of *no* let’s say **higher** or **lower**.\n",
    "\n",
    "1?  Higher\n",
    "\n",
    "7?  Lower\n",
    "\n",
    "6?  Lower\n",
    "\n",
    "5?  Lower\n",
    "\n",
    "4?  Correct"
   ]
  },
  {
   "cell_type": "markdown",
   "metadata": {},
   "source": [
    "That might be reasonably interesting for a while, for 1..10 maybe, but soon you’ll increase the range to 1..100. Because people are competitive, the next challenge will be to see who is a better guesser by trying to find the number in the *fewest* guesses. At this point the person who evolves the most efficient guessing strategy wins!"
   ]
  },
  {
   "cell_type": "markdown",
   "metadata": {},
   "source": [
    "## Genetic algorithms\n",
    "\n",
    "* A genetic algorithm does not know what *lower* means. It has no *intelligence*. It does not learn. It will make the same mistake every time. It will only be as good at solving a problem as the person who wrote the code. \n",
    "\n",
    "And yet, it can be used to find solutions to problems that humans would struggle to solve or could not solve at all. How is that possible?\n",
    "\n",
    "When playing a card game, inexperienced players build a mental map using the **cards in their hand** and those **on the table**. \n",
    "\n",
    "More experienced players also take advantage of their knowledge of the problem space, the **entire set of cards in the deck**. \n",
    "\n",
    "This means they may also keep track of cards that have ***not yet been played***, and may know they can win the rest of the rounds without having to play them out. \n",
    "\n",
    "Highly experienced card players also know the ***probabilities of various winning combinations***. They've written out the probability functions well learn in class!\n",
    "\n",
    "Professionals, who earn their living playing the game, also pay attention to the way their competitors play.\n",
    "\n",
    "Genetic algorithms use ***random exploration of the problem space*** combined with *evolutionary processes* like **mutation** and **mating** or **crossover** (exchange of genetic information) to improve guesses. But also, because they have no experience in the problem domain, they try things a human would never think to try. Thus, a person using a genetic algorithm may learn more about the problem space and potential solutions. This gives them the ability to make improvements to the algorithm."
   ]
  },
  {
   "cell_type": "markdown",
   "metadata": {},
   "source": [
    "## Guess the Password\n",
    "\n",
    "Now let’s see how this all applies to guessing a password. We’ll start by randomly generating an initial sequence of letters and then mutate/change one random letter at a time until the sequence of letters becomes \"Hello World!\". \n",
    "\n",
    "Conceptually:"
   ]
  },
  {
   "cell_type": "markdown",
   "metadata": {},
   "source": [
    "```python\n",
    "_letters = [a..zA..Z !]\n",
    "target = \"Hello World!\"\n",
    "guess = get 12 random letters from _letters\n",
    "while guess != target:\n",
    "   index = get random value from [0..length of target]\n",
    "   guess[index] = get 1 random value from _letters\n",
    "```\n",
    "If you try this in any programming language you’ll find that it performs worse than playing the number guessing game with only **yes** and **no** answers because it cannot tell when one guess is better than another.\n",
    "\n",
    "So, let’s help it make an informed guess by telling it ***how many of the letters*** from the guess are in the correct locations! For example \"World!Hello?\" would get 2 because only the 4th letter of each word is correct. The 2 indicates how close the answer is to correct. This is called the **fitness value**. \n",
    "\n",
    "\"hello world?\" would get a fitness value of 9 because 9 letters are correct. Only the `h`, `w`, and question mark are wrong."
   ]
  },
  {
   "cell_type": "markdown",
   "metadata": {},
   "source": [
    "## Genes\n",
    "\n",
    "We start off with a generic set of letters for genes and a target password:"
   ]
  },
  {
   "cell_type": "code",
   "execution_count": 47,
   "metadata": {},
   "outputs": [
    {
     "data": {
      "text/plain": [
       "('Y', 'c')"
      ]
     },
     "execution_count": 47,
     "metadata": {},
     "output_type": "execute_result"
    }
   ],
   "source": [
    "geneSet = \" abcdefghijklmnopqrstuvwxyzABCDEFGHIJKLMNOPQRSTUVWXYZ!.\"\n",
    "target = \"Hello World!\"\n",
    "list(target)\n",
    "test1,test2=random.sample(geneSet, 2)\n",
    "test1,test2"
   ]
  },
  {
   "cell_type": "markdown",
   "metadata": {},
   "source": [
    "## Generate a guess\n",
    "\n",
    "Next we need a way to generate a random string of letters from the gene set."
   ]
  },
  {
   "cell_type": "code",
   "execution_count": 36,
   "metadata": {},
   "outputs": [],
   "source": [
    "import random\n",
    "\n",
    "def generate_parent(length):\n",
    "    genes = []\n",
    "    while len(genes) < length:\n",
    "        sampleSize = min(length - len(genes), len(geneSet))\n",
    "        print(sampleSize)\n",
    "        genes.extend(random.sample(geneSet, sampleSize))\n",
    "        print(genes)\n",
    "    return ''.join(genes)"
   ]
  },
  {
   "cell_type": "markdown",
   "metadata": {},
   "source": [
    "`random.sample` takes sampleSize values from the input **without replacement**. \n",
    "\n",
    "This means there will be no duplicates in the generated parent unless geneSet contains duplicates, or length is greater than `len(geneSet)`. The implementation above allows us to generate a long string with a small set of genes while using as many unique genes as possible."
   ]
  },
  {
   "cell_type": "markdown",
   "metadata": {},
   "source": [
    "## Fitness\n",
    "\n",
    "The fitness value the genetic algorithm provides is the only feedback the engine gets to guide it toward a solution. In this problem our fitness value is the total number of letters in the guess that match the letter in the same position of the password."
   ]
  },
  {
   "cell_type": "code",
   "execution_count": 37,
   "metadata": {},
   "outputs": [],
   "source": [
    "def get_fitness(guess):\n",
    "    return sum(1 for expected, actual in zip(target, guess)\n",
    "               if expected == actual)"
   ]
  },
  {
   "cell_type": "markdown",
   "metadata": {},
   "source": [
    "## Mutate\n",
    "\n",
    "We also need a way to produce a new guess by **mutating** the current one. The following implementation converts the parent string to an array with list(parent) then replaces 1 letter in the array with a randomly selected one from geneSet, and then recombines the result into a string with ''.join(genes)."
   ]
  },
  {
   "cell_type": "code",
   "execution_count": 38,
   "metadata": {},
   "outputs": [],
   "source": [
    "def mutate(parent):\n",
    "    index = random.randrange(0, len(parent))\n",
    "    childGenes = list(parent)\n",
    "    newGene, alternate = random.sample(geneSet, 2)\n",
    "    childGenes[index] = (alternate  \n",
    "        if newGene == childGenes[index]  \n",
    "        else newGene)\n",
    "    return ''.join(childGenes)"
   ]
  },
  {
   "cell_type": "markdown",
   "metadata": {},
   "source": [
    "This implementation uses an alternate replacement if the randomly selected newGene is the same as the one it is supposed to replace, which can save a significant amount of overhead."
   ]
  },
  {
   "cell_type": "markdown",
   "metadata": {},
   "source": [
    "## Display\n",
    "\n",
    "Next, it is important to monitor what is happening, so that we can stop the engine if it gets stuck. It also allows us to learn what works and what does not so we can improve the algorithm. This is also called **debugging** ;-)\n",
    "\n",
    "We’ll display a visual representation of the gene sequence, which may not be the literal gene sequence, its fitness value and how much time has elapsed."
   ]
  },
  {
   "cell_type": "code",
   "execution_count": 39,
   "metadata": {},
   "outputs": [],
   "source": [
    "import datetime\n",
    "\n",
    "def display(guess):\n",
    "    timeDiff = datetime.datetime.now() - startTime\n",
    "    fitness = get_fitness(guess)\n",
    "    print(\"{0}\\t{1}\\t{2}\".format(guess, fitness, str(timeDiff)))"
   ]
  },
  {
   "cell_type": "markdown",
   "metadata": {},
   "source": [
    "## Main\n",
    "\n",
    "Now we’re ready to write the main program. We start by initializing `bestParent` to a random sequence of letters."
   ]
  },
  {
   "cell_type": "code",
   "execution_count": 53,
   "metadata": {},
   "outputs": [
    {
     "name": "stdout",
     "output_type": "stream",
     "text": [
      "12\n",
      "['v', 'r', 'N', 'W', 'D', 'g', 'S', 'o', 'K', 'Y', 'k', 'G']\n",
      "vrNWDgSoKYkG\t1\t0:00:00.000998\n"
     ]
    }
   ],
   "source": [
    "random.seed()\n",
    "startTime = datetime.datetime.now()\n",
    "bestParent = generate_parent(len(target) )\n",
    "bestFitness = get_fitness(bestParent)\n",
    "display(bestParent)"
   ]
  },
  {
   "cell_type": "markdown",
   "metadata": {},
   "source": [
    "Then we add the heart of the genetic engine. It is a **loop** that generates a guess, requests the fitness for that guess, then compares it to that of the previous best guess, and keeps the better of the two. This cycle repeats until all the letters match those in the target."
   ]
  },
  {
   "cell_type": "code",
   "execution_count": 15,
   "metadata": {},
   "outputs": [
    {
     "name": "stdout",
     "output_type": "stream",
     "text": [
      "HivBNDCYO .h\t1\t0:00:04.240214\n",
      "HivBNDCYOl.h\t2\t0:00:04.241211\n",
      "HilBNDCYOl.h\t3\t0:00:04.242209\n",
      "HelBNDCYOl.h\t4\t0:00:04.242209\n",
      "HelBNDCoOl.h\t5\t0:00:04.243206\n",
      "HelBNDCorl.h\t6\t0:00:04.243206\n",
      "HelBNDCorldh\t7\t0:00:04.244203\n",
      "HellNDCorldh\t8\t0:00:04.245201\n",
      "HelloDCorldh\t9\t0:00:04.249190\n",
      "HelloDWorldh\t10\t0:00:04.250188\n",
      "Hello Worldh\t11\t0:00:04.250188\n",
      "Hello World!\t12\t0:00:04.252183\n"
     ]
    }
   ],
   "source": [
    "while True:\n",
    "    child = mutate(bestParent)\n",
    "    childFitness = get_fitness(child)\n",
    "\n",
    "    if bestFitness >= childFitness:\n",
    "        continue\n",
    "    display(child)\n",
    "    if childFitness >= len(bestParent):\n",
    "        break\n",
    "    bestFitness = childFitness\n",
    "    bestParent = child"
   ]
  },
  {
   "cell_type": "markdown",
   "metadata": {},
   "source": [
    "## Extract a reusable engine\n",
    "\n",
    "Now that we have a working solution to this problem we will extract the genetic engine code from that specific to the password problem so we can reuse it to solve other problems.\n",
    "\n",
    "We’ll rename the `mutate` and `generate_parent` functions to `_mutate` and `_generate_parent`. This is how ***protected*** functions are named in Python. They will not be visible to users of the genetic library if they live in a python file."
   ]
  },
  {
   "cell_type": "markdown",
   "metadata": {},
   "source": [
    "### Generate and Mutate\n",
    "\n",
    "Since we want to be able to customize the gene set used in future problems we need to pass it as a parameter to `_generate_parent`"
   ]
  },
  {
   "cell_type": "code",
   "execution_count": null,
   "metadata": {},
   "outputs": [],
   "source": [
    "import random\n",
    "\n",
    "def _generate_parent(length, geneSet):\n",
    "    genes = []\n",
    "    while len(genes) < length:\n",
    "        sampleSize = min(length - len(genes), len(geneSet))\n",
    "        genes.extend(random.sample(geneSet, sampleSize))\n",
    "    return ''.join(genes)"
   ]
  },
  {
   "cell_type": "code",
   "execution_count": null,
   "metadata": {},
   "outputs": [],
   "source": [
    "def _mutate(parent, geneSet):\n",
    "    index = random.randrange(0, len(parent))\n",
    "    childGenes = list(parent)\n",
    "    newGene, alternate = random.sample(geneSet, 2)\n",
    "    childGenes[index] = (alternate  \n",
    "        if newGene == childGenes[index]  \n",
    "        else newGene)\n",
    "    return ''.join(childGenes)"
   ]
  },
  {
   "cell_type": "markdown",
   "metadata": {},
   "source": [
    "### get_best\n",
    "\n",
    "Next we’ll move the main loop into a new function named `get_best` in our genetic library. \n",
    "\n",
    "Its parameters will include the functions it should use to request the fitness for a guess and to display (or report) each new best guess as it is found, the number of genes to use when creating a new sequence, the optimal fitness, and the set of genes to use for creating and mutating gene sequences."
   ]
  },
  {
   "cell_type": "code",
   "execution_count": null,
   "metadata": {},
   "outputs": [],
   "source": [
    "def get_best(get_fitness, targetLen, optimalFitness, geneSet, display):\n",
    "    random.seed()\n",
    "    bestParent = _generate_parent(targetLen, geneSet)\n",
    "    bestFitness = get_fitness(bestParent)\n",
    "    display(bestParent)\n",
    "    if bestFitness >= optimalFitness:\n",
    "        return bestParent\n",
    "\n",
    "    while True:\n",
    "        child = _mutate(bestParent, geneSet)\n",
    "        childFitness = get_fitness(child)\n",
    "\n",
    "        if bestFitness >= childFitness:\n",
    "            continue\n",
    "        display(child)\n",
    "        if childFitness >= optimalFitness:\n",
    "            return child\n",
    "        bestFitness = childFitness\n",
    "        bestParent = child"
   ]
  },
  {
   "cell_type": "markdown",
   "metadata": {},
   "source": [
    "Notice that we call` display` and `get_fitness` with only one parameter - the child gene sequence. This is because we do not want the engine to have access to the target value, and it doesn’t care whether we are timing the run or not, so those are not passed to the function.\n",
    "\n",
    "We now have a reusable library that we can play with."
   ]
  },
  {
   "cell_type": "code",
   "execution_count": null,
   "metadata": {},
   "outputs": [],
   "source": [
    "def test_Hello_World():\n",
    "    #target = \"Hello World!\"\n",
    "    target = \"For I am fearless and made of chocolate.\"\n",
    "    guess_password(target)\n",
    "\n",
    "\n",
    "def guess_password(target):\n",
    "    geneset = \" abcdefghijklmnopqrstuvwxyzABCDEFGHIJKLMNOPQRSTUVWXYZ!.\"\n",
    "    startTime = datetime.datetime.now()\n",
    "\n",
    "    def fnGetFitness(genes):\n",
    "        return get_fitness(genes, target)\n",
    "\n",
    "    def fnDisplay(genes):\n",
    "        display(genes, target, startTime)\n",
    "\n",
    "    optimalFitness = len(target)\n",
    "    get_best(fnGetFitness, len(target), optimalFitness, geneset, fnDisplay)"
   ]
  },
  {
   "cell_type": "code",
   "execution_count": null,
   "metadata": {},
   "outputs": [],
   "source": [
    "def get_fitness(genes, target):\n",
    "    return sum(1 for expected, actual in zip(target, genes)\n",
    "               if expected == actual)"
   ]
  },
  {
   "cell_type": "code",
   "execution_count": null,
   "metadata": {},
   "outputs": [],
   "source": [
    "def display(genes, target, startTime):\n",
    "    timeDiff = datetime.datetime.now() - startTime\n",
    "    fitness = get_fitness(genes, target)\n",
    "    print(\"{0}\\t{1}\\t{2}\".format(genes, fitness, str(timeDiff)))"
   ]
  },
  {
   "cell_type": "code",
   "execution_count": 34,
   "metadata": {},
   "outputs": [
    {
     "name": "stdout",
     "output_type": "stream",
     "text": [
      "sWNHQPa!qfrjzBwIuSykYxhvFd lpJ.ZneomtDMK\t4\t0:00:00\n",
      "sWN QPa!qfrjzBwIuSykYxhvFd lpJ.ZneomtDMK\t5\t0:00:00.000983\n",
      "FWN QPa!qfrjzBwIuSykYxhvFd lpJ.ZneomtDMK\t6\t0:00:00.001967\n",
      "FWN QPa!qfrjzBwIuSakYxhvFd lpJ.ZneomtDMK\t7\t0:00:00.001967\n",
      "FWN QPa!qfrjzBwIuSakYxhvFd lfJ.ZneomtDMK\t8\t0:00:00.002964\n",
      "FWN QPa!qfrjzBwIu akYxhvFd lfJ.ZneomtDMK\t9\t0:00:00.003961\n",
      "FWN QPa!qfrjzBwIu akYxhvFd lfJ.ZneomtDM.\t10\t0:00:00.004958\n",
      "FWN QPa!qfrjzBwIu akY hvFd lfJ.ZneomtDM.\t11\t0:00:00.005956\n",
      "FWN QPa!qfrjzBwIu akY hvdd lfJ.ZneomtDM.\t12\t0:00:00.006953\n",
      "FWN QPa!qfrjzBwIu akY hvdd lfJcZneomtDM.\t13\t0:00:00.006953\n",
      "FWN QPa!qfrjzBwIu akY hadd lfJcZneomtDM.\t14\t0:00:00.006953\n",
      "FWN QPamqfrjzBwIu akY hadd lfJcZneomtDM.\t15\t0:00:00.007965\n",
      "FoN QPamqfrjzBwIu akY hadd lfJcZneomtDM.\t16\t0:00:00.009965\n",
      "FoN QPamqfrjzBwIu akY hadd lfJcZncomtDM.\t17\t0:00:00.012939\n",
      "FoN QPamqfrjzBwIu akd hadd lfJcZncomtDM.\t18\t0:00:00.014962\n",
      "FoN QPamqfrjzBwIu akd hadd lfJchncomtDM.\t19\t0:00:00.019936\n",
      "FoN QPamqfrjzBwIu akd hadd lfJchncoltDM.\t20\t0:00:00.020916\n",
      "FoN QPamqfrjzlwIu akd hadd lfJchncoltDM.\t21\t0:00:00.021943\n",
      "FoN QPamqfrjzlwIu and hadd lfJchncoltDM.\t22\t0:00:00.022940\n",
      "FoN Q amqfrjzlwIu and hadd lfJchncoltDM.\t23\t0:00:00.022940\n",
      "FoN Q amqfrjzlwIu and hadd lfJchncolaDM.\t24\t0:00:00.030890\n",
      "FoN Q amqfejzlwIu and hadd lfJchncolaDM.\t25\t0:00:00.031922\n",
      "FoN Q amqfejzlwIu and hade lfJchncolaDM.\t26\t0:00:00.032921\n",
      "FoN Q amqfejzlwIu and made lfJchncolaDM.\t27\t0:00:00.033913\n",
      "FoN Q amqfejzlwIu and made lf chncolaDM.\t28\t0:00:00.047846\n",
      "FoN Q amqfejzlwsu and made lf chncolaDM.\t29\t0:00:00.053829\n",
      "FoN Q amqfejzlwsu and made lf chocolaDM.\t30\t0:00:00.058825\n",
      "FoN Q amqfejzlwsu and made lf chocolatM.\t31\t0:00:00.061807\n",
      "FoN Q amqfejzlesu and made lf chocolatM.\t32\t0:00:00.065829\n",
      "FoN Q amqfejzless and made lf chocolatM.\t33\t0:00:00.071812\n",
      "FoN Q amqfejrless and made lf chocolatM.\t34\t0:00:00.073774\n",
      "For Q amqfejrless and made lf chocolatM.\t35\t0:00:00.083748\n",
      "For I amqfejrless and made lf chocolatM.\t36\t0:00:00.083748\n",
      "For I am fejrless and made lf chocolatM.\t37\t0:00:00.095716\n",
      "For I am fejrless and made lf chocolate.\t38\t0:00:00.114701\n",
      "For I am fearless and made lf chocolate.\t39\t0:00:00.133650\n",
      "For I am fearless and made of chocolate.\t40\t0:00:00.148588\n"
     ]
    }
   ],
   "source": [
    "test_Hello_World()"
   ]
  },
  {
   "cell_type": "markdown",
   "metadata": {},
   "source": [
    "# Homework (next week)\n",
    "\n",
    "Use `GuessPasswordTests` as a model to build a genetic algorithm that ***sorts lists of integers***, and compare its performance to that of **bubble sort** and **merge sort**, which we learned about in this lecture. \n",
    "\n",
    "Run this function on a random list of 10 integers. You will need to define your own fitness function, but I think that one that counts all *already sorted* elements in the list sounds pretty good!\n",
    "\n",
    "You may work in **teams of two** for this homework. Not more than teams of two. When you submit your work, each student needs to submit and indicate who they worked with. If we find similar results amongst teams, all these teams will get an `F` for their homework.\n",
    "\n",
    "## Homework for bonus points (advanced)\n",
    "\n",
    "Draw the fern you create with `plant_growth(6, output=\"X\", show=False)` using turtle graphics"
   ]
  },
  {
   "cell_type": "code",
   "execution_count": null,
   "metadata": {},
   "outputs": [],
   "source": []
  }
 ],
 "metadata": {
  "kernelspec": {
   "display_name": "Python 3",
   "language": "python",
   "name": "python3"
  },
  "language_info": {
   "codemirror_mode": {
    "name": "ipython",
    "version": 3
   },
   "file_extension": ".py",
   "mimetype": "text/x-python",
   "name": "python",
   "nbconvert_exporter": "python",
   "pygments_lexer": "ipython3",
   "version": "3.7.3"
  }
 },
 "nbformat": 4,
 "nbformat_minor": 2
}
