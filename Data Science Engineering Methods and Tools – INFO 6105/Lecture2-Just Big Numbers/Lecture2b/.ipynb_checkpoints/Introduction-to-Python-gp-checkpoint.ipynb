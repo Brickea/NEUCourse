{
 "cells": [
  {
   "cell_type": "markdown",
   "metadata": {},
   "source": [
    "<div style=\"text-align: right\">INFO 6105 Data Science Eng Methods and Tools, Lecture 2 Day 2</div>\n",
    "<div style=\"text-align: right\">Dino Konstantopoulos, 11 September 2019</div>\n",
    "\n",
    "# Labs in Python: ***Genetic Algorithms*** as application to Iteration/Recursion\n",
    "\n",
    "## Guess my number\n",
    "\n",
    "A simple game for two people where one picks a secret number between 1 and 10 and the other has to guess that number.\n",
    "\n",
    "Is it 2?  No\n",
    "\n",
    "Is it 3?  No\n",
    "\n",
    "Is it 7?  No\n",
    "\n",
    "Is it 1?  Yes\n",
    "\n",
    "That works reasonably well for 1..10 but quickly becomes frustrating or boring as we increase the range to 1..100 or 1..1000. Right? Because we have no way to improve our guesses. There’s no ***challenge***. The guess is either right or wrong, so it quickly becomes a mechanical process."
   ]
  },
  {
   "cell_type": "markdown",
   "metadata": {},
   "source": [
    "## More interesting\n",
    "\n",
    "So, to make it more interesting, instead of *no* let’s say **higher** or **lower**.\n",
    "\n",
    "1?  Higher\n",
    "\n",
    "7?  Lower\n",
    "\n",
    "6?  Lower\n",
    "\n",
    "5?  Lower\n",
    "\n",
    "4?  Correct"
   ]
  },
  {
   "cell_type": "markdown",
   "metadata": {},
   "source": [
    "That might be reasonably interesting for a while, for 1..10 maybe, but soon you’ll increase the range to 1..100. Because people are competitive, the next challenge will be to see who is a better guesser by trying to find the number in the *fewest* guesses. At this point the person who evolves the most efficient guessing strategy wins!"
   ]
  },
  {
   "cell_type": "markdown",
   "metadata": {},
   "source": [
    "## Genetic algorithms\n",
    "\n",
    "* A genetic algorithm does not know what *lower* means. It has no *intelligence*. It does not learn. It will make the same mistake every time. It will only be as good at solving a problem as the person who wrote the code. \n",
    "\n",
    "And yet, it can be used to find solutions to problems that humans would struggle to solve or could not solve at all. How is that possible?\n",
    "\n",
    "When playing a card game, inexperienced players build a mental map using the **cards in their hand** and those **on the table**. \n",
    "\n",
    "More experienced players also take advantage of their knowledge of the problem space, the **entire set of cards in the deck**. \n",
    "\n",
    "This means they may also keep track of cards that have ***not yet been played***, and may know they can win the rest of the rounds without having to play them out. \n",
    "\n",
    "Highly experienced card players also know the ***probabilities of various winning combinations***. They've written out the probability functions well learn in class!\n",
    "\n",
    "Professionals, who earn their living playing the game, also pay attention to the way their competitors play.\n",
    "\n",
    "Genetic algorithms use ***random exploration of the problem space*** combined with *evolutionary processes* like **mutation** and **mating** or **crossover** (exchange of genetic information) to improve guesses. But also, because they have no experience in the problem domain, they try things a human would never think to try. Thus, a person using a genetic algorithm may learn more about the problem space and potential solutions. This gives them the ability to make improvements to the algorithm."
   ]
  },
  {
   "cell_type": "markdown",
   "metadata": {},
   "source": [
    "## Guess the Password\n",
    "\n",
    "Now let’s see how this all applies to guessing a password. We’ll start by randomly generating an initial sequence of letters and then mutate/change one random letter at a time until the sequence of letters becomes \"Hello World!\". \n",
    "\n",
    "Conceptually:"
   ]
  },
  {
   "cell_type": "markdown",
   "metadata": {},
   "source": [
    "```python\n",
    "_letters = [a..zA..Z !]\n",
    "target = \"Hello World!\"\n",
    "guess = get 12 random letters from _letters\n",
    "while guess != target:\n",
    "   index = get random value from [0..length of target]\n",
    "   guess[index] = get 1 random value from _letters\n",
    "```\n",
    "If you try this in any programming language you’ll find that it performs worse than playing the number guessing game with only **yes** and **no** answers because it cannot tell when one guess is better than another.\n",
    "\n",
    "So, let’s help it make an informed guess by telling it ***how many of the letters*** from the guess are in the correct locations! For example \"World!Hello?\" would get 2 because only the 4th letter of each word is correct. The 2 indicates how close the answer is to correct. This is called the **fitness value**. \n",
    "\n",
    "\"hello world?\" would get a fitness value of 9 because 9 letters are correct. Only the `h`, `w`, and question mark are wrong."
   ]
  },
  {
   "cell_type": "markdown",
   "metadata": {},
   "source": [
    "## Genes\n",
    "\n",
    "We start off with a generic set of letters for genes and a target password:"
   ]
  },
  {
   "cell_type": "code",
   "execution_count": 1,
   "metadata": {},
   "outputs": [],
   "source": [
    "geneSet = \" abcdefghijklmnopqrstuvwxyzABCDEFGHIJKLMNOPQRSTUVWXYZ!.\"\n",
    "target = \"Hello World!\""
   ]
  },
  {
   "cell_type": "markdown",
   "metadata": {},
   "source": [
    "## Generate a guess\n",
    "\n",
    "Next we need a way to generate a random string of letters from the gene set."
   ]
  },
  {
   "cell_type": "code",
   "execution_count": 2,
   "metadata": {},
   "outputs": [],
   "source": [
    "import random\n",
    "\n",
    "def generate_parent(length):\n",
    "    genes = []\n",
    "    ..."
   ]
  },
  {
   "cell_type": "markdown",
   "metadata": {},
   "source": [
    "Hint: use `random.sample`, which takes sampleSize values from the input **without replacement**. \n",
    "\n",
    "This means there will be no duplicates in the generated parent unless geneSet contains duplicates, or length is greater than `len(geneSet)`. The implementation above allows us to generate a long string with a small set of genes while using as many unique genes as possible."
   ]
  },
  {
   "cell_type": "markdown",
   "metadata": {},
   "source": [
    "## Fitness\n",
    "\n",
    "The fitness value the genetic algorithm provides is the only feedback the engine gets to guide it toward a solution. In this problem our fitness value is the total number of letters in the guess that match the letter in the same position of the password."
   ]
  },
  {
   "cell_type": "code",
   "execution_count": 26,
   "metadata": {},
   "outputs": [],
   "source": [
    "def get_fitness(guess):\n",
    "    return ..."
   ]
  },
  {
   "cell_type": "markdown",
   "metadata": {},
   "source": [
    "## Mutate\n",
    "\n",
    "We also need a way to produce a new guess by **mutating** the current one. Implement `mutate()` below to convert the parent string to an array with list(parent) then replace 1 letter in the array with a randomly selected one from geneSet (using `random.sample`), and then recombine the result into a string with `''.join(genes)`."
   ]
  },
  {
   "cell_type": "code",
   "execution_count": 27,
   "metadata": {},
   "outputs": [],
   "source": [
    "def mutate(parent):\n",
    "    index = random.randrange(0, len(parent))\n",
    "    childGenes = list(parent)\n",
    "    ...\n",
    "    return ''.join(childGenes)"
   ]
  },
  {
   "cell_type": "markdown",
   "metadata": {},
   "source": [
    "This implementation should use an alternate replacement if the randomly selected newGene is the same as the one it is supposed to replace, which can save a significant amount of overhead."
   ]
  },
  {
   "cell_type": "markdown",
   "metadata": {},
   "source": [
    "## Display\n",
    "\n",
    "Next, it is important to monitor what is happening, so that we can stop the engine if it gets stuck. It also allows us to learn what works and what does not so we can improve the algorithm. This is also called **debugging** ;-)\n",
    "\n",
    "We’ll display a visual representation of the gene sequence, which may not be the literal gene sequence, its fitness value and how much time has elapsed."
   ]
  },
  {
   "cell_type": "code",
   "execution_count": 28,
   "metadata": {},
   "outputs": [],
   "source": [
    "import datetime\n",
    "\n",
    "def display(guess):\n",
    "    timeDiff = datetime.datetime.now() - startTime\n",
    "    fitness = get_fitness(guess)\n",
    "    print(\"{0}\\t{1}\\t{2}\".format(guess, fitness, str(timeDiff)))"
   ]
  },
  {
   "cell_type": "markdown",
   "metadata": {},
   "source": [
    "## Main\n",
    "\n",
    "Now we’re ready to write the main program. We start by initializing `bestParent` to a random sequence of letters."
   ]
  },
  {
   "cell_type": "code",
   "execution_count": 29,
   "metadata": {},
   "outputs": [
    {
     "name": "stdout",
     "output_type": "stream",
     "text": [
      "NKksCQPvyUqeOgzDoHYh!WruSjM\t0\t0:00:00.000108\n"
     ]
    }
   ],
   "source": [
    "random.seed()\n",
    "startTime = datetime.datetime.now()\n",
    "bestParent = generate_parent(len(target))\n",
    "bestFitness = get_fitness(bestParent)\n",
    "display(bestParent)"
   ]
  },
  {
   "cell_type": "markdown",
   "metadata": {},
   "source": [
    "Then we add the heart of the genetic engine. It is a **loop** that generates a guess, requests the fitness for that guess, then compares it to that of the previous best guess, and keeps the better of the two. This cycle repeats until all the letters match those in the target."
   ]
  },
  {
   "cell_type": "code",
   "execution_count": 30,
   "metadata": {},
   "outputs": [
    {
     "name": "stdout",
     "output_type": "stream",
     "text": [
      "NKksCQavyUqeOgzDoHYh!WruSjM\t1\t0:00:03.956606\n",
      "NKksCQavyUqeOgzD HYh!WruSjM\t2\t0:00:03.957669\n",
      "NKksCQavyUqeOgzD HYo!WruSjM\t3\t0:00:03.957669\n",
      "NKksCQavyUqeOgzD HYo!WluSjM\t4\t0:00:03.957669\n",
      "NKksIQavyUqeOgzD HYo!WluSjM\t5\t0:00:03.958588\n",
      "NKksIQavyUqeOgzD HYo!WluSeM\t6\t0:00:03.962743\n",
      "NKksI avyUqeOgzD HYo!WluSeM\t7\t0:00:03.964552\n",
      "NKksI avyUqeO zD HYo!WluSeM\t8\t0:00:03.965550\n",
      "NoksI avyUqeO zD HYo!WluSeM\t9\t0:00:03.965550\n",
      "NoksI avyUqeO zD HYo!oluSeM\t10\t0:00:03.966547\n",
      "NorsI avyUqeO zD HYo!oluSeM\t11\t0:00:03.967545\n",
      "NorsI avyUqdO zD HYo!oluSeM\t12\t0:00:03.967545\n",
      "NorsI avymqdO zD HYo!oluSeM\t13\t0:00:03.971549\n",
      "NorsI avymqdO oD HYo!oluSeM\t14\t0:00:03.971549\n",
      "NorsI amymqdO oD HYo!oluSeM\t15\t0:00:03.972531\n",
      "Nor I amymqdO oD HYo!oluSeM\t16\t0:00:03.972531\n",
      "Nor I amymqdO oD HYo!oluSe!\t17\t0:00:03.974795\n",
      "Nor I amymqdO of HYo!oluSe!\t18\t0:00:03.976521\n",
      "Nor I amymqdO of cYo!oluSe!\t19\t0:00:03.977520\n",
      "Nor I amymqde of cYo!oluSe!\t20\t0:00:03.980797\n",
      "Nor I amymqde of cho!oluSe!\t21\t0:00:03.981508\n",
      "Nor I amymqde of chocoluSe!\t22\t0:00:03.981508\n",
      "Nor I amymqde of chocolute!\t23\t0:00:03.986625\n",
      "Nor I amymade of chocolute!\t24\t0:00:03.986625\n",
      "Nor I am made of chocolute!\t25\t0:00:04.001487\n",
      "Nor I am made of chocolate!\t26\t0:00:04.015420\n",
      "For I am made of chocolate!\t27\t0:00:04.016415\n"
     ]
    }
   ],
   "source": [
    "while True:\n",
    "    child = mutate(bestParent)\n",
    "    childFitness = get_fitness(child)\n",
    "\n",
    "    if bestFitness >= childFitness:\n",
    "        ...\n",
    "    display(child)\n",
    "    if childFitness >= len(bestParent):\n",
    "        ...\n",
    "    bestFitness = childFitness\n",
    "    bestParent = child"
   ]
  },
  {
   "cell_type": "markdown",
   "metadata": {},
   "source": [
    "## Extract a reusable engine\n",
    "\n",
    "Now that we have a working solution to this problem we will extract the genetic engine code from that specific to the password problem so we can reuse it to solve other problems.\n",
    "\n",
    "We’ll rename the `mutate` and `generate_parent` functions to `_mutate` and `_generate_parent`. This is how ***protected*** functions are named in Python. They will not be visible to users of the genetic library if they live in a python file."
   ]
  },
  {
   "cell_type": "markdown",
   "metadata": {},
   "source": [
    "### Generate and Mutate\n",
    "\n",
    "Since we want to be able to customize the gene set used in future problems we need to pass it as a parameter to `_generate_parent`"
   ]
  },
  {
   "cell_type": "code",
   "execution_count": 14,
   "metadata": {},
   "outputs": [],
   "source": [
    "import random\n",
    "\n",
    "def _generate_parent(length, geneSet):\n",
    "    genes = []\n",
    "    ..."
   ]
  },
  {
   "cell_type": "code",
   "execution_count": 15,
   "metadata": {},
   "outputs": [],
   "source": [
    "def _mutate(parent, geneSet):\n",
    "    index = random.randrange(0, len(parent))\n",
    "    childGenes = list(parent)\n",
    "    ..."
   ]
  },
  {
   "cell_type": "markdown",
   "metadata": {},
   "source": [
    "### get_best\n",
    "\n",
    "Next we’ll move the main loop into a new function named `get_best` in our genetic library. \n",
    "\n",
    "Its parameters will include the functions it should use to request the fitness for a guess and to display (or report) each new best guess as it is found, the number of genes to use when creating a new sequence, the optimal fitness, and the set of genes to use for creating and mutating gene sequences."
   ]
  },
  {
   "cell_type": "code",
   "execution_count": 10,
   "metadata": {},
   "outputs": [],
   "source": [
    "def get_best(get_fitness, targetLen, optimalFitness, geneSet, display):\n",
    "    random.seed()\n",
    "    bestParent = _generate_parent(targetLen, geneSet)\n",
    "    bestFitness = get_fitness(bestParent)\n",
    "    display(bestParent)\n",
    "    if bestFitness >= optimalFitness:\n",
    "        return bestParent\n",
    "\n",
    "    while True:\n",
    "        child = _mutate(bestParent, geneSet)\n",
    "        childFitness = get_fitness(child)\n",
    "\n",
    "        if bestFitness >= childFitness:\n",
    "            ...\n",
    "        display(child)\n",
    "        if childFitness >= optimalFitness:\n",
    "            ...\n",
    "        bestFitness = childFitness\n",
    "        bestParent = child"
   ]
  },
  {
   "cell_type": "markdown",
   "metadata": {},
   "source": [
    "Notice that we call` display` and `get_fitness` with only one parameter - the child gene sequence. This is because we do not want the engine to have access to the target value, and it doesn’t care whether we are timing the run or not, so those are not passed to the function.\n",
    "\n",
    "We now have a reusable library that we can play with."
   ]
  },
  {
   "cell_type": "code",
   "execution_count": 17,
   "metadata": {},
   "outputs": [],
   "source": [
    "def test_Hello_World():\n",
    "    #target = \"Hello World!\"\n",
    "    target = \"For I am fearless and made of chocolate.\"\n",
    "    guess_password(target)\n",
    "\n",
    "\n",
    "def guess_password(target):\n",
    "    geneset = \" abcdefghijklmnopqrstuvwxyzABCDEFGHIJKLMNOPQRSTUVWXYZ!.\"\n",
    "    startTime = datetime.datetime.now()\n",
    "\n",
    "    def fnGetFitness(genes):\n",
    "        return get_fitness(genes, target)\n",
    "\n",
    "    def fnDisplay(genes):\n",
    "        display(genes, target, startTime)\n",
    "\n",
    "    optimalFitness = len(target)\n",
    "    get_best(fnGetFitness, len(target), optimalFitness, geneset, fnDisplay)"
   ]
  },
  {
   "cell_type": "code",
   "execution_count": 18,
   "metadata": {},
   "outputs": [],
   "source": [
    "def get_fitness(genes, target):\n",
    "    return ..."
   ]
  },
  {
   "cell_type": "code",
   "execution_count": 19,
   "metadata": {},
   "outputs": [],
   "source": [
    "def display(genes, target, startTime):\n",
    "    timeDiff = datetime.datetime.now() - startTime\n",
    "    fitness = get_fitness(genes, target)\n",
    "    print(\"{0}\\t{1}\\t{2}\".format(genes, fitness, str(timeDiff)))"
   ]
  },
  {
   "cell_type": "code",
   "execution_count": 20,
   "metadata": {},
   "outputs": [
    {
     "name": "stdout",
     "output_type": "stream",
     "text": [
      "vHUzNeVQZSaW.EtpojmJAhikOuIyMKGw nbBfdqP\t0\t0:00:00\n",
      "vHUzNeVQZSaW.ltpojmJAhikOuIyMKGw nbBfdqP\t1\t0:00:00\n",
      "vHUzNeVQZSaW.ltpojmnAhikOuIyMKGw nbBfdqP\t2\t0:00:00.000998\n",
      "vHUzNeVQZSaW.ltpojmnAhikOuIyMKGw nbBfdq.\t3\t0:00:00.000998\n",
      "vHUzNeVQZSaW.ltpojmnAhikOuIoMKGw nbBfdq.\t4\t0:00:00.000998\n",
      "vHUzNeVQZSaW.ltpojmnAhikOuIoMKGw cbBfdq.\t5\t0:00:00.001996\n",
      "vHUzNeVQZSaW.ltpojmnAhikOuIoMKGh cbBfdq.\t6\t0:00:00.001996\n",
      "vHUzN VQZSaW.ltpojmnAhikOuIoMKGh cbBfdq.\t7\t0:00:00.001996\n",
      "vHUzN VQZSaW.ltpojmnAhikOuIoM Gh cbBfdq.\t8\t0:00:00.002993\n",
      "vHUzI VQZSaW.ltpojmnAhikOuIoM Gh cbBfdq.\t9\t0:00:00.002993\n",
      "vHU I VQZSaW.ltpojmnAhikOuIoM Gh cbBfdq.\t10\t0:00:00.003990\n",
      "vHU I VQZSaW.ltpojmnA ikOuIoM Gh cbBfdq.\t11\t0:00:00.003990\n",
      "vHU I VQZSaW.ltpsjmnA ikOuIoM Gh cbBfdq.\t12\t0:00:00.004987\n",
      "vHU I VQZSaW.ltpsjmnA ikOuIoM Gh cbBadq.\t13\t0:00:00.006982\n",
      "vHU I VQZSaW.ltpsjmnd ikOuIoM Gh cbBadq.\t14\t0:00:00.007979\n",
      "vHU I VQZSaW.ltpsjmnd ikOuIoM ch cbBadq.\t15\t0:00:00.009974\n",
      "vHU I VQZfaW.ltpsjmnd ikOuIoM ch cbBadq.\t16\t0:00:00.009974\n",
      "vHU I VQZfaW.ltpsjmnd ikOuIoM ch cbBade.\t17\t0:00:00.009974\n",
      "vHU I VQZfaW.ltpsjmnd ikOeIoM ch cbBade.\t18\t0:00:00.011969\n",
      "vHU I VQZfeW.ltpsjmnd ikOeIoM ch cbBade.\t19\t0:00:00.013964\n",
      "vHU I VQZfea.ltpsjmnd ikOeIoM ch cbBade.\t20\t0:00:00.013964\n",
      "vHU I VQZfea.ltpsjmnd ikOeIoM ch coBade.\t21\t0:00:00.016954\n",
      "vHU I VQZfea.lepsjmnd ikOeIoM ch coBade.\t22\t0:00:00.018949\n",
      "vHU I VQZfea.lepsjmnd ikdeIoM ch coBade.\t23\t0:00:00.019946\n",
      "vHU I VQZfea.lepsjmnd ikdeIoM ch coBate.\t24\t0:00:00.020944\n",
      "vHr I VQZfea.lepsjmnd ikdeIoM ch coBate.\t25\t0:00:00.023935\n",
      "vHr I VQZfea.lepsjmnd mkdeIoM ch coBate.\t26\t0:00:00.023935\n",
      "vHr I VQZfea.lepsjmnd mkde oM ch coBate.\t27\t0:00:00.026927\n",
      "vHr I VQZfea.leps mnd mkde oM ch coBate.\t28\t0:00:00.027924\n",
      "vHr I VQZfearleps mnd mkde oM ch coBate.\t29\t0:00:00.028935\n",
      "vHr I VQZfearleps mnd mkde of ch coBate.\t30\t0:00:00.028935\n",
      "vHr I VQZfearleps mnd mkde of chocoBate.\t31\t0:00:00.030949\n",
      "vHr I VQ fearleps mnd mkde of chocoBate.\t32\t0:00:00.035903\n",
      "vor I VQ fearleps mnd mkde of chocoBate.\t33\t0:00:00.037897\n",
      "vor I VQ fearleps and mkde of chocoBate.\t34\t0:00:00.038895\n",
      "vor I VQ fearleps and made of chocoBate.\t35\t0:00:00.055879\n",
      "vor I Vm fearleps and made of chocoBate.\t36\t0:00:00.082806\n",
      "For I Vm fearleps and made of chocoBate.\t37\t0:00:00.090757\n",
      "For I Vm fearless and made of chocoBate.\t38\t0:00:00.096740\n",
      "For I am fearless and made of chocoBate.\t39\t0:00:00.195476\n",
      "For I am fearless and made of chocolate.\t40\t0:00:00.234406\n"
     ]
    }
   ],
   "source": [
    "test_Hello_World()"
   ]
  },
  {
   "cell_type": "markdown",
   "metadata": {},
   "source": [
    "# Homework (next week)\n",
    "\n",
    "Use `GuessPasswordTests` as a model to build a genetic algorithm that ***sorts lists of integers***, and compare its performance to that of **bubble sort** and **merge sort**, which we learned about in this lecture. \n",
    "\n",
    "Run this function on a random list of 10 integers. You will need to define your own fitness function, but I think that one that counts all *already sorted* elements in the list sounds pretty good!\n",
    "\n",
    "You may work in **teams of two** for this homework. Not more than teams of two. When you submit your work, each student needs to submit and indicate who they worked with. If we find similar results amongst teams, all these teams will get an `F` for their homework.\n",
    "\n",
    "## Homework for bonus points (advanced)\n",
    "\n",
    "Draw the fern you create with `plant_growth(6, output=\"X\", show=False)` using turtle graphics"
   ]
  }
 ],
 "metadata": {
  "kernelspec": {
   "display_name": "Python 3",
   "language": "python",
   "name": "python3"
  },
  "language_info": {
   "codemirror_mode": {
    "name": "ipython",
    "version": 3
   },
   "file_extension": ".py",
   "mimetype": "text/x-python",
   "name": "python",
   "nbconvert_exporter": "python",
   "pygments_lexer": "ipython3",
   "version": "3.7.3"
  }
 },
 "nbformat": 4,
 "nbformat_minor": 2
}
