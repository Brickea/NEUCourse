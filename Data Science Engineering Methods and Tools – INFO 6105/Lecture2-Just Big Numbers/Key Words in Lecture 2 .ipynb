{
 "cells": [
  {
   "cell_type": "markdown",
   "metadata": {},
   "source": [
    "<div style=\"text-align: right\">INFO 6105 Data Science Eng Methods and Tools, key words for week 2 \"Just big number\"</div>\n",
    "<div style=\"text-align: right\">Zixiao Wang , 28 October 2019, with material from Dino Konstantopoulos</div>\n",
    "\n",
    "# Key words for Week 2 \"Just Big Number\""
   ]
  },
  {
   "cell_type": "markdown",
   "metadata": {},
   "source": [
    "## Mathematical concept"
   ]
  },
  {
   "cell_type": "markdown",
   "metadata": {},
   "source": [
    "### 1. Sierpinski Triangle (谢尔宾斯基三角形)\n",
    "\n",
    "The [Sierpinski triangle](https://en.wikipedia.org/wiki/Sierpinski_triangle) is a fractal described in 1915 by Waclaw Sierpinski. It is a **self-similar** structure that occurs at different levels of iterations, or magnifications. \n",
    "\n",
    "There are some ways to build a Sierpinski Triangle\n",
    "\n",
    "#### Removing triangles\n",
    "\n",
    "![](https://upload.wikimedia.org/wikipedia/commons/thumb/0/05/Sierpinski_triangle_evolution.svg/1024px-Sierpinski_triangle_evolution.svg.png)\n",
    "\n",
    "1. Start with any triangle in a plane (any closed, bounded region in the plane will actually work). The canonical Sierpinski triangle uses an equilateral triangle with a base parallel to the horizontal axis (first image).\n",
    "2. Shrink the triangle to 1/2 height and 1/2 width, make three copies, and position the three shrunken triangles so that each triangle touches the two other triangles at a corner (image 2). Note the emergence of the central hole—because the three shrunken triangles can between them cover only 3/4 of the area of the original. (Holes are an important feature of Sierpinski's triangle.)\n",
    "3. Repeat step 2 with each of the smaller triangles (image 3 and so on).\n",
    "\n",
    "\n",
    "1. 取一个实心的三角形。（多数使用等边三角形）\n",
    "2. 沿三边中点的连线，将它分成四个小三角形。\n",
    "3. 去掉中间的那一个小三角形。\n",
    "4. 对其余三个小三角形重复1。\n",
    "\n",
    "#### Chaos game\n",
    "\n",
    "![](https://upload.wikimedia.org/wikipedia/commons/b/b8/Tri%C3%A2ngulo_de_Sierpinski.gif)\n",
    "\n",
    "1. Take three points in a plane to form a triangle, you need not draw it.\n",
    "2. Randomly select any point inside the triangle and consider that your current position.\n",
    "3. Randomly select any one of the three vertex points.\n",
    "4. Move half the distance from your current position to the selected vertex.\n",
    "5. Plot the current position.\n",
    "6. Repeat from step 3.\n",
    "\n",
    "#### Recursion Implement in Python \n",
    "\n",
    "1. Draw triangles between ```[0,0-1/2,0-2/2],[1,1-0/2,1-2/2],[2,2-0/2,2-1/2]```\n",
    "2. Repeat step 1"
   ]
  },
  {
   "cell_type": "markdown",
   "metadata": {},
   "source": [
    "### 2. Sorting Algorithms\n",
    "\n",
    "Here are two famous **sorting algorithms** in computer science. A [bubble sort](https://en.wikipedia.org/wiki/Bubble_sort), a simple sorting algorithm that repeatedly steps through the list, compares adjacent pairs and swaps them if they are in the wrong order, with the pass repeated through the list until the list is sorted, is most often implemented iteratively. \n",
    "\n",
    "![](https://upload.wikimedia.org/wikipedia/commons/c/c8/Bubble-sort-example-300px.gif)\n",
    "\n",
    "A [merge sort](https://en.wikipedia.org/wiki/Merge_sort), a divide and conquer algorithm that was invented by John von Neumann in 1945, which divides the unsorted list into n sublists, each containing one element (a list of one element is considered sorted), then repeatedly merges sublists to produce new sorted sublists until there is only one sublist remaining, the sorted list, is implemented recursively.\n",
    "\n",
    "![](https://upload.wikimedia.org/wikipedia/commons/c/cc/Merge-sort-example-300px.gif)"
   ]
  },
  {
   "cell_type": "markdown",
   "metadata": {},
   "source": [
    "### 3. Genetic Algorithms\n",
    "\n",
    "Genetic algorithms use ***random exploration of the problem space*** combined with *evolutionary processes* like **mutation** and **mating** or **crossover** (exchange of genetic information) to improve guesses. But also, because they have no experience in the problem domain, they try things a human would never think to try. Thus, a person using a genetic algorithm may learn more about the problem space and potential solutions. This gives them the ability to make improvements to the algorithm.\n",
    "\n",
    "Generally Speaking\n",
    "\n",
    "1. Generate parents' gene\n",
    "2. Get the fitness\n",
    "3. Mutation, mating, crossover\n",
    "4. Get children's gene\n",
    "5. Back to step 2\n",
    "\n",
    "[implement](../Lecture3-Probability/ga-polynomial-fit.ipynb)"
   ]
  },
  {
   "cell_type": "markdown",
   "metadata": {},
   "source": [
    "## The Implements"
   ]
  },
  {
   "cell_type": "markdown",
   "metadata": {},
   "source": [
    "### 1. Sierpinski Recursion Implement in Python"
   ]
  },
  {
   "cell_type": "code",
   "execution_count": 2,
   "metadata": {},
   "outputs": [],
   "source": [
    "from turtle import Turtle"
   ]
  },
  {
   "cell_type": "code",
   "execution_count": 6,
   "metadata": {},
   "outputs": [],
   "source": [
    "def draw_triangle(points, color, my_turtle):\n",
    "    my_turtle.penup()\n",
    "    my_turtle.goto(points[0][0],points[0][1])\n",
    "    my_turtle.pendown()\n",
    "    my_turtle.stroke = color\n",
    "    #my_turtle.fill_color = Color(128, 0, 128)\n",
    "    my_turtle.goto(points[1][0], points[1][1])\n",
    "    my_turtle.goto(points[2][0], points[2][1])\n",
    "    my_turtle.goto(points[0][0], points[0][1])\n",
    "def get_mid(p1, p2):\n",
    "    return ((p1[0] + p2[0]) / 2, (p1[1] + p2[1]) / 2)"
   ]
  },
  {
   "cell_type": "code",
   "execution_count": 7,
   "metadata": {},
   "outputs": [],
   "source": [
    "def sierpinski(points, degree, my_turtle):\n",
    "    #color = Color(*color_map[degree][1])\n",
    "    color = my_turtle.color(\"red\")\n",
    "    draw_triangle(points, color, my_turtle)\n",
    "    \n",
    "    #clear_output(wait=True)\n",
    "    #display(canvas)\n",
    "    #time.sleep(0.5)\n",
    "    \n",
    "    #canvas.fill(color)\n",
    "    if degree > 0:\n",
    "       sierpinski(\n",
    "                  [points[0], get_mid(points[0], points[1]), get_mid(points[0], points[2])],\n",
    "                  degree-1, my_turtle)\n",
    "       sierpinski(\n",
    "                  [points[1], get_mid(points[0], points[1]), get_mid(points[1], points[2])],\n",
    "                  degree-1, my_turtle)\n",
    "       sierpinski(\n",
    "                  [points[2], get_mid(points[2], points[1]), get_mid(points[0], points[2])],\n",
    "                  degree-1, my_turtle)"
   ]
  },
  {
   "cell_type": "code",
   "execution_count": 1,
   "metadata": {},
   "outputs": [
    {
     "ename": "NameError",
     "evalue": "name 'Turtle' is not defined",
     "output_type": "error",
     "traceback": [
      "\u001b[1;31m---------------------------------------------------------------------------\u001b[0m",
      "\u001b[1;31mNameError\u001b[0m                                 Traceback (most recent call last)",
      "\u001b[1;32m<ipython-input-1-840a53d611e9>\u001b[0m in \u001b[0;36m<module>\u001b[1;34m\u001b[0m\n\u001b[0;32m      1\u001b[0m \u001b[1;31m#canvas = Canvas(size=(800, 800))\u001b[0m\u001b[1;33m\u001b[0m\u001b[1;33m\u001b[0m\u001b[1;33m\u001b[0m\u001b[0m\n\u001b[0;32m      2\u001b[0m \u001b[1;31m#my_turtle = Turtle(canvas, (399, 399))\u001b[0m\u001b[1;33m\u001b[0m\u001b[1;33m\u001b[0m\u001b[1;33m\u001b[0m\u001b[0m\n\u001b[1;32m----> 3\u001b[1;33m \u001b[0mmy_turtle\u001b[0m \u001b[1;33m=\u001b[0m \u001b[0mTurtle\u001b[0m\u001b[1;33m(\u001b[0m\u001b[1;33m)\u001b[0m\u001b[1;33m\u001b[0m\u001b[1;33m\u001b[0m\u001b[0m\n\u001b[0m\u001b[0;32m      4\u001b[0m \u001b[0mmy_turtle\u001b[0m\u001b[1;33m.\u001b[0m\u001b[0mextras\u001b[0m \u001b[1;33m=\u001b[0m \u001b[1;33m{\u001b[0m\u001b[1;33m}\u001b[0m\u001b[1;33m\u001b[0m\u001b[1;33m\u001b[0m\u001b[0m\n\u001b[0;32m      5\u001b[0m \u001b[1;31m#my_points = [(40, 10), (10, 50), (70, 50)]\u001b[0m\u001b[1;33m\u001b[0m\u001b[1;33m\u001b[0m\u001b[1;33m\u001b[0m\u001b[0m\n",
      "\u001b[1;31mNameError\u001b[0m: name 'Turtle' is not defined"
     ]
    }
   ],
   "source": [
    "#canvas = Canvas(size=(800, 800))\n",
    "#my_turtle = Turtle(canvas, (399, 399))\n",
    "my_turtle = Turtle()\n",
    "my_turtle.extras = {}\n",
    "#my_points = [(40, 10), (10, 50), (70, 50)]\n",
    "my_points = [(160, 40), (40, 200), (280, 200)]\n",
    "\n",
    "color_map = [(\"blue\", (0, 51, 153)),\n",
    "             ('red', (153, 51, 51)), \n",
    "             ('green', (0, 153, 51)),\n",
    "             ('white', (255, 255, 255)),\n",
    "             ('yellow', (230, 230, 0)),\n",
    "             ('violet', (172, 0, 230)),\n",
    "             ('orange', (230, 172, 0))]\n",
    "#color = Color(*color_map[degree][1])\n",
    "color = my_turtle.color(\"red\")\n",
    "\n",
    "#draw_triangle(my_points, color, my_turtle)\n",
    "sierpinski(my_points, 5, my_turtle)"
   ]
  },
  {
   "cell_type": "markdown",
   "metadata": {},
   "source": [
    "### 2. Buble Sort Algorithm and Merge Sort Algorithm\n"
   ]
  },
  {
   "cell_type": "code",
   "execution_count": 3,
   "metadata": {},
   "outputs": [],
   "source": [
    "def bubble_sort(alist):\n",
    "    for passnum in range(len(alist)-1, 0, -1):\n",
    "        for i in range(passnum):\n",
    "            if alist[i] > alist[i+1]:\n",
    "                temp = alist[i]\n",
    "                alist[i] = alist[i+1]\n",
    "                alist[i+1] = temp"
   ]
  },
  {
   "cell_type": "code",
   "execution_count": 5,
   "metadata": {},
   "outputs": [],
   "source": [
    "def merge_sort(alist):\n",
    "    #print(\"Splitting \", alist)\n",
    "    \n",
    "    if len(alist) > 1:\n",
    "        mid = len(alist)//2\n",
    "        lefthalf = alist[:mid]\n",
    "        righthalf = alist[mid:]\n",
    "        \n",
    "        merge_sort(lefthalf)\n",
    "        merge_sort(righthalf)\n",
    "        \n",
    "        i = 0\n",
    "        j = 0\n",
    "        k = 0\n",
    "        \n",
    "        while i < len(lefthalf) and j < len(righthalf):\n",
    "            if lefthalf[i] < righthalf[j]:\n",
    "                alist[k] = lefthalf[i]\n",
    "                i += 1\n",
    "            else:\n",
    "                alist[k] = righthalf[j]\n",
    "                j += 1\n",
    "                \n",
    "            k += 1\n",
    "                \n",
    "        while i < len(lefthalf):\n",
    "            alist[k] = lefthalf[i]\n",
    "            i += 1\n",
    "            k += 1\n",
    "            \n",
    "        while j < len(righthalf):\n",
    "            alist[k] = righthalf[j]\n",
    "            j += 1\n",
    "            k += 1"
   ]
  },
  {
   "cell_type": "code",
   "execution_count": 4,
   "metadata": {},
   "outputs": [],
   "source": [
    "from random import choices\n",
    "nums = choices(range(1_000_000), k=8000)"
   ]
  },
  {
   "cell_type": "code",
   "execution_count": 7,
   "metadata": {},
   "outputs": [
    {
     "name": "stdout",
     "output_type": "stream",
     "text": [
      "Wall time: 2.61 s\n"
     ]
    }
   ],
   "source": [
    "%%time\n",
    "bubble_sort(nums)"
   ]
  },
  {
   "cell_type": "code",
   "execution_count": 6,
   "metadata": {},
   "outputs": [
    {
     "name": "stdout",
     "output_type": "stream",
     "text": [
      "Wall time: 36.5 ms\n"
     ]
    }
   ],
   "source": [
    "%%time\n",
    "merge_sort(nums)"
   ]
  },
  {
   "cell_type": "markdown",
   "metadata": {},
   "source": [
    "### 3. Genetic Algorithms\n",
    "\n",
    "[The string guessing algorithm](./Lecture2b/Labs%20in%20Python%20Genetic%20Algorithms%20as%20application%20to%20Iteration%20OR%20Recursion.ipynb)\n",
    "\n",
    "[The sorting algorithm](./assignment2/assignment2.ipynb)"
   ]
  },
  {
   "cell_type": "markdown",
   "metadata": {},
   "source": [
    "#### 3.1 Related function - random"
   ]
  },
  {
   "cell_type": "code",
   "execution_count": 10,
   "metadata": {},
   "outputs": [],
   "source": [
    "import random"
   ]
  },
  {
   "cell_type": "code",
   "execution_count": 12,
   "metadata": {},
   "outputs": [],
   "source": [
    "geneSet = \"123456789\""
   ]
  },
  {
   "cell_type": "markdown",
   "metadata": {},
   "source": [
    "Select gene randomly and the results will not be duplicated"
   ]
  },
  {
   "cell_type": "code",
   "execution_count": 24,
   "metadata": {},
   "outputs": [
    {
     "data": {
      "text/plain": [
       "['8', '6', '5', '1']"
      ]
     },
     "execution_count": 24,
     "metadata": {},
     "output_type": "execute_result"
    }
   ],
   "source": [
    "random.sample(geneSet,4)"
   ]
  },
  {
   "cell_type": "code",
   "execution_count": 25,
   "metadata": {
    "scrolled": true
   },
   "outputs": [
    {
     "ename": "ValueError",
     "evalue": "Sample larger than population or is negative",
     "output_type": "error",
     "traceback": [
      "\u001b[1;31m---------------------------------------------------------------------------\u001b[0m",
      "\u001b[1;31mValueError\u001b[0m                                Traceback (most recent call last)",
      "\u001b[1;32m<ipython-input-25-e742836b9640>\u001b[0m in \u001b[0;36m<module>\u001b[1;34m\u001b[0m\n\u001b[1;32m----> 1\u001b[1;33m \u001b[0mrandom\u001b[0m\u001b[1;33m.\u001b[0m\u001b[0msample\u001b[0m\u001b[1;33m(\u001b[0m\u001b[0mgeneSet\u001b[0m\u001b[1;33m,\u001b[0m\u001b[1;36m10\u001b[0m\u001b[1;33m)\u001b[0m\u001b[1;33m\u001b[0m\u001b[1;33m\u001b[0m\u001b[0m\n\u001b[0m",
      "\u001b[1;32mD:\\Anaconda3\\lib\\random.py\u001b[0m in \u001b[0;36msample\u001b[1;34m(self, population, k)\u001b[0m\n\u001b[0;32m    319\u001b[0m         \u001b[0mn\u001b[0m \u001b[1;33m=\u001b[0m \u001b[0mlen\u001b[0m\u001b[1;33m(\u001b[0m\u001b[0mpopulation\u001b[0m\u001b[1;33m)\u001b[0m\u001b[1;33m\u001b[0m\u001b[1;33m\u001b[0m\u001b[0m\n\u001b[0;32m    320\u001b[0m         \u001b[1;32mif\u001b[0m \u001b[1;32mnot\u001b[0m \u001b[1;36m0\u001b[0m \u001b[1;33m<=\u001b[0m \u001b[0mk\u001b[0m \u001b[1;33m<=\u001b[0m \u001b[0mn\u001b[0m\u001b[1;33m:\u001b[0m\u001b[1;33m\u001b[0m\u001b[1;33m\u001b[0m\u001b[0m\n\u001b[1;32m--> 321\u001b[1;33m             \u001b[1;32mraise\u001b[0m \u001b[0mValueError\u001b[0m\u001b[1;33m(\u001b[0m\u001b[1;34m\"Sample larger than population or is negative\"\u001b[0m\u001b[1;33m)\u001b[0m\u001b[1;33m\u001b[0m\u001b[1;33m\u001b[0m\u001b[0m\n\u001b[0m\u001b[0;32m    322\u001b[0m         \u001b[0mresult\u001b[0m \u001b[1;33m=\u001b[0m \u001b[1;33m[\u001b[0m\u001b[1;32mNone\u001b[0m\u001b[1;33m]\u001b[0m \u001b[1;33m*\u001b[0m \u001b[0mk\u001b[0m\u001b[1;33m\u001b[0m\u001b[1;33m\u001b[0m\u001b[0m\n\u001b[0;32m    323\u001b[0m         \u001b[0msetsize\u001b[0m \u001b[1;33m=\u001b[0m \u001b[1;36m21\u001b[0m        \u001b[1;31m# size of a small set minus size of an empty list\u001b[0m\u001b[1;33m\u001b[0m\u001b[1;33m\u001b[0m\u001b[0m\n",
      "\u001b[1;31mValueError\u001b[0m: Sample larger than population or is negative"
     ]
    }
   ],
   "source": [
    "random.sample(geneSet,10)"
   ]
  },
  {
   "cell_type": "markdown",
   "metadata": {},
   "source": [
    "Select values randomly from a range"
   ]
  },
  {
   "cell_type": "code",
   "execution_count": 35,
   "metadata": {},
   "outputs": [
    {
     "data": {
      "text/plain": [
       "0"
      ]
     },
     "execution_count": 35,
     "metadata": {},
     "output_type": "execute_result"
    }
   ],
   "source": [
    "random.randrange(0, 10)"
   ]
  },
  {
   "cell_type": "markdown",
   "metadata": {},
   "source": [
    "#### 3.2 Related function - zip\n",
    "\n",
    "String in python can be used as list in zip"
   ]
  },
  {
   "cell_type": "code",
   "execution_count": 30,
   "metadata": {},
   "outputs": [
    {
     "name": "stdout",
     "output_type": "stream",
     "text": [
      "1 3\n",
      "2 4\n",
      "3 5\n",
      "4 6\n"
     ]
    }
   ],
   "source": [
    "test = \"1234\"\n",
    "test2 = [3,4,5,6]\n",
    "for expected, actual in zip(test,test2):\n",
    "    print(expected, actual)"
   ]
  },
  {
   "cell_type": "markdown",
   "metadata": {},
   "source": [
    "#### 3.3 Related function - time"
   ]
  },
  {
   "cell_type": "markdown",
   "metadata": {},
   "source": [
    "```%%time``` can show the time cost in one cell"
   ]
  },
  {
   "cell_type": "code",
   "execution_count": 40,
   "metadata": {},
   "outputs": [
    {
     "name": "stdout",
     "output_type": "stream",
     "text": [
      "Wall time: 0 ns\n"
     ]
    }
   ],
   "source": [
    "%%time\n",
    "a = 1"
   ]
  },
  {
   "cell_type": "markdown",
   "metadata": {},
   "source": [
    "We can also use ```datetime``` library"
   ]
  },
  {
   "cell_type": "code",
   "execution_count": 60,
   "metadata": {},
   "outputs": [],
   "source": [
    "import datetime\n",
    "startTime = datetime.datetime.now()"
   ]
  },
  {
   "cell_type": "code",
   "execution_count": 61,
   "metadata": {},
   "outputs": [],
   "source": [
    "timeDiff = datetime.datetime.now() - startTime"
   ]
  },
  {
   "cell_type": "code",
   "execution_count": 62,
   "metadata": {},
   "outputs": [
    {
     "data": {
      "text/plain": [
       "'0:00:00.222318'"
      ]
     },
     "execution_count": 62,
     "metadata": {},
     "output_type": "execute_result"
    }
   ],
   "source": [
    "str(timeDiff)"
   ]
  }
 ],
 "metadata": {
  "kernelspec": {
   "display_name": "Python 3",
   "language": "python",
   "name": "python3"
  },
  "language_info": {
   "codemirror_mode": {
    "name": "ipython",
    "version": 3
   },
   "file_extension": ".py",
   "mimetype": "text/x-python",
   "name": "python",
   "nbconvert_exporter": "python",
   "pygments_lexer": "ipython3",
   "version": "3.7.4"
  }
 },
 "nbformat": 4,
 "nbformat_minor": 4
}
