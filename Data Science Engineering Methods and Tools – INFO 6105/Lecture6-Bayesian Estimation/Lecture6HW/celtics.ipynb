{
 "cells": [
  {
   "cell_type": "markdown",
   "metadata": {
    "button": false,
    "new_sheet": false,
    "run_control": {
     "read_only": false
    }
   },
   "source": [
    "<div style=\"text-align: right\">INFO 6105 Data Sci Engineering Methods and Tools, Week 6 Lecture 2</div>\n",
    "<div style=\"text-align: right\">Dino Konstantopoulos, 10 October 2019</div>\n",
    "\n",
    "# Warm-up \n",
    "What do the following sentences have in common?\n",
    "\n",
    "- Was it a rat I saw?\n",
    "- Do geese see God?\n",
    "- Never odd or even!\n",
    "- King are you glad you are king?\n",
    "\n",
    "We study the... \n",
    "\n",
    "# Celtics\n",
    "\n",
    "<br />\n",
    "<center>\n",
    "    <img src=\"ipynb.images/celtics.gif\" width=200 />\n",
    "</center>"
   ]
  },
  {
   "cell_type": "code",
   "execution_count": 31,
   "metadata": {},
   "outputs": [],
   "source": [
    "import numpy as np\n",
    "import pandas as pd\n",
    "import matplotlib.pyplot as plt\n",
    "from matplotlib.ticker import StrMethodFormatter\n",
    "import seaborn as sns\n",
    "from scipy import stats\n",
    "%matplotlib inline"
   ]
  },
  {
   "cell_type": "markdown",
   "metadata": {},
   "source": [
    "# Big Data? Big Deal..\n",
    "\n",
    "Remember [this](https://www.mathsisfun.com/data/quincunx.html) experiment?\n",
    "\n",
    "The **Central Limit Theorem** states that if you have a collection of random variables and sum them up, then the *larger* the collection, the *closer* the sum will be to a *normal distribution* (also called a *Gaussian distribution* or a *bell-shaped curve*). This illustrates why Data Science with **Big Data** is not really a challenge at all (other than how to store and compute with data that is larger than the RAM on your laptop)! If you have tons of data, then frequentist and Bayesian statistics ***coincide***, there is little doubt about outcomes, and it is clear which outcome to place your bets on.\n",
    "\n",
    "The challenge is with **small data**, where there is doubt and you have no idea of the pdf, and you have to painstakingly  build a model with parameters, and refine your parameters so the model fits the data. When my Bayesan algorithms don;t converge (as you;ve witnessed in class), it's usually because the dataset was too small.\n",
    "\n",
    "Why do accidents happen in autonomous vehicles when it snows, at dusk, when the moon is behind a traffic light, and a pedestrian is crossing the street on a red light? Precisely because we don't have a lot fo datapoints about that use case, and the autonomous car has **no idea what to do**! Uber needs *you* to program it for the small data cases. Big Data is piece of cake!\n",
    "\n",
    "A **histogram** is a probability density function (pdf) that we get from data collection or from analytic curves. If we have the 2D function `f(x,y)`, we can estimate the discretized probability density function (pdf) of `f` by computing how many values of `f` fall into specific bins with prespecified values of y.\n",
    "\n",
    "Clear?\n",
    "\n",
    "- Exercise: Plot the pdf of the following graph:\n",
    "<br />\n",
    "<center>\n",
    "    <img src=\"images/graph.png\" width=200 />\n",
    "</center>"
   ]
  },
  {
   "cell_type": "code",
   "execution_count": null,
   "metadata": {},
   "outputs": [],
   "source": []
  },
  {
   "cell_type": "markdown",
   "metadata": {},
   "source": [
    "# 2017 season\n",
    "\n",
    "Llet's take 5 random variables reprsenting the per-game scores of the 5 Celtics starters for the season 2017 (Jayson Tatum or JT, Jaylen Brown or JB, Terry Rozier or TR, Al Horford or AL, and Aron Baynes or AB), and then sum them together to form the team score. \n",
    "\n",
    "The scores here are imaginary and we use functions `gauss`, `triangular`, `vonmisesvariate`, and `uniform`. \n",
    "\n",
    "For the real season scores of  any season, visit [here](http://www.nba.com/celtics/stats?sort=PTS). \n",
    "\n",
    "Each random variable/player is represented as a probability distribution function; calling the function returns a single sample from the distribution:"
   ]
  },
  {
   "cell_type": "code",
   "execution_count": 32,
   "metadata": {},
   "outputs": [],
   "source": [
    "from random import gauss, triangular, choice, vonmisesvariate, uniform\n",
    "\n",
    "def JT(): return posint(gauss(15.1, 3) + 3 * triangular(1, 4, 13)) # 30.1\n",
    "def JB(): return posint(gauss(10.2, 3) + 3 * triangular(1, 3.5, 9)) # 22.1\n",
    "def TR(): return posint(vonmisesvariate(30, 2) * 3.08) # 14.0\n",
    "def AH(): return posint(gauss(6.7, 1.5) if choice((True, False)) else gauss(16.7, 2.5)) # 11.7\n",
    "def AB(): return posint(triangular(5, 17, 25) + uniform(0, 30) + gauss(6, 3)) # 37.0\n",
    "\n",
    "def posint(x): \"Positive integer\"; return max(0, int(round(x)))"
   ]
  },
  {
   "cell_type": "markdown",
   "metadata": {},
   "source": [
    "---\n",
    "\n",
    "## Note\n",
    "\n",
    "random.vonmisesvariate(mu, kappa)\n",
    "冯·米塞斯分布（von Mises distribution）指一种圆上连续概率分布模型，它也被称作循环正态分布（circular normal distribution）\n",
    "\n",
    "---"
   ]
  },
  {
   "cell_type": "markdown",
   "metadata": {},
   "source": [
    "Here is a function to sample a random variable *k* times, show a histogram of the results, and return the mean:"
   ]
  },
  {
   "cell_type": "code",
   "execution_count": 33,
   "metadata": {},
   "outputs": [],
   "source": [
    "from statistics import mean\n",
    "\n",
    "def repeated_hist(rv, bins=10, k=100000):\n",
    "    \"Repeat rv() k times and make a histogram of the results.\"\n",
    "    samples = [rv() for _ in range(k)]\n",
    "    plt.hist(samples, bins=bins, color='green')\n",
    "    return mean(samples)"
   ]
  },
  {
   "cell_type": "markdown",
   "metadata": {},
   "source": [
    "The two top-scoring players for 2017, Jayson Tatum (JT) and Jaylen Brown (JB), have scoring distributions that are slightly skewed from normal:"
   ]
  },
  {
   "cell_type": "code",
   "execution_count": 34,
   "metadata": {},
   "outputs": [
    {
     "data": {
      "text/plain": [
       "30.10729"
      ]
     },
     "execution_count": 34,
     "metadata": {},
     "output_type": "execute_result"
    },
    {
     "data": {
      "image/png": "[encoded data removed]",
      "text/plain": [
       "<Figure size 432x288 with 1 Axes>"
      ]
     },
     "metadata": {
      "needs_background": "light"
     },
     "output_type": "display_data"
    }
   ],
   "source": [
    "repeated_hist(JT, bins=range(60))"
   ]
  },
  {
   "cell_type": "code",
   "execution_count": 35,
   "metadata": {},
   "outputs": [
    {
     "data": {
      "text/plain": [
       "22.14962"
      ]
     },
     "execution_count": 35,
     "metadata": {},
     "output_type": "execute_result"
    },
    {
     "data": {
      "image/png": "[encoded data removed]",
      "text/plain": [
       "<Figure size 432x288 with 1 Axes>"
      ]
     },
     "metadata": {
      "needs_background": "light"
     },
     "output_type": "display_data"
    }
   ],
   "source": [
    "repeated_hist(JB, bins=range(60))"
   ]
  },
  {
   "cell_type": "markdown",
   "metadata": {},
   "source": [
    "The next two players have **bi-modal** distributions; some games they score a lot, some games not. In other words, they have good days and bad days. For AH, *really bad days*."
   ]
  },
  {
   "cell_type": "code",
   "execution_count": 36,
   "metadata": {},
   "outputs": [
    {
     "data": {
      "text/plain": [
       "14.03373"
      ]
     },
     "execution_count": 36,
     "metadata": {},
     "output_type": "execute_result"
    },
    {
     "data": {
      "image/png": "[encoded data removed]",
      "text/plain": [
       "<Figure size 432x288 with 1 Axes>"
      ]
     },
     "metadata": {
      "needs_background": "light"
     },
     "output_type": "display_data"
    }
   ],
   "source": [
    "repeated_hist(TR, bins=range(60))"
   ]
  },
  {
   "cell_type": "code",
   "execution_count": 37,
   "metadata": {},
   "outputs": [
    {
     "data": {
      "text/plain": [
       "11.67929"
      ]
     },
     "execution_count": 37,
     "metadata": {},
     "output_type": "execute_result"
    },
    {
     "data": {
      "image/png": "[encoded data removed]",
      "text/plain": [
       "<Figure size 432x288 with 1 Axes>"
      ]
     },
     "metadata": {
      "needs_background": "light"
     },
     "output_type": "display_data"
    }
   ],
   "source": [
    "repeated_hist(AH, bins=range(60))"
   ]
  },
  {
   "cell_type": "markdown",
   "metadata": {},
   "source": [
    "The fifth \"player\" (actually the sum of all the other players on the team, not really Aron Baymes, or they would have easily defeated the Cavaliers in 2017!) looks like this:"
   ]
  },
  {
   "cell_type": "code",
   "execution_count": 38,
   "metadata": {},
   "outputs": [
    {
     "data": {
      "text/plain": [
       "36.30473"
      ]
     },
     "execution_count": 38,
     "metadata": {},
     "output_type": "execute_result"
    },
    {
     "data": {
      "image/png": "[encoded data removed]",
      "text/plain": [
       "<Figure size 432x288 with 1 Axes>"
      ]
     },
     "metadata": {
      "needs_background": "light"
     },
     "output_type": "display_data"
    }
   ],
   "source": [
    "repeated_hist(AB, bins=range(60))"
   ]
  },
  {
   "cell_type": "markdown",
   "metadata": {},
   "source": [
    "Go ahead, add more players to the Celtics, each with their own scoring distribution. Modify and use the below template:\n",
    "```python\n",
    "def XX(): return posint(gauss(15.1, 3) + 3 * triangular(1, 4, 13)) # 30.1\n",
    "```\n",
    "\n",
    "Add then in the cell below:"
   ]
  },
  {
   "cell_type": "code",
   "execution_count": null,
   "metadata": {},
   "outputs": [],
   "source": []
  },
  {
   "cell_type": "markdown",
   "metadata": {},
   "source": [
    "Now, we define the team score to be the sum of the five players, and look at the distribution!\n",
    "\n",
    "Don't forge to add your own players!"
   ]
  },
  {
   "cell_type": "code",
   "execution_count": 39,
   "metadata": {},
   "outputs": [
    {
     "data": {
      "text/plain": [
       "114.24416"
      ]
     },
     "execution_count": 39,
     "metadata": {},
     "output_type": "execute_result"
    },
    {
     "data": {
      "image/png": "[encoded data removed]",
      "text/plain": [
       "<Figure size 432x288 with 1 Axes>"
      ]
     },
     "metadata": {
      "needs_background": "light"
     },
     "output_type": "display_data"
    }
   ],
   "source": [
    "def GSW(): return JT() + JB() + TR() + AH() + AB()  # + ... add your own players!\n",
    "\n",
    "repeated_hist(GSW, bins=range(70, 160, 2))"
   ]
  },
  {
   "cell_type": "markdown",
   "metadata": {},
   "source": [
    "### Holy cow! \n",
    "\n",
    "<br />\n",
    "<center>\n",
    "    <img src=\"images/holy-cow.jpg\" width=300 />\n",
    "</center>\n",
    "\n",
    "This looks very much like a **normal distribution**! The Central Limit Theorem ***holds***, and that is why the statistics of NBA teams are so *predictable*. \n",
    "\n",
    "When you have a lot of data, you have little doubt, and the Data Science is *easy*. \n",
    "\n",
    "Bayesian statistics help you tackle the hard cases, *where there is doubt*."
   ]
  },
  {
   "cell_type": "markdown",
   "metadata": {},
   "source": [
    "# A frequentist model\n",
    "\n",
    "In a Basketball game, you have 4 quarters of 12 minutes each. Given the information on the first quarter, can you predict the final result? \n",
    "\n",
    "For instance, suppose the Celtics made $x$ baskets in the first quarter. Then, the probability of making a basket in a given second is: $p = x / 720$ (720 seconds in a quarter). This is completely alike our F1 data experiment.\n",
    "\n",
    "In a complete game you have 2880 seconds, therfore, the final score follows a **binomial distribution** with parameters $p$ and $n = 2880$: The discrete probability distribution of the number of baskets in a sequence of n independent shooting attempts, each asking a made/missed question, and each with its own boolean-valued outcome: success (with probability p) or missed (with probability q = 1 − p).\n",
    "\n",
    "The probability of getting exactly k baskets in n attempts is given by the **probability mass function**:\n",
    "\n",
    "$$f(k,n,p) = (^n_k)\\;p^k (1 - p)^{n-k}$$\n",
    "\n",
    "where \n",
    "\n",
    "$$(^n_k) = \\frac{n!}{k!\\;(n-k)!}$$\n",
    "\n",
    "Suppose the Celtics score 26 points in the first quarter. What's the probability for the final score?\n",
    "\n",
    "Let's generate 1,000 variates, and look at the histogram!"
   ]
  },
  {
   "cell_type": "code",
   "execution_count": 40,
   "metadata": {},
   "outputs": [
    {
     "data": {
      "text/plain": [
       "[Text(0, 0.5, 'Frequency'), Text(0.5, 0, 'Binomial Distribution')]"
      ]
     },
     "execution_count": 40,
     "metadata": {},
     "output_type": "execute_result"
    },
    {
     "data": {
      "image/png": "[encoded data removed]",
      "text/plain": [
       "<Figure size 432x288 with 1 Axes>"
      ]
     },
     "metadata": {
      "needs_background": "light"
     },
     "output_type": "display_data"
    }
   ],
   "source": [
    "from scipy.stats import binom\n",
    "data_binom = binom.rvs(n=2880,p=22./720.,size=1000)\n",
    "\n",
    "ax = sns.distplot(data_binom,\n",
    "                  kde=False,\n",
    "                  color='skyblue',\n",
    "                  hist_kws={\"linewidth\": 15,'alpha':1})\n",
    "ax.set(xlabel='Binomial Distribution', ylabel='Frequency')"
   ]
  },
  {
   "cell_type": "markdown",
   "metadata": {},
   "source": [
    "So the best probability is that they score around 89 points (the mean), with a standard deviation of +/- 10 points."
   ]
  },
  {
   "cell_type": "markdown",
   "metadata": {},
   "source": [
    "# Celtics vs Cavaliers, Game 1\n",
    "\n",
    "In the first quarter of Game 1 of the playoffs, the result was 29 for the Cavs to 26 for the Celts, from 40 shooting attempts by the Cavs, and 30 shooting attempts by the Celtics. Using this data, what's the predicted outcome for the game?\n",
    "\n",
    "- Note: p is a **point-estimate** here\n",
    "\n",
    "Let's **simulate** by producing **random variates** from the binomial distribution. Let's do this 1,000 times, and look at the histogram."
   ]
  },
  {
   "cell_type": "code",
   "execution_count": 41,
   "metadata": {},
   "outputs": [
    {
     "data": {
      "text/plain": [
       "[Text(0, 0.5, 'Frequency'), Text(0.5, 0, 'Game 1')]"
      ]
     },
     "execution_count": 41,
     "metadata": {},
     "output_type": "execute_result"
    },
    {
     "data": {
      "image/png": "[encoded data removed]",
      "text/plain": [
       "<Figure size 432x288 with 1 Axes>"
      ]
     },
     "metadata": {
      "needs_background": "light"
     },
     "output_type": "display_data"
    }
   ],
   "source": [
    "celtics = binom.rvs(n=2880,p=26./720.,size=1000)\n",
    "cavaliers = binom.rvs(n=2880,p=29./720.,size=1000)\n",
    "\n",
    "ax = sns.distplot(celtics,\n",
    "                  kde=False,\n",
    "                  color='green',\n",
    "                  hist_kws={\"linewidth\": 15,'alpha':0.5})\n",
    "ax = sns.distplot(cavaliers,\n",
    "                  kde=False,\n",
    "                  color='maroon',\n",
    "                  hist_kws={\"linewidth\": 15,'alpha':0.5})\n",
    "ax.set(xlabel='Game 1', ylabel='Frequency')"
   ]
  },
  {
   "cell_type": "markdown",
   "metadata": {},
   "source": [
    "As you can see, it's clear that the Cavs were going to win the game. What's the probability that the Cavs will win the game?\n",
    "\n",
    "Well, it's the probability that `cavaliers > celtics`, right? So let's ***count*** the number of favorable cases over the number of all possible cases in our simulation:"
   ]
  },
  {
   "cell_type": "code",
   "execution_count": 42,
   "metadata": {},
   "outputs": [
    {
     "name": "stdout",
     "output_type": "stream",
     "text": [
      "0.778237\n"
     ]
    }
   ],
   "source": [
    "total = 0\n",
    "favorable = 0\n",
    "for i in range(1000):\n",
    "    for j in range(1000):\n",
    "        total += 1\n",
    "        if (cavaliers[i] > celtics[j]):\n",
    "            favorable += 1\n",
    "            \n",
    "print(favorable/total)"
   ]
  },
  {
   "cell_type": "markdown",
   "metadata": {},
   "source": [
    "Since you now have a **model**, you know that you can do all your statistics on your model instead of counting, as we did in the beginning of the class. That's what professor told you: ***With a model, you can throw away all your data***!\n",
    "\n",
    "That is the ***power*** of having a ***model***! That is why **Bayesian analysis** is superior to plain vanilla **Machine Learning**: computers do not yield a **model**. They only yield **point estimates** (at the end of the semester I will teach you how to make computers yield pdfs)!"
   ]
  },
  {
   "cell_type": "code",
   "execution_count": 43,
   "metadata": {},
   "outputs": [
    {
     "data": {
      "text/plain": [
       "0.781"
      ]
     },
     "execution_count": 43,
     "metadata": {},
     "output_type": "execute_result"
    }
   ],
   "source": [
    "(cavaliers > celtics).mean()"
   ]
  },
  {
   "cell_type": "markdown",
   "metadata": {},
   "source": [
    "So there is about a 78% probability that the Cavs are going to win, and thus only a 22% probability that the Celtics are going to win. And this even though the Celtics ***shoot better*** (score 26 points from 30 attempts) than the Cavaliers (shooting 29 of 40).\n",
    "\n",
    "Doesn't really sound like our model is correct, right?\n",
    "\n",
    "<br />\n",
    "<center>\n",
    "    <img src=\"ipynb.images/droopy-dog.gif\" width=100 />\n",
    "</center>"
   ]
  },
  {
   "cell_type": "markdown",
   "metadata": {},
   "source": [
    "# The beta distribution\n",
    "\n",
    "We introduce a *new* distribution to the mix to try to improve our model.\n",
    "\n",
    "Whereas the Poisson distribution is a *count* statistic, the [Beta](https://en.wikipedia.org/wiki/Beta_distribution) distribution can be thought of as representing a *distribution of probabilities*, that is, it represents ***all the possible values of a probability when we don't know what that probability is***. The domain of the Beta distribution is (0, 1), just like a probability, so we already know we're on the right track.\n",
    "\n",
    "The beta distribution has two parameters, usually denoted $\\alpha$ and $\\beta$. They are [concentration parameters](https://en.wikipedia.org/wiki/Concentration_parameter), which are a class of parameters that govern probability distributions over.. probability distributions! \n",
    "\n",
    "Concentration parameters have an interesting property: The smaller they are, the more **sparse** the distribution is. In the case of the Beta distribution, as $α,β→0$, more and more of the probability is concentrated on the probability parameter p being 0 or 1. \n",
    "\n",
    "Another interesting property of a concentration parameter is that when they all equal one, all possibilities are equally likely.\n",
    "\n",
    "But there's another property that is even ***neater***: Imagine a player's statistics have ***changed***. We have to then update our probabilities: We want to shift this entire curve over just a bit to reflect our new information (and also squish it in a bit since standard eviation is reduced). The math for proving this is [complicated](https://en.wikipedia.org/wiki/Conjugate_prior#Example), but the result is very simple: The new beta distribution will be:\n",
    "\n",
    "$$ \\text{Beta}(\\alpha_0 + \\text{baskets}, \\beta_0 + \\text{misses})$$\n",
    " \n",
    "Where $α_0$ and $β_0$ are the parameters we started with! ***Neat***, right?\n",
    "\n",
    "This result also means the **Beta** is also **self-conjugate** (the posterior is in the same analytic family as the prior), like the gaussian. Also, the Beta distribution is well-known to be conjugate prior to the binomial distribution.\n",
    "\n",
    "### Example\n",
    "\n",
    "We know from [here](https://www.basketball-reference.com/leagues/NBA_stats_per_game.html) that an NBA-level basketball player has a season-long 3-point shooting average of around .350 (same as a good baseball player's ERA. Strange strange, strange...), like we know the average **number** (count) of text msgs I can expect my girlfriend to receive per day before I get worried too much.\n",
    "\n",
    "The basketball player can get into a lucky streak and get an average of 1.000, or an unlucky streak with an average of 0, neither of which are a good predictor. Let's go in with prior expectations: In history, most NBA season 3-point averages have hovered between something like .300 and .350.\n",
    "\n",
    "Let's compare a european basketball league with the NBA.\n",
    "Let's plot a Beta distribution with parameters α=80 and β=250. The mean for a beta distribution is always (computed *analytically*):\n",
    "\n",
    "$$ \\frac{\\alpha}{\\alpha + \\beta} = \\frac{80}{80+250} =.242$$\n",
    "\n",
    "and the distribution lies within a ***sub-par range*** for an NBA 3-point shooting average. See below."
   ]
  },
  {
   "cell_type": "code",
   "execution_count": 45,
   "metadata": {},
   "outputs": [],
   "source": [
    "import pymc3 as pm"
   ]
  },
  {
   "cell_type": "code",
   "execution_count": null,
   "metadata": {},
   "outputs": [],
   "source": [
    "with pm.Model() as NBA_model:\n",
    "    "
   ]
  },
  {
   "cell_type": "code",
   "execution_count": 14,
   "metadata": {},
   "outputs": [
    {
     "name": "stderr",
     "output_type": "stream",
     "text": [
      "D:\\Anaconda3\\lib\\site-packages\\ipykernel_launcher.py:7: MatplotlibDeprecationWarning: \n",
      "The 'normed' kwarg was deprecated in Matplotlib 2.1 and will be removed in 3.1. Use 'density' instead.\n",
      "  import sys\n"
     ]
    },
    {
     "data": {
      "text/plain": [
       "(array([ 0.51303203,  1.88111743,  1.71010675,  3.76223485,  7.69548038,\n",
       "         7.69548038, 11.62872591, 12.99681131, 16.41702481, 16.93005684,\n",
       "        18.29814224, 16.58803549, 15.04893941,  9.91861916, 11.62872591,\n",
       "         6.49840566,  3.4202135 ,  2.7361708 ,  2.22313878,  1.53909608,\n",
       "         0.51303203,  0.85505338,  0.17101068,  0.17101068,  0.        ,\n",
       "         0.17101068]),\n",
       " array([0.18166812, 0.18751571, 0.1933633 , 0.19921089, 0.20505848,\n",
       "        0.21090606, 0.21675365, 0.22260124, 0.22844883, 0.23429642,\n",
       "        0.24014401, 0.24599159, 0.25183918, 0.25768677, 0.26353436,\n",
       "        0.26938195, 0.27522953, 0.28107712, 0.28692471, 0.2927723 ,\n",
       "        0.29861989, 0.30446748, 0.31031506, 0.31616265, 0.32201024,\n",
       "        0.32785783, 0.33370542]),\n",
       " <a list of 26 Patch objects>)"
      ]
     },
     "execution_count": 14,
     "metadata": {},
     "output_type": "execute_result"
    },
    {
     "data": {
      "image/png": "[encoded data removed]",
      "text/plain": [
       "<Figure size 432x288 with 1 Axes>"
      ]
     },
     "metadata": {
      "needs_background": "light"
     },
     "output_type": "display_data"
    }
   ],
   "source": [
    "import numpy as np\n",
    "from scipy import stats\n",
    "import matplotlib.pyplot as plt\n",
    "%matplotlib inline\n",
    "\n",
    "data = stats.beta.rvs(80, 250, loc = 0, scale = 1, size=1000)\n",
    "plt.hist(data,bins='auto',normed=True)"
   ]
  },
  {
   "cell_type": "markdown",
   "metadata": {},
   "source": [
    "Imagine now the basketball player gets his first attempt at a 3-pointer and swooshes the net (makes the basket). His record for the season is now 1 3-pointer; 1 attempt. \n",
    "\n",
    "We update our probabilities by shifting the entire curve over just a bit to reflect our new information. The new Beta distribution will be:\n",
    "\n",
    "$$ \\text{Beta}(\\alpha_0 + \\text{hits}, \\beta_0 + \\text{misses})$$\n",
    " \n",
    "Where $α_0$ and $β_0$ are the parameters we started with: 80 and 250. Thus, in this case, $α$ has increased by 1 (his one hit), while $β$ has not increased at all (no misses yet). \n",
    "\n",
    "Suppose halfway through a season in the Greek leagues, [Γιάννης Αντετοκούνμπο](https://www.protothema.gr/sports/article/933785/astamatitos-o-giannis-adetokounbo-stin-premiera-tou-se-filiko-ton-baks/) gets 300 3-point shot attempts, making the basket 150 out of those times. Let's plot!"
   ]
  },
  {
   "cell_type": "code",
   "execution_count": 15,
   "metadata": {},
   "outputs": [
    {
     "name": "stderr",
     "output_type": "stream",
     "text": [
      "D:\\Anaconda3\\lib\\site-packages\\ipykernel_launcher.py:4: MatplotlibDeprecationWarning: \n",
      "The 'normed' kwarg was deprecated in Matplotlib 2.1 and will be removed in 3.1. Use 'density' instead.\n",
      "  after removing the cwd from sys.path.\n"
     ]
    },
    {
     "data": {
      "text/plain": [
       "(array([ 0.55883796,  0.55883796,  0.37255864,  1.11767592,  2.23535184,\n",
       "         3.35302776,  8.56884872, 11.36303852, 13.41211104, 15.27490424,\n",
       "        20.4907252 , 21.4221218 , 15.27490424, 16.7651388 , 15.46118356,\n",
       "        12.48071444, 11.73559716,  6.70605552,  3.53930708,  2.98046912,\n",
       "         1.11767592,  0.74511728,  0.74511728]),\n",
       " array([0.30098805, 0.30635633, 0.31172462, 0.3170929 , 0.32246118,\n",
       "        0.32782946, 0.33319775, 0.33856603, 0.34393431, 0.34930259,\n",
       "        0.35467088, 0.36003916, 0.36540744, 0.37077572, 0.37614401,\n",
       "        0.38151229, 0.38688057, 0.39224885, 0.39761714, 0.40298542,\n",
       "        0.4083537 , 0.41372198, 0.41909027, 0.42445855]),\n",
       " <a list of 23 Patch objects>)"
      ]
     },
     "execution_count": 15,
     "metadata": {},
     "output_type": "execute_result"
    },
    {
     "data": {
      "image/png": "[encoded data removed]",
      "text/plain": [
       "<Figure size 432x288 with 1 Axes>"
      ]
     },
     "metadata": {
      "needs_background": "light"
     },
     "output_type": "display_data"
    }
   ],
   "source": [
    "%matplotlib inline\n",
    "\n",
    "data = stats.beta.rvs(80 + 150, 250 + 150, loc = 0, scale = 1, size=1000)\n",
    "plt.hist(data,bins='auto',normed=True)"
   ]
  },
  {
   "cell_type": "markdown",
   "metadata": {},
   "source": [
    "Giannis' 3-point average has definitely improved!\n",
    "\n",
    "Notice the curve is now both *thinner* (0.44 - 0.34 = 0.10 versus 0.34 - 0.20 = 0.14) and *shifted* to the right (higher scoring percentage) than it used to be: We have a better sense of what the player's 3-point ability is! We know his ability is ***better*** than the greek league average (because the mean is shifted to the right), and we know ***more information*** about the player (because the standard deviation is smaller). So the NBA comes calling and ***recruits*** Giannis to play in Milwaukee!\n",
    "\n",
    "The **Beta distribution** is best for representing a **probabilistic** ***distribution of probabilities***- the case where we don't know what a probability is *in advance*, but we have *reasonable guesses*."
   ]
  },
  {
   "cell_type": "markdown",
   "metadata": {},
   "source": [
    "# Bayesian Basketball\n",
    "\n",
    "The model we used so far was a **frequentist model**. We model the number of baskets given the probability of making a basket in a given minute. But, this probability is a random variable and we don’t have any model for it. Boo!\n",
    "\n",
    "The Bayesian approach will augment this by modelling the probability of making a basket in a given minute as a **random variable** $p$. This will affect the results in two ways:\n",
    "\n",
    "- We are going to extract *more* information in the inference process, i.e. the first quarter of the game\n",
    "- We will *improve the prediction* of the final result\n",
    "\n",
    "## The Model\n",
    "\n",
    "We know that $p$ is a **probability**, thus it can be anywhere between 0 and 1. Therefore, we know that $p$ is distributed as a uniform variable in (0,1) which is equivalent to a **Beta** distribution with parameters $\\alpha = 1$ and $\\beta = 1$. \n",
    "\n",
    "Also, we know that the probability $p$ of making $k$ baskets in the first quarter follows a **Binomial** distribution. \n",
    "\n",
    "Using these two facts, we want to compute the distribution of $p$ given the number of baskets in the fist quarter: the **posterior distribution**. This also happens to be a **Beta** distribution, now with updated parameters $\\alpha = 1 + k$ and $\\beta = n — k + 1$ as we saw above.\n",
    "\n",
    "In our particular case we have: $p = \\text{Beta}(26+1, 30+1)$ for the Celtics and $p = \\text{Beta}(29+1, 40+1)$ for the Cavaliers. Note that previously, we had inferred $p$ as a **point-estimate**, and now we have a **pdf**."
   ]
  },
  {
   "cell_type": "markdown",
   "metadata": {},
   "source": [
    "## The simulation\n",
    "\n",
    "For the prediction, we are going to use the Binomial distribution for the number of baskets, which is similar to the previous model. \n",
    "\n",
    "But this time we are using a **distribution** for the probability of making a basket in a given minute, ***not a pont estimate as before***! \n",
    "\n",
    "When we put both things together, the **Beta** distribution and the **Binomial** distribution, a compound distribution arises: the **Beta-binomial** distribution. \n",
    "\n",
    "With this distribution, we can compute the probability of every possible result *analytically*, and we can simulate results to get a better understanding of our model.\n",
    "\n",
    "For the Celtics and the Cavaliers, we draw a probability $p$ of making baskets from the Beta distribution. Using $p$, we draw from a Binomial(p, 2770) all possible results. Repeat N times, with N large enough!\n",
    "\n",
    "When we use the simple binomial model, the probability for the Celtics to win the match was less than 1%. With the Beta-Binomial model the probability is 12.6%!"
   ]
  },
  {
   "cell_type": "code",
   "execution_count": 79,
   "metadata": {},
   "outputs": [
    {
     "data": {
      "text/plain": [
       "<matplotlib.axes._subplots.AxesSubplot at 0x2a34c580c88>"
      ]
     },
     "execution_count": 79,
     "metadata": {},
     "output_type": "execute_result"
    },
    {
     "data": {
      "image/png": "[encoded data removed]",
      "text/plain": [
       "<Figure size 432x288 with 1 Axes>"
      ]
     },
     "metadata": {
      "needs_background": "light"
     },
     "output_type": "display_data"
    }
   ],
   "source": [
    "pCeltics = pd.Series(stats.beta(26, 30).rvs(n))\n",
    "celts = pCeltics.apply(lambda p: stats.binom(k, p).rvs())\n",
    "celts.name = 'Celtics'\n",
    "celts.hist(bins=20)"
   ]
  },
  {
   "cell_type": "code",
   "execution_count": 63,
   "metadata": {},
   "outputs": [
    {
     "data": {
      "text/plain": [
       "<matplotlib.axes._subplots.AxesSubplot at 0x2a34be9e898>"
      ]
     },
     "execution_count": 63,
     "metadata": {},
     "output_type": "execute_result"
    },
    {
     "data": {
      "image/png": "[encoded data removed]",
      "text/plain": [
       "<Figure size 432x288 with 1 Axes>"
      ]
     },
     "metadata": {
      "needs_background": "light"
     },
     "output_type": "display_data"
    }
   ],
   "source": [
    "n = 1000\n",
    "k = 2880\n",
    "\n",
    "pCeltics = pd.Series(stats.beta(26, 30).rvs(n))\n",
    "pCeltics.hist(bins=20)"
   ]
  },
  {
   "cell_type": "code",
   "execution_count": null,
   "metadata": {},
   "outputs": [],
   "source": [
    "pCeltics = pd.Series(stats.beta(26, 30).rvs(n))"
   ]
  },
  {
   "cell_type": "code",
   "execution_count": 82,
   "metadata": {},
   "outputs": [
    {
     "data": {
      "text/plain": [
       "<matplotlib.axes._subplots.AxesSubplot at 0x2a34c708f60>"
      ]
     },
     "execution_count": 82,
     "metadata": {},
     "output_type": "execute_result"
    },
    {
     "data": {
      "image/png": "[encoded data removed]",
      "text/plain": [
       "<Figure size 432x288 with 1 Axes>"
      ]
     },
     "metadata": {
      "needs_background": "light"
     },
     "output_type": "display_data"
    }
   ],
   "source": [
    "pd.Series(stats.binom(1000,0.5).rvs(10000)).hist(bins=20)"
   ]
  },
  {
   "cell_type": "code",
   "execution_count": null,
   "metadata": {},
   "outputs": [],
   "source": []
  },
  {
   "cell_type": "code",
   "execution_count": 55,
   "metadata": {},
   "outputs": [
    {
     "data": {
      "text/plain": [
       "<matplotlib.axes._subplots.AxesSubplot at 0x2a34aaaceb8>"
      ]
     },
     "execution_count": 55,
     "metadata": {},
     "output_type": "execute_result"
    },
    {
     "data": {
      "image/png": "[encoded data removed]",
      "text/plain": [
       "<Figure size 432x288 with 1 Axes>"
      ]
     },
     "metadata": {
      "needs_background": "light"
     },
     "output_type": "display_data"
    }
   ],
   "source": [
    "celts = pCeltics.apply(lambda p: stats.binom(k, p).rvs())\n",
    "celts.name = 'Celtics'\n",
    "celts.hist(bins=20)"
   ]
  },
  {
   "cell_type": "code",
   "execution_count": 50,
   "metadata": {},
   "outputs": [
    {
     "data": {
      "text/plain": [
       "<matplotlib.axes._subplots.AxesSubplot at 0x2a34a82e6a0>"
      ]
     },
     "execution_count": 50,
     "metadata": {},
     "output_type": "execute_result"
    },
    {
     "data": {
      "image/png": "[encoded data removed]",
      "text/plain": [
       "<Figure size 432x288 with 1 Axes>"
      ]
     },
     "metadata": {
      "needs_background": "light"
     },
     "output_type": "display_data"
    }
   ],
   "source": [
    "pCavs = pd.Series(stats.beta(29, 40).rvs(n))\n",
    "cavs = pCavs.apply(lambda p: stats.binom(k, p).rvs())\n",
    "cavs.name = 'Cavaliers'\n",
    "cavs.hist(bins=20)"
   ]
  },
  {
   "cell_type": "code",
   "execution_count": 18,
   "metadata": {},
   "outputs": [
    {
     "data": {
      "text/plain": [
       "Text(0.5, 1.0, 'Beta-Binomial')"
      ]
     },
     "execution_count": 18,
     "metadata": {},
     "output_type": "execute_result"
    },
    {
     "data": {
      "image/png": "[encoded data removed]",
      "text/plain": [
       "<Figure size 432x288 with 1 Axes>"
      ]
     },
     "metadata": {
      "needs_background": "light"
     },
     "output_type": "display_data"
    }
   ],
   "source": [
    "celts.hist(bins=20, alpha=0.5, label='Celtics')\n",
    "cavs.hist(bins=20, alpha=0.5, label='Cavaliers')\n",
    "plt.legend()\n",
    "plt.title('Beta-Binomial')"
   ]
  },
  {
   "cell_type": "markdown",
   "metadata": {},
   "source": [
    "What;s the probability the Celtics will win the game?"
   ]
  },
  {
   "cell_type": "code",
   "execution_count": 19,
   "metadata": {},
   "outputs": [
    {
     "data": {
      "text/plain": [
       "0.712"
      ]
     },
     "execution_count": 19,
     "metadata": {},
     "output_type": "execute_result"
    }
   ],
   "source": [
    "(celts > cavs).mean()"
   ]
  },
  {
   "cell_type": "markdown",
   "metadata": {},
   "source": [
    "Wow, the Celtics now have a ***better*** probability of winning the game than the Cavaliers! Compare this to our ***old*** histograms:"
   ]
  },
  {
   "cell_type": "code",
   "execution_count": 20,
   "metadata": {},
   "outputs": [],
   "source": [
    "old_celts = pd.Series(stats.binom(2880, 26./720).rvs(n))\n",
    "old_cavs = pd.Series(stats.binom(2880, 29./720).rvs(n))"
   ]
  },
  {
   "cell_type": "code",
   "execution_count": 21,
   "metadata": {},
   "outputs": [
    {
     "data": {
      "text/plain": [
       "Text(0.5, 1.0, 'Binomial')"
      ]
     },
     "execution_count": 21,
     "metadata": {},
     "output_type": "execute_result"
    },
    {
     "data": {
      "image/png": "[encoded data removed]",
      "text/plain": [
       "<Figure size 432x288 with 1 Axes>"
      ]
     },
     "metadata": {
      "needs_background": "light"
     },
     "output_type": "display_data"
    }
   ],
   "source": [
    "old_celts.hist(bins=20, alpha=0.5, label='Celtics')\n",
    "old_cavs.hist(bins=20, alpha=0.5, label='Cavaliers')\n",
    "plt.legend()\n",
    "plt.title('Binomial')"
   ]
  },
  {
   "cell_type": "code",
   "execution_count": 22,
   "metadata": {},
   "outputs": [
    {
     "data": {
      "text/plain": [
       "0.196"
      ]
     },
     "execution_count": 22,
     "metadata": {},
     "output_type": "execute_result"
    }
   ],
   "source": [
    "(old_celts > old_cavs).mean()"
   ]
  },
  {
   "cell_type": "markdown",
   "metadata": {},
   "source": [
    "Let's run a **simulation**:"
   ]
  },
  {
   "cell_type": "code",
   "execution_count": 23,
   "metadata": {},
   "outputs": [],
   "source": [
    "def bootsrap(n):\n",
    "    comparison = celts > cavs\n",
    "    results = []\n",
    "    for i in range(n):\n",
    "        index = np.random.choice(comparison.index, celts.count(), replace=True)\n",
    "        results.append(comparison.ix[index].mean())\n",
    "    return pd.Series(results)"
   ]
  },
  {
   "cell_type": "code",
   "execution_count": 24,
   "metadata": {},
   "outputs": [
    {
     "name": "stderr",
     "output_type": "stream",
     "text": [
      "D:\\Anaconda3\\lib\\site-packages\\ipykernel_launcher.py:6: FutureWarning: \n",
      ".ix is deprecated. Please use\n",
      ".loc for label based indexing or\n",
      ".iloc for positional indexing\n",
      "\n",
      "See the documentation here:\n",
      "http://pandas.pydata.org/pandas-docs/stable/user_guide/indexing.html#ix-indexer-is-deprecated\n",
      "  \n"
     ]
    }
   ],
   "source": [
    "simulation = bootsrap(1000)"
   ]
  },
  {
   "cell_type": "code",
   "execution_count": 25,
   "metadata": {},
   "outputs": [
    {
     "data": {
      "text/plain": [
       "Text(0.5, 1.0, 'Bootstrapping the proability of Celtics winning Game 1')"
      ]
     },
     "execution_count": 25,
     "metadata": {},
     "output_type": "execute_result"
    },
    {
     "data": {
      "image/png": "[encoded data removed]",
      "text/plain": [
       "<Figure size 432x288 with 1 Axes>"
      ]
     },
     "metadata": {
      "needs_background": "light"
     },
     "output_type": "display_data"
    }
   ],
   "source": [
    "simulation.hist(bins=20, alpha=0.5)\n",
    "plt.title('Bootstrapping the proability of Celtics winning Game 1')"
   ]
  },
  {
   "cell_type": "code",
   "execution_count": 26,
   "metadata": {},
   "outputs": [
    {
     "data": {
      "text/plain": [
       "count    1000.000000\n",
       "mean        0.713684\n",
       "std         0.013955\n",
       "min         0.674000\n",
       "25%         0.704000\n",
       "50%         0.714000\n",
       "75%         0.722000\n",
       "max         0.761000\n",
       "dtype: float64"
      ]
     },
     "execution_count": 26,
     "metadata": {},
     "output_type": "execute_result"
    }
   ],
   "source": [
    "simulation.describe()"
   ]
  },
  {
   "cell_type": "markdown",
   "metadata": {},
   "source": [
    "## Frequentist or Bayesian?\n",
    "\n",
    "The simple Binomial model only used the ratio of the number of baskets to seconds. For the Celtics and Cavs we have 26/720, which is the same as 260/7200 and 2600/72000. \n",
    "\n",
    "But, in the Bayesian model we say that is not the same to do a prediction using 12 minutes of data as with using 48, or 1,000 minutes of data. If we have ***more*** information, our prediction *should* be ***more accurate***!\n",
    "\n",
    "Will we get different results if we increase the sample size, from 26/720 to 260/7200 to 2600/72000? We always need to **verify** our results!\n",
    "\n",
    "We know that bayesian results will eventually converge to frequentist results when the amount of information is large enough. But did we model the numer of shooting attempts in our frequentist model at all? ***We did not***! \n",
    "\n",
    "So let's test to see if our result is *independent* of the size of the data sample. "
   ]
  },
  {
   "cell_type": "code",
   "execution_count": 27,
   "metadata": {},
   "outputs": [],
   "source": [
    "def betaBinomial(alpha, beta, n, k):\n",
    "    p = pd.Series(stats.beta(alpha, beta).rvs(n))\n",
    "    return p.apply(lambda p: stats.binom(k, p).rvs())"
   ]
  },
  {
   "cell_type": "code",
   "execution_count": 28,
   "metadata": {},
   "outputs": [],
   "source": [
    "def resultsForXTimesBigger(x=1):\n",
    "    n = 100\n",
    "    celts = betaBinomial(26*x +1, 30*x +1, n, k)\n",
    "    cavs = betaBinomial(29*x +1, 40*x +1, n, k)\n",
    "    return (celts > cavs).mean()"
   ]
  },
  {
   "cell_type": "code",
   "execution_count": 29,
   "metadata": {},
   "outputs": [],
   "source": [
    "space = np.logspace(1, 4, 10)\n",
    "resultsByIncrement = pd.Series([resultsForXTimesBigger(x) for x in space], index=space)"
   ]
  },
  {
   "cell_type": "code",
   "execution_count": 30,
   "metadata": {},
   "outputs": [
    {
     "data": {
      "text/plain": [
       "<matplotlib.legend.Legend at 0x2a34699c898>"
      ]
     },
     "execution_count": 30,
     "metadata": {},
     "output_type": "execute_result"
    },
    {
     "data": {
      "image/png": "[encoded data removed]",
      "text/plain": [
       "<Figure size 432x288 with 1 Axes>"
      ]
     },
     "metadata": {
      "needs_background": "light"
     },
     "output_type": "display_data"
    }
   ],
   "source": [
    "resultsByIncrement.plot(label='Beta-Binomial')\n",
    "resultsByIncrement.apply(lambda x: 0.008).plot(label='Binomial')\n",
    "#plt.yscale('log') no need!\n",
    "#plt.xscale('log')\n",
    "plt.xlabel('x times original data size')\n",
    "plt.ylabel('probability of Celtics winning the match')\n",
    "plt.legend()"
   ]
  },
  {
   "cell_type": "markdown",
   "metadata": {},
   "source": [
    "# Conclusion\n",
    "\n",
    "In all cases, Celtics win!\n",
    "\n",
    "<br />\n",
    "<center>\n",
    "    <img src=\"images/boston-celtics.jpg\" width=200 />\n",
    "</center>"
   ]
  }
 ],
 "metadata": {
  "kernelspec": {
   "display_name": "Python 3",
   "language": "python",
   "name": "python3"
  },
  "language_info": {
   "codemirror_mode": {
    "name": "ipython",
    "version": 3
   },
   "file_extension": ".py",
   "mimetype": "text/x-python",
   "name": "python",
   "nbconvert_exporter": "python",
   "pygments_lexer": "ipython3",
   "version": "3.7.3"
  }
 },
 "nbformat": 4,
 "nbformat_minor": 1
}
