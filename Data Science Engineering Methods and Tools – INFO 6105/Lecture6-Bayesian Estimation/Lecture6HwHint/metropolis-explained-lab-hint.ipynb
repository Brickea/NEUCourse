{
 "cells": [
  {
   "cell_type": "markdown",
   "metadata": {},
   "source": [
    "<div style=\"text-align: right\">INFO 6105 Data Science Eng Methods and Tools, Lecture 6 Day 1</div>\n",
    "<div style=\"text-align: right\">Dino Konstantopoulos, 7 October 2019, with material from Thomas Wiecki</div>\n",
    "\n",
    "# Metropolis Lab 1\n",
    "\n",
    "In class, many of you said you wanted to write your own [Metropolis algorithm](https://en.wikipedia.org/wiki/Metropolis%E2%80%93Hastings_algorithm), so here's the lab! We worked with estimating the **mean** of a model in our first notebook, so let's estimate **standard deviation** in this notebook.\n",
    "\n",
    "This lab is to be done in class, in teams of 2. TAs will go around with the solution. You can ask for help at any step. TAs won't give you the solution, but they will help you find it. Answer all 10 questions in the notwbook (`a` to `i`), and post the notebook (one per team, with the name of both teammates on blackboard). We'll decide how to count this as bonus hw points."
   ]
  },
  {
   "cell_type": "code",
   "execution_count": 2,
   "metadata": {},
   "outputs": [],
   "source": [
    "import numpy as np\n",
    "import scipy\n",
    "import scipy.stats\n",
    "import matplotlib as mpl   \n",
    "import matplotlib.pyplot as plt\n",
    "%matplotlib inline"
   ]
  },
  {
   "cell_type": "markdown",
   "metadata": {},
   "source": [
    "## Step 1: Data generation\n",
    "\n",
    "We generate 30,000 samples from a normal distribution with $\\mu$ = 10, and $\\sigma$= 3, but let's say we can only observe 1000 of them. \n",
    "\n",
    "Lab goal: We'll use Bayesian estimation to build a model from the 1000 observations, then we'll use the model to reconstruct (a simulation of) the 30,000 samples.\n",
    "\n",
    "Let's start by plotting the histogram of these observed 1000 datapoints.\n",
    "\n",
    "#### a) Please fill in the ellipses (...) below with code and plot."
   ]
  },
  {
   "cell_type": "markdown",
   "metadata": {},
   "source": [
    "<div style=\"display:none;\">\n",
    "observation = population[np.random.randint(0, 30000, 1000)]\n",
    "</div>"
   ]
  },
  {
   "cell_type": "code",
   "execution_count": 3,
   "metadata": {},
   "outputs": [
    {
     "data": {
      "text/plain": [
       "9.90467360186061"
      ]
     },
     "execution_count": 3,
     "metadata": {},
     "output_type": "execute_result"
    },
    {
     "data": {
      "image/png": "[encoded data removed]",
      "text/plain": [
       "<Figure size 720x720 with 1 Axes>"
      ]
     },
     "metadata": {
      "needs_background": "light"
     },
     "output_type": "display_data"
    }
   ],
   "source": [
    "model=lambda mu, sig, t: np.random.normal(mu, sig, t)\n",
    "\n",
    "#Form a population of 30,000 individuals, with average=10 and sigma=3\n",
    "population = model(10, 3, 30000)\n",
    "\n",
    "#Assume we are only able to observe 1,000 of these individuals, sample randomly amongst the 30000:\n",
    "observation = population[np.random.randint(0, 30000, 1000)]\n",
    "\n",
    "fig = plt.figure(figsize=(10,10))\n",
    "ax = fig.add_subplot(1,1,1)\n",
    "ax.hist( observation,bins=35 ,)\n",
    "ax.set_xlabel(\"Value\")\n",
    "ax.set_ylabel(\"Frequency\")\n",
    "ax.set_title(\"Figure 1: Distribution of 1000 observations sampled from a population of 30,000 with $\\mu$=10, $\\sigma$=3\")\n",
    "mu_obs=observation.mean()\n",
    "mu_obs"
   ]
  },
  {
   "cell_type": "markdown",
   "metadata": {},
   "source": [
    "## Step 2: Which parameter to model\n",
    "\n",
    "$\\theta$ is made up of two values: $[\\mu,\\sigma]$. Let's assume  $\\mu$ is a constant, $\\mu = \\mu_{obs}$.\n",
    "\n",
    "We would like to find a distribution for $\\sigma_{obs}$ using the 1000 observed samples. \n",
    "\n",
    "Those with a math background will say that ***there is a formula for computing the standard deviation*** $\\sigma$ (actually, ***all of you need to know how to compute standard deviation from $n$ observations $d_i$ with mean $\\mu$***):\n",
    "\n",
    "$$\\sigma=\\sqrt{\\frac{1}{n}\\sum_i^n(d_i-\\mu)^2}$$\n",
    "\n",
    "Note however, we are not trying to find *a* value for $\\sigma$, but rather, we are trying to compute a distribution of the possible values of $\\sigma$.\n",
    "\n",
    "#### b) Compute the standard deviation of the 30,000 samples, and then the standard deviation of the 1,000 observations in the cell below\n",
    "\n",
    "Note that the standarde deviation of a non-gaussian distribution is ***nonsense***! Thankfully here, we have a distribution that ***is*** gaussian-distributed. "
   ]
  },
  {
   "cell_type": "code",
   "execution_count": 4,
   "metadata": {},
   "outputs": [
    {
     "data": {
      "text/plain": [
       "2.9865041457857644"
      ]
     },
     "execution_count": 4,
     "metadata": {},
     "output_type": "execute_result"
    }
   ],
   "source": [
    "# full dataset:\n",
    "mu = 10\n",
    "thesum = np.sum([(y - mu)**2 for y in population])\n",
    "sigma_population = np.sqrt(thesum / len(population))\n",
    "sigma_population"
   ]
  },
  {
   "cell_type": "code",
   "execution_count": 5,
   "metadata": {},
   "outputs": [
    {
     "data": {
      "text/plain": [
       "2.9864300344853447"
      ]
     },
     "execution_count": 5,
     "metadata": {},
     "output_type": "execute_result"
    }
   ],
   "source": [
    "np.std(population)"
   ]
  },
  {
   "cell_type": "code",
   "execution_count": 6,
   "metadata": {},
   "outputs": [
    {
     "data": {
      "text/plain": [
       "3.043907082242094"
      ]
     },
     "execution_count": 6,
     "metadata": {},
     "output_type": "execute_result"
    }
   ],
   "source": [
    "np.std(observation)"
   ]
  },
  {
   "cell_type": "markdown",
   "metadata": {},
   "source": [
    "## Step 3: Define the pdf for the prior and pdf for the likelihood\n",
    "\n",
    "From the figure above, we can see that the data is **normally distributed**. The mean can be computed by taking the average of the values of the 1000 samples. By doing that, we get for example $\\mu_{obs}=9.8$.\n",
    "\n",
    "For the standard deviation $\\sigma$ pdf, let's pick a simple one: the normal distribution!\n",
    "\n",
    "\\begin{equation} \\sigma_{new} \\sim N(\\mu=\\sigma_{current},\\; \\sigma_q=1) \\end{equation}\n",
    "\n",
    "Note that $\\sigma_q$ is unrelated to $\\sigma_{new}$ and $\\sigma_{current}$. It simply specifies the standard deviation of the parameter space. It can be any value desired. It only affects convergence time of the algorithm.\n",
    "\n",
    "We don't have any preferences values that $\\sigma_{new}$ and $\\sigma_{current}$ can take, but they should be positive! Why?\n",
    "\n",
    "Standard deviation measures **dispersion**, which is a distance, and distances cannot be negative.\n",
    "\n",
    "$\\sigma=\\sqrt{\\dfrac{1}{n}\\sum_i^n(d_i-\\mu)^2}$, and the square root of a number cannot be negative. ***Make sure to strictly enforce this in your prior***.\n",
    "\n",
    "Since likelihood $f$ should be proportional to the posterior, we choose $f$ to be the following gaussian pdf, for each data point $d_i$ in the data D:\n",
    "\n",
    "\\begin{equation} f(d_i\\;|\\; \\mu,\\sigma^2) = \\dfrac{1}{\\sqrt{2\\pi\\sigma^2}}e^{-\\dfrac{(d_i-\\mu)^2}{2\\sigma^2}} \\end{equation}\n",
    "\n",
    "#### c) Write a python function to evaluate $f$ above and plot $f$"
   ]
  },
  {
   "cell_type": "markdown",
   "metadata": {},
   "source": [
    "<div style=\"display:none;\">\n",
    "\n",
    "</div>"
   ]
  },
  {
   "cell_type": "code",
   "execution_count": 16,
   "metadata": {},
   "outputs": [
    {
     "data": {
      "image/png": "[encoded data removed]",
      "text/plain": [
       "<Figure size 432x288 with 1 Axes>"
      ]
     },
     "metadata": {
      "needs_background": "light"
     },
     "output_type": "display_data"
    }
   ],
   "source": [
    "def gaussian(x, mu, sig):\n",
    "    return np.exp(-np.power(x - mu, 2.) / (2 * np.power(sig, 2.))) / (\n",
    "        np.sqrt(2 * np.pi * np.power(sig, 2.))\n",
    "    )\n",
    "\n",
    "ax = plt.subplot()\n",
    "x = np.linspace(0, 20, 1000)\n",
    "g = gaussian(x, np.mean(observation), np.std(observation))\n",
    "f = gaussian(observation.tolist(), np.mean(observation), np.std(observation))\n",
    "ax.plot(x, f)\n",
    "ax.plot(x, g)\n",
    "ax.set(xlabel='x', ylabel='y', title='f');"
   ]
  },
  {
   "cell_type": "markdown",
   "metadata": {},
   "source": [
    "## Step 4: Define when we accept or reject $\\sigma_{new}$: \n",
    "We accept $\\sigma_{new}$ from $\\sigma_{current}$ if and only if:\n",
    "\n",
    "$\\dfrac{\\text{Likelihood}(D \\;|\\; \\mu_{obs},\\sigma_{new})\\; * \\; \\text{prior}(\\mu_{obs},\\sigma_{new})}{\\text{Likelihood}(D\\;|\\;\\mu_{obs},\\sigma_{current})\\;*\\;\\text{prior}(\\mu_{obs},\\sigma_{current})} \\;\\;>\\;\\; 1     \\quad \\quad \\quad \\quad \\quad      (1)$\n",
    "\n",
    "If this ratio is smaller or equal to 1, then we compare it to a uniformly generated random number in the closed set [0,1]. If the ratio is larger than the random number, we accept $\\sigma_{new}$, otherwise we reject it.\n",
    "\n",
    "*Note: Since we will be computing this ratio to decide which parameters should be accepted, make sure that the adopted likelihood is proportional to the posterior itself, $P(\\sigma\\;|\\; D,\\mu)$, which in our case is true.*\n",
    "\n",
    "\n",
    "## Step 5: Acceptance condition derivation:\n",
    "\n",
    "The **total** likelihood for a set of observations $D$ is: $\\text{Likelihood}(D\\;|\\;\\mu_{obs},\\sigma_{new}) = \\prod_i^n f(d_i\\;|\\;\\mu_{obs},\\sigma_{new}) $\n",
    "\n",
    "We multiply the likelihood for each observation, which is equivalent to computing the probability that we observe each one of our observations, ***one after the other*** (like throwing 10 coin flips and saying we want to observe HHTHTTTHHH).\n",
    "\n",
    "The larger this number is, the more ***probable*** our model is to generate our observations. So we can plug in values for the model parameters and see which values yield higher compound probabilities.\n",
    "\n",
    "In our case, we will **log** both the prior and the likelihood function. Why log? Simply because it helps with \n",
    "**numerical stability**, i.e. multiplying thousands of small values (probabilities, likelihoods, etc..) can cause an **underflow** in  system memory, and the **log** is a perfect solution (remember the problems we had with our previous notebook?) because it transforms multiplications to **additions** and small positive numbers into not-so-small negative numbers.\n",
    "\n",
    "Therefore our acceptance condition from equation $(1)$ above:\n",
    "Accept $\\sigma_{new}$ if:\n",
    "\n",
    "$$\\text{Likelihood}(D\\;|\\;\\mu_{obs},\\sigma_{new}) * \\text{prior}(\\mu_{obs},\\sigma_{new})) > \\\\ \\text{Likelihood}(D\\;|\\:\\mu_{obs},\\sigma_{current}) *  \\text{prior}(\\mu_{obs},\\sigma_{current}))$$\n",
    "\n",
    "After taking the **log** of equation (1), since **log** is a [monotonic](https://en.wikipedia.org/wiki/Monotonic_function) function:\n",
    "\n",
    "$$Log(\\text{Likelihood}(D\\;|\\;\\mu_{obs},\\sigma_{new}) * \\text{prior}(\\mu_{obs},\\sigma_{new}))) > \\\\ Log(\\text{Likelihood}(D\\;|\\:\\mu_{obs},\\sigma_{current}) *  \\text{prior}(\\mu_{obs},\\sigma_{current})))$$\n",
    "\n",
    "Also, since $Log(a * b) = Log(a) + Log(b)$, our condition becomes:\n",
    "\n",
    "$$Log(\\text{Likelihood}(D\\;|\\;\\mu_{obs},\\sigma_{new})) + Log(\\text{prior}(\\mu_{obs},\\sigma_{new})) - (Log(\\text{Likelihood}(D\\;|\\:\\mu_{obs},\\sigma_{current})) + Log(prior(\\mu_{obs},\\sigma_{current})))\\;>\\;0$$\n",
    "\n",
    "By plugging in $\\text{Likelihood}(D\\;|\\;\\mu_{obs},\\sigma_{new}) = \\prod_i^n f(d_i\\;|\\;\\mu_{obs},\\sigma_{new}) $, our condition becomes:\n",
    "\n",
    " $$\\sum_i^nLog(f(d_i\\;|\\;\\mu_{obs},\\sigma_{new})) + Log(\\text{prior}(\\mu_{obs},\\sigma_{new})) - \\sum_i^nLog(f(d_i\\;|\\;\\mu_{obs},\\sigma_{current}))-Log(\\text{prior}(\\mu_{obs},\\sigma_{current}))>0$$\n",
    " \n",
    " $\\quad$\n",
    " \n",
    " \n",
    "By plugging in \\begin{equation} f(d_i\\;|\\; \\mu,\\sigma^2) = \\dfrac{1}{\\sqrt{2\\pi\\sigma^2}}e^{-\\dfrac{(d_i-\\mu)^2}{2\\sigma^2}} \\end{equation}\n",
    "\n",
    "Our condition becomes: \n",
    "  \n",
    "$$\\sum_i^n -Log(\\sigma_{new}\\sqrt{2\\pi})-\\dfrac{(d_i-\\mu_{obs})^2}{2\\sigma_{new}^2} \\;\\;+\\;\\; Log(prior(\\mu_{obs},\\sigma_{new})) \\quad > \\\\\n",
    "\\quad \\sum_i^n -Log(\\sigma_{current}\\sqrt{2\\pi})-\\dfrac{(d_i-\\mu_{obs})^2}{2\\sigma_{current}^2} \\;\\;+\\;\\; Log(prior(\\mu_{obs},\\sigma_{current})) \\quad \\quad  (2)$$\n",
    "\n",
    "So (2) will be our acceptance condition. If true, we will always accept $\\sigma_{new}$ as our next value in the chain. If false, ***we will only accept it accroding to a probability equal to the ratio of the nominators*** (like in the lecture notebook).\n",
    "\n",
    "So let's write some code:\n",
    "\n",
    "#### d) Please fill in the ellipses below for `prior` and `manual_log_likelihood`\n",
    "\n",
    "Note that x are our **unknowns**: the parameters $\\mu$ and $\\sigma$ (and in our case $\\mu$ is fixed)."
   ]
  },
  {
   "cell_type": "markdown",
   "metadata": {},
   "source": [
    "Let's work out a **transition model** for our model parameters x = [$\\mu, \\sigma$]. Let's keep x[0] (that's $\\mu$) fixed, and only vary x[1] (that's $\\sigma$) with a random numner generator from numpy. Let's work out, say, the next 10 transitions (this is the **Monte Carlo** part of our algorithm, but also the **Markov Chain** part because ***the next value only depends on the previous value and not on ones before it***):"
   ]
  },
  {
   "cell_type": "code",
   "execution_count": 27,
   "metadata": {},
   "outputs": [
    {
     "name": "stdout",
     "output_type": "stream",
     "text": [
      "[10.17207035] [2.26958654]\n",
      "[10.14832713] [2.86532617]\n",
      "[9.62123984] [3.87826434]\n",
      "[9.4323666] [3.43841265]\n",
      "[9.92759938] [3.26278446]\n",
      "[9.7396734] [3.53667159]\n",
      "[10.70720691] [3.991665]\n",
      "[10.98434389] [3.84268311]\n",
      "[10.3753577] [3.85314493]\n",
      "[11.28648589] [4.28885118]\n"
     ]
    }
   ],
   "source": [
    "transition_model = lambda x: [np.random.normal(x[0], 0.5, (1,)), np.random.normal(x[1], 0.5, (1,))]\n",
    "mu_0 = 10\n",
    "sig_0 = 3\n",
    "for i in range(10):\n",
    "    mu, sig = transition_model([mu_0, sig_0])\n",
    "    print(mu, sig)\n",
    "    mu_0 = mu[0]\n",
    "    sig_0 = sig[0]"
   ]
  },
  {
   "cell_type": "markdown",
   "metadata": {},
   "source": [
    "So now let's write the code for the prior, which we will simplify to a **uniform** function: 1 when $x>0$ and 0 otherwise.\n",
    "\n",
    "This is the simplest possible prior, even simpler than a very diffuse gaussian! This prior says ***dude! I have noooooo idea what the prior should be, only that since it models a standard deviation, it should be positive***.\n",
    "\n",
    "Our likelihood is the **sum** ($\\Sigma$) in equation (2) above. Note that that is only half of the right-hand-side of the equation and half of the left hand side! You should be able to translate mathematical formulae into python programs and vice-versa (say, for your midterm ;-).\n",
    "\n",
    "I've also added a `log_likelihood` function that evaluates from a guassian pdf, just fyi."
   ]
  },
  {
   "cell_type": "code",
   "execution_count": null,
   "metadata": {},
   "outputs": [],
   "source": [
    "# The transition model defines how to move from sigma_current to sigma_new: we use numpy's \n",
    "# gaussian-distributed random number generator\n",
    "transition_model = lambda x: [x[0], np.random.normal(x[1], 0.5, (1,))]\n",
    "\n",
    "def prior(x):\n",
    "    # the input is a 2-element list\n",
    "    # x[0] = mu, x[1]=sigma (new or current)\n",
    "    # returns 1 for all **valid** values of sigma. \n",
    "    if(x[1] <= 0):\n",
    "        return 0\n",
    "    return 1\n",
    "\n",
    "# Likelihood of the data given a sigma, whether new or current, according to our equation #2 above\n",
    "def manual_log_likelihood(x, data):\n",
    "    # x[0] = mu, x[1] = sigma \n",
    "    # data = observations\n",
    "    return np.sum(-np.log(x[1] * np.sqrt(2* np.pi) )-((data-x[0])**2) / (2*x[1]**2))\n",
    "\n",
    "#Same as manual_log_likelihood(x, data), using scipy\n",
    "def log_likelihood(x, data):\n",
    "    # x[0] = mu, x[1] = sigma\n",
    "    # data = observations\n",
    "    return np.sum(np.log(scipy.stats.norm(x[0], x[1]).pdf(data)))"
   ]
  },
  {
   "cell_type": "markdown",
   "metadata": {},
   "source": [
    "#### e) Please write your own Metropolis algorithm below\n",
    "\n",
    "Note that `likelihood_computation(x,data)` is the **likelihood** that parameters x generated the data. That will the function `manual_log_likelihood` written above.\n",
    "\n",
    "`transition_model(x)`: is a function that draws a sample from a symmetric distribution and returns it.\n",
    "\n",
    "`param_init` is the starting sample. So you start your Metropolis program with `x = param_init`\n",
    "\n",
    "`iterations` is the number of accepted to generated\n",
    "\n",
    "`data` are the observations we wish to model\n",
    "\n",
    "`acceptance_rule(x, x_new)` is a predicate that decides whether to accept or reject the new sample.\n",
    "\n",
    "So, start with x equal to `param_init`, and with two lists, one are the accepted values, the other the rejected values.\n",
    "\n",
    "Then for index i ranging in `range(iterations)`, set `x_new` equal to `transition_model(x)`, and `x_likely` to `likelihood_computation(x, data)`. Then evaluate a new candidate `x_new_likely` in the same way.\n",
    "\n",
    "Then plug in equation (2) as input to your `acceptance_rule`. Equation (2) can simply be written as comparing `(x_likely + np.log(prior(x))` to `(x_new_likely + np.log(prior(x_new))`. If the new value `x_new` is accepted, replace `x` with `x_new` in order to start the next iteration, and add `x_new` to the accepted list. If the new value `x_new` is rejected, then just add it to the rejected list.\n",
    "\n",
    "At the end of `iterations`, return the accepted list and the rejected list as numpy arrays (`np.array()`).\n",
    "\n",
    "Simple, right?"
   ]
  },
  {
   "cell_type": "code",
   "execution_count": null,
   "metadata": {},
   "outputs": [],
   "source": [
    "# Predicate whether to accept or reject the new sample\n",
    "def acceptance(x, x_new):\n",
    "    if x_new > x:\n",
    "        return True\n",
    "    else:\n",
    "        accept=np.random.uniform(0,1)\n",
    "        # Since we want a **log** likelihood, we want to exponentiate \n",
    "        # in order to compare to the random number. Make sure less\n",
    "        # likely x_new are less likely to be accepted\n",
    "        return (accept < (np.exp(x_new - x)))\n",
    "\n",
    "# Write a metropolis algorithm that returns two arrays: the accepted values of sigma, and\n",
    "# the rejected values\n",
    "def metropolis_hastings(likelihood_computation, \n",
    "                        prior, \n",
    "                        transition_model, \n",
    "                        param_init, \n",
    "                        iterations, \n",
    "                        data, \n",
    "                        acceptance_rule):\n",
    "    x = param_init\n",
    "    accepted = []\n",
    "    rejected = []   \n",
    "    for i in range(iterations):\n",
    "        x_new =  transition_model(x)    \n",
    "        x_lik = likelihood_computation(x, data)\n",
    "        x_new_lik = likelihood_computation(x_new, data) \n",
    "        if (...):            \n",
    "            x = x_new\n",
    "            accepted.append(x_new)\n",
    "        else:\n",
    "            rejected.append(x_new)            \n",
    "                \n",
    "    return np.array(accepted), np.array(rejected)"
   ]
  },
  {
   "cell_type": "markdown",
   "metadata": {},
   "source": [
    "## Step 6: Run the algorithm with initial parameters and collect `accepted` and `rejected` samples\n",
    "\n",
    "Run your Metropolis algorithm with the following parameters:\n",
    "\n",
    "- manual_log_likelihood\n",
    "- prior\n",
    "- transition_model\n",
    "- [mu_obs, 0.1]\n",
    "- 50000\n",
    "- observation\n",
    "- acceptance"
   ]
  },
  {
   "cell_type": "code",
   "execution_count": null,
   "metadata": {},
   "outputs": [],
   "source": [
    "accepted, rejected = ..."
   ]
  },
  {
   "cell_type": "code",
   "execution_count": null,
   "metadata": {},
   "outputs": [],
   "source": [
    "len(accepted)"
   ]
  },
  {
   "cell_type": "code",
   "execution_count": null,
   "metadata": {},
   "outputs": [],
   "source": [
    "len(rejected)"
   ]
  },
  {
   "cell_type": "markdown",
   "metadata": {},
   "source": [
    "The algorithm accepted how many samples (which might be different on each new run)?\n",
    "\n",
    "#### f) What are the last 10 samples for $\\sigma$:"
   ]
  },
  {
   "cell_type": "code",
   "execution_count": null,
   "metadata": {},
   "outputs": [],
   "source": [
    "accepted[...]"
   ]
  },
  {
   "cell_type": "code",
   "execution_count": null,
   "metadata": {},
   "outputs": [],
   "source": [
    "print(accepted.shape)"
   ]
  },
  {
   "cell_type": "markdown",
   "metadata": {},
   "source": [
    "#### g) Plot accepted and rejected values:"
   ]
  },
  {
   "cell_type": "code",
   "execution_count": null,
   "metadata": {},
   "outputs": [],
   "source": [
    "fig = plt.figure(figsize=(10,10))\n",
    "ax = fig.add_subplot(2,1,1)\n",
    "\n",
    "ax.plot( rejected[0:50,1], 'rx', label='Rejected',alpha=0.5)\n",
    "ax.plot( accepted[0:50,1], 'b.', label='Accepted',alpha=0.5)\n",
    "ax.set_xlabel(\"Iteration\")\n",
    "ax.set_ylabel(\"$\\sigma$\")\n",
    "ax.set_title(\"$\\sigma$ sampling with Metropolis. First fifty samples\")\n",
    "ax.grid()\n",
    "ax.legend()\n",
    "\n",
    "\n",
    "ax2 = fig.add_subplot(2,1,2)\n",
    "to_show=-accepted.shape[0]\n",
    "ax2.plot( rejected[to_show:,1], 'rx', label='Rejected',alpha=0.5)\n",
    "ax2.plot( accepted[to_show:,1], 'b.', label='Accepted',alpha=0.5)\n",
    "ax2.set_xlabel(\"Iteration\")\n",
    "ax2.set_ylabel(\"$\\sigma$\")\n",
    "ax2.set_title(\"$\\sigma$ sampling with Metropolis, all samples\")\n",
    "ax2.grid()\n",
    "ax2.legend()\n",
    "\n",
    "\n",
    "fig.tight_layout()\n",
    "accepted.shape"
   ]
  },
  {
   "cell_type": "markdown",
   "metadata": {},
   "source": [
    "#### h) So, starting from an initial σ of 0.1, the algorithm converges pretty quickly to which expected value?"
   ]
  },
  {
   "cell_type": "markdown",
   "metadata": {},
   "source": [
    "Now, consider the initial 25% of the values of $\\sigma$ to be \"burn-in\", so ***drop them***.\n",
    "\n",
    "Visualize the trace of  $\\sigma$ and the histogram of the trace."
   ]
  },
  {
   "cell_type": "code",
   "execution_count": null,
   "metadata": {},
   "outputs": [],
   "source": [
    "show=int(-0.75*accepted.shape[0])\n",
    "hist_show=int(-0.75*accepted.shape[0])\n",
    "\n",
    "fig = plt.figure(figsize=(20,10))\n",
    "ax = fig.add_subplot(1,2,1)\n",
    "ax.plot(accepted[show:,1])\n",
    "ax.set_title(\"Trace for $\\sigma$\")\n",
    "ax.set_ylabel(\"$\\sigma$\")\n",
    "ax.set_xlabel(\"Iteration\")\n",
    "ax = fig.add_subplot(1,2,2)\n",
    "ax.hist(accepted[hist_show:,1], bins=20,density=True)\n",
    "ax.set_ylabel(\"Frequency (normed)\")\n",
    "ax.set_xlabel(\"$\\sigma$\")\n",
    "ax.set_title(\"Histogram of $\\sigma$\")\n",
    "fig.tight_layout()\n",
    "\n",
    "\n",
    "ax.grid(\"off\")\n"
   ]
  },
  {
   "cell_type": "markdown",
   "metadata": {},
   "source": [
    "The most likely value for $\\sigma$ is around what value? A bit more or less than the original value of 3.0? The difference is due to observing only 3% f the original population (1,000 out of 30,000) \n",
    "\n",
    "## Predictions:\n",
    "\n",
    "#### i) First, average out the last 75% of accepted samples of σ, and then generate 30,000 random individuals from a normal distribution with μ=9.8 and your value of σ. \n",
    "\n",
    "Then compare against the original data of 30,000 individuals."
   ]
  },
  {
   "cell_type": "code",
   "execution_count": null,
   "metadata": {},
   "outputs": [],
   "source": [
    "mu=accepted[show:,0].mean()\n",
    "sigma=accepted[show:,1].mean()\n",
    "print(mu, sigma)\n",
    "model = lambda t,mu,sigma:np.random.normal(mu,sigma,t)\n",
    "observation_gen=model(population.shape[0],mu,sigma)\n",
    "fig = plt.figure(figsize=(10,10))\n",
    "ax = fig.add_subplot(1,1,1)\n",
    "ax.hist( observation_gen,bins=70 ,label=\"distribution of 30,000 individuals, predicted\")\n",
    "ax.hist( population,bins=70 ,alpha=0.5, label=\"Values of the 30,000 individuals, original\")\n",
    "ax.set_xlabel(\"Mean\")\n",
    "ax.set_ylabel(\"Frequency\")\n",
    "ax.set_title(\"Predictions posterior distribution\")\n",
    "ax.legend()"
   ]
  },
  {
   "cell_type": "markdown",
   "metadata": {},
   "source": [
    "#### Is it a good fit? \n",
    "\n",
    "Your model generated, from a small 1,000 sample of 30,000 observations, a model of ***all 30,000 observations***!\n",
    "\n",
    "## Conclusion\n",
    "\n",
    "The great thing about probabilistic programming is that you only need to write down the model and then run it. The simplest MCMC algorithm, [Metropolis](https://en.wikipedia.org/wiki/Metropolis%E2%80%93Hastings_algorithm), is very simple. There is no need to compute evidence (denominator), or ensure constraining mathematical properties. Once you have a good model, it essentially **simulates** the data, so you can throw away all your data and use your model to predict new data. If your model is low dimensional, then you turned something complicated into something very easy. Well done! Your brain loves you! That's called **intelligence**!"
   ]
  }
 ],
 "metadata": {
  "kernelspec": {
   "display_name": "Python 3",
   "language": "python",
   "name": "python3"
  },
  "language_info": {
   "codemirror_mode": {
    "name": "ipython",
    "version": 3
   },
   "file_extension": ".py",
   "mimetype": "text/x-python",
   "name": "python",
   "nbconvert_exporter": "python",
   "pygments_lexer": "ipython3",
   "version": "3.7.3"
  }
 },
 "nbformat": 4,
 "nbformat_minor": 2
}
