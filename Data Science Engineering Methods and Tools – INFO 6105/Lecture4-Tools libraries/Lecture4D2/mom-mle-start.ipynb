{
 "cells": [
  {
   "cell_type": "markdown",
   "metadata": {},
   "source": [
    "<div style=\"text-align: right\">INFO 6105 Data Science Eng Methods and Tools, Lecture 5 Day 2</div>\n",
    "<div style=\"text-align: right\">Dino Konstantopoulos, 11 October 2019, with material from Chris Fonnesbeck and Cyrille Rossant</div>\n",
    "<div style=\"text-align: right\"><i>please browse all URLs in this notebook</i></div>\n",
    "\n",
    "\n",
    "# Classical Statistical Data Analysis\n",
    "\n",
    "Machine models like regression forests are *sexy* because you the computer builds the curve for you, but there are many cases where ***you can build the curve for you***, and before powerful computers, statisticians did not know about ML. So let's go back in time about a decade and look at what Neanderthal scientists did. Actually, there is good stuff to learn.\n",
    "\n",
    "The primary goal of statistical data analysis is to create a model for the datapoints so you can throw away the data and use the model instead.\n",
    "\n",
    "A less ambitous goal of statistical data analysis is to relate the influence of one variable on another. For example, we may wish to know how different medical interventions influence the incidence or duration of disease, or how baseball players' pe rformance varies as a function of age.\n",
    "\n",
    "Bayesian models, which we're going to look at next, involve very advanced, probabilistic programming. We only now have the computer power to run these programs. What did Neanderthal man do when he tried to do statistical data analysis?\n",
    "\n",
    "<br />\n",
    "<center>\n",
    "<img src =images/caveman.png width = 400 />\n",
    "</center>\n",
    "\n",
    "Let's look at the two most popular statistical methods prior to the resounding success of Bayesian estimation: ***Method Of Moments** (MOM) and **Maximum Likelihood Estimation** (MLE). We'll also take this opportunity to introduce another important pdf from our catalogue of pdfs."
   ]
  },
  {
   "cell_type": "markdown",
   "metadata": {},
   "source": [
    "# 1. Method Of Moments (MOM) \n",
    "\n",
    "We'll illustrate the **Method of Moments** (MOM) with ***an example***. \n",
    "\n",
    "When you take a ***bad*** class in statistics, where you don't udnerstand or tend to fall asleep at the helm, it's the ***fault of the professor, not yours***.\n",
    "\n",
    "<br />\n",
    "<center>\n",
    "<img src =images/asleep.jpg width = 400 />\n",
    "</center>\n",
    "\n",
    "A good professor with give you the relevant equations and apply them to an ***interesting problem***. Then you’ll have an appreciation for how statistics helps us to understand the world. There are many **amazing phenomena** in the world, and we use data science as a tool for exploring them.\n",
    "\n",
    "First, some new distributions:\n",
    "\n",
    "## The Gamma distribution\n",
    "\n",
    "</br >\n",
    "<center>\n",
    "<img src=\"images/ohnonotmath.png\" width=200 />\n",
    "</center>\n",
    "\n",
    "This is the [**gamma distribution**](https://en.wikipedia.org/wiki/Gamma_distribution):\n",
    "\n",
    "<div style=\"font-size: 120%;\">  \n",
    "$$f(x) = \\frac{\\beta^\\alpha x^{\\alpha -1} e^{- \\beta x}}{\\Gamma (\\alpha)}$$\n",
    "</div>\n",
    "\n",
    "And... what is the $\\Gamma()$ function? It [interpolates](https://en.wikipedia.org/wiki/Gamma_function) the factorial function to non-integer values. Pretty cool.\n",
    "\n",
    "The gamma distribution is a ***two-parameter*** ($\\alpha, \\beta$) family of ***continuous*** probability distributions.\n",
    "\n",
    "In Bayesian statistics, the **gamma distribution** is used as a [**conjugate prior**](https://en.wikipedia.org/wiki/Conjugate_prior) distribution for the **exponential distribution** and the **Poisson distribution**.\n",
    "\n",
    "When the posterior distributions $p(θ \\; | \\; x)$ are in one probability distribution family as the prior probability distribution $p(θ)$ is in another family in Bayes' formula:\n",
    "\n",
    "$$p(θ \\; | \\; x) = \\frac{p(x \\;| \\; θ) \\; p(θ)}{p(x)}$$\n",
    "\n",
    "then the prior and posterior are called **conjugate distributions**, and the prior is called a **conjugate prior for the likelihood function** $p(x \\;| \\; θ)$.\n",
    "\n",
    "The Gamma distribution is a distribution that arises naturally in processes for which the ***waiting times between events are relevant***. It can be thought of as a **waiting time** between **Poisson distributed events**, such as in queuing models, climatology, and financial services. \n",
    " \n",
    " Examples of events that may be modeled by a gamma distribution include but are not limited to:\n",
    "- Public transportation\n",
    "- Amount of [rainfall](http://journals.tubitak.gov.tr/engineering/issues/muh-00-24-6/muh-24-6-7-9909-13.pdf). accumulated in a reservoir\n",
    "- The size of loan defaults or aggregate [insurance claims]((https://www.crcpress.com/Statistical-and-Probabilistic-Methods-in-Actuarial-Science/Boland/p/book/9781584886952)\n",
    "- The flow of items through manufacturing and distribution processes\n",
    "- Visitors to a website\n",
    "- Customers calling a help center \n",
    "- Radioactive decay in atoms\n",
    "- Movements in a stock price\n",
    "\n",
    "For $x > 0$ and $\\alpha, \\beta > 0$\n",
    "\n",
    "</br >\n",
    "<center>\n",
    "<img src=\"https://upload.wikimedia.org/wikipedia/commons/e/e6/Gamma_distribution_pdf.svg\" width=\"500\" />\n",
    "Gamma distribution\n",
    "</center>\n",
    "\n",
    "In other words, the Gamma distribution ***very important*** in Data Science."
   ]
  },
  {
   "cell_type": "markdown",
   "metadata": {},
   "source": [
    "### For discrete random variables: This is the Poisson distribution:\n",
    "\n",
    "A [Poisson distributed process](https://en.wikipedia.org/wiki/Poisson_distribution), conjugate prior of the Gamma, is a **model** for a series of discrete event where the ***average time*** between events is known, but the exact timing of events is ***random***.  The arrival of an event is independent of the event before (waiting time between events is memoryless).\n",
    "\n",
    "A Poisson Process meets the following criteria (in reality many phenomena modeled as Poisson processes don’t meet these *exactly*):\n",
    "- Events are independent of each other. The occurrence of one event does not affect the probability another event will occur\n",
    "- The average rate (events per time period) is constant\n",
    "- Two events cannot occur at the same time\n",
    "\n",
    "<div style=\"font-size: 120%;\">  \n",
    "$$Pr(X=x)=\\frac{e^{-\\lambda}\\lambda^x}{x!}$$\n",
    "</div>\n",
    "\n",
    "* $X=\\{0,1,2,\\ldots\\}$\n",
    "* $\\lambda > 0$\n",
    "\n",
    "$$E(X) = \\text{Var}(X) = \\lambda$$\n",
    "\n",
    "![Discrete variable](http://upload.wikimedia.org/wikipedia/commons/1/16/Poisson_pmf.svg)"
   ]
  },
  {
   "cell_type": "markdown",
   "metadata": {},
   "source": [
    "### For continuous random variables: This is the exponential distribution\n",
    "\n",
    "Simple enough: an exponential (conjugate prior of the Gamma).\n",
    "\n",
    "<div style=\"font-size: 120%;\">  \n",
    "$$Pr(X=x)= \\lambda e^{-\\lambda x}$$\n",
    "</div>\n",
    "\n",
    "$$X \\in [0,1]$$\n",
    "$$Y \\in (-\\infty, \\infty)$$\n",
    "\n",
    "**Probability Density Function**: \n",
    "\n",
    "For continuous $X$,\n",
    "\n",
    "![Continuous variable](http://upload.wikimedia.org/wikipedia/commons/e/ec/Exponential_pdf.svg)"
   ]
  },
  {
   "cell_type": "markdown",
   "metadata": {},
   "source": [
    "### For continuous random variables: The gaussian distribution\n",
    "\n",
    "And since we're plotting distributions, let's remember our good old friend, the **gaussian** or **normal** distribution that we observed by watching balls fall over a triangular sieve. The conjugate prior of a gaussian is ***always a gaussian***!\n",
    "\n",
    "<div style=\"font-size: 120%;\">  \n",
    "$$f(x) = \\frac{1}{\\sqrt{2\\pi\\sigma^2}}\\exp\\left[-\\frac{(x-\\mu)^2}{2\\sigma^2}\\right]$$\n",
    "</div>\n",
    "\n",
    "* $X \\in \\mathbf{R}$\n",
    "* $\\mu \\in \\mathbf{R}$\n",
    "* $\\sigma>0$\n",
    "\n",
    "$$\\begin{align}E(X) &= \\mu \\cr\n",
    "\\text{Var}(X) &= \\sigma^2 \\end{align}$$\n",
    "\n",
    "![Continuous variable](https://upload.wikimedia.org/wikipedia/commons/7/74/Normal_Distribution_PDF.svg)"
   ]
  },
  {
   "cell_type": "markdown",
   "metadata": {},
   "source": [
    "## Goal\n",
    "\n",
    "Ok, these parametrized distributions happen to *look like* a vast majority of datasets!\n",
    "\n",
    "We're now going to use them as potential models to datasets we observe. "
   ]
  },
  {
   "cell_type": "markdown",
   "metadata": {},
   "source": [
    "## Use Case \\#1: Nashville Precipitation\n",
    "\n",
    "The dataset `nashville_precip.txt` contains NOAA precipitation data for Nashville measured since 1871. It is a classical dataset like the iris dataset. Download it from blackboard and put it in the right folder (you know..). The gamma distribution is a good fit to aggregated rainfall data, and will be our candidate distribution in this case. We'll use the gamma distribution model for Nashville precipitation to demonstrate MOM and MLE.\n",
    "\n",
    "Let's peek at the data:"
   ]
  },
  {
   "cell_type": "code",
   "execution_count": 1,
   "metadata": {},
   "outputs": [],
   "source": [
    "import pandas as pd"
   ]
  },
  {
   "cell_type": "code",
   "execution_count": 2,
   "metadata": {},
   "outputs": [
    {
     "name": "stderr",
     "output_type": "stream",
     "text": [
      "D:\\Users\\admin\\Anaconda3\\lib\\site-packages\\ipykernel_launcher.py:1: FutureWarning: read_table is deprecated, use read_csv instead, passing sep='\\t'.\n",
      "  \"\"\"Entry point for launching an IPython kernel.\n"
     ]
    },
    {
     "data": {
      "text/html": [
       "<div>\n",
       "<style scoped>\n",
       "    .dataframe tbody tr th:only-of-type {\n",
       "        vertical-align: middle;\n",
       "    }\n",
       "\n",
       "    .dataframe tbody tr th {\n",
       "        vertical-align: top;\n",
       "    }\n",
       "\n",
       "    .dataframe thead th {\n",
       "        text-align: right;\n",
       "    }\n",
       "</style>\n",
       "<table border=\"1\" class=\"dataframe\">\n",
       "  <thead>\n",
       "    <tr style=\"text-align: right;\">\n",
       "      <th></th>\n",
       "      <th>Jan</th>\n",
       "      <th>Feb</th>\n",
       "      <th>Mar</th>\n",
       "      <th>Apr</th>\n",
       "      <th>May</th>\n",
       "      <th>Jun</th>\n",
       "      <th>Jul</th>\n",
       "      <th>Aug</th>\n",
       "      <th>Sep</th>\n",
       "      <th>Oct</th>\n",
       "      <th>Nov</th>\n",
       "      <th>Dec</th>\n",
       "    </tr>\n",
       "    <tr>\n",
       "      <th>Year</th>\n",
       "      <th></th>\n",
       "      <th></th>\n",
       "      <th></th>\n",
       "      <th></th>\n",
       "      <th></th>\n",
       "      <th></th>\n",
       "      <th></th>\n",
       "      <th></th>\n",
       "      <th></th>\n",
       "      <th></th>\n",
       "      <th></th>\n",
       "      <th></th>\n",
       "    </tr>\n",
       "  </thead>\n",
       "  <tbody>\n",
       "    <tr>\n",
       "      <th>1871</th>\n",
       "      <td>2.76</td>\n",
       "      <td>4.58</td>\n",
       "      <td>5.01</td>\n",
       "      <td>4.13</td>\n",
       "      <td>3.30</td>\n",
       "      <td>2.98</td>\n",
       "      <td>1.58</td>\n",
       "      <td>2.36</td>\n",
       "      <td>0.95</td>\n",
       "      <td>1.31</td>\n",
       "      <td>2.13</td>\n",
       "      <td>1.65</td>\n",
       "    </tr>\n",
       "    <tr>\n",
       "      <th>1872</th>\n",
       "      <td>2.32</td>\n",
       "      <td>2.11</td>\n",
       "      <td>3.14</td>\n",
       "      <td>5.91</td>\n",
       "      <td>3.09</td>\n",
       "      <td>5.17</td>\n",
       "      <td>6.10</td>\n",
       "      <td>1.65</td>\n",
       "      <td>4.50</td>\n",
       "      <td>1.58</td>\n",
       "      <td>2.25</td>\n",
       "      <td>2.38</td>\n",
       "    </tr>\n",
       "    <tr>\n",
       "      <th>1873</th>\n",
       "      <td>2.96</td>\n",
       "      <td>7.14</td>\n",
       "      <td>4.11</td>\n",
       "      <td>3.59</td>\n",
       "      <td>6.31</td>\n",
       "      <td>4.20</td>\n",
       "      <td>4.63</td>\n",
       "      <td>2.36</td>\n",
       "      <td>1.81</td>\n",
       "      <td>4.28</td>\n",
       "      <td>4.36</td>\n",
       "      <td>5.94</td>\n",
       "    </tr>\n",
       "    <tr>\n",
       "      <th>1874</th>\n",
       "      <td>5.22</td>\n",
       "      <td>9.23</td>\n",
       "      <td>5.36</td>\n",
       "      <td>11.84</td>\n",
       "      <td>1.49</td>\n",
       "      <td>2.87</td>\n",
       "      <td>2.65</td>\n",
       "      <td>3.52</td>\n",
       "      <td>3.12</td>\n",
       "      <td>2.63</td>\n",
       "      <td>6.12</td>\n",
       "      <td>4.19</td>\n",
       "    </tr>\n",
       "    <tr>\n",
       "      <th>1875</th>\n",
       "      <td>6.15</td>\n",
       "      <td>3.06</td>\n",
       "      <td>8.14</td>\n",
       "      <td>4.22</td>\n",
       "      <td>1.73</td>\n",
       "      <td>5.63</td>\n",
       "      <td>8.12</td>\n",
       "      <td>1.60</td>\n",
       "      <td>3.79</td>\n",
       "      <td>1.25</td>\n",
       "      <td>5.46</td>\n",
       "      <td>4.30</td>\n",
       "    </tr>\n",
       "  </tbody>\n",
       "</table>\n",
       "</div>"
      ],
      "text/plain": [
       "       Jan   Feb   Mar    Apr   May   Jun   Jul   Aug   Sep   Oct   Nov   Dec\n",
       "Year                                                                         \n",
       "1871  2.76  4.58  5.01   4.13  3.30  2.98  1.58  2.36  0.95  1.31  2.13  1.65\n",
       "1872  2.32  2.11  3.14   5.91  3.09  5.17  6.10  1.65  4.50  1.58  2.25  2.38\n",
       "1873  2.96  7.14  4.11   3.59  6.31  4.20  4.63  2.36  1.81  4.28  4.36  5.94\n",
       "1874  5.22  9.23  5.36  11.84  1.49  2.87  2.65  3.52  3.12  2.63  6.12  4.19\n",
       "1875  6.15  3.06  8.14   4.22  1.73  5.63  8.12  1.60  3.79  1.25  5.46  4.30"
      ]
     },
     "execution_count": 2,
     "metadata": {},
     "output_type": "execute_result"
    }
   ],
   "source": [
    "precip = pd.read_table(\"data/nashville_precip.txt\", index_col=0, na_values='NA', delim_whitespace=True)\n",
    "precip.head()"
   ]
  },
  {
   "cell_type": "markdown",
   "metadata": {},
   "source": [
    "### 1.1 Data Exploration: The Histogram\n",
    "\n",
    "Let's do some data exploration with the ***histogram*** of precipitations per month. The histogram tells us, for each month,  what's the most frequent number of feet of rain.\n",
    "\n",
    "</br >\n",
    "<center>\n",
    "<img src=\"images/rainfall.jpeg\" width=400 />\n",
    "</center>"
   ]
  },
  {
   "cell_type": "code",
   "execution_count": 3,
   "metadata": {},
   "outputs": [],
   "source": [
    "import numpy as np\n",
    "import matplotlib.pyplot as plt\n",
    "%matplotlib inline"
   ]
  },
  {
   "cell_type": "code",
   "execution_count": 4,
   "metadata": {},
   "outputs": [
    {
     "data": {
      "image/png": "[encoded data removed]",
      "text/plain": [
       "<Figure size 432x288 with 12 Axes>"
      ]
     },
     "metadata": {
      "needs_background": "light"
     },
     "output_type": "display_data"
    }
   ],
   "source": [
    "_ = precip.hist(sharex=True, sharey=True, grid=False)\n",
    "plt.tight_layout()"
   ]
  },
  {
   "cell_type": "markdown",
   "metadata": {},
   "source": [
    "The first step is recognizing what sort of distribution to fit our data to. A couple of observations:\n",
    "\n",
    "1. The data is skewed, with a longer tail to the right than to the left\n",
    "2. The data is positive-valued, since they are measuring rainfall\n",
    "3. The data is continuous\n",
    "\n",
    "Even just by ***eyeballing*** the histograms, ***even if you did not know what the Gamma distribution is usually used for***, a good option appears to be the **gamma distribution**: The curves look like ***Gaussians with long tails***. That's a Gamma!\n",
    "\n",
    "<div style=\"font-size: 120%;\">  \n",
    "$$x \\sim \\text{Gamma}(\\alpha, \\beta) = \\frac{\\beta^{\\alpha}x^{\\alpha-1}e^{-\\beta x}}{\\Gamma(\\alpha)}$$\n",
    "</div>"
   ]
  },
  {
   "cell_type": "markdown",
   "metadata": {},
   "source": [
    "### 1.2 Data Cleansing \n",
    "\n",
    "***Wait***, there's something ***wrong*** with our data.. if you open it in a text editor, you will find a value of **NA** for October of 1963 (take a look). \n",
    "\n",
    "So we have to do some **data cleansing** first. \n",
    "\n",
    "Given what we are trying to do, it is ***sensible*** to fill in the missing value with the average of the available values (another option would have been the average of the months of September and November 1963).\n"
   ]
  },
  {
   "cell_type": "code",
   "execution_count": 5,
   "metadata": {},
   "outputs": [
    {
     "data": {
      "text/html": [
       "<div>\n",
       "<style scoped>\n",
       "    .dataframe tbody tr th:only-of-type {\n",
       "        vertical-align: middle;\n",
       "    }\n",
       "\n",
       "    .dataframe tbody tr th {\n",
       "        vertical-align: top;\n",
       "    }\n",
       "\n",
       "    .dataframe thead th {\n",
       "        text-align: right;\n",
       "    }\n",
       "</style>\n",
       "<table border=\"1\" class=\"dataframe\">\n",
       "  <thead>\n",
       "    <tr style=\"text-align: right;\">\n",
       "      <th></th>\n",
       "      <th>Jan</th>\n",
       "      <th>Feb</th>\n",
       "      <th>Mar</th>\n",
       "      <th>Apr</th>\n",
       "      <th>May</th>\n",
       "      <th>Jun</th>\n",
       "      <th>Jul</th>\n",
       "      <th>Aug</th>\n",
       "      <th>Sep</th>\n",
       "      <th>Oct</th>\n",
       "      <th>Nov</th>\n",
       "      <th>Dec</th>\n",
       "    </tr>\n",
       "    <tr>\n",
       "      <th>Year</th>\n",
       "      <th></th>\n",
       "      <th></th>\n",
       "      <th></th>\n",
       "      <th></th>\n",
       "      <th></th>\n",
       "      <th></th>\n",
       "      <th></th>\n",
       "      <th></th>\n",
       "      <th></th>\n",
       "      <th></th>\n",
       "      <th></th>\n",
       "      <th></th>\n",
       "    </tr>\n",
       "  </thead>\n",
       "  <tbody>\n",
       "    <tr>\n",
       "      <th>1871</th>\n",
       "      <td>2.76</td>\n",
       "      <td>4.58</td>\n",
       "      <td>5.01</td>\n",
       "      <td>4.13</td>\n",
       "      <td>3.30</td>\n",
       "      <td>2.98</td>\n",
       "      <td>1.58</td>\n",
       "      <td>2.36</td>\n",
       "      <td>0.95</td>\n",
       "      <td>1.31</td>\n",
       "      <td>2.13</td>\n",
       "      <td>1.65</td>\n",
       "    </tr>\n",
       "    <tr>\n",
       "      <th>1872</th>\n",
       "      <td>2.32</td>\n",
       "      <td>2.11</td>\n",
       "      <td>3.14</td>\n",
       "      <td>5.91</td>\n",
       "      <td>3.09</td>\n",
       "      <td>5.17</td>\n",
       "      <td>6.10</td>\n",
       "      <td>1.65</td>\n",
       "      <td>4.50</td>\n",
       "      <td>1.58</td>\n",
       "      <td>2.25</td>\n",
       "      <td>2.38</td>\n",
       "    </tr>\n",
       "    <tr>\n",
       "      <th>1873</th>\n",
       "      <td>2.96</td>\n",
       "      <td>7.14</td>\n",
       "      <td>4.11</td>\n",
       "      <td>3.59</td>\n",
       "      <td>6.31</td>\n",
       "      <td>4.20</td>\n",
       "      <td>4.63</td>\n",
       "      <td>2.36</td>\n",
       "      <td>1.81</td>\n",
       "      <td>4.28</td>\n",
       "      <td>4.36</td>\n",
       "      <td>5.94</td>\n",
       "    </tr>\n",
       "    <tr>\n",
       "      <th>1874</th>\n",
       "      <td>5.22</td>\n",
       "      <td>9.23</td>\n",
       "      <td>5.36</td>\n",
       "      <td>11.84</td>\n",
       "      <td>1.49</td>\n",
       "      <td>2.87</td>\n",
       "      <td>2.65</td>\n",
       "      <td>3.52</td>\n",
       "      <td>3.12</td>\n",
       "      <td>2.63</td>\n",
       "      <td>6.12</td>\n",
       "      <td>4.19</td>\n",
       "    </tr>\n",
       "    <tr>\n",
       "      <th>1875</th>\n",
       "      <td>6.15</td>\n",
       "      <td>3.06</td>\n",
       "      <td>8.14</td>\n",
       "      <td>4.22</td>\n",
       "      <td>1.73</td>\n",
       "      <td>5.63</td>\n",
       "      <td>8.12</td>\n",
       "      <td>1.60</td>\n",
       "      <td>3.79</td>\n",
       "      <td>1.25</td>\n",
       "      <td>5.46</td>\n",
       "      <td>4.30</td>\n",
       "    </tr>\n",
       "    <tr>\n",
       "      <th>1876</th>\n",
       "      <td>6.41</td>\n",
       "      <td>2.22</td>\n",
       "      <td>5.28</td>\n",
       "      <td>3.62</td>\n",
       "      <td>3.40</td>\n",
       "      <td>5.65</td>\n",
       "      <td>7.15</td>\n",
       "      <td>5.77</td>\n",
       "      <td>2.52</td>\n",
       "      <td>2.68</td>\n",
       "      <td>1.26</td>\n",
       "      <td>0.95</td>\n",
       "    </tr>\n",
       "    <tr>\n",
       "      <th>1877</th>\n",
       "      <td>4.05</td>\n",
       "      <td>1.06</td>\n",
       "      <td>4.98</td>\n",
       "      <td>9.47</td>\n",
       "      <td>1.25</td>\n",
       "      <td>6.02</td>\n",
       "      <td>3.25</td>\n",
       "      <td>4.16</td>\n",
       "      <td>5.40</td>\n",
       "      <td>2.61</td>\n",
       "      <td>4.93</td>\n",
       "      <td>2.49</td>\n",
       "    </tr>\n",
       "    <tr>\n",
       "      <th>1878</th>\n",
       "      <td>3.34</td>\n",
       "      <td>2.10</td>\n",
       "      <td>3.48</td>\n",
       "      <td>6.88</td>\n",
       "      <td>2.33</td>\n",
       "      <td>3.28</td>\n",
       "      <td>9.43</td>\n",
       "      <td>5.02</td>\n",
       "      <td>1.28</td>\n",
       "      <td>2.17</td>\n",
       "      <td>3.20</td>\n",
       "      <td>6.04</td>\n",
       "    </tr>\n",
       "    <tr>\n",
       "      <th>1879</th>\n",
       "      <td>6.32</td>\n",
       "      <td>3.13</td>\n",
       "      <td>3.81</td>\n",
       "      <td>2.88</td>\n",
       "      <td>2.88</td>\n",
       "      <td>2.50</td>\n",
       "      <td>8.47</td>\n",
       "      <td>4.62</td>\n",
       "      <td>5.18</td>\n",
       "      <td>2.90</td>\n",
       "      <td>5.85</td>\n",
       "      <td>9.15</td>\n",
       "    </tr>\n",
       "    <tr>\n",
       "      <th>1880</th>\n",
       "      <td>3.74</td>\n",
       "      <td>12.37</td>\n",
       "      <td>8.16</td>\n",
       "      <td>5.26</td>\n",
       "      <td>4.13</td>\n",
       "      <td>3.97</td>\n",
       "      <td>5.69</td>\n",
       "      <td>2.22</td>\n",
       "      <td>5.39</td>\n",
       "      <td>7.24</td>\n",
       "      <td>5.77</td>\n",
       "      <td>3.32</td>\n",
       "    </tr>\n",
       "    <tr>\n",
       "      <th>1881</th>\n",
       "      <td>3.54</td>\n",
       "      <td>5.48</td>\n",
       "      <td>2.79</td>\n",
       "      <td>5.12</td>\n",
       "      <td>3.67</td>\n",
       "      <td>3.70</td>\n",
       "      <td>0.86</td>\n",
       "      <td>1.81</td>\n",
       "      <td>6.57</td>\n",
       "      <td>4.80</td>\n",
       "      <td>4.89</td>\n",
       "      <td>4.85</td>\n",
       "    </tr>\n",
       "    <tr>\n",
       "      <th>1882</th>\n",
       "      <td>14.51</td>\n",
       "      <td>8.61</td>\n",
       "      <td>9.38</td>\n",
       "      <td>3.59</td>\n",
       "      <td>7.38</td>\n",
       "      <td>2.54</td>\n",
       "      <td>4.06</td>\n",
       "      <td>5.54</td>\n",
       "      <td>1.61</td>\n",
       "      <td>1.11</td>\n",
       "      <td>3.60</td>\n",
       "      <td>1.52</td>\n",
       "    </tr>\n",
       "    <tr>\n",
       "      <th>1883</th>\n",
       "      <td>3.76</td>\n",
       "      <td>7.90</td>\n",
       "      <td>3.98</td>\n",
       "      <td>9.12</td>\n",
       "      <td>4.82</td>\n",
       "      <td>3.82</td>\n",
       "      <td>4.94</td>\n",
       "      <td>4.47</td>\n",
       "      <td>2.23</td>\n",
       "      <td>5.27</td>\n",
       "      <td>3.11</td>\n",
       "      <td>4.97</td>\n",
       "    </tr>\n",
       "    <tr>\n",
       "      <th>1884</th>\n",
       "      <td>7.20</td>\n",
       "      <td>8.18</td>\n",
       "      <td>8.89</td>\n",
       "      <td>3.51</td>\n",
       "      <td>3.58</td>\n",
       "      <td>6.53</td>\n",
       "      <td>3.18</td>\n",
       "      <td>2.81</td>\n",
       "      <td>2.36</td>\n",
       "      <td>2.43</td>\n",
       "      <td>1.57</td>\n",
       "      <td>3.78</td>\n",
       "    </tr>\n",
       "    <tr>\n",
       "      <th>1885</th>\n",
       "      <td>6.29</td>\n",
       "      <td>2.00</td>\n",
       "      <td>2.33</td>\n",
       "      <td>3.75</td>\n",
       "      <td>4.36</td>\n",
       "      <td>3.72</td>\n",
       "      <td>5.26</td>\n",
       "      <td>1.02</td>\n",
       "      <td>5.60</td>\n",
       "      <td>2.99</td>\n",
       "      <td>2.73</td>\n",
       "      <td>2.90</td>\n",
       "    </tr>\n",
       "    <tr>\n",
       "      <th>1886</th>\n",
       "      <td>5.18</td>\n",
       "      <td>3.82</td>\n",
       "      <td>4.76</td>\n",
       "      <td>2.36</td>\n",
       "      <td>2.10</td>\n",
       "      <td>7.69</td>\n",
       "      <td>1.90</td>\n",
       "      <td>5.50</td>\n",
       "      <td>3.68</td>\n",
       "      <td>0.51</td>\n",
       "      <td>5.76</td>\n",
       "      <td>1.48</td>\n",
       "    </tr>\n",
       "    <tr>\n",
       "      <th>1887</th>\n",
       "      <td>5.13</td>\n",
       "      <td>8.47</td>\n",
       "      <td>3.36</td>\n",
       "      <td>2.67</td>\n",
       "      <td>3.43</td>\n",
       "      <td>2.31</td>\n",
       "      <td>3.77</td>\n",
       "      <td>2.89</td>\n",
       "      <td>6.85</td>\n",
       "      <td>1.92</td>\n",
       "      <td>2.29</td>\n",
       "      <td>5.31</td>\n",
       "    </tr>\n",
       "    <tr>\n",
       "      <th>1888</th>\n",
       "      <td>6.29</td>\n",
       "      <td>3.78</td>\n",
       "      <td>6.46</td>\n",
       "      <td>4.18</td>\n",
       "      <td>2.97</td>\n",
       "      <td>4.68</td>\n",
       "      <td>2.36</td>\n",
       "      <td>7.03</td>\n",
       "      <td>3.82</td>\n",
       "      <td>2.82</td>\n",
       "      <td>4.33</td>\n",
       "      <td>1.77</td>\n",
       "    </tr>\n",
       "    <tr>\n",
       "      <th>1889</th>\n",
       "      <td>3.83</td>\n",
       "      <td>1.84</td>\n",
       "      <td>2.47</td>\n",
       "      <td>2.83</td>\n",
       "      <td>5.30</td>\n",
       "      <td>5.33</td>\n",
       "      <td>2.74</td>\n",
       "      <td>1.57</td>\n",
       "      <td>6.81</td>\n",
       "      <td>1.54</td>\n",
       "      <td>6.88</td>\n",
       "      <td>1.17</td>\n",
       "    </tr>\n",
       "    <tr>\n",
       "      <th>1890</th>\n",
       "      <td>8.10</td>\n",
       "      <td>10.95</td>\n",
       "      <td>8.64</td>\n",
       "      <td>3.84</td>\n",
       "      <td>4.16</td>\n",
       "      <td>2.23</td>\n",
       "      <td>0.46</td>\n",
       "      <td>6.59</td>\n",
       "      <td>5.86</td>\n",
       "      <td>3.01</td>\n",
       "      <td>2.01</td>\n",
       "      <td>4.12</td>\n",
       "    </tr>\n",
       "    <tr>\n",
       "      <th>1891</th>\n",
       "      <td>6.15</td>\n",
       "      <td>6.96</td>\n",
       "      <td>10.31</td>\n",
       "      <td>2.24</td>\n",
       "      <td>2.39</td>\n",
       "      <td>6.50</td>\n",
       "      <td>1.49</td>\n",
       "      <td>3.72</td>\n",
       "      <td>1.25</td>\n",
       "      <td>0.84</td>\n",
       "      <td>6.71</td>\n",
       "      <td>4.26</td>\n",
       "    </tr>\n",
       "    <tr>\n",
       "      <th>1892</th>\n",
       "      <td>2.81</td>\n",
       "      <td>2.73</td>\n",
       "      <td>4.10</td>\n",
       "      <td>7.45</td>\n",
       "      <td>4.03</td>\n",
       "      <td>5.01</td>\n",
       "      <td>5.13</td>\n",
       "      <td>3.39</td>\n",
       "      <td>4.78</td>\n",
       "      <td>0.25</td>\n",
       "      <td>3.91</td>\n",
       "      <td>6.43</td>\n",
       "    </tr>\n",
       "    <tr>\n",
       "      <th>1893</th>\n",
       "      <td>1.27</td>\n",
       "      <td>4.88</td>\n",
       "      <td>3.37</td>\n",
       "      <td>4.11</td>\n",
       "      <td>7.31</td>\n",
       "      <td>4.74</td>\n",
       "      <td>2.12</td>\n",
       "      <td>1.92</td>\n",
       "      <td>6.43</td>\n",
       "      <td>3.68</td>\n",
       "      <td>2.97</td>\n",
       "      <td>3.50</td>\n",
       "    </tr>\n",
       "    <tr>\n",
       "      <th>1894</th>\n",
       "      <td>4.28</td>\n",
       "      <td>8.65</td>\n",
       "      <td>2.69</td>\n",
       "      <td>4.05</td>\n",
       "      <td>2.53</td>\n",
       "      <td>3.55</td>\n",
       "      <td>5.45</td>\n",
       "      <td>2.43</td>\n",
       "      <td>3.07</td>\n",
       "      <td>0.53</td>\n",
       "      <td>1.92</td>\n",
       "      <td>2.81</td>\n",
       "    </tr>\n",
       "    <tr>\n",
       "      <th>1895</th>\n",
       "      <td>5.71</td>\n",
       "      <td>0.98</td>\n",
       "      <td>5.09</td>\n",
       "      <td>3.07</td>\n",
       "      <td>2.05</td>\n",
       "      <td>2.90</td>\n",
       "      <td>7.14</td>\n",
       "      <td>1.40</td>\n",
       "      <td>6.69</td>\n",
       "      <td>1.57</td>\n",
       "      <td>2.14</td>\n",
       "      <td>4.09</td>\n",
       "    </tr>\n",
       "    <tr>\n",
       "      <th>1896</th>\n",
       "      <td>1.37</td>\n",
       "      <td>3.65</td>\n",
       "      <td>6.45</td>\n",
       "      <td>2.92</td>\n",
       "      <td>4.05</td>\n",
       "      <td>1.82</td>\n",
       "      <td>7.33</td>\n",
       "      <td>1.40</td>\n",
       "      <td>2.74</td>\n",
       "      <td>0.98</td>\n",
       "      <td>5.71</td>\n",
       "      <td>1.79</td>\n",
       "    </tr>\n",
       "    <tr>\n",
       "      <th>1897</th>\n",
       "      <td>3.13</td>\n",
       "      <td>3.84</td>\n",
       "      <td>8.49</td>\n",
       "      <td>5.79</td>\n",
       "      <td>1.22</td>\n",
       "      <td>1.82</td>\n",
       "      <td>8.53</td>\n",
       "      <td>2.34</td>\n",
       "      <td>0.19</td>\n",
       "      <td>0.92</td>\n",
       "      <td>2.83</td>\n",
       "      <td>4.93</td>\n",
       "    </tr>\n",
       "    <tr>\n",
       "      <th>1898</th>\n",
       "      <td>9.46</td>\n",
       "      <td>0.63</td>\n",
       "      <td>5.36</td>\n",
       "      <td>3.16</td>\n",
       "      <td>1.80</td>\n",
       "      <td>4.97</td>\n",
       "      <td>4.50</td>\n",
       "      <td>6.56</td>\n",
       "      <td>4.87</td>\n",
       "      <td>3.21</td>\n",
       "      <td>3.09</td>\n",
       "      <td>2.41</td>\n",
       "    </tr>\n",
       "    <tr>\n",
       "      <th>1899</th>\n",
       "      <td>5.59</td>\n",
       "      <td>5.19</td>\n",
       "      <td>7.81</td>\n",
       "      <td>3.25</td>\n",
       "      <td>3.36</td>\n",
       "      <td>0.75</td>\n",
       "      <td>6.44</td>\n",
       "      <td>2.53</td>\n",
       "      <td>1.50</td>\n",
       "      <td>1.83</td>\n",
       "      <td>1.55</td>\n",
       "      <td>4.64</td>\n",
       "    </tr>\n",
       "    <tr>\n",
       "      <th>1900</th>\n",
       "      <td>2.61</td>\n",
       "      <td>3.80</td>\n",
       "      <td>2.20</td>\n",
       "      <td>4.04</td>\n",
       "      <td>1.86</td>\n",
       "      <td>10.35</td>\n",
       "      <td>2.87</td>\n",
       "      <td>1.24</td>\n",
       "      <td>4.55</td>\n",
       "      <td>3.93</td>\n",
       "      <td>8.87</td>\n",
       "      <td>2.22</td>\n",
       "    </tr>\n",
       "    <tr>\n",
       "      <th>...</th>\n",
       "      <td>...</td>\n",
       "      <td>...</td>\n",
       "      <td>...</td>\n",
       "      <td>...</td>\n",
       "      <td>...</td>\n",
       "      <td>...</td>\n",
       "      <td>...</td>\n",
       "      <td>...</td>\n",
       "      <td>...</td>\n",
       "      <td>...</td>\n",
       "      <td>...</td>\n",
       "      <td>...</td>\n",
       "    </tr>\n",
       "    <tr>\n",
       "      <th>1982</th>\n",
       "      <td>6.50</td>\n",
       "      <td>4.80</td>\n",
       "      <td>3.00</td>\n",
       "      <td>4.36</td>\n",
       "      <td>4.19</td>\n",
       "      <td>2.28</td>\n",
       "      <td>5.47</td>\n",
       "      <td>3.46</td>\n",
       "      <td>3.23</td>\n",
       "      <td>1.91</td>\n",
       "      <td>3.87</td>\n",
       "      <td>6.36</td>\n",
       "    </tr>\n",
       "    <tr>\n",
       "      <th>1983</th>\n",
       "      <td>2.56</td>\n",
       "      <td>2.93</td>\n",
       "      <td>3.44</td>\n",
       "      <td>6.80</td>\n",
       "      <td>11.04</td>\n",
       "      <td>3.93</td>\n",
       "      <td>1.71</td>\n",
       "      <td>1.36</td>\n",
       "      <td>0.45</td>\n",
       "      <td>2.77</td>\n",
       "      <td>6.98</td>\n",
       "      <td>7.75</td>\n",
       "    </tr>\n",
       "    <tr>\n",
       "      <th>1984</th>\n",
       "      <td>1.79</td>\n",
       "      <td>2.38</td>\n",
       "      <td>5.14</td>\n",
       "      <td>8.41</td>\n",
       "      <td>9.68</td>\n",
       "      <td>4.49</td>\n",
       "      <td>6.63</td>\n",
       "      <td>2.42</td>\n",
       "      <td>0.97</td>\n",
       "      <td>6.00</td>\n",
       "      <td>6.20</td>\n",
       "      <td>2.38</td>\n",
       "    </tr>\n",
       "    <tr>\n",
       "      <th>1985</th>\n",
       "      <td>3.02</td>\n",
       "      <td>3.30</td>\n",
       "      <td>2.70</td>\n",
       "      <td>2.91</td>\n",
       "      <td>2.65</td>\n",
       "      <td>1.53</td>\n",
       "      <td>2.00</td>\n",
       "      <td>3.91</td>\n",
       "      <td>2.52</td>\n",
       "      <td>1.59</td>\n",
       "      <td>3.81</td>\n",
       "      <td>0.98</td>\n",
       "    </tr>\n",
       "    <tr>\n",
       "      <th>1986</th>\n",
       "      <td>0.19</td>\n",
       "      <td>3.59</td>\n",
       "      <td>2.29</td>\n",
       "      <td>0.52</td>\n",
       "      <td>3.36</td>\n",
       "      <td>2.38</td>\n",
       "      <td>0.77</td>\n",
       "      <td>3.38</td>\n",
       "      <td>2.19</td>\n",
       "      <td>2.19</td>\n",
       "      <td>7.43</td>\n",
       "      <td>3.31</td>\n",
       "    </tr>\n",
       "    <tr>\n",
       "      <th>1987</th>\n",
       "      <td>1.61</td>\n",
       "      <td>4.87</td>\n",
       "      <td>1.18</td>\n",
       "      <td>1.03</td>\n",
       "      <td>4.41</td>\n",
       "      <td>2.82</td>\n",
       "      <td>2.56</td>\n",
       "      <td>0.73</td>\n",
       "      <td>1.95</td>\n",
       "      <td>0.21</td>\n",
       "      <td>3.40</td>\n",
       "      <td>5.46</td>\n",
       "    </tr>\n",
       "    <tr>\n",
       "      <th>1988</th>\n",
       "      <td>3.73</td>\n",
       "      <td>2.02</td>\n",
       "      <td>2.18</td>\n",
       "      <td>2.09</td>\n",
       "      <td>1.86</td>\n",
       "      <td>0.45</td>\n",
       "      <td>3.26</td>\n",
       "      <td>2.39</td>\n",
       "      <td>2.45</td>\n",
       "      <td>1.54</td>\n",
       "      <td>5.49</td>\n",
       "      <td>3.95</td>\n",
       "    </tr>\n",
       "    <tr>\n",
       "      <th>1989</th>\n",
       "      <td>4.52</td>\n",
       "      <td>9.36</td>\n",
       "      <td>5.31</td>\n",
       "      <td>2.68</td>\n",
       "      <td>4.61</td>\n",
       "      <td>7.87</td>\n",
       "      <td>3.18</td>\n",
       "      <td>3.67</td>\n",
       "      <td>6.30</td>\n",
       "      <td>3.62</td>\n",
       "      <td>3.94</td>\n",
       "      <td>1.97</td>\n",
       "    </tr>\n",
       "    <tr>\n",
       "      <th>1990</th>\n",
       "      <td>2.76</td>\n",
       "      <td>4.73</td>\n",
       "      <td>3.26</td>\n",
       "      <td>1.60</td>\n",
       "      <td>2.80</td>\n",
       "      <td>2.37</td>\n",
       "      <td>4.86</td>\n",
       "      <td>3.12</td>\n",
       "      <td>2.13</td>\n",
       "      <td>4.41</td>\n",
       "      <td>4.29</td>\n",
       "      <td>10.76</td>\n",
       "    </tr>\n",
       "    <tr>\n",
       "      <th>1991</th>\n",
       "      <td>2.92</td>\n",
       "      <td>5.44</td>\n",
       "      <td>4.25</td>\n",
       "      <td>3.35</td>\n",
       "      <td>5.63</td>\n",
       "      <td>1.25</td>\n",
       "      <td>2.82</td>\n",
       "      <td>1.79</td>\n",
       "      <td>5.47</td>\n",
       "      <td>3.88</td>\n",
       "      <td>2.87</td>\n",
       "      <td>7.27</td>\n",
       "    </tr>\n",
       "    <tr>\n",
       "      <th>1992</th>\n",
       "      <td>2.97</td>\n",
       "      <td>2.60</td>\n",
       "      <td>4.50</td>\n",
       "      <td>0.77</td>\n",
       "      <td>3.12</td>\n",
       "      <td>4.31</td>\n",
       "      <td>5.89</td>\n",
       "      <td>3.25</td>\n",
       "      <td>3.45</td>\n",
       "      <td>1.62</td>\n",
       "      <td>4.48</td>\n",
       "      <td>2.88</td>\n",
       "    </tr>\n",
       "    <tr>\n",
       "      <th>1993</th>\n",
       "      <td>2.76</td>\n",
       "      <td>3.33</td>\n",
       "      <td>5.50</td>\n",
       "      <td>3.33</td>\n",
       "      <td>4.50</td>\n",
       "      <td>5.31</td>\n",
       "      <td>3.64</td>\n",
       "      <td>1.76</td>\n",
       "      <td>2.90</td>\n",
       "      <td>2.20</td>\n",
       "      <td>2.53</td>\n",
       "      <td>6.62</td>\n",
       "    </tr>\n",
       "    <tr>\n",
       "      <th>1994</th>\n",
       "      <td>4.36</td>\n",
       "      <td>6.18</td>\n",
       "      <td>7.56</td>\n",
       "      <td>5.72</td>\n",
       "      <td>3.76</td>\n",
       "      <td>8.08</td>\n",
       "      <td>4.82</td>\n",
       "      <td>5.05</td>\n",
       "      <td>4.20</td>\n",
       "      <td>3.31</td>\n",
       "      <td>4.04</td>\n",
       "      <td>2.69</td>\n",
       "    </tr>\n",
       "    <tr>\n",
       "      <th>1995</th>\n",
       "      <td>5.61</td>\n",
       "      <td>1.81</td>\n",
       "      <td>3.87</td>\n",
       "      <td>3.95</td>\n",
       "      <td>7.66</td>\n",
       "      <td>3.69</td>\n",
       "      <td>1.95</td>\n",
       "      <td>3.40</td>\n",
       "      <td>5.00</td>\n",
       "      <td>5.60</td>\n",
       "      <td>3.98</td>\n",
       "      <td>2.32</td>\n",
       "    </tr>\n",
       "    <tr>\n",
       "      <th>1996</th>\n",
       "      <td>3.82</td>\n",
       "      <td>2.46</td>\n",
       "      <td>5.15</td>\n",
       "      <td>3.68</td>\n",
       "      <td>4.48</td>\n",
       "      <td>3.68</td>\n",
       "      <td>5.45</td>\n",
       "      <td>1.09</td>\n",
       "      <td>4.88</td>\n",
       "      <td>3.16</td>\n",
       "      <td>6.00</td>\n",
       "      <td>4.77</td>\n",
       "    </tr>\n",
       "    <tr>\n",
       "      <th>1997</th>\n",
       "      <td>4.19</td>\n",
       "      <td>3.10</td>\n",
       "      <td>9.64</td>\n",
       "      <td>2.42</td>\n",
       "      <td>4.92</td>\n",
       "      <td>6.66</td>\n",
       "      <td>3.26</td>\n",
       "      <td>3.52</td>\n",
       "      <td>5.75</td>\n",
       "      <td>2.71</td>\n",
       "      <td>6.59</td>\n",
       "      <td>2.19</td>\n",
       "    </tr>\n",
       "    <tr>\n",
       "      <th>1998</th>\n",
       "      <td>3.68</td>\n",
       "      <td>4.11</td>\n",
       "      <td>3.13</td>\n",
       "      <td>6.31</td>\n",
       "      <td>4.46</td>\n",
       "      <td>11.95</td>\n",
       "      <td>4.63</td>\n",
       "      <td>2.93</td>\n",
       "      <td>1.39</td>\n",
       "      <td>1.59</td>\n",
       "      <td>1.30</td>\n",
       "      <td>6.53</td>\n",
       "    </tr>\n",
       "    <tr>\n",
       "      <th>1999</th>\n",
       "      <td>9.28</td>\n",
       "      <td>2.33</td>\n",
       "      <td>4.27</td>\n",
       "      <td>2.29</td>\n",
       "      <td>4.35</td>\n",
       "      <td>3.56</td>\n",
       "      <td>3.19</td>\n",
       "      <td>3.05</td>\n",
       "      <td>1.97</td>\n",
       "      <td>2.04</td>\n",
       "      <td>2.99</td>\n",
       "      <td>2.50</td>\n",
       "    </tr>\n",
       "    <tr>\n",
       "      <th>2000</th>\n",
       "      <td>3.52</td>\n",
       "      <td>3.75</td>\n",
       "      <td>3.34</td>\n",
       "      <td>6.23</td>\n",
       "      <td>7.66</td>\n",
       "      <td>1.74</td>\n",
       "      <td>2.25</td>\n",
       "      <td>1.95</td>\n",
       "      <td>1.90</td>\n",
       "      <td>0.26</td>\n",
       "      <td>6.39</td>\n",
       "      <td>3.44</td>\n",
       "    </tr>\n",
       "    <tr>\n",
       "      <th>2001</th>\n",
       "      <td>3.21</td>\n",
       "      <td>8.54</td>\n",
       "      <td>2.73</td>\n",
       "      <td>2.42</td>\n",
       "      <td>5.54</td>\n",
       "      <td>4.47</td>\n",
       "      <td>2.77</td>\n",
       "      <td>4.07</td>\n",
       "      <td>1.79</td>\n",
       "      <td>4.61</td>\n",
       "      <td>5.09</td>\n",
       "      <td>3.32</td>\n",
       "    </tr>\n",
       "    <tr>\n",
       "      <th>2002</th>\n",
       "      <td>4.93</td>\n",
       "      <td>1.99</td>\n",
       "      <td>9.40</td>\n",
       "      <td>4.31</td>\n",
       "      <td>3.98</td>\n",
       "      <td>3.76</td>\n",
       "      <td>5.64</td>\n",
       "      <td>3.13</td>\n",
       "      <td>6.29</td>\n",
       "      <td>4.48</td>\n",
       "      <td>2.91</td>\n",
       "      <td>5.81</td>\n",
       "    </tr>\n",
       "    <tr>\n",
       "      <th>2003</th>\n",
       "      <td>1.59</td>\n",
       "      <td>8.47</td>\n",
       "      <td>2.30</td>\n",
       "      <td>4.69</td>\n",
       "      <td>10.73</td>\n",
       "      <td>7.08</td>\n",
       "      <td>2.87</td>\n",
       "      <td>3.88</td>\n",
       "      <td>8.70</td>\n",
       "      <td>1.80</td>\n",
       "      <td>4.17</td>\n",
       "      <td>3.19</td>\n",
       "    </tr>\n",
       "    <tr>\n",
       "      <th>2004</th>\n",
       "      <td>3.60</td>\n",
       "      <td>5.77</td>\n",
       "      <td>4.81</td>\n",
       "      <td>6.69</td>\n",
       "      <td>6.90</td>\n",
       "      <td>3.39</td>\n",
       "      <td>3.19</td>\n",
       "      <td>4.24</td>\n",
       "      <td>4.55</td>\n",
       "      <td>4.90</td>\n",
       "      <td>5.21</td>\n",
       "      <td>5.93</td>\n",
       "    </tr>\n",
       "    <tr>\n",
       "      <th>2005</th>\n",
       "      <td>4.42</td>\n",
       "      <td>3.84</td>\n",
       "      <td>3.90</td>\n",
       "      <td>6.93</td>\n",
       "      <td>1.03</td>\n",
       "      <td>2.70</td>\n",
       "      <td>2.39</td>\n",
       "      <td>6.89</td>\n",
       "      <td>1.44</td>\n",
       "      <td>0.02</td>\n",
       "      <td>3.29</td>\n",
       "      <td>2.46</td>\n",
       "    </tr>\n",
       "    <tr>\n",
       "      <th>2006</th>\n",
       "      <td>6.57</td>\n",
       "      <td>2.69</td>\n",
       "      <td>2.90</td>\n",
       "      <td>4.14</td>\n",
       "      <td>4.95</td>\n",
       "      <td>2.19</td>\n",
       "      <td>2.64</td>\n",
       "      <td>5.20</td>\n",
       "      <td>4.00</td>\n",
       "      <td>2.98</td>\n",
       "      <td>4.05</td>\n",
       "      <td>3.41</td>\n",
       "    </tr>\n",
       "    <tr>\n",
       "      <th>2007</th>\n",
       "      <td>3.32</td>\n",
       "      <td>1.84</td>\n",
       "      <td>2.26</td>\n",
       "      <td>2.75</td>\n",
       "      <td>3.30</td>\n",
       "      <td>2.37</td>\n",
       "      <td>1.47</td>\n",
       "      <td>1.38</td>\n",
       "      <td>1.99</td>\n",
       "      <td>4.95</td>\n",
       "      <td>6.20</td>\n",
       "      <td>3.83</td>\n",
       "    </tr>\n",
       "    <tr>\n",
       "      <th>2008</th>\n",
       "      <td>4.76</td>\n",
       "      <td>2.53</td>\n",
       "      <td>5.56</td>\n",
       "      <td>7.20</td>\n",
       "      <td>5.54</td>\n",
       "      <td>2.21</td>\n",
       "      <td>4.32</td>\n",
       "      <td>1.67</td>\n",
       "      <td>0.88</td>\n",
       "      <td>5.03</td>\n",
       "      <td>1.75</td>\n",
       "      <td>6.72</td>\n",
       "    </tr>\n",
       "    <tr>\n",
       "      <th>2009</th>\n",
       "      <td>4.59</td>\n",
       "      <td>2.85</td>\n",
       "      <td>2.92</td>\n",
       "      <td>4.13</td>\n",
       "      <td>8.45</td>\n",
       "      <td>4.53</td>\n",
       "      <td>6.03</td>\n",
       "      <td>2.14</td>\n",
       "      <td>11.08</td>\n",
       "      <td>6.49</td>\n",
       "      <td>0.67</td>\n",
       "      <td>3.99</td>\n",
       "    </tr>\n",
       "    <tr>\n",
       "      <th>2010</th>\n",
       "      <td>4.13</td>\n",
       "      <td>2.77</td>\n",
       "      <td>3.52</td>\n",
       "      <td>3.48</td>\n",
       "      <td>16.43</td>\n",
       "      <td>4.96</td>\n",
       "      <td>5.86</td>\n",
       "      <td>6.99</td>\n",
       "      <td>1.17</td>\n",
       "      <td>2.49</td>\n",
       "      <td>5.41</td>\n",
       "      <td>1.87</td>\n",
       "    </tr>\n",
       "    <tr>\n",
       "      <th>2011</th>\n",
       "      <td>2.31</td>\n",
       "      <td>5.54</td>\n",
       "      <td>4.59</td>\n",
       "      <td>7.51</td>\n",
       "      <td>4.38</td>\n",
       "      <td>5.04</td>\n",
       "      <td>3.46</td>\n",
       "      <td>1.78</td>\n",
       "      <td>6.20</td>\n",
       "      <td>0.93</td>\n",
       "      <td>6.15</td>\n",
       "      <td>4.25</td>\n",
       "    </tr>\n",
       "  </tbody>\n",
       "</table>\n",
       "<p>141 rows × 12 columns</p>\n",
       "</div>"
      ],
      "text/plain": [
       "        Jan    Feb    Mar    Apr    May    Jun   Jul   Aug    Sep   Oct   Nov  \\\n",
       "Year                                                                            \n",
       "1871   2.76   4.58   5.01   4.13   3.30   2.98  1.58  2.36   0.95  1.31  2.13   \n",
       "1872   2.32   2.11   3.14   5.91   3.09   5.17  6.10  1.65   4.50  1.58  2.25   \n",
       "1873   2.96   7.14   4.11   3.59   6.31   4.20  4.63  2.36   1.81  4.28  4.36   \n",
       "1874   5.22   9.23   5.36  11.84   1.49   2.87  2.65  3.52   3.12  2.63  6.12   \n",
       "1875   6.15   3.06   8.14   4.22   1.73   5.63  8.12  1.60   3.79  1.25  5.46   \n",
       "1876   6.41   2.22   5.28   3.62   3.40   5.65  7.15  5.77   2.52  2.68  1.26   \n",
       "1877   4.05   1.06   4.98   9.47   1.25   6.02  3.25  4.16   5.40  2.61  4.93   \n",
       "1878   3.34   2.10   3.48   6.88   2.33   3.28  9.43  5.02   1.28  2.17  3.20   \n",
       "1879   6.32   3.13   3.81   2.88   2.88   2.50  8.47  4.62   5.18  2.90  5.85   \n",
       "1880   3.74  12.37   8.16   5.26   4.13   3.97  5.69  2.22   5.39  7.24  5.77   \n",
       "1881   3.54   5.48   2.79   5.12   3.67   3.70  0.86  1.81   6.57  4.80  4.89   \n",
       "1882  14.51   8.61   9.38   3.59   7.38   2.54  4.06  5.54   1.61  1.11  3.60   \n",
       "1883   3.76   7.90   3.98   9.12   4.82   3.82  4.94  4.47   2.23  5.27  3.11   \n",
       "1884   7.20   8.18   8.89   3.51   3.58   6.53  3.18  2.81   2.36  2.43  1.57   \n",
       "1885   6.29   2.00   2.33   3.75   4.36   3.72  5.26  1.02   5.60  2.99  2.73   \n",
       "1886   5.18   3.82   4.76   2.36   2.10   7.69  1.90  5.50   3.68  0.51  5.76   \n",
       "1887   5.13   8.47   3.36   2.67   3.43   2.31  3.77  2.89   6.85  1.92  2.29   \n",
       "1888   6.29   3.78   6.46   4.18   2.97   4.68  2.36  7.03   3.82  2.82  4.33   \n",
       "1889   3.83   1.84   2.47   2.83   5.30   5.33  2.74  1.57   6.81  1.54  6.88   \n",
       "1890   8.10  10.95   8.64   3.84   4.16   2.23  0.46  6.59   5.86  3.01  2.01   \n",
       "1891   6.15   6.96  10.31   2.24   2.39   6.50  1.49  3.72   1.25  0.84  6.71   \n",
       "1892   2.81   2.73   4.10   7.45   4.03   5.01  5.13  3.39   4.78  0.25  3.91   \n",
       "1893   1.27   4.88   3.37   4.11   7.31   4.74  2.12  1.92   6.43  3.68  2.97   \n",
       "1894   4.28   8.65   2.69   4.05   2.53   3.55  5.45  2.43   3.07  0.53  1.92   \n",
       "1895   5.71   0.98   5.09   3.07   2.05   2.90  7.14  1.40   6.69  1.57  2.14   \n",
       "1896   1.37   3.65   6.45   2.92   4.05   1.82  7.33  1.40   2.74  0.98  5.71   \n",
       "1897   3.13   3.84   8.49   5.79   1.22   1.82  8.53  2.34   0.19  0.92  2.83   \n",
       "1898   9.46   0.63   5.36   3.16   1.80   4.97  4.50  6.56   4.87  3.21  3.09   \n",
       "1899   5.59   5.19   7.81   3.25   3.36   0.75  6.44  2.53   1.50  1.83  1.55   \n",
       "1900   2.61   3.80   2.20   4.04   1.86  10.35  2.87  1.24   4.55  3.93  8.87   \n",
       "...     ...    ...    ...    ...    ...    ...   ...   ...    ...   ...   ...   \n",
       "1982   6.50   4.80   3.00   4.36   4.19   2.28  5.47  3.46   3.23  1.91  3.87   \n",
       "1983   2.56   2.93   3.44   6.80  11.04   3.93  1.71  1.36   0.45  2.77  6.98   \n",
       "1984   1.79   2.38   5.14   8.41   9.68   4.49  6.63  2.42   0.97  6.00  6.20   \n",
       "1985   3.02   3.30   2.70   2.91   2.65   1.53  2.00  3.91   2.52  1.59  3.81   \n",
       "1986   0.19   3.59   2.29   0.52   3.36   2.38  0.77  3.38   2.19  2.19  7.43   \n",
       "1987   1.61   4.87   1.18   1.03   4.41   2.82  2.56  0.73   1.95  0.21  3.40   \n",
       "1988   3.73   2.02   2.18   2.09   1.86   0.45  3.26  2.39   2.45  1.54  5.49   \n",
       "1989   4.52   9.36   5.31   2.68   4.61   7.87  3.18  3.67   6.30  3.62  3.94   \n",
       "1990   2.76   4.73   3.26   1.60   2.80   2.37  4.86  3.12   2.13  4.41  4.29   \n",
       "1991   2.92   5.44   4.25   3.35   5.63   1.25  2.82  1.79   5.47  3.88  2.87   \n",
       "1992   2.97   2.60   4.50   0.77   3.12   4.31  5.89  3.25   3.45  1.62  4.48   \n",
       "1993   2.76   3.33   5.50   3.33   4.50   5.31  3.64  1.76   2.90  2.20  2.53   \n",
       "1994   4.36   6.18   7.56   5.72   3.76   8.08  4.82  5.05   4.20  3.31  4.04   \n",
       "1995   5.61   1.81   3.87   3.95   7.66   3.69  1.95  3.40   5.00  5.60  3.98   \n",
       "1996   3.82   2.46   5.15   3.68   4.48   3.68  5.45  1.09   4.88  3.16  6.00   \n",
       "1997   4.19   3.10   9.64   2.42   4.92   6.66  3.26  3.52   5.75  2.71  6.59   \n",
       "1998   3.68   4.11   3.13   6.31   4.46  11.95  4.63  2.93   1.39  1.59  1.30   \n",
       "1999   9.28   2.33   4.27   2.29   4.35   3.56  3.19  3.05   1.97  2.04  2.99   \n",
       "2000   3.52   3.75   3.34   6.23   7.66   1.74  2.25  1.95   1.90  0.26  6.39   \n",
       "2001   3.21   8.54   2.73   2.42   5.54   4.47  2.77  4.07   1.79  4.61  5.09   \n",
       "2002   4.93   1.99   9.40   4.31   3.98   3.76  5.64  3.13   6.29  4.48  2.91   \n",
       "2003   1.59   8.47   2.30   4.69  10.73   7.08  2.87  3.88   8.70  1.80  4.17   \n",
       "2004   3.60   5.77   4.81   6.69   6.90   3.39  3.19  4.24   4.55  4.90  5.21   \n",
       "2005   4.42   3.84   3.90   6.93   1.03   2.70  2.39  6.89   1.44  0.02  3.29   \n",
       "2006   6.57   2.69   2.90   4.14   4.95   2.19  2.64  5.20   4.00  2.98  4.05   \n",
       "2007   3.32   1.84   2.26   2.75   3.30   2.37  1.47  1.38   1.99  4.95  6.20   \n",
       "2008   4.76   2.53   5.56   7.20   5.54   2.21  4.32  1.67   0.88  5.03  1.75   \n",
       "2009   4.59   2.85   2.92   4.13   8.45   4.53  6.03  2.14  11.08  6.49  0.67   \n",
       "2010   4.13   2.77   3.52   3.48  16.43   4.96  5.86  6.99   1.17  2.49  5.41   \n",
       "2011   2.31   5.54   4.59   7.51   4.38   5.04  3.46  1.78   6.20  0.93  6.15   \n",
       "\n",
       "        Dec  \n",
       "Year         \n",
       "1871   1.65  \n",
       "1872   2.38  \n",
       "1873   5.94  \n",
       "1874   4.19  \n",
       "1875   4.30  \n",
       "1876   0.95  \n",
       "1877   2.49  \n",
       "1878   6.04  \n",
       "1879   9.15  \n",
       "1880   3.32  \n",
       "1881   4.85  \n",
       "1882   1.52  \n",
       "1883   4.97  \n",
       "1884   3.78  \n",
       "1885   2.90  \n",
       "1886   1.48  \n",
       "1887   5.31  \n",
       "1888   1.77  \n",
       "1889   1.17  \n",
       "1890   4.12  \n",
       "1891   4.26  \n",
       "1892   6.43  \n",
       "1893   3.50  \n",
       "1894   2.81  \n",
       "1895   4.09  \n",
       "1896   1.79  \n",
       "1897   4.93  \n",
       "1898   2.41  \n",
       "1899   4.64  \n",
       "1900   2.22  \n",
       "...     ...  \n",
       "1982   6.36  \n",
       "1983   7.75  \n",
       "1984   2.38  \n",
       "1985   0.98  \n",
       "1986   3.31  \n",
       "1987   5.46  \n",
       "1988   3.95  \n",
       "1989   1.97  \n",
       "1990  10.76  \n",
       "1991   7.27  \n",
       "1992   2.88  \n",
       "1993   6.62  \n",
       "1994   2.69  \n",
       "1995   2.32  \n",
       "1996   4.77  \n",
       "1997   2.19  \n",
       "1998   6.53  \n",
       "1999   2.50  \n",
       "2000   3.44  \n",
       "2001   3.32  \n",
       "2002   5.81  \n",
       "2003   3.19  \n",
       "2004   5.93  \n",
       "2005   2.46  \n",
       "2006   3.41  \n",
       "2007   3.83  \n",
       "2008   6.72  \n",
       "2009   3.99  \n",
       "2010   1.87  \n",
       "2011   4.25  \n",
       "\n",
       "[141 rows x 12 columns]"
      ]
     },
     "execution_count": 5,
     "metadata": {},
     "output_type": "execute_result"
    }
   ],
   "source": [
    "precip.fillna(value={'Oct': precip.Oct.mean()}, inplace=True)\n",
    "precip"
   ]
  },
  {
   "cell_type": "markdown",
   "metadata": {},
   "source": [
    "### 1.3 Method of Moments\n",
    "\n",
    "The **method of moments** simply assigns the **empirical** (coming from the data) **mean** and **variance** to their **theoretical counterparts** (coming from the *model*, in this case the Gamma!), so that we can ***solve for the parameters***.\n",
    "\n",
    "So, for the gamma distribution, the mean and variance turn out to be (analytically derived):\n",
    "\n",
    "<div style=\"font-size: 120%;\">  \n",
    "$$ \\hat{\\mu} = \\bar{X} = \\alpha \\beta $$\n",
    "$$ \\hat{\\sigma}^2 = S^2 = \\alpha \\beta^2 $$\n",
    "</div>"
   ]
  },
  {
   "cell_type": "markdown",
   "metadata": {},
   "source": [
    "So, if we solve for these parameters, we can use a gamma distribution to describe our data:\n",
    "\n",
    "<div style=\"font-size: 120%;\">  \n",
    "$$ \\alpha = \\frac{\\bar{X}^2}{S^2}, \\, \\beta = \\frac{S^2}{\\bar{X}} $$\n",
    "</div>\n",
    "\n",
    "($\\bar{X}$ is the mean, while $S^2$ is the variance of each column of the dataset)."
   ]
  },
  {
   "cell_type": "markdown",
   "metadata": {},
   "source": [
    "Now, let's calculate the sample ***moments of interest***: the **means** and **variances** *month by month*:"
   ]
  },
  {
   "cell_type": "code",
   "execution_count": 6,
   "metadata": {},
   "outputs": [
    {
     "data": {
      "text/plain": [
       "Jan    4.523688\n",
       "Feb    4.097801\n",
       "Mar    4.977589\n",
       "Apr    4.204468\n",
       "May    4.325674\n",
       "Jun    3.873475\n",
       "Jul    3.895461\n",
       "Aug    3.367305\n",
       "Sep    3.377660\n",
       "Oct    2.610500\n",
       "Nov    3.685887\n",
       "Dec    4.176241\n",
       "dtype: float64"
      ]
     },
     "execution_count": 6,
     "metadata": {},
     "output_type": "execute_result"
    }
   ],
   "source": [
    "precip_mean = precip.mean()\n",
    "precip_mean"
   ]
  },
  {
   "cell_type": "code",
   "execution_count": 7,
   "metadata": {},
   "outputs": [
    {
     "data": {
      "text/plain": [
       "Jan    6.928862\n",
       "Feb    5.516660\n",
       "Mar    5.365444\n",
       "Apr    4.117096\n",
       "May    5.306409\n",
       "Jun    5.033206\n",
       "Jul    3.777012\n",
       "Aug    3.779876\n",
       "Sep    4.940099\n",
       "Oct    2.741659\n",
       "Nov    3.679274\n",
       "Dec    5.418022\n",
       "dtype: float64"
      ]
     },
     "execution_count": 7,
     "metadata": {},
     "output_type": "execute_result"
    }
   ],
   "source": [
    "precip_var = precip.var()\n",
    "precip_var"
   ]
  },
  {
   "cell_type": "markdown",
   "metadata": {},
   "source": [
    "We then use these moments to estimate $\\alpha$ and $\\beta$ for each month:\n",
    "```python\n",
    "alpha_mom = ...\n",
    "beta_mom = ...\n",
    "alpha_mom, beta_mom\n",
    "```"
   ]
  },
  {
   "cell_type": "markdown",
   "metadata": {},
   "source": [
    "<div style=\"display:none;\">\n",
    "alpha_mom = precip_mean ** 2 / precip_var\n",
    "beta_mom = precip_var / precip_mean\n",
    "</div>"
   ]
  },
  {
   "cell_type": "code",
   "execution_count": 8,
   "metadata": {},
   "outputs": [
    {
     "data": {
      "text/plain": [
       "(Jan    2.953407\n",
       " Feb    3.043866\n",
       " Mar    4.617770\n",
       " Apr    4.293694\n",
       " May    3.526199\n",
       " Jun    2.980965\n",
       " Jul    4.017624\n",
       " Aug    2.999766\n",
       " Sep    2.309383\n",
       " Oct    2.485616\n",
       " Nov    3.692511\n",
       " Dec    3.219070\n",
       " dtype: float64, Jan    1.531684\n",
       " Feb    1.346249\n",
       " Mar    1.077920\n",
       " Apr    0.979219\n",
       " May    1.226724\n",
       " Jun    1.299403\n",
       " Jul    0.969593\n",
       " Aug    1.122522\n",
       " Sep    1.462581\n",
       " Oct    1.050243\n",
       " Nov    0.998206\n",
       " Dec    1.297344\n",
       " dtype: float64)"
      ]
     },
     "execution_count": 8,
     "metadata": {},
     "output_type": "execute_result"
    }
   ],
   "source": [
    "alpha_mom = (precip_mean**2)/(precip_var)\n",
    "beta_mom = (precip_var)/precip_mean\n",
    "alpha_mom, beta_mom"
   ]
  },
  {
   "cell_type": "code",
   "execution_count": 9,
   "metadata": {},
   "outputs": [
    {
     "data": {
      "text/plain": [
       "(Jan    2.953407\n",
       " Feb    3.043866\n",
       " Mar    4.617770\n",
       " Apr    4.293694\n",
       " May    3.526199\n",
       " Jun    2.980965\n",
       " Jul    4.017624\n",
       " Aug    2.999766\n",
       " Sep    2.309383\n",
       " Oct    2.485616\n",
       " Nov    3.692511\n",
       " Dec    3.219070\n",
       " dtype: float64, Jan    1.531684\n",
       " Feb    1.346249\n",
       " Mar    1.077920\n",
       " Apr    0.979219\n",
       " May    1.226724\n",
       " Jun    1.299403\n",
       " Jul    0.969593\n",
       " Aug    1.122522\n",
       " Sep    1.462581\n",
       " Oct    1.050243\n",
       " Nov    0.998206\n",
       " Dec    1.297344\n",
       " dtype: float64)"
      ]
     },
     "execution_count": 9,
     "metadata": {},
     "output_type": "execute_result"
    }
   ],
   "source": [
    "alpha_mom, beta_mom"
   ]
  },
  {
   "cell_type": "markdown",
   "metadata": {},
   "source": [
    "We can use the `gamma.pdf` function in `scipy.stats.distributions` to plot the distributions implied by the calculated alphas and betas. Yes, yes, I know, we have not introduced scipy official yet..\n",
    "\n",
    "</br >\n",
    "<center>\n",
    "<img src=\"https://c402277.ssl.cf1.rackcdn.com/photos/14785/images/story_full_width/shutterstock_532108075.jpg\" width=400 />\n",
    "Lazy Professor!\n",
    "</center>\n",
    "\n",
    "For example, here is January (and note that scipy's gamma is the *gamma distribution*, not the $\\Gamma$ function that interpolates $n!$ to real numbers, even though the $\\Gamma$ function figures in the denominator of the gamma distribution):"
   ]
  },
  {
   "cell_type": "code",
   "execution_count": 10,
   "metadata": {},
   "outputs": [
    {
     "name": "stderr",
     "output_type": "stream",
     "text": [
      "D:\\Users\\admin\\Anaconda3\\lib\\site-packages\\pandas\\plotting\\_core.py:2477: MatplotlibDeprecationWarning: \n",
      "The 'normed' kwarg was deprecated in Matplotlib 2.1 and will be removed in 3.1. Use 'density' instead.\n",
      "  ax.hist(values, bins=bins, **kwds)\n"
     ]
    },
    {
     "data": {
      "text/plain": [
       "[<matplotlib.lines.Line2D at 0x1acfdcfd128>]"
      ]
     },
     "execution_count": 10,
     "metadata": {},
     "output_type": "execute_result"
    },
    {
     "data": {
      "image/png": "[encoded data removed]",
      "text/plain": [
       "<Figure size 432x288 with 1 Axes>"
      ]
     },
     "metadata": {
      "needs_background": "light"
     },
     "output_type": "display_data"
    }
   ],
   "source": [
    "from scipy.stats.distributions import gamma\n",
    "\n",
    "precip.Jan.hist(normed=True, bins=20)\n",
    "plt.plot(np.linspace(0, 10), gamma.pdf(np.linspace(0, 10), alpha_mom[0], beta_mom[0]))"
   ]
  },
  {
   "cell_type": "markdown",
   "metadata": {},
   "source": [
    "Not bad for january :-) Looping over all months now, we can create a grid of plots for the distribution of rainfall, using the gamma distribution:\n",
    "\n",
    "```python\n",
    "axs = precip.hist(normed=True, figsize=(12, 8), sharex=True, sharey=True, bins=15, grid=True)\n",
    "\n",
    "for ax in axs.ravel():\n",
    "    \n",
    "    # Get month\n",
    "    m = ax.get_title()\n",
    "    \n",
    "    # Plot fitted distribution\n",
    "    x = np.linspace(*ax.get_xlim())\n",
    "    ax.plot(x, gamma.pdf(x, alpha_mom[m], beta_mom[m]))\n",
    "    \n",
    "    # Annotate with parameter estimates\n",
    "    label = 'alpha = {0:.2f}\\nbeta = {1:.2f}'.format(alpha_mom[m], beta_mom[m])\n",
    "    ax.annotate(label, xy=(10, 0.2))\n",
    "    \n",
    "plt.tight_layout()\n",
    "```"
   ]
  },
  {
   "cell_type": "markdown",
   "metadata": {},
   "source": [
    "<div style=\"display:none;\">\n",
    "axs = precip.hist(normed=True, figsize=(12, 8), sharex=True, sharey=True, bins=15, grid=True)\n",
    "\n",
    "for ax in axs.ravel():\n",
    "    \n",
    "    # Get month\n",
    "    m = ax.get_title()\n",
    "    \n",
    "    # Plot fitted distribution\n",
    "    x = np.linspace(*ax.get_xlim())\n",
    "    ax.plot(x, gamma.pdf(x, alpha_mom[m], beta_mom[m]))\n",
    "    \n",
    "    # Annotate with parameter estimates\n",
    "    label = 'alpha = {0:.2f}\\nbeta = {1:.2f}'.format(alpha_mom[m], beta_mom[m])\n",
    "    ax.annotate(label, xy=(10, 0.2))\n",
    "    \n",
    "plt.tight_layout()\n",
    "</div>"
   ]
  },
  {
   "cell_type": "code",
   "execution_count": 11,
   "metadata": {
    "scrolled": true
   },
   "outputs": [
    {
     "name": "stderr",
     "output_type": "stream",
     "text": [
      "D:\\Users\\admin\\Anaconda3\\lib\\site-packages\\pandas\\plotting\\_core.py:2410: MatplotlibDeprecationWarning: \n",
      "The 'normed' kwarg was deprecated in Matplotlib 2.1 and will be removed in 3.1. Use 'density' instead.\n",
      "  ax.hist(data[col].dropna().values, bins=bins, **kwds)\n"
     ]
    },
    {
     "data": {
      "image/png": "[encoded data removed]",
      "text/plain": [
       "<Figure size 864x576 with 12 Axes>"
      ]
     },
     "metadata": {
      "needs_background": "light"
     },
     "output_type": "display_data"
    }
   ],
   "source": [
    "axs = precip.hist(normed=True, figsize=(12, 8), sharex=True, sharey=True, bins=15, grid=True)\n",
    "\n",
    "for ax in axs.ravel():\n",
    "\n",
    "    # Get month\n",
    "    m = ax.get_title()\n",
    "\n",
    "    # Plot fitted distribution\n",
    "    x = np.linspace(*ax.get_xlim())\n",
    "    ax.plot(x, gamma.pdf(x, alpha_mom[m], beta_mom[m]))\n",
    "\n",
    "    # Annotate with parameter estimates\n",
    "    label = 'alpha = {0:.2f}\\nbeta = {1:.2f}'.format(alpha_mom[m], beta_mom[m])\n",
    "    ax.annotate(label, xy=(10, 0.2))\n",
    "\n",
    "plt.tight_layout()"
   ]
  },
  {
   "cell_type": "markdown",
   "metadata": {},
   "source": [
    "### 1.4 Conclusion\n",
    "\n",
    "In math, a **moment** is a specific quantitative measure of the ***shape of a set of points***. \n",
    "\n",
    "The *zeroth* moment is the total mass, the *first* moment is the center of mass, the *second* moment is rotational inertia. Oops.. this is not mechanics 101, it's statistics 101...\n",
    "\n",
    "So, the *zeroth* moment is total probability, *first* moment is the [mean](https://en.wikipedia.org/wiki/Mean), *second* moment is the [variance](https://en.wikipedia.org/wiki/Variance), *third* moment is the [skewness](https://en.wikipedia.org/wiki/Skewness), *fourth* moment is the [kurtosis](https://en.wikipedia.org/wiki/Kurtosis). And you can keep on going...\n",
    "\n",
    "For a distribution of mass or probability on a bounded interval, the collection of all the moments (of all orders, from 0 to $\\infty$) ***uniquely determines the distribution***. This is related to [Taylor's approximation theorem](https://en.wikipedia.org/wiki/Taylor%27s_theorem).\n",
    "\n",
    "Minimum number of moments we need in the **Method of Moments** equal the ***number of the parameters in the estimator***! For each moment, we equate the moment of the ***model + parameters*** to the moment of the dataset. That gives us ***one*** equation for the parameters. We will need as many equations (thus moments) as there are parameters!\n",
    "\n",
    "The method of Moments is ***easy-peasy***, as long as we have analytic formulas for the moments for the model distribution (which we usually do, *that is why* they are models). \n",
    "\n",
    "But they're usually *not* the most efficient estimators.."
   ]
  },
  {
   "cell_type": "markdown",
   "metadata": {},
   "source": [
    "# 2. Maximum Likelihood Estimation (MLE)\n",
    "\n",
    "**Maximum likelihood estimation** (MLE) fitting is usually ***more work*** than the method of moments, but is ***preferred*** as the resulting estimator is known to have ***good theoretical properties***. \n",
    "\n",
    "MLE is a method of estimating the *parameters* of a statistical model, given observations. MLE attempts to find the parameter values that ***maximize the likelihood function, given the observations***. \n",
    "\n",
    "Essentially, we attempt to find the values of the parameters (estimators) which would most likely, from a probability perspective, produce the data that we observed. We go from model to the data. We do not have the model, but we do have the data. So it is an ***inverse problem*** (btw, Inverse problems was the topic of my PhD thesis).\n",
    "\n",
    "[Carl Friedrich Gauss](https://en.wikipedia.org/wiki/Carl_Friedrich_Gauss) and [Pierre-Simon Laplace](https://en.wikipedia.org/wiki/Pierre-Simon_Laplace) where early users of maximum likelihood. [Ronald Fisher](https://en.wikipedia.org/wiki/Ronald_Fisher) popularized it between 1912 and 1922, but it remained rigorously unproven until [Samuel S. Wilks](https://en.wikipedia.org/wiki/Samuel_S._Wilks) in 1938. [Wilks' theorem](https://en.wikipedia.org/wiki/Wilks%27_theorem) shows that the ***error in the logarithm of likelihood values for estimates from multiple independent samples is asymptotically distributed***. Wilks gave with his most general proof of the theorem in 1962.\n",
    "\n",
    "MLE is used often with **count models** (general rule of thumb for Count models is that it is risky to use ML with samples smaller than 100, while samples over 500 seem adequate, so if you have only a couple hundred datapoints, ML won't work! In which case you need to fall back to theory, which is what we're doing here), and when we are interested in a dataset $(x,y)$ but are unable to obtain $y$ for the entire population $x$ and only able to obtain the $y$'s for a ***subset*** of $x$. \n",
    "\n",
    "So we assume all $y$ are **normally (gaussian) distributed** with some unknown **mean** and **variance**. The mean and variance are estimated with MLE while only knowing the $y$'s of the subset of $x$. \n",
    "\n",
    "- In general, when you have no idea about the distribution of data, and there are too few datapoints for a good historgram, start by assuming a gaussian distribution.\n",
    "\n",
    "Here's the secret sauce of the algorithm:\n",
    "\n",
    "- MLE accomplishes this by taking the mean and variance as **parameters**, and finding values for these parameters that make the observed results (the subset) the ***most probable given the normal model***. The analysis is an **iterative** one, which proceeds until a metric called the **log likelihood** ***converges***.\n",
    "\n",
    "You will see it does sound very much like **variational inference** and **Markov Chain Monte Carlo** (MCMC) methods (when we'll look at these in class), but it's actually ***simpler***. From the point of view of Bayesian inference, MLE is a special case of [**maximum a posteriori estimation**](https://en.wikipedia.org/wiki/Maximum_a_posteriori_estimation) (MAP) that assumes a **uniform prior** distribution of the parameters. Priors are avoided by not making probability statements about the parameters, but only about their estimates, whose properties are fully defined by the observations and the statistical model."
   ]
  },
  {
   "cell_type": "markdown",
   "metadata": {},
   "source": [
    "## 2.1 Example data set\n",
    "\n",
    "Say we have some data $y = y_1,y_2,\\ldots,y_n$ that is distributed according to some distribution:\n",
    "\n",
    "<div style=\"font-size: 120%;\">  \n",
    "$$Pr(Y_i=y_i \\; | \\;\\lambda)$$\n",
    "</div>\n",
    "\n",
    "Assume the data is drawn from a Poisson distribution with parameter $\\lambda =5$. "
   ]
  },
  {
   "cell_type": "code",
   "execution_count": 12,
   "metadata": {},
   "outputs": [],
   "source": [
    "import numpy as np\n",
    "import matplotlib.pyplot as plt\n",
    "%matplotlib inline"
   ]
  },
  {
   "cell_type": "code",
   "execution_count": 13,
   "metadata": {},
   "outputs": [
    {
     "name": "stdout",
     "output_type": "stream",
     "text": [
      "[7, 6, 5, 3, 5, 8, 6, 2, 5, 9, 4, 7, 6, 1, 6, 5, 6, 8, 3, 3, 3, 7, 7, 13, 3, 6, 5, 6, 2, 6, 8, 7, 5, 7, 2, 3, 10, 3, 4, 5, 3, 2, 3, 8, 4, 4, 5, 3, 3, 3, 7, 5, 1, 4, 5, 7, 1, 6, 3, 4, 3, 3, 10, 6, 2, 7, 6, 8, 8, 4, 6, 4, 3, 4, 6, 7, 6, 5, 5, 0, 4, 9, 8, 2, 3, 3, 4, 8, 5, 4, 3, 4, 2, 9, 4, 2, 3, 2, 6, 1]\n"
     ]
    },
    {
     "name": "stderr",
     "output_type": "stream",
     "text": [
      "D:\\Users\\admin\\Anaconda3\\lib\\site-packages\\ipykernel_launcher.py:8: MatplotlibDeprecationWarning: \n",
      "The 'normed' kwarg was deprecated in Matplotlib 2.1 and will be removed in 3.1. Use 'density' instead.\n",
      "  \n"
     ]
    },
    {
     "data": {
      "text/plain": [
       "Text(0, 0.5, 'Pr(y)')"
      ]
     },
     "execution_count": 13,
     "metadata": {},
     "output_type": "execute_result"
    },
    {
     "data": {
      "image/png": "[encoded data removed]",
      "text/plain": [
       "<Figure size 432x288 with 1 Axes>"
      ]
     },
     "metadata": {
      "needs_background": "light"
     },
     "output_type": "display_data"
    },
    {
     "data": {
      "image/png": "[encoded data removed]",
      "text/plain": [
       "<Figure size 432x288 with 1 Axes>"
      ]
     },
     "metadata": {
      "needs_background": "light"
     },
     "output_type": "display_data"
    }
   ],
   "source": [
    "y = np.random.poisson(5, size=100)\n",
    "\n",
    "print(list(y))\n",
    "plt.figure(0)\n",
    "plt.plot(list(y))\n",
    "\n",
    "plt.figure(1)\n",
    "plt.hist(y, bins=12, normed=True)\n",
    "plt.xlabel('y'); plt.ylabel('Pr(y)')"
   ]
  },
  {
   "cell_type": "markdown",
   "metadata": {},
   "source": [
    "## 2.2 The theory\n",
    "\n",
    "The **likelihood function $l$** calculates the joint probability of observing $all$ the values of the dependent variable in our dataset, one after the other, when we evalaute our model. So it's an **intersection** of events, thus a **product of probabilities**. \n",
    "\n",
    "It assumes that each observation is drawn *randomly* and *independently* from the population. If the values of the dependent variable are random and independent, then you can find the joint probability of observing all the values simultaneously by multiplying the individual density functions:\n",
    "\n",
    "$$l = \\prod_{i=1}^n Pr(y_i \\;| \\;\\lambda)$$ \n",
    "\n",
    "$l$ will give us a measure of how **likely we are** to observe values $y_1,\\ldots,y_n$ given the parameter $\\lambda$. \n",
    "\n",
    "**Maximum likelihood fitting** consists of **maximizing $l$** so that this outcome is **the most likely**. We call this function the *likelihood function*, because it is a measure of ***how likely the observations are if the model is true***.\n",
    "\n",
    "We are essentially doing a kind of Bayesian inference: Instead of saying: ***the evidence are the observations, how do we get to the model?***, we say ***given the evidence of a normal model with unknown parameter, how likely are the observations***? \n",
    "\n",
    "We come up with an equation that involves the parameter, which we want to maximize. This in turn yields the right parameter for the model. So, instead of using moments, we find maxima on a function (which is also what ANNs, do by the way). It is also, I think, how ***your*** brain builds models: What are the right parameters so that my model yields my observations most probably?\n",
    "\n",
    "And you know what? The likelihood function can be ***computed analytically***, in closed form, ***for all popular analytic distribution models***! Just like the moments, for all popular distribution models.\n",
    "\n",
    "So, let's recap: \n",
    "\n",
    "- The product $\\prod_{i=1}^n Pr(y_i \\; | \\; \\theta)$ gives us a measure of how **likely** it is to observe values $y_1,\\ldots,y_n$ given the parameters $\\lambda$. MLE consists in choosing the appropriate function $l= Pr(Y|\\theta)$ to maximize for a given set of observations. This function is called the *likelihood function*, because it is a measure of how likely the observations are if the model is true.\n",
    "\n",
    "In the above model, the data were drawn from a Poisson distribution with parameter $\\lambda =5$, That is,\n",
    "\n",
    "$$L(y|\\lambda=5) = \\frac{e^{-5} 5^y}{y!}$$\n",
    "\n",
    "Instead of looking at the function above as a function of $y$, let us look at it as a *function of* $\\lambda$. Let's calculate the likelihood that the underlying process with $\\lambda = 5$ generates any given value of $y$ (note the sexy factorial evaluation below). But let's start with $y$ = 10.\n",
    "\n",
    "For any given value of $y$, we can calculate its likelihood. We use a python lambda function:"
   ]
  },
  {
   "cell_type": "code",
   "execution_count": 14,
   "metadata": {
    "scrolled": true
   },
   "outputs": [
    {
     "data": {
      "text/plain": [
       "0.041303093412337726"
      ]
     },
     "execution_count": 14,
     "metadata": {},
     "output_type": "execute_result"
    }
   ],
   "source": [
    "poisson_like = lambda x, lam: np.exp(-lam) * (lam**x) / (np.arange(x)+1).prod()\n",
    "\n",
    "lam = 6\n",
    "value = 10\n",
    "poisson_like(value, lam)"
   ]
  },
  {
   "cell_type": "markdown",
   "metadata": {},
   "source": [
    "The probability above is for $y$ = 10. What is the probability for all possible $y$'s?"
   ]
  },
  {
   "cell_type": "code",
   "execution_count": 15,
   "metadata": {},
   "outputs": [
    {
     "name": "stderr",
     "output_type": "stream",
     "text": [
      "D:\\Users\\admin\\Anaconda3\\lib\\site-packages\\ipykernel_launcher.py:1: DeprecationWarning: Calling np.sum(generator) is deprecated, and in the future will give a different result. Use np.sum(np.fromiter(generator)) or the python sum builtin instead.\n",
      "  \"\"\"Entry point for launching an IPython kernel.\n"
     ]
    },
    {
     "data": {
      "text/plain": [
       "0.9576046111239381"
      ]
     },
     "execution_count": 15,
     "metadata": {},
     "output_type": "execute_result"
    }
   ],
   "source": [
    "np.sum(poisson_like(yi, lam) for yi in set(y))"
   ]
  },
  {
   "cell_type": "markdown",
   "metadata": {},
   "source": [
    "That's a pretty high probability!\n",
    "\n",
    "Let's compare this to the same result for $\\lambda$ = 8:"
   ]
  },
  {
   "cell_type": "code",
   "execution_count": 16,
   "metadata": {
    "scrolled": true
   },
   "outputs": [
    {
     "name": "stderr",
     "output_type": "stream",
     "text": [
      "D:\\Users\\admin\\Anaconda3\\lib\\site-packages\\ipykernel_launcher.py:2: DeprecationWarning: Calling np.sum(generator) is deprecated, and in the future will give a different result. Use np.sum(np.fromiter(generator)) or the python sum builtin instead.\n",
      "  \n"
     ]
    },
    {
     "data": {
      "text/plain": [
       "0.8158857925585464"
      ]
     },
     "execution_count": 16,
     "metadata": {},
     "output_type": "execute_result"
    }
   ],
   "source": [
    "lam = 8\n",
    "np.sum(poisson_like(yi, lam) for yi in set(y))"
   ]
  },
  {
   "cell_type": "markdown",
   "metadata": {},
   "source": [
    "That's lower! Thus, $\\lambda$ = 5 is a better value, more likely to lead our model to reproduce our dataset, because it gives us a ***higher probability to observe our $y$'s***!\n",
    "\n",
    "(*duh*, of course it is, the data was drawn from a random Poisson process with $\\lambda = 5$, but *we don't know that -well, we do, but we're pretending we don't* :-)"
   ]
  },
  {
   "cell_type": "code",
   "execution_count": 17,
   "metadata": {},
   "outputs": [
    {
     "name": "stderr",
     "output_type": "stream",
     "text": [
      "D:\\Users\\admin\\Anaconda3\\lib\\site-packages\\ipykernel_launcher.py:2: DeprecationWarning: Calling np.sum(generator) is deprecated, and in the future will give a different result. Use np.sum(np.fromiter(generator)) or the python sum builtin instead.\n",
      "  \n"
     ]
    },
    {
     "data": {
      "text/plain": [
       "0.9905618769417585"
      ]
     },
     "execution_count": 17,
     "metadata": {},
     "output_type": "execute_result"
    }
   ],
   "source": [
    "lam = 5\n",
    "np.sum(poisson_like(yi, lam) for yi in set(y))"
   ]
  },
  {
   "cell_type": "markdown",
   "metadata": {},
   "source": [
    "We can also plot the likelihood function for any value of $\\lambda$, for a particular $y$ (let's pick $y$ = 5, arbitrarily):"
   ]
  },
  {
   "cell_type": "code",
   "execution_count": 18,
   "metadata": {},
   "outputs": [
    {
     "data": {
      "text/plain": [
       "Text(0, 0.5, 'L($\\\\lambda$|x=5)')"
      ]
     },
     "execution_count": 18,
     "metadata": {},
     "output_type": "execute_result"
    },
    {
     "data": {
      "image/png": "[encoded data removed]",
      "text/plain": [
       "<Figure size 432x288 with 1 Axes>"
      ]
     },
     "metadata": {
      "needs_background": "light"
     },
     "output_type": "display_data"
    }
   ],
   "source": [
    "lambdas = np.linspace(0,15)\n",
    "_y = 5\n",
    "\n",
    "plt.plot(lambdas, [poisson_like(_y, l) for l in lambdas])\n",
    "plt.xlabel('$\\lambda$')\n",
    "plt.ylabel('L($\\lambda$|x={0})'.format(_y))"
   ]
  },
  {
   "cell_type": "markdown",
   "metadata": {},
   "source": [
    "Looks like $\\lambda$ = 5 is about right for $y$ = 5.\n",
    "\n",
    "Try it out for other values of $y$. Does the optimal $\\lambda$ remain the same? "
   ]
  },
  {
   "cell_type": "markdown",
   "metadata": {},
   "source": [
    "How is the likelihood function different than the probability distribution function (pdf)? The likelihood is a function of the parameter(s) *given the data*, whereas the pdf returns the probability of data given a particular parameter value. \n",
    "\n",
    "Here is the pdf of the Poisson for $\\lambda=5$."
   ]
  },
  {
   "cell_type": "code",
   "execution_count": 19,
   "metadata": {},
   "outputs": [
    {
     "data": {
      "text/plain": [
       "Text(0, 0.5, 'Pr(X|$\\\\lambda$=5)')"
      ]
     },
     "execution_count": 19,
     "metadata": {},
     "output_type": "execute_result"
    },
    {
     "data": {
      "image/png": "[encoded data removed]",
      "text/plain": [
       "<Figure size 432x288 with 1 Axes>"
      ]
     },
     "metadata": {
      "needs_background": "light"
     },
     "output_type": "display_data"
    }
   ],
   "source": [
    "lam = 5\n",
    "xvals = np.arange(15)\n",
    "plt.bar(xvals, [poisson_like(x, lam) for x in xvals])\n",
    "plt.xlabel('x')\n",
    "plt.ylabel('Pr(X|$\\lambda$=5)')"
   ]
  },
  {
   "cell_type": "markdown",
   "metadata": {},
   "source": [
    "Ok, both curves look the same (kinda), but that is a coincidence. *It's not always like this*.\n",
    "\n",
    "So we cannot locate one $\\lambda$ that is optimal ***for all $y$'s***. So we have to ***compromise***. Specifically, we want the value of $\\lambda$ which **maximizes the likelihood function**, because it yields a pdf that is the closest to the histogram of the data. \n",
    "\n",
    "In other words, our observations, which are a subset of all possible data which we can observe and record for a specific physical process, yield a histogram that we assume matches the pdf of all the data. So we model all possible data as a parametrized Poisson pdf. The Poisson pdf matches the histogram of the observed data the best when the likelihood function is maximal. And that happens when the area under the curve is maximal.\n",
    "\n",
    "So, inference is reduced to an **optimization problem**."
   ]
  },
  {
   "cell_type": "markdown",
   "metadata": {},
   "source": [
    "## 2.3 The theory is actually very intuitive\n",
    "\n",
    "In the 2019 season, before the Singaporean Grand Prix, Lewis Hamilton accrued 284 points out of 1,207 total points awarded. Having this data, we’d like to make a guess at the probability that Lewis Hamilton wins the Singaporean Grand Prix.\n",
    "\n",
    "The simplest guess here would be 284/1,207 = 24%, which is the best possible guess based on the data. \n",
    "\n",
    "For the sake of argument, let's say Lewis Hamilton won 10 out of 20 races.\n",
    "\n",
    "***This is actually an estimation with the MLE method***!\n",
    "\n",
    "Let's simplify that Lewis Hamilton has a single winning probability (let’s call this θ) throughout all races across the season, regardless of the uniqueness of each race and any complex factors like weather. In other words, we’re assuming each of LH's races as a [Bernoulli trial](https://en.wikipedia.org/wiki/Bernoulli_trial) with a winning probability θ.\n",
    "\n",
    "With this assumption, we can describe the probability that LH wins k times out of n races for any given number k and n (k≤n). More precisely, we assume that the number of race wins for LH follows a [binomial distribution with parameter θ](https://en.wikipedia.org/wiki/Binomial_distribution).\n",
    "The probability that LH wins k times out of n races, given the winning probability θ, is:\n",
    "\n",
    "$$P(\\text{k wins out of n races} \\; | \\; θ) = (^n_k) \\; θ^k (1 - θ)^{n-k}$$\n",
    "\n",
    "This simplification (describing the probability using just a single parameter θ regardless of real world complexity) is our statistical model, and θ is the parameter to be estimated.\n",
    "\n",
    "Since we have observed data for this F1 season, which is 10 out of 20 wins for LH (let’s call this data as D), we can calculate P(D|θ) — the probability that this data D is observed for given θ. Let’s calculate P(D|θ) for $θ=0.1$ and $θ=0.7$ as examples.\n",
    "\n",
    "$$P(\\text{10 wins out of 20} \\; | \\; θ) = (^{20}_{5}) \\; 0.1^{5} (0.9)^{15}$$"
   ]
  },
  {
   "cell_type": "code",
   "execution_count": 20,
   "metadata": {},
   "outputs": [
    {
     "data": {
      "text/plain": [
       "6.442043387911565e-06"
      ]
     },
     "execution_count": 20,
     "metadata": {},
     "output_type": "execute_result"
    }
   ],
   "source": [
    "import math as m\n",
    "P_10_wins_out_of_20_and_theta = m.factorial(20) // m.factorial(10) // m.factorial(10) * 0.1**10 * 0.9**10\n",
    "P_10_wins_out_of_20_and_theta"
   ]
  },
  {
   "cell_type": "markdown",
   "metadata": {},
   "source": [
    "Wow, that's a ***very low probability***! So, if LH’s winning probability θ is actually 0.1, this data D (10 wins in 20 races) is ***extremely unlikely to be observed***.\n",
    "\n",
    "Then what if θ = 0.7?\n",
    "\n",
    "$$P(\\text{10 wins out of 20} \\; | \\; θ) = (^{20}_{5}) \\; 0.7^{5} (0.3)^{15}$$"
   ]
  },
  {
   "cell_type": "code",
   "execution_count": 21,
   "metadata": {},
   "outputs": [
    {
     "data": {
      "text/plain": [
       "0.030817080900085003"
      ]
     },
     "execution_count": 21,
     "metadata": {},
     "output_type": "execute_result"
    }
   ],
   "source": [
    "P_10_wins_out_of_20_and_theta = m.factorial(20) // m.factorial(10) // m.factorial(10) * 0.7**10 * 0.3**10\n",
    "P_10_wins_out_of_20_and_theta"
   ]
  },
  {
   "cell_type": "markdown",
   "metadata": {},
   "source": [
    "That's a *** higher probability***! So if LH’s winning probability θ is 0.7, this data D is ***much more likely to be observed*** than when θ = 0.1.\n",
    "\n",
    "Based on this comparison, we would be able to say that θ is more likely to be 0.7 than 0.1 considering the actual observed data D. \n",
    "\n",
    "Here, we’ve been calculating the probability that D is observed for each θ, but at the same time, we can also say that we’ve been checking likelihood of each value of θ based on the observed data. Because of this, P(D|θ) is also considered as Likelihood of θ. \n",
    "\n",
    "The next question here is, what is the exact value of θ which maximizes the likelihood P(D|θ)? This is Maximum Likelihood Estimation!\n",
    "\n",
    "The value of θ maximizing the likelihood can be obtained by having derivative of the likelihood function with respect to θ, and setting it to zero.\n",
    "\n",
    "<br />\n",
    "<center>\n",
    "<img src =images/mle-math.png width = 600 />\n",
    "</center>\n",
    "\n",
    "Since likelihood goes to zero when θ= 0 or 1, the value of θ that maximizes the likelihood is k/n.\n",
    "\n",
    "$$ θ = \\frac{k}{n}$$\n",
    "\n",
    "In other words, the estimated value of θ, LH's winning percentage per race, is 10/20 = 50% when estimated with MLE. \n",
    "\n",
    "And that is actually what you assumed in your HW, when you evaluated race pdfs!"
   ]
  },
  {
   "cell_type": "markdown",
   "metadata": {},
   "source": [
    "## 2.4 Nashville rainfall\n",
    "\n",
    "Now let's put MLE to use. Going back to our Nashville rainfall data, where we used a gamma distribution instead of a Poisson distribution, we need to maximize:\n",
    "\n",
    "$$\\prod_{i=1}^n \\beta^{\\alpha} x^{\\alpha-1} e^{-x/\\beta}\\Gamma(\\alpha)^{-1}$$ with respect to $(\\alpha, \\beta)$\n",
    "\n",
    "In order to make the likelihood function more manageable (this is legit since `log` is monotonic with respect to its argument), the optimization is performed ***using a natural log transformation of the likelihood function***. And since the log of a product is the sum of the logs, we want to maximize:\n",
    "\n",
    "$$\\begin{align}l(\\alpha,\\beta) &= \\sum_{i=1}^n \\log[\\beta^{\\alpha} x^{\\alpha-1} e^{-x/\\beta}\\Gamma(\\alpha)^{-1}] \\cr \n",
    "&= n[(\\alpha-1)\\overline{\\log(x)} - \\bar{x}\\beta + \\alpha\\log(\\beta) - \\log\\Gamma(\\alpha)]\\end{align}$$\n",
    "\n",
    "(*so much easier to work in the log scale!*)\n",
    "\n",
    "where $n = 2012 − 1871 = 141$ and the bar indicates an average over all *i*. We want to choose $\\alpha$ and $\\beta$ to maximize $l(\\alpha,\\beta)$.\n",
    "\n",
    "Notice $l$ is infinite if any $x$ is zero. We do not have any zeros, but we do have an NA value for one of the October data, which we dealt with."
   ]
  },
  {
   "cell_type": "markdown",
   "metadata": {},
   "source": [
    "## 2.5 Solving the equation\n",
    "\n",
    "To find the maximum of any function, we typically take the *derivative* with respect to the variable to be maximized, set it to zero and solve for that variable. \n",
    "\n",
    "$$\\frac{\\partial l(\\alpha,\\beta)}{\\partial \\beta} = n\\left(\\frac{\\alpha}{\\beta} - \\bar{x}\\right) = 0$$\n",
    "\n",
    "Which can be solved as $\\beta = \\alpha\\; / \\; \\bar{x}$. However, plugging this into the derivative with respect to $\\alpha$ yields:\n",
    "\n",
    "$$\\frac{\\partial l(\\alpha,\\beta)}{\\partial \\alpha} = \\log(\\alpha) + \\overline{\\log(x)} - \\log(\\bar{x}) - \\frac{\\Gamma(\\alpha)'}{\\Gamma(\\alpha)} = 0$$\n",
    "\n",
    "This has ***no closed form solution***! We must use ***numerical optimization***!\n",
    "\n",
    "Numerical optimization algorithms take an initial \"guess\" at the solution, and iteratively improve the guess until it gets \"close enough\" to the answer.\n",
    "\n",
    "Here, we will use [Newton-Raphson](https://en.wikipedia.org/wiki/Newton%27s_method) algorithm:\n",
    "\n",
    "<div style=\"font-size: 120%;\">  \n",
    "$$x_{n+1} = x_n - \\frac{f(x_n)}{f'(x_n)}$$\n",
    "</div>\n",
    "\n",
    "Which is available to us via `SciPy`:"
   ]
  },
  {
   "cell_type": "code",
   "execution_count": 22,
   "metadata": {},
   "outputs": [],
   "source": [
    "from scipy.optimize import newton"
   ]
  },
  {
   "cell_type": "markdown",
   "metadata": {},
   "source": [
    "Here is a graphical example of how Newton-Raphson converges on a solution, using an arbitrary function:"
   ]
  },
  {
   "cell_type": "code",
   "execution_count": 23,
   "metadata": {},
   "outputs": [
    {
     "data": {
      "text/plain": [
       "Text(1.4706070287539936, -0.2, '$x_{n+1}$')"
      ]
     },
     "execution_count": 23,
     "metadata": {},
     "output_type": "execute_result"
    },
    {
     "data": {
      "image/png": "[encoded data removed]",
      "text/plain": [
       "<Figure size 432x288 with 1 Axes>"
      ]
     },
     "metadata": {
      "needs_background": "light"
     },
     "output_type": "display_data"
    }
   ],
   "source": [
    "# some function\n",
    "func = lambda x: 3./(1 + 400*np.exp(-2*x)) - 1\n",
    "xvals = np.linspace(0, 6)\n",
    "plt.plot(xvals, func(xvals))\n",
    "plt.text(5.3, 2.1, '$f(x)$', fontsize=16)\n",
    "\n",
    "# zero line\n",
    "plt.plot([0,6], [0,0], 'k-')\n",
    "\n",
    "# value at step n\n",
    "plt.plot([4,4], [0,func(4)], 'k:')\n",
    "plt.text(4, -.2, '$x_n$', fontsize=16)\n",
    "\n",
    "# tangent line\n",
    "tanline = lambda x: -0.858 + 0.626*x\n",
    "plt.plot(xvals, tanline(xvals), 'r--')\n",
    "\n",
    "# point at step n+1\n",
    "xprime = 0.858/0.626\n",
    "plt.plot([xprime, xprime], [tanline(xprime), func(xprime)], 'k:')\n",
    "plt.text(xprime+.1, -.2, '$x_{n+1}$', fontsize=16)"
   ]
  },
  {
   "cell_type": "markdown",
   "metadata": {},
   "source": [
    "Let $x_n$ be our current estimate. Then the next estimate $x_{n+1}$ is obtained as follows: Draw the tangent line at $(x_n,f(x_n))$. Then $x_{n+1}$ is the point where the tangent line meets the x-axis. That tangent line meets the x-axis at a point often much closer to the root of the curve than $x_n$."
   ]
  },
  {
   "cell_type": "markdown",
   "metadata": {},
   "source": [
    "To apply the Newton-Raphson algorithm, we need a function that returns a vector containing the **first and second derivatives** of the function with respect to the variable of interest. In our case, this is:"
   ]
  },
  {
   "cell_type": "code",
   "execution_count": 24,
   "metadata": {},
   "outputs": [],
   "source": [
    "from scipy.special import psi, polygamma\n",
    "\n",
    "dlgamma = lambda m, log_mean, mean_log: np.log(m) - psi(m) - log_mean + mean_log\n",
    "dl2gamma = lambda m, *args: 1./m - polygamma(1, m)"
   ]
  },
  {
   "cell_type": "markdown",
   "metadata": {},
   "source": [
    "where `log_mean` and `mean_log` are $\\log{\\bar{x}}$ and $\\overline{\\log(x)}$, respectively. `psi` and `polygamma` are complex functions of the Gamma function that result when you take first and second derivatives of that function."
   ]
  },
  {
   "cell_type": "code",
   "execution_count": 25,
   "metadata": {},
   "outputs": [],
   "source": [
    "# Calculate statistics\n",
    "log_mean = precip.mean().apply(np.log)\n",
    "mean_log = precip.apply(np.log).mean()"
   ]
  },
  {
   "cell_type": "markdown",
   "metadata": {},
   "source": [
    "Time to optimize!"
   ]
  },
  {
   "cell_type": "code",
   "execution_count": 26,
   "metadata": {},
   "outputs": [
    {
     "data": {
      "text/plain": [
       "3.5189679152399616"
      ]
     },
     "execution_count": 26,
     "metadata": {},
     "output_type": "execute_result"
    }
   ],
   "source": [
    "# Alpha MLE for December\n",
    "alpha_mle = newton(dlgamma, 2, dl2gamma, args=(log_mean[-1], mean_log[-1]))\n",
    "alpha_mle"
   ]
  },
  {
   "cell_type": "markdown",
   "metadata": {},
   "source": [
    "And now plug this back into the solution for beta:\n",
    "\n",
    "<div style=\"font-size: 120%;\">  \n",
    "$$ \\beta  = \\frac{\\alpha}{\\bar{X}} $$\n",
    "</div>"
   ]
  },
  {
   "cell_type": "code",
   "execution_count": 27,
   "metadata": {},
   "outputs": [
    {
     "data": {
      "text/plain": [
       "0.8426160754841373"
      ]
     },
     "execution_count": 27,
     "metadata": {},
     "output_type": "execute_result"
    }
   ],
   "source": [
    "beta_mle = alpha_mle/precip.mean()[-1]\n",
    "beta_mle"
   ]
  },
  {
   "cell_type": "markdown",
   "metadata": {},
   "source": [
    "We can compare the fit of the estimates derived from MLE to those from the method of moments:"
   ]
  },
  {
   "cell_type": "code",
   "execution_count": 28,
   "metadata": {},
   "outputs": [
    {
     "data": {
      "text/plain": [
       "[<matplotlib.lines.Line2D at 0x1ac804a3d30>]"
      ]
     },
     "execution_count": 28,
     "metadata": {},
     "output_type": "execute_result"
    },
    {
     "data": {
      "image/png": "[encoded data removed]",
      "text/plain": [
       "<Figure size 432x288 with 1 Axes>"
      ]
     },
     "metadata": {
      "needs_background": "light"
     },
     "output_type": "display_data"
    }
   ],
   "source": [
    "dec = precip.Dec\n",
    "dec.hist(normed=True, bins=10, grid=False)\n",
    "x = np.linspace(0, dec.max())\n",
    "plt.plot(x, gamma.pdf(x, alpha_mom[-1], beta_mom[-1]), 'm-')\n",
    "plt.plot(x, gamma.pdf(x, alpha_mle, beta_mle), 'r--')"
   ]
  },
  {
   "cell_type": "markdown",
   "metadata": {},
   "source": [
    "The red dotted curve is a *better model* of our data than the continuous mauve curve. So MLE gives us better models than MOM.\n",
    "\n",
    "For common distributions, `SciPy` includes methods for fitting via MLE:"
   ]
  },
  {
   "cell_type": "code",
   "execution_count": 29,
   "metadata": {},
   "outputs": [
    {
     "data": {
      "text/plain": [
       "(2.242751775315231, 0.6549460447018862, 1.570073932063466)"
      ]
     },
     "execution_count": 29,
     "metadata": {},
     "output_type": "execute_result"
    }
   ],
   "source": [
    "from scipy.stats import gamma\n",
    "\n",
    "gamma.fit(precip.Dec)"
   ]
  },
  {
   "cell_type": "markdown",
   "metadata": {},
   "source": [
    "This fit is not directly comparable to our estimates, however, because SciPy's `gamma.fit` method fits an odd 3-parameter version of the gamma distribution. But don't let the three parameters  (alpha, loc, beta) provided throw you off! There's `alpha` and `beta` that you know of, and the other one is `loc`, the location at which the gamma distribution ***starts growing***, since you can liberally move the gamma along the x-axis.\n",
    "\n",
    "In general, the gamma function has three parametrizations:\n",
    "\n",
    "- With a shape parameter k and a scale parameter θ.\n",
    "- With a shape parameter α = k and an inverse scale parameter β = 1/θ, called a rate parameter.\n",
    "- With a shape parameter k and a mean parameter μ = k/β.\n",
    "\n",
    "It's possible to shift and/or scale the distribution using the loc and scale parameters. Specifically, gamma.pdf(x, alfa, loc, scale) is identically equivalent to gamma.pdf(y, alfa) / scale with y = (x - loc) / scale.\n"
   ]
  },
  {
   "cell_type": "markdown",
   "metadata": {},
   "source": [
    "## 2.6 Another dataset example\n",
    "\n",
    "Let's try our hands at another dataset that better illustrates the modeling process because it incorporates a mistake you might make in picking a model.\n",
    "\n",
    "We'll use `statsmodels`, a Python package for statistical data analyses, which will help us avoid the math!\n",
    "\n",
    "<br />\n",
    "<center>\n",
    "<img src =images/happy-cat.jpg width = 400 />\n",
    "</center>\n",
    "\n",
    "\n",
    "`statsmodels` just like R, also contains real-world datasets that you can use to experiment with new methods. Let's load the **heart dataset**:"
   ]
  },
  {
   "cell_type": "code",
   "execution_count": 30,
   "metadata": {},
   "outputs": [],
   "source": [
    "import numpy as np\n",
    "import scipy.stats as st\n",
    "import statsmodels.datasets\n",
    "import matplotlib.pyplot as plt\n",
    "%matplotlib inline\n",
    "data = statsmodels.datasets.heart.load_pandas().data"
   ]
  },
  {
   "cell_type": "markdown",
   "metadata": {},
   "source": [
    "Let's take a closer look at the dataframe:"
   ]
  },
  {
   "cell_type": "code",
   "execution_count": 31,
   "metadata": {},
   "outputs": [
    {
     "data": {
      "text/html": [
       "<div>\n",
       "<style scoped>\n",
       "    .dataframe tbody tr th:only-of-type {\n",
       "        vertical-align: middle;\n",
       "    }\n",
       "\n",
       "    .dataframe tbody tr th {\n",
       "        vertical-align: top;\n",
       "    }\n",
       "\n",
       "    .dataframe thead th {\n",
       "        text-align: right;\n",
       "    }\n",
       "</style>\n",
       "<table border=\"1\" class=\"dataframe\">\n",
       "  <thead>\n",
       "    <tr style=\"text-align: right;\">\n",
       "      <th></th>\n",
       "      <th>survival</th>\n",
       "      <th>censors</th>\n",
       "      <th>age</th>\n",
       "    </tr>\n",
       "  </thead>\n",
       "  <tbody>\n",
       "    <tr>\n",
       "      <th>64</th>\n",
       "      <td>14.0</td>\n",
       "      <td>1.0</td>\n",
       "      <td>40.3</td>\n",
       "    </tr>\n",
       "    <tr>\n",
       "      <th>65</th>\n",
       "      <td>167.0</td>\n",
       "      <td>0.0</td>\n",
       "      <td>26.7</td>\n",
       "    </tr>\n",
       "    <tr>\n",
       "      <th>66</th>\n",
       "      <td>110.0</td>\n",
       "      <td>0.0</td>\n",
       "      <td>23.7</td>\n",
       "    </tr>\n",
       "    <tr>\n",
       "      <th>67</th>\n",
       "      <td>13.0</td>\n",
       "      <td>0.0</td>\n",
       "      <td>28.9</td>\n",
       "    </tr>\n",
       "    <tr>\n",
       "      <th>68</th>\n",
       "      <td>1.0</td>\n",
       "      <td>0.0</td>\n",
       "      <td>35.2</td>\n",
       "    </tr>\n",
       "  </tbody>\n",
       "</table>\n",
       "</div>"
      ],
      "text/plain": [
       "    survival  censors   age\n",
       "64      14.0      1.0  40.3\n",
       "65     167.0      0.0  26.7\n",
       "66     110.0      0.0  23.7\n",
       "67      13.0      0.0  28.9\n",
       "68       1.0      0.0  35.2"
      ]
     },
     "execution_count": 31,
     "metadata": {},
     "output_type": "execute_result"
    }
   ],
   "source": [
    "data.tail()"
   ]
  },
  {
   "cell_type": "markdown",
   "metadata": {},
   "source": [
    "This dataset contains censored and uncensored data: a censor of 0 means that the patient was ***alive at the end of the study***, and thus we don't know the exact survival time. We only know that the patient survived at least the indicated number of days. \n",
    "\n",
    "Let's only keep uncensored data (thus introduce a [bias](https://en.wikipedia.org/wiki/Bias) toward patients that ***did not survive very long*** after their transplant):"
   ]
  },
  {
   "cell_type": "code",
   "execution_count": 32,
   "metadata": {},
   "outputs": [],
   "source": [
    "data = data[data.censors == 1]\n",
    "survival = data.survival"
   ]
  },
  {
   "cell_type": "markdown",
   "metadata": {},
   "source": [
    "Let's take a look at the data graphically, by plotting the raw survival data and the histogram. Notice how the data is 2D, however the histogran is really 1D: It gives us the possible $y$'s and their ***distribution***."
   ]
  },
  {
   "cell_type": "code",
   "execution_count": 33,
   "metadata": {},
   "outputs": [
    {
     "data": {
      "text/plain": [
       "Text(0, 0.5, 'Number of patients')"
      ]
     },
     "execution_count": 33,
     "metadata": {},
     "output_type": "execute_result"
    },
    {
     "data": {
      "image/png": "[encoded data removed]",
      "text/plain": [
       "<Figure size 720x288 with 2 Axes>"
      ]
     },
     "metadata": {
      "needs_background": "light"
     },
     "output_type": "display_data"
    }
   ],
   "source": [
    "fig, (ax1, ax2) = plt.subplots(1, 2, figsize=(10, 4))\n",
    "\n",
    "ax1.plot(sorted(survival)[::-1], 'o')\n",
    "ax1.set_xlabel('Patient')\n",
    "ax1.set_ylabel('Survival time (days)')\n",
    "\n",
    "ax2.hist(survival, bins=15)\n",
    "ax2.set_xlabel('Survival time (days)')\n",
    "ax2.set_ylabel('Number of patients')"
   ]
  },
  {
   "cell_type": "markdown",
   "metadata": {},
   "source": [
    "We observe that the histogram is decreasing very rapidly! Patients died fast!\n",
    "\n",
    "Eyeballing the data, let's try to fit an [exponential distribution](https://en.wikipedia.org/wiki/Exponential_distribution) to the data. Isn't that would *you* would try?\n",
    "\n",
    "According to the exponential model, S (number of days of survival) is an exponential random variable with the parameter λ, and the observations $s_i$ are sampled from this distribution. Let the sample **mean** be:\n",
    "\n",
    "$$\\overline s = \\frac 1 n \\sum s_i$$\n",
    "\n",
    "The likelihood function of an exponential distribution is as follows:\n",
    "\n",
    "$$\\mathcal{L}(\\lambda, \\{s_i\\}) = P(\\{s_i\\} \\mid \\lambda) = \\lambda^n \\exp\\left(-\\lambda n \\overline s\\right)$$\n",
    "\n",
    "Here's the proof:\n",
    "\n",
    "\\begin{align*}\n",
    "\\mathcal{L}(\\lambda, \\{s_i\\}) &= P(\\{s_i\\} \\mid \\lambda) &\\\\\n",
    "&= \\prod_{i=1}^n P(s_i \\mid \\lambda) & \\textrm{(by independence of the $s_i$)}\\\\\n",
    "&= \\prod_{i=1}^n \\lambda \\exp(-\\lambda s_i) &\\\\\n",
    "&= \\lambda^n \\exp\\left(-\\lambda \\sum_{i=1}^n s_i\\right) &\\\\\n",
    "&= \\lambda^n \\exp\\left(-\\lambda n \\overline s\\right) &\n",
    "\\end{align*}\n",
    "\n",
    "Here, $\\overline s$ is the sample mean.\n",
    "\n",
    "To find the maximum of this function, let's compute its derivative function with respect to $λ$:\n",
    "\n",
    "$$\\frac{d\\mathcal{L}(\\lambda, \\{s_i\\})}{d\\lambda} = \\lambda^{n-1} \\exp\\left(-\\lambda n \\overline s \\right) \\left( n - n \\lambda \\overline s \\right)$$\n",
    "\n",
    "The root of this derivative is therefore $λ=1\\;/\\;\\overline s$. We're lucky here, the exponential is simple to diffferentiate.  In more complex situations, we would require numerical optimization methods, like Newton-Raphson, to maximize the likelihood function.\n",
    "\n",
    "Let's compute this parameter ***numerically***:"
   ]
  },
  {
   "cell_type": "code",
   "execution_count": 34,
   "metadata": {},
   "outputs": [
    {
     "data": {
      "text/plain": [
       "0.004478503184713376"
      ]
     },
     "execution_count": 34,
     "metadata": {},
     "output_type": "execute_result"
    }
   ],
   "source": [
    "smean = survival.mean()\n",
    "rate = 1. / smean\n",
    "rate"
   ]
  },
  {
   "cell_type": "markdown",
   "metadata": {},
   "source": [
    "Let's compare the fitted exponential distribution to the data. We first need to generate linearly spaced values for the x-axis (days):"
   ]
  },
  {
   "cell_type": "code",
   "execution_count": 35,
   "metadata": {},
   "outputs": [],
   "source": [
    "smax = survival.max()\n",
    "days = np.linspace(0., smax, 1000)\n",
    "# bin size: interval between two consecutive values in `days`\n",
    "dt = smax / 999."
   ]
  },
  {
   "cell_type": "markdown",
   "metadata": {},
   "source": [
    "We get the probability density function of the exponential distribution with` SciPy`. \n",
    "\n",
    "The parameter is the scale, the inverse of the estimated rate."
   ]
  },
  {
   "cell_type": "code",
   "execution_count": 36,
   "metadata": {},
   "outputs": [],
   "source": [
    "dist_exp = st.expon.pdf(days, scale=1. / rate)"
   ]
  },
  {
   "cell_type": "markdown",
   "metadata": {},
   "source": [
    "Let's plot the histogram and the obtained distribution. \n",
    "\n",
    "We need to rescale the theoretical distribution to the histogram (depending on the bin size and the total number of data points):"
   ]
  },
  {
   "cell_type": "code",
   "execution_count": 37,
   "metadata": {},
   "outputs": [
    {
     "data": {
      "text/plain": [
       "Text(0, 0.5, 'Number of patients')"
      ]
     },
     "execution_count": 37,
     "metadata": {},
     "output_type": "execute_result"
    },
    {
     "data": {
      "image/png": "[encoded data removed]",
      "text/plain": [
       "<Figure size 432x288 with 1 Axes>"
      ]
     },
     "metadata": {
      "needs_background": "light"
     },
     "output_type": "display_data"
    }
   ],
   "source": [
    "nbins = 30\n",
    "fig, ax = plt.subplots(1, 1, figsize=(6, 4))\n",
    "ax.hist(survival, nbins)\n",
    "ax.plot(days, dist_exp * len(survival) * smax / nbins,\n",
    "        '-r', lw=3)\n",
    "ax.set_xlabel(\"Survival time (days)\")\n",
    "ax.set_ylabel(\"Number of patients\")"
   ]
  },
  {
   "cell_type": "markdown",
   "metadata": {},
   "source": [
    "hmmm... \n",
    "\n",
    "What do you think?\n",
    "\n",
    "The fit between the model and our data is ***ok-ish***, but not ***perfect***.."
   ]
  },
  {
   "cell_type": "markdown",
   "metadata": {},
   "source": [
    "# 2.8 Avoiding the math, and a better model\n",
    "\n",
    "Just like with our probability function `p`, you can avoid the math when you can write python! \n",
    "\n",
    "You can also avoid the math if you know how to write python and you know where to find the useful libraries!\n",
    "\n",
    "`SciPy` actually integrates numerical maximum likelihood routines for a large number of distributions. Let's leverage `SciPy` to estimate the parameter of the exponential distribution:"
   ]
  },
  {
   "cell_type": "code",
   "execution_count": 38,
   "metadata": {},
   "outputs": [
    {
     "data": {
      "text/plain": [
       "(1.0, 222.2888888888889)"
      ]
     },
     "execution_count": 38,
     "metadata": {},
     "output_type": "execute_result"
    }
   ],
   "source": [
    "dist = st.expon\n",
    "args = dist.fit(survival)\n",
    "args"
   ]
  },
  {
   "cell_type": "markdown",
   "metadata": {},
   "source": [
    "Before we plot, let's perform a **goodness of fit test**. A good statistical goodness of fit test is the [Kolmogorov-Smirnov test](https://en.wikipedia.org/wiki/Kolmogorov%E2%80%93Smirnov_test), also known as **KS** test. it is sensitive to differences in *both* location and shape of the empirical [cumulative distribution functions](https://en.wikipedia.org/wiki/Cumulative_distribution_function) (cdf) of the two samples.\n",
    "\n",
    "The cdf is the area under the pdf: the cdf evaluated at $x$, is the probability that $X$ will take a value less than or equal to $x$. In the case of scalar continuous distributions, it gives the area under the pdf from minus infinity to $x$."
   ]
  },
  {
   "cell_type": "code",
   "execution_count": 39,
   "metadata": {},
   "outputs": [
    {
     "data": {
      "text/plain": [
       "KstestResult(statistic=0.36199693810792966, pvalue=8.647045785208746e-06)"
      ]
     },
     "execution_count": 39,
     "metadata": {},
     "output_type": "execute_result"
    }
   ],
   "source": [
    "st.kstest(survival, dist.cdf, args)"
   ]
  },
  {
   "cell_type": "markdown",
   "metadata": {},
   "source": [
    "Here, the p-value is very low: the null hypothesis (stating that the observed data stems from an exponential distribution with a maximum likelihood rate parameter) can be rejected with high confidence!\n",
    "\n",
    "- We'll talk about p-values and null-hypotheses in our ***next lecture***. They're very important point estimators in classical statistical inference. Still very much used in industry (but your professor thinks they suck, since Bayesian inference, which yields pdfs instead of point estimates, is much better).\n",
    "\n",
    "Oh no...! The exponential distribution is thus ***not a good fit for the data***, and the **KS** test told us so!"
   ]
  },
  {
   "cell_type": "markdown",
   "metadata": {},
   "source": [
    "Let's try another distribution, the [Birnbaum-Sanders distribution](https://en.wikipedia.org/wiki/Birnbaum-Saunders_distribution), which is typically used to model **failure times**. You wouldn't know about this model distribution ***without experience in data science***."
   ]
  },
  {
   "cell_type": "code",
   "execution_count": 40,
   "metadata": {},
   "outputs": [
    {
     "data": {
      "text/plain": [
       "KstestResult(statistic=0.1877344610194689, pvalue=0.07321149700086325)"
      ]
     },
     "execution_count": 40,
     "metadata": {},
     "output_type": "execute_result"
    }
   ],
   "source": [
    "dist = st.fatiguelife\n",
    "args = dist.fit(survival)\n",
    "st.kstest(survival, dist.cdf, args)"
   ]
  },
  {
   "cell_type": "markdown",
   "metadata": {},
   "source": [
    "This time, the p-value is about 0.073, so that we would ***not reject the null hypothesis*** with a five percent confidence level!\n",
    "\n",
    "Ok, let's plot now."
   ]
  },
  {
   "cell_type": "code",
   "execution_count": 41,
   "metadata": {},
   "outputs": [
    {
     "data": {
      "text/plain": [
       "<matplotlib.legend.Legend at 0x1ac80784668>"
      ]
     },
     "execution_count": 41,
     "metadata": {},
     "output_type": "execute_result"
    },
    {
     "data": {
      "image/png": "[encoded data removed]",
      "text/plain": [
       "<Figure size 432x288 with 1 Axes>"
      ]
     },
     "metadata": {
      "needs_background": "light"
     },
     "output_type": "display_data"
    }
   ],
   "source": [
    "dist_fl = dist.pdf(days, *args)\n",
    "nbins = 30\n",
    "fig, ax = plt.subplots(1, 1, figsize=(6, 4))\n",
    "ax.hist(survival, nbins)\n",
    "ax.plot(days, dist_exp * len(survival) * smax / nbins,\n",
    "        '-r', lw=3, label='exp')\n",
    "ax.plot(days, dist_fl * len(survival) * smax / nbins,\n",
    "        '--g', lw=3, label='BS')\n",
    "ax.set_xlabel(\"Survival time (days)\")\n",
    "ax.set_ylabel(\"Number of patients\")\n",
    "ax.legend()"
   ]
  },
  {
   "cell_type": "markdown",
   "metadata": {},
   "source": [
    "Yes, Birnbaum-Sanders (BS) fits the data a lot better than the exp distribution!\n",
    "\n",
    "Once again, \n",
    "\n",
    "- The maximum likelihood estimate (MLE) for the rate parameter(s) is, by definition, the value of the parameters that maximizes the likelihood function. It is the parameter(s) that maximize the probability of observing the data, assuming that the observations are actually sampled from the distribution we picked as a model.\n",
    "\n",
    "We then either verify by plotting the data and the model with the MLE parameter(s) and see if it's a good match, or use goodness of fit tests like the **KS** test to get a more objective estimate. There are [many](https://en.wikipedia.org/wiki/Goodness_of_fit) different goodness of fit tests! Which we pick is part of the art!\n",
    "If we are wrong and the fit is not very good, back to the drawing board for another model!\n",
    "\n",
    "<br />\n",
    "<center>\n",
    "<img src =images/frustration.png width = 400 />\n",
    "</center>"
   ]
  },
  {
   "cell_type": "markdown",
   "metadata": {},
   "source": [
    "# 3. Kernel Density Estimates\n",
    "\n",
    "You can also estimate a probability distribution ***nonparametrically*** with a [kernel density estimation](https://en.wikipedia.org/wiki/Kernel_density_estimation.) (KDE).\n",
    "\n",
    "In some instances, you may not be interested in the parameters of a particular distribution of data, but just a smoothed representation of the data at hand. In this case, you can estimate the disribution *non-parametrically* (i.e. making no assumptions about the form of the underlying distribution) using [kernel density estimation](https://en.wikipedia.org/wiki/Kernel_density_estimation) (KDE). \n",
    "\n",
    "KDE is a fundamental data smoothing problem where inferences about the population are made based on a finite data sample.\n",
    "\n",
    "The kernel density estimator of a set of n points ${x_i}$ is given as:\n",
    "\n",
    "$$\\hat{f}_h(x) = \\frac{1}{nh} \\sum_{i=1}^n K\\Big(\\frac{x-x_i}{h}\\Big)$$\n",
    "\n",
    "Here, $h>0$ is a scaling parameter (the bandwidth) and $K(u)$ is the kernel, a symmetric function that integrates to 1. This estimator is to be compared with a classical histogram, where the kernel would be a top-hat function (a rectangle function taking its values in ${0,1}$), but the blocks would be located on a regular grid instead of the data points.\n",
    "\n",
    "Multiple kernels can be chosen. Here, we chose a Gaussian kernel, so that the KDE is the superposition of Gaussian functions centered on all the data points. It is an estimation of the density.\n",
    "\n",
    "The choice of the bandwidth is not trivial; there is a [tradeoff](https://en.wikipedia.org/wiki/Bias-variance_dilemma.) between a too low value (small bias, high variance: overfitting) and a too high value (high bias, small variance: underfitting). \n",
    "\n",
    "There are several methods to automatically choose a sensible bandwidth. SciPy uses a rule of thumb called Scott's Rule: $h = n^{\\frac{-1}{d + 4}}$\n",
    "\n",
    "The following figure illustrates the KDE. The sample dataset contains four points in [0,1] (black lines). The estimated density is a smooth curve, represented here with different bandwidth values.\n",
    "\n",
    "<br />\n",
    "<center>\n",
    "<img src =images/kde.png width = 600 />\n",
    "</center>"
   ]
  },
  {
   "cell_type": "markdown",
   "metadata": {},
   "source": [
    "## 3.1 Some random data"
   ]
  },
  {
   "cell_type": "code",
   "execution_count": 42,
   "metadata": {},
   "outputs": [
    {
     "data": {
      "text/plain": [
       "array([2.71407964, 1.35378645, 5.39909333, 7.3842222 , 2.68103894,\n",
       "       6.20173102, 0.63037465, 1.52810275, 0.28113726, 4.14595739,\n",
       "       4.21845341, 5.33153117, 7.77605738, 4.67377741, 3.86958912])"
      ]
     },
     "execution_count": 42,
     "metadata": {},
     "output_type": "execute_result"
    }
   ],
   "source": [
    "# Some random data\n",
    "y = np.random.random(15) * 10\n",
    "y"
   ]
  },
  {
   "cell_type": "code",
   "execution_count": 43,
   "metadata": {},
   "outputs": [
    {
     "data": {
      "text/plain": [
       "[<matplotlib.lines.Line2D at 0x1acffe51e80>]"
      ]
     },
     "execution_count": 43,
     "metadata": {},
     "output_type": "execute_result"
    },
    {
     "data": {
      "image/png": "[encoded data removed]",
      "text/plain": [
       "<Figure size 432x288 with 1 Axes>"
      ]
     },
     "metadata": {
      "needs_background": "light"
     },
     "output_type": "display_data"
    }
   ],
   "source": [
    "plt.plot(y)"
   ]
  },
  {
   "cell_type": "code",
   "execution_count": 44,
   "metadata": {},
   "outputs": [
    {
     "name": "stderr",
     "output_type": "stream",
     "text": [
      "D:\\Users\\admin\\Anaconda3\\lib\\site-packages\\ipykernel_launcher.py:1: MatplotlibDeprecationWarning: \n",
      "The 'normed' kwarg was deprecated in Matplotlib 2.1 and will be removed in 3.1. Use 'density' instead.\n",
      "  \"\"\"Entry point for launching an IPython kernel.\n"
     ]
    },
    {
     "data": {
      "text/plain": [
       "(array([0.28463723, 0.        , 0.28463723, 0.        , 0.        ,\n",
       "        0.28463723, 0.        , 0.14231862, 0.28463723, 0.14231862,\n",
       "        0.28463723, 0.        , 0.14231862, 0.        , 0.        ,\n",
       "        0.28463723]),\n",
       " array([0.28113726, 0.74956977, 1.21800228, 1.68643479, 2.15486729,\n",
       "        2.6232998 , 3.09173231, 3.56016481, 4.02859732, 4.49702983,\n",
       "        4.96546233, 5.43389484, 5.90232735, 6.37075986, 6.83919236,\n",
       "        7.30762487, 7.77605738]),\n",
       " <a list of 16 Patch objects>)"
      ]
     },
     "execution_count": 44,
     "metadata": {},
     "output_type": "execute_result"
    },
    {
     "data": {
      "image/png": "[encoded data removed]",
      "text/plain": [
       "<Figure size 432x288 with 1 Axes>"
      ]
     },
     "metadata": {
      "needs_background": "light"
     },
     "output_type": "display_data"
    }
   ],
   "source": [
    "plt.hist(y, bins=16, normed=True)"
   ]
  },
  {
   "cell_type": "code",
   "execution_count": 45,
   "metadata": {},
   "outputs": [
    {
     "data": {
      "text/plain": [
       "[<matplotlib.lines.Line2D at 0x1ac81857eb8>]"
      ]
     },
     "execution_count": 45,
     "metadata": {},
     "output_type": "execute_result"
    },
    {
     "data": {
      "image/png": "[encoded data removed]",
      "text/plain": [
       "<Figure size 432x288 with 1 Axes>"
      ]
     },
     "metadata": {
      "needs_background": "light"
     },
     "output_type": "display_data"
    }
   ],
   "source": [
    "from scipy.stats.distributions import norm\n",
    "\n",
    "x = np.linspace(0, 10, 100)\n",
    "\n",
    "# Smoothing parameter\n",
    "s = 0.4\n",
    "\n",
    "# Calculate the kernels\n",
    "kernels = np.transpose([norm.pdf(x, yi, s) for yi in y])\n",
    "\n",
    "#plt.plot(x, y)\n",
    "plt.plot(x, kernels, 'k:')\n",
    "plt.plot(x, kernels.sum(1))\n",
    "plt.plot(y, np.zeros(len(y)), 'ro', ms=10)"
   ]
  },
  {
   "cell_type": "markdown",
   "metadata": {},
   "source": [
    "SciPy implements a Gaussian KDE that automatically chooses an appropriate bandwidth. \n",
    "\n",
    "## 3.2 Bimodal distribution\n",
    "\n",
    "Let's create a bi-modal distribution of data that is not easily summarized by a parametric distribution:"
   ]
  },
  {
   "cell_type": "code",
   "execution_count": 46,
   "metadata": {},
   "outputs": [],
   "source": [
    "# Create a bi-modal distribution with a mixture of Normals.\n",
    "x1 = np.random.normal(0, 3, 50)\n",
    "x2 = np.random.normal(4, 1, 50)\n",
    "\n",
    "# Append by row\n",
    "x = np.r_[x1, x2]"
   ]
  },
  {
   "cell_type": "code",
   "execution_count": 47,
   "metadata": {},
   "outputs": [
    {
     "name": "stderr",
     "output_type": "stream",
     "text": [
      "D:\\Users\\admin\\Anaconda3\\lib\\site-packages\\ipykernel_launcher.py:1: MatplotlibDeprecationWarning: \n",
      "The 'normed' kwarg was deprecated in Matplotlib 2.1 and will be removed in 3.1. Use 'density' instead.\n",
      "  \"\"\"Entry point for launching an IPython kernel.\n"
     ]
    },
    {
     "data": {
      "text/plain": [
       "(array([0.01197389, 0.01796084, 0.02394778, 0.0658564 , 0.0658564 ,\n",
       "        0.08980418, 0.1975692 , 0.12572585]),\n",
       " array([-7.15699788, -5.48669701, -3.81639614, -2.14609526, -0.47579439,\n",
       "         1.19450648,  2.86480735,  4.53510823,  6.2054091 ]),\n",
       " <a list of 8 Patch objects>)"
      ]
     },
     "execution_count": 47,
     "metadata": {},
     "output_type": "execute_result"
    },
    {
     "data": {
      "image/png": "[encoded data removed]",
      "text/plain": [
       "<Figure size 432x288 with 1 Axes>"
      ]
     },
     "metadata": {
      "needs_background": "light"
     },
     "output_type": "display_data"
    }
   ],
   "source": [
    "plt.hist(x, bins=8, normed=True)"
   ]
  },
  {
   "cell_type": "code",
   "execution_count": 48,
   "metadata": {},
   "outputs": [
    {
     "name": "stderr",
     "output_type": "stream",
     "text": [
      "D:\\Users\\admin\\Anaconda3\\lib\\site-packages\\ipykernel_launcher.py:5: MatplotlibDeprecationWarning: \n",
      "The 'normed' kwarg was deprecated in Matplotlib 2.1 and will be removed in 3.1. Use 'density' instead.\n",
      "  \"\"\"\n"
     ]
    },
    {
     "data": {
      "text/plain": [
       "[<matplotlib.lines.Line2D at 0x1ac8191ec50>]"
      ]
     },
     "execution_count": 48,
     "metadata": {},
     "output_type": "execute_result"
    },
    {
     "data": {
      "image/png": "[encoded data removed]",
      "text/plain": [
       "<Figure size 432x288 with 1 Axes>"
      ]
     },
     "metadata": {
      "needs_background": "light"
     },
     "output_type": "display_data"
    }
   ],
   "source": [
    "from scipy.stats import kde\n",
    "\n",
    "density = kde.gaussian_kde(x)\n",
    "xgrid = np.linspace(x.min(), x.max(), 100)\n",
    "plt.hist(x, bins=8, normed=True)\n",
    "plt.plot(xgrid, density(xgrid), 'r-')"
   ]
  },
  {
   "cell_type": "markdown",
   "metadata": {},
   "source": [
    "## 3.3 Spatial distribution\n",
    "\n",
    "We look at the geographical locations of tropical cyclones from 1848 to 2013, based on data provided by the NOAA, the US' National Oceanic and Atmospheric Administration.\n",
    "\n",
    "We use a kernel density estimation (KDE) to estimate that pdf.\n",
    "\n",
    "First, install a [map server](https://pypi.org/project/geos/):\n",
    "```(python)\n",
    "pip install geos\n",
    "```\n",
    "\n",
    "If you want a full geometry engine (*optional*), look [here](https://trac.osgeo.org/geos).\n",
    "\n",
    "Then, import the [cartopy](http://scitools.org.uk/cartopy/) library:\n",
    "```(python)\n",
    "conda install cartopy\n",
    "```\n",
    "\n",
    "<br />\n",
    "<center>\n",
    "<img src =images/cartopy-install.png width = 900 />\n",
    "</center>"
   ]
  },
  {
   "cell_type": "code",
   "execution_count": 49,
   "metadata": {},
   "outputs": [
    {
     "ename": "ModuleNotFoundError",
     "evalue": "No module named 'cartopy'",
     "output_type": "error",
     "traceback": [
      "\u001b[1;31m---------------------------------------------------------------------------\u001b[0m",
      "\u001b[1;31mModuleNotFoundError\u001b[0m                       Traceback (most recent call last)",
      "\u001b[1;32m<ipython-input-49-45bcee0a6978>\u001b[0m in \u001b[0;36m<module>\u001b[1;34m\u001b[0m\n\u001b[0;32m      4\u001b[0m \u001b[1;32mimport\u001b[0m \u001b[0mmatplotlib\u001b[0m\u001b[1;33m.\u001b[0m\u001b[0mpyplot\u001b[0m \u001b[1;32mas\u001b[0m \u001b[0mplt\u001b[0m\u001b[1;33m\u001b[0m\u001b[1;33m\u001b[0m\u001b[0m\n\u001b[0;32m      5\u001b[0m \u001b[1;32mfrom\u001b[0m \u001b[0mmatplotlib\u001b[0m\u001b[1;33m.\u001b[0m\u001b[0mcolors\u001b[0m \u001b[1;32mimport\u001b[0m \u001b[0mListedColormap\u001b[0m\u001b[1;33m\u001b[0m\u001b[1;33m\u001b[0m\u001b[0m\n\u001b[1;32m----> 6\u001b[1;33m \u001b[1;32mimport\u001b[0m \u001b[0mcartopy\u001b[0m\u001b[1;33m.\u001b[0m\u001b[0mcrs\u001b[0m \u001b[1;32mas\u001b[0m \u001b[0mccrs\u001b[0m\u001b[1;33m\u001b[0m\u001b[1;33m\u001b[0m\u001b[0m\n\u001b[0m\u001b[0;32m      7\u001b[0m \u001b[0mget_ipython\u001b[0m\u001b[1;33m(\u001b[0m\u001b[1;33m)\u001b[0m\u001b[1;33m.\u001b[0m\u001b[0mrun_line_magic\u001b[0m\u001b[1;33m(\u001b[0m\u001b[1;34m'matplotlib'\u001b[0m\u001b[1;33m,\u001b[0m \u001b[1;34m'inline'\u001b[0m\u001b[1;33m)\u001b[0m\u001b[1;33m\u001b[0m\u001b[1;33m\u001b[0m\u001b[0m\n",
      "\u001b[1;31mModuleNotFoundError\u001b[0m: No module named 'cartopy'"
     ]
    }
   ],
   "source": [
    "import numpy as np\n",
    "import pandas as pd\n",
    "import scipy.stats as st\n",
    "import matplotlib.pyplot as plt\n",
    "from matplotlib.colors import ListedColormap\n",
    "import cartopy.crs as ccrs\n",
    "%matplotlib inline"
   ]
  },
  {
   "cell_type": "markdown",
   "metadata": {},
   "source": [
    " Open the data with pandas:"
   ]
  },
  {
   "cell_type": "code",
   "execution_count": 50,
   "metadata": {},
   "outputs": [],
   "source": [
    "# www.ncdc.noaa.gov/ibtracs/index.php?name=wmo-data\n",
    "df = pd.read_csv('https://github.com/ipython-books/'\n",
    "                 'cookbook-2nd-data/blob/master/'\n",
    "                 'Allstorms.ibtracs_wmo.v03r05.csv?'\n",
    "                 'raw=true')"
   ]
  },
  {
   "cell_type": "markdown",
   "metadata": {},
   "source": [
    "This dataset contains information about most storms since 1848. A single storm may appear multiple times across several consecutive days."
   ]
  },
  {
   "cell_type": "code",
   "execution_count": 51,
   "metadata": {},
   "outputs": [
    {
     "data": {
      "text/html": [
       "<div>\n",
       "<style scoped>\n",
       "    .dataframe tbody tr th:only-of-type {\n",
       "        vertical-align: middle;\n",
       "    }\n",
       "\n",
       "    .dataframe tbody tr th {\n",
       "        vertical-align: top;\n",
       "    }\n",
       "\n",
       "    .dataframe thead th {\n",
       "        text-align: right;\n",
       "    }\n",
       "</style>\n",
       "<table border=\"1\" class=\"dataframe\">\n",
       "  <thead>\n",
       "    <tr style=\"text-align: right;\">\n",
       "      <th></th>\n",
       "      <th>Serial_Num</th>\n",
       "      <th>Season</th>\n",
       "      <th>Basin</th>\n",
       "      <th>Latitude</th>\n",
       "      <th>Longitude</th>\n",
       "    </tr>\n",
       "  </thead>\n",
       "  <tbody>\n",
       "    <tr>\n",
       "      <th>0</th>\n",
       "      <td>1848011S09080</td>\n",
       "      <td>1848</td>\n",
       "      <td>SI</td>\n",
       "      <td>-8.6</td>\n",
       "      <td>79.8</td>\n",
       "    </tr>\n",
       "    <tr>\n",
       "      <th>1</th>\n",
       "      <td>1848011S09080</td>\n",
       "      <td>1848</td>\n",
       "      <td>SI</td>\n",
       "      <td>-9.0</td>\n",
       "      <td>78.9</td>\n",
       "    </tr>\n",
       "    <tr>\n",
       "      <th>2</th>\n",
       "      <td>1848011S09080</td>\n",
       "      <td>1848</td>\n",
       "      <td>SI</td>\n",
       "      <td>-10.4</td>\n",
       "      <td>73.2</td>\n",
       "    </tr>\n",
       "    <tr>\n",
       "      <th>3</th>\n",
       "      <td>1848011S09080</td>\n",
       "      <td>1848</td>\n",
       "      <td>SI</td>\n",
       "      <td>-12.8</td>\n",
       "      <td>69.9</td>\n",
       "    </tr>\n",
       "    <tr>\n",
       "      <th>4</th>\n",
       "      <td>1848011S09080</td>\n",
       "      <td>1848</td>\n",
       "      <td>SI</td>\n",
       "      <td>-13.9</td>\n",
       "      <td>68.9</td>\n",
       "    </tr>\n",
       "  </tbody>\n",
       "</table>\n",
       "</div>"
      ],
      "text/plain": [
       "      Serial_Num  Season Basin  Latitude  Longitude\n",
       "0  1848011S09080    1848    SI      -8.6       79.8\n",
       "1  1848011S09080    1848    SI      -9.0       78.9\n",
       "2  1848011S09080    1848    SI     -10.4       73.2\n",
       "3  1848011S09080    1848    SI     -12.8       69.9\n",
       "4  1848011S09080    1848    SI     -13.9       68.9"
      ]
     },
     "execution_count": 51,
     "metadata": {},
     "output_type": "execute_result"
    }
   ],
   "source": [
    "df[df.columns[[0, 1, 3, 8, 9]]].head()"
   ]
  },
  {
   "cell_type": "markdown",
   "metadata": {},
   "source": [
    "Use pandas' `groupby()` function to obtain the average location of every storm:"
   ]
  },
  {
   "cell_type": "code",
   "execution_count": 52,
   "metadata": {},
   "outputs": [
    {
     "data": {
      "text/html": [
       "<div>\n",
       "<style scoped>\n",
       "    .dataframe tbody tr th:only-of-type {\n",
       "        vertical-align: middle;\n",
       "    }\n",
       "\n",
       "    .dataframe tbody tr th {\n",
       "        vertical-align: top;\n",
       "    }\n",
       "\n",
       "    .dataframe thead th {\n",
       "        text-align: right;\n",
       "    }\n",
       "</style>\n",
       "<table border=\"1\" class=\"dataframe\">\n",
       "  <thead>\n",
       "    <tr style=\"text-align: right;\">\n",
       "      <th></th>\n",
       "      <th>Latitude</th>\n",
       "      <th>Longitude</th>\n",
       "    </tr>\n",
       "    <tr>\n",
       "      <th>Serial_Num</th>\n",
       "      <th></th>\n",
       "      <th></th>\n",
       "    </tr>\n",
       "  </thead>\n",
       "  <tbody>\n",
       "    <tr>\n",
       "      <th>1848011S09080</th>\n",
       "      <td>-15.918182</td>\n",
       "      <td>71.854545</td>\n",
       "    </tr>\n",
       "    <tr>\n",
       "      <th>1848011S15057</th>\n",
       "      <td>-24.116667</td>\n",
       "      <td>52.016667</td>\n",
       "    </tr>\n",
       "    <tr>\n",
       "      <th>1848061S12075</th>\n",
       "      <td>-20.528571</td>\n",
       "      <td>65.342857</td>\n",
       "    </tr>\n",
       "    <tr>\n",
       "      <th>1851080S15063</th>\n",
       "      <td>-17.325000</td>\n",
       "      <td>55.400000</td>\n",
       "    </tr>\n",
       "    <tr>\n",
       "      <th>1851080S21060</th>\n",
       "      <td>-23.633333</td>\n",
       "      <td>60.200000</td>\n",
       "    </tr>\n",
       "  </tbody>\n",
       "</table>\n",
       "</div>"
      ],
      "text/plain": [
       "                Latitude  Longitude\n",
       "Serial_Num                         \n",
       "1848011S09080 -15.918182  71.854545\n",
       "1848011S15057 -24.116667  52.016667\n",
       "1848061S12075 -20.528571  65.342857\n",
       "1851080S15063 -17.325000  55.400000\n",
       "1851080S21060 -23.633333  60.200000"
      ]
     },
     "execution_count": 52,
     "metadata": {},
     "output_type": "execute_result"
    }
   ],
   "source": [
    "dfs = df.groupby('Serial_Num')\n",
    "pos = dfs[['Latitude', 'Longitude']].mean()\n",
    "x = pos.Longitude.values\n",
    "y = pos.Latitude.values\n",
    "pos.head()"
   ]
  },
  {
   "cell_type": "markdown",
   "metadata": {},
   "source": [
    "Let's display the storms on a map with cartopy. \n",
    "\n",
    "This toolkit allows us to easily project the geographical coordinates on the map."
   ]
  },
  {
   "cell_type": "code",
   "execution_count": 53,
   "metadata": {},
   "outputs": [
    {
     "ename": "NameError",
     "evalue": "name 'ccrs' is not defined",
     "output_type": "error",
     "traceback": [
      "\u001b[1;31m---------------------------------------------------------------------------\u001b[0m",
      "\u001b[1;31mNameError\u001b[0m                                 Traceback (most recent call last)",
      "\u001b[1;32m<ipython-input-53-b9b09cc0eb97>\u001b[0m in \u001b[0;36m<module>\u001b[1;34m\u001b[0m\n\u001b[0;32m      1\u001b[0m \u001b[1;31m# We use a simple equirectangular projection,\u001b[0m\u001b[1;33m\u001b[0m\u001b[1;33m\u001b[0m\u001b[1;33m\u001b[0m\u001b[0m\n\u001b[0;32m      2\u001b[0m \u001b[1;31m# also called Plate Carree.\u001b[0m\u001b[1;33m\u001b[0m\u001b[1;33m\u001b[0m\u001b[1;33m\u001b[0m\u001b[0m\n\u001b[1;32m----> 3\u001b[1;33m \u001b[0mgeo\u001b[0m \u001b[1;33m=\u001b[0m \u001b[0mccrs\u001b[0m\u001b[1;33m.\u001b[0m\u001b[0mGeodetic\u001b[0m\u001b[1;33m(\u001b[0m\u001b[1;33m)\u001b[0m\u001b[1;33m\u001b[0m\u001b[1;33m\u001b[0m\u001b[0m\n\u001b[0m\u001b[0;32m      4\u001b[0m \u001b[0mcrs\u001b[0m \u001b[1;33m=\u001b[0m \u001b[0mccrs\u001b[0m\u001b[1;33m.\u001b[0m\u001b[0mPlateCarree\u001b[0m\u001b[1;33m(\u001b[0m\u001b[1;33m)\u001b[0m\u001b[1;33m\u001b[0m\u001b[1;33m\u001b[0m\u001b[0m\n\u001b[0;32m      5\u001b[0m \u001b[1;31m# We create the map plot.\u001b[0m\u001b[1;33m\u001b[0m\u001b[1;33m\u001b[0m\u001b[1;33m\u001b[0m\u001b[0m\n",
      "\u001b[1;31mNameError\u001b[0m: name 'ccrs' is not defined"
     ]
    }
   ],
   "source": [
    "# We use a simple equirectangular projection,\n",
    "# also called Plate Carree.\n",
    "geo = ccrs.Geodetic()\n",
    "crs = ccrs.PlateCarree()\n",
    "# We create the map plot.\n",
    "ax = plt.axes(projection=crs)\n",
    "# We display the world map picture.\n",
    "ax.stock_img()\n",
    "# We display the storm locations.\n",
    "ax.scatter(x, y, color='r', s=.5, alpha=.25, transform=geo)"
   ]
  },
  {
   "cell_type": "markdown",
   "metadata": {},
   "source": [
    " Before performing the kernel density estimation, we transform the storms' positions from the **geodetic coordinate system** (longitude and latitude) into the map's coordinate system, called **plate carrée**."
   ]
  },
  {
   "cell_type": "code",
   "execution_count": null,
   "metadata": {},
   "outputs": [],
   "source": [
    "h = crs.transform_points(geo, x, y)[:, :2].T\n",
    "h.shape"
   ]
  },
  {
   "cell_type": "markdown",
   "metadata": {},
   "source": [
    "Now, we perform the kernel density estimation on our (2, N) array."
   ]
  },
  {
   "cell_type": "code",
   "execution_count": 54,
   "metadata": {},
   "outputs": [
    {
     "ename": "NameError",
     "evalue": "name 'h' is not defined",
     "output_type": "error",
     "traceback": [
      "\u001b[1;31m---------------------------------------------------------------------------\u001b[0m",
      "\u001b[1;31mNameError\u001b[0m                                 Traceback (most recent call last)",
      "\u001b[1;32m<ipython-input-54-f4e0adef6538>\u001b[0m in \u001b[0;36m<module>\u001b[1;34m\u001b[0m\n\u001b[1;32m----> 1\u001b[1;33m \u001b[0mkde\u001b[0m \u001b[1;33m=\u001b[0m \u001b[0mst\u001b[0m\u001b[1;33m.\u001b[0m\u001b[0mgaussian_kde\u001b[0m\u001b[1;33m(\u001b[0m\u001b[0mh\u001b[0m\u001b[1;33m)\u001b[0m\u001b[1;33m\u001b[0m\u001b[1;33m\u001b[0m\u001b[0m\n\u001b[0m",
      "\u001b[1;31mNameError\u001b[0m: name 'h' is not defined"
     ]
    }
   ],
   "source": [
    "kde = st.gaussian_kde(h)"
   ]
  },
  {
   "cell_type": "markdown",
   "metadata": {},
   "source": [
    "The `gaussian_kde()` routine returned a Python function. To see the results on a map, we need to evaluate this function on a 2D grid spanning the entire map. We create this grid with meshgrid(), and we pass the x and y values to the kde() function:"
   ]
  },
  {
   "cell_type": "code",
   "execution_count": 55,
   "metadata": {},
   "outputs": [
    {
     "ename": "AttributeError",
     "evalue": "'AxesSubplot' object has no attribute 'get_extent'",
     "output_type": "error",
     "traceback": [
      "\u001b[1;31m---------------------------------------------------------------------------\u001b[0m",
      "\u001b[1;31mAttributeError\u001b[0m                            Traceback (most recent call last)",
      "\u001b[1;32m<ipython-input-55-4781fe111053>\u001b[0m in \u001b[0;36m<module>\u001b[1;34m\u001b[0m\n\u001b[0;32m      1\u001b[0m \u001b[0mk\u001b[0m \u001b[1;33m=\u001b[0m \u001b[1;36m100\u001b[0m\u001b[1;33m\u001b[0m\u001b[1;33m\u001b[0m\u001b[0m\n\u001b[0;32m      2\u001b[0m \u001b[1;31m# Coordinates of the four corners of the map.\u001b[0m\u001b[1;33m\u001b[0m\u001b[1;33m\u001b[0m\u001b[1;33m\u001b[0m\u001b[0m\n\u001b[1;32m----> 3\u001b[1;33m \u001b[0mx0\u001b[0m\u001b[1;33m,\u001b[0m \u001b[0mx1\u001b[0m\u001b[1;33m,\u001b[0m \u001b[0my0\u001b[0m\u001b[1;33m,\u001b[0m \u001b[0my1\u001b[0m \u001b[1;33m=\u001b[0m \u001b[0max\u001b[0m\u001b[1;33m.\u001b[0m\u001b[0mget_extent\u001b[0m\u001b[1;33m(\u001b[0m\u001b[1;33m)\u001b[0m\u001b[1;33m\u001b[0m\u001b[1;33m\u001b[0m\u001b[0m\n\u001b[0m\u001b[0;32m      4\u001b[0m \u001b[1;31m# We create the grid.\u001b[0m\u001b[1;33m\u001b[0m\u001b[1;33m\u001b[0m\u001b[1;33m\u001b[0m\u001b[0m\n\u001b[0;32m      5\u001b[0m tx, ty = np.meshgrid(np.linspace(x0, x1, 2 * k),\n",
      "\u001b[1;31mAttributeError\u001b[0m: 'AxesSubplot' object has no attribute 'get_extent'"
     ]
    }
   ],
   "source": [
    "k = 100\n",
    "# Coordinates of the four corners of the map.\n",
    "x0, x1, y0, y1 = ax.get_extent()\n",
    "# We create the grid.\n",
    "tx, ty = np.meshgrid(np.linspace(x0, x1, 2 * k),\n",
    "                     np.linspace(y0, y1, k))\n",
    "# We reshape the grid for the kde() function.\n",
    "mesh = np.vstack((tx.ravel(), ty.ravel()))\n",
    "# We evaluate the kde() function on the grid.\n",
    "v = kde(mesh).reshape((k, 2 * k))"
   ]
  },
  {
   "cell_type": "markdown",
   "metadata": {},
   "source": [
    "Before displaying the KDE heatmap on the map, we need to use a special colormap with a transparent channel. This will allow us to superimpose the heatmap on the stock image:"
   ]
  },
  {
   "cell_type": "code",
   "execution_count": 56,
   "metadata": {},
   "outputs": [],
   "source": [
    "# [https://stackoverflow.com/a/37334212/1595060](https://stackoverflow.com/a/37334212/1595060)\n",
    "cmap = plt.get_cmap('Reds')\n",
    "my_cmap = cmap(np.arange(cmap.N))\n",
    "my_cmap[:, -1] = np.linspace(0, 1, cmap.N)\n",
    "my_cmap = ListedColormap(my_cmap)"
   ]
  },
  {
   "cell_type": "markdown",
   "metadata": {},
   "source": [
    "Finally, we display the estimated density with imshow():"
   ]
  },
  {
   "cell_type": "code",
   "execution_count": 57,
   "metadata": {},
   "outputs": [
    {
     "ename": "NameError",
     "evalue": "name 'crs' is not defined",
     "output_type": "error",
     "traceback": [
      "\u001b[1;31m---------------------------------------------------------------------------\u001b[0m",
      "\u001b[1;31mNameError\u001b[0m                                 Traceback (most recent call last)",
      "\u001b[1;32m<ipython-input-57-a7f1807228ff>\u001b[0m in \u001b[0;36m<module>\u001b[1;34m\u001b[0m\n\u001b[1;32m----> 1\u001b[1;33m \u001b[0max\u001b[0m \u001b[1;33m=\u001b[0m \u001b[0mplt\u001b[0m\u001b[1;33m.\u001b[0m\u001b[0maxes\u001b[0m\u001b[1;33m(\u001b[0m\u001b[0mprojection\u001b[0m\u001b[1;33m=\u001b[0m\u001b[0mcrs\u001b[0m\u001b[1;33m)\u001b[0m\u001b[1;33m\u001b[0m\u001b[1;33m\u001b[0m\u001b[0m\n\u001b[0m\u001b[0;32m      2\u001b[0m \u001b[0max\u001b[0m\u001b[1;33m.\u001b[0m\u001b[0mstock_img\u001b[0m\u001b[1;33m(\u001b[0m\u001b[1;33m)\u001b[0m\u001b[1;33m\u001b[0m\u001b[1;33m\u001b[0m\u001b[0m\n\u001b[0;32m      3\u001b[0m ax.imshow(v, origin='lower',\n\u001b[0;32m      4\u001b[0m           \u001b[0mextent\u001b[0m\u001b[1;33m=\u001b[0m\u001b[1;33m[\u001b[0m\u001b[0mx0\u001b[0m\u001b[1;33m,\u001b[0m \u001b[0mx1\u001b[0m\u001b[1;33m,\u001b[0m \u001b[0my0\u001b[0m\u001b[1;33m,\u001b[0m \u001b[0my1\u001b[0m\u001b[1;33m]\u001b[0m\u001b[1;33m,\u001b[0m\u001b[1;33m\u001b[0m\u001b[1;33m\u001b[0m\u001b[0m\n\u001b[0;32m      5\u001b[0m           \u001b[0minterpolation\u001b[0m\u001b[1;33m=\u001b[0m\u001b[1;34m'bilinear'\u001b[0m\u001b[1;33m,\u001b[0m\u001b[1;33m\u001b[0m\u001b[1;33m\u001b[0m\u001b[0m\n",
      "\u001b[1;31mNameError\u001b[0m: name 'crs' is not defined"
     ]
    }
   ],
   "source": [
    "ax = plt.axes(projection=crs)\n",
    "ax.stock_img()\n",
    "ax.imshow(v, origin='lower',\n",
    "          extent=[x0, x1, y0, y1],\n",
    "          interpolation='bilinear',\n",
    "          cmap=my_cmap)"
   ]
  },
  {
   "cell_type": "markdown",
   "metadata": {},
   "source": [
    "# 4. Limitations of MLE and classical statistical estimation\n",
    "\n",
    "What do you need to know?\n",
    "\n",
    "- MOM equates the empirical and theoretical moments to yield the parameters of your model. \n",
    "\n",
    "- MLE gives you the value which maximises the Likelihood P(D|θ). \n",
    "\n",
    "- [Maximum a Posteriori estimation](https://en.wikipedia.org/wiki/Maximum_a_posteriori_estimation) (MAP), which we skipped over, yields the value which maximises the posterior probability P(θ|D). As both methods give you a single fixed value, they’re considered to be **point estimators**.\n",
    "\n",
    "- How to numerically evaluate the parameters of your model using the first two methods. You do not need to know the math (but if you understand it, that is a good thing!)\n",
    "\n",
    "**Bayesian inference**, as we will see next week, ***fully calculates the posterior probability distribution***, as Bayes' formula below. \n",
    "\n",
    "$$p(θ \\; | \\; D) = \\frac{p(D \\; | \\; θ) \\; p(θ)}{p(D)}$$\n",
    "\n",
    "Hence the output is not a single value, i.e. a **point estimate** for the parameters of your model, but a **probability density function*** (when θ is a continuous variable) or a ***probability mass function*** (when θ is a discrete variable) ***for the parameters of your model***. That way, you know what the most likely value is, ***but also the amount of error you might be making***!\n",
    "\n",
    "- MLE and MAP return a single fixed value(s) for the model parameter, but Bayesian inference returns functions (pdfs)  instead!\n",
    "\n",
    "Assume you’re in a casino with full of slot machines with 50% winning probability. After playing for a while, you hear a rumour that there’s ***one special slot machine*** with 67% winning probability!\n",
    "\n",
    "Now, you’re observing people playing 2 suspicious slot machines (you’re sure that one of those is the special slot machine!) and get the following data.\n",
    "\n",
    "Machine A: 3 wins out of 4 plays\n",
    "Machine B: 81 wins out of 121 plays\n",
    "\n",
    "By intuition, you would think machine B is the special one! Because 3 wins out of 4 plays on machine A could just happen by chance. But machine B’s data doesn’t look like it's happening by chance!\n",
    "\n",
    "The posterior probability distribution P(θ|D), calculated as a Gamma function, is plotted below for the two machines:\n",
    "\n",
    "<br />\n",
    "<center>\n",
    "<img src =images/tricked-slot-machines.png width = 400 />\n",
    "</center>\n",
    "\n",
    "Although both distributions have their mode on θ=0.666 (MLE estimate), the shapes of the distributions are quite different. Density around the mode is much higher in the distribution of machine B than the one of machine A.\n",
    "\n",
    "So a pdf yields much more information than a point estimate. In particular, it tells us about errors in the estimation. And that is very important when a model is making a potentially dangerous prediction (e.g. ***drive 120 mph on this road***).\n",
    "\n",
    "***Ummm... computer, what's an estimation of the error you might be making in your prediction?***\n",
    "\n",
    "<br />\n",
    "<center>\n",
    "<img src =images/crazy-robot.jpg width = 300 />\n",
    "</center>\n",
    "\n",
    "So we will now turn our attention to Bayesian estimation. Bayes' formula is actually pretty complex. Specifically, the term in the denominator, a **marginal probability**,  needs to be calculated for every possible θ:\n",
    "\n",
    "<br />\n",
    "<center>\n",
    "<img src =images/bayes-complex.png width = 500 />\n",
    "</center>\n",
    "\n",
    "That integral sum (for the continuous case, a simple sun for discrete cases) is the reason why we had to wait for powerful laptops before we could actually put Bayesian estimation to practice. \n",
    "\n",
    "When the model is ***analytic***, like the ones in this notebook, solutions are forthcoming, albeit with a bit of math. But that is rarely the case in real-world applications. We then need to use ***Monte Carlo*** and other probabilistic programming methodologies as substitute for direct integral computation. That is what we'll look at next week."
   ]
  },
  {
   "cell_type": "markdown",
   "metadata": {},
   "source": [
    "# Homework\n",
    "\n",
    "Find a sexy dataset and predict future values using random forest regression. See how far into the future you can predict (with at least 75% accuracy on a test dataset). \n",
    "\n",
    "Find a dataset and model it by guessing a pdf that matches its histogram. Then find the mist likely parameters of your pdf using MLE.\n",
    "\n",
    "***You may work in teams of 2***.\n",
    "\n",
    "We know the theory works, right? The point here is to find the ***sexiest, most original dataset ever***. You will not get a good grade if you use boring datasets that everyone can easily google for. For example, if you can compile your own dataset by getting data, say from *Tatte's*, that sounds pretty sexy to me.\n",
    "\n",
    "3 A+ grades will be given out for the most original datasets, and you will present your notebook in class next week."
   ]
  }
 ],
 "metadata": {
  "kernelspec": {
   "display_name": "Python 3",
   "language": "python",
   "name": "python3"
  },
  "language_info": {
   "codemirror_mode": {
    "name": "ipython",
    "version": 3
   },
   "file_extension": ".py",
   "mimetype": "text/x-python",
   "name": "python",
   "nbconvert_exporter": "python",
   "pygments_lexer": "ipython3",
   "version": "3.7.3"
  }
 },
 "nbformat": 4,
 "nbformat_minor": 2
}
