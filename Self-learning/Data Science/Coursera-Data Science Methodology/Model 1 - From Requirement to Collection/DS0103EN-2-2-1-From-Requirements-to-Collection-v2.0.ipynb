{
 "cells": [
  {
   "cell_type": "markdown",
   "metadata": {
    "button": false,
    "deletable": true,
    "new_sheet": false,
    "run_control": {
     "read_only": false
    }
   },
   "source": [
    "<a href=\"https://cognitiveclass.ai\"><img src = \"https://ibm.box.com/shared/static/9gegpsmnsoo25ikkbl4qzlvlyjbgxs5x.png\" width = 400> </a>\n",
    "\n",
    "<h1 align=center><font size = 5>From Requirements to Collection</font></h1>"
   ]
  },
  {
   "cell_type": "markdown",
   "metadata": {
    "button": false,
    "deletable": true,
    "new_sheet": false,
    "run_control": {
     "read_only": false
    }
   },
   "source": [
    "## Introduction\n",
    "\n",
    "In this lab, we will continue learning about the data science methodology, and focus on the **Data Requirements** and the **Data Collection** stages."
   ]
  },
  {
   "cell_type": "markdown",
   "metadata": {
    "button": false,
    "deletable": true,
    "new_sheet": false,
    "run_control": {
     "read_only": false
    }
   },
   "source": [
    "## Table of Contents\n",
    "\n",
    "<div class=\"alert alert-block alert-info\" style=\"margin-top: 20px\">\n",
    "1. [Data Requirements](#0)<br>\n",
    "2. [Data Collection](#2)<br>\n",
    "</div>\n",
    "<hr>"
   ]
  },
  {
   "cell_type": "markdown",
   "metadata": {
    "button": false,
    "deletable": true,
    "new_sheet": false,
    "run_control": {
     "read_only": false
    }
   },
   "source": [
    "# Data Requirements <a id=\"0\"></a>"
   ]
  },
  {
   "cell_type": "markdown",
   "metadata": {
    "button": false,
    "deletable": true,
    "new_sheet": false,
    "run_control": {
     "read_only": false
    }
   },
   "source": [
    " "
   ]
  },
  {
   "cell_type": "markdown",
   "metadata": {
    "button": false,
    "deletable": true,
    "new_sheet": false,
    "run_control": {
     "read_only": false
    }
   },
   "source": [
    "<img src=\"https://s3-api.us-geo.objectstorage.softlayer.net/cf-courses-data/CognitiveClass/DS0103EN/labs/images/lab2_fig1_flowchart_data_requirements.png\" width=500>"
   ]
  },
  {
   "cell_type": "markdown",
   "metadata": {
    "button": false,
    "deletable": true,
    "new_sheet": false,
    "run_control": {
     "read_only": false
    }
   },
   "source": [
    "In the videos, we learned that the chosen analytic approach determines the data requirements. Specifically, the analytic methods to be used require certain data content, formats and representations, guided by domain knowledge."
   ]
  },
  {
   "cell_type": "markdown",
   "metadata": {
    "button": false,
    "deletable": true,
    "new_sheet": false,
    "run_control": {
     "read_only": false
    }
   },
   "source": [
    "In the **From Problem to Approach Lab**, we determined that automating the process of determining the cuisine of a given recipe or dish is potentially possible using the ingredients of the recipe or the dish. In order to build a model, we need extensive data of different cuisines and recipes."
   ]
  },
  {
   "cell_type": "markdown",
   "metadata": {
    "button": false,
    "deletable": true,
    "new_sheet": false,
    "run_control": {
     "read_only": false
    }
   },
   "source": [
    "Identifying the required data fulfills the data requirements stage of the data science methodology.\n",
    "\n",
    "-----------"
   ]
  },
  {
   "cell_type": "markdown",
   "metadata": {
    "button": false,
    "deletable": true,
    "new_sheet": false,
    "run_control": {
     "read_only": false
    }
   },
   "source": [
    "# Data Collection <a id=\"2\"></a>"
   ]
  },
  {
   "cell_type": "markdown",
   "metadata": {
    "button": false,
    "deletable": true,
    "new_sheet": false,
    "run_control": {
     "read_only": false
    }
   },
   "source": [
    "<img src = \"https://s3-api.us-geo.objectstorage.softlayer.net/cf-courses-data/CognitiveClass/DS0103EN/labs/images/lab2_fig2_flowchart_data_collection.png\" width=500>"
   ]
  },
  {
   "cell_type": "markdown",
   "metadata": {
    "button": false,
    "deletable": true,
    "new_sheet": false,
    "run_control": {
     "read_only": false
    }
   },
   "source": [
    "In the initial data collection stage, data scientists identify and gather the available data resources. These can be in the form of structured, unstructured, and even semi-structured data relevant to the problem domain."
   ]
  },
  {
   "cell_type": "markdown",
   "metadata": {
    "button": false,
    "deletable": true,
    "new_sheet": false,
    "run_control": {
     "read_only": false
    }
   },
   "source": [
    "#### Web Scraping of Online Food Recipes \n",
    "\n",
    "A researcher named Yong-Yeol Ahn scraped tens of thousands of food recipes (cuisines and ingredients) from three different websites, namely:"
   ]
  },
  {
   "cell_type": "markdown",
   "metadata": {
    "button": false,
    "deletable": true,
    "new_sheet": false,
    "run_control": {
     "read_only": false
    }
   },
   "source": [
    "<img src = \"https://s3-api.us-geo.objectstorage.softlayer.net/cf-courses-data/CognitiveClass/DS0103EN/labs/images/lab2_fig3_allrecipes.png\" width=500>\n",
    "\n",
    "www.allrecipes.com\n",
    "\n",
    "<img src = \"https://s3-api.us-geo.objectstorage.softlayer.net/cf-courses-data/CognitiveClass/DS0103EN/labs/images/lab2_fig4_epicurious.png\" width=500>\n",
    "\n",
    "www.epicurious.com\n",
    "\n",
    "<img src = \"https://s3-api.us-geo.objectstorage.softlayer.net/cf-courses-data/CognitiveClass/DS0103EN/labs/images/lab2_fig5_menupan.png\" width=500>\n",
    "\n",
    "www.menupan.com"
   ]
  },
  {
   "cell_type": "markdown",
   "metadata": {
    "button": false,
    "deletable": true,
    "new_sheet": false,
    "run_control": {
     "read_only": false
    }
   },
   "source": [
    "For more information on Yong-Yeol Ahn and his research, you can read his paper on [Flavor Network and the Principles of Food Pairing](http://yongyeol.com/papers/ahn-flavornet-2011.pdf)."
   ]
  },
  {
   "cell_type": "markdown",
   "metadata": {
    "button": false,
    "deletable": true,
    "new_sheet": false,
    "run_control": {
     "read_only": false
    }
   },
   "source": [
    "Luckily, we will not need to carry out any data collection as the data that we need to meet the goal defined in the business understanding stage is readily available."
   ]
  },
  {
   "cell_type": "markdown",
   "metadata": {
    "button": false,
    "deletable": true,
    "new_sheet": false,
    "run_control": {
     "read_only": false
    }
   },
   "source": [
    "#### We have already acquired the data and placed it on an IBM server. Let's download the data and take a look at it."
   ]
  },
  {
   "cell_type": "markdown",
   "metadata": {
    "button": false,
    "deletable": true,
    "new_sheet": false,
    "run_control": {
     "read_only": false
    }
   },
   "source": [
    "<strong>Important note:</strong> Please note that you are not expected to know how to program in Python. The following code is meant to illustrate the stage of data collection, so it is totally fine if you do not understand the individual lines of code. We have a full course on programming in Python, <a href=\"http://cocl.us/PY0101EN_DS0103EN_LAB2_PYTHON_Coursera\"><strong>Python for Data Science</strong></a>, which is also offered on Coursera. So make sure to complete the Python course if you are interested in learning how to program in Python."
   ]
  },
  {
   "cell_type": "markdown",
   "metadata": {
    "button": false,
    "deletable": true,
    "new_sheet": false,
    "run_control": {
     "read_only": false
    }
   },
   "source": [
    "### Using this notebook:\n",
    "\n",
    "To run any of the following cells of code, you can type **Shift + Enter** to excute the code in a cell."
   ]
  },
  {
   "cell_type": "markdown",
   "metadata": {
    "button": false,
    "deletable": true,
    "new_sheet": false,
    "run_control": {
     "read_only": false
    }
   },
   "source": [
    "Get the version of Python installed."
   ]
  },
  {
   "cell_type": "code",
   "execution_count": 1,
   "metadata": {},
   "outputs": [
    {
     "name": "stdout",
     "output_type": "stream",
     "text": "Python 3.7.4\n"
    }
   ],
   "source": [
    "# check Python version\n",
    "!python -V"
   ]
  },
  {
   "cell_type": "markdown",
   "metadata": {
    "button": false,
    "deletable": true,
    "new_sheet": false,
    "run_control": {
     "read_only": false
    }
   },
   "source": [
    "Read the data from the IBM server into a *pandas* dataframe."
   ]
  },
  {
   "cell_type": "code",
   "execution_count": 2,
   "metadata": {},
   "outputs": [
    {
     "name": "stdout",
     "output_type": "stream",
     "text": "Data read into dataframe!\n"
    }
   ],
   "source": [
    "import pandas as pd # download library to read data into dataframe\n",
    "pd.set_option('display.max_columns', None)\n",
    "\n",
    "recipes = pd.read_csv(\"https://s3-api.us-geo.objectstorage.softlayer.net/cf-courses-data/CognitiveClass/DS0103EN/labs/data/recipes.csv\")\n",
    "\n",
    "print(\"Data read into dataframe!\") # takes about 30 seconds"
   ]
  },
  {
   "cell_type": "markdown",
   "metadata": {
    "button": false,
    "deletable": true,
    "new_sheet": false,
    "run_control": {
     "read_only": false
    }
   },
   "source": [
    "Show the first few rows."
   ]
  },
  {
   "cell_type": "code",
   "execution_count": 3,
   "metadata": {},
   "outputs": [
    {
     "data": {
      "text/html": "<div>\n<style scoped>\n    .dataframe tbody tr th:only-of-type {\n        vertical-align: middle;\n    }\n\n    .dataframe tbody tr th {\n        vertical-align: top;\n    }\n\n    .dataframe thead th {\n        text-align: right;\n    }\n</style>\n<table border=\"1\" class=\"dataframe\">\n  <thead>\n    <tr style=\"text-align: right;\">\n      <th></th>\n      <th>country</th>\n      <th>almond</th>\n      <th>angelica</th>\n      <th>anise</th>\n      <th>anise_seed</th>\n      <th>apple</th>\n      <th>apple_brandy</th>\n      <th>apricot</th>\n      <th>armagnac</th>\n      <th>artemisia</th>\n      <th>artichoke</th>\n      <th>asparagus</th>\n      <th>avocado</th>\n      <th>bacon</th>\n      <th>baked_potato</th>\n      <th>balm</th>\n      <th>banana</th>\n      <th>barley</th>\n      <th>bartlett_pear</th>\n      <th>basil</th>\n      <th>bay</th>\n      <th>bean</th>\n      <th>beech</th>\n      <th>beef</th>\n      <th>beef_broth</th>\n      <th>beef_liver</th>\n      <th>beer</th>\n      <th>beet</th>\n      <th>bell_pepper</th>\n      <th>bergamot</th>\n      <th>berry</th>\n      <th>bitter_orange</th>\n      <th>black_bean</th>\n      <th>black_currant</th>\n      <th>black_mustard_seed_oil</th>\n      <th>black_pepper</th>\n      <th>black_raspberry</th>\n      <th>black_sesame_seed</th>\n      <th>black_tea</th>\n      <th>blackberry</th>\n      <th>blackberry_brandy</th>\n      <th>blue_cheese</th>\n      <th>blueberry</th>\n      <th>bone_oil</th>\n      <th>bourbon_whiskey</th>\n      <th>brandy</th>\n      <th>brassica</th>\n      <th>bread</th>\n      <th>broccoli</th>\n      <th>brown_rice</th>\n      <th>brussels_sprout</th>\n      <th>buckwheat</th>\n      <th>butter</th>\n      <th>buttermilk</th>\n      <th>cabbage</th>\n      <th>cabernet_sauvignon_wine</th>\n      <th>cacao</th>\n      <th>camembert_cheese</th>\n      <th>cane_molasses</th>\n      <th>caraway</th>\n      <th>cardamom</th>\n      <th>carnation</th>\n      <th>carob</th>\n      <th>carrot</th>\n      <th>cashew</th>\n      <th>cassava</th>\n      <th>catfish</th>\n      <th>cauliflower</th>\n      <th>caviar</th>\n      <th>cayenne</th>\n      <th>celery</th>\n      <th>celery_oil</th>\n      <th>cereal</th>\n      <th>chamomile</th>\n      <th>champagne_wine</th>\n      <th>chayote</th>\n      <th>cheddar_cheese</th>\n      <th>cheese</th>\n      <th>cherry</th>\n      <th>cherry_brandy</th>\n      <th>chervil</th>\n      <th>chicken</th>\n      <th>chicken_broth</th>\n      <th>chicken_liver</th>\n      <th>chickpea</th>\n      <th>chicory</th>\n      <th>chinese_cabbage</th>\n      <th>chive</th>\n      <th>cider</th>\n      <th>cilantro</th>\n      <th>cinnamon</th>\n      <th>citrus</th>\n      <th>citrus_peel</th>\n      <th>clam</th>\n      <th>clove</th>\n      <th>cocoa</th>\n      <th>coconut</th>\n      <th>coconut_oil</th>\n      <th>cod</th>\n      <th>coffee</th>\n      <th>cognac</th>\n      <th>concord_grape</th>\n      <th>condiment</th>\n      <th>coriander</th>\n      <th>corn</th>\n      <th>corn_flake</th>\n      <th>corn_grit</th>\n      <th>cottage_cheese</th>\n      <th>crab</th>\n      <th>cranberry</th>\n      <th>cream</th>\n      <th>cream_cheese</th>\n      <th>cucumber</th>\n      <th>cumin</th>\n      <th>cured_pork</th>\n      <th>currant</th>\n      <th>date</th>\n      <th>dill</th>\n      <th>durian</th>\n      <th>eel</th>\n      <th>egg</th>\n      <th>egg_noodle</th>\n      <th>elderberry</th>\n      <th>emmental_cheese</th>\n      <th>endive</th>\n      <th>enokidake</th>\n      <th>fennel</th>\n      <th>fenugreek</th>\n      <th>feta_cheese</th>\n      <th>fig</th>\n      <th>fish</th>\n      <th>flower</th>\n      <th>frankfurter</th>\n      <th>fruit</th>\n      <th>galanga</th>\n      <th>gardenia</th>\n      <th>garlic</th>\n      <th>gelatin</th>\n      <th>geranium</th>\n      <th>gin</th>\n      <th>ginger</th>\n      <th>goat_cheese</th>\n      <th>grape</th>\n      <th>grape_brandy</th>\n      <th>grape_juice</th>\n      <th>grapefruit</th>\n      <th>green_bell_pepper</th>\n      <th>green_tea</th>\n      <th>gruyere_cheese</th>\n      <th>guava</th>\n      <th>haddock</th>\n      <th>ham</th>\n      <th>hazelnut</th>\n      <th>herring</th>\n      <th>holy_basil</th>\n      <th>honey</th>\n      <th>hop</th>\n      <th>horseradish</th>\n      <th>huckleberry</th>\n      <th>jamaican_rum</th>\n      <th>japanese_plum</th>\n      <th>jasmine</th>\n      <th>jasmine_tea</th>\n      <th>juniper_berry</th>\n      <th>kaffir_lime</th>\n      <th>kale</th>\n      <th>katsuobushi</th>\n      <th>kelp</th>\n      <th>kidney_bean</th>\n      <th>kiwi</th>\n      <th>kohlrabi</th>\n      <th>kumquat</th>\n      <th>lamb</th>\n      <th>lard</th>\n      <th>laurel</th>\n      <th>lavender</th>\n      <th>leaf</th>\n      <th>leek</th>\n      <th>lemon</th>\n      <th>lemon_juice</th>\n      <th>lemon_peel</th>\n      <th>lemongrass</th>\n      <th>lentil</th>\n      <th>lettuce</th>\n      <th>licorice</th>\n      <th>lilac_flower_oil</th>\n      <th>lima_bean</th>\n      <th>lime</th>\n      <th>lime_juice</th>\n      <th>lime_peel_oil</th>\n      <th>lingonberry</th>\n      <th>litchi</th>\n      <th>liver</th>\n      <th>lobster</th>\n      <th>long_pepper</th>\n      <th>lovage</th>\n      <th>macadamia_nut</th>\n      <th>macaroni</th>\n      <th>mace</th>\n      <th>mackerel</th>\n      <th>malt</th>\n      <th>mandarin</th>\n      <th>mandarin_peel</th>\n      <th>mango</th>\n      <th>maple_syrup</th>\n      <th>marjoram</th>\n      <th>mate</th>\n      <th>matsutake</th>\n      <th>meat</th>\n      <th>melon</th>\n      <th>milk</th>\n      <th>milk_fat</th>\n      <th>mint</th>\n      <th>mozzarella_cheese</th>\n      <th>mung_bean</th>\n      <th>munster_cheese</th>\n      <th>muscat_grape</th>\n      <th>mushroom</th>\n      <th>mussel</th>\n      <th>mustard</th>\n      <th>mutton</th>\n      <th>nectarine</th>\n      <th>nira</th>\n      <th>nut</th>\n      <th>nutmeg</th>\n      <th>oat</th>\n      <th>oatmeal</th>\n      <th>octopus</th>\n      <th>okra</th>\n      <th>olive</th>\n      <th>olive_oil</th>\n      <th>onion</th>\n      <th>orange</th>\n      <th>orange_flower</th>\n      <th>orange_juice</th>\n      <th>orange_peel</th>\n      <th>oregano</th>\n      <th>ouzo</th>\n      <th>oyster</th>\n      <th>palm</th>\n      <th>papaya</th>\n      <th>parmesan_cheese</th>\n      <th>parsley</th>\n      <th>parsnip</th>\n      <th>passion_fruit</th>\n      <th>pea</th>\n      <th>peach</th>\n      <th>peanut</th>\n      <th>peanut_butter</th>\n      <th>peanut_oil</th>\n      <th>pear</th>\n      <th>pear_brandy</th>\n      <th>pecan</th>\n      <th>pelargonium</th>\n      <th>pepper</th>\n      <th>peppermint</th>\n      <th>peppermint_oil</th>\n      <th>pimenta</th>\n      <th>pimento</th>\n      <th>pineapple</th>\n      <th>pistachio</th>\n      <th>plum</th>\n      <th>popcorn</th>\n      <th>porcini</th>\n      <th>pork</th>\n      <th>pork_liver</th>\n      <th>pork_sausage</th>\n      <th>port_wine</th>\n      <th>potato</th>\n      <th>potato_chip</th>\n      <th>prawn</th>\n      <th>prickly_pear</th>\n      <th>provolone_cheese</th>\n      <th>pumpkin</th>\n      <th>quince</th>\n      <th>radish</th>\n      <th>raisin</th>\n      <th>rapeseed</th>\n      <th>raspberry</th>\n      <th>raw_beef</th>\n      <th>red_algae</th>\n      <th>red_bean</th>\n      <th>red_kidney_bean</th>\n      <th>red_wine</th>\n      <th>rhubarb</th>\n      <th>rice</th>\n      <th>roasted_almond</th>\n      <th>roasted_beef</th>\n      <th>roasted_hazelnut</th>\n      <th>roasted_meat</th>\n      <th>roasted_nut</th>\n      <th>roasted_peanut</th>\n      <th>roasted_pecan</th>\n      <th>roasted_pork</th>\n      <th>roasted_sesame_seed</th>\n      <th>romano_cheese</th>\n      <th>root</th>\n      <th>roquefort_cheese</th>\n      <th>rose</th>\n      <th>rosemary</th>\n      <th>rum</th>\n      <th>rutabaga</th>\n      <th>rye_bread</th>\n      <th>rye_flour</th>\n      <th>saffron</th>\n      <th>sage</th>\n      <th>sake</th>\n      <th>salmon</th>\n      <th>salmon_roe</th>\n      <th>sassafras</th>\n      <th>sauerkraut</th>\n      <th>savory</th>\n      <th>scallion</th>\n      <th>scallop</th>\n      <th>sea_algae</th>\n      <th>seaweed</th>\n      <th>seed</th>\n      <th>sesame_oil</th>\n      <th>sesame_seed</th>\n      <th>shallot</th>\n      <th>sheep_cheese</th>\n      <th>shellfish</th>\n      <th>sherry</th>\n      <th>shiitake</th>\n      <th>shrimp</th>\n      <th>smoke</th>\n      <th>smoked_fish</th>\n      <th>smoked_salmon</th>\n      <th>smoked_sausage</th>\n      <th>sour_cherry</th>\n      <th>sour_milk</th>\n      <th>soy_sauce</th>\n      <th>soybean</th>\n      <th>soybean_oil</th>\n      <th>spearmint</th>\n      <th>squash</th>\n      <th>squid</th>\n      <th>star_anise</th>\n      <th>starch</th>\n      <th>strawberry</th>\n      <th>strawberry_jam</th>\n      <th>strawberry_juice</th>\n      <th>sturgeon_caviar</th>\n      <th>sumac</th>\n      <th>sunflower_oil</th>\n      <th>sweet_potato</th>\n      <th>swiss_cheese</th>\n      <th>tabasco_pepper</th>\n      <th>tamarind</th>\n      <th>tangerine</th>\n      <th>tarragon</th>\n      <th>tea</th>\n      <th>tequila</th>\n      <th>thai_pepper</th>\n      <th>thyme</th>\n      <th>tomato</th>\n      <th>tomato_juice</th>\n      <th>truffle</th>\n      <th>tuna</th>\n      <th>turkey</th>\n      <th>turmeric</th>\n      <th>turnip</th>\n      <th>vanilla</th>\n      <th>veal</th>\n      <th>vegetable</th>\n      <th>vegetable_oil</th>\n      <th>vinegar</th>\n      <th>violet</th>\n      <th>walnut</th>\n      <th>wasabi</th>\n      <th>watercress</th>\n      <th>watermelon</th>\n      <th>wheat</th>\n      <th>wheat_bread</th>\n      <th>whiskey</th>\n      <th>white_bread</th>\n      <th>white_wine</th>\n      <th>whole_grain_wheat_flour</th>\n      <th>wine</th>\n      <th>wood</th>\n      <th>yam</th>\n      <th>yeast</th>\n      <th>yogurt</th>\n      <th>zucchini</th>\n    </tr>\n  </thead>\n  <tbody>\n    <tr>\n      <td>0</td>\n      <td>Vietnamese</td>\n      <td>No</td>\n      <td>No</td>\n      <td>No</td>\n      <td>No</td>\n      <td>No</td>\n      <td>No</td>\n      <td>No</td>\n      <td>No</td>\n      <td>No</td>\n      <td>No</td>\n      <td>No</td>\n      <td>No</td>\n      <td>No</td>\n      <td>No</td>\n      <td>No</td>\n      <td>No</td>\n      <td>No</td>\n      <td>No</td>\n      <td>Yes</td>\n      <td>No</td>\n      <td>No</td>\n      <td>No</td>\n      <td>No</td>\n      <td>No</td>\n      <td>No</td>\n      <td>No</td>\n      <td>No</td>\n      <td>No</td>\n      <td>No</td>\n      <td>No</td>\n      <td>No</td>\n      <td>No</td>\n      <td>No</td>\n      <td>No</td>\n      <td>No</td>\n      <td>No</td>\n      <td>No</td>\n      <td>No</td>\n      <td>No</td>\n      <td>No</td>\n      <td>No</td>\n      <td>No</td>\n      <td>No</td>\n      <td>No</td>\n      <td>No</td>\n      <td>No</td>\n      <td>No</td>\n      <td>No</td>\n      <td>No</td>\n      <td>No</td>\n      <td>No</td>\n      <td>No</td>\n      <td>No</td>\n      <td>No</td>\n      <td>No</td>\n      <td>No</td>\n      <td>No</td>\n      <td>No</td>\n      <td>No</td>\n      <td>No</td>\n      <td>No</td>\n      <td>No</td>\n      <td>Yes</td>\n      <td>No</td>\n      <td>No</td>\n      <td>No</td>\n      <td>No</td>\n      <td>No</td>\n      <td>Yes</td>\n      <td>No</td>\n      <td>No</td>\n      <td>No</td>\n      <td>No</td>\n      <td>No</td>\n      <td>No</td>\n      <td>No</td>\n      <td>No</td>\n      <td>No</td>\n      <td>No</td>\n      <td>No</td>\n      <td>No</td>\n      <td>No</td>\n      <td>No</td>\n      <td>No</td>\n      <td>No</td>\n      <td>No</td>\n      <td>No</td>\n      <td>No</td>\n      <td>Yes</td>\n      <td>No</td>\n      <td>No</td>\n      <td>No</td>\n      <td>No</td>\n      <td>No</td>\n      <td>No</td>\n      <td>No</td>\n      <td>No</td>\n      <td>No</td>\n      <td>No</td>\n      <td>No</td>\n      <td>No</td>\n      <td>No</td>\n      <td>No</td>\n      <td>No</td>\n      <td>No</td>\n      <td>No</td>\n      <td>No</td>\n      <td>No</td>\n      <td>No</td>\n      <td>No</td>\n      <td>No</td>\n      <td>Yes</td>\n      <td>No</td>\n      <td>No</td>\n      <td>No</td>\n      <td>No</td>\n      <td>No</td>\n      <td>No</td>\n      <td>No</td>\n      <td>No</td>\n      <td>No</td>\n      <td>No</td>\n      <td>No</td>\n      <td>No</td>\n      <td>No</td>\n      <td>No</td>\n      <td>No</td>\n      <td>No</td>\n      <td>No</td>\n      <td>Yes</td>\n      <td>No</td>\n      <td>No</td>\n      <td>No</td>\n      <td>No</td>\n      <td>No</td>\n      <td>Yes</td>\n      <td>No</td>\n      <td>No</td>\n      <td>No</td>\n      <td>No</td>\n      <td>No</td>\n      <td>No</td>\n      <td>No</td>\n      <td>No</td>\n      <td>No</td>\n      <td>No</td>\n      <td>No</td>\n      <td>No</td>\n      <td>No</td>\n      <td>No</td>\n      <td>No</td>\n      <td>No</td>\n      <td>No</td>\n      <td>No</td>\n      <td>No</td>\n      <td>No</td>\n      <td>No</td>\n      <td>No</td>\n      <td>No</td>\n      <td>No</td>\n      <td>No</td>\n      <td>No</td>\n      <td>No</td>\n      <td>No</td>\n      <td>No</td>\n      <td>No</td>\n      <td>No</td>\n      <td>No</td>\n      <td>No</td>\n      <td>No</td>\n      <td>No</td>\n      <td>No</td>\n      <td>No</td>\n      <td>No</td>\n      <td>No</td>\n      <td>No</td>\n      <td>No</td>\n      <td>No</td>\n      <td>No</td>\n      <td>No</td>\n      <td>No</td>\n      <td>No</td>\n      <td>Yes</td>\n      <td>No</td>\n      <td>No</td>\n      <td>No</td>\n      <td>No</td>\n      <td>Yes</td>\n      <td>No</td>\n      <td>No</td>\n      <td>No</td>\n      <td>No</td>\n      <td>No</td>\n      <td>No</td>\n      <td>No</td>\n      <td>No</td>\n      <td>No</td>\n      <td>No</td>\n      <td>No</td>\n      <td>No</td>\n      <td>No</td>\n      <td>No</td>\n      <td>No</td>\n      <td>No</td>\n      <td>No</td>\n      <td>No</td>\n      <td>No</td>\n      <td>No</td>\n      <td>No</td>\n      <td>No</td>\n      <td>No</td>\n      <td>Yes</td>\n      <td>No</td>\n      <td>No</td>\n      <td>No</td>\n      <td>No</td>\n      <td>No</td>\n      <td>No</td>\n      <td>No</td>\n      <td>No</td>\n      <td>No</td>\n      <td>No</td>\n      <td>No</td>\n      <td>No</td>\n      <td>No</td>\n      <td>No</td>\n      <td>No</td>\n      <td>No</td>\n      <td>No</td>\n      <td>Yes</td>\n      <td>No</td>\n      <td>No</td>\n      <td>No</td>\n      <td>No</td>\n      <td>No</td>\n      <td>No</td>\n      <td>No</td>\n      <td>No</td>\n      <td>No</td>\n      <td>No</td>\n      <td>No</td>\n      <td>No</td>\n      <td>No</td>\n      <td>No</td>\n      <td>No</td>\n      <td>No</td>\n      <td>No</td>\n      <td>No</td>\n      <td>No</td>\n      <td>No</td>\n      <td>No</td>\n      <td>No</td>\n      <td>No</td>\n      <td>No</td>\n      <td>No</td>\n      <td>No</td>\n      <td>No</td>\n      <td>No</td>\n      <td>No</td>\n      <td>No</td>\n      <td>No</td>\n      <td>No</td>\n      <td>No</td>\n      <td>No</td>\n      <td>No</td>\n      <td>No</td>\n      <td>No</td>\n      <td>No</td>\n      <td>No</td>\n      <td>No</td>\n      <td>No</td>\n      <td>No</td>\n      <td>No</td>\n      <td>No</td>\n      <td>No</td>\n      <td>No</td>\n      <td>No</td>\n      <td>No</td>\n      <td>No</td>\n      <td>No</td>\n      <td>No</td>\n      <td>No</td>\n      <td>No</td>\n      <td>No</td>\n      <td>Yes</td>\n      <td>No</td>\n      <td>No</td>\n      <td>No</td>\n      <td>No</td>\n      <td>No</td>\n      <td>No</td>\n      <td>No</td>\n      <td>No</td>\n      <td>No</td>\n      <td>No</td>\n      <td>No</td>\n      <td>No</td>\n      <td>No</td>\n      <td>No</td>\n      <td>No</td>\n      <td>No</td>\n      <td>No</td>\n      <td>No</td>\n      <td>No</td>\n      <td>No</td>\n      <td>No</td>\n      <td>No</td>\n      <td>No</td>\n      <td>No</td>\n      <td>No</td>\n      <td>No</td>\n      <td>No</td>\n      <td>No</td>\n      <td>No</td>\n      <td>No</td>\n      <td>Yes</td>\n      <td>No</td>\n      <td>No</td>\n      <td>No</td>\n      <td>No</td>\n      <td>No</td>\n      <td>No</td>\n      <td>Yes</td>\n      <td>Yes</td>\n      <td>No</td>\n      <td>No</td>\n      <td>No</td>\n      <td>No</td>\n      <td>No</td>\n      <td>No</td>\n      <td>No</td>\n      <td>No</td>\n      <td>No</td>\n      <td>No</td>\n      <td>No</td>\n      <td>No</td>\n      <td>No</td>\n      <td>No</td>\n      <td>No</td>\n      <td>No</td>\n      <td>No</td>\n      <td>No</td>\n      <td>No</td>\n      <td>No</td>\n      <td>No</td>\n      <td>No</td>\n      <td>No</td>\n      <td>No</td>\n      <td>No</td>\n      <td>No</td>\n      <td>No</td>\n      <td>No</td>\n      <td>No</td>\n      <td>No</td>\n      <td>No</td>\n      <td>No</td>\n      <td>No</td>\n      <td>No</td>\n      <td>No</td>\n      <td>No</td>\n      <td>No</td>\n      <td>No</td>\n      <td>No</td>\n      <td>No</td>\n      <td>No</td>\n      <td>Yes</td>\n      <td>No</td>\n      <td>No</td>\n      <td>No</td>\n      <td>No</td>\n      <td>No</td>\n      <td>No</td>\n      <td>No</td>\n      <td>No</td>\n      <td>No</td>\n      <td>No</td>\n      <td>No</td>\n      <td>No</td>\n      <td>No</td>\n      <td>No</td>\n      <td>No</td>\n      <td>No</td>\n      <td>No</td>\n    </tr>\n    <tr>\n      <td>1</td>\n      <td>Vietnamese</td>\n      <td>No</td>\n      <td>No</td>\n      <td>No</td>\n      <td>No</td>\n      <td>No</td>\n      <td>No</td>\n      <td>No</td>\n      <td>No</td>\n      <td>No</td>\n      <td>No</td>\n      <td>No</td>\n      <td>No</td>\n      <td>No</td>\n      <td>No</td>\n      <td>No</td>\n      <td>No</td>\n      <td>No</td>\n      <td>No</td>\n      <td>No</td>\n      <td>No</td>\n      <td>No</td>\n      <td>No</td>\n      <td>No</td>\n      <td>No</td>\n      <td>No</td>\n      <td>No</td>\n      <td>No</td>\n      <td>No</td>\n      <td>No</td>\n      <td>No</td>\n      <td>No</td>\n      <td>No</td>\n      <td>No</td>\n      <td>No</td>\n      <td>Yes</td>\n      <td>No</td>\n      <td>No</td>\n      <td>No</td>\n      <td>No</td>\n      <td>No</td>\n      <td>No</td>\n      <td>No</td>\n      <td>No</td>\n      <td>No</td>\n      <td>No</td>\n      <td>No</td>\n      <td>No</td>\n      <td>No</td>\n      <td>No</td>\n      <td>No</td>\n      <td>No</td>\n      <td>No</td>\n      <td>No</td>\n      <td>No</td>\n      <td>No</td>\n      <td>No</td>\n      <td>No</td>\n      <td>No</td>\n      <td>No</td>\n      <td>No</td>\n      <td>No</td>\n      <td>No</td>\n      <td>No</td>\n      <td>No</td>\n      <td>No</td>\n      <td>No</td>\n      <td>No</td>\n      <td>No</td>\n      <td>Yes</td>\n      <td>No</td>\n      <td>No</td>\n      <td>No</td>\n      <td>No</td>\n      <td>No</td>\n      <td>No</td>\n      <td>No</td>\n      <td>No</td>\n      <td>No</td>\n      <td>No</td>\n      <td>No</td>\n      <td>No</td>\n      <td>No</td>\n      <td>No</td>\n      <td>No</td>\n      <td>No</td>\n      <td>No</td>\n      <td>No</td>\n      <td>No</td>\n      <td>No</td>\n      <td>No</td>\n      <td>No</td>\n      <td>No</td>\n      <td>No</td>\n      <td>No</td>\n      <td>No</td>\n      <td>No</td>\n      <td>No</td>\n      <td>No</td>\n      <td>No</td>\n      <td>No</td>\n      <td>No</td>\n      <td>No</td>\n      <td>No</td>\n      <td>No</td>\n      <td>No</td>\n      <td>No</td>\n      <td>No</td>\n      <td>No</td>\n      <td>No</td>\n      <td>No</td>\n      <td>No</td>\n      <td>No</td>\n      <td>No</td>\n      <td>No</td>\n      <td>No</td>\n      <td>No</td>\n      <td>No</td>\n      <td>No</td>\n      <td>No</td>\n      <td>No</td>\n      <td>No</td>\n      <td>No</td>\n      <td>No</td>\n      <td>No</td>\n      <td>No</td>\n      <td>No</td>\n      <td>No</td>\n      <td>No</td>\n      <td>No</td>\n      <td>Yes</td>\n      <td>No</td>\n      <td>No</td>\n      <td>No</td>\n      <td>No</td>\n      <td>No</td>\n      <td>Yes</td>\n      <td>No</td>\n      <td>No</td>\n      <td>No</td>\n      <td>No</td>\n      <td>No</td>\n      <td>No</td>\n      <td>No</td>\n      <td>No</td>\n      <td>No</td>\n      <td>No</td>\n      <td>No</td>\n      <td>No</td>\n      <td>No</td>\n      <td>No</td>\n      <td>No</td>\n      <td>No</td>\n      <td>No</td>\n      <td>No</td>\n      <td>No</td>\n      <td>No</td>\n      <td>No</td>\n      <td>No</td>\n      <td>No</td>\n      <td>No</td>\n      <td>No</td>\n      <td>No</td>\n      <td>No</td>\n      <td>No</td>\n      <td>No</td>\n      <td>No</td>\n      <td>No</td>\n      <td>No</td>\n      <td>No</td>\n      <td>No</td>\n      <td>No</td>\n      <td>No</td>\n      <td>No</td>\n      <td>No</td>\n      <td>No</td>\n      <td>No</td>\n      <td>No</td>\n      <td>No</td>\n      <td>No</td>\n      <td>No</td>\n      <td>No</td>\n      <td>No</td>\n      <td>No</td>\n      <td>No</td>\n      <td>No</td>\n      <td>No</td>\n      <td>No</td>\n      <td>No</td>\n      <td>No</td>\n      <td>No</td>\n      <td>No</td>\n      <td>No</td>\n      <td>No</td>\n      <td>No</td>\n      <td>No</td>\n      <td>No</td>\n      <td>No</td>\n      <td>No</td>\n      <td>No</td>\n      <td>No</td>\n      <td>No</td>\n      <td>No</td>\n      <td>No</td>\n      <td>No</td>\n      <td>No</td>\n      <td>No</td>\n      <td>No</td>\n      <td>No</td>\n      <td>No</td>\n      <td>No</td>\n      <td>No</td>\n      <td>No</td>\n      <td>No</td>\n      <td>No</td>\n      <td>No</td>\n      <td>No</td>\n      <td>No</td>\n      <td>No</td>\n      <td>No</td>\n      <td>No</td>\n      <td>No</td>\n      <td>No</td>\n      <td>No</td>\n      <td>No</td>\n      <td>No</td>\n      <td>No</td>\n      <td>No</td>\n      <td>No</td>\n      <td>No</td>\n      <td>No</td>\n      <td>Yes</td>\n      <td>No</td>\n      <td>No</td>\n      <td>No</td>\n      <td>No</td>\n      <td>No</td>\n      <td>No</td>\n      <td>No</td>\n      <td>No</td>\n      <td>No</td>\n      <td>No</td>\n      <td>No</td>\n      <td>No</td>\n      <td>No</td>\n      <td>No</td>\n      <td>No</td>\n      <td>No</td>\n      <td>No</td>\n      <td>No</td>\n      <td>No</td>\n      <td>No</td>\n      <td>No</td>\n      <td>No</td>\n      <td>No</td>\n      <td>No</td>\n      <td>No</td>\n      <td>No</td>\n      <td>No</td>\n      <td>No</td>\n      <td>No</td>\n      <td>No</td>\n      <td>No</td>\n      <td>No</td>\n      <td>No</td>\n      <td>No</td>\n      <td>No</td>\n      <td>No</td>\n      <td>No</td>\n      <td>No</td>\n      <td>No</td>\n      <td>No</td>\n      <td>No</td>\n      <td>No</td>\n      <td>No</td>\n      <td>No</td>\n      <td>No</td>\n      <td>No</td>\n      <td>No</td>\n      <td>No</td>\n      <td>No</td>\n      <td>No</td>\n      <td>No</td>\n      <td>No</td>\n      <td>No</td>\n      <td>No</td>\n      <td>No</td>\n      <td>No</td>\n      <td>No</td>\n      <td>No</td>\n      <td>No</td>\n      <td>No</td>\n      <td>No</td>\n      <td>No</td>\n      <td>No</td>\n      <td>No</td>\n      <td>No</td>\n      <td>No</td>\n      <td>No</td>\n      <td>No</td>\n      <td>No</td>\n      <td>No</td>\n      <td>No</td>\n      <td>No</td>\n      <td>No</td>\n      <td>No</td>\n      <td>No</td>\n      <td>No</td>\n      <td>No</td>\n      <td>No</td>\n      <td>No</td>\n      <td>No</td>\n      <td>No</td>\n      <td>No</td>\n      <td>No</td>\n      <td>No</td>\n      <td>Yes</td>\n      <td>No</td>\n      <td>No</td>\n      <td>No</td>\n      <td>No</td>\n      <td>No</td>\n      <td>No</td>\n      <td>No</td>\n      <td>No</td>\n      <td>No</td>\n      <td>No</td>\n      <td>No</td>\n      <td>No</td>\n      <td>No</td>\n      <td>No</td>\n      <td>No</td>\n      <td>No</td>\n      <td>No</td>\n      <td>No</td>\n      <td>No</td>\n      <td>No</td>\n      <td>No</td>\n      <td>No</td>\n      <td>No</td>\n      <td>No</td>\n      <td>No</td>\n      <td>No</td>\n      <td>No</td>\n      <td>No</td>\n      <td>No</td>\n      <td>No</td>\n      <td>No</td>\n      <td>No</td>\n      <td>No</td>\n      <td>No</td>\n      <td>No</td>\n      <td>No</td>\n      <td>No</td>\n      <td>No</td>\n      <td>No</td>\n      <td>No</td>\n      <td>No</td>\n      <td>No</td>\n      <td>No</td>\n      <td>No</td>\n      <td>No</td>\n      <td>No</td>\n      <td>No</td>\n      <td>No</td>\n      <td>No</td>\n      <td>No</td>\n      <td>No</td>\n      <td>No</td>\n      <td>No</td>\n      <td>No</td>\n      <td>No</td>\n      <td>No</td>\n      <td>No</td>\n      <td>No</td>\n      <td>No</td>\n      <td>No</td>\n      <td>No</td>\n      <td>No</td>\n      <td>No</td>\n      <td>No</td>\n      <td>No</td>\n      <td>No</td>\n      <td>No</td>\n    </tr>\n    <tr>\n      <td>2</td>\n      <td>Vietnamese</td>\n      <td>No</td>\n      <td>No</td>\n      <td>No</td>\n      <td>No</td>\n      <td>No</td>\n      <td>No</td>\n      <td>No</td>\n      <td>No</td>\n      <td>No</td>\n      <td>No</td>\n      <td>No</td>\n      <td>No</td>\n      <td>No</td>\n      <td>No</td>\n      <td>No</td>\n      <td>No</td>\n      <td>No</td>\n      <td>No</td>\n      <td>No</td>\n      <td>No</td>\n      <td>No</td>\n      <td>No</td>\n      <td>No</td>\n      <td>No</td>\n      <td>No</td>\n      <td>No</td>\n      <td>No</td>\n      <td>No</td>\n      <td>No</td>\n      <td>No</td>\n      <td>No</td>\n      <td>No</td>\n      <td>No</td>\n      <td>No</td>\n      <td>No</td>\n      <td>No</td>\n      <td>No</td>\n      <td>No</td>\n      <td>No</td>\n      <td>No</td>\n      <td>No</td>\n      <td>No</td>\n      <td>No</td>\n      <td>No</td>\n      <td>No</td>\n      <td>No</td>\n      <td>No</td>\n      <td>No</td>\n      <td>No</td>\n      <td>No</td>\n      <td>No</td>\n      <td>No</td>\n      <td>No</td>\n      <td>No</td>\n      <td>No</td>\n      <td>No</td>\n      <td>No</td>\n      <td>No</td>\n      <td>No</td>\n      <td>No</td>\n      <td>No</td>\n      <td>No</td>\n      <td>No</td>\n      <td>No</td>\n      <td>No</td>\n      <td>No</td>\n      <td>No</td>\n      <td>No</td>\n      <td>No</td>\n      <td>No</td>\n      <td>No</td>\n      <td>No</td>\n      <td>No</td>\n      <td>No</td>\n      <td>No</td>\n      <td>No</td>\n      <td>No</td>\n      <td>No</td>\n      <td>No</td>\n      <td>No</td>\n      <td>No</td>\n      <td>No</td>\n      <td>No</td>\n      <td>No</td>\n      <td>No</td>\n      <td>No</td>\n      <td>No</td>\n      <td>No</td>\n      <td>No</td>\n      <td>No</td>\n      <td>No</td>\n      <td>No</td>\n      <td>No</td>\n      <td>No</td>\n      <td>No</td>\n      <td>No</td>\n      <td>No</td>\n      <td>No</td>\n      <td>No</td>\n      <td>No</td>\n      <td>No</td>\n      <td>No</td>\n      <td>No</td>\n      <td>No</td>\n      <td>No</td>\n      <td>No</td>\n      <td>No</td>\n      <td>No</td>\n      <td>No</td>\n      <td>No</td>\n      <td>No</td>\n      <td>No</td>\n      <td>No</td>\n      <td>No</td>\n      <td>No</td>\n      <td>No</td>\n      <td>No</td>\n      <td>No</td>\n      <td>No</td>\n      <td>No</td>\n      <td>No</td>\n      <td>No</td>\n      <td>No</td>\n      <td>No</td>\n      <td>No</td>\n      <td>No</td>\n      <td>No</td>\n      <td>No</td>\n      <td>No</td>\n      <td>No</td>\n      <td>No</td>\n      <td>No</td>\n      <td>No</td>\n      <td>No</td>\n      <td>No</td>\n      <td>Yes</td>\n      <td>No</td>\n      <td>No</td>\n      <td>No</td>\n      <td>No</td>\n      <td>No</td>\n      <td>No</td>\n      <td>No</td>\n      <td>No</td>\n      <td>No</td>\n      <td>No</td>\n      <td>No</td>\n      <td>No</td>\n      <td>No</td>\n      <td>No</td>\n      <td>No</td>\n      <td>No</td>\n      <td>No</td>\n      <td>No</td>\n      <td>No</td>\n      <td>No</td>\n      <td>No</td>\n      <td>No</td>\n      <td>No</td>\n      <td>No</td>\n      <td>No</td>\n      <td>No</td>\n      <td>No</td>\n      <td>No</td>\n      <td>No</td>\n      <td>No</td>\n      <td>No</td>\n      <td>No</td>\n      <td>No</td>\n      <td>No</td>\n      <td>No</td>\n      <td>No</td>\n      <td>No</td>\n      <td>No</td>\n      <td>No</td>\n      <td>No</td>\n      <td>No</td>\n      <td>No</td>\n      <td>No</td>\n      <td>No</td>\n      <td>No</td>\n      <td>No</td>\n      <td>No</td>\n      <td>No</td>\n      <td>No</td>\n      <td>No</td>\n      <td>No</td>\n      <td>Yes</td>\n      <td>No</td>\n      <td>No</td>\n      <td>No</td>\n      <td>No</td>\n      <td>No</td>\n      <td>No</td>\n      <td>No</td>\n      <td>No</td>\n      <td>No</td>\n      <td>No</td>\n      <td>No</td>\n      <td>No</td>\n      <td>No</td>\n      <td>No</td>\n      <td>No</td>\n      <td>No</td>\n      <td>No</td>\n      <td>No</td>\n      <td>No</td>\n      <td>No</td>\n      <td>No</td>\n      <td>No</td>\n      <td>No</td>\n      <td>No</td>\n      <td>No</td>\n      <td>No</td>\n      <td>No</td>\n      <td>No</td>\n      <td>No</td>\n      <td>No</td>\n      <td>No</td>\n      <td>No</td>\n      <td>No</td>\n      <td>No</td>\n      <td>No</td>\n      <td>No</td>\n      <td>No</td>\n      <td>No</td>\n      <td>No</td>\n      <td>No</td>\n      <td>No</td>\n      <td>No</td>\n      <td>No</td>\n      <td>No</td>\n      <td>No</td>\n      <td>No</td>\n      <td>No</td>\n      <td>No</td>\n      <td>No</td>\n      <td>No</td>\n      <td>No</td>\n      <td>No</td>\n      <td>No</td>\n      <td>No</td>\n      <td>No</td>\n      <td>No</td>\n      <td>No</td>\n      <td>No</td>\n      <td>No</td>\n      <td>No</td>\n      <td>No</td>\n      <td>No</td>\n      <td>No</td>\n      <td>No</td>\n      <td>No</td>\n      <td>No</td>\n      <td>No</td>\n      <td>No</td>\n      <td>No</td>\n      <td>No</td>\n      <td>No</td>\n      <td>No</td>\n      <td>No</td>\n      <td>No</td>\n      <td>No</td>\n      <td>No</td>\n      <td>No</td>\n      <td>No</td>\n      <td>No</td>\n      <td>No</td>\n      <td>No</td>\n      <td>No</td>\n      <td>No</td>\n      <td>No</td>\n      <td>No</td>\n      <td>No</td>\n      <td>No</td>\n      <td>No</td>\n      <td>No</td>\n      <td>No</td>\n      <td>No</td>\n      <td>No</td>\n      <td>No</td>\n      <td>No</td>\n      <td>No</td>\n      <td>No</td>\n      <td>No</td>\n      <td>No</td>\n      <td>No</td>\n      <td>No</td>\n      <td>No</td>\n      <td>No</td>\n      <td>No</td>\n      <td>No</td>\n      <td>No</td>\n      <td>No</td>\n      <td>No</td>\n      <td>No</td>\n      <td>No</td>\n      <td>No</td>\n      <td>No</td>\n      <td>No</td>\n      <td>No</td>\n      <td>No</td>\n      <td>No</td>\n      <td>No</td>\n      <td>No</td>\n      <td>No</td>\n      <td>No</td>\n      <td>No</td>\n      <td>No</td>\n      <td>No</td>\n      <td>No</td>\n      <td>No</td>\n      <td>No</td>\n      <td>No</td>\n      <td>No</td>\n      <td>No</td>\n      <td>No</td>\n      <td>No</td>\n      <td>No</td>\n      <td>No</td>\n      <td>No</td>\n      <td>No</td>\n      <td>No</td>\n      <td>No</td>\n      <td>No</td>\n      <td>No</td>\n      <td>No</td>\n      <td>No</td>\n      <td>No</td>\n      <td>No</td>\n      <td>Yes</td>\n      <td>No</td>\n      <td>No</td>\n      <td>No</td>\n      <td>No</td>\n      <td>No</td>\n      <td>No</td>\n      <td>No</td>\n      <td>No</td>\n      <td>No</td>\n      <td>No</td>\n      <td>No</td>\n      <td>No</td>\n      <td>No</td>\n      <td>No</td>\n      <td>No</td>\n      <td>No</td>\n      <td>No</td>\n      <td>No</td>\n      <td>No</td>\n      <td>No</td>\n      <td>No</td>\n      <td>Yes</td>\n      <td>No</td>\n      <td>No</td>\n      <td>No</td>\n      <td>No</td>\n      <td>No</td>\n      <td>No</td>\n      <td>No</td>\n      <td>No</td>\n      <td>No</td>\n      <td>No</td>\n      <td>No</td>\n      <td>No</td>\n      <td>No</td>\n      <td>No</td>\n      <td>No</td>\n      <td>No</td>\n      <td>No</td>\n      <td>No</td>\n      <td>No</td>\n      <td>No</td>\n      <td>No</td>\n      <td>No</td>\n      <td>No</td>\n      <td>No</td>\n      <td>No</td>\n      <td>No</td>\n      <td>No</td>\n      <td>No</td>\n      <td>No</td>\n      <td>No</td>\n    </tr>\n    <tr>\n      <td>3</td>\n      <td>Vietnamese</td>\n      <td>No</td>\n      <td>No</td>\n      <td>No</td>\n      <td>No</td>\n      <td>No</td>\n      <td>No</td>\n      <td>No</td>\n      <td>No</td>\n      <td>No</td>\n      <td>No</td>\n      <td>No</td>\n      <td>No</td>\n      <td>No</td>\n      <td>No</td>\n      <td>No</td>\n      <td>No</td>\n      <td>No</td>\n      <td>No</td>\n      <td>Yes</td>\n      <td>No</td>\n      <td>Yes</td>\n      <td>No</td>\n      <td>No</td>\n      <td>Yes</td>\n      <td>No</td>\n      <td>No</td>\n      <td>No</td>\n      <td>No</td>\n      <td>No</td>\n      <td>No</td>\n      <td>No</td>\n      <td>No</td>\n      <td>No</td>\n      <td>No</td>\n      <td>No</td>\n      <td>No</td>\n      <td>No</td>\n      <td>No</td>\n      <td>No</td>\n      <td>No</td>\n      <td>No</td>\n      <td>No</td>\n      <td>No</td>\n      <td>No</td>\n      <td>No</td>\n      <td>No</td>\n      <td>No</td>\n      <td>No</td>\n      <td>No</td>\n      <td>No</td>\n      <td>No</td>\n      <td>No</td>\n      <td>No</td>\n      <td>No</td>\n      <td>No</td>\n      <td>No</td>\n      <td>No</td>\n      <td>No</td>\n      <td>No</td>\n      <td>No</td>\n      <td>No</td>\n      <td>No</td>\n      <td>No</td>\n      <td>No</td>\n      <td>No</td>\n      <td>No</td>\n      <td>No</td>\n      <td>No</td>\n      <td>Yes</td>\n      <td>No</td>\n      <td>No</td>\n      <td>No</td>\n      <td>No</td>\n      <td>No</td>\n      <td>No</td>\n      <td>No</td>\n      <td>No</td>\n      <td>No</td>\n      <td>No</td>\n      <td>No</td>\n      <td>No</td>\n      <td>No</td>\n      <td>No</td>\n      <td>No</td>\n      <td>No</td>\n      <td>No</td>\n      <td>No</td>\n      <td>No</td>\n      <td>Yes</td>\n      <td>No</td>\n      <td>No</td>\n      <td>No</td>\n      <td>No</td>\n      <td>No</td>\n      <td>No</td>\n      <td>No</td>\n      <td>No</td>\n      <td>No</td>\n      <td>No</td>\n      <td>No</td>\n      <td>No</td>\n      <td>No</td>\n      <td>No</td>\n      <td>No</td>\n      <td>No</td>\n      <td>No</td>\n      <td>No</td>\n      <td>No</td>\n      <td>No</td>\n      <td>No</td>\n      <td>No</td>\n      <td>No</td>\n      <td>No</td>\n      <td>No</td>\n      <td>No</td>\n      <td>No</td>\n      <td>No</td>\n      <td>No</td>\n      <td>No</td>\n      <td>No</td>\n      <td>No</td>\n      <td>No</td>\n      <td>No</td>\n      <td>No</td>\n      <td>No</td>\n      <td>No</td>\n      <td>No</td>\n      <td>No</td>\n      <td>No</td>\n      <td>Yes</td>\n      <td>No</td>\n      <td>No</td>\n      <td>No</td>\n      <td>No</td>\n      <td>No</td>\n      <td>No</td>\n      <td>No</td>\n      <td>No</td>\n      <td>No</td>\n      <td>Yes</td>\n      <td>No</td>\n      <td>No</td>\n      <td>No</td>\n      <td>No</td>\n      <td>No</td>\n      <td>No</td>\n      <td>No</td>\n      <td>No</td>\n      <td>No</td>\n      <td>No</td>\n      <td>No</td>\n      <td>No</td>\n      <td>No</td>\n      <td>No</td>\n      <td>No</td>\n      <td>No</td>\n      <td>No</td>\n      <td>No</td>\n      <td>No</td>\n      <td>No</td>\n      <td>No</td>\n      <td>No</td>\n      <td>No</td>\n      <td>No</td>\n      <td>No</td>\n      <td>No</td>\n      <td>No</td>\n      <td>No</td>\n      <td>No</td>\n      <td>No</td>\n      <td>No</td>\n      <td>No</td>\n      <td>No</td>\n      <td>No</td>\n      <td>No</td>\n      <td>No</td>\n      <td>No</td>\n      <td>No</td>\n      <td>No</td>\n      <td>No</td>\n      <td>No</td>\n      <td>No</td>\n      <td>No</td>\n      <td>No</td>\n      <td>No</td>\n      <td>No</td>\n      <td>Yes</td>\n      <td>Yes</td>\n      <td>No</td>\n      <td>No</td>\n      <td>No</td>\n      <td>No</td>\n      <td>No</td>\n      <td>No</td>\n      <td>No</td>\n      <td>No</td>\n      <td>No</td>\n      <td>No</td>\n      <td>No</td>\n      <td>No</td>\n      <td>No</td>\n      <td>No</td>\n      <td>No</td>\n      <td>No</td>\n      <td>No</td>\n      <td>No</td>\n      <td>No</td>\n      <td>No</td>\n      <td>No</td>\n      <td>No</td>\n      <td>No</td>\n      <td>Yes</td>\n      <td>No</td>\n      <td>No</td>\n      <td>No</td>\n      <td>No</td>\n      <td>No</td>\n      <td>No</td>\n      <td>No</td>\n      <td>No</td>\n      <td>No</td>\n      <td>No</td>\n      <td>No</td>\n      <td>No</td>\n      <td>No</td>\n      <td>No</td>\n      <td>No</td>\n      <td>No</td>\n      <td>No</td>\n      <td>No</td>\n      <td>No</td>\n      <td>No</td>\n      <td>No</td>\n      <td>No</td>\n      <td>No</td>\n      <td>No</td>\n      <td>No</td>\n      <td>No</td>\n      <td>No</td>\n      <td>No</td>\n      <td>No</td>\n      <td>No</td>\n      <td>No</td>\n      <td>No</td>\n      <td>Yes</td>\n      <td>No</td>\n      <td>No</td>\n      <td>No</td>\n      <td>No</td>\n      <td>No</td>\n      <td>No</td>\n      <td>No</td>\n      <td>No</td>\n      <td>No</td>\n      <td>No</td>\n      <td>No</td>\n      <td>No</td>\n      <td>No</td>\n      <td>No</td>\n      <td>No</td>\n      <td>No</td>\n      <td>No</td>\n      <td>No</td>\n      <td>No</td>\n      <td>No</td>\n      <td>No</td>\n      <td>No</td>\n      <td>No</td>\n      <td>No</td>\n      <td>No</td>\n      <td>No</td>\n      <td>No</td>\n      <td>No</td>\n      <td>No</td>\n      <td>No</td>\n      <td>No</td>\n      <td>No</td>\n      <td>No</td>\n      <td>No</td>\n      <td>No</td>\n      <td>No</td>\n      <td>No</td>\n      <td>No</td>\n      <td>No</td>\n      <td>Yes</td>\n      <td>No</td>\n      <td>Yes</td>\n      <td>No</td>\n      <td>No</td>\n      <td>No</td>\n      <td>No</td>\n      <td>No</td>\n      <td>No</td>\n      <td>No</td>\n      <td>No</td>\n      <td>No</td>\n      <td>No</td>\n      <td>No</td>\n      <td>No</td>\n      <td>No</td>\n      <td>No</td>\n      <td>No</td>\n      <td>No</td>\n      <td>No</td>\n      <td>No</td>\n      <td>No</td>\n      <td>No</td>\n      <td>No</td>\n      <td>No</td>\n      <td>No</td>\n      <td>No</td>\n      <td>No</td>\n      <td>No</td>\n      <td>No</td>\n      <td>No</td>\n      <td>No</td>\n      <td>No</td>\n      <td>No</td>\n      <td>Yes</td>\n      <td>No</td>\n      <td>No</td>\n      <td>No</td>\n      <td>No</td>\n      <td>No</td>\n      <td>No</td>\n      <td>No</td>\n      <td>No</td>\n      <td>No</td>\n      <td>No</td>\n      <td>No</td>\n      <td>No</td>\n      <td>No</td>\n      <td>No</td>\n      <td>No</td>\n      <td>No</td>\n      <td>No</td>\n      <td>No</td>\n      <td>No</td>\n      <td>No</td>\n      <td>No</td>\n      <td>No</td>\n      <td>No</td>\n      <td>No</td>\n      <td>No</td>\n      <td>No</td>\n      <td>No</td>\n      <td>No</td>\n      <td>No</td>\n      <td>No</td>\n      <td>No</td>\n      <td>No</td>\n      <td>No</td>\n      <td>No</td>\n      <td>No</td>\n      <td>No</td>\n      <td>No</td>\n      <td>No</td>\n      <td>No</td>\n      <td>No</td>\n      <td>No</td>\n      <td>No</td>\n      <td>No</td>\n      <td>No</td>\n      <td>No</td>\n      <td>Yes</td>\n      <td>No</td>\n      <td>No</td>\n      <td>No</td>\n      <td>No</td>\n      <td>No</td>\n      <td>No</td>\n      <td>No</td>\n      <td>No</td>\n      <td>No</td>\n      <td>No</td>\n      <td>No</td>\n      <td>No</td>\n      <td>No</td>\n      <td>No</td>\n      <td>No</td>\n      <td>No</td>\n      <td>No</td>\n      <td>No</td>\n    </tr>\n    <tr>\n      <td>4</td>\n      <td>Vietnamese</td>\n      <td>No</td>\n      <td>No</td>\n      <td>No</td>\n      <td>No</td>\n      <td>No</td>\n      <td>No</td>\n      <td>No</td>\n      <td>No</td>\n      <td>No</td>\n      <td>No</td>\n      <td>No</td>\n      <td>No</td>\n      <td>No</td>\n      <td>No</td>\n      <td>No</td>\n      <td>No</td>\n      <td>No</td>\n      <td>No</td>\n      <td>No</td>\n      <td>No</td>\n      <td>No</td>\n      <td>No</td>\n      <td>No</td>\n      <td>No</td>\n      <td>No</td>\n      <td>No</td>\n      <td>No</td>\n      <td>No</td>\n      <td>No</td>\n      <td>No</td>\n      <td>No</td>\n      <td>No</td>\n      <td>No</td>\n      <td>No</td>\n      <td>No</td>\n      <td>No</td>\n      <td>No</td>\n      <td>No</td>\n      <td>No</td>\n      <td>No</td>\n      <td>No</td>\n      <td>No</td>\n      <td>No</td>\n      <td>No</td>\n      <td>No</td>\n      <td>No</td>\n      <td>No</td>\n      <td>No</td>\n      <td>No</td>\n      <td>No</td>\n      <td>No</td>\n      <td>No</td>\n      <td>No</td>\n      <td>No</td>\n      <td>No</td>\n      <td>No</td>\n      <td>No</td>\n      <td>No</td>\n      <td>No</td>\n      <td>No</td>\n      <td>No</td>\n      <td>No</td>\n      <td>No</td>\n      <td>No</td>\n      <td>No</td>\n      <td>No</td>\n      <td>No</td>\n      <td>No</td>\n      <td>Yes</td>\n      <td>No</td>\n      <td>No</td>\n      <td>No</td>\n      <td>No</td>\n      <td>No</td>\n      <td>No</td>\n      <td>No</td>\n      <td>No</td>\n      <td>No</td>\n      <td>No</td>\n      <td>No</td>\n      <td>No</td>\n      <td>No</td>\n      <td>No</td>\n      <td>No</td>\n      <td>No</td>\n      <td>No</td>\n      <td>No</td>\n      <td>No</td>\n      <td>No</td>\n      <td>No</td>\n      <td>No</td>\n      <td>No</td>\n      <td>No</td>\n      <td>No</td>\n      <td>No</td>\n      <td>No</td>\n      <td>No</td>\n      <td>No</td>\n      <td>No</td>\n      <td>No</td>\n      <td>No</td>\n      <td>No</td>\n      <td>Yes</td>\n      <td>No</td>\n      <td>No</td>\n      <td>No</td>\n      <td>No</td>\n      <td>No</td>\n      <td>No</td>\n      <td>No</td>\n      <td>No</td>\n      <td>Yes</td>\n      <td>No</td>\n      <td>No</td>\n      <td>No</td>\n      <td>No</td>\n      <td>No</td>\n      <td>No</td>\n      <td>No</td>\n      <td>No</td>\n      <td>No</td>\n      <td>No</td>\n      <td>No</td>\n      <td>No</td>\n      <td>No</td>\n      <td>No</td>\n      <td>No</td>\n      <td>No</td>\n      <td>No</td>\n      <td>Yes</td>\n      <td>No</td>\n      <td>No</td>\n      <td>No</td>\n      <td>No</td>\n      <td>No</td>\n      <td>Yes</td>\n      <td>No</td>\n      <td>No</td>\n      <td>No</td>\n      <td>No</td>\n      <td>No</td>\n      <td>No</td>\n      <td>No</td>\n      <td>No</td>\n      <td>No</td>\n      <td>No</td>\n      <td>No</td>\n      <td>No</td>\n      <td>No</td>\n      <td>No</td>\n      <td>No</td>\n      <td>No</td>\n      <td>No</td>\n      <td>No</td>\n      <td>No</td>\n      <td>No</td>\n      <td>No</td>\n      <td>No</td>\n      <td>No</td>\n      <td>No</td>\n      <td>No</td>\n      <td>No</td>\n      <td>No</td>\n      <td>No</td>\n      <td>No</td>\n      <td>No</td>\n      <td>No</td>\n      <td>No</td>\n      <td>No</td>\n      <td>No</td>\n      <td>No</td>\n      <td>No</td>\n      <td>No</td>\n      <td>No</td>\n      <td>No</td>\n      <td>No</td>\n      <td>No</td>\n      <td>Yes</td>\n      <td>No</td>\n      <td>No</td>\n      <td>No</td>\n      <td>No</td>\n      <td>No</td>\n      <td>No</td>\n      <td>No</td>\n      <td>No</td>\n      <td>No</td>\n      <td>Yes</td>\n      <td>No</td>\n      <td>No</td>\n      <td>No</td>\n      <td>No</td>\n      <td>No</td>\n      <td>No</td>\n      <td>No</td>\n      <td>No</td>\n      <td>No</td>\n      <td>No</td>\n      <td>No</td>\n      <td>No</td>\n      <td>No</td>\n      <td>No</td>\n      <td>No</td>\n      <td>No</td>\n      <td>No</td>\n      <td>No</td>\n      <td>No</td>\n      <td>No</td>\n      <td>No</td>\n      <td>No</td>\n      <td>No</td>\n      <td>Yes</td>\n      <td>No</td>\n      <td>No</td>\n      <td>No</td>\n      <td>No</td>\n      <td>No</td>\n      <td>No</td>\n      <td>No</td>\n      <td>No</td>\n      <td>No</td>\n      <td>No</td>\n      <td>No</td>\n      <td>No</td>\n      <td>No</td>\n      <td>No</td>\n      <td>No</td>\n      <td>No</td>\n      <td>No</td>\n      <td>No</td>\n      <td>No</td>\n      <td>No</td>\n      <td>No</td>\n      <td>No</td>\n      <td>No</td>\n      <td>No</td>\n      <td>No</td>\n      <td>No</td>\n      <td>No</td>\n      <td>No</td>\n      <td>No</td>\n      <td>No</td>\n      <td>No</td>\n      <td>No</td>\n      <td>No</td>\n      <td>No</td>\n      <td>Yes</td>\n      <td>No</td>\n      <td>No</td>\n      <td>No</td>\n      <td>No</td>\n      <td>No</td>\n      <td>No</td>\n      <td>No</td>\n      <td>No</td>\n      <td>No</td>\n      <td>No</td>\n      <td>No</td>\n      <td>No</td>\n      <td>No</td>\n      <td>No</td>\n      <td>No</td>\n      <td>No</td>\n      <td>No</td>\n      <td>No</td>\n      <td>No</td>\n      <td>No</td>\n      <td>No</td>\n      <td>No</td>\n      <td>No</td>\n      <td>No</td>\n      <td>No</td>\n      <td>No</td>\n      <td>No</td>\n      <td>No</td>\n      <td>No</td>\n      <td>No</td>\n      <td>No</td>\n      <td>No</td>\n      <td>No</td>\n      <td>No</td>\n      <td>No</td>\n      <td>No</td>\n      <td>No</td>\n      <td>Yes</td>\n      <td>No</td>\n      <td>No</td>\n      <td>No</td>\n      <td>No</td>\n      <td>No</td>\n      <td>No</td>\n      <td>No</td>\n      <td>No</td>\n      <td>No</td>\n      <td>No</td>\n      <td>No</td>\n      <td>No</td>\n      <td>No</td>\n      <td>No</td>\n      <td>No</td>\n      <td>No</td>\n      <td>No</td>\n      <td>No</td>\n      <td>No</td>\n      <td>No</td>\n      <td>No</td>\n      <td>No</td>\n      <td>No</td>\n      <td>No</td>\n      <td>No</td>\n      <td>No</td>\n      <td>Yes</td>\n      <td>No</td>\n      <td>No</td>\n      <td>No</td>\n      <td>No</td>\n      <td>No</td>\n      <td>No</td>\n      <td>No</td>\n      <td>No</td>\n      <td>No</td>\n      <td>No</td>\n      <td>No</td>\n      <td>Yes</td>\n      <td>No</td>\n      <td>No</td>\n      <td>No</td>\n      <td>No</td>\n      <td>No</td>\n      <td>No</td>\n      <td>No</td>\n      <td>No</td>\n      <td>No</td>\n      <td>No</td>\n      <td>No</td>\n      <td>No</td>\n      <td>No</td>\n      <td>No</td>\n      <td>No</td>\n      <td>No</td>\n      <td>No</td>\n      <td>No</td>\n      <td>No</td>\n      <td>No</td>\n      <td>No</td>\n      <td>No</td>\n      <td>No</td>\n      <td>No</td>\n      <td>No</td>\n      <td>No</td>\n      <td>No</td>\n      <td>No</td>\n      <td>No</td>\n      <td>No</td>\n      <td>No</td>\n      <td>No</td>\n      <td>No</td>\n      <td>No</td>\n      <td>No</td>\n      <td>No</td>\n      <td>No</td>\n      <td>No</td>\n      <td>No</td>\n      <td>No</td>\n      <td>No</td>\n      <td>Yes</td>\n      <td>No</td>\n      <td>No</td>\n      <td>No</td>\n      <td>No</td>\n      <td>No</td>\n      <td>No</td>\n      <td>No</td>\n      <td>No</td>\n      <td>No</td>\n      <td>No</td>\n      <td>No</td>\n      <td>No</td>\n      <td>No</td>\n      <td>No</td>\n      <td>No</td>\n      <td>No</td>\n      <td>No</td>\n    </tr>\n  </tbody>\n</table>\n</div>",
      "text/plain": "No    No       No         No              No   \n4              No     No       No    No       No         No              No   \n\n  buckwheat butter buttermilk cabbage cabernet_sauvignon_wine cacao  \\\n0        No     No         No      No                      No    No   \n1        No     No         No      No                      No    No   \n2        No     No         No      No                      No    No   \n3        No     No         No      No                      No    No   \n4        No     No         No      No                      No    No   \n\n  camembert_cheese cane_molasses caraway cardamom carnation carob carrot  \\\n0               No            No      No       No        No    No    Yes   \n1               No            No      No       No        No    No     No   \n2               No            No      No       No        No    No     No   \n3               No            No      No       No        No    No     No   \n4               No            No      No       No        No    No     No   \n\n  cashew cassava catfish cauliflower caviar cayenne celery celery_oil cereal  \\\n0     No      No      No          No     No     Yes     No         No     No   \n1     No      No      No          No     No     Yes     No         No     No   \n2     No      No      No          No     No      No     No         No     No   \n3     No      No      No          No     No     Yes     No         No     No   \n4     No      No      No          No     No     Yes     No         No     No   \n\n  chamomile champagne_wine chayote cheddar_cheese cheese cherry cherry_brandy  \\\n0        No             No      No             No     No     No            No   \n1        No             No      No             No     No     No            No   \n2        No             No      No             No     No     No            No   \n3        No             No      No             No     No     No            No   \n4        No             No      No             No     No     No            No   \n\n  chervil chicken chicken_broth chicken_liver chickpea chicory  \\\n0      No      No            No            No       No      No   \n1      No      No            No            No       No      No   \n2      No      No            No            No       No      No   \n3      No      No            No            No       No      No   \n4      No      No            No            No       No      No   \n\n  chinese_cabbage chive cider cilantro cinnamon citrus citrus_peel clam clove  \\\n0              No    No    No      Yes       No     No          No   No    No   \n1              No    No    No       No       No     No          No   No    No   \n2              No    No    No       No       No     No          No   No    No   \n3              No    No    No      Yes       No     No          No   No    No   \n4              No    No    No       No       No     No          No   No    No   \n\n  cocoa coconut coconut_oil cod coffee cognac concord_grape condiment  \\\n0    No      No          No  No     No     No            No        No   \n1    No      No          No  No     No     No            No        No   \n2    No      No          No  No     No     No            No        No   \n3    No      No          No  No     No     No            No        No   \n4    No      No          No  No     No     No            No        No   \n\n  coriander corn corn_flake corn_grit cottage_cheese crab cranberry cream  \\\n0        No   No         No        No             No   No        No    No   \n1        No   No         No        No             No   No        No    No   \n2        No   No         No        No             No   No        No    No   \n3        No   No         No        No             No   No        No    No   \n4       Yes   No         No        No             No   No        No    No   \n\n  cream_cheese cucumber cumin cured_pork currant date dill durian eel egg  \\\n0           No      Yes    No         No      No   No   No     No  No  No   \n1           No       No    No         No      No   No   No     No  No  No   \n2           No       No    No         No      No   No   No     No  No  No   \n3           No       No    No         No      No   No   No     No  No  No   \n4           No      Yes    No         No      No   No   No     No  No  No   \n\n  egg_noodle elderberry emmental_cheese endive enokidake fennel fenugreek  \\\n0         No         No              No     No        No     No        No   \n1         No         No              No     No        No     No        No   \n2         No         No              No     No        No     No        No   \n3         No         No              No     No        No     No        No   \n4         No         No              No     No        No     No        No   \n\n  feta_cheese fig fish flower frankfurter fruit galanga gardenia garlic  \\\n0          No  No  Yes     No          No    No      No       No    Yes   \n1          No  No  Yes     No          No    No      No       No    Yes   \n2          No  No   No     No          No    No      No       No    Yes   \n3          No  No  Yes     No          No    No      No       No     No   \n4          No  No  Yes     No          No    No      No       No    Yes   \n\n  gelatin geranium gin ginger goat_cheese grape grape_brandy grape_juice  \\\n0      No       No  No     No          No    No           No          No   \n1      No       No  No     No          No    No           No          No   \n2      No       No  No     No          No    No           No          No   \n3      No       No  No    Yes          No    No           No          No   \n4      No       No  No     No          No    No           No          No   \n\n  grapefruit green_bell_pepper green_tea gruyere_cheese guava haddock ham  \\\n0         No                No        No             No    No      No  No   \n1         No                No        No             No    No      No  No   \n2         No                No        No             No    No      No  No   \n3         No                No        No             No    No      No  No   \n4         No                No        No             No    No      No  No   \n\n  hazelnut herring holy_basil honey hop horseradish huckleberry jamaican_rum  \\\n0       No      No         No    No  No          No          No           No   \n1       No      No         No    No  No          No          No           No   \n2       No      No         No    No  No          No          No           No   \n3       No      No         No    No  No          No          No           No   \n4       No      No         No    No  No          No          No           No   \n\n  japanese_plum jasmine jasmine_tea juniper_berry kaffir_lime kale  \\\n0            No      No          No            No          No   No   \n1            No      No          No            No          No   No   \n2            No      No          No            No          No   No   \n3            No      No          No            No          No   No   \n4            No      No          No            No          No   No   \n\n  katsuobushi kelp kidney_bean kiwi kohlrabi kumquat lamb lard laurel  \\\n0          No   No          No   No       No      No   No   No     No   \n1          No   No          No   No       No      No   No   No     No   \n2          No   No          No   No       No      No   No   No     No   \n3          No   No          No   No       No      No   No   No     No   \n4          No   No          No   No       No      No   No   No     No   \n\n  lavender leaf leek lemon lemon_juice lemon_peel lemongrass lentil lettuce  \\\n0       No   No   No    No          No         No         No     No     Yes   \n1       No   No   No    No          No         No         No     No      No   \n2       No   No   No    No          No         No         No     No      No   \n3       No   No   No    No          No         No         No     No      No   \n4       No   No   No   Yes          No         No         No     No      No   \n\n  licorice lilac_flower_oil lima_bean lime lime_juice lime_peel_oil  \\\n0       No               No        No   No        Yes            No   \n1       No               No        No   No         No            No   \n2       No               No        No   No        Yes            No   \n3       No               No        No  Yes        Yes            No   \n4       No               No        No   No        Yes            No   \n\n  lingonberry litchi liver lobster long_pepper lovage macadamia_nut macaroni  \\\n0          No     No    No      No          No     No            No       No   \n1          No     No    No      No          No     No            No       No   \n2          No     No    No      No          No     No            No       No   \n3          No     No    No      No          No     No            No       No   \n4          No     No    No      No          No     No            No       No   \n\n  mace mackerel malt mandarin mandarin_peel mango maple_syrup marjoram mate  \\\n0   No       No   No       No            No    No          No       No   No   \n1   No       No   No       No            No    No          No       No   No   \n2   No       No   No       No            No    No          No       No   No   \n3   No       No   No       No            No    No          No       No   No   \n4   No       No   No       No            No    No          No       No   No   \n\n  matsutake meat melon milk milk_fat mint mozzarella_cheese mung_bean  \\\n0        No   No    No   No       No  Yes                No        No   \n1        No   No    No   No       No   No                No        No   \n2        No   No    No   No       No   No                No        No   \n3        No   No    No   No       No  Yes                No        No   \n4        No   No    No   No       No  Yes                No        No   \n\n  munster_cheese muscat_grape mushroom mussel mustard mutton nectarine nira  \\\n0             No           No       No     No      No     No        No   No   \n1             No           No       No     No      No     No        No   No   \n2             No           No       No     No      No     No        No   No   \n3             No           No       No     No      No     No        No   No   \n4             No           No       No     No      No     No        No   No   \n\n  nut nutmeg oat oatmeal octopus okra olive olive_oil onion orange  \\\n0  No     No  No      No      No   No    No       Yes    No     No   \n1  No     No  No      No      No   No    No        No   Yes     No   \n2  No     No  No      No      No   No    No        No    No     No   \n3  No     No  No      No      No   No    No        No    No     No   \n4  No     No  No      No      No   No    No        No    No     No   \n\n  orange_flower orange_juice orange_peel oregano ouzo oyster palm papaya  \\\n0            No           No          No      No   No     No   No     No   \n1            No           No          No      No   No     No   No     No   \n2            No           No          No      No   No     No   No     No   \n3            No           No          No      No   No     No   No     No   \n4            No           No          No      No   No     No   No     No   \n\n  parmesan_cheese parsley parsnip passion_fruit  pea peach peanut  \\\n0              No      No      No            No   No    No     No   \n1              No      No      No            No   No    No     No   \n2              No      No      No            No   No    No     No   \n3              No      No      No            No  Yes    No     No   \n4              No      No      No            No   No    No    Yes   \n\n  peanut_butter peanut_oil pear pear_brandy pecan pelargonium pepper  \\\n0            No         No   No          No    No          No     No   \n1            No         No   No          No    No          No     No   \n2            No         No   No          No    No          No     No   \n3            No         No   No          No    No          No     No   \n4            No         No   No          No    No          No     No   \n\n  peppermint peppermint_oil pimenta pimento pineapple pistachio plum popcorn  \\\n0         No             No      No      No        No        No   No      No   \n1         No             No      No      No        No        No   No      No   \n2         No             No      No      No        No        No   No      No   \n3         No             No      No      No        No        No   No      No   \n4         No             No      No      No        No        No   No      No   \n\n  porcini pork pork_liver pork_sausage port_wine potato potato_chip prawn  \\\n0      No   No         No           No        No     No          No    No   \n1      No   No         No           No        No     No          No    No   \n2      No   No         No           No        No     No          No    No   \n3      No   No         No           No        No     No          No    No   \n4      No   No         No           No        No     No          No    No   \n\n  prickly_pear provolone_cheese pumpkin quince radish raisin rapeseed  \\\n0           No               No      No     No     No     No       No   \n1           No               No      No     No     No     No       No   \n2           No               No      No     No     No     No       No   \n3           No               No      No     No     No     No       No   \n4           No               No      No     No     No     No       No   \n\n  raspberry raw_beef red_algae red_bean red_kidney_bean red_wine rhubarb rice  \\\n0        No       No        No       No              No       No      No  Yes   \n1        No       No        No       No              No       No      No   No   \n2        No       No        No       No              No       No      No   No   \n3        No       No        No       No              No       No      No  Yes   \n4        No       No        No       No              No       No      No  Yes   \n\n  roasted_almond roasted_beef roasted_hazelnut roasted_meat roasted_nut  \\\n0             No           No               No           No          No   \n1             No           No               No           No          No   \n2             No           No               No           No          No   \n3             No          Yes               No           No          No   \n4             No           No               No           No          No   \n\n  roasted_peanut roasted_pecan roasted_pork roasted_sesame_seed romano_cheese  \\\n0             No            No           No                  No            No   \n1             No            No           No                  No            No   \n2             No            No           No                  No            No   \n3             No            No           No                  No            No   \n4             No            No           No                  No            No   \n\n  root roquefort_cheese rose rosemary rum rutabaga rye_bread rye_flour  \\\n0   No               No   No       No  No       No        No        No   \n1   No               No   No       No  No       No        No        No   \n2   No               No   No       No  No       No        No        No   \n3   No               No   No       No  No       No        No        No   \n4   No               No   No       No  No       No        No        No   \n\n  saffron sage sake salmon salmon_roe sassafras sauerkraut savory scallion  \\\n0      No   No   No     No         No        No         No     No       No   \n1      No   No   No     No         No        No         No     No       No   \n2      No   No   No     No         No        No         No     No       No   \n3      No   No   No     No         No        No         No     No       No   \n4      No   No   No     No         No        No         No     No      Yes   \n\n  scallop sea_algae seaweed seed sesame_oil sesame_seed shallot sheep_cheese  \\\n0      No        No      No  Yes         No          No      No           No   \n1      No        No      No  Yes         No          No      No           No   \n2      No        No      No   No         No          No      No           No   \n3      No        No      No   No         No          No     Yes           No   \n4      No        No      No   No         No          No      No           No   \n\n  shellfish sherry shiitake shrimp smoke smoked_fish smoked_salmon  \\\n0        No     No      Yes    Yes    No          No            No   \n1        No     No       No     No    No          No            No   \n2        No     No       No     No    No          No            No   \n3        No     No       No     No    No          No            No   \n4        No     No       No    Yes    No          No            No   \n\n  smoked_sausage sour_cherry sour_milk soy_sauce soybean soybean_oil  \\\n0             No          No        No        No      No          No   \n1             No          No        No        No      No          No   \n2             No          No        No       Yes      No          No   \n3             No          No        No        No      No          No   \n4             No          No        No        No      No          No   \n\n  spearmint squash squid star_anise starch strawberry strawberry_jam  \\\n0        No     No    No         No     No         No             No   \n1        No     No    No         No     No         No             No   \n2        No     No    No         No     No         No             No   \n3        No     No    No         No     No         No             No   \n4        No     No    No         No     No         No             No   \n\n  strawberry_juice sturgeon_caviar sumac sunflower_oil sweet_potato  \\\n0               No              No    No            No           No   \n1               No              No    No            No           No   \n2               No              No    No            No           No   \n3               No              No    No            No           No   \n4               No              No    No            No           No   \n\n  swiss_cheese tabasco_pepper tamarind tangerine tarragon tea tequila  \\\n0           No             No       No        No       No  No      No   \n1           No             No       No        No       No  No      No   \n2           No             No       No        No       No  No      No   \n3           No             No       No        No       No  No      No   \n4           No             No       No        No       No  No      No   \n\n  thai_pepper thyme tomato tomato_juice truffle tuna turkey turmeric turnip  \\\n0          No    No     No           No      No   No     No       No     No   \n1          No    No     No           No      No   No     No       No     No   \n2         Yes    No     No           No      No   No     No       No     No   \n3          No    No     No           No      No   No     No       No     No   \n4          No    No     No           No      No   No     No       No     No   \n\n  vanilla veal vegetable vegetable_oil vinegar violet walnut wasabi  \\\n0      No   No        No            No     Yes     No     No     No   \n1      No   No        No            No      No     No     No     No   \n2      No   No        No            No      No     No     No     No   \n3      No   No        No           Yes      No     No     No     No   \n4      No   No        No            No     Yes     No     No     No   \n\n  watercress watermelon wheat wheat_bread whiskey white_bread white_wine  \\\n0         No         No    No          No      No          No         No   \n1         No         No    No          No      No          No         No   \n2         No         No    No          No      No          No         No   \n3         No         No    No          No      No          No         No   \n4         No         No    No          No      No          No         No   \n\n  whole_grain_wheat_flour wine wood yam yeast yogurt zucchini  \n0                      No   No   No  No    No     No       No  \n1                      No   No   No  No    No     No       No  \n2                      No   No   No  No    No     No       No  \n3                      No   No   No  No    No     No       No  \n4                      No   No   No  No    No     No       No  "
     },
     "execution_count": 3,
     "metadata": {},
     "output_type": "execute_result"
    }
   ],
   "source": [
    "recipes.head()"
   ]
  },
  {
   "cell_type": "markdown",
   "metadata": {
    "button": false,
    "deletable": true,
    "new_sheet": false,
    "run_control": {
     "read_only": false
    }
   },
   "source": [
    "Get the dimensions of the dataframe."
   ]
  },
  {
   "cell_type": "code",
   "execution_count": 4,
   "metadata": {},
   "outputs": [
    {
     "data": {
      "text/plain": "(57691, 384)"
     },
     "execution_count": 4,
     "metadata": {},
     "output_type": "execute_result"
    }
   ],
   "source": [
    "recipes.shape"
   ]
  },
  {
   "cell_type": "markdown",
   "metadata": {
    "button": false,
    "deletable": true,
    "new_sheet": false,
    "run_control": {
     "read_only": false
    }
   },
   "source": [
    "So our dataset consists of 57,691 recipes. Each row represents a recipe, and for each recipe, the corresponding cuisine is documented as well as whether 384 ingredients exist in the recipe or not beginning with almond and ending with zucchini.\n",
    "\n",
    "-----------"
   ]
  },
  {
   "cell_type": "markdown",
   "metadata": {
    "button": false,
    "deletable": true,
    "new_sheet": false,
    "run_control": {
     "read_only": false
    }
   },
   "source": [
    "Now that the data collection stage is complete, data scientists typically use descriptive statistics and visualization techniques to better understand the data and get acquainted with it. Data scientists, essentially, explore the data to:\n",
    "\n",
    "* understand its content,\n",
    "* assess its quality,\n",
    "* discover any interesting preliminary insights, and,\n",
    "* determine whether additional data is necessary to fill any gaps in the data."
   ]
  },
  {
   "cell_type": "markdown",
   "metadata": {
    "button": false,
    "deletable": true,
    "new_sheet": false,
    "run_control": {
     "read_only": false
    }
   },
   "source": [
    "### Thank you for completing this lab!\n",
    "\n",
    "This notebook was created by [Alex Aklson](https://www.linkedin.com/in/aklson/). I hope you found this lab session interesting. Feel free to contact me if you have any questions!"
   ]
  },
  {
   "cell_type": "markdown",
   "metadata": {
    "button": false,
    "deletable": true,
    "new_sheet": false,
    "run_control": {
     "read_only": false
    }
   },
   "source": [
    "This notebook is part of a course on **Coursera** called *Data Science Methodology*. If you accessed this notebook outside the course, you can take this course, online by clicking [here](http://cocl.us/DS0103EN_Coursera_LAB2)."
   ]
  },
  {
   "cell_type": "markdown",
   "metadata": {
    "button": false,
    "deletable": true,
    "new_sheet": false,
    "run_control": {
     "read_only": false
    }
   },
   "source": [
    "<hr>\n",
    "\n",
    "Copyright &copy; 2019 [Cognitive Class](https://cognitiveclass.ai/?utm_source=bducopyrightlink&utm_medium=dswb&utm_campaign=bdu). This notebook and its source code are released under the terms of the [MIT License](https://bigdatauniversity.com/mit-license/)."
   ]
  }
 ],
 "metadata": {
  "kernelspec": {
   "display_name": "Python 3",
   "language": "python",
   "name": "python3"
  },
  "language_info": {
   "codemirror_mode": {
    "name": "ipython",
    "version": 3
   },
   "file_extension": ".py",
   "mimetype": "text/x-python",
   "name": "python",
   "nbconvert_exporter": "python",
   "pygments_lexer": "ipython3",
   "version": "3.7.4"
  },
  "widgets": {
   "state": {},
   "version": "1.1.2"
  }
 },
 "nbformat": 4,
 "nbformat_minor": 2
}