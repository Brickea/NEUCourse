{
 "cells": [
  {
   "cell_type": "markdown",
   "metadata": {},
   "source": [
    "<div style=\"text-align: right\">Self Learning, Numpy</div>\n",
    "<div style=\"text-align: right\">Zixiao Wang, 24 October 2019, with material from <a href=\"https://www.tuicool.com/articles/r2yyei\">Numpy Tutorial </a></div>\n",
    "\n",
    "# Numpy Self Learning Linear algebra\n",
    "\n",
    "[Document](https://docs.scipy.org/doc/numpy/reference/routines.html)"
   ]
  },
  {
   "cell_type": "code",
   "execution_count": 1,
   "metadata": {},
   "outputs": [],
   "source": [
    "import numpy as np"
   ]
  },
  {
   "cell_type": "code",
   "execution_count": 4,
   "metadata": {},
   "outputs": [
    {
     "data": {
      "text/plain": [
       "array([[1, 2],\n",
       "       [3, 4]])"
      ]
     },
     "execution_count": 4,
     "metadata": {},
     "output_type": "execute_result"
    }
   ],
   "source": [
    "a = np.array([[1,2],[3,4]])\n",
    "a"
   ]
  },
  {
   "cell_type": "code",
   "execution_count": 5,
   "metadata": {},
   "outputs": [
    {
     "data": {
      "text/plain": [
       "array([[1, 3],\n",
       "       [2, 4]])"
      ]
     },
     "execution_count": 5,
     "metadata": {},
     "output_type": "execute_result"
    }
   ],
   "source": [
    "a.T"
   ]
  },
  {
   "cell_type": "code",
   "execution_count": 10,
   "metadata": {},
   "outputs": [
    {
     "data": {
      "text/plain": [
       "array([[-2. ,  1. ],\n",
       "       [ 1.5, -0.5]])"
      ]
     },
     "execution_count": 10,
     "metadata": {},
     "output_type": "execute_result"
    }
   ],
   "source": [
    "np.linalg.inv(a)"
   ]
  },
  {
   "cell_type": "code",
   "execution_count": 17,
   "metadata": {},
   "outputs": [
    {
     "data": {
      "text/plain": [
       "array([[1., 0.],\n",
       "       [0., 1.]])"
      ]
     },
     "execution_count": 17,
     "metadata": {},
     "output_type": "execute_result"
    }
   ],
   "source": [
    "u = np.eye(2)\n",
    "u"
   ]
  },
  {
   "cell_type": "code",
   "execution_count": 18,
   "metadata": {},
   "outputs": [
    {
     "data": {
      "text/plain": [
       "array([[1., 2.],\n",
       "       [3., 4.]])"
      ]
     },
     "execution_count": 18,
     "metadata": {},
     "output_type": "execute_result"
    }
   ],
   "source": [
    "np.dot(u,a)"
   ]
  },
  {
   "cell_type": "code",
   "execution_count": 22,
   "metadata": {},
   "outputs": [
    {
     "data": {
      "text/plain": [
       "5"
      ]
     },
     "execution_count": 22,
     "metadata": {},
     "output_type": "execute_result"
    }
   ],
   "source": [
    "np.trace(a)"
   ]
  },
  {
   "cell_type": "code",
   "execution_count": 21,
   "metadata": {
    "scrolled": true
   },
   "outputs": [
    {
     "name": "stdout",
     "output_type": "stream",
     "text": [
      "Help on function trace in module numpy:\n",
      "\n",
      "trace(a, offset=0, axis1=0, axis2=1, dtype=None, out=None)\n",
      "    Return the sum along diagonals of the array.\n",
      "    \n",
      "    If `a` is 2-D, the sum along its diagonal with the given offset\n",
      "    is returned, i.e., the sum of elements ``a[i,i+offset]`` for all i.\n",
      "    \n",
      "    If `a` has more than two dimensions, then the axes specified by axis1 and\n",
      "    axis2 are used to determine the 2-D sub-arrays whose traces are returned.\n",
      "    The shape of the resulting array is the same as that of `a` with `axis1`\n",
      "    and `axis2` removed.\n",
      "    \n",
      "    Parameters\n",
      "    ----------\n",
      "    a : array_like\n",
      "        Input array, from which the diagonals are taken.\n",
      "    offset : int, optional\n",
      "        Offset of the diagonal from the main diagonal. Can be both positive\n",
      "        and negative. Defaults to 0.\n",
      "    axis1, axis2 : int, optional\n",
      "        Axes to be used as the first and second axis of the 2-D sub-arrays\n",
      "        from which the diagonals should be taken. Defaults are the first two\n",
      "        axes of `a`.\n",
      "    dtype : dtype, optional\n",
      "        Determines the data-type of the returned array and of the accumulator\n",
      "        where the elements are summed. If dtype has the value None and `a` is\n",
      "        of integer type of precision less than the default integer\n",
      "        precision, then the default integer precision is used. Otherwise,\n",
      "        the precision is the same as that of `a`.\n",
      "    out : ndarray, optional\n",
      "        Array into which the output is placed. Its type is preserved and\n",
      "        it must be of the right shape to hold the output.\n",
      "    \n",
      "    Returns\n",
      "    -------\n",
      "    sum_along_diagonals : ndarray\n",
      "        If `a` is 2-D, the sum along the diagonal is returned.  If `a` has\n",
      "        larger dimensions, then an array of sums along diagonals is returned.\n",
      "    \n",
      "    See Also\n",
      "    --------\n",
      "    diag, diagonal, diagflat\n",
      "    \n",
      "    Examples\n",
      "    --------\n",
      "    >>> np.trace(np.eye(3))\n",
      "    3.0\n",
      "    >>> a = np.arange(8).reshape((2,2,2))\n",
      "    >>> np.trace(a)\n",
      "    array([6, 8])\n",
      "    \n",
      "    >>> a = np.arange(24).reshape((2,2,2,3))\n",
      "    >>> np.trace(a).shape\n",
      "    (2, 3)\n",
      "\n"
     ]
    }
   ],
   "source": [
    "help(np.trace)"
   ]
  },
  {
   "cell_type": "code",
   "execution_count": 20,
   "metadata": {},
   "outputs": [
    {
     "data": {
      "text/plain": [
       "10.0"
      ]
     },
     "execution_count": 20,
     "metadata": {},
     "output_type": "execute_result"
    }
   ],
   "source": [
    "np.trace(np.eye(10))"
   ]
  },
  {
   "cell_type": "code",
   "execution_count": null,
   "metadata": {},
   "outputs": [],
   "source": []
  }
 ],
 "metadata": {
  "kernelspec": {
   "display_name": "Python 3",
   "language": "python",
   "name": "python3"
  },
  "language_info": {
   "codemirror_mode": {
    "name": "ipython",
    "version": 3
   },
   "file_extension": ".py",
   "mimetype": "text/x-python",
   "name": "python",
   "nbconvert_exporter": "python",
   "pygments_lexer": "ipython3",
   "version": "3.7.3"
  }
 },
 "nbformat": 4,
 "nbformat_minor": 2
}
