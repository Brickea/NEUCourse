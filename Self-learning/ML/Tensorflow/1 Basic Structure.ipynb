{
 "cells": [
  {
   "cell_type": "markdown",
   "metadata": {},
   "source": [
    "<div style=\"text-align:right;\">Basic Structure in Tensorflow</div>\n",
    "<div style=\"text-align:right;\">Brickea with material from mofan python</div>"
   ]
  },
  {
   "cell_type": "markdown",
   "metadata": {},
   "source": [
    "# Structure in Tensorflow"
   ]
  },
  {
   "cell_type": "code",
   "execution_count": 47,
   "metadata": {},
   "outputs": [
    {
     "name": "stdout",
     "output_type": "stream",
     "text": [
      "WARNING:tensorflow:From /Users/brickeawang/opt/anaconda3/lib/python3.7/site-packages/tensorflow_core/python/compat/v2_compat.py:65: disable_resource_variables (from tensorflow.python.ops.variable_scope) is deprecated and will be removed in a future version.\n",
      "Instructions for updating:\n",
      "non-resource variables are not supported in the long term\n"
     ]
    }
   ],
   "source": [
    "import numpy as np\n",
    "from matplotlib import pyplot as plt\n",
    "import tensorflow.compat.v1 as tf\n",
    "tf.disable_v2_behavior()\n",
    "%matplotlib inline"
   ]
  },
  {
   "cell_type": "markdown",
   "metadata": {},
   "source": [
    "## Simple Structure"
   ]
  },
  {
   "cell_type": "markdown",
   "metadata": {},
   "source": [
    "### Data generation"
   ]
  },
  {
   "cell_type": "code",
   "execution_count": 48,
   "metadata": {},
   "outputs": [
    {
     "data": {
      "text/plain": [
       "array([0.856563  , 0.7919942 , 0.57215154, 0.36962438, 0.67014974,\n",
       "       0.07575881, 0.32986468, 0.22069032, 0.99691445, 0.10108984,\n",
       "       0.46145758, 0.4194175 , 0.18136273, 0.9019044 , 0.20671162,\n",
       "       0.49744433, 0.75049067, 0.29405808, 0.9959513 , 0.18489236,\n",
       "       0.22427563, 0.47551623, 0.41200915, 0.5211755 , 0.18753509,\n",
       "       0.6133589 , 0.54103196, 0.39585635, 0.55967695, 0.93438095,\n",
       "       0.504667  , 0.8519719 , 0.2729622 , 0.5605312 , 0.30694523,\n",
       "       0.9689762 , 0.48319623, 0.84391594, 0.8791369 , 0.04377215,\n",
       "       0.9508798 , 0.52879584, 0.8301157 , 0.5227329 , 0.63959545,\n",
       "       0.23335704, 0.9583173 , 0.6724637 , 0.04314533, 0.25977185,\n",
       "       0.6945791 , 0.48814458, 0.20050849, 0.34990767, 0.813801  ,\n",
       "       0.61303055, 0.03293644, 0.76219   , 0.27827746, 0.73102975,\n",
       "       0.29768908, 0.29578486, 0.36493015, 0.213511  , 0.08259652,\n",
       "       0.40614206, 0.6774119 , 0.5310335 , 0.13906835, 0.3289498 ,\n",
       "       0.5951128 , 0.07632565, 0.39437354, 0.6133687 , 0.80120796,\n",
       "       0.70282316, 0.6772665 , 0.62051   , 0.14334874, 0.83376926,\n",
       "       0.660537  , 0.37389743, 0.34705567, 0.6818544 , 0.6588194 ,\n",
       "       0.14197323, 0.7436689 , 0.9899788 , 0.6898512 , 0.9443764 ,\n",
       "       0.48247072, 0.5348893 , 0.16889158, 0.30463162, 0.08750474,\n",
       "       0.16832234, 0.9999936 , 0.662643  , 0.37456775, 0.44563222],\n",
       "      dtype=float32)"
      ]
     },
     "execution_count": 48,
     "metadata": {},
     "output_type": "execute_result"
    }
   ],
   "source": [
    "x_data = np.random.rand(100).astype(np.float32)\n",
    "x_data"
   ]
  },
  {
   "cell_type": "code",
   "execution_count": 49,
   "metadata": {},
   "outputs": [
    {
     "data": {
      "text/plain": [
       "<matplotlib.collections.PathCollection at 0x64573fbd0>"
      ]
     },
     "execution_count": 49,
     "metadata": {},
     "output_type": "execute_result"
    },
    {
     "data": {
      "image/png": "[encoded data removed]",
      "text/plain": [
       "<Figure size 432x288 with 1 Axes>"
      ]
     },
     "metadata": {
      "needs_background": "light"
     },
     "output_type": "display_data"
    }
   ],
   "source": [
    "y_data = x_data * 0.3 + 4 + np.random.normal(loc=0,scale=0.01,size=100) # we need add some noise\n",
    "plt.scatter(x_data,y_data) "
   ]
  },
  {
   "cell_type": "markdown",
   "metadata": {},
   "source": [
    "### Create Model"
   ]
  },
  {
   "cell_type": "code",
   "execution_count": 50,
   "metadata": {},
   "outputs": [],
   "source": [
    "Weights = tf.Variable(tf.random.uniform([1],-1.0,1.0))\n",
    "biases = tf.Variable(tf.zeros([1]))\n",
    "\n",
    "y = Weights*x_data + biases"
   ]
  },
  {
   "cell_type": "markdown",
   "metadata": {},
   "source": [
    "### Calculate the Loss"
   ]
  },
  {
   "cell_type": "code",
   "execution_count": 51,
   "metadata": {},
   "outputs": [],
   "source": [
    "loss = tf.reduce_mean(tf.square(y-y_data))"
   ]
  },
  {
   "cell_type": "markdown",
   "metadata": {},
   "source": [
    "### Back-propagation Optimizer"
   ]
  },
  {
   "cell_type": "code",
   "execution_count": 52,
   "metadata": {},
   "outputs": [],
   "source": [
    "# User gradient descent\n",
    "optimizer = tf.train.GradientDescentOptimizer(0.5)\n",
    "train = optimizer.minimize(loss)"
   ]
  },
  {
   "cell_type": "markdown",
   "metadata": {},
   "source": [
    "### Train"
   ]
  },
  {
   "cell_type": "code",
   "execution_count": 54,
   "metadata": {},
   "outputs": [],
   "source": [
    "# init all Variables\n",
    "init = tf.global_variables_initializer()  # 替换成这样就好"
   ]
  },
  {
   "cell_type": "code",
   "execution_count": 61,
   "metadata": {},
   "outputs": [],
   "source": [
    "sess = tf.Session()\n",
    "sess.run(init)\n",
    "\n",
    "sess.close()"
   ]
  },
  {
   "cell_type": "code",
   "execution_count": 56,
   "metadata": {},
   "outputs": [
    {
     "name": "stdout",
     "output_type": "stream",
     "text": [
      "0 [2.501381] [3.8589559]\n",
      "20 [0.8348431] [3.7143216]\n",
      "40 [0.4585437] [3.9152803]\n",
      "60 [0.3440367] [3.9764316]\n",
      "80 [0.30919248] [3.9950397]\n",
      "100 [0.2985896] [4.0007024]\n",
      "120 [0.29536298] [4.002425]\n",
      "140 [0.29438135] [4.0029497]\n",
      "160 [0.2940825] [4.003109]\n",
      "180 [0.2939918] [4.0031576]\n",
      "200 [0.29396418] [4.0031724]\n"
     ]
    }
   ],
   "source": [
    "for step in range(201):\n",
    "    sess.run(train)\n",
    "    if step % 20 == 0:\n",
    "        print(step, sess.run(Weights), sess.run(biases))"
   ]
  },
  {
   "cell_type": "markdown",
   "metadata": {},
   "source": [
    "## Session Control\n",
    "\n",
    "Session 是 Tensorflow 为了控制,和输出文件的执行的语句. 运行 session.run() 可以获得你要得知的运算结果, 或者是你所要运算的部分."
   ]
  },
  {
   "cell_type": "code",
   "execution_count": 62,
   "metadata": {},
   "outputs": [],
   "source": [
    "# 加载 Tensorflow ，然后建立两个 matrix ,输出两个 matrix 矩阵相乘的结果。\n",
    "\n",
    "matrix1 = tf.constant([[3,3]])\n",
    "matrix2 = tf.constant([[2],\n",
    "                       [2]])"
   ]
  },
  {
   "cell_type": "code",
   "execution_count": 63,
   "metadata": {},
   "outputs": [],
   "source": [
    "product = tf.matmul(matrix1,matrix2)"
   ]
  },
  {
   "cell_type": "code",
   "execution_count": 66,
   "metadata": {},
   "outputs": [
    {
     "name": "stdout",
     "output_type": "stream",
     "text": [
      "[[12]]\n"
     ]
    }
   ],
   "source": [
    "# One method\n",
    "sess = tf.Session()\n",
    "\n",
    "print(sess.run(product))\n",
    "\n",
    "sess.close()"
   ]
  },
  {
   "cell_type": "code",
   "execution_count": 70,
   "metadata": {},
   "outputs": [
    {
     "name": "stdout",
     "output_type": "stream",
     "text": [
      "[[12]]\n"
     ]
    }
   ],
   "source": [
    "# Another method\n",
    "with tf.Session() as sess:\n",
    "    print(sess.run(product))\n",
    "    "
   ]
  },
  {
   "cell_type": "markdown",
   "metadata": {},
   "source": [
    "## Variables\n",
    "\n",
    "在 Tensorflow 中，定义了某字符串是变量，它才是变量，这一点是与 Python 所不同的。"
   ]
  },
  {
   "cell_type": "code",
   "execution_count": 72,
   "metadata": {},
   "outputs": [],
   "source": [
    "state = tf.Variable(0,name = 'counter')\n",
    "\n",
    "# 定义常量 one\n",
    "one = tf.constant(1)\n",
    "\n",
    "# 定义加法步骤 (注: 此步并没有直接计算)\n",
    "new_value = tf.add(state, one)\n",
    "\n",
    "# 将 State 更新成 new_value\n",
    "update = tf.assign(state, new_value)"
   ]
  },
  {
   "cell_type": "markdown",
   "metadata": {},
   "source": [
    "如果你在 Tensorflow 中设定了变量，那么初始化变量是最重要的！！所以定义了变量以后, 一定要定义 init = tf.initialize_all_variables() .\n",
    "\n",
    "到这里变量还是没有被激活，需要再在 sess 里, sess.run(init) , 激活 init 这一步."
   ]
  },
  {
   "cell_type": "code",
   "execution_count": 74,
   "metadata": {},
   "outputs": [],
   "source": [
    "init = tf.global_variables_initializer()"
   ]
  },
  {
   "cell_type": "code",
   "execution_count": 77,
   "metadata": {},
   "outputs": [
    {
     "name": "stdout",
     "output_type": "stream",
     "text": [
      "1\n",
      "2\n",
      "3\n",
      "4\n",
      "5\n",
      "6\n",
      "7\n",
      "8\n",
      "9\n",
      "10\n"
     ]
    }
   ],
   "source": [
    "with tf.Session() as sess:\n",
    "    sess.run(init)\n",
    "    i = 10\n",
    "    while(i):\n",
    "        i-=1\n",
    "        sess.run(new_value)\n",
    "        print(sess.run(update))"
   ]
  },
  {
   "cell_type": "markdown",
   "metadata": {},
   "source": [
    "## Placeholder\n",
    "\n",
    "这一次我们会讲到 Tensorflow 中的 placeholder , placeholder 是 Tensorflow 中的占位符，暂时储存变量.\n",
    "\n",
    "Tensorflow 如果想要从外部传入data, 那就需要用到 tf.placeholder(), 然后以这种形式传输数据 sess.run(***, feed_dict={input: **})."
   ]
  },
  {
   "cell_type": "code",
   "execution_count": 78,
   "metadata": {},
   "outputs": [],
   "source": [
    "input1 = tf.placeholder(tf.float32)\n",
    "input2 = tf.placeholder(tf.float32)\n",
    "\n",
    "output = tf.multiply(input1,input2)"
   ]
  },
  {
   "cell_type": "markdown",
   "metadata": {},
   "source": [
    "接下来, 传值的工作交给了 sess.run() , 需要传入的值放在了feed_dict={} 并一一对应每一个 input. placeholder 与 feed_dict={} 是绑定在一起出现的。"
   ]
  },
  {
   "cell_type": "code",
   "execution_count": 81,
   "metadata": {},
   "outputs": [
    {
     "name": "stdout",
     "output_type": "stream",
     "text": [
      "[6.]\n"
     ]
    }
   ],
   "source": [
    "with tf.Session() as sess:\n",
    "    print(sess.run(output,feed_dict = {input1:[3.],input2:[2.]}))"
   ]
  }
 ],
 "metadata": {
  "kernelspec": {
   "display_name": "Python 3",
   "language": "python",
   "name": "python3"
  },
  "language_info": {
   "codemirror_mode": {
    "name": "ipython",
    "version": 3
   },
   "file_extension": ".py",
   "mimetype": "text/x-python",
   "name": "python",
   "nbconvert_exporter": "python",
   "pygments_lexer": "ipython3",
   "version": "3.7.4"
  }
 },
 "nbformat": 4,
 "nbformat_minor": 4
}
