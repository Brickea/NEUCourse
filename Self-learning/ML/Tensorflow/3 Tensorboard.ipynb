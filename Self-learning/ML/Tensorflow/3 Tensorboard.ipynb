{
 "cells": [
  {
   "cell_type": "markdown",
   "metadata": {},
   "source": [
    "<div style=\"text-align:right;\">Use tensorboard to visualize NN</div>\n",
    "<div style=\"text-align:right;\">Brickea with material from mofan python</div>"
   ]
  },
  {
   "cell_type": "markdown",
   "metadata": {},
   "source": [
    "# Tensorboard"
   ]
  },
  {
   "cell_type": "code",
   "execution_count": 10,
   "metadata": {},
   "outputs": [
    {
     "name": "stdout",
     "output_type": "stream",
     "text": [
      "Using matplotlib backend: MacOSX\n"
     ]
    }
   ],
   "source": [
    "import tensorflow.compat.v1 as tf\n",
    "tf.disable_v2_behavior()\n",
    "import numpy as np\n",
    "from matplotlib import pyplot as plt\n",
    "%matplotlib"
   ]
  },
  {
   "cell_type": "markdown",
   "metadata": {},
   "source": [
    "## Data"
   ]
  },
  {
   "cell_type": "code",
   "execution_count": 39,
   "metadata": {},
   "outputs": [
    {
     "name": "stdout",
     "output_type": "stream",
     "text": [
      "(300, 1)\n"
     ]
    }
   ],
   "source": [
    "x_data = np.linspace(-1,1,300)[:,np.newaxis]\n",
    "noise = np.random.normal(loc = 0,scale = 0.05,size = 300)[:,np.newaxis]\n",
    "y_data = np.square(x_data) + noise + 3"
   ]
  },
  {
   "cell_type": "code",
   "execution_count": 30,
   "metadata": {},
   "outputs": [
    {
     "data": {
      "text/plain": [
       "<matplotlib.collections.PathCollection at 0x6438c9b50>"
      ]
     },
     "execution_count": 30,
     "metadata": {},
     "output_type": "execute_result"
    },
    {
     "data": {
      "image/png": "[encoded data removed]",
      "text/plain": [
       "<Figure size 432x288 with 1 Axes>"
      ]
     },
     "metadata": {
      "needs_background": "light"
     },
     "output_type": "display_data"
    }
   ],
   "source": [
    "ax = plt.subplot(1,1,1)\n",
    "ax.scatter(x_data,y_data)"
   ]
  },
  {
   "cell_type": "markdown",
   "metadata": {},
   "source": [
    "## Layer"
   ]
  },
  {
   "cell_type": "code",
   "execution_count": 31,
   "metadata": {},
   "outputs": [],
   "source": [
    "def add_layer(inputs,in_size,out_size,activation_function = None):\n",
    "    with tf.name_scope('layer'):\n",
    "        \n",
    "        with tf.name_scope('Weights'):\n",
    "            Weight = tf.Variable(tf.random.normal([in_size,out_size]),name = 'W')\n",
    "        \n",
    "        with tf.name_scope('bias'):\n",
    "            biases = tf.Variable(tf.zeros([1,out_size])+0.1,name = 'b')\n",
    "        \n",
    "        with tf.name_scope('Wx_plus_b'):\n",
    "            Wx_plus_b = tf.add(tf.matmul(inputs,Weight),biases)\n",
    "        outputs = Wx_plus_b\n",
    "        if activation_function is not None:\n",
    "            outputs = activation_function(outputs)\n",
    "            \n",
    "        return outputs"
   ]
  },
  {
   "cell_type": "markdown",
   "metadata": {},
   "source": [
    "## Input"
   ]
  },
  {
   "cell_type": "markdown",
   "metadata": {},
   "source": [
    "使用with tf.name_scope('inputs')可以将xs和ys包含进来，形成一个大的图层，图层的名字就是with tf.name_scope()方法里的参数。"
   ]
  },
  {
   "cell_type": "code",
   "execution_count": 32,
   "metadata": {},
   "outputs": [],
   "source": [
    "with tf.name_scope('Data'):\n",
    "    x_input = tf.placeholder(tf.float32,[None,1])\n",
    "    y_output = tf.placeholder(tf.float32,[None,1])"
   ]
  },
  {
   "cell_type": "markdown",
   "metadata": {},
   "source": [
    "## Build Layer"
   ]
  },
  {
   "cell_type": "code",
   "execution_count": 33,
   "metadata": {},
   "outputs": [],
   "source": [
    "l1 = add_layer(x_input,1,10,activation_function=tf.nn.relu)\n",
    "predictions = add_layer(l1,10,1,activation_function=tf.nn.relu)"
   ]
  },
  {
   "cell_type": "markdown",
   "metadata": {},
   "source": [
    "## Loss"
   ]
  },
  {
   "cell_type": "code",
   "execution_count": 34,
   "metadata": {},
   "outputs": [],
   "source": [
    "with tf.name_scope(\"Loss\"):\n",
    "    loss = tf.reduce_mean(\n",
    "        tf.reduce_sum(\n",
    "            tf.square(y_output - predictions),reduction_indices=[1]))"
   ]
  },
  {
   "cell_type": "markdown",
   "metadata": {},
   "source": [
    "## Train Model"
   ]
  },
  {
   "cell_type": "code",
   "execution_count": 35,
   "metadata": {},
   "outputs": [],
   "source": [
    "with tf.name_scope('Train'):\n",
    "    train_step = tf.train.GradientDescentOptimizer(0.1).minimize(loss)"
   ]
  },
  {
   "cell_type": "code",
   "execution_count": 36,
   "metadata": {},
   "outputs": [
    {
     "name": "stdout",
     "output_type": "stream",
     "text": [
      "loss 4.776378\n",
      "loss 0.004141\n",
      "loss 0.003959\n",
      "loss 0.003860\n",
      "loss 0.003775\n",
      "loss 0.003710\n"
     ]
    }
   ],
   "source": [
    "init = tf.global_variables_initializer()\n",
    "with tf.Session() as sess:\n",
    "    sess.run(init)\n",
    "    for i in range(300):\n",
    "        rs = sess.run(train_step,feed_dict = {x_input:x_data,y_output:y_data})\n",
    "        if i % 50 ==0:\n",
    "            \n",
    "            predicts = sess.run(predictions,feed_dict={x_input:x_data,y_output:y_data})\n",
    "            try:\n",
    "                ax.lines.remove(lines[0])\n",
    "            except Exception:\n",
    "                pass\n",
    "            lines = ax.plot(x_data,predicts,'r--',lw=5)\n",
    "            plt.pause(1)\n",
    "            print(\"loss %f\" % sess.run(loss,feed_dict = {x_input:x_data,y_output:y_data}))"
   ]
  },
  {
   "cell_type": "code",
   "execution_count": 10,
   "metadata": {},
   "outputs": [],
   "source": [
    "sess = tf.Session() # get session\n",
    "# tf.train.SummaryWriter soon be deprecated, use following\n",
    "writer = tf.summary.FileWriter(\"logs/\", sess.graph)"
   ]
  },
  {
   "cell_type": "markdown",
   "metadata": {},
   "source": [
    "终端中启用 ```tensorboard --logdir logs```"
   ]
  },
  {
   "cell_type": "markdown",
   "metadata": {},
   "source": [
    "## More function"
   ]
  },
  {
   "cell_type": "markdown",
   "metadata": {},
   "source": [
    "### Data "
   ]
  },
  {
   "cell_type": "code",
   "execution_count": 2,
   "metadata": {},
   "outputs": [
    {
     "data": {
      "text/plain": [
       "<matplotlib.collections.PathCollection at 0x638263c50>"
      ]
     },
     "execution_count": 2,
     "metadata": {},
     "output_type": "execute_result"
    },
    {
     "data": {
      "image/png": "[encoded data removed]",
      "text/plain": [
       "<Figure size 432x288 with 1 Axes>"
      ]
     },
     "metadata": {
      "needs_background": "light"
     },
     "output_type": "display_data"
    }
   ],
   "source": [
    "x_data = np.linspace(-1,1,300).astype(np.float32)[:,np.newaxis]\n",
    "noise = np.random.normal(0,0.05,x_data.shape).astype(np.float32)\n",
    "y_data = np.square(x_data) + 3 + noise\n",
    "ax = plt.subplot(1,1,1)\n",
    "ax.scatter(x_data,y_data)"
   ]
  },
  {
   "cell_type": "markdown",
   "metadata": {},
   "source": [
    "### Weight and biases 变化表"
   ]
  },
  {
   "cell_type": "markdown",
   "metadata": {},
   "source": [
    "接下来,我们层中的Weights设置变化图, tensorflow中提供了tf.histogram_summary()方法,用来绘制图片, 第一个参数是图表的名称, 第二个参数是图表要记录的变量"
   ]
  },
  {
   "cell_type": "code",
   "execution_count": 3,
   "metadata": {},
   "outputs": [],
   "source": [
    "def add_layer_second(inputs,in_size,out_size,layer,activation_fucntion=None):\n",
    "    layer_name = \"layer%s\"%layer\n",
    "    with tf.name_scope(layer_name):\n",
    "        \n",
    "        with tf.name_scope('Weights'):\n",
    "            Weights = tf.Variable(tf.random.normal([in_size,out_size]),name='W')\n",
    "            tf.summary.histogram(layer_name + '/Weights',Weights)\n",
    "        \n",
    "        with tf.name_scope('biases'):\n",
    "            biases = tf.Variable(tf.zeros([1,out_size])+0.1,name='b')\n",
    "            tf.summary.histogram(layer_name + '/biases',biases)\n",
    "        \n",
    "        with tf.name_scope('Wx_plus_b'):\n",
    "            Wx_plus_b = tf.add(tf.matmul(inputs,Weights),biases,name='Wx_plus_b')\n",
    "            \n",
    "        outputs = Wx_plus_b\n",
    "        if activation_fucntion is not None:\n",
    "            outputs = activation_fucntion(Wx_plus_b)\n",
    "                \n",
    "        # 至于activation_function 可以不绘制. 我们对outputs 使用同样的方法:\n",
    "        tf.summary.histogram(layer_name + '/outputs', outputs)\n",
    "        \n",
    "    return outputs\n",
    "            \n",
    "        "
   ]
  },
  {
   "cell_type": "code",
   "execution_count": 4,
   "metadata": {},
   "outputs": [],
   "source": [
    "x_input = tf.placeholder(tf.float32,[None,1])\n",
    "y_output = tf.placeholder(tf.float32,[None,1])"
   ]
  },
  {
   "cell_type": "code",
   "execution_count": 5,
   "metadata": {},
   "outputs": [],
   "source": [
    "l1_second = add_layer_second(x_input,1,10,'layer_1',activation_fucntion=tf.nn.relu)\n",
    "l2_second = add_layer_second(l1_second,10,1,'layer_output',activation_fucntion=None)"
   ]
  },
  {
   "cell_type": "code",
   "execution_count": 6,
   "metadata": {},
   "outputs": [],
   "source": [
    "with tf.name_scope('loss'):\n",
    "    loss = tf.reduce_mean(\n",
    "        tf.reduce_sum(tf.square(l2_second - y_output),reduction_indices=[1])\n",
    "    )\n",
    "    tf.summary.scalar('loss', loss) # tensorflow >= 0.12"
   ]
  },
  {
   "cell_type": "code",
   "execution_count": 7,
   "metadata": {},
   "outputs": [],
   "source": [
    "with tf.name_scope('train'):\n",
    "    train_step = tf.train.GradientDescentOptimizer(0.1).minimize(loss)"
   ]
  },
  {
   "cell_type": "code",
   "execution_count": 8,
   "metadata": {},
   "outputs": [],
   "source": [
    "init = tf.global_variables_initializer()"
   ]
  },
  {
   "cell_type": "code",
   "execution_count": 9,
   "metadata": {},
   "outputs": [
    {
     "name": "stdout",
     "output_type": "stream",
     "text": [
      "loss 0.344598\n",
      "loss 0.006803\n",
      "loss 0.005256\n",
      "loss 0.004397\n",
      "loss 0.003991\n",
      "loss 0.003747\n"
     ]
    }
   ],
   "source": [
    "with tf.Session() as sess:\n",
    "    merged = tf.summary.merge_all() # tensorflow >= 0.12\n",
    "    writer = tf.summary.FileWriter(\"logs/\", sess.graph)\n",
    "    sess.run(init)\n",
    "    for i in range(300):\n",
    "        sess.run(train_step,feed_dict={x_input:x_data,y_output:y_data})\n",
    "        if i % 50 ==0:\n",
    "            rs = sess.run(merged,feed_dict={x_input:x_data,y_output:y_data})\n",
    "            writer.add_summary(rs,i)\n",
    "            print('loss %f'% sess.run(loss,feed_dict={x_input:x_data,y_output:y_data}))\n",
    "            predicts = sess.run(l2_second,feed_dict={x_input:x_data,y_output:y_data})\n",
    "            try:\n",
    "                ax.lines.remove(lines[0])\n",
    "            except Exception:\n",
    "                pass\n",
    "            lines = ax.plot(x_data,predicts,'r--',lw=5)\n",
    "            plt.pause(1)\n",
    "            "
   ]
  }
 ],
 "metadata": {
  "kernelspec": {
   "display_name": "Python 3",
   "language": "python",
   "name": "python3"
  },
  "language_info": {
   "codemirror_mode": {
    "name": "ipython",
    "version": 3
   },
   "file_extension": ".py",
   "mimetype": "text/x-python",
   "name": "python",
   "nbconvert_exporter": "python",
   "pygments_lexer": "ipython3",
   "version": "3.7.4"
  }
 },
 "nbformat": 4,
 "nbformat_minor": 4
}
