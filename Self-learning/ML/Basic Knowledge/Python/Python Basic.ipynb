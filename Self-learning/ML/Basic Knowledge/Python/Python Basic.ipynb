{
 "cells": [
  {
   "cell_type": "markdown",
   "metadata": {},
   "source": [
    "<div style=\"text-align:right;\">Python Basic Knowledge</div>\n",
    "<div style=\"text-align:right;\">Brickea with Material from Mofan Python</div>"
   ]
  },
  {
   "cell_type": "markdown",
   "metadata": {},
   "source": [
    "# Basic Knowledge"
   ]
  },
  {
   "cell_type": "markdown",
   "metadata": {},
   "source": [
    "## Loop - Iterators"
   ]
  },
  {
   "cell_type": "markdown",
   "metadata": {},
   "source": [
    "Iterators 迭代器\n",
    "\n",
    "Python 中的 for 句法实际上实现了设计模式中的迭代器模式 ，所以我们自己也可以按照迭代器的要求自己生成迭代器对象，以便在 for 语句中使用。 \n",
    "\n",
    "只要类中实现了 __iter__ 和 next 函数，那么对象就可以在 for 语句中使用。 现在创建 Fibonacci 迭代器对象,"
   ]
  },
  {
   "cell_type": "code",
   "execution_count": 1,
   "metadata": {},
   "outputs": [],
   "source": [
    "class Fib(object):\n",
    "    def __init__(self,max):\n",
    "        self.max = max\n",
    "        self.n, self.a, self.b = 0,0,1\n",
    "\n",
    "    def __iter__(self):\n",
    "        return self\n",
    "\n",
    "    def __next__(self):\n",
    "        if self.n <self.max:\n",
    "            r = self.b\n",
    "            self.a, self.b = self.b, self.a + self.b\n",
    "            self.n += 1\n",
    "            return r\n",
    "        raise StopIteration()\n",
    "        \n",
    "    "
   ]
  },
  {
   "cell_type": "code",
   "execution_count": 3,
   "metadata": {},
   "outputs": [
    {
     "name": "stdout",
     "output_type": "stream",
     "text": [
      "1\n",
      "1\n",
      "2\n",
      "3\n",
      "5\n"
     ]
    }
   ],
   "source": [
    "for i in Fib(5):\n",
    "    print(i)"
   ]
  },
  {
   "cell_type": "markdown",
   "metadata": {},
   "source": [
    "## Loop - Generator"
   ]
  },
  {
   "cell_type": "markdown",
   "metadata": {},
   "source": [
    "Generator 生成器\n",
    "\n",
    "除了使用迭代器以外，Python 使用 yield 关键字也能实现类似迭代的效果，yield 语句每次 执行时，立即返回结果给上层调用者，而当前的状态仍然保留，以便迭代器下一次循环调用。\n",
    "\n",
    "这样做的 好处是在于节约硬件资源，在需要的时候才会执行，并且每次只执行一次。"
   ]
  },
  {
   "cell_type": "code",
   "execution_count": 4,
   "metadata": {},
   "outputs": [],
   "source": [
    "def Fib(max):\n",
    "    a,b = 0,1\n",
    "    while max:\n",
    "        r = b\n",
    "        a,b = b,a+b\n",
    "        max -= 1\n",
    "        yield r\n",
    "\n",
    "    "
   ]
  },
  {
   "cell_type": "code",
   "execution_count": 6,
   "metadata": {},
   "outputs": [
    {
     "name": "stdout",
     "output_type": "stream",
     "text": [
      "1\n",
      "1\n",
      "2\n",
      "3\n",
      "5\n"
     ]
    }
   ],
   "source": [
    "for i in Fib(5):\n",
    "    print(i)"
   ]
  },
  {
   "cell_type": "markdown",
   "metadata": {},
   "source": [
    "---"
   ]
  },
  {
   "cell_type": "markdown",
   "metadata": {},
   "source": [
    "## Function - Self-call 自调用\n",
    "\n",
    "如果想要在执行脚本的时候执行一些代码，比如单元测试，可以在脚本最后加上单元测试 代码，但是该脚本作为一个模块对外提供功能的时候单元测试代码也会执行，这些往往我们不想要的，我们可以把这些代码放入脚本最后："
   ]
  },
  {
   "cell_type": "code",
   "execution_count": 8,
   "metadata": {},
   "outputs": [],
   "source": [
    "if __name__ == '__main__':\n",
    "    #code_here\n",
    "    pass"
   ]
  },
  {
   "cell_type": "markdown",
   "metadata": {},
   "source": [
    "## Function - Dynamic Parameters 可变参数\n",
    "\n",
    "顾名思义，函数的可变参数是传入的参数可以变化的，1个，2个到任意个。当然可以将这些 参数封装成一个 list 或者 tuple 传入，但不够 pythonic。使用可变参数可以很好解决该问题，注意可变参数在函数定义不能出现在特定参数和默认参数前面，因为可变参数会吞噬掉这些参数。"
   ]
  },
  {
   "cell_type": "code",
   "execution_count": 11,
   "metadata": {},
   "outputs": [],
   "source": [
    "def report(name,*grades):\n",
    "    total = 0\n",
    "    for grade in grades:\n",
    "        total += grade\n",
    "    print(\"%s total grade is %.1f\"%(name,total))"
   ]
  },
  {
   "cell_type": "markdown",
   "metadata": {},
   "source": [
    "定义了一个函数，传入一个参数为 name, 后面的参数 *grades 使用了 * 修饰，表明该参数是一个可变参数，这是一个可迭代的对象。该函数输入姓名和各科的成绩，输出姓名和总共成绩。所以可以这样调用函数 report('Mike', 8, 9)，输出的结果为 Mike total grade is 17, 也可以这样调用 report('Mike', 8, 9, 10)，输出的结果为 Mike total grade is 27"
   ]
  },
  {
   "cell_type": "code",
   "execution_count": 12,
   "metadata": {},
   "outputs": [
    {
     "name": "stdout",
     "output_type": "stream",
     "text": [
      "brickea total grade is 6.0\n"
     ]
    }
   ],
   "source": [
    "report('brickea',1,2,3)"
   ]
  },
  {
   "cell_type": "code",
   "execution_count": 14,
   "metadata": {},
   "outputs": [
    {
     "name": "stdout",
     "output_type": "stream",
     "text": [
      "brickea total grade is 10.0\n"
     ]
    }
   ],
   "source": [
    "report('brickea',1,2,3,4)"
   ]
  },
  {
   "cell_type": "markdown",
   "metadata": {},
   "source": [
    "## Function - Key words parameters 关键词参数\n",
    "\n",
    "关键字参数可以传入0个或者任意个含参数名的参数，这些参数名在函数定义中并没有出现，这些参数在函数内部自动封装成一个字典(dict).\n"
   ]
  },
  {
   "cell_type": "code",
   "execution_count": 18,
   "metadata": {},
   "outputs": [],
   "source": [
    "def report(name,**kw):\n",
    "    print(name)\n",
    "    for k,v in kw.items():\n",
    "        print(k,v)"
   ]
  },
  {
   "cell_type": "markdown",
   "metadata": {},
   "source": [
    "定义了一个函数，传入一个参数 name, 和关键字参数 kw，使用了 ** 修饰。表明该参数是关键字参数，通常来讲关键字参数是放在函数参数列表的最后。如果调用参数 portrait('Mike', age=24, country='China', education='bachelor') 输出:"
   ]
  },
  {
   "cell_type": "code",
   "execution_count": 19,
   "metadata": {},
   "outputs": [
    {
     "name": "stdout",
     "output_type": "stream",
     "text": [
      "brickea\n",
      "test1 1\n",
      "test2 2\n"
     ]
    }
   ],
   "source": [
    "report('brickea',test1 = 1,test2 = 2)"
   ]
  },
  {
   "cell_type": "markdown",
   "metadata": {},
   "source": [
    "通过可变参数和关键字参数，任何函数都可以用 ```universal_func(*args, **kw)``` 表达。"
   ]
  },
  {
   "cell_type": "markdown",
   "metadata": {},
   "source": [
    "---"
   ]
  },
  {
   "cell_type": "markdown",
   "metadata": {},
   "source": [
    "## Variables - Global variable 全局变量\n",
    "\n",
    "那如何在外部也能调用一个在局部里修改了的全局变量呢. 首先我们在外部定义一个全局变量 a=None, 然后再 fun() 中声明 这个 a 是来自外部的 a. 声明方式就是 global a. 然后对这个外部的 a 修改后, 修改的效果会被施加到外部的 a 上. 所以我们将能看到运行完 fun(), a 的值从 None 变成了 20."
   ]
  },
  {
   "cell_type": "code",
   "execution_count": 21,
   "metadata": {},
   "outputs": [
    {
     "name": "stdout",
     "output_type": "stream",
     "text": [
      "100\n",
      "a past: None\n",
      "a now: 20\n"
     ]
    }
   ],
   "source": [
    "APPLY = 100 # 全局变量\n",
    "a = None\n",
    "def fun():\n",
    "    global a    # 使用之前在全局里定义的 a\n",
    "    a = 20      # 现在的 a 是全局变量了\n",
    "    return a+100\n",
    "\n",
    "print(APPLY)    # 100\n",
    "print('a past:', a)  # None\n",
    "fun()\n",
    "print('a now:', a)   # 20"
   ]
  },
  {
   "cell_type": "markdown",
   "metadata": {},
   "source": [
    "---"
   ]
  },
  {
   "cell_type": "markdown",
   "metadata": {},
   "source": [
    "## List\n",
    "\n",
    "### List 添加 \n",
    "列表是一系列有序的数列，有一系列自带的功能， 例如：\n",
    "```\n",
    "a = [1,2,3,4,1,1,-1]\n",
    "a.append(0)  # 在a的最后面追加一个0\n",
    "print(a)\n",
    "# [1, 2, 3, 4, 1, 1, -1, 0]\n",
    "```\n",
    "\n",
    "### 在指定的地方添加项：\n",
    "```\n",
    "a = [1,2,3,4,1,1,-1]\n",
    "a.insert(1,0) # 在位置1处添加0\n",
    "print(a)\n",
    "# [1, 0, 2, 3, 4, 1, 1, -1]\n",
    "```\n",
    "\n",
    "### List 移除 \n",
    "删除项：\n",
    "```\n",
    "a = [1,2,3,4,1,1,-1]\n",
    "a.remove(2) # 删除列表中第一个出现的值为2的项\n",
    "print(a)\n",
    "# [1, 3, 4, 1, 1, -1]\n",
    "```\n",
    "\n",
    "### List 索引 \n",
    "显示特定位：\n",
    "```\n",
    "a = [1,2,3,4,1,1,-1]\n",
    "print(a[0])  # 显示列表a的第0位的值\n",
    "# 1\n",
    "\n",
    "print(a[-1]) # 显示列表a的最末位的值\n",
    "# -1\n",
    "\n",
    "print(a[0:3]) # 显示列表a的从第0位 到 第2位(第3位之前) 的所有项的值\n",
    "# [1, 2, 3]\n",
    "\n",
    "print(a[5:])  # 显示列表a的第5位及以后的所有项的值\n",
    "# [1, -1]\n",
    "\n",
    "print(a[-3:]) # 显示列表a的倒数第3位及以后的所有项的值\n",
    "# [1, 1, -1]\n",
    "```\n",
    "\n",
    "### 打印列表中的某个值的索引(index):\n",
    "```\n",
    "a = [1,2,3,4,1,1,-1]\n",
    "print(a.index(2)) # 显示列表a中第一次出现的值为2的项的索引\n",
    "# 1\n",
    "```\n",
    "### 统计列表中某值出现的次数：\n",
    "```\n",
    "a = [4,1,2,3,4,1,1,-1]\n",
    "print(a.count(-1))\n",
    "# 1\n",
    "```\n",
    " \n",
    "### List 排序 \n",
    "对列表的项排序：\n",
    "```\n",
    "a = [4,1,2,3,4,1,1,-1]\n",
    "a.sort() # 默认从小到大排序\n",
    "print(a)\n",
    "# [-1, 1, 1, 1, 2, 3, 4, 4]\n",
    "\n",
    "a.sort(reverse=True) # 从大到小排序\n",
    "print(a)\n",
    "# [4, 4, 3, 2, 1, 1, 1, -1]\n",
    "```"
   ]
  },
  {
   "cell_type": "markdown",
   "metadata": {},
   "source": [
    "---"
   ]
  },
  {
   "cell_type": "markdown",
   "metadata": {},
   "source": [
    "## Set 找不同\n",
    "\n",
    "### set 基本 \n",
    "Set 最主要的功能就是寻找一个句子或者一个 list 当中不同的元素.\n",
    "```\n",
    "char_list = ['a', 'b', 'c', 'c', 'd', 'd', 'd']\n",
    "\n",
    "sentence = 'Welcome Back to This Tutorial'\n",
    "\n",
    "print(set(char_list))\n",
    "# {'b', 'd', 'a', 'c'}\n",
    "\n",
    "print(set(sentence))\n",
    "# {'l', 'm', 'a', 'c', 't', 'r', 's', ' ', 'o', 'W', 'T', 'B', 'i', 'e', 'u', 'h', 'k'}\n",
    "\n",
    "print(set(char_list+ list(sentence)))\n",
    "# {'l', 'm', 'a', 'c', 't', 'r', 's', ' ', 'd', 'o', 'W', 'T', 'B', 'i', 'e', 'k', 'h', 'u', 'b'}\n",
    "```\n",
    "### 添加元素 \n",
    "定义好一个 set 之后我们还可以对其添加需要的元素, 使用 add 就能添加某个元素. 但是不是每一个东西都能添加, 比如一个列表.\n",
    "```\n",
    "unique_char = set(char_list)\n",
    "unique_char.add('x')\n",
    "# unique_char.add(['y', 'z']) this is wrong\n",
    "print(unique_char)\n",
    "\n",
    "# {'x', 'b', 'd', 'c', 'a'}\n",
    "```\n",
    "\n",
    "### 清除元素或 set \n",
    "清除一个元素可以用 remove 或者 discard, 而清除全部可以用 clear.\n",
    "```\n",
    "unique_char.remove('x')\n",
    "print(unique_char)\n",
    "# {'b', 'd', 'c', 'a'}\n",
    "\n",
    "unique_char.discard('d')\n",
    "print(unique_char)\n",
    "# {'b', 'c', 'a'}\n",
    "\n",
    "unique_char.clear()\n",
    "print(unique_char)\n",
    "# set()\n",
    "```\n",
    "### 筛选操作 \n",
    "我们还能进行一些筛选操作, 比如对比另一个东西, 看看原来的 set 里有没有和他不同的 (difference). 或者对比另一个东西, 看看 set 里有没有相同的 (intersection).\n",
    "```\n",
    "unique_char = set(char_list)\n",
    "print(unique_char.difference({'a', 'e', 'i'}))\n",
    "# {'b', 'd', 'c'}\n",
    "\n",
    "print(unique_char.intersection({'a', 'e', 'i'}))\n",
    "# {'a'}\n",
    "```"
   ]
  },
  {
   "cell_type": "markdown",
   "metadata": {},
   "source": [
    "---"
   ]
  },
  {
   "cell_type": "markdown",
   "metadata": {},
   "source": [
    "## Exception - 错误处理\n",
    "\n",
    "输出错误：try:, except ... as ...: 看如下代码"
   ]
  },
  {
   "cell_type": "code",
   "execution_count": 22,
   "metadata": {},
   "outputs": [
    {
     "name": "stdout",
     "output_type": "stream",
     "text": [
      "[Errno 2] No such file or directory: 'eeee.txt'\n"
     ]
    },
    {
     "data": {
      "text/plain": [
       "\"\\n[Errno 2] No such file or directory: 'eeee.txt'\\n\""
      ]
     },
     "execution_count": 22,
     "metadata": {},
     "output_type": "execute_result"
    }
   ],
   "source": [
    "try:\n",
    "    file=open('eeee.txt','r')  #会报错的代码\n",
    "except Exception as e:  # 将报错存储在 e 中\n",
    "    print(e)\n",
    "\"\"\"\n",
    "[Errno 2] No such file or directory: 'eeee.txt'\n",
    "\"\"\""
   ]
  },
  {
   "cell_type": "markdown",
   "metadata": {},
   "source": [
    "---"
   ]
  },
  {
   "cell_type": "markdown",
   "metadata": {},
   "source": [
    "## zip lambda map"
   ]
  },
  {
   "cell_type": "markdown",
   "metadata": {},
   "source": [
    "zip函数接受任意多个（包括0个和1个）序列作为参数，合并后返回一个tuple列表,请看示例："
   ]
  },
  {
   "cell_type": "code",
   "execution_count": 23,
   "metadata": {},
   "outputs": [
    {
     "name": "stdout",
     "output_type": "stream",
     "text": [
      "[(1, 4), (2, 5), (3, 6)]\n"
     ]
    }
   ],
   "source": [
    "a=[1,2,3]\n",
    "b=[4,5,6]\n",
    "ab=zip(a,b)\n",
    "print(list(ab))  #需要加list来可视化这个功能"
   ]
  },
  {
   "cell_type": "code",
   "execution_count": 24,
   "metadata": {},
   "outputs": [
    {
     "name": "stdout",
     "output_type": "stream",
     "text": [
      "[(1, 4), (2, 5), (3, 6)]\n",
      "0.5 8\n",
      "1.0 10\n",
      "1.5 12\n"
     ]
    }
   ],
   "source": [
    "a=[1,2,3]\n",
    "b=[4,5,6]\n",
    "ab=zip(a,b)\n",
    "print(list(ab))\n",
    "for i,j in zip(a,b):\n",
    "     print(i/2,j*2)"
   ]
  },
  {
   "cell_type": "markdown",
   "metadata": {},
   "source": [
    "lambda定义一个简单的函数，实现简化代码的功能，看代码会更好理解。\n",
    "\n",
    "fun = lambda x,y : x+y, 冒号前的x,y为自变量，冒号后x+y为具体运算。"
   ]
  },
  {
   "cell_type": "code",
   "execution_count": 25,
   "metadata": {},
   "outputs": [
    {
     "name": "stdin",
     "output_type": "stream",
     "text": [
      "x= 2\n",
      "y= 2\n"
     ]
    },
    {
     "name": "stdout",
     "output_type": "stream",
     "text": [
      "4\n"
     ]
    }
   ],
   "source": [
    "fun= lambda x,y:x+y\n",
    "x=int(input('x='))    #这里要定义int整数，否则会默认为字符串\n",
    "y=int(input('y='))\n",
    "print(fun(x,y))"
   ]
  },
  {
   "cell_type": "markdown",
   "metadata": {},
   "source": [
    "map是把函数和参数绑定在一起。"
   ]
  },
  {
   "cell_type": "code",
   "execution_count": 30,
   "metadata": {},
   "outputs": [
    {
     "name": "stdout",
     "output_type": "stream",
     "text": [
      "[3]\n",
      "[3, 6]\n"
     ]
    }
   ],
   "source": [
    "def fun(x,y):\n",
    "    return x+y\n",
    "\n",
    "a = list(map(fun,[1],[2]))\n",
    "print(a)\n",
    "\n",
    "a = list(map(fun,[1,2],[2,4]))\n",
    "print(a)"
   ]
  },
  {
   "cell_type": "markdown",
   "metadata": {},
   "source": [
    "---"
   ]
  },
  {
   "cell_type": "markdown",
   "metadata": {},
   "source": [
    "## Copy - 深拷贝，浅拷贝"
   ]
  },
  {
   "cell_type": "markdown",
   "metadata": {},
   "source": [
    "### 浅拷贝 \n",
    "当使用浅拷贝时，python只是拷贝了最外围的对象本身，内部的元素都只是拷贝了一个引用而已。看代码：\n",
    "```python\n",
    ">>> import copy\n",
    ">>> a=[1,2,3]\n",
    ">>> c=copy.copy(a)  #拷贝了a的外围对象本身,\n",
    ">>> id(c)\n",
    "4383658568\n",
    ">>> print(id(a)==id(c))  #id 改变 为false\n",
    "False\n",
    ">>> c[1]=22222   #此时，我去改变c的第二个值时，a不会被改变。\n",
    ">>> print(a,c)\n",
    "[1, 2, 3] [1, 22222, 3] #a值不变,c的第二个值变了，这就是copy和‘==’的不同\n",
    "```\n",
    "### 深拷贝 \n",
    "deepcopy对外围和内部元素都进行了拷贝对象本身，而不是对象的引用。\n",
    "```python\n",
    "#copy.copy()\n",
    "\n",
    ">>> a=[1,2,[3,4]]  #第三个值为列表[3,4],即内部元素\n",
    ">>> d=copy.copy(a) #浅拷贝a中的[3，4]内部元素的引用，非内部元素对象的本身\n",
    ">>> id(a)==id(d)\n",
    "False\n",
    ">>> id(a[2])==id(d[2])\n",
    "True\n",
    ">>> a[2][0]=3333  #改变a中内部原属列表中的第一个值\n",
    ">>> d             #这时d中的列表元素也会被改变\n",
    "[1, 2, [3333, 4]]\n",
    "\n",
    "\n",
    "#copy.deepcopy()\n",
    "\n",
    ">>> e=copy.deepcopy(a) #e为深拷贝了a\n",
    ">>> a[2][0]=333 #改变a中内部元素列表第一个的值\n",
    ">>> e\n",
    "[1, 2, [3333, 4]] #因为时深拷贝，这时e中内部元素[]列表的值不会因为a中的值改变而改变\n",
    ">>>\n",
    "```"
   ]
  }
 ],
 "metadata": {
  "kernelspec": {
   "display_name": "Python 3",
   "language": "python",
   "name": "python3"
  },
  "language_info": {
   "codemirror_mode": {
    "name": "ipython",
    "version": 3
   },
   "file_extension": ".py",
   "mimetype": "text/x-python",
   "name": "python",
   "nbconvert_exporter": "python",
   "pygments_lexer": "ipython3",
   "version": "3.7.4"
  }
 },
 "nbformat": 4,
 "nbformat_minor": 4
}
