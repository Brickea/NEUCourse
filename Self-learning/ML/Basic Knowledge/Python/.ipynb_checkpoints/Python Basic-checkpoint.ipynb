{
 "cells": [
  {
   "cell_type": "markdown",
   "metadata": {},
   "source": [
    "<div style=\"text-align:right;\">Python Basic Knowledge</div>\n",
    "<div style=\"text-align:right;\">Brickea with Material from Mofan Python</div>"
   ]
  },
  {
   "cell_type": "markdown",
   "metadata": {},
   "source": [
    "# Basic Knowledge"
   ]
  },
  {
   "cell_type": "markdown",
   "metadata": {},
   "source": [
    "## Loop - Iterators"
   ]
  },
  {
   "cell_type": "markdown",
   "metadata": {},
   "source": [
    "Iterators 迭代器\n",
    "\n",
    "Python 中的 for 句法实际上实现了设计模式中的迭代器模式 ，所以我们自己也可以按照迭代器的要求自己生成迭代器对象，以便在 for 语句中使用。 \n",
    "\n",
    "只要类中实现了 __iter__ 和 next 函数，那么对象就可以在 for 语句中使用。 现在创建 Fibonacci 迭代器对象,"
   ]
  },
  {
   "cell_type": "code",
   "execution_count": 1,
   "metadata": {},
   "outputs": [],
   "source": [
    "class Fib(object):\n",
    "    def __init__(self,max):\n",
    "        self.max = max\n",
    "        self.n, self.a, self.b = 0,0,1\n",
    "\n",
    "    def __iter__(self):\n",
    "        return self\n",
    "\n",
    "    def __next__(self):\n",
    "        if self.n <self.max:\n",
    "            r = self.b\n",
    "            self.a, self.b = self.b, self.a + self.b\n",
    "            self.n += 1\n",
    "            return r\n",
    "        raise StopIteration()\n",
    "        \n",
    "    "
   ]
  },
  {
   "cell_type": "code",
   "execution_count": 3,
   "metadata": {},
   "outputs": [
    {
     "name": "stdout",
     "output_type": "stream",
     "text": [
      "1\n",
      "1\n",
      "2\n",
      "3\n",
      "5\n"
     ]
    }
   ],
   "source": [
    "for i in Fib(5):\n",
    "    print(i)"
   ]
  },
  {
   "cell_type": "markdown",
   "metadata": {},
   "source": [
    "## Loop - Generator"
   ]
  },
  {
   "cell_type": "markdown",
   "metadata": {},
   "source": [
    "Generator 生成器\n",
    "\n",
    "除了使用迭代器以外，Python 使用 yield 关键字也能实现类似迭代的效果，yield 语句每次 执行时，立即返回结果给上层调用者，而当前的状态仍然保留，以便迭代器下一次循环调用。\n",
    "\n",
    "这样做的 好处是在于节约硬件资源，在需要的时候才会执行，并且每次只执行一次。"
   ]
  },
  {
   "cell_type": "code",
   "execution_count": 4,
   "metadata": {},
   "outputs": [],
   "source": [
    "def Fib(max):\n",
    "    a,b = 0,1\n",
    "    while max:\n",
    "        r = b\n",
    "        a,b = b,a+b\n",
    "        max -= 1\n",
    "        yield r\n",
    "\n",
    "    "
   ]
  },
  {
   "cell_type": "code",
   "execution_count": 6,
   "metadata": {},
   "outputs": [
    {
     "name": "stdout",
     "output_type": "stream",
     "text": [
      "1\n",
      "1\n",
      "2\n",
      "3\n",
      "5\n"
     ]
    }
   ],
   "source": [
    "for i in Fib(5):\n",
    "    print(i)"
   ]
  },
  {
   "cell_type": "markdown",
   "metadata": {},
   "source": [
    "## Function - Self-call 自调用\n",
    "\n",
    "如果想要在执行脚本的时候执行一些代码，比如单元测试，可以在脚本最后加上单元测试 代码，但是该脚本作为一个模块对外提供功能的时候单元测试代码也会执行，这些往往我们不想要的，我们可以把这些代码放入脚本最后："
   ]
  },
  {
   "cell_type": "code",
   "execution_count": 8,
   "metadata": {},
   "outputs": [],
   "source": [
    "if __name__ == '__main__':\n",
    "    #code_here\n",
    "    pass"
   ]
  },
  {
   "cell_type": "markdown",
   "metadata": {},
   "source": [
    "## Function - Dynamic Parameters 可变参数\n",
    "\n",
    "顾名思义，函数的可变参数是传入的参数可以变化的，1个，2个到任意个。当然可以将这些 参数封装成一个 list 或者 tuple 传入，但不够 pythonic。使用可变参数可以很好解决该问题，注意可变参数在函数定义不能出现在特定参数和默认参数前面，因为可变参数会吞噬掉这些参数。"
   ]
  },
  {
   "cell_type": "code",
   "execution_count": 11,
   "metadata": {},
   "outputs": [],
   "source": [
    "def report(name,*grades):\n",
    "    total = 0\n",
    "    for grade in grades:\n",
    "        total += grade\n",
    "    print(\"%s total grade is %.1f\"%(name,total))"
   ]
  },
  {
   "cell_type": "markdown",
   "metadata": {},
   "source": [
    "定义了一个函数，传入一个参数为 name, 后面的参数 *grades 使用了 * 修饰，表明该参数是一个可变参数，这是一个可迭代的对象。该函数输入姓名和各科的成绩，输出姓名和总共成绩。所以可以这样调用函数 report('Mike', 8, 9)，输出的结果为 Mike total grade is 17, 也可以这样调用 report('Mike', 8, 9, 10)，输出的结果为 Mike total grade is 27"
   ]
  },
  {
   "cell_type": "code",
   "execution_count": 12,
   "metadata": {},
   "outputs": [
    {
     "name": "stdout",
     "output_type": "stream",
     "text": [
      "brickea total grade is 6.0\n"
     ]
    }
   ],
   "source": [
    "report('brickea',1,2,3)"
   ]
  },
  {
   "cell_type": "code",
   "execution_count": 14,
   "metadata": {},
   "outputs": [
    {
     "name": "stdout",
     "output_type": "stream",
     "text": [
      "brickea total grade is 10.0\n"
     ]
    }
   ],
   "source": [
    "report('brickea',1,2,3,4)"
   ]
  },
  {
   "cell_type": "markdown",
   "metadata": {},
   "source": [
    "## Function - Key words parameters 关键词参数\n",
    "\n",
    "关键字参数可以传入0个或者任意个含参数名的参数，这些参数名在函数定义中并没有出现，这些参数在函数内部自动封装成一个字典(dict).\n"
   ]
  },
  {
   "cell_type": "code",
   "execution_count": 18,
   "metadata": {},
   "outputs": [],
   "source": [
    "def report(name,**kw):\n",
    "    print(name)\n",
    "    for k,v in kw.items():\n",
    "        print(k,v)"
   ]
  },
  {
   "cell_type": "markdown",
   "metadata": {},
   "source": [
    "定义了一个函数，传入一个参数 name, 和关键字参数 kw，使用了 ** 修饰。表明该参数是关键字参数，通常来讲关键字参数是放在函数参数列表的最后。如果调用参数 portrait('Mike', age=24, country='China', education='bachelor') 输出:"
   ]
  },
  {
   "cell_type": "code",
   "execution_count": 19,
   "metadata": {},
   "outputs": [
    {
     "name": "stdout",
     "output_type": "stream",
     "text": [
      "brickea\n",
      "test1 1\n",
      "test2 2\n"
     ]
    }
   ],
   "source": [
    "report('brickea',test1 = 1,test2 = 2)"
   ]
  },
  {
   "cell_type": "markdown",
   "metadata": {},
   "source": [
    "通过可变参数和关键字参数，任何函数都可以用 ```universal_func(*args, **kw)``` 表达。"
   ]
  },
  {
   "cell_type": "markdown",
   "metadata": {},
   "source": [
    "## Variables - Global variable 全局变量\n",
    "\n",
    "那如何在外部也能调用一个在局部里修改了的全局变量呢. 首先我们在外部定义一个全局变量 a=None, 然后再 fun() 中声明 这个 a 是来自外部的 a. 声明方式就是 global a. 然后对这个外部的 a 修改后, 修改的效果会被施加到外部的 a 上. 所以我们将能看到运行完 fun(), a 的值从 None 变成了 20."
   ]
  },
  {
   "cell_type": "code",
   "execution_count": 21,
   "metadata": {},
   "outputs": [
    {
     "name": "stdout",
     "output_type": "stream",
     "text": [
      "100\n",
      "a past: None\n",
      "a now: 20\n"
     ]
    }
   ],
   "source": [
    "APPLY = 100 # 全局变量\n",
    "a = None\n",
    "def fun():\n",
    "    global a    # 使用之前在全局里定义的 a\n",
    "    a = 20      # 现在的 a 是全局变量了\n",
    "    return a+100\n",
    "\n",
    "print(APPLY)    # 100\n",
    "print('a past:', a)  # None\n",
    "fun()\n",
    "print('a now:', a)   # 20"
   ]
  },
  {
   "cell_type": "markdown",
   "metadata": {},
   "source": [
    "## List\n",
    "\n",
    "### List 添加 \n",
    "列表是一系列有序的数列，有一系列自带的功能， 例如：\n",
    "```\n",
    "a = [1,2,3,4,1,1,-1]\n",
    "a.append(0)  # 在a的最后面追加一个0\n",
    "print(a)\n",
    "# [1, 2, 3, 4, 1, 1, -1, 0]\n",
    "```\n",
    "\n",
    "### 在指定的地方添加项：\n",
    "```\n",
    "a = [1,2,3,4,1,1,-1]\n",
    "a.insert(1,0) # 在位置1处添加0\n",
    "print(a)\n",
    "# [1, 0, 2, 3, 4, 1, 1, -1]\n",
    "```\n",
    "\n",
    "### List 移除 \n",
    "删除项：\n",
    "```\n",
    "a = [1,2,3,4,1,1,-1]\n",
    "a.remove(2) # 删除列表中第一个出现的值为2的项\n",
    "print(a)\n",
    "# [1, 3, 4, 1, 1, -1]\n",
    "```\n",
    "\n",
    "List 索引 \n",
    "显示特定位：\n",
    "\n",
    "a = [1,2,3,4,1,1,-1]\n",
    "print(a[0])  # 显示列表a的第0位的值\n",
    "# 1\n",
    "\n",
    "print(a[-1]) # 显示列表a的最末位的值\n",
    "# -1\n",
    "\n",
    "print(a[0:3]) # 显示列表a的从第0位 到 第2位(第3位之前) 的所有项的值\n",
    "# [1, 2, 3]\n",
    "\n",
    "print(a[5:])  # 显示列表a的第5位及以后的所有项的值\n",
    "# [1, -1]\n",
    "\n",
    "print(a[-3:]) # 显示列表a的倒数第3位及以后的所有项的值\n",
    "# [1, 1, -1]\n",
    "打印列表中的某个值的索引(index):\n",
    "\n",
    "a = [1,2,3,4,1,1,-1]\n",
    "print(a.index(2)) # 显示列表a中第一次出现的值为2的项的索引\n",
    "# 1\n",
    "统计列表中某值出现的次数：\n",
    "\n",
    "a = [4,1,2,3,4,1,1,-1]\n",
    "print(a.count(-1))\n",
    "# 1\n",
    "\n",
    " \n",
    "List 排序 \n",
    "对列表的项排序：\n",
    "\n",
    "a = [4,1,2,3,4,1,1,-1]\n",
    "a.sort() # 默认从小到大排序\n",
    "print(a)\n",
    "# [-1, 1, 1, 1, 2, 3, 4, 4]\n",
    "\n",
    "a.sort(reverse=True) # 从大到小排序\n",
    "print(a)\n",
    "# [4, 4, 3, 2, 1, 1, 1, -1]"
   ]
  },
  {
   "cell_type": "code",
   "execution_count": null,
   "metadata": {},
   "outputs": [],
   "source": []
  }
 ],
 "metadata": {
  "kernelspec": {
   "display_name": "Python 3",
   "language": "python",
   "name": "python3"
  },
  "language_info": {
   "codemirror_mode": {
    "name": "ipython",
    "version": 3
   },
   "file_extension": ".py",
   "mimetype": "text/x-python",
   "name": "python",
   "nbconvert_exporter": "python",
   "pygments_lexer": "ipython3",
   "version": "3.7.4"
  }
 },
 "nbformat": 4,
 "nbformat_minor": 4
}
