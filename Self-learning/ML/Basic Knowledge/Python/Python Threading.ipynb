{
 "cells": [
  {
   "cell_type": "markdown",
   "metadata": {},
   "source": [
    "<div style=\"text-align:right;\">Python Threading 多线程</div>\n",
    "<div style=\"text-align:right;\">Brickea with Material from Mofan Python</div>"
   ]
  },
  {
   "cell_type": "markdown",
   "metadata": {},
   "source": [
    "# Python Threading"
   ]
  },
  {
   "cell_type": "markdown",
   "metadata": {},
   "source": [
    "## Add thread"
   ]
  },
  {
   "cell_type": "code",
   "execution_count": 1,
   "metadata": {},
   "outputs": [],
   "source": [
    "import threading"
   ]
  },
  {
   "cell_type": "markdown",
   "metadata": {},
   "source": [
    "获取已激活的线程数"
   ]
  },
  {
   "cell_type": "code",
   "execution_count": 8,
   "metadata": {},
   "outputs": [
    {
     "data": {
      "text/plain": [
       "5"
      ]
     },
     "execution_count": 8,
     "metadata": {},
     "output_type": "execute_result"
    }
   ],
   "source": [
    "threading.active_count()"
   ]
  },
  {
   "cell_type": "markdown",
   "metadata": {},
   "source": [
    "查看所有线程信息\n",
    "\n",
    "输出的结果是一个<_MainThread(...)>带多个<Thread(...)>。"
   ]
  },
  {
   "cell_type": "code",
   "execution_count": 9,
   "metadata": {},
   "outputs": [
    {
     "data": {
      "text/plain": [
       "[<_MainThread(MainThread, started 4532633024)>,\n",
       " <Thread(Thread-2, started daemon 123145488060416)>,\n",
       " <Heartbeat(Thread-3, started daemon 123145493315584)>,\n",
       " <HistorySavingThread(IPythonHistorySavingThread, started 123145499643904)>,\n",
       " <ParentPollerUnix(Thread-1, started daemon 123145504899072)>]"
      ]
     },
     "execution_count": 9,
     "metadata": {},
     "output_type": "execute_result"
    }
   ],
   "source": [
    "threading.enumerate()"
   ]
  },
  {
   "cell_type": "markdown",
   "metadata": {},
   "source": [
    "查看现在正在运行的线程"
   ]
  },
  {
   "cell_type": "code",
   "execution_count": 10,
   "metadata": {},
   "outputs": [
    {
     "data": {
      "text/plain": [
       "<_MainThread(MainThread, started 4532633024)>"
      ]
     },
     "execution_count": 10,
     "metadata": {},
     "output_type": "execute_result"
    }
   ],
   "source": [
    "threading.current_thread()"
   ]
  },
  {
   "cell_type": "markdown",
   "metadata": {},
   "source": [
    "添加线程，threading.Thread()接收参数target代表这个线程要完成的任务，需自行定义"
   ]
  },
  {
   "cell_type": "code",
   "execution_count": 11,
   "metadata": {},
   "outputs": [
    {
     "name": "stdout",
     "output_type": "stream",
     "text": [
      "This is a thread of <Thread(Thread-5, started 123145510154240)>\n"
     ]
    }
   ],
   "source": [
    "def thread_job():\n",
    "    print('This is a thread of %s' % threading.current_thread())\n",
    "\n",
    "def main():\n",
    "    thread = threading.Thread(target=thread_job,)   # 定义线程 \n",
    "    thread.start()  # 让线程开始工作\n",
    "    \n",
    "if __name__ == '__main__':\n",
    "    main()"
   ]
  },
  {
   "cell_type": "code",
   "execution_count": 12,
   "metadata": {},
   "outputs": [
    {
     "data": {
      "text/plain": [
       "<_MainThread(MainThread, started 4532633024)>"
      ]
     },
     "execution_count": 12,
     "metadata": {},
     "output_type": "execute_result"
    }
   ],
   "source": [
    "threading.current_thread()"
   ]
  },
  {
   "cell_type": "code",
   "execution_count": 13,
   "metadata": {},
   "outputs": [
    {
     "data": {
      "text/plain": [
       "[<_MainThread(MainThread, started 4532633024)>,\n",
       " <Thread(Thread-2, started daemon 123145488060416)>,\n",
       " <Heartbeat(Thread-3, started daemon 123145493315584)>,\n",
       " <HistorySavingThread(IPythonHistorySavingThread, started 123145499643904)>,\n",
       " <ParentPollerUnix(Thread-1, started daemon 123145504899072)>]"
      ]
     },
     "execution_count": 13,
     "metadata": {},
     "output_type": "execute_result"
    }
   ],
   "source": [
    "threading.enumerate()"
   ]
  },
  {
   "cell_type": "markdown",
   "metadata": {},
   "source": [
    "## Join 功能"
   ]
  },
  {
   "cell_type": "markdown",
   "metadata": {},
   "source": [
    "### 不加 join() 的结果\n",
    "\n",
    "我们让 T1 线程工作的耗时增加."
   ]
  },
  {
   "cell_type": "code",
   "execution_count": 14,
   "metadata": {},
   "outputs": [
    {
     "name": "stdout",
     "output_type": "stream",
     "text": [
      "T1 start\n",
      "all done\n",
      "\n",
      "\n",
      "T1 finish\n",
      "\n"
     ]
    }
   ],
   "source": [
    "import threading\n",
    "import time\n",
    "\n",
    "def thread_job():\n",
    "    print(\"T1 start\\n\")\n",
    "    for i in range(10):\n",
    "        time.sleep(0.1) # 任务间隔0.1s\n",
    "    print(\"T1 finish\\n\")\n",
    "\n",
    "added_thread = threading.Thread(target=thread_job, name='T1')\n",
    "added_thread.start()\n",
    "print(\"all done\\n\")"
   ]
  },
  {
   "cell_type": "markdown",
   "metadata": {},
   "source": [
    "预想中输出的结果是否为：\n",
    "```\n",
    "T1 start\n",
    "T1 finish\n",
    "all done\n",
    "```"
   ]
  },
  {
   "cell_type": "markdown",
   "metadata": {},
   "source": [
    "### 加入 join() 的结果\n",
    "\n",
    "线程任务还未完成便输出all done。如果要遵循顺序，可以在启动线程后对它调用join"
   ]
  },
  {
   "cell_type": "code",
   "execution_count": 17,
   "metadata": {},
   "outputs": [
    {
     "name": "stdout",
     "output_type": "stream",
     "text": [
      "<Thread(T2, started 123145510154240)>\n",
      "end!\n",
      "all done\n",
      "\n"
     ]
    }
   ],
   "source": [
    "def job():\n",
    "    print(threading.current_thread())\n",
    "    for i in range(10):\n",
    "        time.sleep(0.1)\n",
    "    print(\"end!\")\n",
    "    \n",
    "added_thread = threading.Thread(target=job,name=\"T2\")\n",
    "added_thread.start()\n",
    "added_thread.join()\n",
    "print(\"all done\\n\")"
   ]
  },
  {
   "cell_type": "markdown",
   "metadata": {},
   "source": [
    "```python\n",
    "def T1_job():\n",
    "    print(\"T1 start\\n\")\n",
    "    for i in range(10):\n",
    "        time.sleep(0.1)\n",
    "    print(\"T1 finish\\n\")\n",
    "\n",
    "def T2_job():\n",
    "    print(\"T2 start\\n\")\n",
    "    print(\"T2 finish\\n\")\n",
    "\n",
    "thread_1 = threading.Thread(target=T1_job, name='T1')\n",
    "thread_2 = threading.Thread(target=T2_job, name='T2')\n",
    "thread_1.start() # 开启T1\n",
    "thread_2.start() # 开启T2\n",
    "print(\"all done\\n\")\n",
    "```\n",
    "输出的”一种”结果是：\n",
    "```\n",
    "T1 start\n",
    "T2 start\n",
    "T2 finish\n",
    "all done\n",
    "T1 finish\n",
    "```\n",
    "现在T1和T2都没有join，注意这里说”一种”是因为all done的出现完全取决于两个线程的执行速度， 完全有可能T2 finish出现在all done之后。这种杂乱的执行方式是我们不能忍受的，因此要使用join加以控制。\n",
    "\n",
    "我们试试在T1启动后，T2启动前加上thread_1.join():\n",
    "```python\n",
    "thread_1.start()\n",
    "thread_1.join() # notice the difference!\n",
    "thread_2.start()\n",
    "print(\"all done\\n\")\n",
    "```\n",
    "输出结果：\n",
    "```\n",
    "T1 start\n",
    "T1 finish\n",
    "T2 start\n",
    "all done\n",
    "T2 finish\n",
    "```\n",
    "可以看到，T2会等待T1结束后才开始运行。\n",
    "\n",
    "如果我们在T2启动后放上thread_1.join()会怎么样呢？\n",
    "```python\n",
    "thread_1.start()\n",
    "thread_2.start()\n",
    "thread_1.join() # notice the difference!\n",
    "print(\"all done\\n\")\n",
    "```\n",
    "输出结果：\n",
    "```\n",
    "T1 start\n",
    "T2 start\n",
    "T2 finish\n",
    "T1 finish\n",
    "all done\n",
    "```\n",
    "T2在T1之后启动，并且因为T2任务量小会在T1之前完成；而T1也因为加了join，all done在它完成后才显示。\n",
    "\n",
    "你也可以添加thread_2.join()进行尝试，但为了规避不必要的麻烦，推荐如下这种1221的V型排布：\n",
    "```python\n",
    "thread_1.start() # start T1\n",
    "thread_2.start() # start T2\n",
    "thread_2.join() # join for T2\n",
    "thread_1.join() # join for T1\n",
    "print(\"all done\\n\")\n",
    "\n",
    "\"\"\"\n",
    "T1 start\n",
    "T2 start\n",
    "T2 finish\n",
    "T1 finish\n",
    "all done\n",
    "\"\"\"\n",
    "```"
   ]
  },
  {
   "cell_type": "markdown",
   "metadata": {},
   "source": [
    "## 练习 - Threading\n",
    "\n",
    "代码实现功能，将数据列表中的数据传入，使用四个线程处理，将结果保存在Queue中，线程执行完后，从Queue中获取存储的结果\n",
    "\n",
    "Tips: 线程调用的函数不能有return， 所以用queue来存储"
   ]
  },
  {
   "cell_type": "code",
   "execution_count": 52,
   "metadata": {},
   "outputs": [
    {
     "name": "stdout",
     "output_type": "stream",
     "text": [
      "[1, 4, 9]\n",
      "[9, 16, 25]\n",
      "[16, 16, 16]\n",
      "[25, 25, 25]\n"
     ]
    }
   ],
   "source": [
    "def job(l,q):\n",
    "    for i in range (len(l)):\n",
    "        l[i] = l[i]**2\n",
    "    q.put(l)\n",
    "\n",
    "def multithreading():\n",
    "    q =Queue()\n",
    "    threads = []\n",
    "    data = [[1,2,3],[3,4,5],[4,4,4],[5,5,5]]\n",
    "    \n",
    "    for i in range(4):\n",
    "        t = threading.Thread(target=job,args=(data[i],q))\n",
    "        t.start()\n",
    "        threads.append(t)\n",
    "    for thread in threads:\n",
    "        thread.join()\n",
    "    for _ in range(q.qsize()):\n",
    "        print(q.get())\n",
    "\n",
    "if __name__=='__main__':\n",
    "    multithreading()"
   ]
  },
  {
   "cell_type": "markdown",
   "metadata": {},
   "source": [
    "## GIL - Python 多线程不一定有效"
   ]
  },
  {
   "cell_type": "markdown",
   "metadata": {},
   "source": [
    "这次我们来看看为什么说 python 的多线程 threading 有时候并不是特别理想. 最主要的原因是就是, Python 的设计上, 有一个必要的环节, 就是 Global Interpreter Lock (GIL). 这个东西让 Python 还是一次性只能处理一个东西.\n",
    "\n",
    "我从这里摘抄了一段对于 GIL 的解释.\n",
    "\n",
    "   > 尽管Python完全支持多线程编程， 但是解释器的C语言实现部分在完全并行执行时并不是线程安全的。 实际上，解释器被一个全局解释器锁保护着，它确保任何时候都只有一个Python线程执行。 GIL最大的问题就是Python的多线程程序并不能利用多核CPU的优势 （比如一个使用了多个线程的计算密集型程序只会在一个单CPU上面运行）。\n",
    "\n",
    "在讨论普通的GIL之前，有一点要强调的是GIL只会影响到那些严重依赖CPU的程序（比如计算型的）。 如果你的程序大部分只会涉及到I/O，比如网络交互，那么使用多线程就很合适， 因为它们大部分时间都在等待。实际上，你完全可以放心的创建几千个Python线程， 现代操作系统运行这么多线程没有任何压力，没啥可担心的。"
   ]
  },
  {
   "cell_type": "markdown",
   "metadata": {},
   "source": [
    "### 测试 GIL \n",
    "\n",
    "我们创建一个 job, 分别用 threading 和 一般的方式执行这段程序. 并且创建一个 list 来存放我们要处理的数据. 在 Normal 的时候, 我们这个 list 扩展4倍, 在 threading 的时候, 我们建立4个线程, 并对运行时间进行对比."
   ]
  },
  {
   "cell_type": "code",
   "execution_count": 56,
   "metadata": {},
   "outputs": [
    {
     "name": "stdout",
     "output_type": "stream",
     "text": [
      "1999998000000\n",
      "0.06116294860839844\n",
      "1999998000000\n",
      "0.061856985092163086\n"
     ]
    }
   ],
   "source": [
    "import time\n",
    "import copy\n",
    "def job(l,q):\n",
    "    res = sum(l)\n",
    "    q.put(res)\n",
    "    \n",
    "def multithreads(l):\n",
    "    q = Queue()\n",
    "    threads = []\n",
    "    for i in range(4):\n",
    "        temp = threading.Thread(target=job,args=(copy.copy(l),q),name='T%i'% i)\n",
    "        temp.start()\n",
    "        threads.append(temp)\n",
    "    [thread.join() for thread in threads]\n",
    "    total = 0\n",
    "    for i in range(q.qsize()):\n",
    "        total += q.get()\n",
    "    print(total)\n",
    "\n",
    "def normal(l):\n",
    "    print(sum(l))\n",
    "\n",
    "if __name__ == '__main__':\n",
    "    l = list(range(1000000))\n",
    "    s_t = time.time()\n",
    "    multithreads(l)\n",
    "    print(time.time() - s_t)\n",
    "    \n",
    "    s_t = time.time()\n",
    "    normal(l*4)\n",
    "    print(time.time() - s_t)"
   ]
  },
  {
   "cell_type": "markdown",
   "metadata": {},
   "source": [
    "我们的运算结果没错, 所以程序 threading 和 Normal 运行了一样多次的运算. 但是我们发现 threading 却没有快多少, 按理来说, 我们预期会要快3-4倍, 因为有建立4个线程, 但是并没有. 这就是其中的 GIL 在作怪."
   ]
  },
  {
   "cell_type": "markdown",
   "metadata": {},
   "source": [
    "## Lock - 进程锁\n",
    "\n"
   ]
  },
  {
   "cell_type": "markdown",
   "metadata": {},
   "source": [
    "不使用 Lock 的情况 ¶"
   ]
  },
  {
   "cell_type": "code",
   "execution_count": 65,
   "metadata": {},
   "outputs": [],
   "source": [
    "def job1():\n",
    "    global A\n",
    "    for i in range(10):\n",
    "        print('job1 ',A)\n",
    "        A+=1\n",
    "\n",
    "def job2():\n",
    "    global A\n",
    "    for i in range(10):\n",
    "        print('job2 ',A)\n",
    "        A+=10"
   ]
  },
  {
   "cell_type": "code",
   "execution_count": 66,
   "metadata": {},
   "outputs": [
    {
     "name": "stdout",
     "output_type": "stream",
     "text": [
      "job1  0\n",
      "job1  1\n",
      "job1  2\n",
      "job1  3\n",
      "job1  4\n",
      "job2  4\n",
      "job2  14job1  15\n",
      "job1  16\n",
      "job1  17\n",
      "job1  18\n",
      "job1  19\n",
      "\n",
      "job2  30\n",
      "job2  40\n",
      "job2  50\n",
      "job2  60\n",
      "job2  70\n",
      "job2  80\n",
      "job2  90\n",
      "job2  100\n"
     ]
    }
   ],
   "source": [
    "if __name__ == '__main__':\n",
    "    A = 0\n",
    "    thread1 = threading.Thread(target=job1)\n",
    "    thread2 = threading.Thread(target=job2)\n",
    "\n",
    "    thread1.start()\n",
    "    thread2.start()\n",
    "\n",
    "    thread1.join()\n",
    "    thread2.join()"
   ]
  },
  {
   "cell_type": "markdown",
   "metadata": {},
   "source": [
    "使用 Lock 的情况 \n",
    "lock在不同线程使用同一共享内存时，能够确保线程之间互不影响，使用lock的方法是， 在每个线程执行运算修改共享内存之前，执行lock.acquire()将共享内存上锁， 确保当前线程执行时，内存不会被其他线程访问，执行运算完毕后，使用lock.release()将锁打开， 保证其他的线程可以使用该共享内存。\n",
    "\n",
    "函数一和函数二加锁"
   ]
  },
  {
   "cell_type": "code",
   "execution_count": 67,
   "metadata": {},
   "outputs": [],
   "source": [
    "def job1():\n",
    "    global A,L\n",
    "    L.acquire()\n",
    "    for i in range(10):\n",
    "        print('job1 ',A)\n",
    "        A+=1\n",
    "    L.release()\n",
    "\n",
    "def job2():\n",
    "    global A,L\n",
    "    L.acquire()\n",
    "    for i in range(10):\n",
    "        print('job2 ',A)\n",
    "        A+=10\n",
    "    L.release()"
   ]
  },
  {
   "cell_type": "code",
   "execution_count": 68,
   "metadata": {},
   "outputs": [
    {
     "name": "stdout",
     "output_type": "stream",
     "text": [
      "job1  0\n",
      "job1  1\n",
      "job1  2\n",
      "job1  3\n",
      "job1  4\n",
      "job1  5\n",
      "job1  6\n",
      "job1  7\n",
      "job1  8\n",
      "job1  9\n",
      "job2  10\n",
      "job2  20\n",
      "job2  30\n",
      "job2  40\n",
      "job2  50\n",
      "job2  60\n",
      "job2  70\n",
      "job2  80\n",
      "job2  90\n",
      "job2  100\n"
     ]
    }
   ],
   "source": [
    "if __name__ == '__main__':\n",
    "    A = 0\n",
    "    L = threading.Lock()\n",
    "    thread1 = threading.Thread(target=job1)\n",
    "    thread2 = threading.Thread(target=job2)\n",
    "\n",
    "    thread1.start()\n",
    "    thread2.start()\n",
    "\n",
    "    thread1.join()\n",
    "    thread2.join()"
   ]
  }
 ],
 "metadata": {
  "kernelspec": {
   "display_name": "Python 3",
   "language": "python",
   "name": "python3"
  },
  "language_info": {
   "codemirror_mode": {
    "name": "ipython",
    "version": 3
   },
   "file_extension": ".py",
   "mimetype": "text/x-python",
   "name": "python",
   "nbconvert_exporter": "python",
   "pygments_lexer": "ipython3",
   "version": "3.7.4"
  }
 },
 "nbformat": 4,
 "nbformat_minor": 4
}
