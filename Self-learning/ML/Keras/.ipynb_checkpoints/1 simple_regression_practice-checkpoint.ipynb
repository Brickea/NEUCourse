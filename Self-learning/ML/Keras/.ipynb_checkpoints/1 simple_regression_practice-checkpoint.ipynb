{
 "cells": [
  {
   "cell_type": "markdown",
   "metadata": {},
   "source": [
    "<div style=\"text-align:right;\">Regression by using Keras</div>\n",
    "<div style=\"text-align:right;\">Brickea with material from mofan python</div>"
   ]
  },
  {
   "cell_type": "markdown",
   "metadata": {},
   "source": [
    "# Regressor 回归问题"
   ]
  },
  {
   "cell_type": "markdown",
   "metadata": {},
   "source": [
    "## Generate data"
   ]
  },
  {
   "cell_type": "code",
   "execution_count": 21,
   "metadata": {},
   "outputs": [],
   "source": [
    "import numpy as np\n",
    "from matplotlib import pyplot as plt"
   ]
  },
  {
   "cell_type": "code",
   "execution_count": 16,
   "metadata": {},
   "outputs": [],
   "source": [
    "# Make sure result is same for every time\n",
    "np.random.seed(120)"
   ]
  },
  {
   "cell_type": "code",
   "execution_count": 37,
   "metadata": {},
   "outputs": [
    {
     "data": {
      "text/plain": [
       "<matplotlib.collections.PathCollection at 0x636a390d0>"
      ]
     },
     "execution_count": 37,
     "metadata": {},
     "output_type": "execute_result"
    },
    {
     "data": {
      "image/png": "[encoded data removed]",
      "text/plain": [
       "<Figure size 432x288 with 1 Axes>"
      ]
     },
     "metadata": {
      "needs_background": "light"
     },
     "output_type": "display_data"
    }
   ],
   "source": [
    "X = np.linspace(-1,1,200)\n",
    "\n",
    "# Randomlize the data\n",
    "np.random.shuffle(X)\n",
    "y = 0.5 * X + 3 + np.random.normal(loc=0,scale=0.05,size=(200,))\n",
    "# Plot the data\n",
    "plt.scatter(X,y)"
   ]
  },
  {
   "cell_type": "markdown",
   "metadata": {},
   "source": [
    "## Divide data into training data and test data"
   ]
  },
  {
   "cell_type": "code",
   "execution_count": 41,
   "metadata": {},
   "outputs": [],
   "source": [
    "train_X ,train_y = (X[:160],y[:160])\n",
    "test_X, test_y = (X[160:],y[160:])"
   ]
  },
  {
   "cell_type": "markdown",
   "metadata": {},
   "source": [
    "## Create Model\n",
    "models.Sequential，用来一层一层一层的去建立神经层； layers.Dense 意思是这个神经层是全连接层。"
   ]
  },
  {
   "cell_type": "code",
   "execution_count": 15,
   "metadata": {},
   "outputs": [],
   "source": [
    "import tensorflow as tf\n",
    "from tensorflow import keras\n",
    "from keras.layers import Dense\n",
    "from keras import Sequential"
   ]
  },
  {
   "cell_type": "markdown",
   "metadata": {},
   "source": [
    "然后用 Sequential 建立 model， 再用 model.add 添加神经层，添加的是 Dense 全连接神经层。\n",
    "\n",
    "参数有两个，一个是输入数据和输出数据的维度，本代码的例子中 x 和 y 是一维的。\n",
    "\n",
    "如果需要添加下一个神经层的时候，不用再定义输入的纬度，因为它默认就把前一层的输出作为当前层的输入。在这个例子里，只需要一层就够了。"
   ]
  },
  {
   "cell_type": "code",
   "execution_count": 43,
   "metadata": {},
   "outputs": [
    {
     "name": "stderr",
     "output_type": "stream",
     "text": [
      "/Users/brickeawang/opt/anaconda3/lib/python3.7/site-packages/ipykernel_launcher.py:2: UserWarning: Update your `Dense` call to the Keras 2 API: `Dense(input_dim=1, units=1)`\n",
      "  \n"
     ]
    }
   ],
   "source": [
    "regression_model = Sequential()\n",
    "regression_model.add(Dense(input_dim=1,output_dim=1))"
   ]
  },
  {
   "cell_type": "markdown",
   "metadata": {},
   "source": [
    "## Activate Model\n",
    "\n",
    "接下来要激活神经网络，上一步只是定义模型。\n",
    "\n",
    "参数中，误差函数用的是 mse 均方误差；优化器用的是 sgd 随机梯度下降法。"
   ]
  },
  {
   "cell_type": "code",
   "execution_count": 45,
   "metadata": {},
   "outputs": [],
   "source": [
    "# Choose optimizer and loss function\n",
    "regression_model.compile(loss=\"mse\",optimizer=\"sgd\")"
   ]
  },
  {
   "cell_type": "markdown",
   "metadata": {},
   "source": [
    "## Train Model"
   ]
  },
  {
   "cell_type": "code",
   "execution_count": 53,
   "metadata": {},
   "outputs": [
    {
     "name": "stdout",
     "output_type": "stream",
     "text": [
      "Training------------------\n",
      "current:1 0.002915\n",
      "current:51 0.002684\n",
      "current:101 0.002565\n",
      "current:151 0.002505\n",
      "current:201 0.002474\n",
      "current:251 0.002458\n"
     ]
    }
   ],
   "source": [
    "train_times = 300\n",
    "print(\"Training------------------\")\n",
    "for i in range(train_times):\n",
    "    cost = regression_model.train_on_batch(train_X,train_y)\n",
    "    if i % 50 == 0:\n",
    "        print(\"current:%s %f\"% (i+1,grade))"
   ]
  },
  {
   "cell_type": "markdown",
   "metadata": {},
   "source": [
    "## Test Model\n",
    "\n",
    "用到的函数是 model.evaluate，输入测试集的x和y， \n",
    "\n",
    "输出 cost，weights 和 biases。\n",
    "\n",
    "其中 weights 和 biases 是取在模型的第一层 model.layers[0] 学习到的参数。\n",
    "\n",
    "从学习到的结果你可以看到, weights 比较接近0.5，bias 接近 2。"
   ]
  },
  {
   "cell_type": "code",
   "execution_count": null,
   "metadata": {},
   "outputs": [],
   "source": []
  }
 ],
 "metadata": {
  "kernelspec": {
   "display_name": "Python 3",
   "language": "python",
   "name": "python3"
  },
  "language_info": {
   "codemirror_mode": {
    "name": "ipython",
    "version": 3
   },
   "file_extension": ".py",
   "mimetype": "text/x-python",
   "name": "python",
   "nbconvert_exporter": "python",
   "pygments_lexer": "ipython3",
   "version": "3.7.4"
  }
 },
 "nbformat": 4,
 "nbformat_minor": 4
}
